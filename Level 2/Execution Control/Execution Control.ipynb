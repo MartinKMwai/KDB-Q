{
 "cells": [
  {
   "cell_type": "code",
   "execution_count": 1,
   "metadata": {
    "autorun": true,
    "editable": false,
    "jupyter": {
     "source_hidden": true
    },
    "tags": [
     "remove-cell"
    ]
   },
   "outputs": [],
   "source": [
    "#;.pykx.disableJupyter()"
   ]
  },
  {
   "cell_type": "code",
   "execution_count": 2,
   "metadata": {
    "autorun": true,
    "editable": false,
    "jupyter": {
     "source_hidden": true
    },
    "tags": [
     "remove-cell"
    ]
   },
   "outputs": [
    {
     "name": "stdout",
     "output_type": "stream",
     "text": [
      "PyKX now running in 'jupyter_qfirst' mode. All cells by default will be run as q code. \n",
      "Include '%%py' at the beginning of each cell to run as python code. \n"
     ]
    }
   ],
   "source": [
    "# https://code.kx.com/pykx/3.0/examples/jupyter-integration.html#q-first-mode\n",
    "import pykx as kx\n",
    "kx.util.jupyter_qfirst_enable()"
   ]
  },
  {
   "cell_type": "markdown",
   "metadata": {
    "jp-MarkdownHeadingCollapsed": true
   },
   "source": [
    "# Execution Control \n",
    "\n",
    "**Learning Outcomes**\n",
    "\n",
    "To understand:\n",
    "\n",
    "* Signaling Errors \n",
    "* The conditional `if`\n",
    "* Atomic conditional evaluation \n",
    "* Vector conditional evaluation\n",
    "* Protected evaluation\n",
    "* Other useful control statements"
   ]
  },
  {
   "cell_type": "markdown",
   "metadata": {
    "jp-MarkdownHeadingCollapsed": true
   },
   "source": [
    "# Introduction\n",
    "\n",
    "Execution control is used when we want to evaluate expressions only if a certain criterion is met. In this section, we will focus on how to apply execution control and when to use it. "
   ]
  },
  {
   "cell_type": "code",
   "execution_count": 9,
   "metadata": {},
   "outputs": [
    {
     "name": "stdout",
     "output_type": "stream",
     "text": [
      "False\n",
      "True\n"
     ]
    }
   ],
   "source": [
    "stringMe:{[input] if[input = 0; :\"False\"] \"True\"}\n",
    "stringMe 0\n",
    "stringMe 1"
   ]
  },
  {
   "cell_type": "markdown",
   "metadata": {
    "jp-MarkdownHeadingCollapsed": true
   },
   "source": [
    "# Signaling Errors \n",
    "Before discussing any further, it's important to know how to return a custom error from within a function. "
   ]
  },
  {
   "cell_type": "code",
   "execution_count": null,
   "metadata": {},
   "outputs": [],
   "source": [
    "{[] a:10; b: `this; a+b }[] //this will throw a type error "
   ]
  },
  {
   "cell_type": "markdown",
   "metadata": {},
   "source": [
    "If we want to raise our own custom error message during execution we can use `'`, known as [signal](https://code.kx.com/q/ref/signal/):\n"
   ]
  },
  {
   "cell_type": "code",
   "execution_count": 11,
   "metadata": {},
   "outputs": [],
   "source": [
    "//{[]a:10;b:`this; '\"Out of cereal - send help!\"; a+b }[]  //this error is thrown before we reach the type error "
   ]
  },
  {
   "cell_type": "markdown",
   "metadata": {},
   "source": [
    "Statements after an error is encountered in a function or script are not executed. "
   ]
  },
  {
   "cell_type": "markdown",
   "metadata": {
    "jp-MarkdownHeadingCollapsed": true
   },
   "source": [
    "# The Conditional `if`\n",
    "\n",
    "The conditional `if` first performs a check to see whether a given condition is true or false - depending on which, it will take the following actions:\n",
    "* if the statement is true: execute all subsequent statements\n",
    "* if the statement is false: do not evaluate the subsequent statements and continue to the next q expression.\n",
    "\n",
    "Let's start with a simple example - instead of providing a conditional statement to be evaluated, we can just use `1b` to have our `if` evaluate the subsequent statements"
   ]
  },
  {
   "cell_type": "code",
   "execution_count": 4,
   "metadata": {},
   "outputs": [
    {
     "name": "stdout",
     "output_type": "stream",
     "text": [
      "11\n",
      "20\n"
     ]
    }
   ],
   "source": [
    "a:10    // initialize two sample variables\n",
    "b:20\n",
    "if[1b;a:a+1]    // condition is true, execute all subsequent statements\n",
    "if[0b;b:b+1]\n",
    "a   //incremented by if\n",
    "b   //not changed as the condition wasn't met "
   ]
  },
  {
   "cell_type": "markdown",
   "metadata": {},
   "source": [
    "The `if` function can take many expressions to be evaluated in the event that the condition is met: "
   ]
  },
  {
   "cell_type": "code",
   "execution_count": 14,
   "metadata": {},
   "outputs": [
    {
     "name": "stdout",
     "output_type": "stream",
     "text": [
      "11\n",
      "Evaluating within the if ... Complete\n"
     ]
    }
   ],
   "source": [
    "x:10;\n",
    "if[.z.t < 12:00:00 ;1\"Evaluating within the if ... \"; \n",
    "        x:x+1; //incrementing x \n",
    "        y:10; //defining new variable y \n",
    "        -1\"Complete\";\n",
    "        y]    //note there is no value returned from an if!\n",
    "\n",
    "x //checking if x is incrementing "
   ]
  },
  {
   "cell_type": "markdown",
   "metadata": {},
   "source": [
    "There is one way in which you can return from within an `if` statement and that is to use the force return `:` that we have encountered previously: "
   ]
  },
  {
   "cell_type": "code",
   "execution_count": 15,
   "metadata": {},
   "outputs": [
    {
     "name": "stdout",
     "output_type": "stream",
     "text": [
      "10\n"
     ]
    }
   ],
   "source": [
    "x:10;\n",
    "if[.z.t > 12:00:00 ;1\"Evaluating within the if ... \"; \n",
    "        :.z.t; //return the time - subsequent statements not evaluated \n",
    "        x+:1; //incrementing x \n",
    "        y:10; //defining new variable y \n",
    "        -1\"Complete\";\n",
    "        y]\n",
    "x"
   ]
  },
  {
   "cell_type": "markdown",
   "metadata": {},
   "source": [
    "Whoops! Looks like that didn't work as we expected! That's right - force return only \"makes sense\" within a function, so wrapping this into a function: \n"
   ]
  },
  {
   "cell_type": "code",
   "execution_count": 19,
   "metadata": {},
   "outputs": [
    {
     "name": "stdout",
     "output_type": "stream",
     "text": [
      "HI THERE\n",
      "10\n"
     ]
    }
   ],
   "source": [
    "x:10;\n",
    "{[]if[.z.t > 12:00:00 ;1\"Evaluating within the if ... \"; \n",
    "        :.z.t; //return the time - subsequent statements not evaluated \n",
    "        x+:1; //incrementing x \n",
    "        y:10; //defining new variable y \n",
    "        -1\"Complete\";\n",
    "        y] \"HI THERE\"}[]\n",
    "x  // not updated as other expression not evaluated after the force return"
   ]
  },
  {
   "cell_type": "markdown",
   "metadata": {},
   "source": [
    "##### Typical usage \n",
    "In terms of where `if` is used, it is often included at the beginning of functions and scripts to check that the input passed is of the correct format. \n",
    "\n",
    "If the format of a variable is not right, we might do any of the following: \n",
    "* Write to stderr and exit the process early (within script execution)\n",
    "* Write to stderr and/or throw an error within a function\n",
    "* Write to stdout and assign the value to a pre-determined default\n",
    "\n",
    "Here's an example: "
   ]
  },
  {
   "cell_type": "code",
   "execution_count": null,
   "metadata": {},
   "outputs": [],
   "source": [
    "var1:`a\n",
    "if[not -19h=type var1;\n",
    "    -2 \"Error: Variable var1 input not of type: 19h\";  //writing to stderr\n",
    "    /exit 1]   //within a script, we might exit early after throwing the error\n",
    "    /'\"Inappropriate value passed for var1 - expected input time, got type:\", string type var1;  //custom error\n",
    "    -1 \"Variable var1 not of the right type, defaulting to the current time:\", string t:.z.t;\n",
    "    var1:t]\n",
    "var1"
   ]
  },
  {
   "cell_type": "markdown",
   "metadata": {},
   "source": [
    " ##### Why exit early? \n",
    "In the below example, we perform mathematical operations on our input: "
   ]
  },
  {
   "cell_type": "code",
   "execution_count": 20,
   "metadata": {},
   "outputs": [
    {
     "name": "stdout",
     "output_type": "stream",
     "text": [
      "50 41296\n",
      "9 24912\n",
      "1b\n"
     ]
    }
   ],
   "source": [
    "f:{[num] n:num*200f; \n",
    "        n:n%20;\n",
    "        n:xexp[n;2];  //xexp can be an expensive operation \n",
    "        n:n*til count n;\n",
    "        (),n}\n",
    "\n",
    "f2:{[num] n:num*200f; \n",
    "        if[all n=0; :(),n];  //exiting execution early if our input is all zero\n",
    "        n:n%20;  0N! n; \n",
    "        n:xexp[n;2];\n",
    "        n:n*til count n;\n",
    "        (),n}\n",
    "\n",
    "\\ts:2000 f[1000#0]   //without early return\n",
    "\\ts:2000 f2[1000#0]  //with early return\n",
    "f2[1000#0]~f[1000#0] //output the same, even with early exit - important to ensure output types are consistent"
   ]
  },
  {
   "cell_type": "markdown",
   "metadata": {
    "reveal": "hfcdj0lqdtp",
    "reveal-hidden": true
   },
   "source": [
    "##### Exercise\n",
    "Define a variable `r` to be 100 and `ans` to be an empty string. Write an `if` statement to say if `r` is greater than 85, then add 10 to `r`, and change `ans` to say \"high\"."
   ]
  },
  {
   "cell_type": "code",
   "execution_count": null,
   "metadata": {
    "reveal": "hfcdj0lqdtp"
   },
   "outputs": [],
   "source": [
    "show r:100  //setting variable\n",
    "show ans:\"\"\n",
    "if[r>85;r+:10;ans:\"high\"]\n",
    "r\n",
    "ans"
   ]
  },
  {
   "cell_type": "code",
   "execution_count": 27,
   "metadata": {},
   "outputs": [
    {
     "name": "stdout",
     "output_type": "stream",
     "text": [
      "110\n",
      "high\n"
     ]
    }
   ],
   "source": [
    "// Write your code here\n",
    "r:100\n",
    "ans:\" \"\n",
    "if[r>85; r:r+10; ans:\"high\"]\n",
    "r\n",
    "ans\n"
   ]
  },
  {
   "cell_type": "markdown",
   "metadata": {},
   "source": [
    "# Atomic Conditional Evaluation\n",
    "For conditional evaluation in kdb+/q,  we use different keywords depending on whether we are dealing with an atomic or vector input - we'll see that the atomic version can serve as either a simple 'if-else' (as can the vector) but also it can be extended to deal with multiple else conditions. "
   ]
  },
  {
   "cell_type": "markdown",
   "metadata": {},
   "source": [
    "## If-else\n",
    "\n",
    "An [if-else](https://code.kx.com/q/ref/cond/) is similar to `if`, but instead of only executing when the condition is true, an if-else allows us to specify expressions to be executed when the condition is false (`0b`) also. Unlike `if`, it will return a value."
   ]
  },
  {
   "cell_type": "markdown",
   "metadata": {},
   "source": [
    "Below we will look at a simple example of how to convert a string to capital letters if the condition is true."
   ]
  },
  {
   "cell_type": "code",
   "execution_count": 34,
   "metadata": {},
   "outputs": [
    {
     "name": "stdout",
     "output_type": "stream",
     "text": [
      "HEY\n",
      "hey\n"
     ]
    }
   ],
   "source": [
    "$[1b;upper string `hey;string `hey] //if[condition;ifTrueStatement;ifFalseStatement]\n",
    "$[0b;upper \"hey\";\"hey\"]"
   ]
  },
  {
   "cell_type": "markdown",
   "metadata": {},
   "source": [
    "We can generalise the above example by creating a function that relies on a global context setting (the value of `CAPS_ON`) and returns a string of the passed datatype, either capitalized or not, depending on the setting."
   ]
  },
  {
   "cell_type": "code",
   "execution_count": 35,
   "metadata": {},
   "outputs": [
    {
     "name": "stdout",
     "output_type": "stream",
     "text": [
      "hey\n"
     ]
    }
   ],
   "source": [
    "CAPS_ON:0b                                  // declare a global \"setting\"\n",
    "toString:{ if[not 10h=type x; x:string x];  // first check the type \n",
    "            $[CAPS_ON;upper x;x]}           // note the boolean value itself is enough, we don't need a statement\n",
    "toString`hey"
   ]
  },
  {
   "cell_type": "code",
   "execution_count": 36,
   "metadata": {},
   "outputs": [
    {
     "name": "stdout",
     "output_type": "stream",
     "text": [
      "HEY\n"
     ]
    }
   ],
   "source": [
    "CAPS_ON:1b                                        // change setting\n",
    "toString`hey"
   ]
  },
  {
   "cell_type": "markdown",
   "metadata": {},
   "source": [
    "We can use any condition that evaluates to a boolean in our conditional statement:"
   ]
  },
  {
   "cell_type": "code",
   "execution_count": 37,
   "metadata": {},
   "outputs": [
    {
     "name": "stdout",
     "output_type": "stream",
     "text": [
      "outside range\n",
      "within range\n"
     ]
    }
   ],
   "source": [
    "f:{[val] r:$[val within 20 30 ;   //specifying the range between 20-30 so we can check if a value is inside/outside \n",
    "    \"within\";\n",
    "    \"outside\"];\n",
    "        r,\" range\"}\n",
    "f[50]\n",
    "f[25]"
   ]
  },
  {
   "cell_type": "markdown",
   "metadata": {},
   "source": [
    "If we have multiple expressions we want to evaluate, we can do so by wrapping the expression in square brackets - `[]`.  "
   ]
  },
  {
   "cell_type": "code",
   "execution_count": 5,
   "metadata": {},
   "outputs": [
    {
     "name": "stdout",
     "output_type": "stream",
     "text": [
      "1\n",
      "Go Shopping!!!"
     ]
    }
   ],
   "source": [
    "balance: 19.32  //bank account balance \n",
    "beFrugal: $[balance < 10 ;  //if balance getting low \n",
    "            [2 \"Under 10.00 in bank - transfer money stat!\"];\n",
    "            [1 \"Go Shopping!!!\"]]\n",
    "beFrugal  //value has been assigned by final expression outputs"
   ]
  },
  {
   "cell_type": "markdown",
   "metadata": {
    "reveal": "t1bdrm3odop",
    "reveal-hidden": true
   },
   "source": [
    "#### What changes if we have a balance of `19.32`? What value does `beFrugal` have in that case? "
   ]
  },
  {
   "cell_type": "code",
   "execution_count": null,
   "metadata": {
    "reveal": "t1bdrm3odop"
   },
   "outputs": [],
   "source": [
    "balance: 19.32  //changing bank account balance \n",
    "beFrugal: $[balance < 10 ;  //reasigning beFrugal \n",
    "            [2 \"Under 10.00 in bank - transfer money stat!\";1b];\n",
    "            [1 \"Go Shopping!!!\";0b;]]\n",
    "beFrugal  //Doesn't return 0b because of semicolon - LET'S GO SHOPPING"
   ]
  },
  {
   "cell_type": "markdown",
   "metadata": {},
   "source": [
    "##### Comparison tests can be applied to any datatype\n",
    "\n",
    "Any type that is a whole number (e.g. int, short, long), byte, or is a whole number underneath (e.g. time, timestamp) can be used in boolean checks. "
   ]
  },
  {
   "cell_type": "code",
   "execution_count": 7,
   "metadata": {},
   "outputs": [
    {
     "name": "stdout",
     "output_type": "stream",
     "text": [
      "midnight\n",
      "2000.01.01D00:00:00.000000000\n"
     ]
    }
   ],
   "source": [
    "show time:0p\n",
    "$[time;`after_midnight;`midnight]"
   ]
  },
  {
   "cell_type": "code",
   "execution_count": 8,
   "metadata": {},
   "outputs": [
    {
     "name": "stdout",
     "output_type": "stream",
     "text": [
      "after_midnight\n",
      "2000.01.01D00:00:00.000000001\n"
     ]
    }
   ],
   "source": [
    "show time:time+1\n",
    "$[time;`after_midnight;`midnight]"
   ]
  },
  {
   "cell_type": "markdown",
   "metadata": {
    "reveal": "u7rxwsimzp",
    "reveal-hidden": false
   },
   "source": [
    "##### Exercise\n",
    "\n",
    "Create a function `chocPrices` that takes a symbol as an input. If the symbol is `mars` It should return the price for a Mars chocolate bar which is 2.5. \n",
    "\n",
    "If you give the function any other symbol, then it prints \"Why bother?!\" to standard error and returns 0. "
   ]
  },
  {
   "cell_type": "code",
   "execution_count": 15,
   "metadata": {
    "reveal": "u7rxwsimzp"
   },
   "outputs": [
    {
     "name": "stdout",
     "output_type": "stream",
     "text": [
      "2.5\n"
     ]
    }
   ],
   "source": [
    "chocPrices:{$[x~`mars;2.5;[-2 \"Why bother?!\"; 0]]}\n",
    "chocPrices `mars"
   ]
  },
  {
   "cell_type": "code",
   "execution_count": 16,
   "metadata": {
    "reveal": "u7rxwsimzp"
   },
   "outputs": [
    {
     "name": "stdout",
     "output_type": "stream",
     "text": [
      "0\n"
     ]
    },
    {
     "name": "stderr",
     "output_type": "stream",
     "text": [
      "Why bother?!\n"
     ]
    }
   ],
   "source": [
    "chocPrices `twix"
   ]
  },
  {
   "cell_type": "code",
   "execution_count": 24,
   "metadata": {
    "scrolled": true
   },
   "outputs": [
    {
     "name": "stdout",
     "output_type": "stream",
     "text": [
      "0\n"
     ]
    },
    {
     "name": "stderr",
     "output_type": "stream",
     "text": [
      "Why bother\n"
     ]
    }
   ],
   "source": [
    "//write your function here\n",
    "chocPrices:{[input]\n",
    "            $[input = `mars;2.5; [-2\"Why bother\";0]]}\n",
    "chocPrices `mar\n"
   ]
  },
  {
   "cell_type": "markdown",
   "metadata": {},
   "source": [
    "## Extended form of if-else\n",
    "\n",
    "We can extend our if-else to evaluate multiple statements if we have many checks we need to make - there is an extended usage of `$`."
   ]
  },
  {
   "cell_type": "markdown",
   "metadata": {},
   "source": [
    "Let's imagine we are capturing data from a sensor on a machine that deals with a woolen textile - Wool has an effective ironing range of 160–170 °C. A temperature lower than this might be ineffective and merit a warning, but a temperature above this would melt the fabric and be catastrophic.\n",
    "\n",
    "Let's encode appropriate responses into a `tempMonitor` function: "
   ]
  },
  {
   "cell_type": "code",
   "execution_count": 25,
   "metadata": {},
   "outputs": [],
   "source": [
    "thresholds: 160 170 // temperature \n",
    "tempMonitor:{[sensorTemp;thresholds]   \n",
    "                $[sensorTemp> thresholds[1]; \n",
    "                    '\"Temperature too hot! Stop Immediately!!\";      //we want to signal an error \n",
    "                    sensorTemp < thresholds[0]; \n",
    "                    -2\"Temperature too low - ironing ineffective\";   //we want to warn, so print to stderr\n",
    "                    -1\"Temperature within range\"]; //this is optional - we don't have to include a final else \n",
    "                 sensorTemp}"
   ]
  },
  {
   "cell_type": "code",
   "execution_count": 26,
   "metadata": {},
   "outputs": [
    {
     "name": "stdout",
     "output_type": "stream",
     "text": [
      "162\n",
      "Temperature within range\n"
     ]
    }
   ],
   "source": [
    "tempMonitor[162;thresholds]   //this should be within our temperature range"
   ]
  },
  {
   "cell_type": "code",
   "execution_count": 27,
   "metadata": {},
   "outputs": [
    {
     "name": "stdout",
     "output_type": "stream",
     "text": [
      "150\n"
     ]
    },
    {
     "name": "stderr",
     "output_type": "stream",
     "text": [
      "Temperature too low - ironing ineffective\n"
     ]
    }
   ],
   "source": [
    "tempMonitor[150;thresholds]    //this should be below our temperature range"
   ]
  },
  {
   "cell_type": "code",
   "execution_count": 28,
   "metadata": {},
   "outputs": [
    {
     "ename": "QError",
     "evalue": "Temperature too hot! Stop Immediately!!",
     "output_type": "error",
     "traceback": [
      "\u001b[0;31m---------------------------------------------------------------------------\u001b[0m",
      "\u001b[0;31mQError\u001b[0m                                    Traceback (most recent call last)",
      "Cell \u001b[0;32mIn[28], line 1\u001b[0m\n\u001b[0;32m----> 1\u001b[0m \u001b[43mget_ipython\u001b[49m\u001b[43m(\u001b[49m\u001b[43m)\u001b[49m\u001b[38;5;241;43m.\u001b[39;49m\u001b[43mrun_cell_magic\u001b[49m\u001b[43m(\u001b[49m\u001b[38;5;124;43m'\u001b[39;49m\u001b[38;5;124;43mq\u001b[39;49m\u001b[38;5;124;43m'\u001b[39;49m\u001b[43m,\u001b[49m\u001b[43m \u001b[49m\u001b[38;5;124;43m'\u001b[39;49m\u001b[38;5;124;43m'\u001b[39;49m\u001b[43m,\u001b[49m\u001b[43m \u001b[49m\u001b[38;5;124;43m'\u001b[39;49m\u001b[38;5;124;43mtempMonitor[172;thresholds]    //this should be above our temperature range\u001b[39;49m\u001b[38;5;130;43;01m\\n\u001b[39;49;00m\u001b[38;5;124;43m'\u001b[39;49m\u001b[43m)\u001b[49m\n",
      "File \u001b[0;32m/opt/conda/lib/python3.11/site-packages/IPython/core/interactiveshell.py:2541\u001b[0m, in \u001b[0;36mInteractiveShell.run_cell_magic\u001b[0;34m(self, magic_name, line, cell)\u001b[0m\n\u001b[1;32m   2539\u001b[0m \u001b[38;5;28;01mwith\u001b[39;00m \u001b[38;5;28mself\u001b[39m\u001b[38;5;241m.\u001b[39mbuiltin_trap:\n\u001b[1;32m   2540\u001b[0m     args \u001b[38;5;241m=\u001b[39m (magic_arg_s, cell)\n\u001b[0;32m-> 2541\u001b[0m     result \u001b[38;5;241m=\u001b[39m \u001b[43mfn\u001b[49m\u001b[43m(\u001b[49m\u001b[38;5;241;43m*\u001b[39;49m\u001b[43margs\u001b[49m\u001b[43m,\u001b[49m\u001b[43m \u001b[49m\u001b[38;5;241;43m*\u001b[39;49m\u001b[38;5;241;43m*\u001b[39;49m\u001b[43mkwargs\u001b[49m\u001b[43m)\u001b[49m\n\u001b[1;32m   2543\u001b[0m \u001b[38;5;66;03m# The code below prevents the output from being displayed\u001b[39;00m\n\u001b[1;32m   2544\u001b[0m \u001b[38;5;66;03m# when using magics with decorator @output_can_be_silenced\u001b[39;00m\n\u001b[1;32m   2545\u001b[0m \u001b[38;5;66;03m# when the last Python token in the expression is a ';'.\u001b[39;00m\n\u001b[1;32m   2546\u001b[0m \u001b[38;5;28;01mif\u001b[39;00m \u001b[38;5;28mgetattr\u001b[39m(fn, magic\u001b[38;5;241m.\u001b[39mMAGIC_OUTPUT_CAN_BE_SILENCED, \u001b[38;5;28;01mFalse\u001b[39;00m):\n",
      "File \u001b[0;32m/opt/conda/lib/python3.11/site-packages/pykx/nbextension.py:181\u001b[0m, in \u001b[0;36mq\u001b[0;34m(instructions, code)\u001b[0m\n\u001b[1;32m    179\u001b[0m     \u001b[38;5;28;01mif\u001b[39;00m save:\n\u001b[1;32m    180\u001b[0m         \u001b[38;5;28mprint\u001b[39m(\u001b[38;5;124mf\u001b[39m\u001b[38;5;124m\"\u001b[39m\u001b[38;5;124mCell contents not saved to \u001b[39m\u001b[38;5;124m'\u001b[39m\u001b[38;5;132;01m{\u001b[39;00mpath\u001b[38;5;132;01m}\u001b[39;00m\u001b[38;5;124m'\u001b[39m\u001b[38;5;124m due to error during execution/saving.\u001b[39m\u001b[38;5;124m\"\u001b[39m)\n\u001b[0;32m--> 181\u001b[0m     \u001b[38;5;28;01mraise\u001b[39;00m e\n\u001b[1;32m    182\u001b[0m \u001b[38;5;28;01mfinally\u001b[39;00m:\n\u001b[1;32m    183\u001b[0m     \u001b[38;5;28;01mif\u001b[39;00m \u001b[38;5;28missubclass\u001b[39m(\u001b[38;5;28mtype\u001b[39m(_q), kx\u001b[38;5;241m.\u001b[39mQConnection):\n",
      "File \u001b[0;32m/opt/conda/lib/python3.11/site-packages/pykx/nbextension.py:169\u001b[0m, in \u001b[0;36mq\u001b[0;34m(instructions, code)\u001b[0m\n\u001b[1;32m    167\u001b[0m     \u001b[38;5;28;01mif\u001b[39;00m debug \u001b[38;5;129;01mor\u001b[39;00m kx\u001b[38;5;241m.\u001b[39mconfig\u001b[38;5;241m.\u001b[39mpykx_qdebug:\n\u001b[1;32m    168\u001b[0m         \u001b[38;5;28mprint\u001b[39m(r[\u001b[38;5;124m'\u001b[39m\u001b[38;5;124mtrc\u001b[39m\u001b[38;5;124m'\u001b[39m])\n\u001b[0;32m--> 169\u001b[0m     \u001b[38;5;28;01mraise\u001b[39;00m kx\u001b[38;5;241m.\u001b[39mQError(r[\u001b[38;5;124m'\u001b[39m\u001b[38;5;124mres\u001b[39m\u001b[38;5;124m'\u001b[39m]\u001b[38;5;241m.\u001b[39mpy()\u001b[38;5;241m.\u001b[39mdecode())\n\u001b[1;32m    170\u001b[0m \u001b[38;5;28;01melse\u001b[39;00m:\n\u001b[1;32m    171\u001b[0m     display(r[\u001b[38;5;124m'\u001b[39m\u001b[38;5;124mres\u001b[39m\u001b[38;5;124m'\u001b[39m]) \u001b[38;5;28;01mif\u001b[39;00m displayRet \u001b[38;5;28;01melse\u001b[39;00m \u001b[38;5;28mprint\u001b[39m(r[\u001b[38;5;124m'\u001b[39m\u001b[38;5;124mres\u001b[39m\u001b[38;5;124m'\u001b[39m])\n",
      "\u001b[0;31mQError\u001b[0m: Temperature too hot! Stop Immediately!!"
     ]
    }
   ],
   "source": [
    "tempMonitor[172;thresholds]    //this should be above our temperature range"
   ]
  },
  {
   "cell_type": "markdown",
   "metadata": {},
   "source": [
    "We can also return functions from our conditionals and use the functions -  assuming that the input required for each function is consistent across conditions i.e. they all take the same input and number of inputs. "
   ]
  },
  {
   "cell_type": "markdown",
   "metadata": {},
   "source": [
    " ##### Group discussion\n",
    "\n",
    "The below example builds on our previous example and combines a number of topics: \n",
    "* Indexing\n",
    "* User defined functions\n",
    "* Projections\n",
    "* Signaling errors \n",
    "* Signaling to stderr"
   ]
  },
  {
   "cell_type": "code",
   "execution_count": 29,
   "metadata": {},
   "outputs": [],
   "source": [
    "//temperature Actions\n",
    "tooLow:{-2\"Temperature too low - ironing ineffective\"; min (0,x)}    //what should happen when too low\n",
    "tooHigh:{'\"Temperature too hot! Stop Immediately!!\"};                //what should happen when too high\n",
    "justRight:(::)   //function null - do nothing when fine\n",
    "\n",
    "//temperature Thresholds \n",
    "woolThresh: 160 170      //for wool \n",
    "viscoseThresh: 150 180   //for viscose \n",
    "\n",
    "//core monitor logic\n",
    "tempMonitor:{[sensorTemp;thresh]   \n",
    "                function:$[sensorTemp> thresh[1]; \n",
    "                        tooHigh;\n",
    "                    sensorTemp < thresh[0]; \n",
    "                        tooLow;\n",
    "                        justRight]; //since we need a function to call we do need to include here\n",
    "                 function[sensorTemp]}\n",
    "\n",
    "//projections for each material\n",
    "woolMonitor:tempMonitor[;woolThresh];\n",
    "viscoseMonitor:tempMonitor[;viscoseThresh];"
   ]
  },
  {
   "cell_type": "code",
   "execution_count": 30,
   "metadata": {},
   "outputs": [
    {
     "name": "stdout",
     "output_type": "stream",
     "text": [
      "162\n"
     ]
    }
   ],
   "source": [
    "//checking for temperature values \n",
    "woolMonitor[162]"
   ]
  },
  {
   "cell_type": "code",
   "execution_count": 31,
   "metadata": {},
   "outputs": [
    {
     "name": "stdout",
     "output_type": "stream",
     "text": [
      "0\n"
     ]
    },
    {
     "name": "stderr",
     "output_type": "stream",
     "text": [
      "Temperature too low - ironing ineffective\n"
     ]
    }
   ],
   "source": [
    "//checking for temperature values \n",
    "woolMonitor[150]"
   ]
  },
  {
   "cell_type": "code",
   "execution_count": 32,
   "metadata": {},
   "outputs": [
    {
     "ename": "QError",
     "evalue": "Temperature too hot! Stop Immediately!!",
     "output_type": "error",
     "traceback": [
      "\u001b[0;31m---------------------------------------------------------------------------\u001b[0m",
      "\u001b[0;31mQError\u001b[0m                                    Traceback (most recent call last)",
      "Cell \u001b[0;32mIn[32], line 1\u001b[0m\n\u001b[0;32m----> 1\u001b[0m \u001b[43mget_ipython\u001b[49m\u001b[43m(\u001b[49m\u001b[43m)\u001b[49m\u001b[38;5;241;43m.\u001b[39;49m\u001b[43mrun_cell_magic\u001b[49m\u001b[43m(\u001b[49m\u001b[38;5;124;43m'\u001b[39;49m\u001b[38;5;124;43mq\u001b[39;49m\u001b[38;5;124;43m'\u001b[39;49m\u001b[43m,\u001b[49m\u001b[43m \u001b[49m\u001b[38;5;124;43m'\u001b[39;49m\u001b[38;5;124;43m'\u001b[39;49m\u001b[43m,\u001b[49m\u001b[43m \u001b[49m\u001b[38;5;124;43m'\u001b[39;49m\u001b[38;5;124;43m//checking for temperature values \u001b[39;49m\u001b[38;5;130;43;01m\\n\u001b[39;49;00m\u001b[38;5;124;43mviscoseMonitor[182]\u001b[39;49m\u001b[38;5;130;43;01m\\n\u001b[39;49;00m\u001b[38;5;124;43m'\u001b[39;49m\u001b[43m)\u001b[49m\n",
      "File \u001b[0;32m/opt/conda/lib/python3.11/site-packages/IPython/core/interactiveshell.py:2541\u001b[0m, in \u001b[0;36mInteractiveShell.run_cell_magic\u001b[0;34m(self, magic_name, line, cell)\u001b[0m\n\u001b[1;32m   2539\u001b[0m \u001b[38;5;28;01mwith\u001b[39;00m \u001b[38;5;28mself\u001b[39m\u001b[38;5;241m.\u001b[39mbuiltin_trap:\n\u001b[1;32m   2540\u001b[0m     args \u001b[38;5;241m=\u001b[39m (magic_arg_s, cell)\n\u001b[0;32m-> 2541\u001b[0m     result \u001b[38;5;241m=\u001b[39m \u001b[43mfn\u001b[49m\u001b[43m(\u001b[49m\u001b[38;5;241;43m*\u001b[39;49m\u001b[43margs\u001b[49m\u001b[43m,\u001b[49m\u001b[43m \u001b[49m\u001b[38;5;241;43m*\u001b[39;49m\u001b[38;5;241;43m*\u001b[39;49m\u001b[43mkwargs\u001b[49m\u001b[43m)\u001b[49m\n\u001b[1;32m   2543\u001b[0m \u001b[38;5;66;03m# The code below prevents the output from being displayed\u001b[39;00m\n\u001b[1;32m   2544\u001b[0m \u001b[38;5;66;03m# when using magics with decorator @output_can_be_silenced\u001b[39;00m\n\u001b[1;32m   2545\u001b[0m \u001b[38;5;66;03m# when the last Python token in the expression is a ';'.\u001b[39;00m\n\u001b[1;32m   2546\u001b[0m \u001b[38;5;28;01mif\u001b[39;00m \u001b[38;5;28mgetattr\u001b[39m(fn, magic\u001b[38;5;241m.\u001b[39mMAGIC_OUTPUT_CAN_BE_SILENCED, \u001b[38;5;28;01mFalse\u001b[39;00m):\n",
      "File \u001b[0;32m/opt/conda/lib/python3.11/site-packages/pykx/nbextension.py:181\u001b[0m, in \u001b[0;36mq\u001b[0;34m(instructions, code)\u001b[0m\n\u001b[1;32m    179\u001b[0m     \u001b[38;5;28;01mif\u001b[39;00m save:\n\u001b[1;32m    180\u001b[0m         \u001b[38;5;28mprint\u001b[39m(\u001b[38;5;124mf\u001b[39m\u001b[38;5;124m\"\u001b[39m\u001b[38;5;124mCell contents not saved to \u001b[39m\u001b[38;5;124m'\u001b[39m\u001b[38;5;132;01m{\u001b[39;00mpath\u001b[38;5;132;01m}\u001b[39;00m\u001b[38;5;124m'\u001b[39m\u001b[38;5;124m due to error during execution/saving.\u001b[39m\u001b[38;5;124m\"\u001b[39m)\n\u001b[0;32m--> 181\u001b[0m     \u001b[38;5;28;01mraise\u001b[39;00m e\n\u001b[1;32m    182\u001b[0m \u001b[38;5;28;01mfinally\u001b[39;00m:\n\u001b[1;32m    183\u001b[0m     \u001b[38;5;28;01mif\u001b[39;00m \u001b[38;5;28missubclass\u001b[39m(\u001b[38;5;28mtype\u001b[39m(_q), kx\u001b[38;5;241m.\u001b[39mQConnection):\n",
      "File \u001b[0;32m/opt/conda/lib/python3.11/site-packages/pykx/nbextension.py:169\u001b[0m, in \u001b[0;36mq\u001b[0;34m(instructions, code)\u001b[0m\n\u001b[1;32m    167\u001b[0m     \u001b[38;5;28;01mif\u001b[39;00m debug \u001b[38;5;129;01mor\u001b[39;00m kx\u001b[38;5;241m.\u001b[39mconfig\u001b[38;5;241m.\u001b[39mpykx_qdebug:\n\u001b[1;32m    168\u001b[0m         \u001b[38;5;28mprint\u001b[39m(r[\u001b[38;5;124m'\u001b[39m\u001b[38;5;124mtrc\u001b[39m\u001b[38;5;124m'\u001b[39m])\n\u001b[0;32m--> 169\u001b[0m     \u001b[38;5;28;01mraise\u001b[39;00m kx\u001b[38;5;241m.\u001b[39mQError(r[\u001b[38;5;124m'\u001b[39m\u001b[38;5;124mres\u001b[39m\u001b[38;5;124m'\u001b[39m]\u001b[38;5;241m.\u001b[39mpy()\u001b[38;5;241m.\u001b[39mdecode())\n\u001b[1;32m    170\u001b[0m \u001b[38;5;28;01melse\u001b[39;00m:\n\u001b[1;32m    171\u001b[0m     display(r[\u001b[38;5;124m'\u001b[39m\u001b[38;5;124mres\u001b[39m\u001b[38;5;124m'\u001b[39m]) \u001b[38;5;28;01mif\u001b[39;00m displayRet \u001b[38;5;28;01melse\u001b[39;00m \u001b[38;5;28mprint\u001b[39m(r[\u001b[38;5;124m'\u001b[39m\u001b[38;5;124mres\u001b[39m\u001b[38;5;124m'\u001b[39m])\n",
      "\u001b[0;31mQError\u001b[0m: Temperature too hot! Stop Immediately!!"
     ]
    }
   ],
   "source": [
    "//checking for temperature values \n",
    "viscoseMonitor[182]"
   ]
  },
  {
   "cell_type": "markdown",
   "metadata": {},
   "source": [
    "Consider the above example: \n",
    "* What assumptions are made about the inputs to our functions? \n",
    "* What input would cause outright errors (e.g. a type error)? \n",
    "* What input would cause logical errors (errors that aren't going to cause our code to throw an error, but would mean our logical requirements aren't being met)? \n",
    "* How could you improve the function to avoid these errors? \n",
    "* What other issues can you think of? "
   ]
  },
  {
   "cell_type": "markdown",
   "metadata": {},
   "source": [
    "<img src=\"../qbies.png\" width=\"50px\" style=\"width: 50px;padding-right:5px;padding-top:10px;padding-left:5px;\" align=\"left\"/>\n",
    "\n",
    "<p style='color:#273a6e'><i> This isn't exhaustive, and also in some cases might not be applicable. There's a big difference between writing code for user facing applications, versus \"back-end\" code - as with most things, the more you know about what you're trying to achieve before you start, the better!</i></p>\n",
    " "
   ]
  },
  {
   "cell_type": "markdown",
   "metadata": {
    "reveal": "8ijai0l06wb",
    "reveal-hidden": false
   },
   "source": [
    "##### Exercise \n",
    "\n",
    "Create a dyadic function that compares the type of the first argument to a symbol, if the first argument is a symbol print the second argument as a lower case string. Otherwise return the value of the second argument as a string."
   ]
  },
  {
   "cell_type": "code",
   "execution_count": 41,
   "metadata": {
    "reveal": "8ijai0l06wb"
   },
   "outputs": [],
   "source": [
    "myFunc:{$[(abs type x)~11h;lower;::] //using abs to check for both atoms and lists\n",
    "                                        //we return the function we want to use - lower, or null function\n",
    "                                        //note no semicolon - the output of this will be applied to the LHS\n",
    "   $[10h=type y;y;string y]   //return y as a string - leave alone if already a string\n",
    "  } "
   ]
  },
  {
   "cell_type": "code",
   "execution_count": 42,
   "metadata": {
    "reveal": "8ijai0l06wb"
   },
   "outputs": [
    {
     "name": "stdout",
     "output_type": "stream",
     "text": [
      "BIG\n",
      "big\n",
      "big\n"
     ]
    }
   ],
   "source": [
    "//testing\n",
    "myFunc[\"thie\";`BIG ]    //not a symbol with not a string - stays upper\n",
    "myFunc[`this;`BIG  ]    //a symbol, and not a string\n",
    "myFunc[`this;\"BIG\" ]    //a symbol and a string"
   ]
  },
  {
   "cell_type": "code",
   "execution_count": 45,
   "metadata": {},
   "outputs": [
    {
     "name": "stdout",
     "output_type": "stream",
     "text": [
      "ARCHWE\n"
     ]
    }
   ],
   "source": [
    "// write your code here\n",
    "function:{[arg1;arg2]\n",
    "            $[(abs type arg1) = 11h; -1 string lower arg2;arg2]}\n",
    "\n",
    "function[\"ARCHER\";`ARCHWE]"
   ]
  },
  {
   "cell_type": "markdown",
   "metadata": {},
   "source": [
    "# Vector Conditional Evaluation\n",
    "The vector conditional works with vectors and will evaluate the true or false expression for each item in the vector. Similar to `$`, (and unlike `if`) it provides a return value, but unlike the atomic equivalent `$`, this **cannot be extended to else-if clauses**. \n",
    "\n",
    "Vector condition evaluation has the form of :\n",
    "\n",
    "Syntax:``?[x;y;z]`` where \n",
    "\n",
    "* `x` is a boolean vector\n",
    "* `y` and `z` return the same type"
   ]
  },
  {
   "cell_type": "markdown",
   "metadata": {},
   "source": [
    "In this case it will return the y values where x is true and z where x is false - a simple example: "
   ]
  },
  {
   "cell_type": "code",
   "execution_count": 46,
   "metadata": {},
   "outputs": [
    {
     "name": "stdout",
     "output_type": "stream",
     "text": [
      "1 20 30 40 5\n"
     ]
    }
   ],
   "source": [
    "?[10001b;\n",
    "    1 2 3 4 5;       //if true\n",
    "    10 20 30 40 50]  //if false"
   ]
  },
  {
   "cell_type": "code",
   "execution_count": 47,
   "metadata": {},
   "outputs": [
    {
     "name": "stdout",
     "output_type": "stream",
     "text": [
      "1 20 30 40 1\n"
     ]
    }
   ],
   "source": [
    "?[10001b;1;10 20 30 40 50]          //if one of our conditions is atomic it will be repeated where necessary"
   ]
  },
  {
   "cell_type": "code",
   "execution_count": 49,
   "metadata": {},
   "outputs": [],
   "source": [
    "//?[10001b;1;10 20 40 50]             //if providing a list to use, they need to be the same length"
   ]
  },
  {
   "cell_type": "markdown",
   "metadata": {},
   "source": [
    "The below example will \"cap\" a vector at a maximum value, as provided: "
   ]
  },
  {
   "cell_type": "code",
   "execution_count": 50,
   "metadata": {},
   "outputs": [
    {
     "name": "stdout",
     "output_type": "stream",
     "text": [
      "9 8 1 9 12 12 12 1 12 6 1 12 6 5 12 12 8 0 12 5 12 2 0 0 8 7 12 12 10 12\n",
      "9 8 1 9 17 14 13 1 18 6 1 14 6 5 17 17 8 0 16 5 13 2 0 0 8 7 18 13 10 15\n"
     ]
    }
   ],
   "source": [
    "capAtMax:{[vector;cap]  \n",
    "            ?[vector>cap; \n",
    "                cap;    //use the cap value where the vector value is bigger \n",
    "                vector] //use the original vector where it doesn't exceed the cap value\n",
    "    }\n",
    "show vec:30?20\n",
    "capAtMax[vec;12]"
   ]
  },
  {
   "cell_type": "markdown",
   "metadata": {},
   "source": [
    "<img src=\"../qbies.png\" width=\"50px\" style=\"width: 50px;padding-right:5px;padding-top:5px;padding-left:5px;\" align=\"left\"/>\n",
    "\n",
    "<p style='color:#273a6e'><i> Vector Conditionals are what we use in qSQL queries, since columns in a table are really just lists! </i></p>"
   ]
  },
  {
   "cell_type": "markdown",
   "metadata": {},
   "source": [
    "Given a table of trades we typically have a column side indicating whether this was a trade where we bought (Buy) or sold (Sell). We might also need the appropriate quote from the market. Normally we have two quotes- bid and ask. "
   ]
  },
  {
   "cell_type": "code",
   "execution_count": null,
   "metadata": {},
   "outputs": [],
   "source": [
    "side: `Buy`Buy`Sell\n",
    "bids: 10.0 10.2 12.2\n",
    "asks: 10.4 10.5 12.4  "
   ]
  },
  {
   "cell_type": "markdown",
   "metadata": {},
   "source": [
    "To get the appropriate quote for our market trade we can use the following conditional: "
   ]
  },
  {
   "cell_type": "code",
   "execution_count": null,
   "metadata": {},
   "outputs": [],
   "source": [
    "?[side=`Buy;asks;bids]"
   ]
  },
  {
   "cell_type": "markdown",
   "metadata": {
    "reveal": "tdmd00yjyr",
    "reveal-hidden": false
   },
   "source": [
    "##### Exercise \n",
    "\n",
    "Create a list `L` to be 1 2 3 0N 5. Using vector conditional evaluation, fill the null value with 10."
   ]
  },
  {
   "cell_type": "code",
   "execution_count": null,
   "metadata": {
    "reveal": "tdmd00yjyr"
   },
   "outputs": [],
   "source": [
    "L:1 2 3 0N 5;\n",
    "\n",
    "?[null L;   //vector boolean check \n",
    "    10;     //if true return this\n",
    "    L]      //if not true return this"
   ]
  },
  {
   "cell_type": "code",
   "execution_count": 52,
   "metadata": {},
   "outputs": [
    {
     "name": "stdout",
     "output_type": "stream",
     "text": [
      "1 2 3 10 5\n"
     ]
    }
   ],
   "source": [
    "//write your code here\n",
    "L:1 2 3 0N 5\n",
    "?[L=0N;10;L]"
   ]
  },
  {
   "cell_type": "markdown",
   "metadata": {},
   "source": [
    "# Protected Evaluation \n",
    "\n",
    "As we have seen numerous times in the training, when kdb+/q encounters an error within code execution, the execution is halted i.e. no further statements are executed. In some cases we might want to just log an error and continue execution rather than completely halt our script or function - this is where we would use protected evaluation."
   ]
  },
  {
   "cell_type": "markdown",
   "metadata": {},
   "source": [
    "## Atomic Functions - Trap At @"
   ]
  },
  {
   "cell_type": "markdown",
   "metadata": {},
   "source": [
    "We can use the [trap at](https://code.kx.com/q/ref/apply/#trap-at) operator which provides a way to capture errors raised during the application of the arguments to a function. The choice of what to do with the error is left to the user since it is captured as an argument to an error function. This function definition is a third argument to the operator.\n",
    "\n",
    "Syntax:`@[function;arguments;errorFunction]` where the `errorFunction` is a function that takes only one argument - a string of the error raised during execution.\n",
    "\n",
    "Perhaps best illustrated by an example: "
   ]
  },
  {
   "cell_type": "code",
   "execution_count": 53,
   "metadata": {},
   "outputs": [
    {
     "name": "stderr",
     "output_type": "stream",
     "text": [
      "Error signal received:type\n"
     ]
    }
   ],
   "source": [
    "@[sin;`symbol;{[error] -2 \"Error signal received:\",error;}] "
   ]
  },
  {
   "cell_type": "markdown",
   "metadata": {},
   "source": [
    "The value returned from the failed function application is determined by the error function: "
   ]
  },
  {
   "cell_type": "code",
   "execution_count": 54,
   "metadata": {},
   "outputs": [
    {
     "name": "stdout",
     "output_type": "stream",
     "text": [
      "Just keep swimming!\n"
     ]
    }
   ],
   "source": [
    "@[sin;`symbol;{[error] \"Just keep swimming!\"}]  // we don't even use the error here!"
   ]
  },
  {
   "cell_type": "markdown",
   "metadata": {},
   "source": [
    "The error function is not special - it's just a standard function and we can use any function we like, provided it only requires one input.\n",
    "\n",
    "This means we can use projections of multi-parameter functions, and this is commonly the case when we want to capture more detail about our error. "
   ]
  },
  {
   "cell_type": "code",
   "execution_count": 55,
   "metadata": {},
   "outputs": [
    {
     "name": "stdout",
     "output_type": "stream",
     "text": [
      "0b\n"
     ]
    },
    {
     "name": "stderr",
     "output_type": "stream",
     "text": [
      "This broke it:symbol... type :-11\n",
      "With error:type\n"
     ]
    }
   ],
   "source": [
    "argument:`symbol\n",
    "handleError:{[arg;error]     2 \"This broke it:\",string[arg];\n",
    "                            -2 \"... type :\",string type arg;\n",
    "                            -2 \"With error:\",error;\n",
    "                             0b};\n",
    "\n",
    "errorFunction:handleError[argument]     //projecting to one argument\n",
    "\n",
    "@[sin;argument;errorFunction]  "
   ]
  },
  {
   "cell_type": "markdown",
   "metadata": {},
   "source": [
    "This can be called from within a function too: "
   ]
  },
  {
   "cell_type": "code",
   "execution_count": 57,
   "metadata": {},
   "outputs": [],
   "source": [
    "protectedSin:{[arg] @[sin;arg;handleError[arg]]}   //use protected evaluation to call sin with an argument"
   ]
  },
  {
   "cell_type": "code",
   "execution_count": 58,
   "metadata": {},
   "outputs": [
    {
     "name": "stdout",
     "output_type": "stream",
     "text": [
      "0.8939967\n"
     ]
    }
   ],
   "source": [
    "protectedSin[90]"
   ]
  },
  {
   "cell_type": "code",
   "execution_count": 59,
   "metadata": {},
   "outputs": [
    {
     "name": "stdout",
     "output_type": "stream",
     "text": [
      "0b\n"
     ]
    },
    {
     "name": "stderr",
     "output_type": "stream",
     "text": [
      "This broke it:break... type :-11\n",
      "With error:type\n"
     ]
    }
   ],
   "source": [
    "protectedSin[`break]     //failure return 0b"
   ]
  },
  {
   "cell_type": "markdown",
   "metadata": {},
   "source": [
    "In most cases where protected evaluation is used the error function defined will write details of the breakdown to a log file associated with the running process."
   ]
  },
  {
   "cell_type": "markdown",
   "metadata": {},
   "source": [
    "## Multivalent Functions - Trap . \n",
    "\n",
    "The operator to apply error trapping to a multivalent function is `.` and in its usage is syntactically the same as we saw with apply. The only difference is that the function is multivalent and therefore that there are multiple arguments, passed as a list. "
   ]
  },
  {
   "cell_type": "code",
   "execution_count": 60,
   "metadata": {},
   "outputs": [
    {
     "name": "stdout",
     "output_type": "stream",
     "text": [
      "Failed\n"
     ]
    },
    {
     "name": "stderr",
     "output_type": "stream",
     "text": [
      "Error:type\n"
     ]
    }
   ],
   "source": [
    ".[+; (1;`a);{-2\"Error:\",x;`Failed}]"
   ]
  },
  {
   "cell_type": "code",
   "execution_count": 61,
   "metadata": {},
   "outputs": [
    {
     "name": "stdout",
     "output_type": "stream",
     "text": [
      "3\n"
     ]
    }
   ],
   "source": [
    ".[+; (1;2);{-2\"Error:\",x;`Failed}]"
   ]
  },
  {
   "cell_type": "markdown",
   "metadata": {},
   "source": [
    "# Other useful (to know) control statements \n",
    "\n",
    "There are two other operators that we didn't mention above since they aren't used that often and if we don't have to use them, we **never** do. In saying this however, it is useful to know that they are there if we need to use them."
   ]
  },
  {
   "cell_type": "markdown",
   "metadata": {},
   "source": [
    "## Do\n",
    "The [`do`](https://code.kx.com/q/ref/do/) operator allows us to repeat an execution *N* times. There is no return value from using `do`, similar to `if`.\n",
    "\n",
    "Syntax: `do[NoOfTimes;expression;...;expressionN]`\n",
    "\n",
    "The do statement can be used to time our q code:"
   ]
  },
  {
   "cell_type": "code",
   "execution_count": null,
   "metadata": {},
   "outputs": [],
   "source": [
    "\\t do[10;a*a:til 100000]\n",
    "\\t:10 a*a:til 100000     //Same as above - an example of the more \"q\" way!"
   ]
  },
  {
   "cell_type": "markdown",
   "metadata": {},
   "source": [
    "## While\n",
    "\n",
    "The [`while`](https://code.kx.com/q/ref/while/) operator allows the expression to be evaluated while the condition is true. Similar to `do`, `while` also does not return a value. \n",
    "\n",
    "Syntax:```while[condition;expression;...;expressionN]```"
   ]
  },
  {
   "cell_type": "code",
   "execution_count": 62,
   "metadata": {},
   "outputs": [
    {
     "name": "stdout",
     "output_type": "stream",
     "text": [
      "1 1 2 3 5 8 13 21 34 55 89\n"
     ]
    }
   ],
   "source": [
    "r:1 1\n",
    "x:10\n",
    "while[x-:1;r,:sum -2#r]  \n",
    "r   //you may recognise this as the Fibonacci sequence! "
   ]
  },
  {
   "cell_type": "code",
   "execution_count": null,
   "metadata": {},
   "outputs": [],
   "source": []
  }
 ],
 "metadata": {
  "jupytext": {
   "encoding": "/ -*- coding: utf-8 -*-",
   "text_representation": {
    "extension": ".q",
    "format_name": "light",
    "format_version": "1.5",
    "jupytext_version": "1.4.1"
   }
  },
  "kernelspec": {
   "display_name": "Python 3 (ipykernel)",
   "language": "python",
   "name": "python3"
  },
  "language_info": {
   "codemirror_mode": {
    "name": "ipython",
    "version": 3
   },
   "file_extension": ".py",
   "mimetype": "text/x-python",
   "name": "python",
   "nbconvert_exporter": "python",
   "pygments_lexer": "ipython3",
   "version": "3.11.10"
  },
  "toc": {
   "base_numbering": 1,
   "nav_menu": {},
   "number_sections": true,
   "sideBar": true,
   "skip_h1_title": false,
   "title_cell": "Table of Contents",
   "title_sidebar": "Contents",
   "toc_cell": false,
   "toc_position": {},
   "toc_section_display": true,
   "toc_window_display": true
  }
 },
 "nbformat": 4,
 "nbformat_minor": 4
}
