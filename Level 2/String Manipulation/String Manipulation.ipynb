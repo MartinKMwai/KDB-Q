{
 "cells": [
  {
   "cell_type": "code",
   "execution_count": 1,
   "metadata": {
    "autorun": true,
    "editable": false,
    "jupyter": {
     "source_hidden": true
    },
    "tags": [
     "remove-cell"
    ]
   },
   "outputs": [],
   "source": [
    "#;.pykx.disableJupyter()"
   ]
  },
  {
   "cell_type": "code",
   "execution_count": 2,
   "metadata": {
    "autorun": true,
    "editable": false,
    "jupyter": {
     "source_hidden": true
    },
    "tags": [
     "remove-cell"
    ]
   },
   "outputs": [
    {
     "name": "stdout",
     "output_type": "stream",
     "text": [
      "PyKX now running in 'jupyter_qfirst' mode. All cells by default will be run as q code. \n",
      "Include '%%py' at the beginning of each cell to run as python code. \n"
     ]
    }
   ],
   "source": [
    "# https://code.kx.com/pykx/3.0/examples/jupyter-integration.html#q-first-mode\n",
    "import pykx as kx\n",
    "kx.util.jupyter_qfirst_enable()"
   ]
  },
  {
   "cell_type": "markdown",
   "metadata": {
    "heading_collapsed": true,
    "jp-MarkdownHeadingCollapsed": true
   },
   "source": [
    "# String Manipulation "
   ]
  },
  {
   "cell_type": "markdown",
   "metadata": {
    "hidden": true
   },
   "source": [
    "**Learning Outcomes**\n",
    "\n",
    "To understand\n",
    "\n",
    "* How to create and print strings\n",
    "* How to use strings for logging\n",
    "* Common string parsing functions\n",
    "* Regex string comparison\n",
    "* Searching strings"
   ]
  },
  {
   "cell_type": "markdown",
   "metadata": {
    "heading_collapsed": true,
    "jp-MarkdownHeadingCollapsed": true
   },
   "source": [
    "# Introduction\n",
    "\n",
    "String manipulation is very important in kdb+/q because strings are such a commonly used datatype, much of the data you will need to work with will be stored in this format. String manipulation can be useful for many operations - e.g. logging messages from processes."
   ]
  },
  {
   "cell_type": "markdown",
   "metadata": {
    "hidden": true
   },
   "source": [
    "<img src=\"../qbies.png\" width=\"50px\" style=\"width: 50px;padding-right:5px;padding-top:15px;padding-left:5px;\" align=\"left\"/>\n",
    "\n",
    "<p style='color:#273a6e'><i> This is an entire section dedicated to strings! Gentle reminder that a \"string\" in kdb+/q is a list of characters. It's important to remember that these are lists, as this has implications for the functions we can use with them and the types of errors we are most likely to encounter. (Hint:<code>'length</code> !) </i></p>"
   ]
  },
  {
   "cell_type": "markdown",
   "metadata": {
    "heading_collapsed": true
   },
   "source": [
    "# Creating and printing strings\n",
    "\n",
    "You can create a string from another datatype in q by applying the [`string`](https://code.kx.com/q/ref/string/) operator to it, for example:"
   ]
  },
  {
   "cell_type": "code",
   "execution_count": 4,
   "metadata": {
    "hidden": true
   },
   "outputs": [
    {
     "name": "stdout",
     "output_type": "stream",
     "text": [
      "10h\n",
      "30\n",
      "2025.02.16\n"
     ]
    }
   ],
   "source": [
    "type string 20   // creating a string from a long\n",
    "string 6*5  // multiplying and creating a string from result\n",
    "string .z.d // creating a string from today's date"
   ]
  },
  {
   "cell_type": "markdown",
   "metadata": {
    "hidden": true
   },
   "source": [
    "We can also create strings manually in the same way that we created lists before: "
   ]
  },
  {
   "cell_type": "code",
   "execution_count": 7,
   "metadata": {
    "hidden": true,
    "reveal": "sit7pf11wx",
    "reveal-hidden": true
   },
   "outputs": [
    {
     "name": "stdout",
     "output_type": "stream",
     "text": [
      "hello world\n",
      "1b\n",
      "\"hello\"\n",
      "\"world\"\n"
     ]
    }
   ],
   "source": [
    "\"hello world\"\n",
    "\"string\"~(\"s\";\"t\";\"r\";\"i\";\"n\";\"g\") //equal to a list of characters\n",
    "(\"hello\"; \"world\")   //are these two lines equivalent? Why/Why not? "
   ]
  },
  {
   "cell_type": "markdown",
   "metadata": {
    "hidden": true,
    "reveal": "sit7pf11wx"
   },
   "source": [
    "They're not! The first item is a list of characters but just one list. The second is a list of lists - each word is a separate list of characters."
   ]
  },
  {
   "cell_type": "code",
   "execution_count": null,
   "metadata": {
    "hidden": true,
    "reveal": "sit7pf11wx"
   },
   "outputs": [],
   "source": [
    "type \"hello world\"\n",
    "type (\"hello\"; \"world\") \n",
    "type each (\"hello\"; \"world\") "
   ]
  },
  {
   "cell_type": "markdown",
   "metadata": {
    "hidden": true,
    "reveal": "s4kfjp81wx9",
    "reveal-hidden": true
   },
   "source": [
    "##### Exercises \n",
    "\n",
    "Create a string with the current time as a timestamp."
   ]
  },
  {
   "cell_type": "code",
   "execution_count": null,
   "metadata": {
    "hidden": true,
    "reveal": "s4kfjp81wx9"
   },
   "outputs": [],
   "source": [
    "string .z.p"
   ]
  },
  {
   "cell_type": "code",
   "execution_count": 10,
   "metadata": {
    "hidden": true
   },
   "outputs": [
    {
     "name": "stdout",
     "output_type": "stream",
     "text": [
      "2025.02.16D08:03:44.144316978\n"
     ]
    }
   ],
   "source": [
    "// Write your code here\n",
    "string .z.p"
   ]
  },
  {
   "cell_type": "markdown",
   "metadata": {
    "heading_collapsed": true,
    "hidden": true
   },
   "source": [
    "## Displaying Output\n",
    "\n",
    "If we want to write and display our own debugging messages we first need to know how to display output. If we don't want to return our final evaluation we can use a `;` at the end of the expression, similar to how we separate items in a list - this indicates that our q expression is complete."
   ]
  },
  {
   "cell_type": "code",
   "execution_count": 11,
   "metadata": {
    "hidden": true
   },
   "outputs": [
    {
     "name": "stdout",
     "output_type": "stream",
     "text": [
      "Hello\n",
      "World\n"
     ]
    }
   ],
   "source": [
    "\"Hello\" \n",
    "\"Farewell\";   // repressing output\n",
    "\"Cruel\"; \n",
    "\"World\""
   ]
  },
  {
   "cell_type": "markdown",
   "metadata": {
    "hidden": true
   },
   "source": [
    "To [print](https://code.kx.com/q/ref/display/) an expression to the console (or standard out) the function `0N!` is used."
   ]
  },
  {
   "cell_type": "code",
   "execution_count": 12,
   "metadata": {
    "hidden": true,
    "reveal": "k4iz67sb3io",
    "reveal-hidden": true
   },
   "outputs": [
    {
     "name": "stdout",
     "output_type": "stream",
     "text": [
      "\"It's about time\"\n"
     ]
    }
   ],
   "source": [
    "0N!\"It's about time\";  // what would we see if we remove the ; ?"
   ]
  },
  {
   "cell_type": "markdown",
   "metadata": {
    "hidden": true,
    "reveal": "k4iz67sb3io"
   },
   "source": [
    "If we run remove the suppression `;` we will see the print and also have our output returned so we will see this twice."
   ]
  },
  {
   "cell_type": "code",
   "execution_count": null,
   "metadata": {
    "hidden": true,
    "reveal": "k4iz67sb3io"
   },
   "outputs": [],
   "source": [
    "0N!\"It's about time\""
   ]
  },
  {
   "cell_type": "markdown",
   "metadata": {
    "hidden": true
   },
   "source": [
    "Another way to write to [stdout](https://en.wikipedia.org/wiki/Standard_streams#Standard_output_(stdout)) is to use `1` & `-1` - similarly for stderr we can use `2` & `-2`"
   ]
  },
  {
   "cell_type": "code",
   "execution_count": 13,
   "metadata": {
    "hidden": true
   },
   "outputs": [
    {
     "name": "stdout",
     "output_type": "stream",
     "text": [
      "Hello World\n"
     ]
    }
   ],
   "source": [
    "-1\"Hello World\"; a:`other`stuff;"
   ]
  },
  {
   "cell_type": "code",
   "execution_count": 14,
   "metadata": {
    "hidden": true
   },
   "outputs": [
    {
     "name": "stdout",
     "output_type": "stream",
     "text": [
      "4\n"
     ]
    },
    {
     "name": "stderr",
     "output_type": "stream",
     "text": [
      "Errors in Jupyter are indicated by a red band\n"
     ]
    }
   ],
   "source": [
    "-2 \"Errors in Jupyter are indicated by a red band\";2+2  //NB execution isn't stopped by writing to stderr"
   ]
  },
  {
   "cell_type": "markdown",
   "metadata": {
    "hidden": true
   },
   "source": [
    "These operations are extremely useful when you wish to log the progress of a q script or function. We can also see the difference between `1` & `-1`. "
   ]
  },
  {
   "cell_type": "code",
   "execution_count": 17,
   "metadata": {
    "hidden": true
   },
   "outputs": [
    {
     "name": "stdout",
     "output_type": "stream",
     "text": [
      "Starting with parameter 0 ... Finished\n",
      "Starting with parameter 1 ... Finished\n",
      "Starting with parameter 2 ... Finished\n"
     ]
    }
   ],
   "source": [
    "x:0 \n",
    "while[x<3; \n",
    "    1 \"Starting with parameter \",string[x];\n",
    "    -1 \" ... Finished\";             \n",
    "    x:x+1;              //incrementing x\n",
    "    ]"
   ]
  },
  {
   "cell_type": "markdown",
   "metadata": {
    "hidden": true,
    "reveal": "2uneb7m83im",
    "reveal-hidden": false
   },
   "source": [
    "What would happen if both print messages were `-1` ?"
   ]
  },
  {
   "cell_type": "code",
   "execution_count": 18,
   "metadata": {
    "hidden": true,
    "reveal": "2uneb7m83im"
   },
   "outputs": [
    {
     "name": "stdout",
     "output_type": "stream",
     "text": [
      "Starting with parameter 0\n",
      " ... Finished\n",
      "Starting with parameter 1\n",
      " ... Finished\n",
      "Starting with parameter 2\n",
      " ... Finished\n"
     ]
    }
   ],
   "source": [
    "//-1 writes to standard out with a carraige return (\\n) meaning the next comment will be on the new line\n",
    "x:0 \n",
    "while[x<3; \n",
    "    -1 \"Starting with parameter \",string[x];\n",
    "    -1 \" ... Finished\";             \n",
    "    x:x+1;              //incrementing x\n",
    "    ]"
   ]
  },
  {
   "cell_type": "markdown",
   "metadata": {
    "heading_collapsed": true
   },
   "source": [
    "# String Manipulation"
   ]
  },
  {
   "cell_type": "markdown",
   "metadata": {
    "heading_collapsed": true,
    "hidden": true
   },
   "source": [
    "## Cutting/Creating strings\n",
    "**Vectors from scalar `vs` and Scalars from vectors `sv`**\n",
    "\n",
    "These keywords are useful if we wish to [tokenize](https://en.wikipedia.org/wiki/Lexical_analysis) and/or build strings."
   ]
  },
  {
   "cell_type": "code",
   "execution_count": 19,
   "metadata": {
    "hidden": true
   },
   "outputs": [
    {
     "name": "stdout",
     "output_type": "stream",
     "text": [
      "\"a=10\"\n",
      "\"b=20\"\n",
      "\"c=IBM\"\n",
      "\"a=10\"\n",
      "\"b=20\"\n",
      "\"c=IBM\"\n"
     ]
    }
   ],
   "source": [
    "vs[\";\";\"a=10;b=20;c=IBM\"]    //split up the string on the “;” character \n",
    "\";\" vs \"a=10;b=20;c=IBM\"     //equivalent to the above"
   ]
  },
  {
   "cell_type": "markdown",
   "metadata": {
    "hidden": true
   },
   "source": [
    "Resulting in a list of strings. The delimiter we choose to use does not have to be atomic though, we could instead pass a string pattern:"
   ]
  },
  {
   "cell_type": "code",
   "execution_count": 20,
   "metadata": {
    "hidden": true
   },
   "outputs": [
    {
     "name": "stdout",
     "output_type": "stream",
     "text": [
      ",\"a\" \"10\" \n",
      ",\"b\" \"20\" \n",
      ",\"c\" \"IBM\"\n",
      "\"a=10\"\n",
      "\"b=20\"\n",
      "\"c=IBM\"\n"
     ]
    }
   ],
   "source": [
    "show a:vs[\";*\";\"a=10;*b=20;*c=IBM\"] //spliting up the string on the string “;*”\n",
    "vs[\"=\"] each a                      //splitting the substrings by \"=\""
   ]
  },
  {
   "cell_type": "markdown",
   "metadata": {
    "hidden": true
   },
   "source": [
    "The `sv` function is used to create one big string from a list of smaller strings. In this context, it is therefore the opposite of `vs`. For example:"
   ]
  },
  {
   "cell_type": "code",
   "execution_count": 23,
   "metadata": {
    "hidden": true
   },
   "outputs": [
    {
     "name": "stdout",
     "output_type": "stream",
     "text": [
      "a=10;b=20;c=IBM\n"
     ]
    }
   ],
   "source": [
    "sv[\";\";a]                          //create a combined string using the provided delimiter \"|\""
   ]
  },
  {
   "cell_type": "markdown",
   "metadata": {
    "hidden": true
   },
   "source": [
    "<img src=\"../qbies.png\" width=\"50px\" style=\"width: 50px;padding-right:5px;padding-top:5px;padding-left:5px;\" align=\"left\"/>\n",
    "\n",
    "<p style='color:#273a6e'><i> These functions are also useful when splitting symbols, generating file paths and more! - <a href=\"https://code.kx.com/q/ref/vs/\">Further Reading</a></i></p>\n"
   ]
  },
  {
   "cell_type": "markdown",
   "metadata": {
    "hidden": true,
    "reveal": "b64grfgb1x8",
    "reveal-hidden": true
   },
   "source": [
    "##### Exercise\n",
    "Use `vs` to write each word of the string \"Its about time!\" on seperate line."
   ]
  },
  {
   "cell_type": "code",
   "execution_count": null,
   "metadata": {
    "hidden": true,
    "reveal": "b64grfgb1x8"
   },
   "outputs": [],
   "source": [
    "vs[\" \";\"Its about time!\"]"
   ]
  },
  {
   "cell_type": "code",
   "execution_count": 24,
   "metadata": {
    "hidden": true
   },
   "outputs": [
    {
     "name": "stdout",
     "output_type": "stream",
     "text": [
      "\"It's\"\n",
      "\"about\"\n",
      "\"time\"\n"
     ]
    }
   ],
   "source": [
    "// Write your code here\n",
    "vs[\" \";\"It's about time\"]"
   ]
  },
  {
   "cell_type": "markdown",
   "metadata": {
    "hidden": true,
    "reveal": "sgxholk7mc",
    "reveal-hidden": true
   },
   "source": [
    "##### Exercise \n",
    "\n",
    "Given the list of strings `(\"AAPL\";\"TD12kdi12\";\"34.21\")`, combined these together to create a single pipe (\"|\") delimited string."
   ]
  },
  {
   "cell_type": "code",
   "execution_count": null,
   "metadata": {
    "hidden": true,
    "reveal": "sgxholk7mc"
   },
   "outputs": [],
   "source": [
    "\"|\" sv (\"AAPL\";\"TD12kdi12\";\"34.21\")"
   ]
  },
  {
   "cell_type": "code",
   "execution_count": 28,
   "metadata": {
    "hidden": true
   },
   "outputs": [
    {
     "name": "stdout",
     "output_type": "stream",
     "text": [
      "AAPL|TD12kdi12|34.21\n",
      "\"AAPL\"\n",
      "\"TD12kdi12\"\n",
      "\"34.21\"\n"
     ]
    }
   ],
   "source": [
    "// Write your code here\n",
    "show x:(\"AAPL\";\"TD12kdi12\";\"34.21\")\n",
    "sv[\"|\";x]"
   ]
  },
  {
   "cell_type": "markdown",
   "metadata": {
    "heading_collapsed": true,
    "hidden": true
   },
   "source": [
    "## String padding \n",
    "\n",
    "`ltrim` is a monadic function that removes **leading** or **left** whitespace from strings, similarly `rtrim` is a monadic function that removes **trailing** or **right** whitespaces from strings. Combining the two, [`trim`](https://code.kx.com/q/ref/trim/#trim) will  remove both leading and trailing whitespace from strings."
   ]
  },
  {
   "cell_type": "code",
   "execution_count": 29,
   "metadata": {
    "hidden": true
   },
   "outputs": [
    {
     "name": "stdout",
     "output_type": "stream",
     "text": [
      "0b\n",
      "0b\n",
      "1b\n",
      "\"abc   \"\n",
      "\"  abc\"\n",
      "\"abc\"\n"
     ]
    }
   ],
   "source": [
    "show a:ltrim \"             abc   \"\n",
    "show b:rtrim \"  abc              \"\n",
    "show c:trim  \"         abc       \"\n",
    "\"abc\"~a\n",
    "\"abc\"~b\n",
    "\"abc\"~c"
   ]
  },
  {
   "cell_type": "markdown",
   "metadata": {
    "hidden": true,
    "reveal": "1ldyson4ytmj",
    "reveal-hidden": true
   },
   "source": [
    "###### Exercise\n",
    "Remove the space from the beginning and end of the string `\" KDB is Fun ! \"`"
   ]
  },
  {
   "cell_type": "code",
   "execution_count": null,
   "metadata": {
    "hidden": true,
    "reveal": "1ldyson4ytmj"
   },
   "outputs": [],
   "source": [
    "trim \" KDB is Fun ! \""
   ]
  },
  {
   "cell_type": "code",
   "execution_count": 31,
   "metadata": {
    "hidden": true
   },
   "outputs": [
    {
     "name": "stdout",
     "output_type": "stream",
     "text": [
      "KDB is Fun !\n"
     ]
    }
   ],
   "source": [
    "// write your code here \n",
    "trim \" KDB is Fun ! \""
   ]
  },
  {
   "cell_type": "markdown",
   "metadata": {
    "hidden": true
   },
   "source": [
    "If we wanted instead to **add** padding, rather than removing it we can use one of the lesser known overloads of the `$` operator, in this cases acting as [Pad](https://code.kx.com/q/ref/pad/). This will add additional padding to strings to either the left (positive) or right (negative), upto a fixed size of string."
   ]
  },
  {
   "cell_type": "code",
   "execution_count": null,
   "metadata": {
    "hidden": true
   },
   "outputs": [],
   "source": [
    "10$\"example\"\n",
    "-10$\"example\""
   ]
  },
  {
   "cell_type": "markdown",
   "metadata": {
    "hidden": true,
    "reveal": "jby1jfuzlwp",
    "reveal-hidden": true
   },
   "source": [
    "What do you think will happen if we use a size smaller than our string - for example, what would `5$\"example\"` return? "
   ]
  },
  {
   "cell_type": "code",
   "execution_count": null,
   "metadata": {
    "hidden": true,
    "reveal": "jby1jfuzlwp"
   },
   "outputs": [],
   "source": [
    "5$\"example\""
   ]
  },
  {
   "cell_type": "markdown",
   "metadata": {
    "hidden": true
   },
   "source": [
    "<img src=\"../qbies.png\" width=\"50px\" style=\"width: 50px;padding-right:5px;padding-top:5px;padding-left:5px;\" align=\"left\"/>\n",
    "\n",
    "<p style='color:#273a6e'><i> Be careful when using padding that you know the length of your longest string - or you might end up losing data!</a></i></p>"
   ]
  },
  {
   "cell_type": "markdown",
   "metadata": {
    "hidden": true
   },
   "source": [
    "## String Casing\n",
    "\n",
    "`lower` is a monadic function that converts strings and symbols to lower case.<br>\n",
    "`upper` is a monadic function that converts strings and symbols to upper case. [Further Reading](https://code.kx.com/q/ref/lower/#upper)"
   ]
  },
  {
   "cell_type": "code",
   "execution_count": 32,
   "metadata": {
    "hidden": true
   },
   "outputs": [
    {
     "name": "stdout",
     "output_type": "stream",
     "text": [
      "1b\n",
      "1b\n"
     ]
    }
   ],
   "source": [
    "`small~lower `SMALL\n",
    "\"BIG\"~upper \"big\""
   ]
  },
  {
   "cell_type": "markdown",
   "metadata": {
    "hidden": true,
    "reveal": "dk2j7b7pp6e",
    "reveal-hidden": true
   },
   "source": [
    "##### Exercise\n",
    "Write `\" KDB is Fun ! \"` in all lower case, and in all capitals."
   ]
  },
  {
   "cell_type": "code",
   "execution_count": null,
   "metadata": {
    "hidden": true,
    "reveal": "dk2j7b7pp6e"
   },
   "outputs": [],
   "source": [
    "lower \" KDB is Fun ! \"\n",
    "upper \" KDB is Fun ! \""
   ]
  },
  {
   "cell_type": "code",
   "execution_count": 33,
   "metadata": {
    "hidden": true
   },
   "outputs": [
    {
     "name": "stdout",
     "output_type": "stream",
     "text": [
      " kdb is fun ! \n",
      " KDB IS FUN ! \n"
     ]
    }
   ],
   "source": [
    "// write your code here \n",
    "a: \" KDB is Fun ! \"\n",
    "lower a\n",
    "upper a\n"
   ]
  },
  {
   "cell_type": "markdown",
   "metadata": {
    "hidden": true
   },
   "source": [
    "<img src=\"../qbies.png\" width=\"50px\" style=\"width: 50px;padding-right:5px;padding-top:5px;padding-left:5px;\" align=\"left\"/>\n",
    "\n",
    "<p style='color:#273a6e'><i> Strings in kdb+/q are case sensitive! So <code>\"Qbee\"</code> is not equivalent to <code>\"qbee\"</code>. </a></i></p>"
   ]
  },
  {
   "cell_type": "markdown",
   "metadata": {
    "heading_collapsed": true
   },
   "source": [
    "# String comparison and search\n",
    "\n",
    "Now that we know how to manipulate our strings, the next thing we need to consider is how can we make comparisons between strings, and look for particular patterns within them.\n"
   ]
  },
  {
   "cell_type": "markdown",
   "metadata": {
    "heading_collapsed": true,
    "hidden": true,
    "jp-MarkdownHeadingCollapsed": true
   },
   "source": [
    "## Caution - how NOT to compare strings"
   ]
  },
  {
   "cell_type": "markdown",
   "metadata": {
    "hidden": true
   },
   "source": [
    "Since strings are list of characters, rather than individual atoms we can't do what we would do automatically with other datatypes and check for equality: "
   ]
  },
  {
   "cell_type": "code",
   "execution_count": 35,
   "metadata": {
    "hidden": true
   },
   "outputs": [
    {
     "name": "stdout",
     "output_type": "stream",
     "text": [
      "100b\n"
     ]
    }
   ],
   "source": [
    "\"tin\" = \"t\""
   ]
  },
  {
   "cell_type": "markdown",
   "metadata": {
    "hidden": true
   },
   "source": [
    "The reason for this is because in order to check equality between lists, we need two lists of the same size, or an atom and a list:"
   ]
  },
  {
   "cell_type": "code",
   "execution_count": 36,
   "metadata": {
    "hidden": true
   },
   "outputs": [
    {
     "name": "stdout",
     "output_type": "stream",
     "text": [
      "10b\n",
      "10b\n",
      "001b\n"
     ]
    }
   ],
   "source": [
    "1= 1 2 \n",
    "\"a\"= \"ab\"    //textual equivalent\n",
    "\"tin\" = \"man\""
   ]
  },
  {
   "cell_type": "markdown",
   "metadata": {
    "hidden": true
   },
   "source": [
    "We could see that it would be possible to do the comparisons if the strings are the same length but it's not necessarily as performant as our next keyword `like`, and certainly not as efficient!"
   ]
  },
  {
   "cell_type": "markdown",
   "metadata": {
    "hidden": true
   },
   "source": [
    "<img src=\"../qbies.png\" width=\"50px\" style=\"width: 50px;padding-right:5px;padding-top:35px;padding-left:5px;\" align=\"left\"/>\n",
    "\n",
    "<p style='color:#273a6e'><i> If we want to compare the performance of different code implementations, we can preface our code with the following: <code>\\ts MY_CODE_HERE</code> which will give us the <a href=\"https://code.kx.com/q/basics/syscmds/#ts-time-and-space\">time and space</a> associated with running that piece of code. We can run the test multiple times and return the totals back by adding the number of repeated timings we'd like to do e.g. to run our code 20000 times we can say <code>\\ts:20000 MY_CODE_HERE</code>. The time is returned in milliseconds and the space is measure in bytes.</a></i></p>"
   ]
  },
  {
   "cell_type": "markdown",
   "metadata": {
    "hidden": true
   },
   "source": [
    "We can use this utility to check the performance of a number of different methods to compare strings - because kdb+/q is so performant we have to repeat this a number of times to get a time measurement that registers. "
   ]
  },
  {
   "cell_type": "code",
   "execution_count": 41,
   "metadata": {
    "hidden": true
   },
   "outputs": [
    {
     "name": "stdout",
     "output_type": "stream",
     "text": [
      "16 1264\n",
      "0 1312\n",
      "5 1024\n",
      "0b\n"
     ]
    }
   ],
   "source": [
    "\\ts:50000  all \"tin\" = \"man\"    //we need to add all here, since they only match if ALL characters match\n",
    "\\ts \"tin\"~\"man\"           //we need to have an EXACT match\n",
    "\\ts:50000 \"tin\" like \"man\"  //your best friend when comparisng strings is like!\n",
    "\"tin\" like \"ton\"  "
   ]
  },
  {
   "cell_type": "markdown",
   "metadata": {
    "heading_collapsed": true,
    "hidden": true,
    "jp-MarkdownHeadingCollapsed": true
   },
   "source": [
    "## String comparison using `like`\n",
    "The keyword [`like`](https://code.kx.com/q/ref/like/) is used to: \n",
    "* Compare strings with other strings\n",
    "* Compare strings with symbols\n",
    "* Compare symbols with symbols *(If you're looking for an exact match, this won't be as performant as `=` for example)*.\n",
    "* Perform REGEX comparisons\n",
    "\n",
    "It supports one or more wild card characters at the front, middle or tail of the list. The like function will return either Boolean true or Boolean false."
   ]
  },
  {
   "cell_type": "code",
   "execution_count": 42,
   "metadata": {
    "hidden": true
   },
   "outputs": [
    {
     "name": "stdout",
     "output_type": "stream",
     "text": [
      "1b\n",
      "1b\n"
     ]
    }
   ],
   "source": [
    "y:\"IBM.OQ\"               //A simple string\n",
    "like[y;\"IBM*\"]           //Does the input string begin in “IBM” - followed by anything\n",
    "y like \"IBM*\"            //infix notation"
   ]
  },
  {
   "cell_type": "code",
   "execution_count": null,
   "metadata": {
    "hidden": true
   },
   "outputs": [],
   "source": [
    "like[y;\"*.OQ\"]           // checks does the input string end in “.OQ”."
   ]
  },
  {
   "cell_type": "markdown",
   "metadata": {
    "hidden": true
   },
   "source": [
    "Here,  `*` is a [wildcard](https://code.kx.com/q/basics/regex/)."
   ]
  },
  {
   "cell_type": "markdown",
   "metadata": {
    "hidden": true
   },
   "source": [
    "<img src=\"../qbies.png\" width=\"50px\" style=\"width: 50px;padding-right:5px;padding-top:20px;padding-left:5px;\" align=\"left\"/>\n",
    "\n",
    "<p style='color:#273a6e'><i> You can use wildcards <code>*</code> at the beginning <b>AND</b> end to match for a particular pattern anywhere in the string e.g. <code>\"*BEE*\"</code> would match <code>\"QBEE\"</code> and <code>\"ITS BEE-EE-A-U-T-FUL\"</code>. Trying to extend the wildcard to search for multiple patterns though, like <code>\"*this*and*then*\"</code> is not supported. </a></i></p>"
   ]
  },
  {
   "cell_type": "markdown",
   "metadata": {
    "hidden": true
   },
   "source": [
    "There are many other REGEX expressions that can be used in kdb+/q - here are some examples: "
   ]
  },
  {
   "cell_type": "code",
   "execution_count": 44,
   "metadata": {
    "hidden": true
   },
   "outputs": [
    {
     "name": "stdout",
     "output_type": "stream",
     "text": [
      "1b\n"
     ]
    }
   ],
   "source": [
    "like[y;\"I?M*\"]                       //the “?” is a single wild card character"
   ]
  },
  {
   "cell_type": "code",
   "execution_count": 43,
   "metadata": {
    "hidden": true
   },
   "outputs": [
    {
     "name": "stdout",
     "output_type": "stream",
     "text": [
      "1b\n"
     ]
    }
   ],
   "source": [
    "like[\"this\";\"[tT]his\"]               //the 1st character can either be “t” or “T”"
   ]
  },
  {
   "cell_type": "code",
   "execution_count": 45,
   "metadata": {
    "hidden": true
   },
   "outputs": [
    {
     "name": "stdout",
     "output_type": "stream",
     "text": [
      "0b\n"
     ]
    }
   ],
   "source": [
    "like[\"his\";\"[tT]his\"]               "
   ]
  },
  {
   "cell_type": "code",
   "execution_count": 47,
   "metadata": {
    "hidden": true
   },
   "outputs": [
    {
     "name": "stdout",
     "output_type": "stream",
     "text": [
      "1b\n"
     ]
    }
   ],
   "source": [
    "like[\"Winners2020\";\"W*20[12][0-9]\"]  //will match with winners from 2010 -> 2029 "
   ]
  },
  {
   "cell_type": "markdown",
   "metadata": {
    "hidden": true
   },
   "source": [
    "The `like` function can even handle symbols:"
   ]
  },
  {
   "cell_type": "code",
   "execution_count": 46,
   "metadata": {
    "hidden": true
   },
   "outputs": [
    {
     "name": "stdout",
     "output_type": "stream",
     "text": [
      "1b\n",
      "`IBM.OQ\n"
     ]
    }
   ],
   "source": [
    "show z:`$y                         //cast the string y to be an atomic symbol `IBM.OQ \n",
    "like[z;\"IBM*\"]                     //like works as before "
   ]
  },
  {
   "cell_type": "markdown",
   "metadata": {
    "hidden": true,
    "reveal": "7rf9m5wacop",
    "reveal-hidden": true
   },
   "source": [
    "##### Exercise \n",
    "Use the `like` function to find where all of the ID's contain the string \"JPM\" in the list <code>\\`JPM.AB\\`JPM.CD\\`BM.QW\\`MSFT.AB</code>"
   ]
  },
  {
   "cell_type": "code",
   "execution_count": 48,
   "metadata": {
    "hidden": true,
    "reveal": "7rf9m5wacop"
   },
   "outputs": [
    {
     "name": "stdout",
     "output_type": "stream",
     "text": [
      "1100b\n",
      "1100b\n"
     ]
    }
   ],
   "source": [
    "l:`JPM.AB`JPM.CD`IBM.QW`MSFT.AB\n",
    "like[l;\"JPM*\"]\n",
    "l like \"JPM*\""
   ]
  },
  {
   "cell_type": "code",
   "execution_count": 51,
   "metadata": {
    "hidden": true
   },
   "outputs": [
    {
     "name": "stdout",
     "output_type": "stream",
     "text": [
      "1100b\n"
     ]
    }
   ],
   "source": [
    "// write your code here\n",
    "l: `JPM.AB`JPM.CD`BM.QW`MSFT.AB\n",
    "like[l; \"JPM*\"]"
   ]
  },
  {
   "cell_type": "markdown",
   "metadata": {
    "hidden": true
   },
   "source": [
    "## String Search (and Replace)\n",
    "\n",
    "[String search](https://code.kx.com/q/ref/ss/) `ss[x;y]` searches a string x for the index of where the value y appears. `ss` supports pattern matching capabilities of like."
   ]
  },
  {
   "cell_type": "code",
   "execution_count": 52,
   "metadata": {
    "hidden": true
   },
   "outputs": [
    {
     "name": "stdout",
     "output_type": "stream",
     "text": [
      "3 8\n"
     ]
    }
   ],
   "source": [
    "s:\"toronto ontario\"\n",
    "s ss \"ont\"             //pattern occurs at indexes 3 and 8 "
   ]
  },
  {
   "cell_type": "code",
   "execution_count": 53,
   "metadata": {
    "hidden": true
   },
   "outputs": [
    {
     "name": "stdout",
     "output_type": "stream",
     "text": [
      "2 13\n"
     ]
    }
   ],
   "source": [
    "s ss \"[ir]o\"           //mix with regex search "
   ]
  },
  {
   "cell_type": "code",
   "execution_count": 55,
   "metadata": {
    "hidden": true
   },
   "outputs": [
    {
     "name": "stdout",
     "output_type": "stream",
     "text": [
      "0 10\n"
     ]
    }
   ],
   "source": [
    "s ss \"t?r\"             //match with tor and tar (? can be any character)"
   ]
  },
  {
   "cell_type": "markdown",
   "metadata": {
    "hidden": true,
    "reveal": "7hspnb0c7ms",
    "reveal-hidden": true
   },
   "source": [
    "##### Exercise\n",
    "Find the index of all the \"o\"'s in the string `s:\"toronto ontario\"`"
   ]
  },
  {
   "cell_type": "code",
   "execution_count": null,
   "metadata": {
    "hidden": true,
    "reveal": "7hspnb0c7ms"
   },
   "outputs": [],
   "source": [
    "show s:\"toronto ontario\"\n",
    "ss[s;\"o\"]\n",
    "s ss \"o\"    //infix notation"
   ]
  },
  {
   "cell_type": "code",
   "execution_count": 56,
   "metadata": {
    "hidden": true
   },
   "outputs": [
    {
     "name": "stdout",
     "output_type": "stream",
     "text": [
      "1 3 6 8 14\n"
     ]
    }
   ],
   "source": [
    "// write your code here \n",
    "ss[s;\"o\"]"
   ]
  },
  {
   "cell_type": "markdown",
   "metadata": {
    "hidden": true
   },
   "source": [
    "**String Search Replace**\n",
    "\n",
    "[String search replace](https://code.kx.com/q/ref/ss/#ssr) `ssr[x;y;z]` searches a string x for a pattern y and replaces it with a third pattern z."
   ]
  },
  {
   "cell_type": "code",
   "execution_count": 57,
   "metadata": {
    "hidden": true
   },
   "outputs": [
    {
     "name": "stdout",
     "output_type": "stream",
     "text": [
      "torxo xario\n",
      "\"toronto ontario\"\n"
     ]
    }
   ],
   "source": [
    "show s:\"toronto ontario\"\n",
    "ssr[s;\"ont\";\"x\"]                                    / replace \"ont\" by \"x\""
   ]
  },
  {
   "cell_type": "code",
   "execution_count": 58,
   "metadata": {
    "hidden": true
   },
   "outputs": [
    {
     "name": "stdout",
     "output_type": "stream",
     "text": [
      "TORonto onTARio\n"
     ]
    }
   ],
   "source": [
    "ssr[s;\"t?r\";upper]                                  / replace matches by their uppercase"
   ]
  },
  {
   "cell_type": "markdown",
   "metadata": {
    "hidden": true
   },
   "source": [
    "<img src=\"../qbies.png\" width=\"50px\" style=\"width: 50px;padding-right:5px;padding-top:5px;padding-left:5px;\" align=\"left\"/>\n",
    "\n",
    "<p style='color:#273a6e'><i> You cannot use * to match with ss and ssr </i></p>"
   ]
  },
  {
   "cell_type": "markdown",
   "metadata": {
    "hidden": true,
    "reveal": "2j3ndpeio9k",
    "reveal-hidden": true
   },
   "source": [
    "##### Exercise\n",
    "Replace all the \"o\"'s with \"s\"'s."
   ]
  },
  {
   "cell_type": "code",
   "execution_count": null,
   "metadata": {
    "hidden": true,
    "reveal": "2j3ndpeio9k"
   },
   "outputs": [],
   "source": [
    "ssr[s;\"o\";\"s\"]"
   ]
  },
  {
   "cell_type": "code",
   "execution_count": 59,
   "metadata": {
    "hidden": true
   },
   "outputs": [
    {
     "name": "stdout",
     "output_type": "stream",
     "text": [
      "tsrsnts sntaris\n"
     ]
    }
   ],
   "source": [
    "// write your code here \n",
    "ssr[s;\"o\";\"s\"]"
   ]
  },
  {
   "cell_type": "markdown",
   "metadata": {
    "hidden": true,
    "reveal": "la8n6bfpjqj",
    "reveal-hidden": false
   },
   "source": [
    "##### Exercise \n",
    "Similar to how we applied the function `upper` to the match, can you remove the \"o\"'s from the string `s` defined above, only where they are followed by an \"n\"? "
   ]
  },
  {
   "cell_type": "code",
   "execution_count": 60,
   "metadata": {
    "hidden": true,
    "reveal": "la8n6bfpjqj"
   },
   "outputs": [
    {
     "name": "stdout",
     "output_type": "stream",
     "text": [
      "tornto ntario\n"
     ]
    }
   ],
   "source": [
    "ssr[s;\"on\";1_]"
   ]
  },
  {
   "cell_type": "code",
   "execution_count": 62,
   "metadata": {
    "hidden": true
   },
   "outputs": [
    {
     "name": "stdout",
     "output_type": "stream",
     "text": [
      "tornto ntario\n"
     ]
    }
   ],
   "source": [
    "// write your code here \n",
    "ssr[s;\"on\";\"n\"]"
   ]
  },
  {
   "cell_type": "code",
   "execution_count": null,
   "metadata": {},
   "outputs": [],
   "source": []
  }
 ],
 "metadata": {
  "kernelspec": {
   "display_name": "Python 3 (ipykernel)",
   "language": "python",
   "name": "python3"
  },
  "language_info": {
   "codemirror_mode": {
    "name": "ipython",
    "version": 3
   },
   "file_extension": ".py",
   "mimetype": "text/x-python",
   "name": "python",
   "nbconvert_exporter": "python",
   "pygments_lexer": "ipython3",
   "version": "3.11.10"
  },
  "toc": {
   "base_numbering": 1,
   "nav_menu": {},
   "number_sections": true,
   "sideBar": true,
   "skip_h1_title": false,
   "title_cell": "Table of Contents",
   "title_sidebar": "Contents",
   "toc_cell": false,
   "toc_position": {
    "height": "calc(100% - 180px)",
    "left": "10px",
    "top": "150px",
    "width": "340.8px"
   },
   "toc_section_display": true,
   "toc_window_display": true
  }
 },
 "nbformat": 4,
 "nbformat_minor": 4
}
