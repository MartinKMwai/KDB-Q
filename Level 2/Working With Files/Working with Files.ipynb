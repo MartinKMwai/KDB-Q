{
 "cells": [
  {
   "cell_type": "code",
   "execution_count": 1,
   "metadata": {
    "autorun": true,
    "editable": false,
    "jupyter": {
     "source_hidden": true
    },
    "tags": [
     "remove-cell"
    ]
   },
   "outputs": [],
   "source": [
    "#;.pykx.disableJupyter()"
   ]
  },
  {
   "cell_type": "code",
   "execution_count": 2,
   "metadata": {
    "autorun": true,
    "editable": false,
    "jupyter": {
     "source_hidden": true
    },
    "tags": [
     "remove-cell"
    ]
   },
   "outputs": [
    {
     "name": "stdout",
     "output_type": "stream",
     "text": [
      "PyKX now running in 'jupyter_qfirst' mode. All cells by default will be run as q code. \n",
      "Include '%%py' at the beginning of each cell to run as python code. \n"
     ]
    }
   ],
   "source": [
    "# https://code.kx.com/pykx/3.0/examples/jupyter-integration.html#q-first-mode\n",
    "import pykx as kx\n",
    "kx.util.jupyter_qfirst_enable()"
   ]
  },
  {
   "cell_type": "markdown",
   "metadata": {},
   "source": [
    "**Learning Outcomes**\n",
    "\n",
    "To understand: \n",
    "* Creating and using file paths \n",
    "* Useful in-built functions: `key` `hsym` & `sv`\n",
    "* Using file handles\n",
    "* Loading and saving data in kdb+/q native format\n",
    "* Loading and saving data to Text, CSV & JSON format\n"
   ]
  },
  {
   "cell_type": "markdown",
   "metadata": {},
   "source": [
    "# Introduction\n",
    "It is very important to know how to manipulate files and navigate folders in kdb+. Until now we have primarily operated on tables in memory. This session focuses on how we can save data to disk. "
   ]
  },
  {
   "cell_type": "markdown",
   "metadata": {
    "jp-MarkdownHeadingCollapsed": true
   },
   "source": [
    "# Creating file paths\n",
    "For saving and reading files we should be familiar with the general file path structure. A file handle is a symbol that represents the name of a directory or a file on persistent storage. "
   ]
  },
  {
   "cell_type": "markdown",
   "metadata": {},
   "source": [
    "Syntax :``` `:path/nameOfFile ```"
   ]
  },
  {
   "cell_type": "markdown",
   "metadata": {},
   "source": [
    "The current directory is denoted with a single dot, and like all file handles in kdb+/q are stored as symbols with a leading `:` :\n",
    "\n",
    "```\n",
    "`:.                   //current directory                            \n",
    "\n",
    "`:folder/otherFolder    // relative path      \n",
    "\n",
    "`:c:/folder/otherFolder     // full path   \n",
    "```"
   ]
  },
  {
   "cell_type": "markdown",
   "metadata": {},
   "source": [
    "## The `key` command \n",
    "We can use these filepaths in conjunction with the [`key`](https://code.kx.com/q/ref/key/) command in kdb+/q to return a list of the files in a provided directory filepath. "
   ]
  },
  {
   "cell_type": "code",
   "execution_count": 3,
   "metadata": {},
   "outputs": [
    {
     "name": "stdout",
     "output_type": "stream",
     "text": [
      "`s#`.ipynb_checkpoints`Working with Files Exercise.ipynb`Working with Files.i..\n"
     ]
    }
   ],
   "source": [
    "key `:.        //list the files present in the current directory"
   ]
  },
  {
   "cell_type": "markdown",
   "metadata": {},
   "source": [
    "Let's try and create a file path in q using the information that we have up until now: "
   ]
  },
  {
   "cell_type": "code",
   "execution_count": 4,
   "metadata": {},
   "outputs": [
    {
     "name": "stdout",
     "output_type": "stream",
     "text": [
      ":data/test.csv\n"
     ]
    }
   ],
   "source": [
    "`:data/test.csv       //creating a simple file path with no white spaces"
   ]
  },
  {
   "cell_type": "code",
   "execution_count": 5,
   "metadata": {},
   "outputs": [
    {
     "name": "stdout",
     "output_type": "stream",
     "text": [
      ":data/test 1.csv\n"
     ]
    }
   ],
   "source": [
    "`$\":data/test 1.csv\"  //files with white spaces are provided as strings first and then cast to symbol"
   ]
  },
  {
   "cell_type": "markdown",
   "metadata": {},
   "source": [
    "If we pass a file or folder to `key` that does not exist, we will get back a non-typed empty list:"
   ]
  },
  {
   "cell_type": "code",
   "execution_count": 6,
   "metadata": {},
   "outputs": [
    {
     "name": "stdout",
     "output_type": "stream",
     "text": [
      ":Working with Files.ipynb\n",
      "()\n",
      "1b\n"
     ]
    }
   ],
   "source": [
    "key `$\":Working with Files.ipynb\"          //path returned\n",
    "key `:notHere.ipynb                        //non existant files return ()\n",
    "()~key `:notHere.ipynb               "
   ]
  },
  {
   "cell_type": "markdown",
   "metadata": {
    "reveal": "d454g51sdgv",
    "reveal-hidden": true
   },
   "source": [
    "##### Exercise\n",
    "Using `key`, count the number of files in the current directory"
   ]
  },
  {
   "cell_type": "code",
   "execution_count": null,
   "metadata": {
    "reveal": "d454g51sdgv"
   },
   "outputs": [],
   "source": [
    "count key `:."
   ]
  },
  {
   "cell_type": "code",
   "execution_count": 7,
   "metadata": {},
   "outputs": [
    {
     "name": "stdout",
     "output_type": "stream",
     "text": [
      "3\n"
     ]
    }
   ],
   "source": [
    "//your answer here\n",
    "count key`:."
   ]
  },
  {
   "cell_type": "markdown",
   "metadata": {},
   "source": [
    "## The `hsym` function\n",
    "The [`hsym`](https://code.kx.com/q/ref/hsym/) function can be used to turn a symbol/string into a file path by adding a leading colon, if it's not already there. "
   ]
  },
  {
   "cell_type": "markdown",
   "metadata": {},
   "source": [
    "Suppose we look first at the files and directories available in our current working directory: "
   ]
  },
  {
   "cell_type": "code",
   "execution_count": 8,
   "metadata": {},
   "outputs": [
    {
     "name": "stdout",
     "output_type": "stream",
     "text": [
      "`s#`.ipynb_checkpoints`Working with Files Exercise.ipynb`Working with Files.i..\n"
     ]
    }
   ],
   "source": [
    "key `:. "
   ]
  },
  {
   "cell_type": "markdown",
   "metadata": {},
   "source": [
    "Let's change the  first symbol into a file handle using `hsym` and then further inspect that directory: "
   ]
  },
  {
   "cell_type": "code",
   "execution_count": 9,
   "metadata": {},
   "outputs": [
    {
     "name": "stdout",
     "output_type": "stream",
     "text": [
      ":.ipynb_checkpoints\n",
      "`s#,`Working with Files-checkpoint.ipynb\n"
     ]
    }
   ],
   "source": [
    "hsym first key `:.         //making this a file handle \n",
    "key hsym first key `:.     //using key on this new directory to see what files exist there"
   ]
  },
  {
   "cell_type": "markdown",
   "metadata": {},
   "source": [
    "In order to recognize these files as referencing to our disk structure we need the leading colon, without it we are just applying key to a symbol."
   ]
  },
  {
   "cell_type": "code",
   "execution_count": 11,
   "metadata": {},
   "outputs": [
    {
     "name": "stdout",
     "output_type": "stream",
     "text": [
      "()\n",
      "()\n",
      "1b\n",
      ":random\n"
     ]
    }
   ],
   "source": [
    "key first key `:.\n",
    "key `randomSymbol\n",
    "key[`randomSymbol]~key first key `:.\n",
    "hsym `random"
   ]
  },
  {
   "cell_type": "markdown",
   "metadata": {},
   "source": [
    "We also don't need to worry about whether a symbol is already a filepath when using `hsym`, applying it multiple times has no adverse affects: "
   ]
  },
  {
   "cell_type": "code",
   "execution_count": 12,
   "metadata": {},
   "outputs": [
    {
     "name": "stdout",
     "output_type": "stream",
     "text": [
      ":path\n",
      ":path\n"
     ]
    }
   ],
   "source": [
    "hsym `:path\n",
    "hsym hsym `:path"
   ]
  },
  {
   "cell_type": "markdown",
   "metadata": {},
   "source": [
    "## sv \n",
    "\n",
    "The dyadic [`sv`](https://code.kx.com/q/ref/sv/) function is heavily overloaded and in particular when used with file handles behaves differently and we can use it to help build file paths."
   ]
  },
  {
   "cell_type": "markdown",
   "metadata": {},
   "source": [
    "Building a file path with `sv` is very easy and the syntax is as follows:\n",
    "\n",
    "``` ` sv `:[list of folders]```\n",
    "\n",
    "Let's build on the operators we've already seen and use the `sv` operator to build the full filepaths for all files in the .ipynb_checkpoints folder: "
   ]
  },
  {
   "cell_type": "code",
   "execution_count": 13,
   "metadata": {},
   "outputs": [
    {
     "name": "stdout",
     "output_type": "stream",
     "text": [
      "`:.ipynb_checkpoints\n"
     ]
    }
   ],
   "source": [
    "show cp:hsym[first key `:.]   //our checkpoint directory"
   ]
  },
  {
   "cell_type": "code",
   "execution_count": 14,
   "metadata": {},
   "outputs": [
    {
     "name": "stdout",
     "output_type": "stream",
     "text": [
      ":.ipynb_checkpoints Working with Files-checkpoint.ipynb\n",
      "`:.ipynb_checkpoints`Working with Files-checkpoint.ipynb\n"
     ]
    }
   ],
   "source": [
    "cp,/: key cp                  //joining our directory to each file within it - making paired lists\n",
    "first cp,/: key cp            //the format of our first list"
   ]
  },
  {
   "cell_type": "code",
   "execution_count": 15,
   "metadata": {},
   "outputs": [
    {
     "name": "stdout",
     "output_type": "stream",
     "text": [
      ",`:.ipynb_checkpoints/Working with Files-checkpoint.ipynb\n"
     ]
    }
   ],
   "source": [
    "` sv' cp,/: key cp            //making our full file paths for each file within that directory "
   ]
  },
  {
   "cell_type": "markdown",
   "metadata": {},
   "source": [
    "Above we use `'` - the each both operator - to apply the `sv` command pairwise using <code>`</code> with each of our file lists. \n",
    "\n",
    "\n",
    "For `sv` to work correctly in this fashion, the first symbol in the list must be a filehandle (i.e. start with a colon)."
   ]
  },
  {
   "cell_type": "code",
   "execution_count": 16,
   "metadata": {},
   "outputs": [
    {
     "name": "stdout",
     "output_type": "stream",
     "text": [
      "a.b.c\n",
      ":a/b/c\n"
     ]
    }
   ],
   "source": [
    "` sv `a`b`c           //can use this for namespace indexing\n",
    "` sv `:a`b`c          //use this for building file paths\n",
    "\n",
    "f:`adp\n",
    "                                "
   ]
  },
  {
   "cell_type": "markdown",
   "metadata": {
    "reveal": "56dzu012qz",
    "reveal-hidden": false
   },
   "source": [
    "##### Exercise \n",
    "\n",
    "Use `sv` to create the function `pathToTable` that takes three inputs - a directory path (e.g. <code>\\`:.</code>), a date (e.g. `2020.01.01`) and a tableName as a symbol (e.g. `trade`). \n",
    "\n",
    "This function should return a filepath like the below:  \n",
    "    \n",
    "    pathToTable[`:.;2020.01.01;`trade]\n",
    "    `:./2020.01.01/trade\n"
   ]
  },
  {
   "cell_type": "code",
   "execution_count": null,
   "metadata": {
    "reveal": "56dzu012qz"
   },
   "outputs": [],
   "source": [
    "pathToTable:{[dir;date;tab]\n",
    "            ` sv (dir;`$string date;tab)}\n",
    "pathToTable[`:.;2020.01.01;`trade]"
   ]
  },
  {
   "cell_type": "code",
   "execution_count": 17,
   "metadata": {},
   "outputs": [
    {
     "name": "stdout",
     "output_type": "stream",
     "text": [
      ":./2020.01.01/trade\n"
     ]
    }
   ],
   "source": [
    "//your answer here\n",
    "pathToTable:{[arg1;arg2;arg3]\n",
    "    ` sv (arg1; `$string arg2;arg3)}\n",
    "pathToTable[`:.;2020.01.01;`trade]\n"
   ]
  },
  {
   "cell_type": "markdown",
   "metadata": {},
   "source": [
    "# Saving and loading kdb+/q data\n",
    "\n",
    "Most often when working with kdb+/q, the data we will be storing and working with will be in native kdb+/q binary format. In this section we discuss how to save and load this data. "
   ]
  },
  {
   "cell_type": "markdown",
   "metadata": {},
   "source": [
    "## Saving kdb+/q data \n",
    "Saving data in kdb+/q format is pretty straightforward - we can do so using the [`set`](https://code.kx.com/q/ref/get/#set) command."
   ]
  },
  {
   "cell_type": "markdown",
   "metadata": {},
   "source": [
    "The `set` command takes two inputs: \n",
    "* The file path (as a handle) where we want to store our data\n",
    "* The data itself \n",
    "\n",
    "For example: "
   ]
  },
  {
   "cell_type": "code",
   "execution_count": 18,
   "metadata": {},
   "outputs": [
    {
     "name": "stdout",
     "output_type": "stream",
     "text": [
      ":tradeTable\n",
      "date       sym price   \n",
      "-----------------------\n",
      "2025.03.03 KX  20.57674\n",
      "2025.03.04 JPM 10.0478 \n",
      "2025.03.05 JPM 16.47928\n",
      "2025.03.06 IBM 79.60493\n",
      "2025.03.07 KX  73.92053\n",
      "2025.03.08 KX  81.47041\n",
      "2025.03.09 JPM 96.0203 \n",
      "2025.03.10 IBM 71.70023\n",
      "2025.03.11 KX  13.86499\n",
      "2025.03.12 JPM 83.68102\n"
     ]
    }
   ],
   "source": [
    "show trade:([]date:.z.d+til 10;sym:10?`IBM`KX`JPM;price:10?100.) //we have created a trades table to save down\n",
    "`:tradeTable  set  trade   //we are returned the name of the file upon success"
   ]
  },
  {
   "cell_type": "markdown",
   "metadata": {},
   "source": [
    "Another way in which we can achieve the same results is by using `.` amend to directly amend our data on disk: "
   ]
  },
  {
   "cell_type": "code",
   "execution_count": 19,
   "metadata": {},
   "outputs": [
    {
     "name": "stdout",
     "output_type": "stream",
     "text": [
      ":modifyDiskAtThisPoint\n"
     ]
    }
   ],
   "source": [
    ".[`:modifyDiskAtThisPoint;();:;1 2 3]   //modifying the specified file on disk to perform the following action \n",
    "                                            //in this case, the file doesn't exist so is created"
   ]
  },
  {
   "cell_type": "code",
   "execution_count": 20,
   "metadata": {},
   "outputs": [
    {
     "name": "stdout",
     "output_type": "stream",
     "text": [
      ":modifyDiskAtThisPoint\n"
     ]
    }
   ],
   "source": [
    ".[`:modifyDiskAtThisPoint;();,;4]       //direct on disk append"
   ]
  },
  {
   "cell_type": "code",
   "execution_count": 22,
   "metadata": {},
   "outputs": [
    {
     "name": "stdout",
     "output_type": "stream",
     "text": [
      "modifyDiskAtThisPoint\n"
     ]
    }
   ],
   "source": [
    "`modifyDiskAtThisPoint"
   ]
  },
  {
   "cell_type": "markdown",
   "metadata": {
    "reveal": "vmokrj3jr1q",
    "reveal-hidden": true
   },
   "source": [
    "##### Exercise \n",
    "\n",
    "Create a table called `covidCasesPerCountry` with two columns:\n",
    "* ``country:`US`UK`CHINA`SPAIN``\n",
    "* ``noOfCases:4500000 302000 84000 282000``\n",
    "\n",
    "Save this table down as a flat file."
   ]
  },
  {
   "cell_type": "code",
   "execution_count": null,
   "metadata": {
    "reveal": "vmokrj3jr1q"
   },
   "outputs": [],
   "source": [
    "covidCasesPerCountry:([]country:`US`UK`CHINA`SPAIN;noOfCases:4500000 302000 84000 282000)\n",
    "`:covidCasesPerCountry set covidCasesPerCountry //saving it as a flat file"
   ]
  },
  {
   "cell_type": "code",
   "execution_count": 24,
   "metadata": {},
   "outputs": [
    {
     "name": "stdout",
     "output_type": "stream",
     "text": [
      ":covidCasesPerCountry\n",
      "country| noOfCases\n",
      "-------| ---------\n",
      "US     | 4500000  \n",
      "UK     | 302000   \n",
      "CHINA  | 84000    \n",
      "SPAIN  | 282000   \n"
     ]
    }
   ],
   "source": [
    "//write your answer here\n",
    "show covidCasesPerCountry:([country:`US`UK`CHINA`SPAIN]noOfCases:4500000 302000 84000 282000)\n",
    "`:covidCasesPerCountry set covidCasesPerCountry"
   ]
  },
  {
   "cell_type": "markdown",
   "metadata": {
    "jp-MarkdownHeadingCollapsed": true
   },
   "source": [
    "## Loading kdb+/q data \n",
    "Loading our saved data back into our kdb+/q process is again straightforward - we can do so using the [`get`](https://code.kx.com/q/ref/get) command."
   ]
  },
  {
   "cell_type": "markdown",
   "metadata": {},
   "source": [
    "The keyword `get` takes one input, which in this case is the file path handle where our data is located: "
   ]
  },
  {
   "cell_type": "code",
   "execution_count": 25,
   "metadata": {},
   "outputs": [
    {
     "name": "stdout",
     "output_type": "stream",
     "text": [
      "date       sym price   \n",
      "-----------------------\n",
      "2025.03.03 KX  20.57674\n",
      "2025.03.04 JPM 10.0478 \n",
      "2025.03.05 JPM 16.47928\n",
      "2025.03.06 IBM 79.60493\n",
      "2025.03.07 KX  73.92053\n",
      "2025.03.08 KX  81.47041\n",
      "2025.03.09 JPM 96.0203 \n",
      "2025.03.10 IBM 71.70023\n",
      "2025.03.11 KX  13.86499\n",
      "2025.03.12 JPM 83.68102\n",
      "1 2 3 4\n"
     ]
    }
   ],
   "source": [
    "get `:tradeTable\n",
    "get `:modifyDiskAtThisPoint     //we also have our appended data from the last action"
   ]
  },
  {
   "cell_type": "code",
   "execution_count": 27,
   "metadata": {},
   "outputs": [],
   "source": [
    "//get `:notHere    //trying to return a file that doesn't exist throws an error"
   ]
  },
  {
   "cell_type": "markdown",
   "metadata": {
    "reveal": "u2ncco39ve",
    "reveal-hidden": false
   },
   "source": [
    "##### Exercise \n",
    "\n",
    "Load the `covidCasesPerCountry` table into memory and assign it to the variable `c`."
   ]
  },
  {
   "cell_type": "code",
   "execution_count": null,
   "metadata": {
    "reveal": "u2ncco39ve"
   },
   "outputs": [],
   "source": [
    "c:get `:covidCasesPerCountry\n",
    "c "
   ]
  },
  {
   "cell_type": "code",
   "execution_count": 29,
   "metadata": {},
   "outputs": [
    {
     "name": "stdout",
     "output_type": "stream",
     "text": [
      "country| noOfCases\n",
      "-------| ---------\n",
      "US     | 4500000  \n",
      "UK     | 302000   \n",
      "CHINA  | 84000    \n",
      "SPAIN  | 282000   \n"
     ]
    }
   ],
   "source": [
    "//write your answer here\n",
    "c:get`:covidCasesPerCountry\n",
    "c"
   ]
  },
  {
   "cell_type": "markdown",
   "metadata": {},
   "source": [
    "# Parsing other formats: Text, CSV & JSON\n",
    "We don't exist in a vacuum, and so it's important to know about how to load other common datatypes. In particular, we focus on .txt data (commonly used for logs), .csv data (common table format) and .json files (commonly used messaging format)."
   ]
  },
  {
   "cell_type": "markdown",
   "metadata": {},
   "source": [
    "## Text Data \n",
    "Many files are of .txt format, or can be read as if they were. In particular, log files are often stored as text files as they are expected to be human readable. "
   ]
  },
  {
   "cell_type": "markdown",
   "metadata": {},
   "source": [
    "### Writing to text files\n",
    "Often times we may want to write to a file for example when logging from our process. "
   ]
  },
  {
   "cell_type": "markdown",
   "metadata": {},
   "source": [
    "Let's assume we want to create a new file to start writing a log to, we can create this file by opening a handle to it: "
   ]
  },
  {
   "cell_type": "code",
   "execution_count": 35,
   "metadata": {},
   "outputs": [
    {
     "name": "stdout",
     "output_type": "stream",
     "text": [
      "1025i\n"
     ]
    }
   ],
   "source": [
    "myFileHandle: hopen `:myLog.txt  //creating a text log file \n",
    "myFileHandle                     //handles are stored as integers "
   ]
  },
  {
   "cell_type": "code",
   "execution_count": 36,
   "metadata": {},
   "outputs": [
    {
     "name": "stdout",
     "output_type": "stream",
     "text": [
      ":myLog.txt\n"
     ]
    }
   ],
   "source": [
    "key `:myLog.txt    //we can see this in our current directory now! - it returns the path so we know it exists"
   ]
  },
  {
   "cell_type": "markdown",
   "metadata": {},
   "source": [
    "In the above, we used the [`hopen`](https://code.kx.com/q/ref/hopen/) command to create a link between our current kdb+/q process and the file on disk. The handle is stored as an integer and we can use this value to send string data to our new text file: "
   ]
  },
  {
   "cell_type": "code",
   "execution_count": 38,
   "metadata": {},
   "outputs": [
    {
     "name": "stdout",
     "output_type": "stream",
     "text": [
      "1025i\n",
      "1025i\n"
     ]
    }
   ],
   "source": [
    "myFileHandle \"Writing some text \" //writing data to our new file \n",
    "myFileHandle \"on the same line\" //continuing our write on the same line"
   ]
  },
  {
   "cell_type": "code",
   "execution_count": 42,
   "metadata": {},
   "outputs": [
    {
     "name": "stdout",
     "output_type": "stream",
     "text": [
      "-1025i\n",
      "-1025i\n"
     ]
    }
   ],
   "source": [
    "neg[myFileHandle] \"this will end with a new line \"   //writing then starting a new line \n",
    "neg[myFileHandle] \"Now on the next line\"             //Check this in the file!"
   ]
  },
  {
   "cell_type": "markdown",
   "metadata": {},
   "source": [
    "When we use the negative of the file handle the message is sent with a return carraige (`\\n`) appended, meaning the next message sent will start on the next line. "
   ]
  },
  {
   "cell_type": "markdown",
   "metadata": {
    "reveal": "va1sd1z4i9o",
    "reveal-hidden": false
   },
   "source": [
    "##### Exercise \n",
    "\n",
    "First create a handle to our log file (<code>\\`:myLog.txt</code>) and call this `LOG_HANDLE`.\n",
    "\n",
    "Next, write a function called `protectedAdd` which wraps the `+` operator in protected evaluation. In the event of an error write an error message to our log file (using the global `LOG_HANDLE`) in the following format: \n",
    "    \n",
    "    <current timestamp> | ERROR | protectedAdd failed with error <error message>\n",
    "    \n",
    "and return a `0b` from the function. \n",
    "\n",
    "Verify your function works by calling `protectedAdd[1;\"123\"]`"
   ]
  },
  {
   "cell_type": "code",
   "execution_count": null,
   "metadata": {
    "reveal": "va1sd1z4i9o"
   },
   "outputs": [],
   "source": [
    "LOG_HANDLE: hopen `:myLog.txt\n",
    "protectedAdd:{.[+;(x;y);\n",
    "            {[err] errorMsg: string[.z.p],\"| ERROR | protectedAdd failed with error:\",err; \n",
    "               neg[LOG_HANDLE] errorMsg; 0b }]};\n",
    "                   \n",
    "protectedAdd[1;2]   //works fine without logging\n",
    "protectedAdd[1;\"123\"]  //returns 0b and we see a message in our file "
   ]
  },
  {
   "cell_type": "code",
   "execution_count": 44,
   "metadata": {},
   "outputs": [
    {
     "name": "stdout",
     "output_type": "stream",
     "text": [
      "3\n",
      "0b\n"
     ]
    }
   ],
   "source": [
    "//your answer here \n",
    "LOG_HANDLE:hopen `:myLog.txt\n",
    "protectedAdd:{.[+;(x;y);\n",
    "            {[err] errorMsg: string[.z.p],\"| ERROR | protectedAdd failed with error:\",err; \n",
    "               neg[LOG_HANDLE] errorMsg; 0b }]};\n",
    "protectedAdd[1;2]   \n",
    "protectedAdd[1;\"123\"] "
   ]
  },
  {
   "cell_type": "markdown",
   "metadata": {},
   "source": [
    "### Loading data from text files \n",
    "We can use the in-built [`read0`](https://code.kx.com/q/ref/read0/) function to read in a text file as a list of strings."
   ]
  },
  {
   "cell_type": "code",
   "execution_count": 45,
   "metadata": {},
   "outputs": [
    {
     "name": "stdout",
     "output_type": "stream",
     "text": [
      "\"Writing some text on the same lineWriting some text Writing some text on the..\n",
      "\"Now on the next line\"\n",
      "\"2025.03.03D01:17:03.076010499| ERROR | protectedAdd failed with error:type\"\n"
     ]
    }
   ],
   "source": [
    "read0 `:myLog.txt    //we can see the error we sent there now"
   ]
  },
  {
   "cell_type": "markdown",
   "metadata": {},
   "source": [
    "We can then parse this in whatever way we choose using string manipulation techniques. "
   ]
  },
  {
   "cell_type": "code",
   "execution_count": 46,
   "metadata": {},
   "outputs": [
    {
     "name": "stdout",
     "output_type": "stream",
     "text": [
      "(\"Writing\";\"some\";\"text\";\"on\";\"the\";\"same\";\"lineWriting\";\"some\";\"text\";\"Writi..\n",
      "(\"Now\";\"on\";\"the\";\"next\";\"line\")\n",
      "(\"2025.03.03D01:17:03.076010499|\";\"ERROR\";,\"|\";\"protectedAdd\";\"failed\";\"with\"..\n"
     ]
    }
   ],
   "source": [
    "\" \" vs' read0 `:myLog.txt  //splitting each line where spaces occur"
   ]
  },
  {
   "cell_type": "markdown",
   "metadata": {},
   "source": [
    "## CSV \n",
    "\n",
    "One of the most commonly used formats, many data sets are provided as csv files. "
   ]
  },
  {
   "cell_type": "markdown",
   "metadata": {},
   "source": [
    "### Saving to CSV\n",
    "\n",
    "Sometimes, we may want to export data from kdb+/q into csv files. We can achieve this using the `save` function, specifying a *csv* file extension.\n",
    "\n",
    "We can use our in-memory `trade` table:"
   ]
  },
  {
   "cell_type": "code",
   "execution_count": 47,
   "metadata": {},
   "outputs": [
    {
     "name": "stdout",
     "output_type": "stream",
     "text": [
      ":summary.csv\n",
      "sym| num price   \n",
      "---| ------------\n",
      "IBM| 2   75.65258\n",
      "JPM| 4   51.5571 \n",
      "KX | 4   47.45817\n"
     ]
    }
   ],
   "source": [
    "show summary: select num:count i , avg price by sym from trade // a summary of our trade table data \n",
    "save `:summary.csv                                             //we can also use the full path here either"
   ]
  },
  {
   "cell_type": "markdown",
   "metadata": {},
   "source": [
    "You can now see this file in the Jupyter Tree, you can open it there, or download it and open it in excel."
   ]
  },
  {
   "cell_type": "markdown",
   "metadata": {
    "reveal": "1aov91lvjjk",
    "reveal-hidden": true
   },
   "source": [
    "###### Exercise\n",
    "\n",
    "Save the table `covidCasesPerCountry` as a csv file."
   ]
  },
  {
   "cell_type": "code",
   "execution_count": null,
   "metadata": {
    "reveal": "1aov91lvjjk"
   },
   "outputs": [],
   "source": [
    "save `:covidCasesPerCountry.csv"
   ]
  },
  {
   "cell_type": "code",
   "execution_count": 48,
   "metadata": {},
   "outputs": [
    {
     "name": "stdout",
     "output_type": "stream",
     "text": [
      ":covidCasesPerCountry.csv\n"
     ]
    }
   ],
   "source": [
    "//write your answer here\n",
    "save`:covidCasesPerCountry.csv "
   ]
  },
  {
   "cell_type": "markdown",
   "metadata": {},
   "source": [
    "### Loading from CSV\n",
    "\n",
    "When reading in a csv or text file, we can use [`0:`](https://code.kx.com/q/ref/file-text/)  to parse the string input to a table format. To do so we need to specify the type of each column, along with the delimiter we want to use to separate the text data into columns."
   ]
  },
  {
   "cell_type": "code",
   "execution_count": 49,
   "metadata": {},
   "outputs": [
    {
     "name": "stdout",
     "output_type": "stream",
     "text": [
      "c    | t f a\n",
      "-----| -----\n",
      "sym  | s   s\n",
      "num  | j    \n",
      "price| f    \n"
     ]
    }
   ],
   "source": [
    "meta summary //checking types in summary table"
   ]
  },
  {
   "cell_type": "markdown",
   "metadata": {},
   "source": [
    "We can use this information to load in the csv file back to a kdb+/q table as follows:"
   ]
  },
  {
   "cell_type": "code",
   "execution_count": 50,
   "metadata": {},
   "outputs": [
    {
     "name": "stdout",
     "output_type": "stream",
     "text": [
      "sym num price   \n",
      "----------------\n",
      "IBM 2   75.65258\n",
      "JPM 4   51.5571 \n",
      "KX  4   47.45817\n"
     ]
    }
   ],
   "source": [
    "newsummary:(\"SJF\";enlist csv) 0: `$\":summary.csv\" \n",
    "newsummary"
   ]
  },
  {
   "cell_type": "markdown",
   "metadata": {
    "reveal": "9ry9km7bkvw",
    "reveal-hidden": true
   },
   "source": [
    "<img src=\"../qbies.png\" width=\"50px\" style=\"width: 50px;padding-right:5px;padding-top:2px;padding-left:5px;\" align=\"left\"/>\n",
    "<p style='color:#273a6e'><i> If we don't want to load a column from our text table we can leave an empty space instead of type indicator! </i></p>"
   ]
  },
  {
   "cell_type": "code",
   "execution_count": null,
   "metadata": {
    "reveal": "9ry9km7bkvw"
   },
   "outputs": [],
   "source": [
    "(\"S F\";enlist csv) 0: `$\":summary.csv\" "
   ]
  },
  {
   "cell_type": "markdown",
   "metadata": {},
   "source": [
    "The `enlist` in the above is an indication that the first row of our data is actually the table headers. If we remove this, we get our data returned as a list of lists, rather than as a table: "
   ]
  },
  {
   "cell_type": "code",
   "execution_count": 51,
   "metadata": {},
   "outputs": [
    {
     "name": "stdout",
     "output_type": "stream",
     "text": [
      "sym IBM      JPM     KX      \n",
      "    2        4       4       \n",
      "    75.65258 51.5571 47.45817\n"
     ]
    }
   ],
   "source": [
    "(\"SJF\";csv) 0: `$\":summary.csv\" "
   ]
  },
  {
   "cell_type": "markdown",
   "metadata": {
    "reveal": "u3epdb9rb4m",
    "reveal-hidden": false
   },
   "source": [
    "You'll notice the column headings are not included in two of our lists - do you know why? "
   ]
  },
  {
   "cell_type": "markdown",
   "metadata": {
    "reveal": "u3epdb9rb4m"
   },
   "source": [
    "This is because we are casting our lists to the appropriate list types indicated, in this case \"J\" and \"F\". There is no way to represent the string \"num\" as a whole literal long type, and so this returns a null value, similarly for \"price\". "
   ]
  },
  {
   "cell_type": "markdown",
   "metadata": {
    "reveal": "2nublh1s0o7",
    "reveal-hidden": true
   },
   "source": [
    "###### Exercise \n",
    "\n",
    "Load the csv file associated with the table `covidCasesPerCountry` into memory"
   ]
  },
  {
   "cell_type": "code",
   "execution_count": null,
   "metadata": {
    "reveal": "2nublh1s0o7"
   },
   "outputs": [],
   "source": [
    "meta covidCasesPerCountry //checking the type\n",
    "(\"SJ\";enlist csv) 0: hsym `$\"covidCasesPerCountry.csv\" //using hsym to create the file handle"
   ]
  },
  {
   "cell_type": "code",
   "execution_count": 54,
   "metadata": {},
   "outputs": [
    {
     "name": "stdout",
     "output_type": "stream",
     "text": [
      "c        | t f a\n",
      "---------| -----\n",
      "country  | s    \n",
      "noOfCases| j    \n",
      "country noOfCases\n",
      "-----------------\n",
      "US      4500000  \n",
      "UK      302000   \n",
      "CHINA   84000    \n",
      "SPAIN   282000   \n"
     ]
    }
   ],
   "source": [
    "//write your function here\n",
    "meta covidCasesPerCountry\n",
    "show newTable:(\"SJ\";enlist csv) 0: `$\":covidCasesPerCountry.csv\""
   ]
  },
  {
   "cell_type": "markdown",
   "metadata": {},
   "source": [
    "## JSON\n",
    "\n",
    "A commonly used message format. "
   ]
  },
  {
   "cell_type": "markdown",
   "metadata": {},
   "source": [
    "### Saving to JSON\n",
    "\n",
    "Data can also be exported from kdb+ into json files.\n",
    "\n",
    "Again, we achieve this using the `save` function. However, we now use a *json* file extension."
   ]
  },
  {
   "cell_type": "code",
   "execution_count": 60,
   "metadata": {},
   "outputs": [
    {
     "name": "stdout",
     "output_type": "stream",
     "text": [
      ":summary.json\n"
     ]
    }
   ],
   "source": [
    "//This will only work if you are running kdb+ 4.0\n",
    "save `$\":summary.json\"  //keyed tables can be saved this way to JSON "
   ]
  },
  {
   "cell_type": "code",
   "execution_count": 61,
   "metadata": {},
   "outputs": [
    {
     "name": "stdout",
     "output_type": "stream",
     "text": [
      ":summary.json\n"
     ]
    }
   ],
   "source": [
    "summary:0!summary; \n",
    "save `$\":summary.json\"  //saving our unkeyed table"
   ]
  },
  {
   "cell_type": "markdown",
   "metadata": {
    "reveal": "m8xq8196xqp",
    "reveal-hidden": false
   },
   "source": [
    "##### Exercise \n",
    "\n",
    "Create a new table called `actorsWithMostOscars` which contains these columns:\n",
    "* name:(\"Katherine Hepburn\";\"Ingrid Bergman\";\"Walter Brennan\";\"Daniel Day-Lewis\"; \"Jack Nicholson\";\"Meryl Streep\")\n",
    "* numOfOscars:4 3 3 3 3 3\n",
    "\n",
    "Save the table as a json file "
   ]
  },
  {
   "cell_type": "code",
   "execution_count": 58,
   "metadata": {
    "reveal": "m8xq8196xqp"
   },
   "outputs": [
    {
     "name": "stdout",
     "output_type": "stream",
     "text": [
      "name                x\n",
      "---------------------\n",
      "\"Katherine Hepburn\" 4\n",
      "\"Ingrid Bergman\"    3\n",
      "\"Walter Brennan\"    3\n",
      "\"Daniel Day-Lewis\"  3\n",
      "\"Jack Nicholson\"    3\n",
      "\"Meryl Streep\"      3\n"
     ]
    }
   ],
   "source": [
    "actorsWithMostOscars:([]name:(\"Katherine Hepburn\";\"Ingrid Bergman\";\"Walter Brennan\";\"Daniel Day-Lewis\"; \"Jack Nicholson\";\"Meryl Streep\");4 3 3 3 3 3)\n",
    "actorsWithMostOscars\n",
    "//save `$\":actorsWithMostOscars.json\""
   ]
  },
  {
   "cell_type": "code",
   "execution_count": 62,
   "metadata": {},
   "outputs": [
    {
     "name": "stdout",
     "output_type": "stream",
     "text": [
      ":actorsWithMostOscars.json\n",
      "name                numOfOscars\n",
      "-------------------------------\n",
      "\"Katherine Hepburn\" 4          \n",
      "\"Ingrid Bergman\"    3          \n",
      "\"Walter Brennan\"    3          \n",
      "\"Daniel Day-Lewis\"  3          \n",
      "\"Jack Nicholson\"    3          \n",
      "\"Meryl Streep\"      3          \n"
     ]
    }
   ],
   "source": [
    "//write your answer here\n",
    "show actorsWithMostOscars:([]name:(\"Katherine Hepburn\";\"Ingrid Bergman\";\"Walter Brennan\";\"Daniel Day-Lewis\"; \"Jack Nicholson\";\"Meryl Streep\");numOfOscars:(4 3 3 3 3 3))\n",
    "\n",
    "save `$\":actorsWithMostOscars.json\""
   ]
  },
  {
   "cell_type": "markdown",
   "metadata": {},
   "source": [
    "### Loading from JSON\n",
    "\n",
    "We may also want to import data into kdb+ from json files. We achieve this using the `load` function. \n",
    "\n",
    "Note that this will replace the current variable *summary* with the loaded version."
   ]
  },
  {
   "cell_type": "code",
   "execution_count": 63,
   "metadata": {},
   "outputs": [
    {
     "name": "stdout",
     "output_type": "stream",
     "text": [
      "summary\n",
      "sym   num price   \n",
      "------------------\n",
      "\"IBM\" 2   75.65258\n",
      "\"JPM\" 4   51.5571 \n",
      "\"KX\"  4   47.45817\n"
     ]
    }
   ],
   "source": [
    "load `$\":summary.json\"  //loading also sets the variable `summary in the process\n",
    "summary"
   ]
  },
  {
   "cell_type": "markdown",
   "metadata": {},
   "source": [
    "Unlike csv, json has some idea of data-types. However, since everything in json is either a *number* or a *string*, the sym and num columns have changed type."
   ]
  },
  {
   "cell_type": "code",
   "execution_count": 65,
   "metadata": {},
   "outputs": [
    {
     "name": "stdout",
     "output_type": "stream",
     "text": [
      "c    | t f a\n",
      "-----| -----\n",
      "sym  | s    \n",
      "num  | j    \n",
      "price| f    \n"
     ]
    }
   ],
   "source": [
    "meta summary "
   ]
  },
  {
   "cell_type": "markdown",
   "metadata": {},
   "source": [
    "We can convert them to *symbol* and *long* respectively, using `update`."
   ]
  },
  {
   "cell_type": "code",
   "execution_count": 64,
   "metadata": {},
   "outputs": [
    {
     "name": "stdout",
     "output_type": "stream",
     "text": [
      "summary\n",
      "c    | t f a\n",
      "-----| -----\n",
      "sym  | s    \n",
      "num  | j    \n",
      "price| f    \n"
     ]
    }
   ],
   "source": [
    "update \"S\"$sym, \"j\"$num from `summary\n",
    "meta summary"
   ]
  },
  {
   "cell_type": "markdown",
   "metadata": {
    "reveal": "z19ewwfziem",
    "reveal-hidden": true
   },
   "source": [
    "##### Exercise \n",
    "\n",
    "Load in the json file associated with the table `actorsWithMostOscars` that you created above. Update the name column to a symbol data-type."
   ]
  },
  {
   "cell_type": "code",
   "execution_count": null,
   "metadata": {
    "reveal": "z19ewwfziem"
   },
   "outputs": [],
   "source": [
    "load `:actorsWithMostOscars.json \n",
    "update \"S\"$name from `actorsWithMostOscars //updating name to symbol column\n",
    "meta actorsWithMostOscars"
   ]
  },
  {
   "cell_type": "code",
   "execution_count": 68,
   "metadata": {},
   "outputs": [
    {
     "name": "stdout",
     "output_type": "stream",
     "text": [
      "actorsWithMostOscars\n",
      "name                numOfOscars\n",
      "-------------------------------\n",
      "\"Katherine Hepburn\" 4          \n",
      "\"Ingrid Bergman\"    3          \n",
      "\"Walter Brennan\"    3          \n",
      "\"Daniel Day-Lewis\"  3          \n",
      "\"Jack Nicholson\"    3          \n",
      "\"Meryl Streep\"      3          \n",
      "c          | t f a\n",
      "-----------| -----\n",
      "name       | C    \n",
      "numOfOscars| f    \n"
     ]
    }
   ],
   "source": [
    "//write your answer here\n",
    "load `$\":actorsWithMostOscars.json\"\n",
    "actorsWithMostOscars\n",
    "\n",
    "meta actorsWithMostOscars"
   ]
  },
  {
   "cell_type": "code",
   "execution_count": 69,
   "metadata": {},
   "outputs": [
    {
     "name": "stdout",
     "output_type": "stream",
     "text": [
      "actorsWithMostOscars\n"
     ]
    }
   ],
   "source": [
    "update \"S\"$name from `actorsWithMostOscars"
   ]
  },
  {
   "cell_type": "code",
   "execution_count": 70,
   "metadata": {},
   "outputs": [
    {
     "name": "stdout",
     "output_type": "stream",
     "text": [
      "c          | t f a\n",
      "-----------| -----\n",
      "name       | s    \n",
      "numOfOscars| f    \n"
     ]
    }
   ],
   "source": [
    "meta actorsWithMostOscars"
   ]
  },
  {
   "cell_type": "code",
   "execution_count": null,
   "metadata": {},
   "outputs": [],
   "source": []
  }
 ],
 "metadata": {
  "kernelspec": {
   "display_name": "Python 3 (ipykernel)",
   "language": "python",
   "name": "python3"
  },
  "language_info": {
   "codemirror_mode": {
    "name": "ipython",
    "version": 3
   },
   "file_extension": ".py",
   "mimetype": "text/x-python",
   "name": "python",
   "nbconvert_exporter": "python",
   "pygments_lexer": "ipython3",
   "version": "3.11.10"
  },
  "toc": {
   "base_numbering": 1,
   "nav_menu": {},
   "number_sections": true,
   "sideBar": true,
   "skip_h1_title": false,
   "title_cell": "Table of Contents",
   "title_sidebar": "Contents",
   "toc_cell": false,
   "toc_position": {},
   "toc_section_display": true,
   "toc_window_display": true
  }
 },
 "nbformat": 4,
 "nbformat_minor": 4
}
