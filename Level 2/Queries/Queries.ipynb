{
 "cells": [
  {
   "cell_type": "code",
   "execution_count": 1,
   "metadata": {
    "autorun": true,
    "editable": false,
    "jupyter": {
     "source_hidden": true
    },
    "tags": [
     "remove-cell"
    ]
   },
   "outputs": [],
   "source": [
    "#;.pykx.disableJupyter()"
   ]
  },
  {
   "cell_type": "code",
   "execution_count": 2,
   "metadata": {
    "autorun": true,
    "editable": false,
    "jupyter": {
     "source_hidden": true
    },
    "tags": [
     "remove-cell"
    ]
   },
   "outputs": [
    {
     "name": "stdout",
     "output_type": "stream",
     "text": [
      "PyKX now running in 'jupyter_qfirst' mode. All cells by default will be run as q code. \n",
      "Include '%%py' at the beginning of each cell to run as python code. \n"
     ]
    }
   ],
   "source": [
    "# https://code.kx.com/pykx/3.0/examples/jupyter-integration.html#q-first-mode\n",
    "import pykx as kx\n",
    "kx.util.jupyter_qfirst_enable()"
   ]
  },
  {
   "cell_type": "markdown",
   "metadata": {},
   "source": [
    "##### Initialization"
   ]
  },
  {
   "cell_type": "code",
   "execution_count": 3,
   "metadata": {},
   "outputs": [
    {
     "name": "stdout",
     "output_type": "stream",
     "text": [
      "Creating local partitioned database in ./db for use within the current section.\n",
      "Finished database creation.\n"
     ]
    }
   ],
   "source": [
    "/insert in init.q \n",
    "\\l buildtaq.q\n",
    "\\l ./db/taq"
   ]
  },
  {
   "cell_type": "markdown",
   "metadata": {
    "heading_collapsed": true
   },
   "source": [
    "# Queries - qSQL \n",
    "##### Learning Objectives\n",
    "\n",
    "To understand:\n",
    "* How to construct a qSQL query\n",
    "* The four different qSQL queries - `select`,`exec`,`update` and `delete`\n",
    "* Building queries with constraints\n",
    "* Building queries with aggregations\n",
    "* Building queries with grouping\n",
    "* Updating existing data\n",
    "* Deleting existing data\n",
    "* Using `fby` "
   ]
  },
  {
   "cell_type": "markdown",
   "metadata": {
    "heading_collapsed": true
   },
   "source": [
    "# Introduction \n",
    "\n",
    "The most common method of table querying and manipulation is qSQL, an SQL-like syntax built into the q language."
   ]
  },
  {
   "cell_type": "markdown",
   "metadata": {
    "hidden": true
   },
   "source": [
    "There are four fundamental actions qSQL allows us to use with a table:\n",
    "* [`select`](https://code.kx.com/q/ref/select/) - choose data from a table\n",
    "* [`exec`](https://code.kx.com/q/ref/exec/) - return data from a table, in a non-table format\n",
    "* [`update`](https://code.kx.com/q/ref/update/) - perform some modification on a table\n",
    "* [`delete`](https://code.kx.com/q/ref/delete/) - remove data from a table \n"
   ]
  },
  {
   "cell_type": "markdown",
   "metadata": {
    "heading_collapsed": true,
    "hidden": true
   },
   "source": [
    "## Data\n",
    "\n",
    "The tables that are used throughout this notebook comprise some [partitioned](https://code.kx.com/q4m3/14_Introduction_to_Kdb%2B/#14634-partitioned-tables) tables (<code>\\`trade</code>,<code>\\`quote</code> and <code>\\`nbbo</code>),  and some [flat](https://www.tutorialspoint.com/kdbplus/q_tables_on_disk.htm) tables (<code>\\`daily</code>,<code>\\`depth</code> and <code>\\`mas</code>) which are stored locally to this Queries module in a folder called db/taq."
   ]
  },
  {
   "cell_type": "code",
   "execution_count": 4,
   "metadata": {
    "hidden": true
   },
   "outputs": [
    {
     "name": "stdout",
     "output_type": "stream",
     "text": [
      "`daily`depth`mas`nbbo`quote`td`trade\n"
     ]
    }
   ],
   "source": [
    "tables[]"
   ]
  },
  {
   "cell_type": "code",
   "execution_count": 5,
   "metadata": {
    "hidden": true
   },
   "outputs": [
    {
     "name": "stdout",
     "output_type": "stream",
     "text": [
      "daily| 330\n",
      "depth| 1000\n",
      "mas  | 15\n",
      "nbbo | 9807714\n",
      "quote| 16336312\n",
      "td   | 330\n",
      "trade| 3268145\n"
     ]
    }
   ],
   "source": [
    "tables[]! count each value each tables[]          //A quick shortcut to see each table and the associated table counts "
   ]
  },
  {
   "cell_type": "markdown",
   "metadata": {
    "hidden": true
   },
   "source": [
    "Let's look at the schema of both tables:"
   ]
  },
  {
   "cell_type": "code",
   "execution_count": 8,
   "metadata": {
    "hidden": true
   },
   "outputs": [
    {
     "name": "stdout",
     "output_type": "stream",
     "text": [
      "c    | t f a\n",
      "-----| -----\n",
      "date | d    \n",
      "sym  | s   p\n",
      "time | t    \n",
      "price| f    \n",
      "size | j    \n",
      "stop | b    \n",
      "cond | c    \n",
      "ex   | c    \n",
      "c    | t f a\n",
      "-----| -----\n",
      "date | d    \n",
      "sym  | s    \n",
      "open | f    \n",
      "high | f    \n",
      "low  | f    \n",
      "close| f    \n",
      "price| f    \n",
      "size | j    \n",
      "`date`sym`time`price`size`stop`cond`ex\n"
     ]
    }
   ],
   "source": [
    "meta trade\n",
    "meta daily\n",
    "cols trade"
   ]
  },
  {
   "cell_type": "markdown",
   "metadata": {
    "heading_collapsed": true
   },
   "source": [
    "#  Choosing data from a table - `select` \n",
    "\n",
    "The qSQL `select` statement can be used to return data from a table, select particular columns, aggregate and/or filter data where necessary."
   ]
  },
  {
   "cell_type": "markdown",
   "metadata": {
    "heading_collapsed": true,
    "hidden": true,
    "jp-MarkdownHeadingCollapsed": true
   },
   "source": [
    "## Syntax\n",
    "\n",
    "The `select` template has the following form:\n",
    "\n",
    "    select <return columns> by <grouping columns> from <table> where <filter conditions>"
   ]
  },
  {
   "cell_type": "markdown",
   "metadata": {
    "hidden": true
   },
   "source": [
    "The most basic qSQL `select` statement is the below:"
   ]
  },
  {
   "cell_type": "code",
   "execution_count": 12,
   "metadata": {
    "hidden": true
   },
   "outputs": [
    {
     "name": "stdout",
     "output_type": "stream",
     "text": [
      "date       sym  open  high  low   close price        size  \n",
      "-----------------------------------------------------------\n",
      "2020.01.02 AAPL 83.88 87.45 78.69 86.22 4.452568e+07 536408\n",
      "2020.01.02 AIG  26.97 29.85 26.36 29.01 1.515896e+07 532160\n",
      "2020.01.02 AMD  33.01 34.92 31.3  33.94 1.744796e+07 530579\n",
      "2020.01.02 DELL 12    13.56 11.52 12.07 6657170      531534\n",
      "2020.01.02 DOW  19.99 21.17 19.49 20.45 1.101615e+07 539534\n",
      "1b\n"
     ]
    }
   ],
   "source": [
    "select from daily       //returns all the records in the daily table\n",
    "daily~select from daily //this is the same as calling the table as a variable "
   ]
  },
  {
   "cell_type": "markdown",
   "metadata": {
    "heading_collapsed": true,
    "hidden": true,
    "jp-MarkdownHeadingCollapsed": true
   },
   "source": [
    "## Virtual column "
   ]
  },
  {
   "cell_type": "markdown",
   "metadata": {
    "hidden": true
   },
   "source": [
    " ##### Virtual column `i` \n",
    "In addition to existing and computed columns, a virtual column `i` exists which maps to a record index within the table. We refer to this column as virtual as it is not visible in the `meta` of the table but we can use it as we would any other column in our table. "
   ]
  },
  {
   "cell_type": "code",
   "execution_count": 13,
   "metadata": {
    "hidden": true
   },
   "outputs": [
    {
     "name": "stdout",
     "output_type": "stream",
     "text": [
      "x \n",
      "--\n",
      "0 \n",
      "1 \n",
      "2 \n",
      "3 \n",
      "4 \n",
      "5 \n",
      "6 \n",
      "7 \n",
      "8 \n",
      "9 \n",
      "10\n",
      "11\n",
      "12\n",
      "13\n",
      "14\n",
      "15\n",
      "16\n",
      "17\n",
      "18\n",
      "19\n",
      "..\n"
     ]
    }
   ],
   "source": [
    "select i from trade      "
   ]
  },
  {
   "cell_type": "markdown",
   "metadata": {
    "heading_collapsed": true,
    "hidden": true,
    "jp-MarkdownHeadingCollapsed": true
   },
   "source": [
    "## Queries with specified return - the `select` clause\n"
   ]
  },
  {
   "cell_type": "markdown",
   "metadata": {
    "hidden": true
   },
   "source": [
    "We can use `select` to return a subset of the columns within a table, or to create new columns. "
   ]
  },
  {
   "cell_type": "code",
   "execution_count": 14,
   "metadata": {
    "hidden": true
   },
   "outputs": [
    {
     "name": "stdout",
     "output_type": "stream",
     "text": [
      "date       sym  open  size  \n",
      "----------------------------\n",
      "2020.01.02 AAPL 83.88 536408\n",
      "2020.01.02 AIG  26.97 532160\n",
      "2020.01.02 AMD  33.01 530579\n",
      "2020.01.02 DELL 12    531534\n",
      "2020.01.02 DOW  19.99 539534\n",
      "2020.01.02 GOOG 71.97 535376\n",
      "2020.01.02 HPQ  35.98 524307\n",
      "2020.01.02 IBM  42    531573\n",
      "2020.01.02 INTC 50.98 538767\n",
      "2020.01.02 MSFT 29    545950\n",
      "2020.01.02 ORCL 35    533825\n",
      "2020.01.02 PEP  22    525361\n",
      "2020.01.02 PRU  59.04 543107\n",
      "2020.01.02 SBUX 62.88 530383\n",
      "2020.01.02 TXN  17.99 529999\n",
      "2020.01.03 AAPL 86.14 554761\n",
      "2020.01.03 AIG  29    559732\n",
      "2020.01.03 AMD  33.9  552365\n",
      "2020.01.03 DELL 12.07 543730\n",
      "2020.01.03 DOW  20.45 552440\n",
      "..\n"
     ]
    }
   ],
   "source": [
    "select date, sym, open, size from daily //selecting a subset of columns "
   ]
  },
  {
   "cell_type": "markdown",
   "metadata": {
    "hidden": true
   },
   "source": [
    "We can use assignment within our statement to rename the resultant columns too: "
   ]
  },
  {
   "cell_type": "code",
   "execution_count": 15,
   "metadata": {
    "hidden": true
   },
   "outputs": [
    {
     "name": "stdout",
     "output_type": "stream",
     "text": [
      "dt         stock open  sz    \n",
      "-----------------------------\n",
      "2020.01.02 AAPL  83.88 536408\n",
      "2020.01.02 AIG   26.97 532160\n",
      "2020.01.02 AMD   33.01 530579\n",
      "2020.01.02 DELL  12    531534\n",
      "2020.01.02 DOW   19.99 539534\n",
      "2020.01.02 GOOG  71.97 535376\n",
      "2020.01.02 HPQ   35.98 524307\n",
      "2020.01.02 IBM   42    531573\n",
      "2020.01.02 INTC  50.98 538767\n",
      "2020.01.02 MSFT  29    545950\n",
      "2020.01.02 ORCL  35    533825\n",
      "2020.01.02 PEP   22    525361\n",
      "2020.01.02 PRU   59.04 543107\n",
      "2020.01.02 SBUX  62.88 530383\n",
      "2020.01.02 TXN   17.99 529999\n",
      "2020.01.03 AAPL  86.14 554761\n",
      "2020.01.03 AIG   29    559732\n",
      "2020.01.03 AMD   33.9  552365\n",
      "2020.01.03 DELL  12.07 543730\n",
      "2020.01.03 DOW   20.45 552440\n",
      "..\n"
     ]
    }
   ],
   "source": [
    "//we can pick and choose which to rename\n",
    "select dt: date, stock:sym, open, sz: size from daily "
   ]
  },
  {
   "cell_type": "markdown",
   "metadata": {
    "hidden": true
   },
   "source": [
    "And can create new columns on the fly e.g. a new column called `mid` which is the midpoint of our `high` and `low` prices:"
   ]
  },
  {
   "cell_type": "code",
   "execution_count": 16,
   "metadata": {
    "hidden": true
   },
   "outputs": [
    {
     "name": "stdout",
     "output_type": "stream",
     "text": [
      "date       sym  high  low   mid   \n",
      "----------------------------------\n",
      "2020.01.02 AAPL 87.45 78.69 83.07 \n",
      "2020.01.02 AIG  29.85 26.36 28.105\n",
      "2020.01.02 AMD  34.92 31.3  33.11 \n",
      "2020.01.02 DELL 13.56 11.52 12.54 \n",
      "2020.01.02 DOW  21.17 19.49 20.33 \n",
      "2020.01.02 GOOG 73.97 67.89 70.93 \n",
      "2020.01.02 HPQ  36.91 31.88 34.395\n",
      "2020.01.02 IBM  44.65 40.89 42.77 \n",
      "2020.01.02 INTC 51.32 45.97 48.645\n",
      "2020.01.02 MSFT 32.27 28.32 30.295\n",
      "2020.01.02 ORCL 35.94 32.6  34.27 \n",
      "2020.01.02 PEP  23.05 21.73 22.39 \n",
      "2020.01.02 PRU  60.44 56.33 58.385\n",
      "2020.01.02 SBUX 67.69 60.88 64.285\n",
      "2020.01.02 TXN  19.08 17.13 18.105\n",
      "2020.01.03 AAPL 93.72 83.81 88.765\n",
      "2020.01.03 AIG  31.61 27.77 29.69 \n",
      "2020.01.03 AMD  39.34 33.13 36.235\n",
      "2020.01.03 DELL 12.89 11.59 12.24 \n",
      "2020.01.03 DOW  21.87 19.96 20.915\n",
      "..\n"
     ]
    }
   ],
   "source": [
    "select date, sym, high, low, mid: 0.5*high+low from daily"
   ]
  },
  {
   "cell_type": "markdown",
   "metadata": {
    "hidden": true,
    "reveal": "asbet6vf94q",
    "reveal-hidden": true
   },
   "source": [
    "<img src=\"../qbies.png\" width=\"50px\" style=\"width: 50px;padding-right:5px;padding-top:2px;padding-left:5px;\" align=\"left\"/>\n",
    "\n",
    "<p style='color:#273a6e'><i> The newly created column can't be referenced later within the same query as the column does not actually exist until the final result table is returned.</i></p>"
   ]
  },
  {
   "cell_type": "code",
   "execution_count": null,
   "metadata": {
    "hidden": true,
    "reveal": "asbet6vf94q"
   },
   "outputs": [],
   "source": [
    "//example - this will error with 'mid as kdb+/q doesn't know what this is yet\n",
    "select date, sym, high, low, mid: 0.5*high+low, mid+high from daily"
   ]
  },
  {
   "cell_type": "markdown",
   "metadata": {
    "hidden": true
   },
   "source": [
    "Creating a column doesn't mean that it permanently exists in the table. From the below query, we can see that our new column `mid` doesn't remain in our `daily` table. "
   ]
  },
  {
   "cell_type": "code",
   "execution_count": 17,
   "metadata": {
    "hidden": true
   },
   "outputs": [
    {
     "name": "stdout",
     "output_type": "stream",
     "text": [
      "date       sym  open  high  low   close price        size  \n",
      "-----------------------------------------------------------\n",
      "2020.01.02 AAPL 83.88 87.45 78.69 86.22 4.452568e+07 536408\n",
      "2020.01.02 AIG  26.97 29.85 26.36 29.01 1.515896e+07 532160\n",
      "2020.01.02 AMD  33.01 34.92 31.3  33.94 1.744796e+07 530579\n",
      "2020.01.02 DELL 12    13.56 11.52 12.07 6657170      531534\n",
      "2020.01.02 DOW  19.99 21.17 19.49 20.45 1.101615e+07 539534\n",
      "2020.01.02 GOOG 71.97 73.97 67.89 71.01 3.800257e+07 535376\n",
      "2020.01.02 HPQ  35.98 36.91 31.88 34.6  1.804498e+07 524307\n",
      "2020.01.02 IBM  42    44.65 40.89 41.44 2.267041e+07 531573\n",
      "2020.01.02 INTC 50.98 51.32 45.97 49.46 2.638187e+07 538767\n",
      "2020.01.02 MSFT 29    32.27 28.32 28.74 1.650542e+07 545950\n",
      "2020.01.02 ORCL 35    35.94 32.6  34.83 1.823452e+07 533825\n",
      "2020.01.02 PEP  22    23.05 21.73 22.47 1.176689e+07 525361\n",
      "2020.01.02 PRU  59.04 60.44 56.33 59.61 3.170256e+07 543107\n",
      "2020.01.02 SBUX 62.88 67.69 60.88 63.01 3.407796e+07 530383\n",
      "2020.01.02 TXN  17.99 19.08 17.13 18.07 9647702      529999\n",
      "2020.01.03 AAPL 86.14 93.72 83.81 87.95 4.93008e+07  554761\n",
      "2020.01.03 AIG  29    31.61 27.77 30.14 1.664099e+07 559732\n",
      "2020.01.03 AMD  33.9  39.34 33.13 34.37 2.020541e+07 552365\n",
      "2020.01.03 DELL 12.07 12.89 11.59 12.01 6673491      543730\n",
      "2020.01.03 DOW  20.45 21.87 19.96 20.47 1.146551e+07 552440\n",
      "..\n",
      "c    | t f a\n",
      "-----| -----\n",
      "date | d    \n",
      "sym  | s    \n",
      "open | f    \n",
      "high | f    \n",
      "low  | f    \n",
      "close| f    \n",
      "price| f    \n",
      "size | j    \n"
     ]
    }
   ],
   "source": [
    "daily \n",
    "meta daily"
   ]
  },
  {
   "cell_type": "markdown",
   "metadata": {
    "hidden": true
   },
   "source": [
    "If we did want to persist this change, we can use direct reassignment: "
   ]
  },
  {
   "cell_type": "code",
   "execution_count": 18,
   "metadata": {
    "hidden": true
   },
   "outputs": [
    {
     "name": "stdout",
     "output_type": "stream",
     "text": [
      "date       sym  high  low   mid   \n",
      "----------------------------------\n",
      "2020.01.02 AAPL 87.45 78.69 83.07 \n",
      "2020.01.02 AIG  29.85 26.36 28.105\n",
      "2020.01.02 AMD  34.92 31.3  33.11 \n",
      "2020.01.02 DELL 13.56 11.52 12.54 \n",
      "2020.01.02 DOW  21.17 19.49 20.33 \n",
      "2020.01.02 GOOG 73.97 67.89 70.93 \n",
      "2020.01.02 HPQ  36.91 31.88 34.395\n",
      "2020.01.02 IBM  44.65 40.89 42.77 \n",
      "2020.01.02 INTC 51.32 45.97 48.645\n",
      "2020.01.02 MSFT 32.27 28.32 30.295\n",
      "2020.01.02 ORCL 35.94 32.6  34.27 \n",
      "2020.01.02 PEP  23.05 21.73 22.39 \n",
      "2020.01.02 PRU  60.44 56.33 58.385\n",
      "2020.01.02 SBUX 67.69 60.88 64.285\n",
      "2020.01.02 TXN  19.08 17.13 18.105\n",
      "2020.01.03 AAPL 93.72 83.81 88.765\n",
      "2020.01.03 AIG  31.61 27.77 29.69 \n",
      "2020.01.03 AMD  39.34 33.13 36.235\n",
      "2020.01.03 DELL 12.89 11.59 12.24 \n",
      "2020.01.03 DOW  21.87 19.96 20.915\n",
      "..\n"
     ]
    }
   ],
   "source": [
    "daily2:select date, sym, high, low, mid: 0.5*high+low from daily\n",
    "daily2"
   ]
  },
  {
   "cell_type": "markdown",
   "metadata": {
    "hidden": true,
    "reveal": "3ks7968jcw3",
    "reveal-hidden": true
   },
   "source": [
    "##### Exercise\n",
    "\n",
    "Extract the `sym`, `close` and `size` columns from our `daily` table. "
   ]
  },
  {
   "cell_type": "code",
   "execution_count": null,
   "metadata": {
    "hidden": true,
    "reveal": "3ks7968jcw3"
   },
   "outputs": [],
   "source": [
    "select sym, close, size from daily"
   ]
  },
  {
   "cell_type": "code",
   "execution_count": 19,
   "metadata": {
    "hidden": true
   },
   "outputs": [
    {
     "name": "stdout",
     "output_type": "stream",
     "text": [
      "sym  close size  \n",
      "-----------------\n",
      "AAPL 86.22 536408\n",
      "AIG  29.01 532160\n",
      "AMD  33.94 530579\n",
      "DELL 12.07 531534\n",
      "DOW  20.45 539534\n",
      "GOOG 71.01 535376\n",
      "HPQ  34.6  524307\n",
      "IBM  41.44 531573\n",
      "INTC 49.46 538767\n",
      "MSFT 28.74 545950\n",
      "ORCL 34.83 533825\n",
      "PEP  22.47 525361\n",
      "PRU  59.61 543107\n",
      "SBUX 63.01 530383\n",
      "TXN  18.07 529999\n",
      "AAPL 87.95 554761\n",
      "AIG  30.14 559732\n",
      "AMD  34.37 552365\n",
      "DELL 12.01 543730\n",
      "DOW  20.47 552440\n",
      "..\n"
     ]
    }
   ],
   "source": [
    "//your answer here \n",
    "select sym, close, size from daily"
   ]
  },
  {
   "cell_type": "markdown",
   "metadata": {
    "hidden": true,
    "reveal": "nhi8ovbeiq",
    "reveal-hidden": false
   },
   "source": [
    "##### Exercise \n",
    "Extract the same columns, but this time add a new boolean column called `Asym` which is true when the sym starts with an `\"A\"` and false otherwise. Assign this output to a new table `aDaily`."
   ]
  },
  {
   "cell_type": "code",
   "execution_count": null,
   "metadata": {
    "hidden": true,
    "reveal": "nhi8ovbeiq"
   },
   "outputs": [],
   "source": [
    "aDaily:select sym, close, size, Asym:sym like \"A*\" from daily //we can evaluate any q expressions we like here!\n",
    "aDaily"
   ]
  },
  {
   "cell_type": "code",
   "execution_count": 21,
   "metadata": {
    "hidden": true
   },
   "outputs": [],
   "source": [
    "//your answer here \n",
    "aDaily:select sym, close, size, Asym:sym like \"A*\" from daily"
   ]
  },
  {
   "cell_type": "markdown",
   "metadata": {
    "heading_collapsed": true,
    "hidden": true
   },
   "source": [
    "### Querying with aggregations \n",
    "The columns of a table are lists, and we can perform aggregations and other functions or analytics using them like we can any list. "
   ]
  },
  {
   "cell_type": "code",
   "execution_count": 22,
   "metadata": {
    "hidden": true
   },
   "outputs": [
    {
     "name": "stdout",
     "output_type": "stream",
     "text": [
      "size      price       \n",
      "----------------------\n",
      "178085211 1.336482e+08\n"
     ]
    }
   ],
   "source": [
    "select sum size,sum price from trade"
   ]
  },
  {
   "cell_type": "markdown",
   "metadata": {
    "hidden": true,
    "reveal": "vm6564pde3",
    "reveal-hidden": true
   },
   "source": [
    "##### Exercise \n",
    "\n",
    "Return the maximum price and average trade size from the trade table "
   ]
  },
  {
   "cell_type": "code",
   "execution_count": null,
   "metadata": {
    "hidden": true,
    "reveal": "vm6564pde3"
   },
   "outputs": [],
   "source": [
    "select max price, avg size from trade"
   ]
  },
  {
   "cell_type": "code",
   "execution_count": 24,
   "metadata": {
    "hidden": true
   },
   "outputs": [
    {
     "name": "stdout",
     "output_type": "stream",
     "text": [
      "price size    \n",
      "--------------\n",
      "93.94 54.49122\n"
     ]
    }
   ],
   "source": [
    "//your answer here \n",
    "select max price, avg size from trade"
   ]
  },
  {
   "cell_type": "markdown",
   "metadata": {
    "heading_collapsed": true,
    "hidden": true
   },
   "source": [
    "## Queries with constraints - the `where` clause\n",
    "\n",
    "The `where` clause in qSQL allows us to specify conditions and filter our data accordingly. "
   ]
  },
  {
   "cell_type": "markdown",
   "metadata": {
    "hidden": true
   },
   "source": [
    "Suppose we want to select only trades that are associated with Apple, we can add this as a condition using the `where` clause: "
   ]
  },
  {
   "cell_type": "code",
   "execution_count": 25,
   "metadata": {
    "hidden": true
   },
   "outputs": [
    {
     "name": "stdout",
     "output_type": "stream",
     "text": [
      "date       sym  open  high  low   close price        size  \n",
      "-----------------------------------------------------------\n",
      "2020.01.02 AAPL 83.88 87.45 78.69 86.22 4.452568e+07 536408\n",
      "2020.01.03 AAPL 86.14 93.72 83.81 87.95 4.93008e+07  554761\n",
      "2020.01.06 AAPL 88.01 90.8  83.48 85.78 4.673882e+07 535121\n",
      "2020.01.07 AAPL 85.83 87.36 81.05 85.12 4.353936e+07 518017\n",
      "2020.01.08 AAPL 85.07 88.32 79.7  84.95 4.499806e+07 534561\n",
      "2020.01.09 AAPL 84.97 89.93 84.12 86.15 4.491606e+07 515401\n",
      "2020.01.10 AAPL 86.1  87.79 79.27 85.19 4.23042e+07  509741\n",
      "2020.01.13 AAPL 85.14 87.34 81.84 84.93 4.545826e+07 538500\n",
      "2020.01.14 AAPL 84.99 89.29 81.58 82.6  4.513405e+07 528053\n",
      "2020.01.15 AAPL 82.63 86.29 79.1  83.24 4.353784e+07 527158\n",
      "2020.01.16 AAPL 83.15 87.93 80.98 84.08 4.579812e+07 542165\n",
      "2020.01.17 AAPL 84.05 84.56 77.99 82.89 4.434635e+07 544940\n",
      "2020.01.20 AAPL 82.95 89.58 81.32 86.78 4.532787e+07 528665\n",
      "2020.01.21 AAPL 86.81 90.67 83.75 84.03 4.581064e+07 523532\n",
      "2020.01.22 AAPL 84.17 87.12 81.27 82.7  4.417055e+07 528410\n",
      "2020.01.23 AAPL 82.69 84.38 77.33 83.54 4.231044e+07 522983\n",
      "2020.01.24 AAPL 83.5  87.51 80.43 82.07 4.584701e+07 550162\n",
      "2020.01.27 AAPL 82.19 87.07 81.3  82.63 4.848066e+07 573281\n",
      "2020.01.28 AAPL 82.67 90.12 77.47 84.32 4.751065e+07 582043\n",
      "2020.01.29 AAPL 84.18 93.94 84.01 85.67 5.048696e+07 568724\n",
      "..\n"
     ]
    }
   ],
   "source": [
    "select from daily where sym=`AAPL"
   ]
  },
  {
   "cell_type": "markdown",
   "metadata": {
    "hidden": true
   },
   "source": [
    "The `where` statement can contain any number of constraints separated by commas:"
   ]
  },
  {
   "cell_type": "code",
   "execution_count": 26,
   "metadata": {
    "hidden": true
   },
   "outputs": [
    {
     "name": "stdout",
     "output_type": "stream",
     "text": [
      "date       sym  time         price size stop cond ex\n",
      "----------------------------------------------------\n",
      "2020.01.02 AAPL 09:30:00.025 83.87 74   0    J    N \n",
      "2020.01.02 AAPL 09:30:00.031 83.87 81   0    K    N \n",
      "2020.01.02 AAPL 09:30:00.594 83.85 72   0    A    N \n",
      "2020.01.02 AAPL 09:30:01.039 83.67 91   0    9    N \n",
      "2020.01.02 AAPL 09:30:01.138 83.66 99   0    G    N \n",
      "2020.01.02 AAPL 09:30:01.385 83.43 76   0    O    N \n",
      "2020.01.02 AAPL 09:30:01.493 83.37 80   0    B    N \n",
      "2020.01.02 AAPL 09:30:02.003 83.17 90   0    C    N \n",
      "2020.01.02 AAPL 09:30:02.228 83.2  92   0    R    N \n",
      "2020.01.02 AAPL 09:30:04.188 83.07 80   0    N    N \n",
      "2020.01.02 AAPL 09:30:04.725 82.83 89   0    T    N \n",
      "2020.01.02 AAPL 09:30:04.849 82.83 86   0    W    N \n",
      "2020.01.02 AAPL 09:30:06.635 82.61 88   0    J    N \n",
      "2020.01.02 AAPL 09:30:07.377 82.68 86   0    C    N \n",
      "2020.01.02 AAPL 09:30:07.844 82.63 94   0    G    N \n",
      "2020.01.02 AAPL 09:30:08.253 82.61 74   0    9    N \n",
      "2020.01.02 AAPL 09:30:09.069 82.8  88   0    Z    N \n",
      "2020.01.02 AAPL 09:30:09.408 82.79 98   0    O    N \n",
      "2020.01.02 AAPL 09:30:10.582 82.58 90   0    R    N \n",
      "2020.01.02 AAPL 09:30:11.428 82.49 89   1         N \n",
      "..\n"
     ]
    }
   ],
   "source": [
    "select from trade where sym =`AAPL, size > 70, date = 2020.01.02  //looking at our bigger trade table now "
   ]
  },
  {
   "cell_type": "code",
   "execution_count": 27,
   "metadata": {
    "hidden": true
   },
   "outputs": [
    {
     "name": "stdout",
     "output_type": "stream",
     "text": [
      "101\n",
      "6\n"
     ]
    }
   ],
   "source": [
    "\\t:10 select from trade where sym =`AAPL, size > 70, date = 2020.01.02 // This will take significantly more time\n",
    "\\t:10 select from trade where date = 2020.01.02, sym =`AAPL, size > 70 // This query is more efficient"
   ]
  },
  {
   "cell_type": "markdown",
   "metadata": {
    "hidden": true
   },
   "source": [
    "Always use `,` instead of `and` in the where clause. "
   ]
  },
  {
   "cell_type": "code",
   "execution_count": null,
   "metadata": {
    "hidden": true
   },
   "outputs": [],
   "source": [
    "//performance comparison using and instead of ,\n",
    "\\t:10 select from trade where date = 2020.01.02, sym =`AAPL, size > 70         //the \"right\" way\n",
    "\\t:10 select from trade where (date = 2020.01.02) and  sym =`AAPL, size > 70   //the \"wrong\" way "
   ]
  },
  {
   "cell_type": "markdown",
   "metadata": {
    "hidden": true,
    "reveal": "7c0m0f6vypp",
    "reveal-hidden": true
   },
   "source": [
    "##### Exercise\n",
    "Find all trades (using the `trade` table) associated with Dell (<code>\\`DELL</code>) where the price is greater than 12."
   ]
  },
  {
   "cell_type": "code",
   "execution_count": null,
   "metadata": {
    "hidden": true,
    "reveal": "7c0m0f6vypp"
   },
   "outputs": [],
   "source": [
    "select from trade where sym=`DELL,price > 12"
   ]
  },
  {
   "cell_type": "code",
   "execution_count": 28,
   "metadata": {
    "hidden": true
   },
   "outputs": [
    {
     "name": "stdout",
     "output_type": "stream",
     "text": [
      "date       sym  time         price size stop cond ex\n",
      "----------------------------------------------------\n",
      "2020.01.02 DELL 09:30:01.250 12.01 53   0    K    N \n",
      "2020.01.02 DELL 09:30:01.261 12.01 43   0    8    N \n",
      "2020.01.02 DELL 09:30:01.564 12.01 91   0    9    N \n",
      "2020.01.02 DELL 09:30:01.636 12.01 80   0    G    N \n",
      "2020.01.02 DELL 09:30:01.857 12.01 66   0    N    N \n",
      "2020.01.02 DELL 09:30:01.886 12.01 77   0    T    N \n",
      "2020.01.02 DELL 09:31:19.113 12.01 74   0         N \n",
      "2020.01.02 DELL 09:31:19.280 12.01 83   0    L    N \n",
      "2020.01.02 DELL 09:31:19.580 12.01 39   0    W    N \n",
      "2020.01.02 DELL 09:31:19.599 12.01 17   0    T    N \n",
      "2020.01.02 DELL 09:31:20.906 12.01 58   1    R    N \n",
      "2020.01.02 DELL 09:31:21.635 12.01 20   0    C    N \n",
      "2020.01.02 DELL 09:31:21.968 12.01 90   0    E    N \n",
      "2020.01.02 DELL 09:31:22.214 12.01 85   0    A    N \n",
      "2020.01.02 DELL 09:31:22.428 12.02 55   0    J    N \n",
      "2020.01.02 DELL 09:31:22.532 12.02 92   0    T    N \n",
      "2020.01.02 DELL 09:31:24.300 12.01 70   0         N \n",
      "2020.01.02 DELL 09:31:24.527 12.02 39   0    G    N \n",
      "2020.01.02 DELL 09:31:24.663 12.02 85   0    G    N \n",
      "2020.01.02 DELL 09:31:27.744 12.03 14   1    G    N \n",
      "..\n"
     ]
    }
   ],
   "source": [
    "//your answer here\n",
    "select from trade where sym = `DELL, price>12 "
   ]
  },
  {
   "cell_type": "markdown",
   "metadata": {
    "hidden": true,
    "reveal": "wbtou0tlrot",
    "reveal-hidden": false
   },
   "source": [
    "##### Exercise\n",
    "\n",
    "Write a select query using our `trade` table to find the volume-weighted average price (vwap) for the Google (<code>\\`GOOG</code>) stock\n",
    "\n",
    "Suggested reading: [wavg](https://code.kx.com/q/ref/avg/#wavg)"
   ]
  },
  {
   "cell_type": "code",
   "execution_count": null,
   "metadata": {
    "hidden": true,
    "reveal": "wbtou0tlrot"
   },
   "outputs": [],
   "source": [
    "select vwap:size wavg price from trade where sym=`GOOG"
   ]
  },
  {
   "cell_type": "code",
   "execution_count": 32,
   "metadata": {
    "hidden": true
   },
   "outputs": [
    {
     "name": "stdout",
     "output_type": "stream",
     "text": [
      "vwap    \n",
      "--------\n",
      "69.07248\n"
     ]
    }
   ],
   "source": [
    "// Enter your qSQL code here\n",
    "select vwap:size wavg price from trade where sym=`GOOG"
   ]
  },
  {
   "cell_type": "markdown",
   "metadata": {
    "heading_collapsed": true,
    "hidden": true
   },
   "source": [
    "## Queries with grouping - the `by` clause\n",
    "\n",
    "The easiest way to obtain data summarized by grouping similar values together is to use the `by` clause."
   ]
  },
  {
   "cell_type": "code",
   "execution_count": 34,
   "metadata": {
    "hidden": true
   },
   "outputs": [
    {
     "name": "stdout",
     "output_type": "stream",
     "text": [
      "sym | size  \n",
      "----| ------\n",
      "AAPL| 582043\n",
      "AIG | 584179\n",
      "AMD | 602276\n",
      "DELL| 593427\n",
      "DOW | 600835\n",
      "GOOG| 587621\n",
      "HPQ | 591491\n",
      "IBM | 584613\n",
      "INTC| 588676\n",
      "MSFT| 593356\n",
      "ORCL| 588420\n",
      "PEP | 586556\n",
      "PRU | 585720\n",
      "SBUX| 596792\n",
      "TXN | 600642\n"
     ]
    }
   ],
   "source": [
    "//select size by sym from daily \n",
    "select max size by sym from daily   //performing an aggregation on the list"
   ]
  },
  {
   "cell_type": "markdown",
   "metadata": {
    "hidden": true
   },
   "source": [
    "We see that the returned tables are keyed - this is often helpful for quick retrieval."
   ]
  },
  {
   "cell_type": "code",
   "execution_count": 38,
   "metadata": {
    "hidden": true
   },
   "outputs": [
    {
     "name": "stdout",
     "output_type": "stream",
     "text": [
      "size| 584613\n",
      "size| 584613\n"
     ]
    }
   ],
   "source": [
    "(select max size by sym from daily)`IBM    //getting the max size for IBM\n",
    "flip select max size from daily where sym = `IBM "
   ]
  },
  {
   "cell_type": "markdown",
   "metadata": {
    "hidden": true
   },
   "source": [
    "We can also use our own defined functions on these lists, e.g. to return the last 5 days closing prices: "
   ]
  },
  {
   "cell_type": "code",
   "execution_count": 39,
   "metadata": {
    "hidden": true
   },
   "outputs": [
    {
     "name": "stdout",
     "output_type": "stream",
     "text": [
      "sym | last5DaysClose               \n",
      "----| -----------------------------\n",
      "AAPL| 82.63 84.32 85.67 87.88 90.95\n",
      "AIG | 31.14 31.87 31.48 31.66 32.76\n",
      "AMD | 40.21 43.05 43.09 45.68 43.35\n",
      "DELL| 12.75 12.49 12.63 13.17 13.29\n",
      "DOW | 20.17 19.69 19.64 20.25 20.36\n",
      "GOOG| 68.69 68.25 69.36 69.17 71.61\n",
      "HPQ | 40.72 41.15 41.66 41.59 43.73\n",
      "IBM | 40.53 40.16 40.42 41.37 42.14\n",
      "INTC| 53.59 52.76 52.46 54.06 55.77\n",
      "MSFT| 32.15 33.07 34.15 33.75 34.23\n",
      "ORCL| 41.26 42.59 42.81 42.58 42.82\n",
      "PEP | 25.01 25.9  26.01 26.52 26.38\n",
      "PRU | 57.68 58.5  59.03 60.37 60.31\n",
      "SBUX| 57.09 57.2  58.59 57.82 56.58\n",
      "TXN | 18.55 18.5  18.73 18.81 18.88\n"
     ]
    }
   ],
   "source": [
    "last5:{-5 sublist raze x}\n",
    "select last5DaysClose:last5 close by sym from daily"
   ]
  },
  {
   "cell_type": "markdown",
   "metadata": {
    "hidden": true
   },
   "source": [
    "<img src=\"../qbies.png\" width=\"50px\" style=\"width: 50px;padding-right:5px;padding-top:10px;padding-left:5px;\" align=\"left\"/>\n",
    "\n",
    "<p style='color:#273a6e'><i> A neat overload of the <code>by</code> clause is if we don't specify any columns to be returned, we can get the last record in the table, broken down by our grouping!</i></p>"
   ]
  },
  {
   "cell_type": "code",
   "execution_count": 40,
   "metadata": {
    "hidden": true
   },
   "outputs": [
    {
     "name": "stdout",
     "output_type": "stream",
     "text": [
      "sym | date       open  high  low   close price        size  \n",
      "----| ------------------------------------------------------\n",
      "AAPL| 2020.01.31 87.75 93.57 79.88 90.95 4.716256e+07 546683\n",
      "AIG | 2020.01.31 31.65 33.55 31.11 32.76 1.828947e+07 568297\n",
      "AMD | 2020.01.31 45.71 47.52 42.03 43.35 2.43365e+07  549224\n",
      "DELL| 2020.01.31 13.17 13.3  12.26 13.29 6883176      541087\n",
      "DOW | 2020.01.31 20.26 21.69 19.21 20.36 1.127992e+07 551702\n",
      "GOOG| 2020.01.31 69.11 75.53 68.34 71.61 3.902459e+07 545816\n",
      "HPQ | 2020.01.31 41.58 45.76 38.99 43.73 2.28627e+07  545763\n",
      "IBM | 2020.01.31 41.41 44.84 40.71 42.14 2.325386e+07 548306\n",
      "INTC| 2020.01.31 54.06 57.48 51.34 55.77 3.014401e+07 547481\n",
      "MSFT| 2020.01.31 33.72 35.67 32.71 34.23 1.870844e+07 546665\n",
      "ORCL| 2020.01.31 42.59 46.79 40.99 42.82 2.39701e+07  549283\n",
      "PEP | 2020.01.31 26.49 27.32 24.62 26.38 1.415232e+07 552175\n",
      "PRU | 2020.01.31 60.4  63.39 58.99 60.31 3.281376e+07 537421\n",
      "SBUX| 2020.01.31 57.89 61.24 56.26 56.58 3.219742e+07 546509\n",
      "TXN | 2020.01.31 18.82 19.58 18.3  18.88 1.027591e+07 544534\n"
     ]
    }
   ],
   "source": [
    "select by sym from daily   //very convenient for quick inspections!"
   ]
  },
  {
   "cell_type": "markdown",
   "metadata": {
    "hidden": true,
    "reveal": "l8ob03iakt9",
    "reveal-hidden": true
   },
   "source": [
    "##### Exercise \n",
    "Write a select statement that returns from our `trade` table the maximum and minimum prices and total number of trades (`numTrades`) broken down by `sym`."
   ]
  },
  {
   "cell_type": "code",
   "execution_count": 46,
   "metadata": {
    "hidden": true,
    "reveal": "l8ob03iakt9"
   },
   "outputs": [
    {
     "name": "stdout",
     "output_type": "stream",
     "text": [
      "sym | price price1 numTrades\n",
      "----| ----------------------\n",
      "AAPL| 93.94 77.33  217876   \n",
      "AIG | 35.51 26.36  218281   \n",
      "AMD | 47.52 29.83  218164   \n",
      "DELL| 13.74 10.92  218326   \n",
      "DOW | 22.92 17.17  218064   \n",
      "GOOG| 79.74 60.46  217240   \n",
      "HPQ | 45.76 31.88  217743   \n",
      "IBM | 45.85 34.42  217763   \n",
      "INTC| 57.48 45.5   217937   \n",
      "MSFT| 36.57 26.27  217769   \n",
      "ORCL| 46.79 32.6   217624   \n",
      "PEP | 28.57 20.4   217831   \n",
      "PRU | 66.5  51.01  217595   \n",
      "SBUX| 68.16 51.26  217551   \n",
      "TXN | 21.6  16.84  218381   \n"
     ]
    }
   ],
   "source": [
    "select max price, min price, numTrades:count size  by sym from trade //we can count any column in our table not just i"
   ]
  },
  {
   "cell_type": "code",
   "execution_count": 45,
   "metadata": {
    "hidden": true
   },
   "outputs": [
    {
     "name": "stdout",
     "output_type": "stream",
     "text": [
      "sym | mini  maxi  numTrades\n",
      "----| ---------------------\n",
      "AAPL| 77.33 93.94 217876   \n",
      "AIG | 26.36 35.51 218281   \n",
      "AMD | 29.83 47.52 218164   \n",
      "DELL| 10.92 13.74 218326   \n",
      "DOW | 17.17 22.92 218064   \n",
      "GOOG| 60.46 79.74 217240   \n",
      "HPQ | 31.88 45.76 217743   \n",
      "IBM | 34.42 45.85 217763   \n",
      "INTC| 45.5  57.48 217937   \n",
      "MSFT| 26.27 36.57 217769   \n",
      "ORCL| 32.6  46.79 217624   \n",
      "PEP | 20.4  28.57 217831   \n",
      "PRU | 51.01 66.5  217595   \n",
      "SBUX| 51.26 68.16 217551   \n",
      "TXN | 16.84 21.6  218381   \n"
     ]
    }
   ],
   "source": [
    "//your answer here \n",
    "//trade\n",
    "select mini:min price, maxi:max price, numTrades:count sym by sym from trade"
   ]
  },
  {
   "cell_type": "markdown",
   "metadata": {
    "hidden": true,
    "reveal": "e34l3lze8v9",
    "reveal-hidden": false
   },
   "source": [
    "##### Exercise \n",
    "Write a select statement to recreate our `daily` table from our `trade` table. \n",
    "\n",
    "This has the open, high, low, close prices, a price column calculated as size x price, and size as the total traded volume for each sym on every date. Assign this value to `daily2` and verify it matches the `daily` table. \n",
    "\n",
    "*(Just this once we'll allow not using a where clause on a partitioned table!)*"
   ]
  },
  {
   "cell_type": "code",
   "execution_count": null,
   "metadata": {
    "hidden": true,
    "reveal": "e34l3lze8v9"
   },
   "outputs": [],
   "source": [
    "//lets look first at what we're trying to reproduce\n",
    "meta daily\n",
    "daily"
   ]
  },
  {
   "cell_type": "code",
   "execution_count": null,
   "metadata": {
    "hidden": true,
    "reveal": "e34l3lze8v9"
   },
   "outputs": [],
   "source": [
    "//so we need to recreate this - it's broken down by sym and date so they'll be our by clause \n",
    "daily2:select open:first price, high: max price, low: min price, close: last price,  //OHLC prices\n",
    "            price:sum price*size, size:sum size      //total price as a cost (price*size) and total traded volume\n",
    "//next our grouping clause - break down by date, then sym\n",
    "        by date,sym                                  \n",
    "        from trade \n",
    "//does this look the same? \n",
    "daily2"
   ]
  },
  {
   "cell_type": "code",
   "execution_count": null,
   "metadata": {
    "hidden": true,
    "reveal": "e34l3lze8v9"
   },
   "outputs": [],
   "source": [
    "daily2: 0!daily2            //removing our key since daily isn't keyed\n",
    "daily2~daily"
   ]
  },
  {
   "cell_type": "code",
   "execution_count": null,
   "metadata": {
    "hidden": true
   },
   "outputs": [],
   "source": [
    "//your answer here\n"
   ]
  },
  {
   "cell_type": "markdown",
   "metadata": {
    "heading_collapsed": true,
    "hidden": true
   },
   "source": [
    "### Temporal arithmetic\n",
    "\n",
    "One of the most common uses of the `by` clause within qSQL is to return aggregations over a specified period of time.\n"
   ]
  },
  {
   "cell_type": "code",
   "execution_count": 48,
   "metadata": {
    "hidden": true
   },
   "outputs": [
    {
     "name": "stdout",
     "output_type": "stream",
     "text": [
      "date       sym  time         price size stop cond ex\n",
      "----------------------------------------------------\n",
      "2020.01.02 AAPL 09:30:00.021 83.88 17   0    G    N \n",
      "2020.01.02 AAPL 09:30:00.025 83.87 74   0    J    N \n",
      "2020.01.02 AAPL 09:30:00.028 83.84 57   0    N    N \n",
      "2020.01.02 AAPL 09:30:00.031 83.87 81   0    K    N \n",
      "2020.01.02 AAPL 09:30:00.041 83.87 52   0    G    N \n",
      "2020.01.02 AAPL 09:30:00.147 83.83 20   0    Z    N \n",
      "2020.01.02 AAPL 09:30:00.216 83.98 67   0    8    N \n",
      "2020.01.02 AAPL 09:30:00.413 83.97 47   0    P    N \n",
      "2020.01.02 AAPL 09:30:00.439 83.95 70   0    8    N \n",
      "2020.01.02 AAPL 09:30:00.441 83.9  62   0    A    N \n",
      "2020.01.02 AAPL 09:30:00.536 83.94 18   0    G    N \n",
      "2020.01.02 AAPL 09:30:00.575 83.89 32   0    G    N \n",
      "2020.01.02 AAPL 09:30:00.594 83.85 72   0    A    N \n",
      "2020.01.02 AAPL 09:30:00.646 83.76 10   0    O    N \n",
      "2020.01.02 AAPL 09:30:00.796 83.77 25   0    P    N \n",
      "2020.01.02 AAPL 09:30:00.873 83.69 62   0    9    N \n",
      "2020.01.02 AAPL 09:30:01.039 83.67 91   0    9    N \n",
      "2020.01.02 AAPL 09:30:01.090 83.71 41   0    G    N \n",
      "2020.01.02 AAPL 09:30:01.138 83.66 99   0    G    N \n",
      "2020.01.02 AAPL 09:30:01.141 83.62 67   0    N    N \n",
      "..\n",
      "sym  minute| trds vwap    \n",
      "-----------| -------------\n",
      "AAPL 09:30 | 919  87.089  \n",
      "AAPL 09:45 | 504  85.58492\n",
      "AAPL 10:00 | 451  85.00865\n",
      "AAPL 10:15 | 393  82.53431\n",
      "AAPL 10:30 | 381  81.17481\n",
      "AAPL 10:45 | 347  82.08436\n",
      "AAPL 11:00 | 346  83.45443\n",
      "AAPL 11:15 | 336  84.3468 \n",
      "AAPL 11:30 | 303  83.2934 \n",
      "AAPL 11:45 | 318  83.62537\n",
      "AAPL 12:00 | 272  84.78117\n",
      "AAPL 12:15 | 244  85.46709\n",
      "AAPL 12:30 | 288  85.67629\n",
      "AAPL 12:45 | 300  84.30075\n",
      "AAPL 13:00 | 287  81.99134\n",
      "AAPL 13:15 | 320  82.89532\n",
      "AAPL 13:30 | 282  84.05397\n",
      "AAPL 13:45 | 274  85.06158\n",
      "AAPL 14:00 | 286  86.37658\n",
      "AAPL 14:15 | 315  87.32853\n",
      "..\n"
     ]
    }
   ],
   "source": [
    "trade\n",
    "select trds:count i, vwap:size wavg price by sym, 15 xbar time.minute from trade where date = last date "
   ]
  },
  {
   "cell_type": "markdown",
   "metadata": {
    "hidden": true,
    "reveal": "0r1tqefl809c",
    "reveal-hidden": false
   },
   "source": [
    "##### Exercise\n",
    "* Show the total volume every 1.5 minutes from our trade table on the 2nd of Jan 2020\n",
    "* Further break this down by sym\n",
    "\n",
    "(Hint: the [`xbar`](https://code.kx.com/q/ref/xbar/) documentation has a domain and range mapping table at the end to help understand which types work together)"
   ]
  },
  {
   "cell_type": "code",
   "execution_count": null,
   "metadata": {
    "hidden": true,
    "reveal": "0r1tqefl809c"
   },
   "outputs": [],
   "source": [
    "select sum size by `time$0D00:01:30.000 xbar `timespan$time from trade where date = 2020.01.02"
   ]
  },
  {
   "cell_type": "code",
   "execution_count": null,
   "metadata": {
    "hidden": true,
    "reveal": "0r1tqefl809c"
   },
   "outputs": [],
   "source": [
    "select sum size by `time$0D00:01:30.000 xbar `timespan$time, sym  from trade where date = 2020.01.02"
   ]
  },
  {
   "cell_type": "code",
   "execution_count": 58,
   "metadata": {
    "hidden": true
   },
   "outputs": [
    {
     "name": "stdout",
     "output_type": "stream",
     "text": [
      "time         sym | size \n",
      "-----------------| -----\n",
      "09:30:00.000 AAPL| 9648 \n",
      "09:30:00.000 AIG | 11395\n",
      "09:30:00.000 AMD | 12951\n",
      "09:30:00.000 DELL| 12186\n",
      "09:30:00.000 DOW | 10963\n",
      "09:30:00.000 GOOG| 11056\n",
      "09:30:00.000 HPQ | 11651\n",
      "09:30:00.000 IBM | 10748\n",
      "09:30:00.000 INTC| 13173\n",
      "09:30:00.000 MSFT| 12721\n",
      "09:30:00.000 ORCL| 13629\n",
      "09:30:00.000 PEP | 12740\n",
      "09:30:00.000 PRU | 12695\n",
      "09:30:00.000 SBUX| 12192\n",
      "09:30:00.000 TXN | 11060\n",
      "09:31:30.000 AAPL| 6110 \n",
      "09:31:30.000 AIG | 4378 \n",
      "09:31:30.000 AMD | 5613 \n",
      "09:31:30.000 DELL| 6991 \n",
      "09:31:30.000 DOW | 5719 \n",
      "..\n"
     ]
    }
   ],
   "source": [
    "//your answer here \n",
    "select sum size by `time$0D00:01:30.000 xbar `timespan$time, sym  from trade where date = 2020.01.02"
   ]
  },
  {
   "cell_type": "markdown",
   "metadata": {
    "hidden": true,
    "reveal": "kwn0cgi7gag",
    "reveal-hidden": false
   },
   "source": [
    "##### Exercise\n",
    "Use `xbar` to generate a count of the number of trades (`trade where date = last date`) in intervals of trade size (interval size 10). \n",
    "\n",
    "(*This is commonly used to generate a histogram of trade size distribution*) "
   ]
  },
  {
   "cell_type": "code",
   "execution_count": null,
   "metadata": {
    "hidden": true,
    "reveal": "kwn0cgi7gag"
   },
   "outputs": [],
   "source": [
    "select count i by 10 xbar size from trade where date = last date "
   ]
  },
  {
   "cell_type": "code",
   "execution_count": 59,
   "metadata": {
    "hidden": true
   },
   "outputs": [
    {
     "name": "stdout",
     "output_type": "stream",
     "text": [
      "size| x    \n",
      "----| -----\n",
      "10  | 17068\n",
      "20  | 16688\n",
      "30  | 16595\n",
      "40  | 16834\n",
      "50  | 16717\n",
      "60  | 16592\n",
      "70  | 16973\n",
      "80  | 16567\n",
      "90  | 16926\n"
     ]
    }
   ],
   "source": [
    "//your answer here\n",
    "select count i by 10 xbar size from trade where date = last date "
   ]
  },
  {
   "cell_type": "markdown",
   "metadata": {
    "heading_collapsed": true
   },
   "source": [
    "# Extracting data from tables - `exec`\n",
    "\n",
    "The qSQL `exec` can also be used to query tables. All `exec` statements are written with the same `by`, `from`, and `where` clauses as select statements. However instead of returning only tables, `exec` statements can return a list, a dictionary, or indeed tables depending on the specific query. They are used primarily to extract data from the table format - or to restructure our data (see Practical Guidance for pivoting using `exec`)"
   ]
  },
  {
   "cell_type": "markdown",
   "metadata": {
    "hidden": true
   },
   "source": [
    "If we only specify one column to be returned from our `exec` statement this is returned as a list: "
   ]
  },
  {
   "cell_type": "code",
   "execution_count": 60,
   "metadata": {
    "hidden": true
   },
   "outputs": [
    {
     "name": "stdout",
     "output_type": "stream",
     "text": [
      "536408 532160 530579 531534 539534 535376 524307 531573 538767 545950 533825 ..\n"
     ]
    }
   ],
   "source": [
    "exec size from daily "
   ]
  },
  {
   "cell_type": "markdown",
   "metadata": {
    "hidden": true
   },
   "source": [
    "Suppose we want to return more than one list, if we specify many then we return a dictionary:  "
   ]
  },
  {
   "cell_type": "code",
   "execution_count": 61,
   "metadata": {
    "hidden": true
   },
   "outputs": [
    {
     "name": "stdout",
     "output_type": "stream",
     "text": [
      "size | 536408       532160       530579       531534  539534       535376    ..\n",
      "price| 4.452568e+07 1.515896e+07 1.744796e+07 6657170 1.101615e+07 3.800257e+..\n"
     ]
    }
   ],
   "source": [
    "exec size, price from daily    //this is nice because the dictionary values are lists "
   ]
  },
  {
   "cell_type": "markdown",
   "metadata": {
    "hidden": true
   },
   "source": [
    "If we add a grouping clause we get our values broken down by that grouping:"
   ]
  },
  {
   "cell_type": "code",
   "execution_count": 62,
   "metadata": {
    "hidden": true
   },
   "outputs": [
    {
     "name": "stdout",
     "output_type": "stream",
     "text": [
      "AAPL| 4.452568e+07 4.93008e+07  4.673882e+07 4.353936e+07 4.499806e+07 4.4916..\n",
      "AIG | 1.515896e+07 1.664099e+07 1.640576e+07 1.573368e+07 1.638048e+07 1.5814..\n",
      "AMD | 1.744796e+07 2.020541e+07 1.776361e+07 1.720057e+07 1.773455e+07 1.6864..\n",
      "DELL| 6657170      6673491      6426205      6113305      6454175      600460..\n",
      "DOW | 1.101615e+07 1.146551e+07 1.138643e+07 1.060542e+07 1.111021e+07 1.0625..\n",
      "GOOG| 3.800257e+07 3.944743e+07 3.765593e+07 3.654637e+07 3.796523e+07 3.7075..\n",
      "HPQ | 1.804498e+07 1.957508e+07 1.839489e+07 1.945706e+07 1.938343e+07 1.9473..\n",
      "IBM | 2.267041e+07 2.358848e+07 2.339335e+07 2.115495e+07 2.164019e+07 2.2247..\n",
      "INTC| 2.638187e+07 2.758548e+07 2.748836e+07 2.516563e+07 2.584221e+07 2.4953..\n",
      "MSFT| 1.650542e+07 1.519559e+07 1.538936e+07 1.537383e+07 1.602633e+07 1.5736..\n",
      "ORCL| 1.823452e+07 1.909067e+07 2.007516e+07 1.863508e+07 1.950575e+07 1.9636..\n",
      "PEP | 1.176689e+07 1.236042e+07 1.181257e+07 1.15121e+07  1.233191e+07 1.2415..\n",
      "PRU | 3.170256e+07 3.393572e+07 2.984919e+07 3.038912e+07 3.141497e+07 3.1001..\n",
      "SBUX| 3.407796e+07 3.486188e+07 3.377464e+07 3.17232e+07  3.235641e+07 3.1894..\n",
      "TXN | 9647702      9965824      9498755      9315141      9878173      959385..\n"
     ]
    }
   ],
   "source": [
    "// returns a dictionary with the syms and prices of each trade\n",
    "exec price by sym from daily"
   ]
  },
  {
   "cell_type": "markdown",
   "metadata": {
    "hidden": true
   },
   "source": [
    "If we add more columns to be returned at this stage, we actually end up returning a dictionary where the keys are the broken down groupings and the value is a table with each column we selected as a column: "
   ]
  },
  {
   "cell_type": "code",
   "execution_count": 63,
   "metadata": {
    "hidden": true
   },
   "outputs": [
    {
     "name": "stdout",
     "output_type": "stream",
     "text": [
      "    | price                                  size                \n",
      "----| -----------------------------------------------------------\n",
      "AAPL| 4.452568e+07 4.93008e+07  4.673882e+07 536408 554761 535121\n",
      "AIG | 1.515896e+07 1.664099e+07 1.640576e+07 532160 559732 544834\n",
      "AMD | 1.744796e+07 2.020541e+07 1.776361e+07 530579 552365 542053\n",
      "DELL| 6657170      6673491      6426205      531534 543730 546929\n",
      "DOW | 1.101615e+07 1.146551e+07 1.138643e+07 539534 552440 537432\n",
      "GOOG| 3.800257e+07 3.944743e+07 3.765593e+07 535376 551302 526374\n",
      "HPQ | 1.804498e+07 1.957508e+07 1.839489e+07 524307 563705 528128\n",
      "IBM | 2.267041e+07 2.358848e+07 2.339335e+07 531573 550613 528404\n",
      "INTC| 2.638187e+07 2.758548e+07 2.748836e+07 538767 553318 542887\n",
      "MSFT| 1.650542e+07 1.519559e+07 1.538936e+07 545950 544680 525033\n",
      "ORCL| 1.823452e+07 1.909067e+07 2.007516e+07 533825 542955 536128\n",
      "PEP | 1.176689e+07 1.236042e+07 1.181257e+07 525361 555637 536426\n",
      "PRU | 3.170256e+07 3.393572e+07 2.984919e+07 543107 561256 527113\n",
      "SBUX| 3.407796e+07 3.486188e+07 3.377464e+07 530383 563825 531627\n",
      "TXN | 9647702      9965824      9498755      529999 553721 535724\n"
     ]
    }
   ],
   "source": [
    "exec 3 sublist price, 3 sublist size by sym from daily //sublisting for visibility"
   ]
  },
  {
   "cell_type": "markdown",
   "metadata": {
    "hidden": true
   },
   "source": [
    "This is because what we are returning is a series of dictionaries for each of our groupings! \n",
    "\n"
   ]
  },
  {
   "cell_type": "code",
   "execution_count": 64,
   "metadata": {
    "hidden": true
   },
   "outputs": [
    {
     "name": "stdout",
     "output_type": "stream",
     "text": [
      "`sym$`AAPL`AAPL`AAPL`AAPL`AAPL`AAPL`AAPL`AAPL`AAPL`AAPL`AAPL`AAPL`AAPL`AAPL`A..\n"
     ]
    }
   ],
   "source": [
    "exec sym from select sym from trade  //pulling the selection into memory, and then using exec \n",
    "//exec sym from trade                  //can't do this on disk - there is really a sym list for each date"
   ]
  },
  {
   "cell_type": "markdown",
   "metadata": {
    "hidden": true,
    "reveal": "a8bqrgbjln8",
    "reveal-hidden": false
   },
   "source": [
    "##### Exercise\n",
    "\n",
    "Using the `daily` table, return the first `open` and last `close` prices for all symbols ending with \"L\".\n",
    "\n",
    "Output the result as a dictionary, and also specifically as a keyed table. "
   ]
  },
  {
   "cell_type": "code",
   "execution_count": 69,
   "metadata": {
    "hidden": true,
    "reveal": "a8bqrgbjln8"
   },
   "outputs": [
    {
     "name": "stdout",
     "output_type": "stream",
     "text": [
      "    | open  close\n",
      "----| -----------\n",
      "AAPL| 83.88 90.95\n",
      "DELL| 12    13.29\n",
      "ORCL| 35    42.82\n",
      "99h\n"
     ]
    }
   ],
   "source": [
    "exec first open, last close by sym from daily where sym like \"*L\"  //not a keyed table, a dictionary\n",
    "type exec first open, last close by sym from daily where sym like \"*L\"  //not a keyed table, a dictionary\n",
    "//type 0! exec first open, last close by sym from daily where sym like \"*L\"  //can't unkey this \n"
   ]
  },
  {
   "cell_type": "code",
   "execution_count": null,
   "metadata": {
    "hidden": true,
    "reveal": "a8bqrgbjln8"
   },
   "outputs": [],
   "source": [
    "exec first open, last close by sym:sym from daily where sym like \"*L\" //other column names fine too \n",
    "type exec first open, last close by sym:sym from daily where sym like \"*L\" //keyed table - also a dictionary \n",
    "type 0! exec first open, last close by sym:sym from daily where sym like \"*L\" //can unkey this because it's a table"
   ]
  },
  {
   "cell_type": "code",
   "execution_count": 70,
   "metadata": {
    "hidden": true
   },
   "outputs": [
    {
     "name": "stdout",
     "output_type": "stream",
     "text": [
      "date       sym  open  high  low   close price        size  \n",
      "-----------------------------------------------------------\n",
      "2020.01.02 AAPL 83.88 87.45 78.69 86.22 4.452568e+07 536408\n",
      "2020.01.02 AIG  26.97 29.85 26.36 29.01 1.515896e+07 532160\n",
      "2020.01.02 AMD  33.01 34.92 31.3  33.94 1.744796e+07 530579\n",
      "2020.01.02 DELL 12    13.56 11.52 12.07 6657170      531534\n",
      "2020.01.02 DOW  19.99 21.17 19.49 20.45 1.101615e+07 539534\n",
      "    | open  close\n",
      "----| -----------\n",
      "AAPL| 83.88 90.95\n",
      "DELL| 12    13.29\n",
      "ORCL| 35    42.82\n"
     ]
    }
   ],
   "source": [
    "//your answer here \n",
    "5#daily\n",
    "\n",
    "exec first open, last close by sym from daily where sym like \"*L\""
   ]
  },
  {
   "cell_type": "markdown",
   "metadata": {
    "heading_collapsed": true
   },
   "source": [
    "# Updating/modifying table data - `update`\n",
    "\n",
    "The qSQL `update` statement can be used to modify existing rows or add new columns to a table. All `update` statements are written with the same `by`, `from`, and `where` clauses as `select` and `exec` statements."
   ]
  },
  {
   "cell_type": "markdown",
   "metadata": {
    "hidden": true
   },
   "source": [
    "Suppose we wanted to change our price to be negative for all `AAPL` stocks - we can do that using update. "
   ]
  },
  {
   "cell_type": "code",
   "execution_count": 71,
   "metadata": {
    "hidden": true
   },
   "outputs": [
    {
     "name": "stdout",
     "output_type": "stream",
     "text": [
      "date       sym  open  high  low   close price        size  \n",
      "-----------------------------------------------------------\n",
      "2020.01.02 AAPL 83.88 87.45 78.69 86.22 4.452568e+07 536408\n",
      "2020.01.02 AIG  26.97 29.85 26.36 29.01 1.515896e+07 532160\n",
      "2020.01.02 AMD  33.01 34.92 31.3  33.94 1.744796e+07 530579\n",
      "2020.01.02 DELL 12    13.56 11.52 12.07 6657170      531534\n",
      "2020.01.02 DOW  19.99 21.17 19.49 20.45 1.101615e+07 539534\n",
      "date       sym  open  high  low   close price         size  \n",
      "------------------------------------------------------------\n",
      "2020.01.02 AAPL 83.88 87.45 78.69 86.22 -4.452568e+07 536408\n",
      "2020.01.02 AIG  26.97 29.85 26.36 29.01 1.515896e+07  532160\n",
      "2020.01.02 AMD  33.01 34.92 31.3  33.94 1.744796e+07  530579\n",
      "2020.01.02 DELL 12    13.56 11.52 12.07 6657170       531534\n",
      "2020.01.02 DOW  19.99 21.17 19.49 20.45 1.101615e+07  539534\n"
     ]
    }
   ],
   "source": [
    "5 sublist daily                                          //table before modification (sublisting for visibility)\n",
    "5 sublist update neg[price] from daily where sym =`AAPL  //table after we make the price negative for AAPL"
   ]
  },
  {
   "cell_type": "markdown",
   "metadata": {
    "hidden": true
   },
   "source": [
    "If we wanted to persist this change, we can pass the table by reference: "
   ]
  },
  {
   "cell_type": "code",
   "execution_count": 72,
   "metadata": {
    "hidden": true
   },
   "outputs": [
    {
     "name": "stdout",
     "output_type": "stream",
     "text": [
      "daily\n",
      "date       sym  open  high  low   close price         size  \n",
      "------------------------------------------------------------\n",
      "2020.01.02 AAPL 83.88 87.45 78.69 86.22 -4.452568e+07 536408\n",
      "2020.01.02 AIG  26.97 29.85 26.36 29.01 1.515896e+07  532160\n",
      "2020.01.02 AMD  33.01 34.92 31.3  33.94 1.744796e+07  530579\n",
      "2020.01.02 DELL 12    13.56 11.52 12.07 6657170       531534\n",
      "2020.01.02 DOW  19.99 21.17 19.49 20.45 1.101615e+07  539534\n"
     ]
    }
   ],
   "source": [
    "update neg[price] from `daily where sym =`AAPL //we are returned the table reference as output when persisting\n",
    "5 sublist daily                                //confirming our change is present"
   ]
  },
  {
   "cell_type": "markdown",
   "metadata": {
    "hidden": true
   },
   "source": [
    "We can also use `update` to create new columns and to do so on a grouped basis - like if we wanted to add a new column to our trade table to show the max trade size for each symbol: "
   ]
  },
  {
   "cell_type": "code",
   "execution_count": 73,
   "metadata": {
    "hidden": true
   },
   "outputs": [
    {
     "name": "stdout",
     "output_type": "stream",
     "text": [
      "date       sym  open  high  low   close price         size   maxTradeSize\n",
      "-------------------------------------------------------------------------\n",
      "2020.01.02 AAPL 83.88 87.45 78.69 86.22 -4.452568e+07 536408 582043      \n",
      "2020.01.03 AAPL 86.14 93.72 83.81 87.95 -4.93008e+07  554761 582043      \n",
      "2020.01.06 AAPL 88.01 90.8  83.48 85.78 -4.673882e+07 535121 582043      \n",
      "2020.01.07 AAPL 85.83 87.36 81.05 85.12 -4.353936e+07 518017 582043      \n",
      "2020.01.08 AAPL 85.07 88.32 79.7  84.95 -4.499806e+07 534561 582043      \n",
      "date       sym  open  high  low   close price   size   maxTradeSize\n",
      "-------------------------------------------------------------------\n",
      "2020.01.02 DELL 12    13.56 11.52 12.07 6657170 531534 593427      \n",
      "2020.01.03 DELL 12.07 12.89 11.59 12.01 6673491 543730 593427      \n",
      "2020.01.06 DELL 12.01 12.39 11.07 11.66 6426205 546929 593427      \n",
      "2020.01.07 DELL 11.67 12.42 11.41 11.89 6113305 512893 593427      \n",
      "2020.01.08 DELL 11.92 13.06 11.54 11.58 6454175 521809 593427      \n",
      "date       sym  open  high  low   close price         size   maxTradeSize\n",
      "-------------------------------------------------------------------------\n",
      "2020.01.02 AAPL 83.88 87.45 78.69 86.22 -4.452568e+07 536408 582043      \n",
      "2020.01.02 AIG  26.97 29.85 26.36 29.01 1.515896e+07  532160 584179      \n",
      "2020.01.02 AMD  33.01 34.92 31.3  33.94 1.744796e+07  530579 602276      \n",
      "2020.01.02 DELL 12    13.56 11.52 12.07 6657170       531534 593427      \n",
      "2020.01.02 DOW  19.99 21.17 19.49 20.45 1.101615e+07  539534 600835      \n",
      "2020.01.02 GOOG 71.97 73.97 67.89 71.01 3.800257e+07  535376 587621      \n",
      "2020.01.02 HPQ  35.98 36.91 31.88 34.6  1.804498e+07  524307 591491      \n",
      "2020.01.02 IBM  42    44.65 40.89 41.44 2.267041e+07  531573 584613      \n",
      "2020.01.02 INTC 50.98 51.32 45.97 49.46 2.638187e+07  538767 588676      \n",
      "2020.01.02 MSFT 29    32.27 28.32 28.74 1.650542e+07  545950 593356      \n",
      "2020.01.02 ORCL 35    35.94 32.6  34.83 1.823452e+07  533825 588420      \n",
      "2020.01.02 PEP  22    23.05 21.73 22.47 1.176689e+07  525361 586556      \n",
      "2020.01.02 PRU  59.04 60.44 56.33 59.61 3.170256e+07  543107 585720      \n",
      "2020.01.02 SBUX 62.88 67.69 60.88 63.01 3.407796e+07  530383 596792      \n",
      "2020.01.02 TXN  17.99 19.08 17.13 18.07 9647702       529999 600642      \n",
      "2020.01.03 AAPL 86.14 93.72 83.81 87.95 -4.93008e+07  554761 582043      \n",
      "2020.01.03 AIG  29    31.61 27.77 30.14 1.664099e+07  559732 584179      \n",
      "2020.01.03 AMD  33.9  39.34 33.13 34.37 2.020541e+07  552365 602276      \n",
      "2020.01.03 DELL 12.07 12.89 11.59 12.01 6673491       543730 593427      \n",
      "2020.01.03 DOW  20.45 21.87 19.96 20.47 1.146551e+07  552440 600835      \n",
      "..\n"
     ]
    }
   ],
   "source": [
    "show daily3:update maxTradeSize: max size by sym from daily\n",
    "5 sublist select from daily3 where sym = `AAPL   //updated for all syms with their specific size max\n",
    "5 sublist select from daily3 where sym = `DELL   //updated for all syms with their specific size max "
   ]
  },
  {
   "cell_type": "markdown",
   "metadata": {
    "hidden": true,
    "reveal": "hqoxpzpshv",
    "reveal-hidden": true
   },
   "source": [
    "##### Exercise\n",
    "\n",
    "Update the `daily` table to have a new column `mid` which is the midpoint of the high and low prices. Do this without modifying our original table."
   ]
  },
  {
   "cell_type": "code",
   "execution_count": null,
   "metadata": {
    "hidden": true,
    "reveal": "hqoxpzpshv"
   },
   "outputs": [],
   "source": [
    "update mid:0.5*high+low from daily"
   ]
  },
  {
   "cell_type": "code",
   "execution_count": 74,
   "metadata": {
    "hidden": true
   },
   "outputs": [
    {
     "name": "stdout",
     "output_type": "stream",
     "text": [
      "date       sym  open  high  low   close price         size   mid   \n",
      "-------------------------------------------------------------------\n",
      "2020.01.02 AAPL 83.88 87.45 78.69 86.22 -4.452568e+07 536408 83.07 \n",
      "2020.01.02 AIG  26.97 29.85 26.36 29.01 1.515896e+07  532160 28.105\n",
      "2020.01.02 AMD  33.01 34.92 31.3  33.94 1.744796e+07  530579 33.11 \n",
      "2020.01.02 DELL 12    13.56 11.52 12.07 6657170       531534 12.54 \n",
      "2020.01.02 DOW  19.99 21.17 19.49 20.45 1.101615e+07  539534 20.33 \n",
      "2020.01.02 GOOG 71.97 73.97 67.89 71.01 3.800257e+07  535376 70.93 \n",
      "2020.01.02 HPQ  35.98 36.91 31.88 34.6  1.804498e+07  524307 34.395\n",
      "2020.01.02 IBM  42    44.65 40.89 41.44 2.267041e+07  531573 42.77 \n",
      "2020.01.02 INTC 50.98 51.32 45.97 49.46 2.638187e+07  538767 48.645\n",
      "2020.01.02 MSFT 29    32.27 28.32 28.74 1.650542e+07  545950 30.295\n",
      "2020.01.02 ORCL 35    35.94 32.6  34.83 1.823452e+07  533825 34.27 \n",
      "2020.01.02 PEP  22    23.05 21.73 22.47 1.176689e+07  525361 22.39 \n",
      "2020.01.02 PRU  59.04 60.44 56.33 59.61 3.170256e+07  543107 58.385\n",
      "2020.01.02 SBUX 62.88 67.69 60.88 63.01 3.407796e+07  530383 64.285\n",
      "2020.01.02 TXN  17.99 19.08 17.13 18.07 9647702       529999 18.105\n",
      "2020.01.03 AAPL 86.14 93.72 83.81 87.95 -4.93008e+07  554761 88.765\n",
      "2020.01.03 AIG  29    31.61 27.77 30.14 1.664099e+07  559732 29.69 \n",
      "2020.01.03 AMD  33.9  39.34 33.13 34.37 2.020541e+07  552365 36.235\n",
      "2020.01.03 DELL 12.07 12.89 11.59 12.01 6673491       543730 12.24 \n",
      "2020.01.03 DOW  20.45 21.87 19.96 20.47 1.146551e+07  552440 20.915\n",
      "..\n"
     ]
    }
   ],
   "source": [
    "//your answer here \n",
    "update mid:0.5*high+low from daily"
   ]
  },
  {
   "cell_type": "markdown",
   "metadata": {
    "hidden": true,
    "reveal": "x41yfky3r9q",
    "reveal-hidden": false
   },
   "source": [
    "##### Exercise\n",
    "Persist a change to our daily table so  all `DOW` values are now half the `price`"
   ]
  },
  {
   "cell_type": "code",
   "execution_count": null,
   "metadata": {
    "hidden": true,
    "reveal": "x41yfky3r9q"
   },
   "outputs": [],
   "source": [
    "update price*0.5 from `daily where sym =`DOW \n",
    "select from daily where sym =`DOW"
   ]
  },
  {
   "cell_type": "code",
   "execution_count": 80,
   "metadata": {
    "hidden": true
   },
   "outputs": [
    {
     "name": "stdout",
     "output_type": "stream",
     "text": [
      "date       sym  open  high  low   close price         size  \n",
      "------------------------------------------------------------\n",
      "2020.01.02 AAPL 83.88 87.45 78.69 86.22 -4.452568e+07 536408\n",
      "2020.01.02 AIG  26.97 29.85 26.36 29.01 1.515896e+07  532160\n",
      "2020.01.02 AMD  33.01 34.92 31.3  33.94 1.744796e+07  530579\n",
      "2020.01.02 DELL 12    13.56 11.52 12.07 6657170       531534\n",
      "2020.01.02 DOW  19.99 21.17 19.49 20.45 1.101615e+07  539534\n",
      "daily\n"
     ]
    }
   ],
   "source": [
    "//your answer here \n",
    "5#daily\n",
    "update price:price%2 from `daily where sym = `DOW"
   ]
  },
  {
   "cell_type": "markdown",
   "metadata": {
    "heading_collapsed": true
   },
   "source": [
    "# Remove data from table - `delete`\n",
    "The qSQL `delete` can be used to remove whole rows or whole columns from a table. All `delete` statements specify either column names (to delete columns), or use a `where` statement (to delete rows) - they cannot have both as partial column or row deletions are not supported."
   ]
  },
  {
   "cell_type": "code",
   "execution_count": 81,
   "metadata": {
    "hidden": true
   },
   "outputs": [
    {
     "name": "stdout",
     "output_type": "stream",
     "text": [
      "date       sym  open  high  low   close price        size  \n",
      "-----------------------------------------------------------\n",
      "2020.01.03 AAPL 86.14 93.72 83.81 87.95 -4.93008e+07 554761\n",
      "2020.01.03 AIG  29    31.61 27.77 30.14 1.664099e+07 559732\n",
      "2020.01.03 AMD  33.9  39.34 33.13 34.37 2.020541e+07 552365\n",
      "2020.01.03 DELL 12.07 12.89 11.59 12.01 6673491      543730\n",
      "2020.01.03 DOW  20.45 21.87 19.96 20.47 5732756      552440\n",
      "date       sym  open  high  low   close price         size  \n",
      "------------------------------------------------------------\n",
      "2020.01.02 AAPL 83.88 87.45 78.69 86.22 -4.452568e+07 536408\n",
      "2020.01.02 AIG  26.97 29.85 26.36 29.01 1.515896e+07  532160\n",
      "2020.01.02 AMD  33.01 34.92 31.3  33.94 1.744796e+07  530579\n",
      "2020.01.02 DELL 12    13.56 11.52 12.07 6657170       531534\n",
      "2020.01.02 DOW  19.99 21.17 19.49 20.45 5508073       539534\n"
     ]
    }
   ],
   "source": [
    "5 sublist delete from daily where date=2020.01.02  //Table is passed by value, we are deleting rows\n",
    "5 sublist daily                                    //change not persisted"
   ]
  },
  {
   "cell_type": "code",
   "execution_count": 82,
   "metadata": {
    "hidden": true
   },
   "outputs": [
    {
     "name": "stdout",
     "output_type": "stream",
     "text": [
      "daily\n",
      "date       sym  open  high  low   close size  \n",
      "----------------------------------------------\n",
      "2020.01.02 AAPL 83.88 87.45 78.69 86.22 536408\n",
      "2020.01.02 AIG  26.97 29.85 26.36 29.01 532160\n",
      "2020.01.02 AMD  33.01 34.92 31.3  33.94 530579\n",
      "2020.01.02 DELL 12    13.56 11.52 12.07 531534\n",
      "2020.01.02 DOW  19.99 21.17 19.49 20.45 539534\n"
     ]
    }
   ],
   "source": [
    "delete price from `daily  //we are deleting the whole price column from our daily table, and persisting\n",
    "5 sublist daily"
   ]
  },
  {
   "cell_type": "markdown",
   "metadata": {
    "hidden": true
   },
   "source": [
    "If we try to combine the two and delete *part* of a row or column we will get an error: "
   ]
  },
  {
   "cell_type": "code",
   "execution_count": 84,
   "metadata": {
    "hidden": true
   },
   "outputs": [],
   "source": [
    "//delete sym from daily where date = 2020.01.02"
   ]
  },
  {
   "cell_type": "markdown",
   "metadata": {
    "hidden": true,
    "reveal": "kmdd5g6vslk",
    "reveal-hidden": true
   },
   "source": [
    "##### Exercise\n",
    "\n",
    "Delete all occurrences of `AAPL` from our `daily` table by passing the table in as reference."
   ]
  },
  {
   "cell_type": "code",
   "execution_count": null,
   "metadata": {
    "hidden": true,
    "reveal": "kmdd5g6vslk"
   },
   "outputs": [],
   "source": [
    "delete from `daily where sym =`AAPL\n",
    "daily"
   ]
  },
  {
   "cell_type": "code",
   "execution_count": 86,
   "metadata": {
    "hidden": true
   },
   "outputs": [
    {
     "name": "stdout",
     "output_type": "stream",
     "text": [
      "daily\n"
     ]
    }
   ],
   "source": [
    "//your answer here \n",
    "delete from `daily where sym = `AAPL"
   ]
  },
  {
   "cell_type": "markdown",
   "metadata": {
    "heading_collapsed": true
   },
   "source": [
    "# Using `fby` to avoid nested queries\n"
   ]
  },
  {
   "cell_type": "markdown",
   "metadata": {
    "hidden": true
   },
   "source": [
    "The [`fby`](https://code.kx.com/q/ref/fby/) keyword, sometimes referred to as \"filter by\" allows us to avoid multiple aggregation and joining steps that would usually be required in another language. \n",
    "\n",
    "The form of fby is `(aggregation;data) fby group` where: \n",
    "* aggregation refers to a function which takes a list and returns a singular atom \n",
    "* data refers to the column to which you want to apply this function \n",
    "* group refers to a column by which you want to group, or a table of multiple columns on which you want to group \n",
    "\n",
    "Returning to our example about finding all trades where the size is less than the average trade size on the exchange they traded, we can express this as follows: "
   ]
  },
  {
   "cell_type": "code",
   "execution_count": 87,
   "metadata": {
    "hidden": true
   },
   "outputs": [
    {
     "name": "stdout",
     "output_type": "stream",
     "text": [
      "date       sym  time         price size stop cond ex\n",
      "----------------------------------------------------\n",
      "2020.01.31 AAPL 09:30:00.068 87.75 42   0    P    N \n",
      "2020.01.31 AAPL 09:30:00.084 87.73 32   0    K    N \n",
      "2020.01.31 AAPL 09:30:00.091 87.77 11   0    9    N \n",
      "2020.01.31 AAPL 09:30:00.149 87.81 27   0    W    N \n",
      "2020.01.31 AAPL 09:30:00.167 87.8  47   0    E    N \n",
      "2020.01.31 AAPL 09:30:00.273 87.94 45   0    B    N \n",
      "2020.01.31 AAPL 09:30:00.438 87.96 10   0    E    N \n",
      "2020.01.31 AAPL 09:30:00.603 87.85 23   0    B    N \n",
      "2020.01.31 AAPL 09:30:01.139 87.7  17   0    A    N \n",
      "2020.01.31 AAPL 09:30:01.400 87.68 13   0    J    N \n",
      "2020.01.31 AAPL 09:30:02.158 87.38 16   0    N    N \n",
      "2020.01.31 AAPL 09:30:03.024 87.46 46   0    W    N \n",
      "2020.01.31 AAPL 09:30:03.076 87.39 51   0    J    N \n",
      "2020.01.31 AAPL 09:30:04.268 87.19 12   0    C    N \n",
      "2020.01.31 AAPL 09:30:04.341 87.22 40   0    R    N \n",
      "2020.01.31 AAPL 09:30:04.769 87.43 26   0    J    N \n",
      "2020.01.31 AAPL 09:30:04.889 87.38 39   0    J    N \n",
      "2020.01.31 AAPL 09:30:05.164 87.38 39   0    J    N \n",
      "2020.01.31 AAPL 09:30:05.182 87.43 16   0    A    N \n",
      "2020.01.31 AAPL 09:30:05.494 87.34 34   0    L    N \n",
      "..\n"
     ]
    }
   ],
   "source": [
    "select from trade where date = last date, size < (avg;size) fby ex"
   ]
  },
  {
   "cell_type": "markdown",
   "metadata": {
    "hidden": true
   },
   "source": [
    "Compare the above statement to the how it would be similarly done via normal qSql commands, we would first get the average size for each exchange, then join this data to our original table and perform a new selection: "
   ]
  },
  {
   "cell_type": "code",
   "execution_count": 88,
   "metadata": {
    "hidden": true
   },
   "outputs": [
    {
     "name": "stdout",
     "output_type": "stream",
     "text": [
      "ex| exAvg   \n",
      "--| --------\n",
      "N | 54.44547\n",
      "O | 54.47614\n"
     ]
    }
   ],
   "source": [
    "//first, get the average by exchange\n",
    "show resby:select exAvg:avg size by ex from trade where date = last date"
   ]
  },
  {
   "cell_type": "code",
   "execution_count": 89,
   "metadata": {
    "hidden": true
   },
   "outputs": [
    {
     "name": "stdout",
     "output_type": "stream",
     "text": [
      "date       sym  time         price size stop cond ex exAvg   \n",
      "-------------------------------------------------------------\n",
      "2020.01.31 AAPL 09:30:00.067 87.75 65   0    T    N  54.44547\n",
      "2020.01.31 AAPL 09:30:00.068 87.75 42   0    P    N  54.44547\n",
      "2020.01.31 AAPL 09:30:00.084 87.73 32   0    K    N  54.44547\n",
      "2020.01.31 AAPL 09:30:00.091 87.77 11   0    9    N  54.44547\n",
      "2020.01.31 AAPL 09:30:00.146 87.78 77   0    A    N  54.44547\n",
      "2020.01.31 AAPL 09:30:00.149 87.81 27   0    W    N  54.44547\n",
      "2020.01.31 AAPL 09:30:00.167 87.8  47   0    E    N  54.44547\n",
      "2020.01.31 AAPL 09:30:00.273 87.94 45   0    B    N  54.44547\n",
      "2020.01.31 AAPL 09:30:00.438 87.96 10   0    E    N  54.44547\n",
      "2020.01.31 AAPL 09:30:00.603 87.85 23   0    B    N  54.44547\n",
      "2020.01.31 AAPL 09:30:00.625 87.78 80   0    G    N  54.44547\n",
      "2020.01.31 AAPL 09:30:00.634 87.82 80   0         N  54.44547\n",
      "2020.01.31 AAPL 09:30:00.886 87.69 65   0    E    N  54.44547\n",
      "2020.01.31 AAPL 09:30:00.920 87.72 99   0    C    N  54.44547\n",
      "2020.01.31 AAPL 09:30:01.139 87.7  17   0    A    N  54.44547\n",
      "2020.01.31 AAPL 09:30:01.186 87.72 76   0    Z    N  54.44547\n",
      "2020.01.31 AAPL 09:30:01.235 87.73 57   0    R    N  54.44547\n",
      "2020.01.31 AAPL 09:30:01.269 87.68 65   0    G    N  54.44547\n",
      "2020.01.31 AAPL 09:30:01.325 87.67 99   0    O    N  54.44547\n",
      "2020.01.31 AAPL 09:30:01.400 87.68 13   0    J    N  54.44547\n",
      "..\n"
     ]
    }
   ],
   "source": [
    "//next, combine that average value with your original table using lj\n",
    "show interim:(select from trade where date = last date) lj resby"
   ]
  },
  {
   "cell_type": "code",
   "execution_count": 90,
   "metadata": {
    "hidden": true
   },
   "outputs": [
    {
     "name": "stdout",
     "output_type": "stream",
     "text": [
      "date       sym  time         price size stop cond ex exAvg   \n",
      "-------------------------------------------------------------\n",
      "2020.01.31 AAPL 09:30:00.068 87.75 42   0    P    N  54.44547\n",
      "2020.01.31 AAPL 09:30:00.084 87.73 32   0    K    N  54.44547\n",
      "2020.01.31 AAPL 09:30:00.091 87.77 11   0    9    N  54.44547\n",
      "2020.01.31 AAPL 09:30:00.149 87.81 27   0    W    N  54.44547\n",
      "2020.01.31 AAPL 09:30:00.167 87.8  47   0    E    N  54.44547\n",
      "2020.01.31 AAPL 09:30:00.273 87.94 45   0    B    N  54.44547\n",
      "2020.01.31 AAPL 09:30:00.438 87.96 10   0    E    N  54.44547\n",
      "2020.01.31 AAPL 09:30:00.603 87.85 23   0    B    N  54.44547\n",
      "2020.01.31 AAPL 09:30:01.139 87.7  17   0    A    N  54.44547\n",
      "2020.01.31 AAPL 09:30:01.400 87.68 13   0    J    N  54.44547\n",
      "2020.01.31 AAPL 09:30:02.158 87.38 16   0    N    N  54.44547\n",
      "2020.01.31 AAPL 09:30:03.024 87.46 46   0    W    N  54.44547\n",
      "2020.01.31 AAPL 09:30:03.076 87.39 51   0    J    N  54.44547\n",
      "2020.01.31 AAPL 09:30:04.268 87.19 12   0    C    N  54.44547\n",
      "2020.01.31 AAPL 09:30:04.341 87.22 40   0    R    N  54.44547\n",
      "2020.01.31 AAPL 09:30:04.769 87.43 26   0    J    N  54.44547\n",
      "2020.01.31 AAPL 09:30:04.889 87.38 39   0    J    N  54.44547\n",
      "2020.01.31 AAPL 09:30:05.164 87.38 39   0    J    N  54.44547\n",
      "2020.01.31 AAPL 09:30:05.182 87.43 16   0    A    N  54.44547\n",
      "2020.01.31 AAPL 09:30:05.494 87.34 34   0    L    N  54.44547\n",
      "..\n"
     ]
    }
   ],
   "source": [
    "//finally, return the results from our original table that are less than the exchange average\n",
    "select from interim where size < exAvg"
   ]
  },
  {
   "cell_type": "markdown",
   "metadata": {
    "hidden": true
   },
   "source": [
    "Hopefully this illustrates how much more simple using `fby` is compared to the above statements. \n",
    "\n",
    "The `fby` doesn't have to be used only in the `where` clause, we can use this in any part of our statement: "
   ]
  },
  {
   "cell_type": "code",
   "execution_count": 91,
   "metadata": {
    "hidden": true
   },
   "outputs": [
    {
     "name": "stdout",
     "output_type": "stream",
     "text": [
      "sym  size ex lessThanEx\n",
      "-----------------------\n",
      "AAPL 65   N  0         \n",
      "AAPL 42   N  1         \n",
      "AAPL 32   N  1         \n",
      "AAPL 11   N  1         \n",
      "AAPL 77   N  0         \n",
      "AAPL 27   N  1         \n",
      "AAPL 47   N  1         \n",
      "AAPL 45   N  1         \n",
      "AAPL 10   N  1         \n",
      "AAPL 23   N  1         \n",
      "AAPL 80   N  0         \n",
      "AAPL 80   N  0         \n",
      "AAPL 65   N  0         \n",
      "AAPL 99   N  0         \n",
      "AAPL 17   N  1         \n",
      "AAPL 76   N  0         \n",
      "AAPL 57   N  0         \n",
      "AAPL 65   N  0         \n",
      "AAPL 99   N  0         \n",
      "AAPL 13   N  1         \n",
      "..\n"
     ]
    }
   ],
   "source": [
    "select sym, size, ex, lessThanEx: size < (avg;size) fby ex from trade where date = last date"
   ]
  },
  {
   "cell_type": "code",
   "execution_count": 92,
   "metadata": {
    "hidden": true
   },
   "outputs": [
    {
     "name": "stdout",
     "output_type": "stream",
     "text": [
      "date       sym  time         price size stop cond ex filterSize lessThanEx\n",
      "--------------------------------------------------------------------------\n",
      "2020.01.31 AAPL 09:30:00.067 87.75 65   0    T    N  54.44547   0         \n",
      "2020.01.31 AAPL 09:30:00.068 87.75 42   0    P    N  54.44547   1         \n",
      "2020.01.31 AAPL 09:30:00.084 87.73 32   0    K    N  54.44547   1         \n",
      "2020.01.31 AAPL 09:30:00.091 87.77 11   0    9    N  54.44547   1         \n",
      "2020.01.31 AAPL 09:30:00.146 87.78 77   0    A    N  54.44547   0         \n",
      "2020.01.31 AAPL 09:30:00.149 87.81 27   0    W    N  54.44547   1         \n",
      "2020.01.31 AAPL 09:30:00.167 87.8  47   0    E    N  54.44547   1         \n",
      "2020.01.31 AAPL 09:30:00.273 87.94 45   0    B    N  54.44547   1         \n",
      "2020.01.31 AAPL 09:30:00.438 87.96 10   0    E    N  54.44547   1         \n",
      "2020.01.31 AAPL 09:30:00.603 87.85 23   0    B    N  54.44547   1         \n",
      "2020.01.31 AAPL 09:30:00.625 87.78 80   0    G    N  54.44547   0         \n",
      "2020.01.31 AAPL 09:30:00.634 87.82 80   0         N  54.44547   0         \n",
      "2020.01.31 AAPL 09:30:00.886 87.69 65   0    E    N  54.44547   0         \n",
      "2020.01.31 AAPL 09:30:00.920 87.72 99   0    C    N  54.44547   0         \n",
      "2020.01.31 AAPL 09:30:01.139 87.7  17   0    A    N  54.44547   1         \n",
      "2020.01.31 AAPL 09:30:01.186 87.72 76   0    Z    N  54.44547   0         \n",
      "2020.01.31 AAPL 09:30:01.235 87.73 57   0    R    N  54.44547   0         \n",
      "2020.01.31 AAPL 09:30:01.269 87.68 65   0    G    N  54.44547   0         \n",
      "2020.01.31 AAPL 09:30:01.325 87.67 99   0    O    N  54.44547   0         \n",
      "2020.01.31 AAPL 09:30:01.400 87.68 13   0    J    N  54.44547   1         \n",
      "..\n"
     ]
    }
   ],
   "source": [
    "update  filterSize:(avg;size) fby ex,\n",
    "        lessThanEx: size < (avg;size) fby ex from  //as an update to the table instead\n",
    "        (select from trade where date = last date) //partitioned, so we first select, then update"
   ]
  },
  {
   "cell_type": "markdown",
   "metadata": {
    "hidden": true,
    "reveal": "bss6r0g8mmh",
    "reveal-hidden": false
   },
   "source": [
    "##### Exercise\n",
    "Write a statement using `fby` to find the largest volume in our `trade` table (`where date = last date`) for which the price is greater than the average price for that symbol."
   ]
  },
  {
   "cell_type": "code",
   "execution_count": 98,
   "metadata": {
    "hidden": true,
    "reveal": "bss6r0g8mmh"
   },
   "outputs": [
    {
     "name": "stdout",
     "output_type": "stream",
     "text": [
      "size\n",
      "----\n",
      "99  \n"
     ]
    }
   ],
   "source": [
    "select max size from trade where date = last date, price > (avg;price) fby sym"
   ]
  },
  {
   "cell_type": "code",
   "execution_count": 100,
   "metadata": {
    "hidden": true
   },
   "outputs": [
    {
     "name": "stdout",
     "output_type": "stream",
     "text": [
      "size\n",
      "----\n",
      "99  \n"
     ]
    }
   ],
   "source": [
    "// Enter your qSQL code here\n",
    "select max size from trade where date = last date, price>(avg;price) fby sym"
   ]
  },
  {
   "cell_type": "code",
   "execution_count": null,
   "metadata": {},
   "outputs": [],
   "source": []
  }
 ],
 "metadata": {
  "jupytext": {
   "text_representation": {
    "extension": ".q",
    "format_name": "light",
    "format_version": "1.5",
    "jupytext_version": "1.4.1"
   }
  },
  "kernelspec": {
   "display_name": "Python 3 (ipykernel)",
   "language": "python",
   "name": "python3"
  },
  "language_info": {
   "codemirror_mode": {
    "name": "ipython",
    "version": 3
   },
   "file_extension": ".py",
   "mimetype": "text/x-python",
   "name": "python",
   "nbconvert_exporter": "python",
   "pygments_lexer": "ipython3",
   "version": "3.11.10"
  },
  "toc": {
   "base_numbering": 1,
   "nav_menu": {},
   "number_sections": true,
   "sideBar": true,
   "skip_h1_title": false,
   "title_cell": "Table of Contents",
   "title_sidebar": "Contents",
   "toc_cell": false,
   "toc_position": {
    "height": "calc(100% - 180px)",
    "left": "10px",
    "top": "150px",
    "width": "384px"
   },
   "toc_section_display": true,
   "toc_window_display": true
  }
 },
 "nbformat": 4,
 "nbformat_minor": 4
}
