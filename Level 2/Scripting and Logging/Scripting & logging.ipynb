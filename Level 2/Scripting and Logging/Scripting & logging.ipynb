{
 "cells": [
  {
   "cell_type": "code",
   "execution_count": 18,
   "metadata": {
    "autorun": true,
    "editable": false,
    "jupyter": {
     "source_hidden": true
    },
    "tags": [
     "remove-cell"
    ]
   },
   "outputs": [
    {
     "name": "stdout",
     "output_type": "stream",
     "text": [
      "PyKX now running in 'python' mode (default). All cells by default will be run as python code. \n",
      "Include '%%q' at the beginning of each cell to run as q code. \n"
     ]
    }
   ],
   "source": [
    "#;.pykx.disableJupyter()"
   ]
  },
  {
   "cell_type": "code",
   "execution_count": 19,
   "metadata": {
    "autorun": true,
    "editable": false,
    "jupyter": {
     "source_hidden": true
    },
    "tags": [
     "remove-cell"
    ]
   },
   "outputs": [
    {
     "name": "stdout",
     "output_type": "stream",
     "text": [
      "PyKX now running in 'jupyter_qfirst' mode. All cells by default will be run as q code. \n",
      "Include '%%py' at the beginning of each cell to run as python code. \n"
     ]
    }
   ],
   "source": [
    "# https://code.kx.com/pykx/3.0/examples/jupyter-integration.html#q-first-mode\n",
    "import pykx as kx\n",
    "kx.util.jupyter_qfirst_enable()"
   ]
  },
  {
   "cell_type": "markdown",
   "metadata": {},
   "source": [
    "# Scripting And Logging"
   ]
  },
  {
   "cell_type": "markdown",
   "metadata": {},
   "source": [
    "**Learning Objectives**\n",
    "\n",
    "To understand \n",
    "\n",
    "\n",
    "+ How to create a q script\n",
    "\n",
    "+ The ways to load a q script\n",
    "\n",
    "+ How to implement Multi-line Comments\n",
    "\n",
    "+ How to pass arguments to a script\n",
    "\n",
    "+ How to implement logging"
   ]
  },
  {
   "cell_type": "markdown",
   "metadata": {},
   "source": [
    "# Introduction"
   ]
  },
  {
   "cell_type": "markdown",
   "metadata": {},
   "source": [
    "A script is a program or sequence of instructions which are interpreted by another program before execution of each instruction."
   ]
  },
  {
   "cell_type": "markdown",
   "metadata": {},
   "source": [
    "In kdb+/q, we can interactively execute q commands in our command prompt:"
   ]
  },
  {
   "cell_type": "code",
   "execution_count": 17,
   "metadata": {},
   "outputs": [
    {
     "name": "stdout",
     "output_type": "stream",
     "text": [
      "`s#`a`b`x`y\n",
      ",`fun\n"
     ]
    }
   ],
   "source": [
    "a:10\n",
    "b:3.2\n",
    "fun : {x+y}\n",
    "\\v\n",
    "\\f"
   ]
  },
  {
   "cell_type": "markdown",
   "metadata": {},
   "source": [
    "Here we have defined some variables and a function, however if we close our q session and start another q session (so here, that would be restarting the notebook kernel), we lose these variables and functions."
   ]
  },
  {
   "cell_type": "code",
   "execution_count": 15,
   "metadata": {},
   "outputs": [
    {
     "name": "stdout",
     "output_type": "stream",
     "text": [
      "10\n"
     ]
    }
   ],
   "source": [
    "a"
   ]
  },
  {
   "cell_type": "markdown",
   "metadata": {},
   "source": [
    "Instead of manually executing instructions for each instance, scripting allows us to automate the execution of elaborate instruction sets as a program; a process that is significantly faster and less prone to error than with human interaction."
   ]
  },
  {
   "cell_type": "markdown",
   "metadata": {},
   "source": [
    "# Creating q scripts"
   ]
  },
  {
   "cell_type": "markdown",
   "metadata": {},
   "source": [
    "To create a q script, go to the \n",
    "\n",
    "    Jupyter Notebook Home Page->08 Scripting and Logging->New->Text File\n",
    "Give a name - \"qscript.q\" to this text file. **Take care to include the \".q\" suffix**"
   ]
  },
  {
   "cell_type": "markdown",
   "metadata": {},
   "source": [
    "Paste the following lines in the text(.q) file - \n",
    "\n",
    "    a : 25;\n",
    "    lambda : {x * y};\n",
    "    0N!\"Hello\";\n",
    "    \n",
    "We (but really you) just created a q script! "
   ]
  },
  {
   "cell_type": "markdown",
   "metadata": {},
   "source": [
    "## Commenting in a script "
   ]
  },
  {
   "cell_type": "markdown",
   "metadata": {},
   "source": [
    "When writing a script to perform a particular  task, it's important to include appropriate comments so the script can be maintained in the future. We have seen comments throughout the material so far - these are indicated with a leading `/` and can be placed on their own line or in-line with some code. "
   ]
  },
  {
   "cell_type": "code",
   "execution_count": 18,
   "metadata": {},
   "outputs": [
    {
     "name": "stdout",
     "output_type": "stream",
     "text": [
      "12.12923\n"
     ]
    }
   ],
   "source": [
    "//Beginning generation\n",
    "x: 10?20.0 \n",
    "avg x //As per JIRA 23.1 - this is an in-line comment "
   ]
  },
  {
   "cell_type": "markdown",
   "metadata": {},
   "source": [
    "Commenting style is somewhat of a personal preference, but the author uses individual line comments to denote new logical separations in the code, and in-line to explain particular lines of code."
   ]
  },
  {
   "cell_type": "markdown",
   "metadata": {},
   "source": [
    "Scripts allow us to write comments that span multiple lines - something we cannot do from the command prompt of a running q session.\n",
    "\n",
    "Open the comment block with a single forward slash. Close it with a single backward slash. "
   ]
  },
  {
   "cell_type": "code",
   "execution_count": 19,
   "metadata": {},
   "outputs": [],
   "source": [
    "/\n",
    "  This is a comment block.\n",
    "  Q ignores everything in it.\n",
    "\n",
    "  And I mean everything.\n",
    "  2+2\n",
    "\\"
   ]
  },
  {
   "cell_type": "markdown",
   "metadata": {},
   "source": [
    "The use of the double `//` for individual line comments by the author is also just personal style - this  is a personal choice to differentiate between block comments and single line comments but in actuality `/` would work just as well."
   ]
  },
  {
   "cell_type": "markdown",
   "metadata": {},
   "source": [
    "# Running a q script "
   ]
  },
  {
   "cell_type": "markdown",
   "metadata": {},
   "source": [
    "If we wanted to start a new q process and have it begin by running this script we can start our q process with the script name - e.g. \n",
    "    \n",
    "    mycomputerprompt$ q qscript.q\n",
    "\n",
    "In our case, this notebook is already a running q process, so we need to load the script *interactively*. We can load the script in to our q session (interactively) using one of the load file system commands."
   ]
  },
  {
   "cell_type": "code",
   "execution_count": 22,
   "metadata": {},
   "outputs": [
    {
     "name": "stdout",
     "output_type": "stream",
     "text": [
      "`s#`a`b`x`y\n",
      "`s#`fun`lambda\n"
     ]
    }
   ],
   "source": [
    "\\v\n",
    "\\f"
   ]
  },
  {
   "cell_type": "code",
   "execution_count": 23,
   "metadata": {},
   "outputs": [
    {
     "name": "stdout",
     "output_type": "stream",
     "text": [
      "\"Hello\"\n"
     ]
    }
   ],
   "source": [
    "\\l qscript.q           //l for load\n",
    "//system \"l qscript.q\""
   ]
  },
  {
   "cell_type": "markdown",
   "metadata": {},
   "source": [
    "<img src=\"../qbies.png\" width=\"50px\" style=\"width: 50px;padding-right:5px;padding-top:12px;padding-left:5px;\" align=\"left\"/>\n",
    "\n",
    "<p style='color:#273a6e'><i>Using the <code>system</code> command in kdb+/q sends a message for execution to the operating system. We can use this to execute more generic system commands when needed.  \n",
    "</i></p>"
   ]
  },
  {
   "cell_type": "code",
   "execution_count": 24,
   "metadata": {},
   "outputs": [
    {
     "name": "stdout",
     "output_type": "stream",
     "text": [
      "\"/home/jovyan/course-fundamentals/08 Scripting And Logging\"\n",
      "\"/home/jovyan/course-fundamentals/08 Scripting And Logging\"\n"
     ]
    }
   ],
   "source": [
    "system \"pwd\"\n",
    "\\pwd"
   ]
  },
  {
   "cell_type": "markdown",
   "metadata": {},
   "source": [
    "## Calling a script from another script"
   ]
  },
  {
   "cell_type": "markdown",
   "metadata": {},
   "source": [
    "We can create a script which is called from another script. Below, we have created a file `masterscript.q` which contains the following - \n",
    "\n",
    "<code>\n",
    "0N!\"Hello, This is the master script\";\n",
    "\\l secondaryscript.q\n",
    "</code>\n",
    "\n",
    "This loads another script called `secondaryscript.q` which contains the following line of code - \n",
    "\n",
    "<code>0N!\"This is the secondary script\";</code>"
   ]
  },
  {
   "cell_type": "code",
   "execution_count": 25,
   "metadata": {},
   "outputs": [
    {
     "name": "stdout",
     "output_type": "stream",
     "text": [
      "\"Hello, This is the master script\"\n",
      "\"This is the secondary script\"\n"
     ]
    }
   ],
   "source": [
    "\\l masterscript.q"
   ]
  },
  {
   "cell_type": "markdown",
   "metadata": {},
   "source": [
    "Both the scripts have been executed."
   ]
  },
  {
   "cell_type": "markdown",
   "metadata": {},
   "source": [
    "# Passing parameters to a script"
   ]
  },
  {
   "cell_type": "markdown",
   "metadata": {},
   "source": [
    "Parameter variables can be used by scripts to influence the output of the script, which can be defined within the interactive session prior to script execution, or passed to a script dynamically from the command line.\n",
    "\n",
    "Here we add the following line to our script to say hello to a single person -\n",
    "\n",
    "     0N!\"Hello\",name;"
   ]
  },
  {
   "cell_type": "code",
   "execution_count": 4,
   "metadata": {},
   "outputs": [
    {
     "name": "stdout",
     "output_type": "stream",
     "text": [
      "\"Hello Arsene\"\n"
     ]
    }
   ],
   "source": [
    "name : \"Arsene\"\n",
    "\\l qscript.q"
   ]
  },
  {
   "cell_type": "markdown",
   "metadata": {},
   "source": [
    "<img src=\"../qbies.png\" width=\"50px\" style=\"width: 50px;padding-right:5px;padding-top:20px;padding-left:5px;\" align=\"left\"/>\n",
    "\n",
    "<p style='color:#273a6e'><i>It is generally recommended to avoid writing scripts which are dependent on local variables being manually declared and existing in the calling q process. Better practice is to either store these in configuration files (which themselves are loaded as part of the script) or we can pass parameters to our q script at time of calling.\n",
    "</i></p>"
   ]
  },
  {
   "cell_type": "markdown",
   "metadata": {},
   "source": [
    "## Command line parameters - `.z.x` \n",
    "A better approach using the command line would be to pass in the variable and have our script parse the value:\n"
   ]
  },
  {
   "cell_type": "markdown",
   "metadata": {},
   "source": [
    "Replace the Hello name line with this in qscript.q-\n",
    "\n",
    "    0N!(\"The value of .z.x is -\");\n",
    "    0N!.z.x;\n",
    "    0N!\"hello \",.z.x[1];\n",
    "    0N!\"Exiting the script\";\n",
    "    exit 0;"
   ]
  },
  {
   "cell_type": "markdown",
   "metadata": {},
   "source": [
    "Here we see the introduction of [`.z.x`](https://code.kx.com/q/ref/dotz/#zx-raw-command-line) which captures the command line arguments as a list of strings."
   ]
  },
  {
   "cell_type": "code",
   "execution_count": 8,
   "metadata": {},
   "outputs": [
    {
     "name": "stdout",
     "output_type": "stream",
     "text": [
      "\"\\\"hello Arsene\\\"\"\n",
      "\"\\\"Exiting the script\\\"\"\n"
     ]
    }
   ],
   "source": [
    "\\env QHOME=/opt/kx/q q qscript.q -name Arsene"
   ]
  },
  {
   "cell_type": "markdown",
   "metadata": {},
   "source": [
    ".z.x simply captures the arguments without formatting them. We would need to provide the index to retrieve a specific parameter. Could there be a better way to do this?"
   ]
  },
  {
   "cell_type": "code",
   "execution_count": 6,
   "metadata": {},
   "outputs": [
    {
     "name": "stdout",
     "output_type": "stream",
     "text": [
      "\"\\\"The value of .z.x is -\\\"\"\n",
      "\"(\\\"-name\\\";\\\"Arsene\\\";\\\"-age\\\";\\\"56\\\";\\\"abc\\\";\\\"xyz\\\")\"\n",
      "\"\\\"hello Arsene\\\"\"\n",
      "\"\\\"Exiting the script\\\"\"\n"
     ]
    }
   ],
   "source": [
    "system[\"env QHOME=/opt/kx/q q qscript.q -name Arsene -age 56 abc xyz\"]"
   ]
  },
  {
   "cell_type": "markdown",
   "metadata": {},
   "source": [
    "## Formatting Command line parameters - `.Q.opt`"
   ]
  },
  {
   "cell_type": "markdown",
   "metadata": {},
   "source": [
    "[`.Q.opt`](https://code.kx.com/q/ref/dotq/#qopt-command-parameters) takes the list of command line arguments and builds a dictionary for us to easily access the command line parameters using key/value pairs which we can assign to a variable `d`:"
   ]
  },
  {
   "cell_type": "markdown",
   "metadata": {},
   "source": [
    "We can view the dictionary by adding `show d` to the code in the text file."
   ]
  },
  {
   "cell_type": "markdown",
   "metadata": {},
   "source": [
    "In `qscript.q`, let's replace the lines changed above with the following - \n",
    "\n",
    "    0N!(\"The value of .z.x is -\");\n",
    "    0N!.z.x;\n",
    "    d:.Q.opt .z.x;\n",
    "    0N!\"The value of .Q.opt .z.x is -\";\n",
    "    show d;\n",
    "    0N!\"hello \",first d[`name];\n",
    "    0N!\"Exiting the script\";\n",
    "    exit 0;"
   ]
  },
  {
   "cell_type": "code",
   "execution_count": 9,
   "metadata": {},
   "outputs": [
    {
     "name": "stdout",
     "output_type": "stream",
     "text": [
      "\"\\\"The value of .z.x is -\\\"\"\n",
      "\"(\\\"-name\\\";\\\"Arsene\\\")\"\n",
      "\"\\\"The value of .Q.opt .z.x is -\\\"\"\n",
      "\"name| \\\"Arsene\\\"\"\n",
      "\"\\\"hello Arsene\\\"\"\n",
      "\"\\\"Exiting the script\\\"\"\n"
     ]
    }
   ],
   "source": [
    "system[\"env QHOME=/opt/kx/q q qscript.q -name Arsene \"]"
   ]
  },
  {
   "cell_type": "markdown",
   "metadata": {},
   "source": [
    "Let's see what happens when we add more command-line arguments."
   ]
  },
  {
   "cell_type": "code",
   "execution_count": 10,
   "metadata": {},
   "outputs": [
    {
     "name": "stdout",
     "output_type": "stream",
     "text": [
      "\"\\\"The value of .z.x is -\\\"\"\n",
      "\"(\\\"-name\\\";\\\"Arsene\\\";\\\"-age\\\";\\\"56\\\")\"\n",
      "\"\\\"The value of .Q.opt .z.x is -\\\"\"\n",
      "\"name| \\\"Arsene\\\"\"\n",
      "\"age | \\\"56\\\"    \"\n",
      "\"\\\"hello Arsene\\\"\"\n",
      "\"\\\"Exiting the script\\\"\"\n"
     ]
    }
   ],
   "source": [
    "system[\"env QHOME=/opt/kx/q q qscript.q -name Arsene -age 56\"]"
   ]
  },
  {
   "cell_type": "markdown",
   "metadata": {},
   "source": [
    "**Exercise**\n"
   ]
  },
  {
   "cell_type": "markdown",
   "metadata": {},
   "source": [
    "Create a script which takes 4 numbers (20.7;12.8;40;11.5) as command-line arguments and returns the sum of the numbers."
   ]
  },
  {
   "cell_type": "code",
   "execution_count": 13,
   "metadata": {
    "reveal": "72w3mso023q",
    "reveal-hidden": true
   },
   "outputs": [
    {
     "name": "stdout",
     "output_type": "stream",
     "text": [
      "\"The value of .z.x is -\"\n",
      "()\n",
      "\"The value of .Q.opt .z.x is -\"\n",
      "The sum of the arguments is -\n"
     ]
    }
   ],
   "source": [
    "// Your Answer - Load the script here\n",
    "0N!(\"The value of .z.x is -\");\n",
    "0N!.z.x;\n",
    "d:.Q.opt .z.x;\n",
    "0N!\"The value of .Q.opt .z.x is -\";\n",
    "show d;\n",
    "d : {-9h$x} each d;\n",
    "-1 \"The sum of the arguments is -\";\n",
    "show sum value d;\n",
    "\n"
   ]
  },
  {
   "cell_type": "markdown",
   "metadata": {
    "reveal": "72w3mso023q"
   },
   "source": [
    "ex1.q\n",
    "\n",
    "    0N!(\"The value of .z.x is -\");\n",
    "    0N!.z.x;\n",
    "    d:.Q.opt .z.x;\n",
    "    0N!\"The value of .Q.opt .z.x is -\";\n",
    "    show d;\n",
    "    d : {-9h$x} each d;\n",
    "    -1 \"The sum of the arguments is -\";\n",
    "    show sum value d;\n"
   ]
  },
  {
   "cell_type": "code",
   "execution_count": 14,
   "metadata": {
    "reveal": "72w3mso023q",
    "scrolled": true
   },
   "outputs": [
    {
     "name": "stderr",
     "output_type": "stream",
     "text": [
      "'2025.02.25T04:27:39.549 ex1.q. OS reports: No such file or directory\n"
     ]
    },
    {
     "ename": "QError",
     "evalue": "os",
     "output_type": "error",
     "traceback": [
      "\u001b[0;31m---------------------------------------------------------------------------\u001b[0m",
      "\u001b[0;31mQError\u001b[0m                                    Traceback (most recent call last)",
      "Cell \u001b[0;32mIn[14], line 1\u001b[0m\n\u001b[0;32m----> 1\u001b[0m \u001b[43mget_ipython\u001b[49m\u001b[43m(\u001b[49m\u001b[43m)\u001b[49m\u001b[38;5;241;43m.\u001b[39;49m\u001b[43mrun_cell_magic\u001b[49m\u001b[43m(\u001b[49m\u001b[38;5;124;43m'\u001b[39;49m\u001b[38;5;124;43mq\u001b[39;49m\u001b[38;5;124;43m'\u001b[39;49m\u001b[43m,\u001b[49m\u001b[43m \u001b[49m\u001b[38;5;124;43m'\u001b[39;49m\u001b[38;5;124;43m'\u001b[39;49m\u001b[43m,\u001b[49m\u001b[43m \u001b[49m\u001b[38;5;124;43m'\u001b[39;49m\u001b[38;5;124;43msystem[\u001b[39;49m\u001b[38;5;124;43m\"\u001b[39;49m\u001b[38;5;124;43menv QHOME=/opt/kx/q q ex1.q -num1 20.7 -num2 12.8 -num3 40 -num4 11.5\u001b[39;49m\u001b[38;5;124;43m\"\u001b[39;49m\u001b[38;5;124;43m]\u001b[39;49m\u001b[38;5;130;43;01m\\n\u001b[39;49;00m\u001b[38;5;124;43m'\u001b[39;49m\u001b[43m)\u001b[49m\n",
      "File \u001b[0;32m/opt/conda/lib/python3.11/site-packages/IPython/core/interactiveshell.py:2541\u001b[0m, in \u001b[0;36mInteractiveShell.run_cell_magic\u001b[0;34m(self, magic_name, line, cell)\u001b[0m\n\u001b[1;32m   2539\u001b[0m \u001b[38;5;28;01mwith\u001b[39;00m \u001b[38;5;28mself\u001b[39m\u001b[38;5;241m.\u001b[39mbuiltin_trap:\n\u001b[1;32m   2540\u001b[0m     args \u001b[38;5;241m=\u001b[39m (magic_arg_s, cell)\n\u001b[0;32m-> 2541\u001b[0m     result \u001b[38;5;241m=\u001b[39m \u001b[43mfn\u001b[49m\u001b[43m(\u001b[49m\u001b[38;5;241;43m*\u001b[39;49m\u001b[43margs\u001b[49m\u001b[43m,\u001b[49m\u001b[43m \u001b[49m\u001b[38;5;241;43m*\u001b[39;49m\u001b[38;5;241;43m*\u001b[39;49m\u001b[43mkwargs\u001b[49m\u001b[43m)\u001b[49m\n\u001b[1;32m   2543\u001b[0m \u001b[38;5;66;03m# The code below prevents the output from being displayed\u001b[39;00m\n\u001b[1;32m   2544\u001b[0m \u001b[38;5;66;03m# when using magics with decorator @output_can_be_silenced\u001b[39;00m\n\u001b[1;32m   2545\u001b[0m \u001b[38;5;66;03m# when the last Python token in the expression is a ';'.\u001b[39;00m\n\u001b[1;32m   2546\u001b[0m \u001b[38;5;28;01mif\u001b[39;00m \u001b[38;5;28mgetattr\u001b[39m(fn, magic\u001b[38;5;241m.\u001b[39mMAGIC_OUTPUT_CAN_BE_SILENCED, \u001b[38;5;28;01mFalse\u001b[39;00m):\n",
      "File \u001b[0;32m/opt/conda/lib/python3.11/site-packages/pykx/nbextension.py:181\u001b[0m, in \u001b[0;36mq\u001b[0;34m(instructions, code)\u001b[0m\n\u001b[1;32m    179\u001b[0m     \u001b[38;5;28;01mif\u001b[39;00m save:\n\u001b[1;32m    180\u001b[0m         \u001b[38;5;28mprint\u001b[39m(\u001b[38;5;124mf\u001b[39m\u001b[38;5;124m\"\u001b[39m\u001b[38;5;124mCell contents not saved to \u001b[39m\u001b[38;5;124m'\u001b[39m\u001b[38;5;132;01m{\u001b[39;00mpath\u001b[38;5;132;01m}\u001b[39;00m\u001b[38;5;124m'\u001b[39m\u001b[38;5;124m due to error during execution/saving.\u001b[39m\u001b[38;5;124m\"\u001b[39m)\n\u001b[0;32m--> 181\u001b[0m     \u001b[38;5;28;01mraise\u001b[39;00m e\n\u001b[1;32m    182\u001b[0m \u001b[38;5;28;01mfinally\u001b[39;00m:\n\u001b[1;32m    183\u001b[0m     \u001b[38;5;28;01mif\u001b[39;00m \u001b[38;5;28missubclass\u001b[39m(\u001b[38;5;28mtype\u001b[39m(_q), kx\u001b[38;5;241m.\u001b[39mQConnection):\n",
      "File \u001b[0;32m/opt/conda/lib/python3.11/site-packages/pykx/nbextension.py:169\u001b[0m, in \u001b[0;36mq\u001b[0;34m(instructions, code)\u001b[0m\n\u001b[1;32m    167\u001b[0m     \u001b[38;5;28;01mif\u001b[39;00m debug \u001b[38;5;129;01mor\u001b[39;00m kx\u001b[38;5;241m.\u001b[39mconfig\u001b[38;5;241m.\u001b[39mpykx_qdebug:\n\u001b[1;32m    168\u001b[0m         \u001b[38;5;28mprint\u001b[39m(r[\u001b[38;5;124m'\u001b[39m\u001b[38;5;124mtrc\u001b[39m\u001b[38;5;124m'\u001b[39m])\n\u001b[0;32m--> 169\u001b[0m     \u001b[38;5;28;01mraise\u001b[39;00m kx\u001b[38;5;241m.\u001b[39mQError(r[\u001b[38;5;124m'\u001b[39m\u001b[38;5;124mres\u001b[39m\u001b[38;5;124m'\u001b[39m]\u001b[38;5;241m.\u001b[39mpy()\u001b[38;5;241m.\u001b[39mdecode())\n\u001b[1;32m    170\u001b[0m \u001b[38;5;28;01melse\u001b[39;00m:\n\u001b[1;32m    171\u001b[0m     display(r[\u001b[38;5;124m'\u001b[39m\u001b[38;5;124mres\u001b[39m\u001b[38;5;124m'\u001b[39m]) \u001b[38;5;28;01mif\u001b[39;00m displayRet \u001b[38;5;28;01melse\u001b[39;00m \u001b[38;5;28mprint\u001b[39m(r[\u001b[38;5;124m'\u001b[39m\u001b[38;5;124mres\u001b[39m\u001b[38;5;124m'\u001b[39m])\n",
      "\u001b[0;31mQError\u001b[0m: os"
     ]
    }
   ],
   "source": [
    "system[\"env QHOME=/opt/kx/q q ex1.q -num1 20.7 -num2 12.8 -num3 40 -num4 11.5\"]"
   ]
  },
  {
   "cell_type": "markdown",
   "metadata": {},
   "source": [
    "# Adding logging to scripts"
   ]
  },
  {
   "cell_type": "markdown",
   "metadata": {},
   "source": [
    "It is generally good practice to log as much detail as possible in scripts for reference and debugging.\n",
    "\n",
    "A function to log normal messages to stdout (-1) and error message to stderr (-2) should be defined. See [File Handles](https://code.kx.com/v2/basics/files/?_ga=2.142078130.1692917060.1595324408-240122142.1591882105) for more info."
   ]
  },
  {
   "cell_type": "code",
   "execution_count": 15,
   "metadata": {},
   "outputs": [
    {
     "name": "stdout",
     "output_type": "stream",
     "text": [
      "-1\n",
      "2025.02.25D05:03:35.783829380 ### INFO ### Hello Nicolas\n"
     ]
    }
   ],
   "source": [
    "out:{-1 string[.z.p],\" ### INFO ### \",x};\n",
    "err:{-2 string[.z.p],\" ### ERROR ### \",x};\n",
    "\n",
    "\n",
    "sayhello:{out[\"Hello \",x]};\n",
    "\n",
    "sayhello[\"Nicolas\"]"
   ]
  },
  {
   "cell_type": "markdown",
   "metadata": {},
   "source": [
    "This will return an error. We'll have to restart the notebook kernel after running this."
   ]
  },
  {
   "cell_type": "code",
   "execution_count": 16,
   "metadata": {},
   "outputs": [
    {
     "name": "stdout",
     "output_type": "stream",
     "text": [
      "2025.02.25D05:04:01.239217703 ### INFO ### Hello Martin\n"
     ]
    }
   ],
   "source": [
    "@[sayhello;\"Martin\";{err \"Error running main: \",x;exit 1}]; "
   ]
  },
  {
   "cell_type": "markdown",
   "metadata": {},
   "source": [
    "Another example of logging. The qlogexample.q file is used for the below example. The content of qlogexample.q is as follows - \n",
    "\n",
    "\n",
    "    out:{-1 string[.z.p],\" ### INFO ### \",x};\n",
    "    err:{-2 string[.z.p],\" ### ERROR ### \",x};\n",
    "\n",
    "    sayhello:{out[\"Hello \",x]};\n",
    "    sayhello[\"Nicolas\"];\n",
    "\n",
    "    d:.Q.opt .z.x;\n",
    "    if[0=count d; out[\"No parameter provided\"]];\n",
    "\n",
    "    0N!\"hello \",first d[\\`name];\n",
    "    exit 0;\n"
   ]
  },
  {
   "cell_type": "markdown",
   "metadata": {},
   "source": [
    "We can redirect the output to a logging file using the below command"
   ]
  },
  {
   "cell_type": "code",
   "execution_count": 17,
   "metadata": {},
   "outputs": [
    {
     "name": "stdout",
     "output_type": "stream",
     "text": [
      "()\n"
     ]
    }
   ],
   "source": [
    "\\nohup env QHOME=/opt/kx/q q qlogexample.q >>myLog.txt 2>&1 &"
   ]
  },
  {
   "cell_type": "markdown",
   "metadata": {},
   "source": [
    "A file named myLog.txt is created in the default directory. The logs are stored in that file.\n"
   ]
  },
  {
   "cell_type": "code",
   "execution_count": 20,
   "metadata": {},
   "outputs": [
    {
     "name": "stdout",
     "output_type": "stream",
     "text": [
      "\"2025.02.25D05:09:48.846782411 ### INFO ### Hello Nicolas\"\n",
      "\"2025.02.25D05:09:48.846855792 ### INFO ### No parameter provided\"\n",
      "\"\\\"hello \\\"\"\n"
     ]
    }
   ],
   "source": [
    "system[\"env QHOME=/opt/kx/q q qlogexample.q\"] //Without providing parameters"
   ]
  },
  {
   "cell_type": "code",
   "execution_count": 21,
   "metadata": {},
   "outputs": [
    {
     "name": "stdout",
     "output_type": "stream",
     "text": [
      "\"2025.02.25D05:09:56.053811552 ### INFO ### Hello Nicolas\"\n",
      "\"\\\"hello Pierre\\\"\"\n"
     ]
    }
   ],
   "source": [
    "system[\"env QHOME=/opt/kx/q q qlogexample.q -name Pierre\"] // providing the name parameter"
   ]
  },
  {
   "cell_type": "code",
   "execution_count": 22,
   "metadata": {},
   "outputs": [
    {
     "name": "stdout",
     "output_type": "stream",
     "text": [
      "\"2025.02.25D05:10:02.014170332 ### INFO ### Hello Nicolas\"\n",
      "\"2025.02.25D05:10:02.014288292 ### INFO ### No parameter provided\"\n",
      "\"\\\"hello \\\"\"\n"
     ]
    }
   ],
   "source": [
    "system[\"env QHOME=/opt/kx/q q qlogexample.q > log1.txt\"] //This will redirect the output to a file log1.txt"
   ]
  },
  {
   "cell_type": "markdown",
   "metadata": {},
   "source": [
    "Consider the following script (qlogexample2.q) -\n",
    "\n",
    "<code>\n",
    "    out:{-1 string[.z.p],\" ### INFO ### \",x};\n",
    "    err:{-2 string[.z.p],\" ### ERROR ### \",x};\n",
    "    printProduct : {out[\"The product is = \",string x*y]};\n",
    "    d:.Q.opt .z.x;\n",
    "    0N!d;\n",
    "    a:\"J\"$first first d[`num1];\n",
    "    b:\"J\"$first first d[`num2];\n",
    "    if[0=count d; err[\"No parameter provided\"]];\n",
    "    $[(0N=\"J\"$first first d[`num1]) or (0N=\"J\"$first first d[`num2]); err[\"Type Mismatch : Please provide a long integer value\"]; printProduct[a;b]] ;\n",
    "    exit 0;\n",
    "</code>"
   ]
  },
  {
   "cell_type": "markdown",
   "metadata": {},
   "source": [
    "This will multiply two integers. However, it will return an error if the parameters provided are not numbers."
   ]
  },
  {
   "cell_type": "code",
   "execution_count": 23,
   "metadata": {},
   "outputs": [
    {
     "name": "stdout",
     "output_type": "stream",
     "text": [
      "()\n"
     ]
    }
   ],
   "source": [
    "system[\"nohup env QHOME=/opt/kx/q veq qlogexample2.q -num1 3 -num2 4 >myLog2.txt 2>&1 &\"]"
   ]
  },
  {
   "cell_type": "markdown",
   "metadata": {},
   "source": [
    "Check the contents of myLog2.txt after execution. Now let's deliberately put a random text in num2.\n"
   ]
  },
  {
   "cell_type": "code",
   "execution_count": 24,
   "metadata": {},
   "outputs": [
    {
     "name": "stdout",
     "output_type": "stream",
     "text": [
      "()\n"
     ]
    }
   ],
   "source": [
    "system[\"nohup env QHOME=/opt/kx/q q qlogexample2.q -num1 3 -num2 abc >myLog2.txt 2>&1 &\"]"
   ]
  },
  {
   "cell_type": "markdown",
   "metadata": {},
   "source": [
    "Check the contents of myLog2.txt after execution. There should be an error message printed using stderr."
   ]
  },
  {
   "cell_type": "markdown",
   "metadata": {},
   "source": [
    "Now, lets see how we can use protected evaluation in a script to catch errors.\n",
    "Consider the following script to print the `til` list for an integer.\n",
    "qlogexample3.q\n",
    "\n",
    "<code>\n",
    "    out:{-1 string[.z.p],\" ### INFO ### \",x};\n",
    "    err:{-2 string[.z.p],\" ### ERROR ### \",x};\n",
    "    printList : {0N!til x};\n",
    "    d:.Q.opt .z.x;\n",
    "    0N!d;\n",
    "    a:\"J\"$first first d[`num1];\n",
    "    b:\"J\"$first first d[`num2];\n",
    "    if[0=count d; err[\"No parameter provided\"]];\n",
    "    0N!a;\n",
    "    0N!b;\n",
    "    @[printList;a;{err \"Error running main: \",x;exit 1}];\n",
    "    @[printList;b;{err \"Error running main: \",x;exit 1}];\n",
    "    exit 0;\n",
    "</code>"
   ]
  },
  {
   "cell_type": "code",
   "execution_count": 25,
   "metadata": {},
   "outputs": [
    {
     "name": "stdout",
     "output_type": "stream",
     "text": [
      "()\n"
     ]
    }
   ],
   "source": [
    "system[\"nohup env QHOME=/opt/kx/q q qlogexample3.q -num1 3 -num2 abc >myLog3.txt 2>&1 &\"]"
   ]
  },
  {
   "cell_type": "markdown",
   "metadata": {},
   "source": [
    "When we open myLog3.txt, we find that the first list was printed correctly whereas the second execution resulted in an error which was caught using [`@`](https://code.kx.com/q4m3/10_Execution_Control/#1018-protected-evaluation)."
   ]
  },
  {
   "cell_type": "markdown",
   "metadata": {},
   "source": [
    "**Exercise**"
   ]
  },
  {
   "cell_type": "markdown",
   "metadata": {},
   "source": [
    "Write a script(ex2.q) which has functions for printing logs to stderr and stdout, and uses protected evaluation to multiply two lists. Create these 3 lists in the script -\n",
    "\n",
    "    x: 14 16 17 74 4 \n",
    "    y: 0 1 1 0 4\n",
    "    z: 2 -1 2 1\n",
    "    \n",
    "Now, call the function with x;y and y;z as parameters and redirect the output to a log file."
   ]
  },
  {
   "cell_type": "code",
   "execution_count": null,
   "metadata": {
    "reveal": "vsz8622tw3i",
    "reveal-hidden": false
   },
   "outputs": [],
   "source": [
    "\n",
    "out:{-1 string[.z.p],\" ### INFO ### \",x};\n",
    "err:{-2 string[.z.p],\" ### ERROR ### \",x};\n",
    "func : {[a;b] \n",
    " .[*;(a;b);{err \"Error running main: \",x;exit 1}];\n",
    "  out \"the answer is = \", \" \" sv string *[a;b];\n",
    " }\n",
    "x: 14 16 17 74 4;\n",
    "y: 0 1 1 0 4;\n",
    "z: 2 -1 2 1;\n",
    "func[x;y];\n",
    "func[y;z];\n",
    "exit 0;"
   ]
  },
  {
   "cell_type": "code",
   "execution_count": null,
   "metadata": {
    "reveal": "vsz8622tw3i"
   },
   "outputs": [],
   "source": [
    "system[\"nohup env QHOME=/opt/kx/q q ex2.q >logex2.txt 2>&1 &\"]"
   ]
  },
  {
   "cell_type": "markdown",
   "metadata": {
    "reveal": "vsz8622tw3i"
   },
   "source": [
    "e2.q\n",
    "\n",
    "    out:{-1 string[.z.p],\" ### INFO ### \",x};\n",
    "    err:{-2 string[.z.p],\" ### ERROR ### \",x};\n",
    "    func : {[a;b] \n",
    "     .[*;(a;b);{err \"Error running main: \",x;exit 1}];\n",
    "      out \"the answer is = \", \" \" sv string *[a;b];\n",
    "     }\n",
    "    x: 14 16 17 74 4;\n",
    "    y: 0 1 1 0 4;\n",
    "    z: 2 -1 2 1;\n",
    "    func[x;y];\n",
    "    func[y;z];\n",
    "    exit 0;"
   ]
  }
 ],
 "metadata": {
  "kernelspec": {
   "display_name": "Python 3 (ipykernel)",
   "language": "python",
   "name": "python3"
  },
  "language_info": {
   "codemirror_mode": {
    "name": "ipython",
    "version": 3
   },
   "file_extension": ".py",
   "mimetype": "text/x-python",
   "name": "python",
   "nbconvert_exporter": "python",
   "pygments_lexer": "ipython3",
   "version": "3.11.10"
  },
  "toc": {
   "base_numbering": 1,
   "nav_menu": {},
   "number_sections": true,
   "sideBar": true,
   "skip_h1_title": false,
   "title_cell": "Table of Contents",
   "title_sidebar": "Contents",
   "toc_cell": false,
   "toc_position": {
    "height": "calc(100% - 180px)",
    "left": "10px",
    "top": "150px",
    "width": "259.2px"
   },
   "toc_section_display": true,
   "toc_window_display": true
  }
 },
 "nbformat": 4,
 "nbformat_minor": 4
}
