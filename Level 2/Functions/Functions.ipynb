{
 "cells": [
  {
   "cell_type": "code",
   "execution_count": 1,
   "metadata": {
    "autorun": true,
    "editable": false,
    "jupyter": {
     "source_hidden": true
    },
    "tags": [
     "remove-cell"
    ]
   },
   "outputs": [],
   "source": [
    "#;.pykx.disableJupyter()"
   ]
  },
  {
   "cell_type": "code",
   "execution_count": 2,
   "metadata": {
    "autorun": true,
    "editable": false,
    "jupyter": {
     "source_hidden": true
    },
    "tags": [
     "remove-cell"
    ]
   },
   "outputs": [
    {
     "name": "stdout",
     "output_type": "stream",
     "text": [
      "PyKX now running in 'jupyter_qfirst' mode. All cells by default will be run as q code. \n",
      "Include '%%py' at the beginning of each cell to run as python code. \n"
     ]
    }
   ],
   "source": [
    "# https://code.kx.com/pykx/3.0/examples/jupyter-integration.html#q-first-mode\n",
    "import pykx as kx\n",
    "kx.util.jupyter_qfirst_enable()"
   ]
  },
  {
   "cell_type": "markdown",
   "metadata": {},
   "source": [
    "**Learning Outcomes**\n",
    "\n",
    "To understand: \n",
    "* What are functions?\n",
    "* Function valence\n",
    "* Defining and applying Functions\n",
    "* Explicit and Implicit parameters\n",
    "* Function Scope \n",
    "* How to create a projection\n",
    "* Applying projections\n"
   ]
  },
  {
   "cell_type": "markdown",
   "metadata": {},
   "source": [
    "# Introduction\n",
    "\n",
    "Functions are key components for manipulating data in kdb+, they transform an input through a sequence of expressions which are evaluated and usually (but it's not required) the final output of these expressions is returned as the function output.  "
   ]
  },
  {
   "cell_type": "markdown",
   "metadata": {
    "jp-MarkdownHeadingCollapsed": true
   },
   "source": [
    "# What are functions?\n"
   ]
  },
  {
   "cell_type": "markdown",
   "metadata": {},
   "source": [
    "Intrinsically functions are described by the following: \n",
    "* Their input parameters (this can be none) - known as the function valence, kdb+/q functions can have up to 8 parameters\n",
    "* The function logic - the code you write to make the function do what you want\n",
    "* The function return (this can also be nothing) - what output is returned by the function"
   ]
  },
  {
   "cell_type": "markdown",
   "metadata": {
    "heading_collapsed": true
   },
   "source": [
    "## Function Valence \n",
    "The function valence means the number of arguments, or input parameters a function needs to run. If you provide a lesser number of parameters than is required to a function you create a projection, if you provide more, you will get a `'rank`  error. \n",
    "\n",
    "To see what happens in these cases we can look at the in-built primitive `+` which takes two inputs: "
   ]
  },
  {
   "cell_type": "code",
   "execution_count": 7,
   "metadata": {
    "hidden": true
   },
   "outputs": [
    {
     "name": "stdout",
     "output_type": "stream",
     "text": [
      "7\n"
     ]
    }
   ],
   "source": [
    "+[3;4]     //providing two parameters as expected"
   ]
  },
  {
   "cell_type": "code",
   "execution_count": 10,
   "metadata": {
    "hidden": true
   },
   "outputs": [
    {
     "name": "stdout",
     "output_type": "stream",
     "text": [
      "7\n"
     ]
    }
   ],
   "source": [
    "a:+[3;]      //providing just one parameter\n",
    "a 4"
   ]
  },
  {
   "cell_type": "code",
   "execution_count": 11,
   "metadata": {
    "hidden": true
   },
   "outputs": [
    {
     "name": "stdout",
     "output_type": "stream",
     "text": [
      "5\n"
     ]
    }
   ],
   "source": [
    "+[4;1]   //providing three parameters"
   ]
  },
  {
   "cell_type": "markdown",
   "metadata": {
    "hidden": true
   },
   "source": [
    "Binary operations (taking two parameters or inputs) in mathematics are called dyadic functions in q, and unary (taking one parameter or input) operations are called monadic functions. \n",
    "\n",
    "\n",
    "The minimum and maximum number of parameters to a function are zero and eight respectively. "
   ]
  },
  {
   "cell_type": "code",
   "execution_count": 12,
   "metadata": {
    "hidden": true
   },
   "outputs": [
    {
     "name": "stdout",
     "output_type": "stream",
     "text": [
      "-1 -2 -3\n"
     ]
    }
   ],
   "source": [
    "neg 1 2 3   //example of a monadic function "
   ]
  },
  {
   "cell_type": "code",
   "execution_count": 13,
   "metadata": {
    "hidden": true
   },
   "outputs": [
    {
     "name": "stdout",
     "output_type": "stream",
     "text": [
      "0\n"
     ]
    }
   ],
   "source": [
    ".Q.gc[]  //no input passed!- Niladic function"
   ]
  },
  {
   "cell_type": "markdown",
   "metadata": {
    "hidden": true,
    "reveal": "02kmmupz0mcv",
    "reveal-hidden": true
   },
   "source": [
    "What would you expect if you called `neg` like `neg[1;2;3]`? How is that different from `neg[1 2 3]` or `neg 1 2 3`?"
   ]
  },
  {
   "cell_type": "code",
   "execution_count": null,
   "metadata": {
    "hidden": true,
    "reveal": "02kmmupz0mcv"
   },
   "outputs": [],
   "source": [
    "neg[1 2 3] //this would apply the neg operator on the vector\n",
    "neg 1 2 3 //this would also apply the neg operator on the vector - different syntax\n",
    "neg[1;2;3] //this would give a rank error as the semi colon delimits function parameters - passing 3 input parameters"
   ]
  },
  {
   "cell_type": "markdown",
   "metadata": {
    "hidden": true,
    "reveal": "v7wppp3aytm",
    "reveal-hidden": true
   },
   "source": [
    "##### Exercise\n",
    "\n",
    "How many arguments does the operator [`mod`](https://code.kx.com/q/ref/mod/) have? "
   ]
  },
  {
   "cell_type": "code",
   "execution_count": null,
   "metadata": {
    "hidden": true,
    "reveal": "v7wppp3aytm"
   },
   "outputs": [],
   "source": [
    "mod[10 15 20;10] // The correct answer is 2. "
   ]
  },
  {
   "cell_type": "code",
   "execution_count": null,
   "metadata": {
    "hidden": true
   },
   "outputs": [],
   "source": [
    "//write your answer here"
   ]
  },
  {
   "cell_type": "markdown",
   "metadata": {
    "jp-MarkdownHeadingCollapsed": true
   },
   "source": [
    "## Defining a function\n",
    "\n",
    "The syntax of function definition is a matching pair of curly braces `{` and `}` - the smallest possible function we can define is actually the following: "
   ]
  },
  {
   "cell_type": "code",
   "execution_count": 3,
   "metadata": {},
   "outputs": [],
   "source": [
    "f:{}          //minimal function definition"
   ]
  },
  {
   "cell_type": "code",
   "execution_count": 4,
   "metadata": {},
   "outputs": [
    {
     "name": "stdout",
     "output_type": "stream",
     "text": [
      "100h\n"
     ]
    }
   ],
   "source": [
    "type f        "
   ]
  },
  {
   "cell_type": "code",
   "execution_count": 5,
   "metadata": {},
   "outputs": [],
   "source": [
    "f[]           //calling our function which takes no input"
   ]
  },
  {
   "cell_type": "code",
   "execution_count": null,
   "metadata": {},
   "outputs": [],
   "source": [
    "count f[]     "
   ]
  },
  {
   "cell_type": "code",
   "execution_count": 6,
   "metadata": {},
   "outputs": [
    {
     "name": "stdout",
     "output_type": "stream",
     "text": [
      "1b\n"
     ]
    }
   ],
   "source": [
    "(::)~f[]      //nothing returned"
   ]
  },
  {
   "cell_type": "code",
   "execution_count": 7,
   "metadata": {},
   "outputs": [
    {
     "name": "stdout",
     "output_type": "stream",
     "text": [
      "1b\n"
     ]
    }
   ],
   "source": [
    "{}[]~f[]      //we don't have to assign the function to a variable to use it"
   ]
  },
  {
   "cell_type": "markdown",
   "metadata": {
    "heading_collapsed": true,
    "jp-MarkdownHeadingCollapsed": true
   },
   "source": [
    "### Function parameters \n",
    "We can specify parameters by using `[]` to enclose the list of our parameter values - the parameter names are then used throughout the rest of the function logic to reference the value passed for that input reference. "
   ]
  },
  {
   "cell_type": "code",
   "execution_count": 8,
   "metadata": {
    "hidden": true
   },
   "outputs": [
    {
     "name": "stdout",
     "output_type": "stream",
     "text": [
      "1\n"
     ]
    }
   ],
   "source": [
    "f:{[parameter] parameter}                                 //function with one input\n",
    "f[1]"
   ]
  },
  {
   "cell_type": "code",
   "execution_count": 9,
   "metadata": {
    "hidden": true
   },
   "outputs": [
    {
     "name": "stdout",
     "output_type": "stream",
     "text": [
      "{[numerator;denominator] numerator%denominator}[1]\n"
     ]
    }
   ],
   "source": [
    "divide:{[numerator;denominator] numerator%denominator}    //function with two inputs\n",
    "divide[1]"
   ]
  },
  {
   "cell_type": "code",
   "execution_count": 15,
   "metadata": {
    "hidden": true
   },
   "outputs": [
    {
     "name": "stdout",
     "output_type": "stream",
     "text": [
      "1b\n",
      "0.5\n"
     ]
    }
   ],
   "source": [
    "divide[1;2]~divide[1] 2  //function arguments are assigned in order of passing\n",
    "divide[1; 2]"
   ]
  },
  {
   "cell_type": "markdown",
   "metadata": {
    "hidden": true,
    "reveal": "40wproiknpd",
    "reveal-hidden": true
   },
   "source": [
    "##### Exercise \n",
    "\n",
    "Define a function `range` that takes one parameter input `l` (a list) and doesn't do anything. \n",
    "\n",
    "What happens if you call this with one input e.g. `range[1]`? What about two inputs e.g. `range[1;2]`?"
   ]
  },
  {
   "cell_type": "code",
   "execution_count": null,
   "metadata": {
    "hidden": true,
    "reveal": "40wproiknpd"
   },
   "outputs": [],
   "source": [
    "range:{[l] }"
   ]
  },
  {
   "cell_type": "code",
   "execution_count": null,
   "metadata": {
    "hidden": true,
    "reveal": "40wproiknpd"
   },
   "outputs": [],
   "source": [
    "range 1  //the function doesn't return anything but it runs"
   ]
  },
  {
   "cell_type": "code",
   "execution_count": null,
   "metadata": {
    "hidden": true,
    "reveal": "40wproiknpd"
   },
   "outputs": [],
   "source": [
    "range[1;2]  //too many parameters - rank error "
   ]
  },
  {
   "cell_type": "code",
   "execution_count": 16,
   "metadata": {
    "hidden": true
   },
   "outputs": [
    {
     "name": "stdout",
     "output_type": "stream",
     "text": [
      "1 2 3 4\n"
     ]
    }
   ],
   "source": [
    "//write your function here\n",
    "range:{[x]x}\n",
    "range [1 2 3 4] "
   ]
  },
  {
   "cell_type": "markdown",
   "metadata": {
    "heading_collapsed": true,
    "jp-MarkdownHeadingCollapsed": true
   },
   "source": [
    "### Function Logic \n",
    "\n",
    "The code we choose to include within our function is referred to as the function logic and is comprised of a series of q expressions. "
   ]
  },
  {
   "cell_type": "markdown",
   "metadata": {
    "hidden": true
   },
   "source": [
    "We can chain together our statements for code clarity and to allow us to work through multiple lines of expressions where needed:"
   ]
  },
  {
   "cell_type": "code",
   "execution_count": 17,
   "metadata": {
    "hidden": true
   },
   "outputs": [
    {
     "name": "stdout",
     "output_type": "stream",
     "text": [
      "21.11111\n"
     ]
    }
   ],
   "source": [
    "convertToCelcius:{[farenheit] offset:farenheit-32;   //defining the initial offset value\n",
    "                            offset*5%9               //multiplying by the appropriate ratio after offsetting\n",
    "                    }\n",
    "convertToCelcius[70]  //translating the temperature from farenheit to celcius"
   ]
  },
  {
   "cell_type": "markdown",
   "metadata": {
    "hidden": true,
    "reveal": "k3yd32vfq1",
    "reveal-hidden": true
   },
   "source": [
    "##### Exercise \n",
    "\n",
    "Define a function `range` that will calculate the range of numbers in a list. This function should have one parameter `l`, the list being passed. \n",
    "\n",
    "Calling `range` with an input -10 20 30 40 50  should return 60. "
   ]
  },
  {
   "cell_type": "code",
   "execution_count": null,
   "metadata": {
    "hidden": true,
    "reveal": "k3yd32vfq1"
   },
   "outputs": [],
   "source": [
    "range:{[l] max[l]- min l}\n",
    "range -10 20 30 40 50"
   ]
  },
  {
   "cell_type": "code",
   "execution_count": 18,
   "metadata": {
    "hidden": true
   },
   "outputs": [
    {
     "name": "stdout",
     "output_type": "stream",
     "text": [
      "60\n"
     ]
    }
   ],
   "source": [
    "//write your function here\n",
    "range:{[l]max l - min l}\n",
    "range [-10 20 30 40 50]"
   ]
  },
  {
   "cell_type": "markdown",
   "metadata": {
    "jp-MarkdownHeadingCollapsed": true
   },
   "source": [
    "### Returning from a Function \n",
    "\n",
    "We can see the functions `divide` and `convertToCelcius` above returned values - this is because the last q expression in each function definition wasn't suppressed by a semicolon."
   ]
  },
  {
   "cell_type": "code",
   "execution_count": 19,
   "metadata": {},
   "outputs": [],
   "source": [
    "convertToCelcius:{[farenheit] offset:farenheit-32;   \n",
    "                            offset*5%9;             //adding a semicolon after the statement\n",
    "                    }                               //no other expressions to evaluate\n",
    "convertToCelcius[70]    "
   ]
  },
  {
   "cell_type": "markdown",
   "metadata": {},
   "source": [
    "We can force an early return from a function by using `:` to indicate what we want to return. We can see this more clearly if we add a print statement to our function:"
   ]
  },
  {
   "cell_type": "code",
   "execution_count": 20,
   "metadata": {},
   "outputs": [
    {
     "name": "stdout",
     "output_type": "stream",
     "text": [
      "Finished offset, starting ratio conversion\n"
     ]
    }
   ],
   "source": [
    "//Example 1 - output suppressed\n",
    "convertToCelcius:{[farenheit] offset:farenheit-32;   \n",
    "                            -1 \"Finished offset, starting ratio conversion\"; //printing to stdout to log\n",
    "                            offset*5%9;             //no return\n",
    "                    }                               \n",
    "convertToCelcius[70]   //no return, but still prints"
   ]
  },
  {
   "cell_type": "code",
   "execution_count": 21,
   "metadata": {},
   "outputs": [
    {
     "name": "stdout",
     "output_type": "stream",
     "text": [
      "21.11111\n",
      "Finished offset, starting ratio conversion\n"
     ]
    }
   ],
   "source": [
    "//Example 2 - force return\n",
    "convertToCelcius:{[farenheit] offset:farenheit-32;   \n",
    "                            -1 \"Finished offset, starting ratio conversion\";\n",
    "                            :offset*5%9;            //using : to force return   \n",
    "                    }                               \n",
    "convertToCelcius[70]   //returns the ouput and prints"
   ]
  },
  {
   "cell_type": "code",
   "execution_count": 22,
   "metadata": {},
   "outputs": [
    {
     "name": "stdout",
     "output_type": "stream",
     "text": [
      "38\n"
     ]
    }
   ],
   "source": [
    "//Example 3  - force return before print\n",
    "convertToCelcius:{[farenheit] :offset:farenheit-32; //using : to force return   \n",
    "                            -1 \"Finished offset, starting ratio conversion\";\n",
    "                            offset*5%9;              \n",
    "                    }                               \n",
    "convertToCelcius[70]   //returns just offset value before print"
   ]
  },
  {
   "cell_type": "code",
   "execution_count": 23,
   "metadata": {},
   "outputs": [
    {
     "name": "stdout",
     "output_type": "stream",
     "text": [
      "21.11111\n",
      "Finished offset, starting ratio conversion\n"
     ]
    }
   ],
   "source": [
    "//Example 4 - return without suppression \n",
    "convertToCelcius:{[farenheit] offset:farenheit-32; \n",
    "                            -1 \"Finished offset, starting ratio conversion\";\n",
    "                            offset*5%9           //no force return, just returning the last expression     \n",
    "                    }                               \n",
    "convertToCelcius[70]   "
   ]
  },
  {
   "cell_type": "markdown",
   "metadata": {},
   "source": [
    "If we look again at our `divide` function, we can use force return to return a default value if we pass a divisor of zero:"
   ]
  },
  {
   "cell_type": "code",
   "execution_count": 25,
   "metadata": {},
   "outputs": [
    {
     "name": "stdout",
     "output_type": "stream",
     "text": [
      "5f\n",
      "0\n"
     ]
    }
   ],
   "source": [
    "cappedDivide:{[numerator;denominator] \n",
    "                    if[denominator=0; :0];  //if[1b; do these things], if[0b;they don't get done]\n",
    "                    v:numerator%denominator} \n",
    "cappedDivide[100;20]\n",
    "cappedDivide[100;0]"
   ]
  },
  {
   "cell_type": "markdown",
   "metadata": {},
   "source": [
    "We could have avoided all of that hassle of force returning etc just by using the `min` function -  there are usually many ways to achieve the same thing!  "
   ]
  },
  {
   "cell_type": "code",
   "execution_count": 26,
   "metadata": {},
   "outputs": [
    {
     "name": "stdout",
     "output_type": "stream",
     "text": [
      "20f\n",
      "5f\n",
      "20f\n"
     ]
    }
   ],
   "source": [
    "cappedDivide:{[numerator;denominator] \n",
    "                   min(20f;numerator%denominator)} \n",
    "cappedDivide[100;3]\n",
    "cappedDivide[100;20]\n",
    "cappedDivide[100;0]"
   ]
  },
  {
   "cell_type": "markdown",
   "metadata": {
    "reveal": "9pnwojbmieq",
    "reveal-hidden": true
   },
   "source": [
    "##### Exercise\n",
    "\n",
    "Redefine the `range` function to return the result using the force return.  "
   ]
  },
  {
   "cell_type": "code",
   "execution_count": null,
   "metadata": {
    "reveal": "9pnwojbmieq"
   },
   "outputs": [],
   "source": [
    "range:{[l] r:max[l]-min l; //assigning the result to a variable\n",
    "    :r; //using the force return\n",
    " }\n",
    "l:10?100  //defining a random list \n",
    "range[l]  //finding the range"
   ]
  },
  {
   "cell_type": "code",
   "execution_count": 27,
   "metadata": {},
   "outputs": [
    {
     "name": "stdout",
     "output_type": "stream",
     "text": [
      "89\n"
     ]
    }
   ],
   "source": [
    "//write your function here\n",
    "range:{[l]:max l - min l;}\n",
    "range [1 23 45 89 0]"
   ]
  },
  {
   "cell_type": "markdown",
   "metadata": {
    "heading_collapsed": true
   },
   "source": [
    "### Applying a function\n",
    "\n",
    "When we apply a function, it causes the expressions in the function body to be evaluated in sequence, substituting the value of each argument for the corresponding input parameters. To pass parameters to a function we can use the functional syntax we've used before: "
   ]
  },
  {
   "cell_type": "code",
   "execution_count": 28,
   "metadata": {
    "hidden": true
   },
   "outputs": [
    {
     "name": "stdout",
     "output_type": "stream",
     "text": [
      "9\n",
      "16\n"
     ]
    }
   ],
   "source": [
    "{[a]a*a}[3]\n",
    "\n",
    "square:{[a]a*a}\n",
    "square[4]"
   ]
  },
  {
   "cell_type": "markdown",
   "metadata": {
    "hidden": true
   },
   "source": [
    "One way in which user defined functions differ from native functions in kdb+/q is that we can't make use of the 'infix' notation that kdb+/q does - e.g. for a primitive with two inputs like `%` we can write this in a few ways:  "
   ]
  },
  {
   "cell_type": "code",
   "execution_count": 30,
   "metadata": {
    "hidden": true
   },
   "outputs": [
    {
     "name": "stdout",
     "output_type": "stream",
     "text": [
      "0.6\n",
      "0.6\n",
      "0.6\n",
      "0.6\n",
      "0.6\n"
     ]
    }
   ],
   "source": [
    "3 % 5       //infix notation \n",
    "%[3;5]      //functional notation\n",
    "%[;5] 3     //eliding the first argument to pass the second \n",
    "%[3][5]     //projecting over the first argument and then calling with the second explicity \n",
    "%[3] 5      //projecting over the first argument and then applying implicity to the RHS value of 5"
   ]
  },
  {
   "cell_type": "markdown",
   "metadata": {
    "hidden": true
   },
   "source": [
    "But for our user defined functions we can only make use of the functional way of calling:"
   ]
  },
  {
   "cell_type": "code",
   "execution_count": 31,
   "metadata": {
    "hidden": true
   },
   "outputs": [
    {
     "name": "stdout",
     "output_type": "stream",
     "text": [
      "0.6\n",
      "0.6\n",
      "0.6\n",
      "0.6\n",
      "0.6\n"
     ]
    }
   ],
   "source": [
    "divide:{[numerator;denominator] numerator%denominator} \n",
    "\n",
    "divide[3;5]    //functionally calling\n",
    "divide[3][5]\n",
    "divide[3] 5 \n",
    "divide[;5] 3\n",
    "divide[;5][3]\n",
    "//3 divide 5     //infix calling throws an error"
   ]
  },
  {
   "cell_type": "markdown",
   "metadata": {
    "hidden": true
   },
   "source": [
    "<img src=\"../qbies.png\" width=\"50px\" style=\"width: 50px;padding-right:5px;padding-top:10px;padding-left:5px;\" align=\"left\"/>\n",
    "\n",
    "<p style='color:#273a6e'><i> Remember the number of input parameter(s) in the application of a function must match the definition. An application with too many arguments generates a `rank error. An application with too little arguments turns the function into a projection</i></p>"
   ]
  },
  {
   "cell_type": "markdown",
   "metadata": {
    "hidden": true,
    "reveal": "jgy7ndjaj79",
    "reveal-hidden": true
   },
   "source": [
    "##### Exercise\n",
    "\n",
    "Create a function with three parameters `x`,`y` and `z`. The function logic should return `x` plus `y` multiplied by `z`"
   ]
  },
  {
   "cell_type": "code",
   "execution_count": null,
   "metadata": {
    "hidden": true,
    "reveal": "jgy7ndjaj79"
   },
   "outputs": [],
   "source": [
    "func1:{[x;y;z] (x+y)*z}"
   ]
  },
  {
   "cell_type": "code",
   "execution_count": 33,
   "metadata": {
    "hidden": true
   },
   "outputs": [],
   "source": [
    "// Enter your Q code here \n",
    "function:{[x;y;z](x + y) * z}\n"
   ]
  },
  {
   "cell_type": "markdown",
   "metadata": {
    "hidden": true,
    "reveal": "o2hcftifef",
    "reveal-hidden": true
   },
   "source": [
    "Create a function that produces `n` random integers between 0-100 where `n` is a parameter"
   ]
  },
  {
   "cell_type": "code",
   "execution_count": null,
   "metadata": {
    "hidden": true,
    "reveal": "o2hcftifef"
   },
   "outputs": [],
   "source": [
    "func2:{[n] n?101i}  //specifing 101 as we want to include 100 "
   ]
  },
  {
   "cell_type": "code",
   "execution_count": 35,
   "metadata": {
    "hidden": true
   },
   "outputs": [
    {
     "name": "stdout",
     "output_type": "stream",
     "text": [
      "44 87 94 33 89i\n"
     ]
    }
   ],
   "source": [
    "// Enter your Q code here \n",
    "random:{[n]n?100i}\n",
    "random 5"
   ]
  },
  {
   "cell_type": "markdown",
   "metadata": {
    "jp-MarkdownHeadingCollapsed": true
   },
   "source": [
    "# Explicit and Implicit parameters"
   ]
  },
  {
   "cell_type": "markdown",
   "metadata": {
    "jp-MarkdownHeadingCollapsed": true
   },
   "source": [
    "## Explicit Parameters\n",
    "\n",
    "To explicitly declare the parameters to a function we define them within the square brackets immediately after the\n",
    "opening curly bracket, and if there is more than one parameter to be declared, we separate these parameters\n",
    "with semicolons `;`. For example:"
   ]
  },
  {
   "cell_type": "code",
   "execution_count": 36,
   "metadata": {},
   "outputs": [],
   "source": [
    "sumStats:{[l] //single input function with 4 expressions\n",
    "    countL:count l; //calculating number of elements in list \n",
    "    minL:min l; //calculating min of list \n",
    "    maxL:max l; //calculating max of list\n",
    "    avgL:avg l; //calculating average of list\n",
    "    :(countL;minL;maxL;avgL) //using force return \n",
    " }"
   ]
  },
  {
   "cell_type": "code",
   "execution_count": 37,
   "metadata": {},
   "outputs": [
    {
     "name": "stdout",
     "output_type": "stream",
     "text": [
      "43 40 31 32 89 68 17 7 72 52\n",
      "10\n",
      "7\n",
      "89\n",
      "45.1\n"
     ]
    }
   ],
   "source": [
    "show L:10?100 //creating random list\n",
    "show s1:sumStats[L] //execute the function and assign result to global variable s1"
   ]
  },
  {
   "cell_type": "markdown",
   "metadata": {
    "reveal": "24usz823bew",
    "reveal-hidden": false
   },
   "source": [
    "##### Exercise\n",
    "Create a function `rectangleArea1` that returns the area of a rectangle using two explicit parameters, length and width. \n",
    "\n",
    "Using the function, calculate the area of a rectangle with length 5.93 and width 3.87.  "
   ]
  },
  {
   "cell_type": "code",
   "execution_count": 39,
   "metadata": {
    "reveal": "24usz823bew"
   },
   "outputs": [
    {
     "name": "stdout",
     "output_type": "stream",
     "text": [
      "22.9491\n"
     ]
    }
   ],
   "source": [
    "rectangleArea1:{[length;width] length * width}\n",
    "rectangleArea1[5.93;3.87]"
   ]
  },
  {
   "cell_type": "code",
   "execution_count": 38,
   "metadata": {},
   "outputs": [
    {
     "name": "stdout",
     "output_type": "stream",
     "text": [
      "22.9491\n"
     ]
    }
   ],
   "source": [
    "// write your function here\n",
    "rectangleArea1:{[length;width]\n",
    "    length * width}\n",
    "\n",
    "show area:rectangleArea1[5.93; 3.87]"
   ]
  },
  {
   "cell_type": "markdown",
   "metadata": {
    "heading_collapsed": true,
    "jp-MarkdownHeadingCollapsed": true
   },
   "source": [
    "## Implicit Parameters\n",
    "If there are no parameters explicitly declared at the start of a function definition (no square\n",
    "brackets), then up to three inputs can be implicitly available if defined within the function body. These are by\n",
    "name `x`,`y` and `z`."
   ]
  },
  {
   "cell_type": "code",
   "execution_count": 40,
   "metadata": {
    "hidden": true
   },
   "outputs": [
    {
     "name": "stdout",
     "output_type": "stream",
     "text": [
      "0 1\n",
      "{x-1}\n"
     ]
    }
   ],
   "source": [
    "show f4:{x-1} //Function takes a single input and implicitly returns a result\n",
    "f4[1 2]"
   ]
  },
  {
   "cell_type": "code",
   "execution_count": 44,
   "metadata": {
    "hidden": true
   },
   "outputs": [
    {
     "name": "stdout",
     "output_type": "stream",
     "text": [
      "1\n",
      "{r:x-y;\n",
      "    :r}\n"
     ]
    }
   ],
   "source": [
    "show f5:{r:x-y;\n",
    "    :r} //Function takes 2 inputs and explicitly returns a result\n",
    "f5[3;2]"
   ]
  },
  {
   "cell_type": "code",
   "execution_count": 45,
   "metadata": {
    "hidden": true
   },
   "outputs": [
    {
     "name": "stdout",
     "output_type": "stream",
     "text": [
      "-10\n",
      "{:x-y*z}\n"
     ]
    }
   ],
   "source": [
    "show f6:{:x-y*z} //Function takes 3 inputs and explicitly returns a result\n",
    "f6[10;20;f5[3;2]]"
   ]
  },
  {
   "cell_type": "markdown",
   "metadata": {
    "hidden": true
   },
   "source": [
    "This also only works for these three values, trying to do this with `a`,`b` and `c` would be unsuccessful."
   ]
  },
  {
   "cell_type": "markdown",
   "metadata": {
    "hidden": true,
    "reveal": "xkvkpi3c0v7",
    "reveal-hidden": true
   },
   "source": [
    "##### Exercise \n",
    "Create a function `rectangleArea2` to find the area of a rectangle with length 7.93 and width 1.87 using implicit parameters"
   ]
  },
  {
   "cell_type": "code",
   "execution_count": null,
   "metadata": {
    "hidden": true,
    "reveal": "xkvkpi3c0v7"
   },
   "outputs": [],
   "source": [
    "rectangleArea2:{x*y}  //using implicit parameters\n",
    "rectangleArea2[7.93;1.87]"
   ]
  },
  {
   "cell_type": "code",
   "execution_count": 46,
   "metadata": {
    "hidden": true
   },
   "outputs": [
    {
     "name": "stdout",
     "output_type": "stream",
     "text": [
      "14.8291\n"
     ]
    }
   ],
   "source": [
    "/ write your function here\n",
    "rectangleArea2:{x*y}\n",
    "rectangleArea2 [7.93;1.87]"
   ]
  },
  {
   "cell_type": "markdown",
   "metadata": {
    "heading_collapsed": true
   },
   "source": [
    "##  Comparison\n",
    "Let's suppose we want to define a function called `getCircleArea`, which takes the radius as its sole argument and returns the area of such a circle. For the purposes of this exercise we will assume π=3.14159"
   ]
  },
  {
   "cell_type": "code",
   "execution_count": 51,
   "metadata": {
    "hidden": true
   },
   "outputs": [
    {
     "name": "stdout",
     "output_type": "stream",
     "text": [
      "50.26544\n"
     ]
    }
   ],
   "source": [
    "getCircleArea:{[radius] 3.14159*radius*radius};   // using explicit argument here, \n",
    "                                                  // which must be defined at the start of the lambda in square brackets\n",
    "getCircleArea 4"
   ]
  },
  {
   "cell_type": "markdown",
   "metadata": {
    "hidden": true
   },
   "source": [
    "If we chose not to explicitly declare the argument and instead used the implicit argument x:"
   ]
  },
  {
   "cell_type": "code",
   "execution_count": 52,
   "metadata": {
    "hidden": true
   },
   "outputs": [
    {
     "name": "stdout",
     "output_type": "stream",
     "text": [
      "50.26544\n"
     ]
    }
   ],
   "source": [
    "getCircleArea:{3.14159*x*x};   // use x instead of explicit argument, no square brackets required\n",
    "getCircleArea 4                // function behaviour is unchanged"
   ]
  },
  {
   "cell_type": "markdown",
   "metadata": {
    "hidden": true,
    "reveal": "qrp6xx0ovls",
    "reveal-hidden": false
   },
   "source": [
    "##### Exercise \n",
    "Create a monadic function to find  all the odd numbers in a list and multiple them by 10."
   ]
  },
  {
   "cell_type": "code",
   "execution_count": 54,
   "metadata": {
    "hidden": true,
    "reveal": "qrp6xx0ovls"
   },
   "outputs": [
    {
     "name": "stdout",
     "output_type": "stream",
     "text": [
      "1 20 3 40\n"
     ]
    }
   ],
   "source": [
    "oddFunc:{[i]\n",
    "    oddNum:i where 1=i mod 2; //finding all the odd numbers\n",
    "    @[i;oddNum;*;10]} //multiple by 10\n",
    "oddFunc[1 2 3 4]"
   ]
  },
  {
   "cell_type": "code",
   "execution_count": 53,
   "metadata": {
    "hidden": true
   },
   "outputs": [
    {
     "name": "stdout",
     "output_type": "stream",
     "text": [
      "10 70 30 50 70 90 110\n"
     ]
    }
   ],
   "source": [
    "// your answer here\n",
    "oddnumbers:{[l] 10 *l where 1 = l mod 2}\n",
    "oddnumbers [ 1 2 4 6 7 3 5 7 9 11]"
   ]
  },
  {
   "cell_type": "markdown",
   "metadata": {
    "hidden": true,
    "reveal": "jp9xxw4aht",
    "reveal-hidden": true
   },
   "source": [
    "Create a dyadic function `vol` that takes a radius and a length to calculate the volume of a cylinder ($V=l*\\pi r^2$ - Use 3.14 for $\\pi$)"
   ]
  },
  {
   "cell_type": "code",
   "execution_count": 57,
   "metadata": {
    "hidden": true,
    "reveal": "jp9xxw4aht"
   },
   "outputs": [
    {
     "name": "stdout",
     "output_type": "stream",
     "text": [
      "37.68\n"
     ]
    }
   ],
   "source": [
    "vol:{y*3.14*x*x}\n",
    "vol[2;3]"
   ]
  },
  {
   "cell_type": "code",
   "execution_count": 56,
   "metadata": {
    "hidden": true
   },
   "outputs": [
    {
     "name": "stdout",
     "output_type": "stream",
     "text": [
      "37.68\n"
     ]
    }
   ],
   "source": [
    "// your answer here\n",
    "vol:{[rad;length]length * rad*rad * 3.14}\n",
    "vol [2;3]"
   ]
  },
  {
   "cell_type": "markdown",
   "metadata": {
    "heading_collapsed": true
   },
   "source": [
    "# Function Scope\n",
    "\n",
    "Within programming languages that utilize functions, there is the concept of [function scope](https://en.wikipedia.org/wiki/Scope_(computer_science)#Function_scope) which refers to the \"view\" of the variables that are accessible to a function during it's execution. "
   ]
  },
  {
   "cell_type": "markdown",
   "metadata": {
    "heading_collapsed": true,
    "hidden": true
   },
   "source": [
    "## Local Scope\n",
    "\n",
    "The *local scope* of a function refers to the variables that are available and accessible within the execution of a function. Variables which only exist for the duration of the function execution and fail to be accessible after function execution are deemed to be *local* to the function execution, and therefore *local variables*.\n",
    "\n",
    "The most simple example of variables that are local only to the scope of a function are the parameters of function: "
   ]
  },
  {
   "cell_type": "code",
   "execution_count": 66,
   "metadata": {
    "hidden": true
   },
   "outputs": [
    {
     "name": "stdout",
     "output_type": "stream",
     "text": [
      "4\n",
      "20\n",
      "|\n",
      "Parameter passed: 2\n"
     ]
    }
   ],
   "source": [
    "f:{[param1] -1 \"Parameter passed: \",string param1; param1*2}   \n",
    "f[2]\n",
    "//param1     //not defined outside of our function in what is called the \"global\" scope\n",
    "local:{[a]a *q:10}\n",
    "local 2\n",
    "|"
   ]
  },
  {
   "cell_type": "markdown",
   "metadata": {
    "hidden": true
   },
   "source": [
    "Another example of local variables are the intermediate variables that we might define within our function logic: "
   ]
  },
  {
   "cell_type": "code",
   "execution_count": 67,
   "metadata": {
    "hidden": true
   },
   "outputs": [
    {
     "name": "stdout",
     "output_type": "stream",
     "text": [
      "52\n",
      "{[a]a *q:10}\n",
      "Value of local: 42\n"
     ]
    }
   ],
   "source": [
    "f:{local:42; -1\"Value of local: \",string local; local+x} // \"local\" is a local variable\n",
    "f[10]\n",
    "local"
   ]
  },
  {
   "cell_type": "markdown",
   "metadata": {
    "hidden": true
   },
   "source": [
    " A local variable is not visible within the body of a local function defined within the same function and same scope.\n",
    "We can best clarify what exactly is meant by this with an example: "
   ]
  },
  {
   "cell_type": "code",
   "execution_count": 68,
   "metadata": {
    "hidden": true
   },
   "outputs": [
    {
     "ename": "QError",
     "evalue": "localToF",
     "output_type": "error",
     "traceback": [
      "\u001b[0;31m---------------------------------------------------------------------------\u001b[0m",
      "\u001b[0;31mQError\u001b[0m                                    Traceback (most recent call last)",
      "Cell \u001b[0;32mIn[68], line 1\u001b[0m\n\u001b[0;32m----> 1\u001b[0m \u001b[43mget_ipython\u001b[49m\u001b[43m(\u001b[49m\u001b[43m)\u001b[49m\u001b[38;5;241;43m.\u001b[39;49m\u001b[43mrun_cell_magic\u001b[49m\u001b[43m(\u001b[49m\u001b[38;5;124;43m'\u001b[39;49m\u001b[38;5;124;43mq\u001b[39;49m\u001b[38;5;124;43m'\u001b[39;49m\u001b[43m,\u001b[49m\u001b[43m \u001b[49m\u001b[38;5;124;43m'\u001b[39;49m\u001b[38;5;124;43m'\u001b[39;49m\u001b[43m,\u001b[49m\u001b[43m \u001b[49m\u001b[38;5;124;43m\"\u001b[39;49m\u001b[38;5;124;43mf:\u001b[39;49m\u001b[38;5;124;43m{\u001b[39;49m\u001b[38;5;124;43mlocalToF:21;      //create variable within the scope of function f\u001b[39;49m\u001b[38;5;130;43;01m\\n\u001b[39;49;00m\u001b[38;5;124;43m    g:\u001b[39;49m\u001b[38;5;124;43m{\u001b[39;49m\u001b[38;5;124;43mlocalToF*2}; //create new function within the scope of our function \u001b[39;49m\u001b[38;5;130;43;01m\\n\u001b[39;49;00m\u001b[38;5;124;43m    g[]             //call g within the function f\u001b[39;49m\u001b[38;5;130;43;01m\\n\u001b[39;49;00m\u001b[38;5;124;43m  }            \u001b[39;49m\u001b[38;5;130;43;01m\\n\u001b[39;49;00m\u001b[38;5;124;43mf[]     //g can\u001b[39;49m\u001b[38;5;124;43m'\u001b[39;49m\u001b[38;5;124;43mt access  the localvariable localToF\u001b[39;49m\u001b[38;5;130;43;01m\\n\u001b[39;49;00m\u001b[38;5;124;43m\"\u001b[39;49m\u001b[43m)\u001b[49m\n",
      "File \u001b[0;32m/opt/conda/lib/python3.11/site-packages/IPython/core/interactiveshell.py:2541\u001b[0m, in \u001b[0;36mInteractiveShell.run_cell_magic\u001b[0;34m(self, magic_name, line, cell)\u001b[0m\n\u001b[1;32m   2539\u001b[0m \u001b[38;5;28;01mwith\u001b[39;00m \u001b[38;5;28mself\u001b[39m\u001b[38;5;241m.\u001b[39mbuiltin_trap:\n\u001b[1;32m   2540\u001b[0m     args \u001b[38;5;241m=\u001b[39m (magic_arg_s, cell)\n\u001b[0;32m-> 2541\u001b[0m     result \u001b[38;5;241m=\u001b[39m \u001b[43mfn\u001b[49m\u001b[43m(\u001b[49m\u001b[38;5;241;43m*\u001b[39;49m\u001b[43margs\u001b[49m\u001b[43m,\u001b[49m\u001b[43m \u001b[49m\u001b[38;5;241;43m*\u001b[39;49m\u001b[38;5;241;43m*\u001b[39;49m\u001b[43mkwargs\u001b[49m\u001b[43m)\u001b[49m\n\u001b[1;32m   2543\u001b[0m \u001b[38;5;66;03m# The code below prevents the output from being displayed\u001b[39;00m\n\u001b[1;32m   2544\u001b[0m \u001b[38;5;66;03m# when using magics with decorator @output_can_be_silenced\u001b[39;00m\n\u001b[1;32m   2545\u001b[0m \u001b[38;5;66;03m# when the last Python token in the expression is a ';'.\u001b[39;00m\n\u001b[1;32m   2546\u001b[0m \u001b[38;5;28;01mif\u001b[39;00m \u001b[38;5;28mgetattr\u001b[39m(fn, magic\u001b[38;5;241m.\u001b[39mMAGIC_OUTPUT_CAN_BE_SILENCED, \u001b[38;5;28;01mFalse\u001b[39;00m):\n",
      "File \u001b[0;32m/opt/conda/lib/python3.11/site-packages/pykx/nbextension.py:181\u001b[0m, in \u001b[0;36mq\u001b[0;34m(instructions, code)\u001b[0m\n\u001b[1;32m    179\u001b[0m     \u001b[38;5;28;01mif\u001b[39;00m save:\n\u001b[1;32m    180\u001b[0m         \u001b[38;5;28mprint\u001b[39m(\u001b[38;5;124mf\u001b[39m\u001b[38;5;124m\"\u001b[39m\u001b[38;5;124mCell contents not saved to \u001b[39m\u001b[38;5;124m'\u001b[39m\u001b[38;5;132;01m{\u001b[39;00mpath\u001b[38;5;132;01m}\u001b[39;00m\u001b[38;5;124m'\u001b[39m\u001b[38;5;124m due to error during execution/saving.\u001b[39m\u001b[38;5;124m\"\u001b[39m)\n\u001b[0;32m--> 181\u001b[0m     \u001b[38;5;28;01mraise\u001b[39;00m e\n\u001b[1;32m    182\u001b[0m \u001b[38;5;28;01mfinally\u001b[39;00m:\n\u001b[1;32m    183\u001b[0m     \u001b[38;5;28;01mif\u001b[39;00m \u001b[38;5;28missubclass\u001b[39m(\u001b[38;5;28mtype\u001b[39m(_q), kx\u001b[38;5;241m.\u001b[39mQConnection):\n",
      "File \u001b[0;32m/opt/conda/lib/python3.11/site-packages/pykx/nbextension.py:169\u001b[0m, in \u001b[0;36mq\u001b[0;34m(instructions, code)\u001b[0m\n\u001b[1;32m    167\u001b[0m     \u001b[38;5;28;01mif\u001b[39;00m debug \u001b[38;5;129;01mor\u001b[39;00m kx\u001b[38;5;241m.\u001b[39mconfig\u001b[38;5;241m.\u001b[39mpykx_qdebug:\n\u001b[1;32m    168\u001b[0m         \u001b[38;5;28mprint\u001b[39m(r[\u001b[38;5;124m'\u001b[39m\u001b[38;5;124mtrc\u001b[39m\u001b[38;5;124m'\u001b[39m])\n\u001b[0;32m--> 169\u001b[0m     \u001b[38;5;28;01mraise\u001b[39;00m kx\u001b[38;5;241m.\u001b[39mQError(r[\u001b[38;5;124m'\u001b[39m\u001b[38;5;124mres\u001b[39m\u001b[38;5;124m'\u001b[39m]\u001b[38;5;241m.\u001b[39mpy()\u001b[38;5;241m.\u001b[39mdecode())\n\u001b[1;32m    170\u001b[0m \u001b[38;5;28;01melse\u001b[39;00m:\n\u001b[1;32m    171\u001b[0m     display(r[\u001b[38;5;124m'\u001b[39m\u001b[38;5;124mres\u001b[39m\u001b[38;5;124m'\u001b[39m]) \u001b[38;5;28;01mif\u001b[39;00m displayRet \u001b[38;5;28;01melse\u001b[39;00m \u001b[38;5;28mprint\u001b[39m(r[\u001b[38;5;124m'\u001b[39m\u001b[38;5;124mres\u001b[39m\u001b[38;5;124m'\u001b[39m])\n",
      "\u001b[0;31mQError\u001b[0m: localToF"
     ]
    }
   ],
   "source": [
    "f:{localToF:21;      //create variable within the scope of function f\n",
    "    g:{localToF*2}; //create new function within the scope of our function \n",
    "    g[]             //call g within the function f\n",
    "  }            \n",
    "f[]     //g can't access  the localvariable localToF"
   ]
  },
  {
   "cell_type": "markdown",
   "metadata": {
    "hidden": true
   },
   "source": [
    "If we wanted `g` to have access to that variable we would need to pass it as a parameter as follows: "
   ]
  },
  {
   "cell_type": "code",
   "execution_count": 69,
   "metadata": {
    "hidden": true
   },
   "outputs": [
    {
     "name": "stdout",
     "output_type": "stream",
     "text": [
      "42\n"
     ]
    }
   ],
   "source": [
    "f:{localToF:21;                               //create variable within the scope of function f\n",
    "    g:{[passedFromFtoG] passedFromFtoG*2};    //create new function within the scope of our function \n",
    "    g[localToF]                               //call g within the function f passing our local variable as an input\n",
    "  }            \n",
    "f[]"
   ]
  },
  {
   "cell_type": "markdown",
   "metadata": {
    "hidden": true,
    "reveal": "xmkip3w2429",
    "reveal-hidden": false
   },
   "source": [
    "##### Exercise \n",
    "Create a function `circumferenceOfCircle` that defines a local variable `pi:3.14` and finds the [circumference](https://www.mathplanet.com/education/pre-algebra/more-about-equation-and-inequalities/calculating-the-circumference-of-a-circle) of a circle. \n",
    "\n",
    "Calculate the circumference of a circle with radius 6. Check to see if pi is defined in the process."
   ]
  },
  {
   "cell_type": "code",
   "execution_count": 71,
   "metadata": {
    "hidden": true,
    "reveal": "xmkip3w2429"
   },
   "outputs": [
    {
     "name": "stdout",
     "output_type": "stream",
     "text": [
      "37.68\n"
     ]
    },
    {
     "ename": "QError",
     "evalue": "pi",
     "output_type": "error",
     "traceback": [
      "\u001b[0;31m---------------------------------------------------------------------------\u001b[0m",
      "\u001b[0;31mQError\u001b[0m                                    Traceback (most recent call last)",
      "Cell \u001b[0;32mIn[71], line 1\u001b[0m\n\u001b[0;32m----> 1\u001b[0m \u001b[43mget_ipython\u001b[49m\u001b[43m(\u001b[49m\u001b[43m)\u001b[49m\u001b[38;5;241;43m.\u001b[39;49m\u001b[43mrun_cell_magic\u001b[49m\u001b[43m(\u001b[49m\u001b[38;5;124;43m'\u001b[39;49m\u001b[38;5;124;43mq\u001b[39;49m\u001b[38;5;124;43m'\u001b[39;49m\u001b[43m,\u001b[49m\u001b[43m \u001b[49m\u001b[38;5;124;43m'\u001b[39;49m\u001b[38;5;124;43m'\u001b[39;49m\u001b[43m,\u001b[49m\u001b[43m \u001b[49m\u001b[38;5;124;43m\"\u001b[39;49m\u001b[38;5;124;43mcircumferenceOfCircle:\u001b[39;49m\u001b[38;5;124;43m{\u001b[39;49m\u001b[38;5;124;43m[r]\u001b[39;49m\u001b[38;5;130;43;01m\\n\u001b[39;49;00m\u001b[38;5;124;43m  pi:3.14; //defining local variable\u001b[39;49m\u001b[38;5;130;43;01m\\n\u001b[39;49;00m\u001b[38;5;124;43m  2*pi*r  //calculating circumference\u001b[39;49m\u001b[38;5;130;43;01m\\n\u001b[39;49;00m\u001b[38;5;124;43m }\u001b[39;49m\u001b[38;5;130;43;01m\\n\u001b[39;49;00m\u001b[38;5;130;43;01m\\n\u001b[39;49;00m\u001b[38;5;124;43mcircumferenceOfCircle[6]\u001b[39;49m\u001b[38;5;130;43;01m\\n\u001b[39;49;00m\u001b[38;5;124;43mpi //inspecting pi - not defined as it\u001b[39;49m\u001b[38;5;124;43m'\u001b[39;49m\u001b[38;5;124;43ms a local variable\u001b[39;49m\u001b[38;5;130;43;01m\\n\u001b[39;49;00m\u001b[38;5;124;43m\"\u001b[39;49m\u001b[43m)\u001b[49m\n",
      "File \u001b[0;32m/opt/conda/lib/python3.11/site-packages/IPython/core/interactiveshell.py:2541\u001b[0m, in \u001b[0;36mInteractiveShell.run_cell_magic\u001b[0;34m(self, magic_name, line, cell)\u001b[0m\n\u001b[1;32m   2539\u001b[0m \u001b[38;5;28;01mwith\u001b[39;00m \u001b[38;5;28mself\u001b[39m\u001b[38;5;241m.\u001b[39mbuiltin_trap:\n\u001b[1;32m   2540\u001b[0m     args \u001b[38;5;241m=\u001b[39m (magic_arg_s, cell)\n\u001b[0;32m-> 2541\u001b[0m     result \u001b[38;5;241m=\u001b[39m \u001b[43mfn\u001b[49m\u001b[43m(\u001b[49m\u001b[38;5;241;43m*\u001b[39;49m\u001b[43margs\u001b[49m\u001b[43m,\u001b[49m\u001b[43m \u001b[49m\u001b[38;5;241;43m*\u001b[39;49m\u001b[38;5;241;43m*\u001b[39;49m\u001b[43mkwargs\u001b[49m\u001b[43m)\u001b[49m\n\u001b[1;32m   2543\u001b[0m \u001b[38;5;66;03m# The code below prevents the output from being displayed\u001b[39;00m\n\u001b[1;32m   2544\u001b[0m \u001b[38;5;66;03m# when using magics with decorator @output_can_be_silenced\u001b[39;00m\n\u001b[1;32m   2545\u001b[0m \u001b[38;5;66;03m# when the last Python token in the expression is a ';'.\u001b[39;00m\n\u001b[1;32m   2546\u001b[0m \u001b[38;5;28;01mif\u001b[39;00m \u001b[38;5;28mgetattr\u001b[39m(fn, magic\u001b[38;5;241m.\u001b[39mMAGIC_OUTPUT_CAN_BE_SILENCED, \u001b[38;5;28;01mFalse\u001b[39;00m):\n",
      "File \u001b[0;32m/opt/conda/lib/python3.11/site-packages/pykx/nbextension.py:181\u001b[0m, in \u001b[0;36mq\u001b[0;34m(instructions, code)\u001b[0m\n\u001b[1;32m    179\u001b[0m     \u001b[38;5;28;01mif\u001b[39;00m save:\n\u001b[1;32m    180\u001b[0m         \u001b[38;5;28mprint\u001b[39m(\u001b[38;5;124mf\u001b[39m\u001b[38;5;124m\"\u001b[39m\u001b[38;5;124mCell contents not saved to \u001b[39m\u001b[38;5;124m'\u001b[39m\u001b[38;5;132;01m{\u001b[39;00mpath\u001b[38;5;132;01m}\u001b[39;00m\u001b[38;5;124m'\u001b[39m\u001b[38;5;124m due to error during execution/saving.\u001b[39m\u001b[38;5;124m\"\u001b[39m)\n\u001b[0;32m--> 181\u001b[0m     \u001b[38;5;28;01mraise\u001b[39;00m e\n\u001b[1;32m    182\u001b[0m \u001b[38;5;28;01mfinally\u001b[39;00m:\n\u001b[1;32m    183\u001b[0m     \u001b[38;5;28;01mif\u001b[39;00m \u001b[38;5;28missubclass\u001b[39m(\u001b[38;5;28mtype\u001b[39m(_q), kx\u001b[38;5;241m.\u001b[39mQConnection):\n",
      "File \u001b[0;32m/opt/conda/lib/python3.11/site-packages/pykx/nbextension.py:169\u001b[0m, in \u001b[0;36mq\u001b[0;34m(instructions, code)\u001b[0m\n\u001b[1;32m    167\u001b[0m     \u001b[38;5;28;01mif\u001b[39;00m debug \u001b[38;5;129;01mor\u001b[39;00m kx\u001b[38;5;241m.\u001b[39mconfig\u001b[38;5;241m.\u001b[39mpykx_qdebug:\n\u001b[1;32m    168\u001b[0m         \u001b[38;5;28mprint\u001b[39m(r[\u001b[38;5;124m'\u001b[39m\u001b[38;5;124mtrc\u001b[39m\u001b[38;5;124m'\u001b[39m])\n\u001b[0;32m--> 169\u001b[0m     \u001b[38;5;28;01mraise\u001b[39;00m kx\u001b[38;5;241m.\u001b[39mQError(r[\u001b[38;5;124m'\u001b[39m\u001b[38;5;124mres\u001b[39m\u001b[38;5;124m'\u001b[39m]\u001b[38;5;241m.\u001b[39mpy()\u001b[38;5;241m.\u001b[39mdecode())\n\u001b[1;32m    170\u001b[0m \u001b[38;5;28;01melse\u001b[39;00m:\n\u001b[1;32m    171\u001b[0m     display(r[\u001b[38;5;124m'\u001b[39m\u001b[38;5;124mres\u001b[39m\u001b[38;5;124m'\u001b[39m]) \u001b[38;5;28;01mif\u001b[39;00m displayRet \u001b[38;5;28;01melse\u001b[39;00m \u001b[38;5;28mprint\u001b[39m(r[\u001b[38;5;124m'\u001b[39m\u001b[38;5;124mres\u001b[39m\u001b[38;5;124m'\u001b[39m])\n",
      "\u001b[0;31mQError\u001b[0m: pi"
     ]
    }
   ],
   "source": [
    "circumferenceOfCircle:{[r]\n",
    "  pi:3.14; //defining local variable\n",
    "  2*pi*r  //calculating circumference\n",
    " }\n",
    "\n",
    "circumferenceOfCircle[6]\n",
    "pi //inspecting pi - not defined as it's a local variable"
   ]
  },
  {
   "cell_type": "code",
   "execution_count": 70,
   "metadata": {
    "hidden": true
   },
   "outputs": [
    {
     "name": "stdout",
     "output_type": "stream",
     "text": [
      "37.68\n"
     ]
    }
   ],
   "source": [
    "//write your function here\n",
    "circumferenceOfCircle:{[r] pi:3.14; pi*2 *r}\n",
    "circumferenceOfCircle [6]"
   ]
  },
  {
   "cell_type": "markdown",
   "metadata": {
    "heading_collapsed": true,
    "hidden": true
   },
   "source": [
    "## Global Scope\n",
    "\n",
    "A variable assigned outside of a function is called a *global variable*"
   ]
  },
  {
   "cell_type": "code",
   "execution_count": 8,
   "metadata": {
    "hidden": true
   },
   "outputs": [
    {
     "name": "stdout",
     "output_type": "stream",
     "text": [
      "12\n"
     ]
    }
   ],
   "source": [
    "f:{b:2; b*x}  //defining locally\n",
    "f[6]"
   ]
  },
  {
   "cell_type": "markdown",
   "metadata": {
    "hidden": true
   },
   "source": [
    "When a function calls for a variable, it first \"looks\" locally, and then if the variable can't be found in local scope, the function \"looks\" globally. If the variable can't be found in either scope then the function will error.  "
   ]
  },
  {
   "cell_type": "code",
   "execution_count": 14,
   "metadata": {
    "hidden": true
   },
   "outputs": [
    {
     "name": "stdout",
     "output_type": "stream",
     "text": [
      "4\n",
      ".\n"
     ]
    }
   ],
   "source": [
    "b:4\n",
    "f:{b*x}          //calling b but we haven't defined it locally \n",
    "f[1]\n",
    "delete b from `. //removing b from the global scope \n",
    "//f[1]    \n",
    "//b now undefined "
   ]
  },
  {
   "cell_type": "markdown",
   "metadata": {
    "hidden": true
   },
   "source": [
    "If we wanted to define global variables from within our function, we can do so using `set` (call-by-name) or double colon assignment `::`, provided there is no local variable with the same name."
   ]
  },
  {
   "cell_type": "code",
   "execution_count": 15,
   "metadata": {
    "hidden": true
   },
   "outputs": [
    {
     "name": "stdout",
     "output_type": "stream",
     "text": [
      ".\n",
      "47\n",
      "74\n"
     ]
    }
   ],
   "source": [
    "delete b, c from `.  //clearing b and c from global scope \n",
    "{`b set 47;c::74;}[] // We can see both b & c are defined outside the function after execution\n",
    "b\n",
    "c"
   ]
  },
  {
   "cell_type": "markdown",
   "metadata": {
    "hidden": true
   },
   "source": [
    "If you try to use `::` to set a global variable of the same name as a local variable, then you only succeed in updating the local scope. In the next example we see local-global name collision using `::` which doesn't throw errors"
   ]
  },
  {
   "cell_type": "code",
   "execution_count": 16,
   "metadata": {
    "hidden": true
   },
   "outputs": [
    {
     "name": "stdout",
     "output_type": "stream",
     "text": [
      "70\n",
      "7\n"
     ]
    }
   ],
   "source": [
    "/setting b:6 globally\n",
    "b:6\n",
    "/assigning b:7 globally\n",
    "f:{b::7; x*b}\n",
    "\n",
    "f[10] //x*b = 10*7 = 70\n",
    "\n",
    "/b:7 assigned globally\n",
    "b     // using :: (no local-global name collision): assign successfully as global"
   ]
  },
  {
   "cell_type": "code",
   "execution_count": 17,
   "metadata": {
    "hidden": true
   },
   "outputs": [
    {
     "name": "stdout",
     "output_type": "stream",
     "text": [
      "98\n",
      "6\n"
     ]
    }
   ],
   "source": [
    "/setting b:6 globally\n",
    "b:6                  \n",
    "/setting b:42 locally, attempt to set b::x globally but unable to due to collision, only sets it locally\n",
    "f:{b:42; b::x; b}\n",
    "/b:42 locally, b:98 locally(unable to set globally), output of b is then 98\n",
    "f[98]\n",
    "/b remains as 6\n",
    "b      // using :: (local-global name collision): assigns the local, not the global "
   ]
  },
  {
   "cell_type": "markdown",
   "metadata": {
    "hidden": true,
    "reveal": "gyxmuaq6pq9",
    "reveal-hidden": false
   },
   "source": [
    "What would happen in the above example if we used `set` to define the global variable from inside the function call instead of using `::` ?"
   ]
  },
  {
   "cell_type": "code",
   "execution_count": 18,
   "metadata": {
    "hidden": true,
    "reveal": "gyxmuaq6pq9"
   },
   "outputs": [
    {
     "name": "stdout",
     "output_type": "stream",
     "text": [
      "42\n",
      "98\n"
     ]
    }
   ],
   "source": [
    "/resetting b:6 globally\n",
    "b:6                  \n",
    "/setting b:42 locally, setting b set x globally and doesn't overwrite the local variable\n",
    "f:{b:42; `b set x; b}\n",
    "\n",
    "/b:42 locally, b:98 set globally, output of function is local variable b is 42 \n",
    "f[98]\n",
    "/b globally changes to 98\n",
    "b      // using set assigns the global"
   ]
  },
  {
   "cell_type": "markdown",
   "metadata": {
    "hidden": true,
    "reveal": "bgr8aj85jca",
    "reveal-hidden": false
   },
   "source": [
    "##### Exercise \n",
    "\n",
    "Create a function that creates a global variable `LAST_CALLED` which stores the time that the function was last called at. \n",
    "\n",
    "This function should take two inputs, and return the result of multiplying them together."
   ]
  },
  {
   "cell_type": "code",
   "execution_count": 27,
   "metadata": {
    "hidden": true,
    "reveal": "bgr8aj85jca"
   },
   "outputs": [
    {
     "name": "stdout",
     "output_type": "stream",
     "text": [
      "6\n",
      "12:19:24.526\n"
     ]
    }
   ],
   "source": [
    "globalFunc:{LAST_CALLED::.z.t;x*y} //setting the global value to current time\n",
    "\n",
    "globalFunc[2;3] //calling the new function\n",
    "LAST_CALLED //inspecting last_called"
   ]
  },
  {
   "cell_type": "code",
   "execution_count": 26,
   "metadata": {
    "hidden": true
   },
   "outputs": [
    {
     "name": "stdout",
     "output_type": "stream",
     "text": [
      "20\n",
      "12:19:18.253\n"
     ]
    }
   ],
   "source": [
    "//your answer here\n",
    "f:{[x;y]`LAST_CALLED set .z.t;LAST_CALLED;x*y}\n",
    "f [4;5]\n",
    "LAST_CALLED"
   ]
  },
  {
   "cell_type": "markdown",
   "metadata": {},
   "source": [
    "# Projections \n",
    "\n",
    "A projection is created by passing a function less than it's total required arguments. It is used when we want to keep one or more of the arguments constant."
   ]
  },
  {
   "cell_type": "markdown",
   "metadata": {},
   "source": [
    "## Creating Projections\n",
    "\n",
    "Let's take the example of the addition operator, `+`, which takes 2 arguments. If we want to create a projection from the `+` operator, we must pass in 1 argument as opposed to 2."
   ]
  },
  {
   "cell_type": "code",
   "execution_count": 28,
   "metadata": {},
   "outputs": [
    {
     "name": "stdout",
     "output_type": "stream",
     "text": [
      "3 4 6 5.2\n"
     ]
    }
   ],
   "source": [
    "addTwo:2+ //creating a projection - binding the first input to be 2 \n",
    "addTwo 1 2 4 3.2"
   ]
  },
  {
   "cell_type": "markdown",
   "metadata": {},
   "source": [
    "##### Using a primitive operator\n",
    "\n",
    "Looking at creating a projection from a primative operator, let's take the following as an example:"
   ]
  },
  {
   "cell_type": "code",
   "execution_count": 29,
   "metadata": {},
   "outputs": [
    {
     "name": "stdout",
     "output_type": "stream",
     "text": [
      "14\n",
      "14\n"
     ]
    }
   ],
   "source": [
    "9+5                    // normal operation of + using infix notation\n",
    "+[9;5]                 // can also be called with square bracket notation, passing in 2 arguments"
   ]
  },
  {
   "cell_type": "markdown",
   "metadata": {},
   "source": [
    "If we wanted to create a new function that would add 9 to each argument passed to the function, we could create a projection like follows:"
   ]
  },
  {
   "cell_type": "code",
   "execution_count": 30,
   "metadata": {},
   "outputs": [
    {
     "name": "stdout",
     "output_type": "stream",
     "text": [
      "+[9]\n",
      "+[9]\n"
     ]
    }
   ],
   "source": [
    "add9a:9+                  //using infix notation\n",
    "add9b:+[9]               //using the square bracket notation\n",
    "add9a\n",
    "add9b"
   ]
  },
  {
   "cell_type": "markdown",
   "metadata": {},
   "source": [
    "##### Creating a projection using a lambda \n",
    "\n",
    " What happens if we have a lambda that we would like create a projection from ?"
   ]
  },
  {
   "cell_type": "code",
   "execution_count": 31,
   "metadata": {},
   "outputs": [
    {
     "name": "stdout",
     "output_type": "stream",
     "text": [
      "{x+y}[4]\n"
     ]
    }
   ],
   "source": [
    "add:{x+y}\n",
    "add4:add 4             //calling a dyadic function with one argument creates a projection\n",
    "add4"
   ]
  },
  {
   "cell_type": "markdown",
   "metadata": {},
   "source": [
    "##### Projecting other arguments\n",
    "Until now, we have only projected the first argument of a function - however we can project any argument in q! \n",
    "\n",
    "We can show how this can be done using the primitive operator `%` to create a projection that will half each argument passed:"
   ]
  },
  {
   "cell_type": "code",
   "execution_count": 34,
   "metadata": {},
   "outputs": [],
   "source": [
    "//half:%2 // infix notation - in this case, y is the argument that we are projecting so this errors"
   ]
  },
  {
   "cell_type": "markdown",
   "metadata": {},
   "source": [
    "We have to use square bracket notation if we want to project arguments that aren't the first argument. We do this in a similar way to index elision. "
   ]
  },
  {
   "cell_type": "code",
   "execution_count": 33,
   "metadata": {},
   "outputs": [
    {
     "name": "stdout",
     "output_type": "stream",
     "text": [
      "1.5\n"
     ]
    }
   ],
   "source": [
    "half:%[;2]  // to create a projection where the second argument is held constant, simply omit the first argument\n",
    "half 3"
   ]
  },
  {
   "cell_type": "markdown",
   "metadata": {
    "reveal": "q6pji068nah",
    "reveal-hidden": true
   },
   "source": [
    "##### Exercise  \n",
    "Create a projection called `modSeven` that calculates the input modulo 7. \n",
    "\n",
    "Check the projection with an input 15"
   ]
  },
  {
   "cell_type": "code",
   "execution_count": null,
   "metadata": {
    "reveal": "q6pji068nah"
   },
   "outputs": [],
   "source": [
    "modSeven:mod[;7]\n",
    "modSeven 15 //checking it works"
   ]
  },
  {
   "cell_type": "code",
   "execution_count": 35,
   "metadata": {},
   "outputs": [
    {
     "name": "stdout",
     "output_type": "stream",
     "text": [
      "1\n"
     ]
    }
   ],
   "source": [
    "// write your projection here\n",
    "modSeven:mod[;7]\n",
    "modSeven 15"
   ]
  },
  {
   "cell_type": "markdown",
   "metadata": {
    "heading_collapsed": true
   },
   "source": [
    "## Applying projections\n",
    "Let's take a look at the projections that we created in the previous section `add9` and `add4`."
   ]
  },
  {
   "cell_type": "code",
   "execution_count": 36,
   "metadata": {
    "hidden": true
   },
   "outputs": [
    {
     "name": "stdout",
     "output_type": "stream",
     "text": [
      "+[9]\n",
      "{x+y}[4]\n"
     ]
    }
   ],
   "source": [
    "add9a\n",
    "add4"
   ]
  },
  {
   "cell_type": "code",
   "execution_count": 37,
   "metadata": {
    "hidden": true
   },
   "outputs": [
    {
     "name": "stdout",
     "output_type": "stream",
     "text": [
      "19\n",
      "14\n",
      "19 29 39\n",
      "14 24 34\n"
     ]
    }
   ],
   "source": [
    "add9a 10    // we can now re-use this projection and pass in a 2nd argument\n",
    "add4 10 \n",
    "add9a 10 20 30 //will work for lists \n",
    "add4 10 20 30"
   ]
  },
  {
   "cell_type": "markdown",
   "metadata": {
    "hidden": true,
    "reveal": "nqdgijrhkkl",
    "reveal-hidden": false
   },
   "source": [
    "##### Exercise \n",
    "Using the projection `modSeven`, apply it to the series 0-10."
   ]
  },
  {
   "cell_type": "code",
   "execution_count": 38,
   "metadata": {
    "hidden": true,
    "reveal": "nqdgijrhkkl"
   },
   "outputs": [
    {
     "name": "stdout",
     "output_type": "stream",
     "text": [
      "0 1 2 3 4 5 6 0 1 2 3\n"
     ]
    }
   ],
   "source": [
    "modSeven til 11 "
   ]
  },
  {
   "cell_type": "code",
   "execution_count": null,
   "metadata": {
    "hidden": true
   },
   "outputs": [],
   "source": [
    "// write your answer here"
   ]
  },
  {
   "cell_type": "code",
   "execution_count": 79,
   "metadata": {},
   "outputs": [
    {
     "name": "stdout",
     "output_type": "stream",
     "text": [
      "1 0 0 0 0\n",
      "0 1 0 0 0\n",
      "0 0 1 0 0\n",
      "0 0 0 1 0\n",
      "0 0 0 0 1\n",
      "1 0 0 0 0 0\n",
      "5 5\n",
      "1 0 0 0 0\n",
      "0 1 0 0 0\n",
      "0 0 1 0 0\n",
      "0 0 0 1 0\n",
      "0 0 0 0 1\n"
     ]
    }
   ],
   "source": [
    "id:{[x](2#x)#1, x#0 }\n",
    "id 5 \n",
    "1, 5#0\n",
    "2#5\n",
    "5 5#1, 5#0"
   ]
  },
  {
   "cell_type": "code",
   "execution_count": null,
   "metadata": {},
   "outputs": [],
   "source": []
  }
 ],
 "metadata": {
  "kernelspec": {
   "display_name": "Python 3 (ipykernel)",
   "language": "python",
   "name": "python3"
  },
  "language_info": {
   "codemirror_mode": {
    "name": "ipython",
    "version": 3
   },
   "file_extension": ".py",
   "mimetype": "text/x-python",
   "name": "python",
   "nbconvert_exporter": "python",
   "pygments_lexer": "ipython3",
   "version": "3.11.10"
  },
  "toc": {
   "base_numbering": 1,
   "nav_menu": {},
   "number_sections": true,
   "sideBar": true,
   "skip_h1_title": false,
   "title_cell": "Table of Contents",
   "title_sidebar": "Contents",
   "toc_cell": false,
   "toc_position": {
    "height": "calc(100% - 180px)",
    "left": "10px",
    "top": "150px",
    "width": "336px"
   },
   "toc_section_display": true,
   "toc_window_display": true
  }
 },
 "nbformat": 4,
 "nbformat_minor": 4
}
