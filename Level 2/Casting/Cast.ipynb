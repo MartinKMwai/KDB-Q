{
 "cells": [
  {
   "cell_type": "code",
   "execution_count": 1,
   "metadata": {
    "autorun": true,
    "editable": false,
    "jupyter": {
     "source_hidden": true
    },
    "tags": [
     "remove-cell"
    ]
   },
   "outputs": [],
   "source": [
    "#;.pykx.disableJupyter()"
   ]
  },
  {
   "cell_type": "code",
   "execution_count": 2,
   "metadata": {
    "autorun": true,
    "editable": false,
    "jupyter": {
     "source_hidden": true
    },
    "tags": [
     "remove-cell"
    ]
   },
   "outputs": [
    {
     "name": "stdout",
     "output_type": "stream",
     "text": [
      "PyKX now running in 'jupyter_qfirst' mode. All cells by default will be run as q code. \n",
      "Include '%%py' at the beginning of each cell to run as python code. \n"
     ]
    }
   ],
   "source": [
    "# https://code.kx.com/pykx/3.0/examples/jupyter-integration.html#q-first-mode\n",
    "import pykx as kx\n",
    "kx.util.jupyter_qfirst_enable()"
   ]
  },
  {
   "cell_type": "markdown",
   "metadata": {},
   "source": [
    "# Casting"
   ]
  },
  {
   "cell_type": "markdown",
   "metadata": {},
   "source": [
    "**Learning Outcomes**\n",
    "\n",
    "To understand:\n",
    "\n",
    "+ Casting as a concept\n",
    "+ Implicit casting\n",
    "+ Using `$` to cast data to different datatypes\n",
    "+ Casting textual data "
   ]
  },
  {
   "cell_type": "markdown",
   "metadata": {
    "heading_collapsed": true,
    "jp-MarkdownHeadingCollapsed": true
   },
   "source": [
    "# Casting Methods\n",
    "\n",
    "When working with data, it is often necessary to change the data from one type e.g. a time like `09:30:00` to another e.g. a datetime like `2020.05.19T09:30:00`. "
   ]
  },
  {
   "cell_type": "markdown",
   "metadata": {
    "heading_collapsed": true,
    "hidden": true
   },
   "source": [
    "## Implicit casting"
   ]
  },
  {
   "cell_type": "markdown",
   "metadata": {
    "hidden": true
   },
   "source": [
    "In many cases however we don't need to explicitly use the casting operator `$` and can instead just use simple operations to achieve the result we want."
   ]
  },
  {
   "cell_type": "code",
   "execution_count": 3,
   "metadata": {
    "hidden": true
   },
   "outputs": [
    {
     "name": "stdout",
     "output_type": "stream",
     "text": [
      "09:30:00\n",
      "-18h\n",
      "2025.02.17\n",
      "-14h\n",
      "2025.02.17D09:30:00.000000000\n",
      "-12h\n"
     ]
    }
   ],
   "source": [
    "show time:09:30:00\n",
    "show type time\n",
    "show dt:.z.d\n",
    "show type dt\n",
    "\n",
    "show timeStamp:time+dt\n",
    "show type timeStamp"
   ]
  },
  {
   "cell_type": "markdown",
   "metadata": {
    "hidden": true
   },
   "source": [
    "Other operators can also have these types of effects - consider for example what is returned when you divide two long values: "
   ]
  },
  {
   "cell_type": "code",
   "execution_count": 4,
   "metadata": {
    "hidden": true
   },
   "outputs": [
    {
     "name": "stdout",
     "output_type": "stream",
     "text": [
      "2f\n"
     ]
    }
   ],
   "source": [
    "4%2"
   ]
  },
  {
   "cell_type": "markdown",
   "metadata": {
    "hidden": true,
    "reveal": "x1wik2iewkg",
    "reveal-hidden": true
   },
   "source": [
    "##### Exercise\n",
    "\n",
    "What datatype do you expect from the output below? "
   ]
  },
  {
   "cell_type": "markdown",
   "metadata": {
    "hidden": true,
    "reveal": "x1wik2iewkg"
   },
   "source": [
    "Datatype:Date"
   ]
  },
  {
   "cell_type": "code",
   "execution_count": 6,
   "metadata": {
    "hidden": true
   },
   "outputs": [
    {
     "name": "stdout",
     "output_type": "stream",
     "text": [
      "-14h\n"
     ]
    }
   ],
   "source": [
    "type 2020.09.01 + 2"
   ]
  },
  {
   "cell_type": "markdown",
   "metadata": {
    "hidden": true
   },
   "source": [
    "Fill out below!\n",
    "\n",
    "Datatype:"
   ]
  },
  {
   "cell_type": "markdown",
   "metadata": {
    "hidden": true,
    "reveal": "vdk2rrxxlu8",
    "reveal-hidden": true
   },
   "source": [
    "##### Exercise \n",
    "\n",
    "Repeat exercise for the expression below.\n"
   ]
  },
  {
   "cell_type": "markdown",
   "metadata": {
    "hidden": true,
    "reveal": "vdk2rrxxlu8"
   },
   "source": [
    "Datatype:Timespan\n",
    "\n",
    "Here we have added a timespan to a time. The timespan is the more granular of the two types and this is returned."
   ]
  },
  {
   "cell_type": "code",
   "execution_count": 9,
   "metadata": {
    "hidden": true
   },
   "outputs": [
    {
     "name": "stdout",
     "output_type": "stream",
     "text": [
      "2D09:00:00.000000000\n"
     ]
    }
   ],
   "source": [
    "09:00:00 + 2D00:00:00\n"
   ]
  },
  {
   "cell_type": "markdown",
   "metadata": {
    "hidden": true
   },
   "source": [
    "Fill out below!\n",
    "\n",
    "Datatype: "
   ]
  },
  {
   "cell_type": "markdown",
   "metadata": {
    "hidden": true
   },
   "source": [
    "<img src=\"../qbies.png\" width=\"50px\" style=\"width: 50px;padding-right:5px;padding-top:15px;padding-left:5px;\" align=\"left\"/>\n",
    "\n",
    "<p style='color:#273a6e'><i> Generally in kdb+/q, when you add two types (if they're compatible) they will resolve to the datatype with the highest level of granularity possible to represent the two types. </i></p>"
   ]
  },
  {
   "cell_type": "markdown",
   "metadata": {
    "heading_collapsed": true,
    "hidden": true
   },
   "source": [
    "## Casting using `$`\n",
    "Explicit casting in kdb+/q uses the [`$`](https://code.kx.com/q/ref/cast/) (aka [cast](https://code.kx.com/q/ref/cast/)) operator.\n",
    "\n",
    "Assuming the data you wish to cast is not a textual datatype (like symbol or string), any of the following three approaches can be utilized by `$`to specify the desired type of the output:\n",
    "1.\tIt's symbol name e.g `float\n",
    "2.\tIt's character letter e.g. \"f\"\n",
    "3.\tIt's short value (aka short name) e.g. 9h"
   ]
  },
  {
   "cell_type": "markdown",
   "metadata": {
    "hidden": true
   },
   "source": [
    "### Numerical datatypes \n",
    "If we wanted to cast a list of longs to a float list, all three casting operations are equivalent:"
   ]
  },
  {
   "cell_type": "code",
   "execution_count": 10,
   "metadata": {
    "hidden": true
   },
   "outputs": [
    {
     "name": "stdout",
     "output_type": "stream",
     "text": [
      "10 20 30f\n",
      "10 20 30f\n",
      "10 20 30f\n"
     ]
    }
   ],
   "source": [
    "x:10 20 30\n",
    "`float$x               // 1 symbol name - functional form $[`float;x]\n",
    "\"f\"$x                  // 2 character value - functional form $[\"f\";x]\n",
    "9h$x                   // 3 short value - functional form $[9h;x]  "
   ]
  },
  {
   "cell_type": "markdown",
   "metadata": {
    "hidden": true
   },
   "source": [
    "The output of all three operations can be checked for equivalency:"
   ]
  },
  {
   "cell_type": "code",
   "execution_count": 11,
   "metadata": {
    "hidden": true
   },
   "outputs": [
    {
     "name": "stdout",
     "output_type": "stream",
     "text": [
      "1b\n",
      "1b\n"
     ]
    }
   ],
   "source": [
    "show symAndCharEquiv:$[`float;x]~$[\"f\";x]  //you get the same results casting either way\n",
    "show symAndShortEquiv:$[`float;x]~$[9h;x]"
   ]
  },
  {
   "cell_type": "markdown",
   "metadata": {
    "hidden": true
   },
   "source": [
    "In the following example we see we can actually cast integers to a (date/time & bytes):"
   ]
  },
  {
   "cell_type": "code",
   "execution_count": 12,
   "metadata": {
    "hidden": true
   },
   "outputs": [
    {
     "name": "stdout",
     "output_type": "stream",
     "text": [
      "2000.01.01 2010.12.14 2082.02.18\n",
      "00:00:00.000 00:00:04.000 00:00:29.999\n",
      "0x00a02f\n",
      "0 4000 29999i\n"
     ]
    }
   ],
   "source": [
    "show x:0 4000 29999i\n",
    "$[`date;x]       //dates start from 2001.01.01 \n",
    "$[19h;x]         //time type numeric value - note this is a short numeric value\n",
    "$[\"x\";x]         //cast as a byte"
   ]
  },
  {
   "cell_type": "markdown",
   "metadata": {
    "hidden": true
   },
   "source": [
    "<img src=\"../qbies.png\" width=\"50px\" style=\"width: 50px;padding-right:5px;padding-top:20px;padding-left:5px;\" align=\"left\"/>\n",
    "\n",
    "<p style='color:#273a6e'><i> Be careful going from more granular to less granular types e.g. from float 5.4 to a long - because the long type has a lower precision some data is lost in the casting, <code>`long$5.4</code> returns a value of <code>5</code>. A round-trip casting won't necessarily return the same value as started with <code>`float$`long$5.4</code> will return <code>5f</code>.</i></p>"
   ]
  },
  {
   "cell_type": "markdown",
   "metadata": {
    "hidden": true,
    "reveal": "8htatn9hlf8",
    "reveal-hidden": true
   },
   "source": [
    "##### Exercise\n",
    "Cast the value 123.23 to the following types: \n",
    "+ Real\n",
    "+ Boolean \n",
    "\n",
    "What do you think would happen if you cast the boolean value back to float? "
   ]
  },
  {
   "cell_type": "code",
   "execution_count": null,
   "metadata": {
    "hidden": true,
    "reveal": "8htatn9hlf8"
   },
   "outputs": [],
   "source": [
    "\"e\"$123.23\n",
    "\"b\"$123.23"
   ]
  },
  {
   "cell_type": "code",
   "execution_count": null,
   "metadata": {
    "hidden": true,
    "reveal": "8htatn9hlf8"
   },
   "outputs": [],
   "source": [
    "\"f\"$\"b\"$123.23  //notice casting to float is the last operation in the chain"
   ]
  },
  {
   "cell_type": "code",
   "execution_count": 14,
   "metadata": {
    "hidden": true
   },
   "outputs": [
    {
     "name": "stdout",
     "output_type": "stream",
     "text": [
      "123.23e\n",
      "1b\n"
     ]
    }
   ],
   "source": [
    "// Write your code here\n",
    "q:123.23\n",
    "$[`real;q]\n",
    "$[`boolean;q]"
   ]
  },
  {
   "cell_type": "markdown",
   "metadata": {
    "hidden": true
   },
   "source": [
    "### Temporal datatypes  "
   ]
  },
  {
   "cell_type": "markdown",
   "metadata": {
    "hidden": true
   },
   "source": [
    "We can operate in the same fashion as above on temporal datatypes."
   ]
  },
  {
   "cell_type": "code",
   "execution_count": 18,
   "metadata": {
    "hidden": true
   },
   "outputs": [
    {
     "name": "stdout",
     "output_type": "stream",
     "text": [
      "9179\n",
      "34200000\n",
      "793099800000000000\n",
      "2025.02.17D09:30:00.000000000\n"
     ]
    }
   ],
   "source": [
    "d:.z.d\n",
    "`long$d // number of dates from 1st Jan 2000\n",
    "t:09:30:00.000\n",
    "`long$t  //number of miliseconds from midnight\n",
    "show ts:d+t\n",
    "`long$ts //number of miliseconds from midnight 1st Jan 2020"
   ]
  },
  {
   "cell_type": "markdown",
   "metadata": {
    "hidden": true,
    "reveal": "vafbdjwjue",
    "reveal-hidden": true
   },
   "source": [
    "What do you expect as outputs from the below?"
   ]
  },
  {
   "cell_type": "code",
   "execution_count": null,
   "metadata": {
    "hidden": true,
    "reveal": "vafbdjwjue"
   },
   "outputs": [],
   "source": [
    "`minute$17:55:01 //rounds down to the nearest minute\n",
    "`uu$17:55:01 //can also use this method to cast to minute however it returns an integer\n",
    "`minute$17:55:59   //note the second differences here- can see it clearer that it rounds down \n",
    "`uu$17:55:59 //can see that this method also rounds down\n",
    "`hh$17:55:59 //there is no hour time type in kdb+, casts it to an int "
   ]
  },
  {
   "cell_type": "code",
   "execution_count": 15,
   "metadata": {
    "hidden": true
   },
   "outputs": [
    {
     "name": "stdout",
     "output_type": "stream",
     "text": [
      "17:55\n",
      "17:55\n",
      "17i\n"
     ]
    }
   ],
   "source": [
    "`minute$17:55:01\n",
    "`minute$17:55:59   //note the second differences here\n",
    "`hh$17:55:59"
   ]
  },
  {
   "cell_type": "markdown",
   "metadata": {
    "hidden": true,
    "reveal": "5cgbv9vufgs",
    "reveal-hidden": true
   },
   "source": [
    "##### Exercise \n",
    "\n",
    "Cast the time 16:30:00 to  each of the following types: \n",
    "+ Integer\n",
    "+ Float\n",
    "+ Minute\n",
    "+ Second"
   ]
  },
  {
   "cell_type": "code",
   "execution_count": null,
   "metadata": {
    "hidden": true,
    "reveal": "5cgbv9vufgs"
   },
   "outputs": [],
   "source": [
    "\"i\"$16:30:00 // int\n",
    "\"f\"$16:30:00  // float"
   ]
  },
  {
   "cell_type": "code",
   "execution_count": null,
   "metadata": {
    "hidden": true,
    "reveal": "5cgbv9vufgs"
   },
   "outputs": [],
   "source": [
    "//Minute options\n",
    "`uu$16:30:00\n",
    "`minute$16:30:00  "
   ]
  },
  {
   "cell_type": "code",
   "execution_count": null,
   "metadata": {
    "hidden": true,
    "reveal": "5cgbv9vufgs"
   },
   "outputs": [],
   "source": [
    "//Second options:\n",
    "`ss$16:30:00\n",
    "`second$16:30:00  "
   ]
  },
  {
   "cell_type": "code",
   "execution_count": 19,
   "metadata": {
    "hidden": true
   },
   "outputs": [
    {
     "name": "stdout",
     "output_type": "stream",
     "text": [
      "59400i\n",
      "59400f\n",
      "16:30\n",
      "16:30:00\n"
     ]
    }
   ],
   "source": [
    "// Write your code here\n",
    "r:16:30:00\n",
    "$[`int;r]\n",
    "$[`float;r]\n",
    "$[`minute;r]\n",
    "$[`second;r]"
   ]
  },
  {
   "cell_type": "markdown",
   "metadata": {
    "heading_collapsed": true
   },
   "source": [
    "# Casting Textual data\n",
    "\n",
    "In kdb+/q there are two textual datatypes, Symbols and Strings (lists of characters). These need to be treated differently from other datatypes when casting either *to*, or *from* them. "
   ]
  },
  {
   "cell_type": "markdown",
   "metadata": {
    "heading_collapsed": true,
    "hidden": true
   },
   "source": [
    "## Strings \n",
    "Strings in kdb+/q are really just lists of characters."
   ]
  },
  {
   "cell_type": "code",
   "execution_count": 20,
   "metadata": {
    "hidden": true
   },
   "outputs": [
    {
     "name": "stdout",
     "output_type": "stream",
     "text": [
      "see?\n"
     ]
    }
   ],
   "source": [
    "\"s\",\"e\",\"e\",\"?\""
   ]
  },
  {
   "cell_type": "markdown",
   "metadata": {
    "heading_collapsed": true,
    "hidden": true
   },
   "source": [
    "### Casting *to* a String"
   ]
  },
  {
   "cell_type": "markdown",
   "metadata": {
    "hidden": true
   },
   "source": [
    "Casting to a string in kdb+/q is actually quite easy as there is a keyword [`string`](https://code.kx.com/q/ref/string/) which will cast any other type into it's string representation: "
   ]
  },
  {
   "cell_type": "code",
   "execution_count": 21,
   "metadata": {
    "hidden": true
   },
   "outputs": [
    {
     "name": "stdout",
     "output_type": "stream",
     "text": [
      "2025.02.17\n",
      "12\n",
      "12.01\n",
      "totallyASymbol\n"
     ]
    }
   ],
   "source": [
    "string .z.d\n",
    "string 12.0\n",
    "string 12.01     //note the difference from the one above!\n",
    "string `totallyASymbol"
   ]
  },
  {
   "cell_type": "code",
   "execution_count": 22,
   "metadata": {
    "hidden": true
   },
   "outputs": [
    {
     "name": "stdout",
     "output_type": "stream",
     "text": [
      "\"1000\"\n",
      "\"2000\"\n",
      "\"2020.01.01\"\n",
      "\"06:13:01.261\"\n"
     ]
    }
   ],
   "source": [
    "A:(1000;2000i;2020.01.01;.z.t);  /We can see A here is a general list, meaning it contains various datatypes\n",
    "string A"
   ]
  },
  {
   "cell_type": "markdown",
   "metadata": {
    "hidden": true,
    "reveal": "2h4svcp5bh5",
    "reveal-hidden": true
   },
   "source": [
    "##### Exercise\n",
    "Cast 1234 to a string"
   ]
  },
  {
   "cell_type": "code",
   "execution_count": null,
   "metadata": {
    "hidden": true,
    "reveal": "2h4svcp5bh5"
   },
   "outputs": [],
   "source": [
    "string 1234"
   ]
  },
  {
   "cell_type": "code",
   "execution_count": 23,
   "metadata": {
    "hidden": true
   },
   "outputs": [
    {
     "name": "stdout",
     "output_type": "stream",
     "text": [
      "1234\n"
     ]
    }
   ],
   "source": [
    "// Write your code here\n",
    "string 1234"
   ]
  },
  {
   "cell_type": "markdown",
   "metadata": {
    "heading_collapsed": true,
    "hidden": true
   },
   "source": [
    "### Casting *from* a String"
   ]
  },
  {
   "cell_type": "markdown",
   "metadata": {
    "hidden": true
   },
   "source": [
    "As a starting point, lets begin by trying to cast a string in the same way that we cast our other datatypes: "
   ]
  },
  {
   "cell_type": "code",
   "execution_count": 24,
   "metadata": {
    "hidden": true
   },
   "outputs": [
    {
     "name": "stdout",
     "output_type": "stream",
     "text": [
      "52 50 50 50 46 48 48 49f\n"
     ]
    }
   ],
   "source": [
    "`float$\"4222.001\"    //hmmmmm"
   ]
  },
  {
   "cell_type": "markdown",
   "metadata": {
    "hidden": true
   },
   "source": [
    "Here kdb+/q has treated the string as a vector of characters and cast each of the characters to their corresponding float value, as per their [ASCII representation](http://www.asciitable.com/)! "
   ]
  },
  {
   "cell_type": "markdown",
   "metadata": {
    "hidden": true
   },
   "source": [
    "Attempting to cast strings to symbols using the keyed words symbol or 11h will fail with the type error:"
   ]
  },
  {
   "cell_type": "code",
   "execution_count": 25,
   "metadata": {
    "hidden": true
   },
   "outputs": [
    {
     "ename": "QError",
     "evalue": "type",
     "output_type": "error",
     "traceback": [
      "\u001b[0;31m---------------------------------------------------------------------------\u001b[0m",
      "\u001b[0;31mQError\u001b[0m                                    Traceback (most recent call last)",
      "Cell \u001b[0;32mIn[25], line 1\u001b[0m\n\u001b[0;32m----> 1\u001b[0m \u001b[43mget_ipython\u001b[49m\u001b[43m(\u001b[49m\u001b[43m)\u001b[49m\u001b[38;5;241;43m.\u001b[39;49m\u001b[43mrun_cell_magic\u001b[49m\u001b[43m(\u001b[49m\u001b[38;5;124;43m'\u001b[39;49m\u001b[38;5;124;43mq\u001b[39;49m\u001b[38;5;124;43m'\u001b[39;49m\u001b[43m,\u001b[49m\u001b[43m \u001b[49m\u001b[38;5;124;43m'\u001b[39;49m\u001b[38;5;124;43m'\u001b[39;49m\u001b[43m,\u001b[49m\u001b[43m \u001b[49m\u001b[38;5;124;43m'\u001b[39;49m\u001b[38;5;124;43m`symbol$\u001b[39;49m\u001b[38;5;124;43m\"\u001b[39;49m\u001b[38;5;124;43m4222.001\u001b[39;49m\u001b[38;5;124;43m\"\u001b[39;49m\u001b[38;5;124;43m                 //Invalid syntax \u001b[39;49m\u001b[38;5;130;43;01m\\n\u001b[39;49;00m\u001b[38;5;124;43m'\u001b[39;49m\u001b[43m)\u001b[49m\n",
      "File \u001b[0;32m/opt/conda/lib/python3.11/site-packages/IPython/core/interactiveshell.py:2541\u001b[0m, in \u001b[0;36mInteractiveShell.run_cell_magic\u001b[0;34m(self, magic_name, line, cell)\u001b[0m\n\u001b[1;32m   2539\u001b[0m \u001b[38;5;28;01mwith\u001b[39;00m \u001b[38;5;28mself\u001b[39m\u001b[38;5;241m.\u001b[39mbuiltin_trap:\n\u001b[1;32m   2540\u001b[0m     args \u001b[38;5;241m=\u001b[39m (magic_arg_s, cell)\n\u001b[0;32m-> 2541\u001b[0m     result \u001b[38;5;241m=\u001b[39m \u001b[43mfn\u001b[49m\u001b[43m(\u001b[49m\u001b[38;5;241;43m*\u001b[39;49m\u001b[43margs\u001b[49m\u001b[43m,\u001b[49m\u001b[43m \u001b[49m\u001b[38;5;241;43m*\u001b[39;49m\u001b[38;5;241;43m*\u001b[39;49m\u001b[43mkwargs\u001b[49m\u001b[43m)\u001b[49m\n\u001b[1;32m   2543\u001b[0m \u001b[38;5;66;03m# The code below prevents the output from being displayed\u001b[39;00m\n\u001b[1;32m   2544\u001b[0m \u001b[38;5;66;03m# when using magics with decorator @output_can_be_silenced\u001b[39;00m\n\u001b[1;32m   2545\u001b[0m \u001b[38;5;66;03m# when the last Python token in the expression is a ';'.\u001b[39;00m\n\u001b[1;32m   2546\u001b[0m \u001b[38;5;28;01mif\u001b[39;00m \u001b[38;5;28mgetattr\u001b[39m(fn, magic\u001b[38;5;241m.\u001b[39mMAGIC_OUTPUT_CAN_BE_SILENCED, \u001b[38;5;28;01mFalse\u001b[39;00m):\n",
      "File \u001b[0;32m/opt/conda/lib/python3.11/site-packages/pykx/nbextension.py:181\u001b[0m, in \u001b[0;36mq\u001b[0;34m(instructions, code)\u001b[0m\n\u001b[1;32m    179\u001b[0m     \u001b[38;5;28;01mif\u001b[39;00m save:\n\u001b[1;32m    180\u001b[0m         \u001b[38;5;28mprint\u001b[39m(\u001b[38;5;124mf\u001b[39m\u001b[38;5;124m\"\u001b[39m\u001b[38;5;124mCell contents not saved to \u001b[39m\u001b[38;5;124m'\u001b[39m\u001b[38;5;132;01m{\u001b[39;00mpath\u001b[38;5;132;01m}\u001b[39;00m\u001b[38;5;124m'\u001b[39m\u001b[38;5;124m due to error during execution/saving.\u001b[39m\u001b[38;5;124m\"\u001b[39m)\n\u001b[0;32m--> 181\u001b[0m     \u001b[38;5;28;01mraise\u001b[39;00m e\n\u001b[1;32m    182\u001b[0m \u001b[38;5;28;01mfinally\u001b[39;00m:\n\u001b[1;32m    183\u001b[0m     \u001b[38;5;28;01mif\u001b[39;00m \u001b[38;5;28missubclass\u001b[39m(\u001b[38;5;28mtype\u001b[39m(_q), kx\u001b[38;5;241m.\u001b[39mQConnection):\n",
      "File \u001b[0;32m/opt/conda/lib/python3.11/site-packages/pykx/nbextension.py:169\u001b[0m, in \u001b[0;36mq\u001b[0;34m(instructions, code)\u001b[0m\n\u001b[1;32m    167\u001b[0m     \u001b[38;5;28;01mif\u001b[39;00m debug \u001b[38;5;129;01mor\u001b[39;00m kx\u001b[38;5;241m.\u001b[39mconfig\u001b[38;5;241m.\u001b[39mpykx_qdebug:\n\u001b[1;32m    168\u001b[0m         \u001b[38;5;28mprint\u001b[39m(r[\u001b[38;5;124m'\u001b[39m\u001b[38;5;124mtrc\u001b[39m\u001b[38;5;124m'\u001b[39m])\n\u001b[0;32m--> 169\u001b[0m     \u001b[38;5;28;01mraise\u001b[39;00m kx\u001b[38;5;241m.\u001b[39mQError(r[\u001b[38;5;124m'\u001b[39m\u001b[38;5;124mres\u001b[39m\u001b[38;5;124m'\u001b[39m]\u001b[38;5;241m.\u001b[39mpy()\u001b[38;5;241m.\u001b[39mdecode())\n\u001b[1;32m    170\u001b[0m \u001b[38;5;28;01melse\u001b[39;00m:\n\u001b[1;32m    171\u001b[0m     display(r[\u001b[38;5;124m'\u001b[39m\u001b[38;5;124mres\u001b[39m\u001b[38;5;124m'\u001b[39m]) \u001b[38;5;28;01mif\u001b[39;00m displayRet \u001b[38;5;28;01melse\u001b[39;00m \u001b[38;5;28mprint\u001b[39m(r[\u001b[38;5;124m'\u001b[39m\u001b[38;5;124mres\u001b[39m\u001b[38;5;124m'\u001b[39m])\n",
      "\u001b[0;31mQError\u001b[0m: type"
     ]
    }
   ],
   "source": [
    "`symbol$\"4222.001\"                 //Invalid syntax "
   ]
  },
  {
   "cell_type": "code",
   "execution_count": null,
   "metadata": {
    "hidden": true
   },
   "outputs": [],
   "source": [
    "11h$\"4222.001\"                     //Invalid syntax"
   ]
  },
  {
   "cell_type": "markdown",
   "metadata": {
    "hidden": true
   },
   "source": [
    "There is a special casting syntax we can use so kdb+/q will interpret the string as a whole to cast -  the capitalization of the character type representation: "
   ]
  },
  {
   "cell_type": "code",
   "execution_count": 26,
   "metadata": {
    "hidden": true
   },
   "outputs": [
    {
     "name": "stdout",
     "output_type": "stream",
     "text": [
      "4222.001\n"
     ]
    }
   ],
   "source": [
    "\"F\"$\"4222.001\""
   ]
  },
  {
   "cell_type": "markdown",
   "metadata": {
    "hidden": true
   },
   "source": [
    "In the following examples, we used the uppercase letter representing the data type we want returned as the first argument to the `$` operator to convert the second string input:"
   ]
  },
  {
   "cell_type": "code",
   "execution_count": 27,
   "metadata": {
    "hidden": true
   },
   "outputs": [
    {
     "name": "stdout",
     "output_type": "stream",
     "text": [
      "1000\n",
      "3283.192e\n",
      "09:10:15.888\n"
     ]
    }
   ],
   "source": [
    "\"J\"$\"1000\"         //Cast a string to a long\n",
    "\"E\"$\"3283.192\"     //Cast a string to a real\n",
    "\"T\"$\"09:10:15.888\" //Cast a string to a time"
   ]
  },
  {
   "cell_type": "markdown",
   "metadata": {
    "hidden": true
   },
   "source": [
    "<img src=\"../qbies.png\" width=\"50px\" style=\"width: 50px;padding-right:5px;padding-top:15px;padding-left:5px;\" align=\"left\"/>\n",
    "\n",
    "<p style='color:#273a6e'><i> Careful! In some cases kdb+/q can't interpret the whole string as a feasible representation of the chosen type, e.g. <code>\"J\"$\"120.00\"</code> - a whole number doesn't have any decimal points! If it encounters this situation it will return a null of the type we wanted to return - in this particular case <code>0N</code>. </i></p>"
   ]
  },
  {
   "cell_type": "markdown",
   "metadata": {
    "hidden": true,
    "reveal": "hmy4kvqk55n",
    "reveal-hidden": true
   },
   "source": [
    "##### Exercise  \n",
    "Cast the string “2020.01.01” to a date "
   ]
  },
  {
   "cell_type": "code",
   "execution_count": null,
   "metadata": {
    "hidden": true,
    "reveal": "hmy4kvqk55n"
   },
   "outputs": [],
   "source": [
    "\"D\"$\"2020.01.01\" //using uppercase to convert the string to date"
   ]
  },
  {
   "cell_type": "code",
   "execution_count": 28,
   "metadata": {
    "hidden": true
   },
   "outputs": [
    {
     "name": "stdout",
     "output_type": "stream",
     "text": [
      "2020.01.01\n"
     ]
    }
   ],
   "source": [
    "// Write your code here\n",
    "\"D\";\"2020.01.01\"\n"
   ]
  },
  {
   "cell_type": "markdown",
   "metadata": {
    "heading_collapsed": true,
    "hidden": true
   },
   "source": [
    "## Symbols\n",
    "Unlike strings, symbols in kdb+/q are not lists and are actually atomic items. "
   ]
  },
  {
   "cell_type": "markdown",
   "metadata": {
    "heading_collapsed": true,
    "hidden": true
   },
   "source": [
    "### Casting *to* a Symbol\n",
    "\n",
    "There is actually only *one* datatype that can be cast to a symbol and that is a string (aka a list of characters) ."
   ]
  },
  {
   "cell_type": "code",
   "execution_count": 29,
   "metadata": {
    "hidden": true
   },
   "outputs": [
    {
     "name": "stdout",
     "output_type": "stream",
     "text": [
      "2025.02.17\n",
      "15.499\n",
      "`IBM`MSFT`GOOG\n"
     ]
    }
   ],
   "source": [
    "`$ string .z.d\n",
    "$[`;string 15.499]\n",
    "\n",
    "y:(\"IBM\";\"MSFT\";\"GOOG\");`$y   //casting from strings"
   ]
  },
  {
   "cell_type": "markdown",
   "metadata": {
    "hidden": true,
    "reveal": "lv7eoa28adl",
    "reveal-hidden": true
   },
   "source": [
    "##### Exercise\n",
    "\n",
    "Cast the pi value (3.14159) to a symbol. "
   ]
  },
  {
   "cell_type": "code",
   "execution_count": null,
   "metadata": {
    "hidden": true,
    "reveal": "lv7eoa28adl"
   },
   "outputs": [],
   "source": [
    "`$string 3.14159"
   ]
  },
  {
   "cell_type": "code",
   "execution_count": 32,
   "metadata": {
    "hidden": true
   },
   "outputs": [
    {
     "name": "stdout",
     "output_type": "stream",
     "text": [
      "-11h\n"
     ]
    }
   ],
   "source": [
    "// Write your code here\n",
    "type $[`;string 3.14159]"
   ]
  },
  {
   "cell_type": "markdown",
   "metadata": {
    "heading_collapsed": true,
    "hidden": true
   },
   "source": [
    "### Casting *from* a Symbol\n",
    "In a similar way to casting to a symbol, there is only one type that a Symbol can be cast to - a String, again using the `string` command."
   ]
  },
  {
   "cell_type": "code",
   "execution_count": 33,
   "metadata": {
    "hidden": true
   },
   "outputs": [
    {
     "name": "stdout",
     "output_type": "stream",
     "text": [
      "\"IBM\"\n",
      "\"MSFT\"\n",
      "\"GOOG\"\n"
     ]
    }
   ],
   "source": [
    "string `IBM`MSFT`GOOG"
   ]
  },
  {
   "cell_type": "markdown",
   "metadata": {
    "hidden": true,
    "reveal": "ma2zbkgo4eh",
    "reveal-hidden": true
   },
   "source": [
    "##### Exercise\n",
    "Cast <code>\\`0\\`1\\`2\\`3</code> to a list of longs"
   ]
  },
  {
   "cell_type": "code",
   "execution_count": null,
   "metadata": {
    "hidden": true,
    "reveal": "ma2zbkgo4eh"
   },
   "outputs": [],
   "source": [
    "\"J\"$string `0`1`2`3"
   ]
  },
  {
   "cell_type": "code",
   "execution_count": 34,
   "metadata": {
    "hidden": true
   },
   "outputs": [
    {
     "name": "stdout",
     "output_type": "stream",
     "text": [
      ",\"0\"\n",
      ",\"1\"\n",
      ",\"2\"\n"
     ]
    }
   ],
   "source": [
    "// Write your code here\n",
    "a:`0`1`2\n",
    "string a"
   ]
  },
  {
   "cell_type": "code",
   "execution_count": null,
   "metadata": {},
   "outputs": [],
   "source": []
  }
 ],
 "metadata": {
  "jupytext": {
   "encoding": "/ -*- coding: utf-8 -*-",
   "text_representation": {
    "extension": ".q",
    "format_name": "light",
    "format_version": "1.5",
    "jupytext_version": "1.4.1"
   }
  },
  "kernelspec": {
   "display_name": "Python 3 (ipykernel)",
   "language": "python",
   "name": "python3"
  },
  "language_info": {
   "codemirror_mode": {
    "name": "ipython",
    "version": 3
   },
   "file_extension": ".py",
   "mimetype": "text/x-python",
   "name": "python",
   "nbconvert_exporter": "python",
   "pygments_lexer": "ipython3",
   "version": "3.11.10"
  },
  "toc": {
   "base_numbering": 1,
   "nav_menu": {},
   "number_sections": true,
   "sideBar": true,
   "skip_h1_title": false,
   "title_cell": "Table of Contents",
   "title_sidebar": "Contents",
   "toc_cell": false,
   "toc_position": {
    "height": "calc(100% - 180px)",
    "left": "10px",
    "top": "150px",
    "width": "384px"
   },
   "toc_section_display": true,
   "toc_window_display": true
  }
 },
 "nbformat": 4,
 "nbformat_minor": 4
}
