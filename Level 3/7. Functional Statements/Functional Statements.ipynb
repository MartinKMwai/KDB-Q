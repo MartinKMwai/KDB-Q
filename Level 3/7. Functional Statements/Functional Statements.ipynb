{
 "cells": [
  {
   "cell_type": "code",
   "execution_count": 3,
   "metadata": {
    "autorun": true,
    "editable": false,
    "jupyter": {
     "source_hidden": true
    },
    "tags": [
     "remove-cell"
    ]
   },
   "outputs": [
    {
     "name": "stdout",
     "output_type": "stream",
     "text": [
      "PyKX now running in 'python' mode (default). All cells by default will be run as python code. \n",
      "Include '%%q' at the beginning of each cell to run as q code. \n"
     ]
    }
   ],
   "source": [
    "#;.pykx.disableJupyter()"
   ]
  },
  {
   "cell_type": "code",
   "execution_count": 4,
   "metadata": {
    "autorun": true,
    "editable": false,
    "jupyter": {
     "source_hidden": true
    },
    "tags": [
     "remove-cell"
    ]
   },
   "outputs": [
    {
     "name": "stdout",
     "output_type": "stream",
     "text": [
      "PyKX now running in 'jupyter_qfirst' mode. All cells by default will be run as q code. \n",
      "Include '%%py' at the beginning of each cell to run as python code. \n"
     ]
    }
   ],
   "source": [
    "# https://code.kx.com/pykx/3.0/examples/jupyter-integration.html#q-first-mode\n",
    "import pykx as kx\n",
    "kx.util.jupyter_qfirst_enable()"
   ]
  },
  {
   "cell_type": "code",
   "execution_count": 5,
   "metadata": {},
   "outputs": [],
   "source": [
    "trade:([]time: 10000?.z.n; sym:10000?`JPM`GE`MSFT;size:10000?1000;price:10000?12.0;side:10000?`B`S;exchange:10000?`N`T`L);\n",
    "trade:update asc time from trade;\n",
    "\n",
    "quote: delete price, side, exchange from update sym: 10000?`JPM`GE`MSFT, time:asc 10000?.z.n, ask:price+10000?0.5, bid: price - 10000?0.55 from trade;"
   ]
  },
  {
   "cell_type": "markdown",
   "metadata": {},
   "source": [
    "**Learning Outcomes**\n",
    "\n",
    "To understand:\n",
    "* What are functional statements?\n",
    "* When to use a functional statement\n",
    "* Functional Parse trees\n",
    "* How to identify a functional statement \n",
    "* Functional forms of select, update, exec and delete\n"
   ]
  },
  {
   "cell_type": "markdown",
   "metadata": {
    "heading_collapsed": true,
    "jp-MarkdownHeadingCollapsed": true
   },
   "source": [
    "# Introduction\n",
    "[Functional qSQL](https://code.kx.com/q/basics/funsql/) statements are the functional forms associated with the qSQL queries that we are familiar with from the Queries module - namely `select`,`exec`,`delete` and `update`. They are particularly useful for generating dynamic queries, such as specifying particular column names for retrieval. \n",
    "\n",
    "|qSql query | Syntax | Purpose |\n",
    "|-------------|-------|-------|\n",
    "|select | ?[table;constraints;grouping;return cols] | returning a subset of a table in a table format|\n",
    "|select | ?[table;constraints;grouping;return cols;n] |select up to n records |\n",
    "|select | ?[table;constraints;grouping;return cols;n;(g;cn)] | select up to n records sorted by g on cn |\n",
    "|exec | ?[table;constraints;grouping;return cols] | returning a subset of a table in a list or dictionary format| \n",
    "|exec | ?[table;index;return cols] | Can retrieve specific rows from a table- another form of Exec |\n",
    "|update | ![table;constraints;grouping;return cols] | updating rows in a table |\n",
    "|delete | ![table;constraints;grouping;return cols] | deleting rows from a table |"
   ]
  },
  {
   "cell_type": "markdown",
   "metadata": {
    "hidden": true
   },
   "source": [
    "## Why use Functional qSQL?\n",
    "Fundamentally, functional forms allow us to create our queries programmatically so we can respond to variable inputs. This in turn allows us to produce more dynamic outputs i.e. return different table schemas depending on the input provided or running the same query over multiple tables. Eg. Getting close prices from multiple data sources. "
   ]
  },
  {
   "cell_type": "markdown",
   "metadata": {
    "hidden": true,
    "reveal": "5lbxzu9tq3v",
    "reveal-hidden": false
   },
   "source": [
    "Consider and discuss how you would do the below using functions and the qSQL statements you are already familiar with: \n",
    "\n",
    " ##### Group Exercises \n",
    "1. How would we write a function that takes a list of columns and returns data from our `trade` table?\n"
   ]
  },
  {
   "cell_type": "code",
   "execution_count": null,
   "metadata": {
    "hidden": true,
    "reveal": "5lbxzu9tq3v"
   },
   "outputs": [],
   "source": [
    "returnCols:{[columns] to_select: $[1<count columns;\",\"sv string columns;string columns];\n",
    "                query:\"select \",to_select,\" from trade\";\n",
    "                -1 \"Our query: \",query;\n",
    "                value query}\n",
    "\n",
    "returnCols[`price`time`sym]\n"
   ]
  },
  {
   "cell_type": "code",
   "execution_count": 10,
   "metadata": {
    "hidden": true
   },
   "outputs": [
    {
     "name": "stdout",
     "output_type": "stream",
     "text": [
      "price    time                 sym \n",
      "----------------------------------\n",
      "2.612327 0D00:00:00.004375310 JPM \n",
      "8.989    0D00:00:00.046089480 GE  \n",
      "5.550662 0D00:00:00.144635306 MSFT\n",
      "7.389787 0D00:00:00.165940544 JPM \n",
      "3.557074 0D00:00:00.175220678 MSFT\n",
      "price    time                 sym \n",
      "----------------------------------\n",
      "2.612327 0D00:00:00.004375310 JPM \n",
      "8.989    0D00:00:00.046089480 GE  \n",
      "5.550662 0D00:00:00.144635306 MSFT\n",
      "7.389787 0D00:00:00.165940544 JPM \n",
      "3.557074 0D00:00:00.175220678 MSFT\n",
      "7.154379 0D00:00:00.182020766 JPM \n",
      "9.207793 0D00:00:00.236256852 JPM \n",
      "9.338188 0D00:00:00.245483237 JPM \n",
      "6.18538  0D00:00:00.262837919 GE  \n",
      "9.724386 0D00:00:00.267904380 MSFT\n",
      "7.547554 0D00:00:00.275574979 JPM \n",
      "2.215053 0D00:00:00.277730277 JPM \n",
      "3.585405 0D00:00:00.284491743 JPM \n",
      "9.465283 0D00:00:00.285450072 GE  \n",
      "3.626004 0D00:00:00.295165534 GE  \n",
      "9.554201 0D00:00:00.310365260 JPM \n",
      "10.72355 0D00:00:00.323367932 JPM \n",
      "6.345187 0D00:00:00.341562921 GE  \n",
      "4.040299 0D00:00:00.351501211 GE  \n",
      "2.552804 0D00:00:00.420723251 MSFT\n",
      "..\n",
      "Our query: select price,time,sym from trade\n"
     ]
    }
   ],
   "source": [
    "//your answer here \n",
    "//cols trade\n",
    "5#select price, time, sym from trade\n",
    "\n",
    "returnCols:{[columns] to_select: $[1<count columns;\",\"sv string columns;string columns];\n",
    "                query:\"select \",to_select,\" from trade\";\n",
    "                -1 \"Our query: \",query;\n",
    "                value query}\n",
    "\n",
    "returnCols[`price`time`sym]"
   ]
  },
  {
   "cell_type": "markdown",
   "metadata": {
    "hidden": true,
    "reveal": "zmxkpk38mo",
    "reveal-hidden": false
   },
   "source": [
    "2. How would we modify that function to allow users to define aggregations for each column? e.g. average price, min size etc."
   ]
  },
  {
   "cell_type": "code",
   "execution_count": null,
   "metadata": {
    "hidden": true,
    "reveal": "zmxkpk38mo"
   },
   "outputs": [],
   "source": [
    "returnColswAggs:{[columns;aggregations] \n",
    "                pairs: aggregations,'columns;\n",
    "                metrics: \" \" sv' string pairs; \n",
    "                colNames: `$\"_\" sv' string pairs;\n",
    "                to_select: $[1<count metrics;\",\" sv metrics; metrics];\n",
    "                query:\"select \",to_select,\" from trade\";\n",
    "                -1 \"Our query: `\",(\"`\" sv string[colNames]),\" xcol \",query;\n",
    "                colNames xcol value query}\n",
    "\n",
    "returnColswAggs[`price`size;(avg;max)]"
   ]
  },
  {
   "cell_type": "code",
   "execution_count": 9,
   "metadata": {
    "hidden": true
   },
   "outputs": [
    {
     "name": "stdout",
     "output_type": "stream",
     "text": [
      "avg_price max_size\n",
      "------------------\n",
      "5.995963  999     \n",
      "Our query: `avg_price`max_size xcol select avg price,max size from trade\n"
     ]
    }
   ],
   "source": [
    "//your answer here \n",
    "\n",
    "returnColswAggs:{[columns;aggregations] \n",
    "                pairs: aggregations,'columns;\n",
    "                metrics: \" \" sv' string pairs; \n",
    "                colNames: `$\"_\" sv' string pairs;\n",
    "                to_select: $[1<count metrics;\",\" sv metrics; metrics];\n",
    "                query:\"select \",to_select,\" from trade\";\n",
    "                -1 \"Our query: `\",(\"`\" sv string[colNames]),\" xcol \",query;\n",
    "                colNames xcol value query}\n",
    "\n",
    "returnColswAggs[`price`size;(avg;max)]"
   ]
  },
  {
   "cell_type": "markdown",
   "metadata": {
    "heading_collapsed": true,
    "hidden": true
   },
   "source": [
    "## Refresher: Functional forms and the `parse` tree\n",
    "Before we look at how to construct a functional statement, we will discuss functional forms and specifically the keyword [`parse`](https://code.kx.com/v2/ref/parse/#q-sql) which allows us view any q statement in it's functional form."
   ]
  },
  {
   "cell_type": "markdown",
   "metadata": {
    "hidden": true
   },
   "source": [
    "`parse` takes a string as input and returns the corresponding \"parse tree\", which is what the compiler uses in order to execute the code. These can be evaluated using [`value`](https://code.kx.com/q/ref/value/) or [`eval`](https://code.kx.com/q/ref/eval/)."
   ]
  },
  {
   "cell_type": "code",
   "execution_count": 11,
   "metadata": {
    "hidden": true
   },
   "outputs": [
    {
     "name": "stdout",
     "output_type": "stream",
     "text": [
      "4\n",
      "1.75\n"
     ]
    }
   ],
   "source": [
    "+[2;2]                               //2+2\n",
    "wavg[10 10 20;2 3 1]                 //10 10 20 wavg 2 3 1 "
   ]
  },
  {
   "cell_type": "code",
   "execution_count": 14,
   "metadata": {
    "hidden": true
   },
   "outputs": [
    {
     "name": "stdout",
     "output_type": "stream",
     "text": [
      "4\n",
      "1b\n"
     ]
    }
   ],
   "source": [
    "value parse \"2+2\"\n",
    "(+;2;2)~parse \"2+2\""
   ]
  },
  {
   "cell_type": "code",
   "execution_count": 13,
   "metadata": {
    "hidden": true
   },
   "outputs": [
    {
     "name": "stdout",
     "output_type": "stream",
     "text": [
      "4\n",
      "4\n"
     ]
    }
   ],
   "source": [
    "value (+;2;2)\n",
    "eval (+;2;2)"
   ]
  },
  {
   "cell_type": "markdown",
   "metadata": {
    "hidden": true
   },
   "source": [
    "Functional form is a listing of operators and their arguments in **implementation order**: "
   ]
  },
  {
   "cell_type": "code",
   "execution_count": 17,
   "metadata": {
    "hidden": true
   },
   "outputs": [
    {
     "name": "stdout",
     "output_type": "stream",
     "text": [
      "*\n",
      "2\n",
      "(-;4;(%;2;(#;-2;1 2 3 4 5)))\n"
     ]
    }
   ],
   "source": [
    "parse\"2*4-2% -2# 1 2 3 4 5\""
   ]
  },
  {
   "cell_type": "markdown",
   "metadata": {
    "hidden": true
   },
   "source": [
    "So looking at the second line of the above, and starting from the inside out we have `(#;-2;1 2 3 4 5)`. This is at the deepest level of nesting and so is performed first. The result of that is then used with `%` to divide two and so the operation continues.  "
   ]
  },
  {
   "cell_type": "markdown",
   "metadata": {
    "hidden": true,
    "reveal": "5mzo1lclv13",
    "reveal-hidden": false
   },
   "source": [
    "##### Exercise \n",
    "\n",
    "Write the parse trees for the following commands:\n",
    "\n",
    "* (7*2+3)%2 [returns 17.5]\n",
    "\n",
    "Each should return the value as indicated when evaluated with `eval`. "
   ]
  },
  {
   "cell_type": "code",
   "execution_count": null,
   "metadata": {
    "hidden": true,
    "reveal": "5mzo1lclv13"
   },
   "outputs": [],
   "source": [
    "eval(%;(*;7;(+;2;3));2)  //last operation is the division, after that *, then + \n",
    "eval parse\"(7*2+3)%2\""
   ]
  },
  {
   "cell_type": "code",
   "execution_count": 19,
   "metadata": {
    "hidden": true
   },
   "outputs": [
    {
     "name": "stdout",
     "output_type": "stream",
     "text": [
      "%\n",
      "(*;7;(+;2;3))\n",
      "2\n"
     ]
    }
   ],
   "source": [
    "/your answer here \n",
    "parse \"(7*2+3)%2\""
   ]
  },
  {
   "cell_type": "markdown",
   "metadata": {
    "hidden": true,
    "reveal": "sqhrys1t4g",
    "reveal-hidden": false
   },
   "source": [
    "Can you write these parse trees as standard q expressions? (evaluating the parse should match your answer) \n",
    "* (wavg;1 2 3;(til;3))\n",
    "* ((';,);\"abc\";1 2 3) "
   ]
  },
  {
   "cell_type": "code",
   "execution_count": 24,
   "metadata": {
    "hidden": true,
    "reveal": "sqhrys1t4g"
   },
   "outputs": [
    {
     "name": "stdout",
     "output_type": "stream",
     "text": [
      "1.333333\n",
      "1.333333\n"
     ]
    }
   ],
   "source": [
    "1 2 3 wavg til 3\n",
    "eval (wavg;1 2 3;(til;3))"
   ]
  },
  {
   "cell_type": "code",
   "execution_count": null,
   "metadata": {
    "hidden": true,
    "reveal": "sqhrys1t4g"
   },
   "outputs": [],
   "source": [
    "\"abc\",'1 2 3\n",
    "eval ((';,);\"abc\";1 2 3) //we can see here that an iterator is a function that takes as input another function "
   ]
  },
  {
   "cell_type": "code",
   "execution_count": 23,
   "metadata": {
    "hidden": true
   },
   "outputs": [
    {
     "name": "stdout",
     "output_type": "stream",
     "text": [
      "1.333333\n",
      "\"a\" 1\n",
      "\"b\" 2\n",
      "\"c\" 3\n"
     ]
    }
   ],
   "source": [
    "//your answer here \n",
    "1 2 3 wavg til 3\n",
    "\n",
    "\"abc\", '1 2 3 "
   ]
  },
  {
   "cell_type": "markdown",
   "metadata": {
    "heading_collapsed": true,
    "jp-MarkdownHeadingCollapsed": true
   },
   "source": [
    "# Basic Functional form of qSQL \n",
    "Each qSQL query is one of four types of commands - either `select`,`exec`,`update` or `delete`. They all conform to the format we've seen above, where for example the first input is always table, the second always related to the where clause etc. However, the types of the inputs for the by clause and return clause differ between forms. "
   ]
  },
  {
   "cell_type": "markdown",
   "metadata": {
    "hidden": true
   },
   "source": [
    "Basic Form structure follows every other function in kdb+: \n",
    "\n",
    "    query_function[tableToQuery;whereClause;byClause;returnClause]\n",
    "   \n",
    "* `query_function` - A `select` or `exec` query uses the `?` operator. A `delete` and `update` statement uses the `!` operator\n",
    "* `tableToQuery` - The table to query\n",
    "* `whereClause` - Any filters to be applied to the table are included here as a list of functional forms\n",
    "* `byClause` - Any groupings to be applied \n",
    "* `returnClause`- The columns to be returned and any operations to be performed on them\n"
   ]
  },
  {
   "cell_type": "markdown",
   "metadata": {
    "hidden": true,
    "reveal": "6wn40ht7ldg",
    "reveal-hidden": false
   },
   "source": [
    "##### Exercise\n",
    "Convert the qSQL statement `\"select from trade\"` to the equivalent functional form and verify these match. (Hint: Use `parse`)"
   ]
  },
  {
   "cell_type": "code",
   "execution_count": null,
   "metadata": {
    "hidden": true,
    "reveal": "6wn40ht7ldg"
   },
   "outputs": [],
   "source": [
    "parse \"select from trade\""
   ]
  },
  {
   "cell_type": "code",
   "execution_count": null,
   "metadata": {
    "hidden": true,
    "reveal": "6wn40ht7ldg"
   },
   "outputs": [],
   "source": [
    "?[trade;();0b;()]\n",
    "?[trade;();0b;()]~select from trade  //congratulations! you just wrote you first functional select! "
   ]
  },
  {
   "cell_type": "code",
   "execution_count": 29,
   "metadata": {
    "hidden": true
   },
   "outputs": [
    {
     "name": "stdout",
     "output_type": "stream",
     "text": [
      "time                 sym  size price    side exchange\n",
      "-----------------------------------------------------\n",
      "0D00:00:00.004375310 JPM  273  2.612327 B    N       \n",
      "0D00:00:00.046089480 GE   16   8.989    S    N       \n",
      "0D00:00:00.144635306 MSFT 57   5.550662 B    N       \n",
      "0D00:00:00.165940544 JPM  606  7.389787 S    T       \n",
      "0D00:00:00.175220678 MSFT 288  3.557074 S    T       \n",
      "0D00:00:00.182020766 JPM  101  7.154379 B    T       \n",
      "0D00:00:00.236256852 JPM  508  9.207793 B    N       \n",
      "0D00:00:00.245483237 JPM  177  9.338188 B    N       \n",
      "0D00:00:00.262837919 GE   879  6.18538  B    L       \n",
      "0D00:00:00.267904380 MSFT 131  9.724386 B    N       \n",
      "0D00:00:00.275574979 JPM  395  7.547554 S    T       \n",
      "0D00:00:00.277730277 JPM  676  2.215053 B    L       \n",
      "0D00:00:00.284491743 JPM  467  3.585405 S    N       \n",
      "0D00:00:00.285450072 GE   999  9.465283 S    N       \n",
      "0D00:00:00.295165534 GE   371  3.626004 S    T       \n",
      "0D00:00:00.310365260 JPM  453  9.554201 B    N       \n",
      "0D00:00:00.323367932 JPM  798  10.72355 S    N       \n",
      "0D00:00:00.341562921 GE   757  6.345187 B    T       \n",
      "0D00:00:00.351501211 GE   882  4.040299 S    L       \n",
      "0D00:00:00.420723251 MSFT 321  2.552804 B    N       \n",
      "..\n",
      "time                 sym  size price    side exchange\n",
      "-----------------------------------------------------\n",
      "0D00:00:00.004375310 JPM  273  2.612327 B    N       \n",
      "0D00:00:00.046089480 GE   16   8.989    S    N       \n",
      "0D00:00:00.144635306 MSFT 57   5.550662 B    N       \n",
      "0D00:00:00.165940544 JPM  606  7.389787 S    T       \n",
      "0D00:00:00.175220678 MSFT 288  3.557074 S    T       \n",
      "0D00:00:00.182020766 JPM  101  7.154379 B    T       \n",
      "0D00:00:00.236256852 JPM  508  9.207793 B    N       \n",
      "0D00:00:00.245483237 JPM  177  9.338188 B    N       \n",
      "0D00:00:00.262837919 GE   879  6.18538  B    L       \n",
      "0D00:00:00.267904380 MSFT 131  9.724386 B    N       \n",
      "0D00:00:00.275574979 JPM  395  7.547554 S    T       \n",
      "0D00:00:00.277730277 JPM  676  2.215053 B    L       \n",
      "0D00:00:00.284491743 JPM  467  3.585405 S    N       \n",
      "0D00:00:00.285450072 GE   999  9.465283 S    N       \n",
      "0D00:00:00.295165534 GE   371  3.626004 S    T       \n",
      "0D00:00:00.310365260 JPM  453  9.554201 B    N       \n",
      "0D00:00:00.323367932 JPM  798  10.72355 S    N       \n",
      "0D00:00:00.341562921 GE   757  6.345187 B    T       \n",
      "0D00:00:00.351501211 GE   882  4.040299 S    L       \n",
      "0D00:00:00.420723251 MSFT 321  2.552804 B    N       \n",
      "..\n"
     ]
    }
   ],
   "source": [
    "//your answer here \n",
    "?[trade;();0b;()]\n",
    "value parse \"select from trade\""
   ]
  },
  {
   "cell_type": "markdown",
   "metadata": {
    "hidden": true,
    "reveal": "270bogkr0vj",
    "reveal-hidden": true
   },
   "source": [
    "Convert the qSQL statement `\"exec from trade\"` to the equivalent functional form and verify these match. "
   ]
  },
  {
   "cell_type": "code",
   "execution_count": null,
   "metadata": {
    "hidden": true,
    "reveal": "270bogkr0vj"
   },
   "outputs": [],
   "source": [
    "parse \"exec from trade\""
   ]
  },
  {
   "cell_type": "code",
   "execution_count": null,
   "metadata": {
    "hidden": true,
    "reveal": "270bogkr0vj"
   },
   "outputs": [],
   "source": [
    "?[trade;();();()]"
   ]
  },
  {
   "cell_type": "code",
   "execution_count": 32,
   "metadata": {
    "hidden": true
   },
   "outputs": [
    {
     "name": "stdout",
     "output_type": "stream",
     "text": [
      "time    | 0D00:03:30.246117086\n",
      "sym     | `MSFT\n",
      "size    | 714\n",
      "price   | 7.733435\n",
      "side    | `B\n",
      "exchange| `L\n",
      "time    | 0D00:03:30.246117086\n",
      "sym     | `MSFT\n",
      "size    | 714\n",
      "price   | 7.733435\n",
      "side    | `B\n",
      "exchange| `L\n"
     ]
    }
   ],
   "source": [
    "//your answer here \n",
    "?[trade;();();()]\n",
    "eval parse \"exec from trade\""
   ]
  },
  {
   "cell_type": "code",
   "execution_count": 33,
   "metadata": {},
   "outputs": [
    {
     "name": "stdout",
     "output_type": "stream",
     "text": [
      "time    | 0D00:03:30.246117086\n",
      "sym     | `MSFT\n",
      "size    | 714\n",
      "price   | 7.733435\n",
      "side    | `B\n",
      "exchange| `L\n"
     ]
    }
   ],
   "source": [
    "exec from trade"
   ]
  },
  {
   "cell_type": "markdown",
   "metadata": {
    "hidden": true,
    "reveal": "bzyg35uodbo",
    "reveal-hidden": true
   },
   "source": [
    "What (if any) difference did you notice between the `exec` and `select` statements?"
   ]
  },
  {
   "cell_type": "markdown",
   "metadata": {
    "hidden": true,
    "reveal": "bzyg35uodbo"
   },
   "source": [
    "The third parameter in the statements differs! Is is actually the type of the third argument that determines if the statement is to be interpreted as either a `select` or `exec` query."
   ]
  },
  {
   "cell_type": "code",
   "execution_count": null,
   "metadata": {
    "hidden": true
   },
   "outputs": [],
   "source": [
    "//your answer here \n",
    "//The type of the third entry differs, and that then determines whether we have a select statement or an exec statement."
   ]
  },
  {
   "cell_type": "markdown",
   "metadata": {
    "heading_collapsed": true
   },
   "source": [
    "# Functional `select`\n",
    "In this section we will discuss how to write some `select` qSQL queries in their functional form and provide a detailed overview of the inputs to the functional form."
   ]
  },
  {
   "cell_type": "markdown",
   "metadata": {
    "hidden": true
   },
   "source": [
    "We have already seen the most simple implementation of a functional select: "
   ]
  },
  {
   "cell_type": "code",
   "execution_count": null,
   "metadata": {
    "hidden": true
   },
   "outputs": [],
   "source": [
    "select from trade        //selecting all columns with no constraints or groupingretffg"
   ]
  },
  {
   "cell_type": "code",
   "execution_count": null,
   "metadata": {
    "hidden": true
   },
   "outputs": [],
   "source": [
    "parse\"select from trade\" //functional form"
   ]
  },
  {
   "cell_type": "code",
   "execution_count": null,
   "metadata": {
    "hidden": true
   },
   "outputs": [],
   "source": [
    "t:trade\n",
    "whereClause:()                     //there are no constraints\n",
    "byClause:0b                        //there are no groupings \n",
    "returnClause:()                    //no specific column returns required\n",
    "?[t;whereClause;byClause;returnClause] "
   ]
  },
  {
   "cell_type": "markdown",
   "metadata": {
    "hidden": true
   },
   "source": [
    "## Constraints (or where) clause \n",
    "Constraints are provided as a list of parse trees - each parse tree corresponds to a where clause which will act as a filter on the table."
   ]
  },
  {
   "cell_type": "markdown",
   "metadata": {
    "hidden": true
   },
   "source": [
    "<img src=\"../images/qbies.png\" style=\"width: 50px;padding-right:5px;padding-top:15px;padding-left:5px;\" align=\"left\"/>\n",
    "\n",
    "<p style='color:#273a6e'><i> The constraints are applied in order of appearance and so it's important to order them from most restrictive to least! Always start with any partition clauses first. </i></p>"
   ]
  },
  {
   "cell_type": "code",
   "execution_count": 34,
   "metadata": {
    "hidden": true
   },
   "outputs": [
    {
     "name": "stdout",
     "output_type": "stream",
     "text": [
      "time                 sym  size price    side exchange\n",
      "-----------------------------------------------------\n",
      "0D00:00:00.285450072 GE   999  9.465283 S    N       \n",
      "0D00:00:16.485706534 GE   999  5.431377 B    N       \n",
      "0D00:00:45.917069091 JPM  999  9.891391 B    L       \n",
      "0D00:01:18.988498302 JPM  999  6.174487 S    L       \n",
      "0D00:01:38.668940517 JPM  999  2.613197 S    L       \n",
      "0D00:01:50.559914232 GE   999  10.56602 B    T       \n",
      "0D00:02:17.129404855 MSFT 999  6.893306 B    L       \n",
      "0D00:02:33.706903582 MSFT 999  10.964   B    N       \n"
     ]
    }
   ],
   "source": [
    "select from trade where size>998 //filtering by size"
   ]
  },
  {
   "cell_type": "markdown",
   "metadata": {
    "hidden": true
   },
   "source": [
    "We can first look at the `parse` tree: "
   ]
  },
  {
   "cell_type": "code",
   "execution_count": 35,
   "metadata": {
    "hidden": true
   },
   "outputs": [
    {
     "name": "stdout",
     "output_type": "stream",
     "text": [
      "?\n",
      "`trade\n",
      ",,(>;`size;998)\n",
      "0b\n",
      "()\n"
     ]
    }
   ],
   "source": [
    "parse\"select from trade where size>998\" "
   ]
  },
  {
   "cell_type": "markdown",
   "metadata": {
    "hidden": true
   },
   "source": [
    "<img src=\"../images/qbies.png\" style=\"width: 50px;padding-right:5px;padding-top:10px;padding-left:5px;\" align=\"left\"/>\n",
    "\n",
    "<p style='color:#273a6e'><i> In the statement above we see an ever present <code>,</code> that accompanies the constraints clause of a functional query when a where clause is present. The secondary <code>,</code> indicates we need to <code>enlist</code> our where clause to conform to the expected format, a list of parse trees. </i></p>"
   ]
  },
  {
   "cell_type": "code",
   "execution_count": 36,
   "metadata": {
    "hidden": true
   },
   "outputs": [
    {
     "name": "stdout",
     "output_type": "stream",
     "text": [
      "notAList\n",
      ",`oneItemList\n"
     ]
    }
   ],
   "source": [
    "//we also see this when we look at the output format for a list of size one \n",
    "`notAList\n",
    "enlist `oneItemList //this has a leading comma to indicate it is a list and not a singular item"
   ]
  },
  {
   "cell_type": "markdown",
   "metadata": {
    "hidden": true
   },
   "source": [
    "We can look at the parse tree of our where clauses individually for clarity and particularly if they are complex."
   ]
  },
  {
   "cell_type": "code",
   "execution_count": 37,
   "metadata": {
    "hidden": true
   },
   "outputs": [
    {
     "name": "stdout",
     "output_type": "stream",
     "text": [
      ">\n",
      "`size\n",
      "998\n"
     ]
    }
   ],
   "source": [
    "parse \"size > 998\"  "
   ]
  },
  {
   "cell_type": "markdown",
   "metadata": {
    "hidden": true
   },
   "source": [
    "Working from our previous statement, our `whereClause` argument must be amended so we can filter by size."
   ]
  },
  {
   "cell_type": "code",
   "execution_count": 39,
   "metadata": {
    "hidden": true
   },
   "outputs": [
    {
     "name": "stdout",
     "output_type": "stream",
     "text": [
      "time                 sym  size price    side exchange\n",
      "-----------------------------------------------------\n",
      "0D00:00:00.285450072 GE   999  9.465283 S    N       \n",
      "0D00:00:16.485706534 GE   999  5.431377 B    N       \n",
      "0D00:00:45.917069091 JPM  999  9.891391 B    L       \n",
      "0D00:01:18.988498302 JPM  999  6.174487 S    L       \n",
      "0D00:01:38.668940517 JPM  999  2.613197 S    L       \n",
      "0D00:01:50.559914232 GE   999  10.56602 B    T       \n",
      "0D00:02:17.129404855 MSFT 999  6.893306 B    L       \n",
      "0D00:02:33.706903582 MSFT 999  10.964   B    N       \n"
     ]
    }
   ],
   "source": [
    "t:trade\n",
    "whereClause:enlist(>;`size;998)     //parse tree of \"size>998\" - making it a list of parse trees\n",
    "byClause:0b                         //there is no grouping\n",
    "returnClause:()                     //no specific column returns required\n",
    "\n",
    "//?[t;whereClause;byClause;returnClause] \n",
    "?[trade;enlist(>;`size;998);0b;()]"
   ]
  },
  {
   "cell_type": "markdown",
   "metadata": {
    "hidden": true
   },
   "source": [
    "If we add another constraint to our where clause we will not need to use `enlist` (as we will already be providing a list of parse trees)."
   ]
  },
  {
   "cell_type": "markdown",
   "metadata": {
    "hidden": true,
    "reveal": "y551eegyay9",
    "reveal-hidden": false
   },
   "source": [
    " ##### Exercise \n",
    "Convert the qSQL statement below to a functional qSQL statement: \n",
    "    \n",
    "    select from trade where size > 998, time < 09:00  "
   ]
  },
  {
   "cell_type": "code",
   "execution_count": null,
   "metadata": {
    "hidden": true,
    "reveal": "y551eegyay9"
   },
   "outputs": [],
   "source": [
    "//to begin we parse to see the functional form: \n",
    "parse \"select from trade where size>998, time < 09:00\""
   ]
  },
  {
   "cell_type": "code",
   "execution_count": null,
   "metadata": {
    "hidden": true,
    "reveal": "y551eegyay9"
   },
   "outputs": [],
   "source": [
    "//adding the x\n",
    "t:trade\n",
    "whereClause:((>;`size;998);(<;`time;09:00))   \n",
    "byClause:0b                         \n",
    "returnClause:()\n",
    "\n",
    "?[t;whereClause;byClause;returnClause] "
   ]
  },
  {
   "cell_type": "code",
   "execution_count": null,
   "metadata": {
    "hidden": true,
    "reveal": "y551eegyay9"
   },
   "outputs": [],
   "source": [
    "select from trade where size>998, time < 09:00"
   ]
  },
  {
   "cell_type": "code",
   "execution_count": 43,
   "metadata": {
    "hidden": true
   },
   "outputs": [
    {
     "name": "stdout",
     "output_type": "stream",
     "text": [
      "?\n",
      "`trade\n",
      ",((>;`size;998);(<;`time;09:00))\n",
      "0b\n",
      "()\n"
     ]
    }
   ],
   "source": [
    "//your answer here \n",
    "parse \"select from trade where size > 998, time < 09:00 \""
   ]
  },
  {
   "cell_type": "code",
   "execution_count": 50,
   "metadata": {},
   "outputs": [
    {
     "name": "stdout",
     "output_type": "stream",
     "text": [
      "time                 sym  size price    side exchange\n",
      "-----------------------------------------------------\n",
      "0D00:00:00.285450072 GE   999  9.465283 S    N       \n",
      "0D00:00:16.485706534 GE   999  5.431377 B    N       \n",
      "0D00:00:45.917069091 JPM  999  9.891391 B    L       \n",
      "0D00:01:18.988498302 JPM  999  6.174487 S    L       \n",
      "0D00:01:38.668940517 JPM  999  2.613197 S    L       \n",
      "0D00:01:50.559914232 GE   999  10.56602 B    T       \n",
      "0D00:02:17.129404855 MSFT 999  6.893306 B    L       \n",
      "0D00:02:33.706903582 MSFT 999  10.964   B    N       \n"
     ]
    }
   ],
   "source": [
    "?[trade;((>;`size;998);(<;`time;09:00));0b;()]"
   ]
  },
  {
   "cell_type": "markdown",
   "metadata": {
    "hidden": true
   },
   "source": [
    "### Constraints using symbols"
   ]
  },
  {
   "cell_type": "markdown",
   "metadata": {
    "hidden": true
   },
   "source": [
    "Let's now look at an example where we want to use a symbol within our query constraint:"
   ]
  },
  {
   "cell_type": "code",
   "execution_count": 51,
   "metadata": {
    "hidden": true
   },
   "outputs": [
    {
     "name": "stdout",
     "output_type": "stream",
     "text": [
      "?\n",
      "`trade\n",
      ",((=;`sym;,`JPM);(>;`size;998))\n",
      "0b\n",
      "()\n"
     ]
    }
   ],
   "source": [
    "parse \"select from trade where sym=`JPM,size>998\""
   ]
  },
  {
   "cell_type": "markdown",
   "metadata": {
    "hidden": true
   },
   "source": [
    "Here we can see another `,` appearing, this time before <code>\\`JPM</code>!"
   ]
  },
  {
   "cell_type": "markdown",
   "metadata": {
    "hidden": true
   },
   "source": [
    "<img src=\"../images/qbies.png\" style=\"width: 50px;padding-right:5px;padding-top:10px;padding-left:5px;\" align=\"left\"/>\n",
    "\n",
    "<p style='color:#273a6e'><i>Within parse trees, we need a way to distinguish between symbols as a type and symbolic variable names to be evaluated. We enlist when we want the statement to interpret symbols as a literal rather than as a variable. </i></p>"
   ]
  },
  {
   "cell_type": "code",
   "execution_count": 52,
   "metadata": {
    "hidden": true
   },
   "outputs": [
    {
     "name": "stdout",
     "output_type": "stream",
     "text": [
      "time                 sym size price    side exchange\n",
      "----------------------------------------------------\n",
      "0D00:00:45.917069091 JPM 999  9.891391 B    L       \n",
      "0D00:01:18.988498302 JPM 999  6.174487 S    L       \n",
      "0D00:01:38.668940517 JPM 999  2.613197 S    L       \n"
     ]
    }
   ],
   "source": [
    "t:trade\n",
    "whereClause:((=;`sym;enlist `JPM);(>;`size;998))   \n",
    "byClause:0b                         \n",
    "returnClause:() \n",
    "\n",
    "?[t;whereClause;byClause;returnClause] "
   ]
  },
  {
   "cell_type": "markdown",
   "metadata": {
    "hidden": true
   },
   "source": [
    "Notice the difference in the below statement where we instead use a reference to a variable we have defined:"
   ]
  },
  {
   "cell_type": "code",
   "execution_count": 89,
   "metadata": {
    "hidden": true
   },
   "outputs": [
    {
     "name": "stdout",
     "output_type": "stream",
     "text": [
      "?\n",
      "`trade\n",
      ",((=;`sym;,`JPM);(>;`size;998))\n",
      "0b\n",
      "()\n"
     ]
    }
   ],
   "source": [
    "myVariable:`JPM\n",
    "parse \"select from trade where sym=`JPM,size>998\""
   ]
  },
  {
   "cell_type": "code",
   "execution_count": 54,
   "metadata": {
    "hidden": true
   },
   "outputs": [
    {
     "name": "stdout",
     "output_type": "stream",
     "text": [
      "time                 sym size price    side exchange\n",
      "----------------------------------------------------\n",
      "0D00:00:45.917069091 JPM 999  9.891391 B    L       \n",
      "0D00:01:18.988498302 JPM 999  6.174487 S    L       \n",
      "0D00:01:38.668940517 JPM 999  2.613197 S    L       \n"
     ]
    }
   ],
   "source": [
    "t:trade\n",
    "whereClause:((=;`sym;`myVariable);(>;`size;998))     //without the enlist, the symbol is interpreted as a variable\n",
    "byClause:0b                         \n",
    "returnClause:() \n",
    "\n",
    "?[t;whereClause;byClause;returnClause]"
   ]
  },
  {
   "cell_type": "markdown",
   "metadata": {
    "hidden": true
   },
   "source": [
    "<img src=\"../images/qbies.png\" style=\"width: 50px;padding-right:5px;padding-top:20px;padding-left:5px;\" align=\"left\"/>\n",
    "\n",
    "<p style='color:#273a6e'><i> When kdb+/q is looking for a variable, it first \"looks\" for it within the table scope, next in the scope of the function (if called within a function), finally it will look in the global scope. If kdb+/q can't resolve the variable, it will repeat it back to you as an error! Further detail and examples of this in the <b>Practical Guidance</b> notebook.</i></p>"
   ]
  },
  {
   "cell_type": "markdown",
   "metadata": {
    "hidden": true
   },
   "source": [
    "It can be tricky sometimes to figure out these statements, but this will definitely come with practice! Thankfully we can use `parse` as a cheat function to help us form these statements in the meantime."
   ]
  },
  {
   "cell_type": "markdown",
   "metadata": {
    "hidden": true,
    "reveal": "eoxpx9pp317",
    "reveal-hidden": false
   },
   "source": [
    "##### Exercise\n",
    "\n",
    "Write a functional `select` statement using the table `trade`  -  apply the following filters:\n",
    "* The sym is either <code>\\`JPM</code> or <code>\\`MSFT</code> \n",
    "* The trade size is less than 200\n",
    "* The price is between 4 and 10"
   ]
  },
  {
   "cell_type": "code",
   "execution_count": 76,
   "metadata": {
    "hidden": true,
    "reveal": "eoxpx9pp317"
   },
   "outputs": [
    {
     "name": "stdout",
     "output_type": "stream",
     "text": [
      "?\n",
      "`trade\n",
      ",((in;`sym;,`JPM`MSFT);(<;`size;200);(within;`price;4 10))\n",
      "0b\n",
      "()\n"
     ]
    }
   ],
   "source": [
    "//we'll start from our parse tree and then work back!\n",
    "parse\"select from trade where sym in `JPM`MSFT, size<200, price within 4 10\" "
   ]
  },
  {
   "cell_type": "code",
   "execution_count": 87,
   "metadata": {
    "hidden": true,
    "reveal": "eoxpx9pp317"
   },
   "outputs": [
    {
     "name": "stdout",
     "output_type": "stream",
     "text": [
      "in `sym  ,`JPM`MSFT\n",
      "<  `size 200       \n"
     ]
    }
   ],
   "source": [
    "c:enlist (in;`sym;enlist`JPM`MSFT)  //our first clause needs to enlist the symbols as they are literal values\n",
    "show c,:(<;`size;200)                    //appending to our constraint clause - straightforward parse tree from \"size<200\"\n",
    "//c,:(within;`price;(4;10))           //nested list for within's second input - (within;`price;4 10) works too\n",
    "//c                                   //printing our constraint\n",
    "//?[trade;c;0b;()]                    //no aggregations or groupings - return table with filters applied"
   ]
  },
  {
   "cell_type": "code",
   "execution_count": 88,
   "metadata": {
    "hidden": true
   },
   "outputs": [
    {
     "name": "stdout",
     "output_type": "stream",
     "text": [
      "?\n",
      "`trade\n",
      ",((in;`sym;,`JPM`MSFT);(>;`size;200);(within;`price;4 10))\n",
      "0b\n",
      "()\n",
      "time                 sym  size price    side exchange\n",
      "-----------------------------------------------------\n",
      "0D00:00:00.144635306 MSFT 57   5.550662 B    N       \n",
      "0D00:00:00.182020766 JPM  101  7.154379 B    T       \n",
      "0D00:00:00.245483237 JPM  177  9.338188 B    N       \n",
      "0D00:00:00.267904380 MSFT 131  9.724386 B    N       \n",
      "0D00:00:00.475220054 MSFT 199  8.938436 S    N       \n",
      "0D00:00:00.559789508 MSFT 169  6.31297  B    T       \n",
      "0D00:00:00.751196438 MSFT 18   4.34695  B    L       \n",
      "0D00:00:01.766726027 JPM  181  8.44997  B    T       \n",
      "0D00:00:02.498853541 JPM  190  5.333311 B    L       \n",
      "0D00:00:02.677163615 JPM  115  6.576946 B    T       \n",
      "0D00:00:04.307053042 JPM  148  8.281443 S    L       \n",
      "0D00:00:04.596862516 MSFT 42   9.029184 S    L       \n",
      "0D00:00:04.707308081 MSFT 158  7.710486 S    L       \n",
      "0D00:00:04.813092751 MSFT 107  9.324027 B    T       \n",
      "0D00:00:05.170807413 JPM  79   4.494317 B    N       \n",
      "0D00:00:05.853655062 MSFT 36   9.53791  S    N       \n",
      "0D00:00:06.109591073 MSFT 25   5.289952 S    L       \n",
      "0D00:00:06.646956844 MSFT 197  6.231928 B    T       \n",
      "0D00:00:07.668897404 JPM  57   5.88593  B    N       \n",
      "0D00:00:07.851902004 MSFT 141  6.229067 S    T       \n",
      "..\n"
     ]
    }
   ],
   "source": [
    "//your answer here \n",
    "\n",
    "parse \"select from trade where sym in `JPM`MSFT, size>200, price within 4 10\"\n",
    "//show variable:`JPM`MSFT\n",
    "//select from trade where sym in variable, size<200, price within 4 10\n",
    "?[trade;((in;`sym;enlist`JPM`MSFT);(<;`size;200);(within;`price;(4 10)));0b;()]"
   ]
  },
  {
   "cell_type": "code",
   "execution_count": 61,
   "metadata": {},
   "outputs": [],
   "source": [
    "f: `jpm"
   ]
  },
  {
   "cell_type": "markdown",
   "metadata": {
    "hidden": true
   },
   "source": [
    "## Grouping (or by/group-by) clause  \n",
    "This clause comes into play when we are grouping by certain column(s)."
   ]
  },
  {
   "cell_type": "markdown",
   "metadata": {
    "hidden": true
   },
   "source": [
    " ##### Syntax\n",
    "The form that the `by` clause takes for a functional `select` is a dictionary. \n",
    "\n",
    "The **keys** of the dictionary are the **names** of the grouping columns that will form your resultant key or groups. \n",
    "The **values** associated with these keys are **parse trees** that will be evaluated to form our group data levels.\n",
    "\n",
    " ##### Example \n",
    "     \n",
    "     byClause:`SYM`SIDE!`sym`side        \n",
    "The returned table be keyed on our groupings with column names `SYM` and `SIDE`.\n",
    "\n",
    "Let's consider the case where we want the last result for each `sym`- we can use the following qSQL statement: "
   ]
  },
  {
   "cell_type": "code",
   "execution_count": 95,
   "metadata": {
    "hidden": true
   },
   "outputs": [
    {
     "name": "stdout",
     "output_type": "stream",
     "text": [
      "sym | time                 size price    side exchange\n",
      "----| ------------------------------------------------\n",
      "GE  | 0D00:03:29.966030368 414  11.43102 B    L       \n",
      "JPM | 0D00:03:30.229728517 868  4.874444 S    L       \n",
      "MSFT| 0D00:03:30.246117086 714  7.733435 B    L       \n"
     ]
    }
   ],
   "source": [
    "select by sym from trade "
   ]
  },
  {
   "cell_type": "markdown",
   "metadata": {
    "hidden": true
   },
   "source": [
    "<img src=\"../images/qbies.png\" style=\"width: 50px;padding-right:5px;padding-top:15px;padding-left:5px;\" align=\"left\"/>\n",
    "\n",
    "<p style='color:#273a6e'><i> If you haven't seen this before - this is a neat overload of the by clause in a select statement! When we don't specify the data we would like returned, kdb+/q will return to us the last values in the table for each distinct combination in our <code>by</code> clause.</i></p>"
   ]
  },
  {
   "cell_type": "markdown",
   "metadata": {
    "hidden": true
   },
   "source": [
    "Looking at the corresponding parse tree: "
   ]
  },
  {
   "cell_type": "code",
   "execution_count": 96,
   "metadata": {
    "hidden": true
   },
   "outputs": [
    {
     "name": "stdout",
     "output_type": "stream",
     "text": [
      "?\n",
      "`trade\n",
      "()\n",
      "`sym`exchange!`sym`exchange\n",
      "()\n"
     ]
    }
   ],
   "source": [
    "parse\"select by sym,exchange from trade\" "
   ]
  },
  {
   "cell_type": "code",
   "execution_count": 97,
   "metadata": {
    "hidden": true
   },
   "outputs": [
    {
     "name": "stdout",
     "output_type": "stream",
     "text": [
      "sym  exchange| time                 size price    side\n",
      "-------------| ---------------------------------------\n",
      "GE   L       | 0D00:03:29.966030368 414  11.43102 B   \n",
      "GE   N       | 0D00:03:29.759437369 507  8.900954 B   \n",
      "GE   T       | 0D00:03:29.938758053 996  6.816952 B   \n",
      "JPM  L       | 0D00:03:30.229728517 868  4.874444 S   \n",
      "JPM  N       | 0D00:03:30.211511745 726  5.203375 B   \n",
      "JPM  T       | 0D00:03:29.681444050 707  8.213949 B   \n",
      "MSFT L       | 0D00:03:30.246117086 714  7.733435 B   \n",
      "MSFT N       | 0D00:03:30.146521587 691  6.695458 S   \n",
      "MSFT T       | 0D00:03:29.902283243 823  4.822801 B   \n"
     ]
    }
   ],
   "source": [
    "t:trade; \n",
    "whereClause:()\n",
    "returnClause:()\n",
    "byClause: `sym`exchange!`sym`exchange\n",
    "\n",
    "?[t;whereClause;byClause;returnClause]                    //returning our table grouped by sym"
   ]
  },
  {
   "cell_type": "code",
   "execution_count": 98,
   "metadata": {
    "hidden": true
   },
   "outputs": [
    {
     "name": "stdout",
     "output_type": "stream",
     "text": [
      "newColName| time                 sym  size price    side exchange\n",
      "----------| -----------------------------------------------------\n",
      "GE        | 0D00:03:29.966030368 GE   414  11.43102 B    L       \n",
      "JPM       | 0D00:03:30.229728517 JPM  868  4.874444 S    L       \n",
      "MSFT      | 0D00:03:30.246117086 MSFT 714  7.733435 B    L       \n"
     ]
    }
   ],
   "source": [
    "byClause: enlist [`newColName]!enlist `sym    //changing the keyname changes the column name \n",
    "?[t;whereClause;byClause;returnClause]      "
   ]
  },
  {
   "cell_type": "markdown",
   "metadata": {
    "hidden": true
   },
   "source": [
    "<img src=\"../images/qbies.png\" style=\"width: 50px;padding-right:5px;padding-top:2px;padding-left:5px;\" align=\"left\"/>\n",
    "\n",
    "<p style='color:#273a6e'><i> If we want to change the name of a column in our grouping, we can rename the key of the dictionary used in our group-by constraint.</i></p>"
   ]
  },
  {
   "cell_type": "code",
   "execution_count": 99,
   "metadata": {
    "hidden": true
   },
   "outputs": [
    {
     "name": "stdout",
     "output_type": "stream",
     "text": [
      "SYM  exchange| time                 sym  size price    side\n",
      "-------------| --------------------------------------------\n",
      "GE   L       | 0D00:03:29.966030368 GE   414  11.43102 B   \n",
      "GE   N       | 0D00:03:29.759437369 GE   507  8.900954 B   \n",
      "GE   T       | 0D00:03:29.938758053 GE   996  6.816952 B   \n",
      "JPM  L       | 0D00:03:30.229728517 JPM  868  4.874444 S   \n",
      "JPM  N       | 0D00:03:30.211511745 JPM  726  5.203375 B   \n",
      "JPM  T       | 0D00:03:29.681444050 JPM  707  8.213949 B   \n",
      "MSFT L       | 0D00:03:30.246117086 MSFT 714  7.733435 B   \n",
      "MSFT N       | 0D00:03:30.146521587 MSFT 691  6.695458 S   \n",
      "MSFT T       | 0D00:03:29.902283243 MSFT 823  4.822801 B   \n"
     ]
    }
   ],
   "source": [
    "byClause: `SYM`exchange!`sym`exchange  //adding more columns to breakdown by\n",
    "?[t;whereClause;byClause;returnClause]      "
   ]
  },
  {
   "cell_type": "markdown",
   "metadata": {
    "hidden": true
   },
   "source": [
    "Given that we have a time column in our table, let's look at another common analysis - getting the last trade every X hours (here we will use 2) and refer to that time as the `twoHourlyTime`, in qSQL we would do the following:"
   ]
  },
  {
   "cell_type": "code",
   "execution_count": 102,
   "metadata": {
    "hidden": true
   },
   "outputs": [
    {
     "name": "stdout",
     "output_type": "stream",
     "text": [
      "twoHourlyTime       | time                 sym  size price    side exchange\n",
      "--------------------| -----------------------------------------------------\n",
      "0D00:00:00.000000000| 0D00:03:30.246117086 MSFT 714  7.733435 B    L       \n"
     ]
    }
   ],
   "source": [
    "/select by twoHourlyTime:0D02:00:00 xbar time from trade\n",
    "eval parse\"select by twoHourlyTime:0D02:00:00 xbar time from trade\" //uncomment if you want to see the parse tree"
   ]
  },
  {
   "cell_type": "markdown",
   "metadata": {
    "hidden": true
   },
   "source": [
    "To reproduce this in our functional form we pass our parse tree expression for `\"0D02:00:00 xbar time\"` and assign that to our new columns name: "
   ]
  },
  {
   "cell_type": "code",
   "execution_count": 103,
   "metadata": {
    "hidden": true
   },
   "outputs": [
    {
     "name": "stdout",
     "output_type": "stream",
     "text": [
      "twoHourlyTime       | time                 sym  size price    side exchange\n",
      "--------------------| -----------------------------------------------------\n",
      "0D00:00:00.000000000| 0D00:03:30.246117086 MSFT 714  7.733435 B    L       \n"
     ]
    }
   ],
   "source": [
    "t:trade; \n",
    "whereClause:()\n",
    "returnClause:()\n",
    "byClause: enlist[`twoHourlyTime]!enlist (xbar;0D02:00:00;`time)   //our parse tree from the above\n",
    "\n",
    "?[t;whereClause;byClause;returnClause]        "
   ]
  },
  {
   "cell_type": "markdown",
   "metadata": {
    "hidden": true
   },
   "source": [
    "Ta-dah! Hopefully you're now beginning to see that functional forms just boil down to using parse trees in appropriate configurations. "
   ]
  },
  {
   "cell_type": "markdown",
   "metadata": {
    "hidden": true,
    "reveal": "w4rokx4i39e",
    "reveal-hidden": true
   },
   "source": [
    "##### Exercise \n",
    "\n",
    "Write a function `groupTrade` which takes a single input of either a column, or a list of columns, and returns the table `trade` grouped by those columns. The name of the grouping columns in the final table should be modified to have \"_grouped\" at the end of their new column name. \n",
    "\n",
    "Corresponding SQL Statement example:\n",
    "    \n",
    "    select by sym_grouped:sym, side_grouped:side from trade\n",
    "\n",
    "Test your function with the following inputs: \n",
    "* <code>\\`sym\\`side\\`exchange</code>\n",
    "* <code>\\`sym</code>\n"
   ]
  },
  {
   "cell_type": "code",
   "execution_count": null,
   "metadata": {
    "hidden": true,
    "reveal": "w4rokx4i39e"
   },
   "outputs": [],
   "source": [
    "groupTrade:{[columns] cList: (),columns; //making columns a list, if it isn't already\n",
    "    names:`$string[cList],\\:\"_grouped\";  //adding \"_grouped\" to each column after stringing them, then back to symbol\n",
    "    bclause:names!cList;                 //pairing the new column names to the column values\n",
    "    ?[trade;();bclause;()]               //returning the grouped table - no filters or aggregations\n",
    " }"
   ]
  },
  {
   "cell_type": "code",
   "execution_count": null,
   "metadata": {
    "hidden": true,
    "reveal": "w4rokx4i39e"
   },
   "outputs": [],
   "source": [
    "groupTrade[`sym`side`exchange]   //testing"
   ]
  },
  {
   "cell_type": "code",
   "execution_count": null,
   "metadata": {
    "hidden": true,
    "reveal": "w4rokx4i39e"
   },
   "outputs": [],
   "source": [
    "groupTrade[`sym]                  //testing"
   ]
  },
  {
   "cell_type": "code",
   "execution_count": 105,
   "metadata": {
    "hidden": true
   },
   "outputs": [
    {
     "name": "stdout",
     "output_type": "stream",
     "text": [
      "?\n",
      "`trade\n",
      "()\n",
      "`sym_grouped`side_grouped!`sym`side\n",
      "()\n",
      "sym_grouped side_grouped| time                 sym  size price    side exchange\n",
      "------------------------| -----------------------------------------------------\n",
      "GE          B           | 0D00:03:29.966030368 GE   414  11.43102 B    L       \n",
      "GE          S           | 0D00:03:29.575256849 GE   779  1.358713 S    N       \n",
      "JPM         B           | 0D00:03:30.211511745 JPM  726  5.203375 B    N       \n",
      "JPM         S           | 0D00:03:30.229728517 JPM  868  4.874444 S    L       \n",
      "MSFT        B           | 0D00:03:30.246117086 MSFT 714  7.733435 B    L       \n",
      "MSFT        S           | 0D00:03:30.146521587 MSFT 691  6.695458 S    N       \n"
     ]
    }
   ],
   "source": [
    "//your answer here \n",
    "parse \"select by sym_grouped:sym, side_grouped:side from trade\"\n",
    "eval parse \"select by sym_grouped:sym, side_grouped:side from trade\""
   ]
  },
  {
   "cell_type": "code",
   "execution_count": 106,
   "metadata": {},
   "outputs": [
    {
     "name": "stdout",
     "output_type": "stream",
     "text": [
      "sym_grouped side_grouped| time                 sym  size price    side exchange\n",
      "------------------------| -----------------------------------------------------\n",
      "GE          B           | 0D00:03:29.966030368 GE   414  11.43102 B    L       \n",
      "GE          S           | 0D00:03:29.575256849 GE   779  1.358713 S    N       \n",
      "JPM         B           | 0D00:03:30.211511745 JPM  726  5.203375 B    N       \n",
      "JPM         S           | 0D00:03:30.229728517 JPM  868  4.874444 S    L       \n",
      "MSFT        B           | 0D00:03:30.246117086 MSFT 714  7.733435 B    L       \n",
      "MSFT        S           | 0D00:03:30.146521587 MSFT 691  6.695458 S    N       \n"
     ]
    }
   ],
   "source": [
    "?[trade;();`sym_grouped`side_grouped!`sym`side;()]"
   ]
  },
  {
   "cell_type": "markdown",
   "metadata": {
    "hidden": true
   },
   "source": [
    "## Return (or aggregations) clause\n",
    "We now know how to write a functional select with a `by` and `where` clause, but very often (and particularly when we are using `by` statements) we also want to return aggregations of our columns e.g. `max price`."
   ]
  },
  {
   "cell_type": "markdown",
   "metadata": {
    "hidden": true
   },
   "source": [
    " ##### Syntax\n",
    "\n",
    "Similarly to our by clause, the format of our return clause is also a dictionary mapping column names to values. The keys correspond to the name of the column and the values are constructed via a parse tree.\n",
    "\n",
    "Let's suppose we want to return the open, high, low and close prices for each symbol from our trade table - here's our corresponding qSQL statement:"
   ]
  },
  {
   "cell_type": "code",
   "execution_count": 108,
   "metadata": {
    "hidden": true
   },
   "outputs": [
    {
     "name": "stdout",
     "output_type": "stream",
     "text": [
      "?\n",
      "`trade\n",
      "()\n",
      "(,`sym)!,`sym\n",
      "`open`high`low`close!((*:;`price);(max;`price);(min;`price);(last;`price))\n"
     ]
    }
   ],
   "source": [
    "parse \"select open:first price, high:max price, low: min price, close: last price by sym from trade\""
   ]
  },
  {
   "cell_type": "code",
   "execution_count": 111,
   "metadata": {
    "hidden": true
   },
   "outputs": [
    {
     "name": "stdout",
     "output_type": "stream",
     "text": [
      "sym | open     high     low         close   \n",
      "----| --------------------------------------\n",
      "GE  | 8.989    11.99864 0.001972016 11.43102\n",
      "JPM | 2.612327 11.99709 0.002563655 4.874444\n",
      "MSFT| 5.550662 11.994   0.001792207 7.733435\n"
     ]
    }
   ],
   "source": [
    "//syntax reminder! ?[t;c;b;a] t=table, c=constraints, b=by dictionary, a=aggregation dictionary\n",
    "t:trade\n",
    "whereClause:()                            //no constraints \n",
    "byClause:enlist[`sym]!enlist[`sym]     //just sym in the by clause\n",
    "returnClause:`open`high`low`close!((first;`price);(max;`price);(min;`price);(last;`price)) \n",
    "\n",
    "?[t;whereClause;byClause;returnClause]      "
   ]
  },
  {
   "cell_type": "code",
   "execution_count": 112,
   "metadata": {
    "hidden": true
   },
   "outputs": [
    {
     "name": "stdout",
     "output_type": "stream",
     "text": [
      "sym | open     high     low         close   \n",
      "----| --------------------------------------\n",
      "GE  | 8.989    11.99864 0.001972016 11.43102\n",
      "JPM | 2.612327 11.99709 0.002563655 4.874444\n",
      "MSFT| 5.550662 11.994   0.001792207 7.733435\n"
     ]
    }
   ],
   "source": [
    "//reminder! For code readability we can also write our dictionary pairwise, if you find the above difficult to read\n",
    "returnClause :.[!] flip ((`open;(first;`price));\n",
    "        (`high;(max;`price));\n",
    "        (`low;(min;`price));\n",
    "        (`close;(last;`price)))\n",
    "\n",
    "?[t;whereClause;byClause;returnClause]      "
   ]
  },
  {
   "cell_type": "markdown",
   "metadata": {
    "hidden": true
   },
   "source": [
    "This is much more like the usage we would see in conjunction with a by clause! \n",
    " \n",
    "If we want to return all the group values, we just select the column itself without applying an aggregation:"
   ]
  },
  {
   "cell_type": "code",
   "execution_count": 113,
   "metadata": {
    "hidden": true
   },
   "outputs": [
    {
     "name": "stdout",
     "output_type": "stream",
     "text": [
      "sym | open     high     low         close    prices                          ..\n",
      "----| -----------------------------------------------------------------------..\n",
      "GE  | 8.989    11.99864 0.001972016 11.43102 8.989 6.18538 9.465283 3.626004 ..\n",
      "JPM | 2.612327 11.99709 0.002563655 4.874444 2.612327 7.389787 7.154379 9.207..\n",
      "MSFT| 5.550662 11.994   0.001792207 7.733435 5.550662 3.557074 9.724386 2.552..\n"
     ]
    }
   ],
   "source": [
    "returnClause:.[!] flip ((`open;(first;`price));\n",
    "        (`high;(max;`price));\n",
    "        (`low;(min;`price));\n",
    "        (`close;(last;`price));\n",
    "        (`prices;`price))              //note we changed the column name here for clarity \n",
    "    \n",
    "?[t;whereClause;byClause;returnClause]      "
   ]
  },
  {
   "cell_type": "markdown",
   "metadata": {
    "hidden": true
   },
   "source": [
    "This aggregation clause can also be used without a `by` clause to just return columns. "
   ]
  },
  {
   "cell_type": "code",
   "execution_count": 114,
   "metadata": {
    "hidden": true
   },
   "outputs": [
    {
     "name": "stdout",
     "output_type": "stream",
     "text": [
      "time| time\n",
      "sym | sym\n",
      "size| size\n",
      "time                 sym  size\n",
      "------------------------------\n",
      "0D00:00:00.004375310 JPM  273 \n",
      "0D00:00:00.046089480 GE   16  \n",
      "0D00:00:00.144635306 MSFT 57  \n",
      "0D00:00:00.165940544 JPM  606 \n",
      "0D00:00:00.175220678 MSFT 288 \n",
      "0D00:00:00.182020766 JPM  101 \n",
      "0D00:00:00.236256852 JPM  508 \n",
      "0D00:00:00.245483237 JPM  177 \n",
      "0D00:00:00.262837919 GE   879 \n",
      "0D00:00:00.267904380 MSFT 131 \n",
      "0D00:00:00.275574979 JPM  395 \n",
      "0D00:00:00.277730277 JPM  676 \n",
      "0D00:00:00.284491743 JPM  467 \n",
      "0D00:00:00.285450072 GE   999 \n",
      "0D00:00:00.295165534 GE   371 \n",
      "0D00:00:00.310365260 JPM  453 \n",
      "0D00:00:00.323367932 JPM  798 \n",
      "0D00:00:00.341562921 GE   757 \n",
      "0D00:00:00.351501211 GE   882 \n",
      "0D00:00:00.420723251 MSFT 321 \n",
      "..\n"
     ]
    }
   ],
   "source": [
    "returnClause:x!x:(3#cols trade) //using # to return the first 3 columns in our table\n",
    "returnClause\n",
    "\n",
    "?[trade;();0b;returnClause]"
   ]
  },
  {
   "cell_type": "markdown",
   "metadata": {
    "hidden": true,
    "reveal": "aiorhse6cbm",
    "reveal-hidden": true
   },
   "source": [
    "<img src=\"../images/qbies.png\" style=\"width: 50px;padding-right:5px;padding-top:20px;padding-left:5px;\" align=\"left\"/>\n",
    "\n",
    "<p style='color:#273a6e'><i> If we pass 1b in the <a href=\"https://code.kx.com/q/basics/funsql/#select-distinct\">by-clause field</a> , we can get the distinct values of our returned columns. It's a special case for <code>select distinct<code/></i></p>"
   ]
  },
  {
   "cell_type": "code",
   "execution_count": null,
   "metadata": {
    "hidden": true,
    "reveal": "aiorhse6cbm"
   },
   "outputs": [],
   "source": [
    "//syntax reminder! ?[t;c;b;a] t=table, c=constraints, b=by dictionary, a=aggregation dictionary\n",
    "t:trade\n",
    "whereClause:()                            //no constraints \n",
    "byClause:1b     //changing by-clause to be true boolean\n",
    "returnClause:enlist[`sym]!enlist `sym  \n",
    "\n",
    "?[t;whereClause;byClause;returnClause] //same as select distinct sym from trade "
   ]
  },
  {
   "cell_type": "markdown",
   "metadata": {
    "hidden": true,
    "reveal": "5xyt2cna8bo",
    "reveal-hidden": false
   },
   "source": [
    "##### Exercise \n",
    "\n",
    "Write a functional `select` to calculate the volume weighted average price (`vwapPrice`) broken down by symbol (`sym`) in 15 minute time intervals (`interval`) using our `trade` table. "
   ]
  },
  {
   "cell_type": "code",
   "execution_count": 129,
   "metadata": {
    "hidden": true,
    "reveal": "5xyt2cna8bo"
   },
   "outputs": [
    {
     "name": "stdout",
     "output_type": "stream",
     "text": [
      "sym  interval            | vwapPrice\n",
      "-------------------------| ---------\n",
      "GE   0D00:00:00.000000000| 5.934205 \n",
      "JPM  0D00:00:00.000000000| 6.014708 \n",
      "MSFT 0D00:00:00.000000000| 5.950301 \n"
     ]
    }
   ],
   "source": [
    "//what do we want to return? That will be our returnClause - volume weighted average price \n",
    "returnClause: enlist[`vwapPrice]!enlist[(wavg;`size;`price)]\n",
    "//what are we breaking down by? - by symbol (sym) in 15 minute time intervals (interval)\n",
    "byClause:`sym`interval!(`sym;(xbar;0D00:15:00;`time))\n",
    "//what constraints do we have? \n",
    "whereClause:() //none! \n",
    "\n",
    "?[trade;whereClause;byClause;returnClause]"
   ]
  },
  {
   "cell_type": "code",
   "execution_count": 146,
   "metadata": {
    "hidden": true
   },
   "outputs": [
    {
     "name": "stdout",
     "output_type": "stream",
     "text": [
      "?\n",
      "`trade\n",
      "()\n",
      "(,`sym)!,`sym\n",
      "(,`vwapPrice)!,(wavg;`size;`price)\n",
      "sym  Interval            | vwapPrice\n",
      "-------------------------| ---------\n",
      "GE   0D00:00:00.000000000| 5.934205 \n",
      "JPM  0D00:00:00.000000000| 6.014708 \n",
      "MSFT 0D00:00:00.000000000| 5.950301 \n"
     ]
    }
   ],
   "source": [
    "//your answer here\n",
    "parse \"select vwapPrice:(size wavg price) by sym from trade\"\n",
    "//trade\n",
    "select vwapPrice:(size wavg price) by sym, Interval:(0D00:15:00 xbar time) from trade\n",
    "//?[trade;();(enlist`sym)!enlist`sym;(enlist`vwapPrice)!enlist(wavg;`size;`price)]"
   ]
  },
  {
   "cell_type": "markdown",
   "metadata": {
    "heading_collapsed": true
   },
   "source": [
    "# Functional `exec` \n",
    "\n",
    "Functional [`exec`](https://code.kx.com/q/basics/funsql/#exec) is very similar to functional `select`, however we will see that the syntax for returning and grouping (by) clauses differ."
   ]
  },
  {
   "cell_type": "markdown",
   "metadata": {
    "hidden": true
   },
   "source": [
    "## Return Clause \n",
    "Looking at where they differ - one of the easiest cases is to return a single column:"
   ]
  },
  {
   "cell_type": "code",
   "execution_count": 138,
   "metadata": {
    "hidden": true
   },
   "outputs": [
    {
     "name": "stdout",
     "output_type": "stream",
     "text": [
      "`JPM`GE`MSFT`JPM`MSFT`JPM`JPM`JPM`GE`MSFT`JPM`JPM`JPM`GE`GE`JPM`JPM`GE`GE`MSF..\n"
     ]
    }
   ],
   "source": [
    "exec sym from trade"
   ]
  },
  {
   "cell_type": "code",
   "execution_count": 139,
   "metadata": {
    "hidden": true
   },
   "outputs": [
    {
     "name": "stdout",
     "output_type": "stream",
     "text": [
      "?\n",
      "`trade\n",
      "()\n",
      "()\n",
      ",`sym\n"
     ]
    }
   ],
   "source": [
    "parse\"exec sym from trade\""
   ]
  },
  {
   "cell_type": "markdown",
   "metadata": {
    "hidden": true
   },
   "source": [
    "To write the functional form of the above query, we can see above differ from what we know with `select`. Previously we used `0b` to indicate no grouping and this is now `()`. Similarly, our dictionary aggregation input has been replaced by a single symbol value. "
   ]
  },
  {
   "cell_type": "code",
   "execution_count": 140,
   "metadata": {
    "hidden": true
   },
   "outputs": [
    {
     "name": "stdout",
     "output_type": "stream",
     "text": [
      "`JPM`GE`MSFT`JPM`MSFT`JPM`JPM`JPM`GE`MSFT`JPM`JPM`JPM`GE`GE`JPM`JPM`GE`GE`MSF..\n"
     ]
    }
   ],
   "source": [
    "?[trade;();();`sym]    "
   ]
  },
  {
   "cell_type": "markdown",
   "metadata": {
    "hidden": true
   },
   "source": [
    "Excellent! We have the same result! \n",
    "\n",
    "You might wonder what would happen if we wanted to return more columns: "
   ]
  },
  {
   "cell_type": "code",
   "execution_count": null,
   "metadata": {
    "hidden": true
   },
   "outputs": [],
   "source": [
    "?[trade;();();`exchange`sym]   //we can't pass two columns"
   ]
  },
  {
   "cell_type": "markdown",
   "metadata": {
    "hidden": true
   },
   "source": [
    "This is expected behaviour - you'll remember that we can't do this with an exec anyways! When we return two items from an `exec` we get a dictionary return: "
   ]
  },
  {
   "cell_type": "code",
   "execution_count": 141,
   "metadata": {
    "hidden": true
   },
   "outputs": [
    {
     "name": "stdout",
     "output_type": "stream",
     "text": [
      "exchange| N   N  N    T   T    T   N   N   L  N    T   L   N   N  T  N   N   ..\n",
      "sym     | JPM GE MSFT JPM MSFT JPM JPM JPM GE MSFT JPM JPM JPM GE GE JPM JPM ..\n",
      "?\n",
      "`trade\n",
      "()\n",
      "()\n",
      "`exchange`sym!`exchange`sym\n"
     ]
    }
   ],
   "source": [
    "exec exchange, sym from trade \n",
    "parse\"exec exchange, sym from trade\""
   ]
  },
  {
   "cell_type": "markdown",
   "metadata": {
    "hidden": true
   },
   "source": [
    "We can actually use this even with a single output, but by providing the dictionary, we get a dictionary output returned: "
   ]
  },
  {
   "cell_type": "code",
   "execution_count": 142,
   "metadata": {
    "hidden": true
   },
   "outputs": [
    {
     "name": "stdout",
     "output_type": "stream",
     "text": [
      "exchange| N   N  N    T   T    T   N   N   L  N    T   L   N   N  T  N   N   ..\n",
      "sym     | JPM GE MSFT JPM MSFT JPM JPM JPM GE MSFT JPM JPM JPM GE GE JPM JPM ..\n",
      "sym| JPM GE MSFT JPM MSFT JPM JPM JPM GE MSFT JPM JPM JPM GE GE JPM JPM GE GE..\n",
      "sym| JPM GE MSFT JPM MSFT JPM JPM JPM GE MSFT JPM JPM JPM GE GE JPM JPM GE GE..\n"
     ]
    }
   ],
   "source": [
    "?[trade;();();`exchange`sym!`exchange`sym]\n",
    "\n",
    "?[trade;();();enlist[`sym]!enlist `sym]     \n",
    "//equivalent to:\n",
    "exec sym:sym from trade"
   ]
  },
  {
   "cell_type": "markdown",
   "metadata": {
    "hidden": true
   },
   "source": [
    "## By Clause\n",
    "The secondary way in which our `exec` statements diverge from our functional `select` is in the by clause. \n",
    "\n",
    "Lets suppose we want the following output: "
   ]
  },
  {
   "cell_type": "code",
   "execution_count": 143,
   "metadata": {
    "hidden": true
   },
   "outputs": [
    {
     "name": "stdout",
     "output_type": "stream",
     "text": [
      "L| `GE`JPM`GE`JPM`MSFT`GE`JPM`MSFT`JPM`MSFT`JPM`GE`JPM`GE`MSFT`GE`MSFT`JPM`JP..\n",
      "N| `JPM`GE`MSFT`JPM`JPM`MSFT`JPM`GE`JPM`JPM`MSFT`MSFT`MSFT`GE`MSFT`MSFT`JPM`G..\n",
      "T| `JPM`MSFT`JPM`JPM`GE`GE`GE`MSFT`MSFT`MSFT`MSFT`GE`GE`GE`MSFT`MSFT`MSFT`MSF..\n",
      "?\n",
      "`trade\n",
      "()\n",
      ",`exchange\n",
      ",`sym\n"
     ]
    }
   ],
   "source": [
    "exec sym by exchange from trade\n",
    "parse\"exec sym by exchange from trade\""
   ]
  },
  {
   "cell_type": "markdown",
   "metadata": {
    "hidden": true
   },
   "source": [
    "We can actually just supply a single symbol of the `exchange` value to use as our group-by clause:"
   ]
  },
  {
   "cell_type": "code",
   "execution_count": 144,
   "metadata": {
    "hidden": true
   },
   "outputs": [
    {
     "name": "stdout",
     "output_type": "stream",
     "text": [
      "L| `GE`JPM`GE`JPM`MSFT`GE`JPM`MSFT`JPM`MSFT`JPM`GE`JPM`GE`MSFT`GE`MSFT`JPM`JP..\n",
      "N| `JPM`GE`MSFT`JPM`JPM`MSFT`JPM`GE`JPM`JPM`MSFT`MSFT`MSFT`GE`MSFT`MSFT`JPM`G..\n",
      "T| `JPM`MSFT`JPM`JPM`GE`GE`GE`MSFT`MSFT`MSFT`MSFT`GE`GE`GE`MSFT`MSFT`MSFT`MSF..\n"
     ]
    }
   ],
   "source": [
    "show execute:?[trade;();`exchange;`sym]"
   ]
  },
  {
   "cell_type": "markdown",
   "metadata": {
    "hidden": true
   },
   "source": [
    "As we continue to grow this `exec` statement and add more return columns and grouping columns, we will see we actually just approach a `select`! \n",
    "\n",
    "We are now returning tables rather than the dictionary or lists structures that we usually use exec for: "
   ]
  },
  {
   "cell_type": "code",
   "execution_count": 147,
   "metadata": {
    "hidden": true
   },
   "outputs": [
    {
     "name": "stdout",
     "output_type": "stream",
     "text": [
      "exchange time                | sym                                           ..\n",
      "-----------------------------| ----------------------------------------------..\n",
      "L        0D00:00:00.000000000| `GE`JPM`GE`JPM`MSFT`GE`JPM`MSFT`JPM`MSFT`JPM`G..\n",
      "L        0D00:03:00.000000000| `JPM`JPM`JPM`JPM`MSFT`GE`JPM`GE`GE`MSFT`MSFT`M..\n",
      "N        0D00:00:00.000000000| `JPM`GE`MSFT`JPM`JPM`MSFT`JPM`GE`JPM`JPM`MSFT`..\n",
      "N        0D00:03:00.000000000| `JPM`GE`JPM`MSFT`JPM`MSFT`JPM`GE`JPM`JPM`JPM`G..\n",
      "T        0D00:00:00.000000000| `JPM`MSFT`JPM`JPM`GE`GE`GE`MSFT`MSFT`MSFT`MSFT..\n",
      "T        0D00:03:00.000000000| `JPM`GE`MSFT`JPM`GE`GE`MSFT`MSFT`MSFT`JPM`GE`M..\n"
     ]
    }
   ],
   "source": [
    "exec sym, price by exchange, 0D00:03:00 xbar time from trade //a keyed table "
   ]
  },
  {
   "cell_type": "code",
   "execution_count": 148,
   "metadata": {
    "hidden": true
   },
   "outputs": [
    {
     "name": "stdout",
     "output_type": "stream",
     "text": [
      "?\n",
      "`trade\n",
      "()\n",
      "`exchange`time!(`exchange;(k){x*y div x:$[16h=abs[@x];\"j\"$x;x]};0D00:03:00.00..\n",
      "`sym`price!`sym`price\n"
     ]
    }
   ],
   "source": [
    "parse \"exec sym, price by exchange, 0D00:03:00 xbar time from trade\""
   ]
  },
  {
   "cell_type": "markdown",
   "metadata": {
    "hidden": true
   },
   "source": [
    "You can see we have now migrated to a `select` statement and can check equivalence. "
   ]
  },
  {
   "cell_type": "code",
   "execution_count": 149,
   "metadata": {
    "hidden": true
   },
   "outputs": [
    {
     "name": "stdout",
     "output_type": "stream",
     "text": [
      "1b\n"
     ]
    }
   ],
   "source": [
    "(exec sym, price by exchange, 0D00:03:00 xbar time from trade)~            //exec statement\n",
    "          select sym, price by exchange, 0D00:03:00 xbar time from trade   //equivalent select statement"
   ]
  },
  {
   "cell_type": "markdown",
   "metadata": {
    "hidden": true
   },
   "source": [
    "<img src=\"../images/qbies.png\" style=\"width: 50px;padding-right:5px;padding-top:2px;padding-left:5px;\" align=\"left\"/>\n",
    "<p style='color:#273a6e'><i> You can think of functional <code>exec</code> statements as being special overloads of functional <code>select</code> statements.</i></p>\n"
   ]
  },
  {
   "cell_type": "markdown",
   "metadata": {
    "hidden": true,
    "reveal": "g2ag48py7u6",
    "reveal-hidden": false
   },
   "source": [
    "##### Exercise \n",
    "\n",
    "Write a functional `exec` statement to return from `trade` all columns - except for sym - as a dictionary, only for trades where the sym was JPM."
   ]
  },
  {
   "cell_type": "code",
   "execution_count": 156,
   "metadata": {
    "hidden": true,
    "reveal": "g2ag48py7u6"
   },
   "outputs": [
    {
     "name": "stdout",
     "output_type": "stream",
     "text": [
      "time    | 0D00:00:00.004375310 0D00:00:00.165940544 0D00:00:00.182020766 0D00..\n",
      "size    | 273                  606                  101                  508 ..\n",
      "price   | 2.612327             7.389787             7.154379             9.20..\n",
      "side    | B                    S                    B                    B   ..\n",
      "exchange| N                    T                    T                    N   ..\n"
     ]
    }
   ],
   "source": [
    "//our return clause needs to be a dictionary as we are returning many columns \n",
    "returnClause:x!x:cols[trade] except `sym //excluding `sym\n",
    "//we are not grouping by anything\n",
    "byClause:() //we don't want this as a table, so we provide an empty list rather than a boolean\n",
    "//we are limiting to `JPM sym so need a constraint clause\n",
    "whereClause:enlist (=;`sym;enlist `JPM) //enlisting as `JPM is a literal\n",
    "\n",
    "?[trade;whereClause;byClause;returnClause]"
   ]
  },
  {
   "cell_type": "code",
   "execution_count": 159,
   "metadata": {
    "hidden": true
   },
   "outputs": [
    {
     "name": "stdout",
     "output_type": "stream",
     "text": [
      "time                 sym  size price    side exchange\n",
      "-----------------------------------------------------\n",
      "0D00:00:00.004375310 JPM  273  2.612327 B    N       \n",
      "0D00:00:00.046089480 GE   16   8.989    S    N       \n",
      "0D00:00:00.144635306 MSFT 57   5.550662 B    N       \n",
      "0D00:00:00.165940544 JPM  606  7.389787 S    T       \n",
      "0D00:00:00.175220678 MSFT 288  3.557074 S    T       \n",
      "time    | 0D00:00:00.004375310 0D00:00:00.165940544 0D00:00:00.182020766 0D00..\n",
      "size    | 273                  606                  101                  508 ..\n",
      "price   | 2.612327             7.389787             7.154379             9.20..\n",
      "side    | B                    S                    B                    B   ..\n",
      "exchange| N                    T                    T                    N   ..\n"
     ]
    }
   ],
   "source": [
    "//your answer here\n",
    "5#trade\n",
    "//parse \"exec time, size, price, side, exchange from trade where sym=`JPM \"\n",
    "?[trade;enlist(=;`sym;enlist`JPM);();`time`size`price`side`exchange!`time`size`price`side`exchange]"
   ]
  },
  {
   "cell_type": "markdown",
   "metadata": {
    "heading_collapsed": true
   },
   "source": [
    "# Functional `update` \n",
    "A functional [`update`](https://code.kx.com/q/basics/funsql/#update) can be used to change cell values, or add new columns. The syntax and inputs are the same as functional select, however we use `!` instead of `?`."
   ]
  },
  {
   "cell_type": "markdown",
   "metadata": {
    "hidden": true
   },
   "source": [
    "Using the parse function to create a functional update, you can see that it has the same syntax:"
   ]
  },
  {
   "cell_type": "code",
   "execution_count": 160,
   "metadata": {
    "hidden": true
   },
   "outputs": [
    {
     "name": "stdout",
     "output_type": "stream",
     "text": [
      "!\n",
      "`trade\n",
      ",,(=;`sym;,`USDGBP)\n",
      "0b\n",
      "(,`size)!,(+;`size;3)\n"
     ]
    }
   ],
   "source": [
    "parse\"update size+3 from trade where sym=`USDGBP\""
   ]
  },
  {
   "cell_type": "code",
   "execution_count": 161,
   "metadata": {
    "hidden": true
   },
   "outputs": [
    {
     "name": "stdout",
     "output_type": "stream",
     "text": [
      "time                 sym  size price    side exchange\n",
      "-----------------------------------------------------\n",
      "0D00:00:00.004375310 JPM  3273 2.612327 B    N       \n",
      "0D00:00:00.046089480 GE   16   8.989    S    N       \n",
      "0D00:00:00.144635306 MSFT 57   5.550662 B    N       \n",
      "0D00:00:00.165940544 JPM  3606 7.389787 S    T       \n",
      "0D00:00:00.175220678 MSFT 288  3.557074 S    T       \n",
      "0D00:00:00.182020766 JPM  3101 7.154379 B    T       \n",
      "0D00:00:00.236256852 JPM  3508 9.207793 B    N       \n",
      "0D00:00:00.245483237 JPM  3177 9.338188 B    N       \n",
      "0D00:00:00.262837919 GE   879  6.18538  B    L       \n",
      "0D00:00:00.267904380 MSFT 131  9.724386 B    N       \n",
      "0D00:00:00.275574979 JPM  3395 7.547554 S    T       \n",
      "0D00:00:00.277730277 JPM  3676 2.215053 B    L       \n",
      "0D00:00:00.284491743 JPM  3467 3.585405 S    N       \n",
      "0D00:00:00.285450072 GE   999  9.465283 S    N       \n",
      "0D00:00:00.295165534 GE   371  3.626004 S    T       \n",
      "0D00:00:00.310365260 JPM  3453 9.554201 B    N       \n",
      "0D00:00:00.323367932 JPM  3798 10.72355 S    N       \n",
      "0D00:00:00.341562921 GE   757  6.345187 B    T       \n",
      "0D00:00:00.351501211 GE   882  4.040299 S    L       \n",
      "0D00:00:00.420723251 MSFT 321  2.552804 B    N       \n",
      "..\n"
     ]
    }
   ],
   "source": [
    "![trade;enlist (=;`sym;enlist `JPM);0b;(enlist `size)!enlist (+;`size;3000)] //updating our size+3000"
   ]
  },
  {
   "cell_type": "markdown",
   "metadata": {
    "hidden": true
   },
   "source": [
    "In the above statement we are applying our `update` statement to the column `size`, only where the condition is met. \n",
    "\n",
    "The primary difference here is the return - for `update` we also include all our other original table columns and rows (after updating where applicable), while for `select` we only return the specified columns and only where the criteria is met. "
   ]
  },
  {
   "cell_type": "code",
   "execution_count": 162,
   "metadata": {
    "hidden": true
   },
   "outputs": [
    {
     "name": "stdout",
     "output_type": "stream",
     "text": [
      "size\n",
      "----\n",
      "3273\n",
      "3606\n",
      "3101\n",
      "3508\n",
      "3177\n",
      "3395\n",
      "3676\n",
      "3467\n",
      "3453\n",
      "3798\n",
      "3200\n",
      "3412\n",
      "3584\n",
      "3338\n",
      "3922\n",
      "3950\n",
      "3720\n",
      "3816\n",
      "3178\n",
      "3288\n",
      "..\n"
     ]
    }
   ],
   "source": [
    "?[trade;enlist (=;`sym;enlist `JPM);0b;(enlist `size)!enlist (+;`size;3000)] //select our size+3000"
   ]
  },
  {
   "cell_type": "markdown",
   "metadata": {
    "hidden": true
   },
   "source": [
    "All other syntax is exactly the same!"
   ]
  },
  {
   "cell_type": "code",
   "execution_count": 163,
   "metadata": {
    "hidden": true
   },
   "outputs": [
    {
     "name": "stdout",
     "output_type": "stream",
     "text": [
      "1b\n"
     ]
    }
   ],
   "source": [
    "//select and update are the same, when we return the same columns with no constaint\n",
    "?[trade;();0b;cols[trade]!cols[trade]]~![trade;();0b;cols[trade]!cols[trade]]"
   ]
  },
  {
   "cell_type": "markdown",
   "metadata": {
    "hidden": true,
    "reveal": "dsz8oz4w2s",
    "reveal-hidden": true
   },
   "source": [
    "##### Exercise \n",
    "\n",
    "Write a functional `update` to add the column date (with todays date) to the `trade` table. "
   ]
  },
  {
   "cell_type": "code",
   "execution_count": 169,
   "metadata": {
    "hidden": true,
    "reveal": "dsz8oz4w2s"
   },
   "outputs": [
    {
     "name": "stdout",
     "output_type": "stream",
     "text": [
      "time                 sym  size price    side exchange date      \n",
      "----------------------------------------------------------------\n",
      "0D00:00:00.004375310 JPM  273  2.612327 B    N        2025.03.08\n",
      "0D00:00:00.046089480 GE   16   8.989    S    N        2025.03.08\n",
      "0D00:00:00.144635306 MSFT 57   5.550662 B    N        2025.03.08\n",
      "0D00:00:00.165940544 JPM  606  7.389787 S    T        2025.03.08\n",
      "0D00:00:00.175220678 MSFT 288  3.557074 S    T        2025.03.08\n",
      "0D00:00:00.182020766 JPM  101  7.154379 B    T        2025.03.08\n",
      "0D00:00:00.236256852 JPM  508  9.207793 B    N        2025.03.08\n",
      "0D00:00:00.245483237 JPM  177  9.338188 B    N        2025.03.08\n",
      "0D00:00:00.262837919 GE   879  6.18538  B    L        2025.03.08\n",
      "0D00:00:00.267904380 MSFT 131  9.724386 B    N        2025.03.08\n",
      "0D00:00:00.275574979 JPM  395  7.547554 S    T        2025.03.08\n",
      "0D00:00:00.277730277 JPM  676  2.215053 B    L        2025.03.08\n",
      "0D00:00:00.284491743 JPM  467  3.585405 S    N        2025.03.08\n",
      "0D00:00:00.285450072 GE   999  9.465283 S    N        2025.03.08\n",
      "0D00:00:00.295165534 GE   371  3.626004 S    T        2025.03.08\n",
      "0D00:00:00.310365260 JPM  453  9.554201 B    N        2025.03.08\n",
      "0D00:00:00.323367932 JPM  798  10.72355 S    N        2025.03.08\n",
      "0D00:00:00.341562921 GE   757  6.345187 B    T        2025.03.08\n",
      "0D00:00:00.351501211 GE   882  4.040299 S    L        2025.03.08\n",
      "0D00:00:00.420723251 MSFT 321  2.552804 B    N        2025.03.08\n",
      "..\n"
     ]
    }
   ],
   "source": [
    "![trade;();0b;enlist[`date]!enlist .z.d]"
   ]
  },
  {
   "cell_type": "code",
   "execution_count": 168,
   "metadata": {
    "hidden": true
   },
   "outputs": [
    {
     "name": "stdout",
     "output_type": "stream",
     "text": [
      "!\n",
      "`trade\n",
      "()\n",
      "0b\n",
      "(,`date)!,`.z.d\n",
      "time                 sym  size price    side exchange\n",
      "-----------------------------------------------------\n",
      "0D00:00:00.004375310 JPM  273  2.612327 B    N       \n",
      "0D00:00:00.046089480 GE   16   8.989    S    N       \n",
      "0D00:00:00.144635306 MSFT 57   5.550662 B    N       \n",
      "0D00:00:00.165940544 JPM  606  7.389787 S    T       \n",
      "0D00:00:00.175220678 MSFT 288  3.557074 S    T       \n",
      "time                 sym  size price    side exchange date      \n",
      "----------------------------------------------------------------\n",
      "0D00:00:00.004375310 JPM  273  2.612327 B    N        2025.03.08\n",
      "0D00:00:00.046089480 GE   16   8.989    S    N        2025.03.08\n",
      "0D00:00:00.144635306 MSFT 57   5.550662 B    N        2025.03.08\n",
      "0D00:00:00.165940544 JPM  606  7.389787 S    T        2025.03.08\n",
      "0D00:00:00.175220678 MSFT 288  3.557074 S    T        2025.03.08\n",
      "0D00:00:00.182020766 JPM  101  7.154379 B    T        2025.03.08\n",
      "0D00:00:00.236256852 JPM  508  9.207793 B    N        2025.03.08\n",
      "0D00:00:00.245483237 JPM  177  9.338188 B    N        2025.03.08\n",
      "0D00:00:00.262837919 GE   879  6.18538  B    L        2025.03.08\n",
      "0D00:00:00.267904380 MSFT 131  9.724386 B    N        2025.03.08\n",
      "0D00:00:00.275574979 JPM  395  7.547554 S    T        2025.03.08\n",
      "0D00:00:00.277730277 JPM  676  2.215053 B    L        2025.03.08\n",
      "0D00:00:00.284491743 JPM  467  3.585405 S    N        2025.03.08\n",
      "0D00:00:00.285450072 GE   999  9.465283 S    N        2025.03.08\n",
      "0D00:00:00.295165534 GE   371  3.626004 S    T        2025.03.08\n",
      "0D00:00:00.310365260 JPM  453  9.554201 B    N        2025.03.08\n",
      "0D00:00:00.323367932 JPM  798  10.72355 S    N        2025.03.08\n",
      "0D00:00:00.341562921 GE   757  6.345187 B    T        2025.03.08\n",
      "0D00:00:00.351501211 GE   882  4.040299 S    L        2025.03.08\n",
      "0D00:00:00.420723251 MSFT 321  2.552804 B    N        2025.03.08\n",
      "..\n"
     ]
    }
   ],
   "source": [
    "//your answer her\n",
    "parse \"update date:.z.d from trade\"\n",
    "5#trade\n",
    "![trade;();0b;(enlist `date)!(enlist `.z.d)]"
   ]
  },
  {
   "cell_type": "markdown",
   "metadata": {
    "heading_collapsed": true
   },
   "source": [
    "# Functional `delete` \n",
    "The last case to consider is functional [`delete`](https://code.kx.com/q/basics/funsql/#delete) which is really a  special version of `update`, similar to how `exec` is related to `select`. "
   ]
  },
  {
   "cell_type": "markdown",
   "metadata": {
    "hidden": true
   },
   "source": [
    "We already know that `delete` is more limited than `update` - we can only remove whole rows or columns, since we cannot accept a partial row or column. The way in which we indicate we are deleting, rather that updating is the format of the aggregation value. "
   ]
  },
  {
   "cell_type": "code",
   "execution_count": 171,
   "metadata": {
    "hidden": true
   },
   "outputs": [
    {
     "name": "stdout",
     "output_type": "stream",
     "text": [
      "!\n",
      "`trade\n",
      "()\n",
      "0b\n",
      ",,`time\n"
     ]
    }
   ],
   "source": [
    "parse\"delete time from trade\" //this is an empty symbol list"
   ]
  },
  {
   "cell_type": "markdown",
   "metadata": {
    "hidden": true
   },
   "source": [
    "With `update`, the aggregation value was a dictionary, but for `delete` this is a symbol list corresponding to the columns to be deleted."
   ]
  },
  {
   "cell_type": "code",
   "execution_count": 172,
   "metadata": {
    "hidden": true
   },
   "outputs": [
    {
     "name": "stdout",
     "output_type": "stream",
     "text": [
      "1b\n",
      "sym  size price    side exchange\n",
      "--------------------------------\n",
      "JPM  273  2.612327 B    N       \n",
      "GE   16   8.989    S    N       \n",
      "MSFT 57   5.550662 B    N       \n",
      "JPM  606  7.389787 S    T       \n",
      "MSFT 288  3.557074 S    T       \n",
      "JPM  101  7.154379 B    T       \n",
      "JPM  508  9.207793 B    N       \n",
      "JPM  177  9.338188 B    N       \n",
      "GE   879  6.18538  B    L       \n",
      "MSFT 131  9.724386 B    N       \n",
      "JPM  395  7.547554 S    T       \n",
      "JPM  676  2.215053 B    L       \n",
      "JPM  467  3.585405 S    N       \n",
      "GE   999  9.465283 S    N       \n",
      "GE   371  3.626004 S    T       \n",
      "JPM  453  9.554201 B    N       \n",
      "JPM  798  10.72355 S    N       \n",
      "GE   757  6.345187 B    T       \n",
      "GE   882  4.040299 S    L       \n",
      "MSFT 321  2.552804 B    N       \n",
      "..\n"
     ]
    }
   ],
   "source": [
    "(delete time from trade)~![trade;();0b;enlist `time]\n",
    "![trade;();0b;enlist `time]"
   ]
  },
  {
   "cell_type": "markdown",
   "metadata": {
    "hidden": true
   },
   "source": [
    "If we are in fact deleting rows rather than columns, we can provide an empty symbol list and use our constraints or where clause to specify the rows: "
   ]
  },
  {
   "cell_type": "code",
   "execution_count": 173,
   "metadata": {
    "hidden": true
   },
   "outputs": [
    {
     "name": "stdout",
     "output_type": "stream",
     "text": [
      "1b\n",
      "time                 sym  size price    side exchange\n",
      "-----------------------------------------------------\n",
      "0D00:00:00.046089480 GE   16   8.989    S    N       \n",
      "0D00:00:00.165940544 JPM  606  7.389787 S    T       \n",
      "0D00:00:00.175220678 MSFT 288  3.557074 S    T       \n",
      "0D00:00:00.275574979 JPM  395  7.547554 S    T       \n",
      "0D00:00:00.284491743 JPM  467  3.585405 S    N       \n",
      "0D00:00:00.285450072 GE   999  9.465283 S    N       \n",
      "0D00:00:00.295165534 GE   371  3.626004 S    T       \n",
      "0D00:00:00.323367932 JPM  798  10.72355 S    N       \n",
      "0D00:00:00.351501211 GE   882  4.040299 S    L       \n",
      "0D00:00:00.447388955 JPM  200  4.059909 S    L       \n",
      "0D00:00:00.461190422 MSFT 512  4.720506 S    N       \n",
      "0D00:00:00.475220054 MSFT 199  8.938436 S    N       \n",
      "0D00:00:00.612842625 GE   786  10.31797 S    N       \n",
      "0D00:00:00.636878639 MSFT 556  2.356244 S    T       \n",
      "0D00:00:00.675553587 JPM  412  4.528074 S    N       \n",
      "0D00:00:00.694200694 GE   73   3.233227 S    N       \n",
      "0D00:00:00.855985526 MSFT 491  3.181912 S    T       \n",
      "0D00:00:00.886825496 MSFT 657  10.69653 S    T       \n",
      "0D00:00:00.925616411 GE   627  3.674395 S    N       \n",
      "0D00:00:00.950808226 JPM  922  4.093687 S    L       \n",
      "..\n"
     ]
    }
   ],
   "source": [
    "![trade;enlist(=;`side;enlist `B);0b;`$()]~delete from trade where side =`B\n",
    "![trade;enlist(=;`side;enlist `B);0b;`$()]"
   ]
  },
  {
   "cell_type": "markdown",
   "metadata": {
    "hidden": true
   },
   "source": [
    "As stated above, we cannot delete the fractions of rows or columns - functionally or otherwise! "
   ]
  },
  {
   "cell_type": "code",
   "execution_count": 175,
   "metadata": {
    "hidden": true
   },
   "outputs": [],
   "source": [
    "//delete time from trade where sym =`JPM"
   ]
  },
  {
   "cell_type": "markdown",
   "metadata": {
    "hidden": true,
    "reveal": "5uhfikaaj3f",
    "reveal-hidden": true
   },
   "source": [
    "##### Exercise\n",
    "\n",
    "In one statement, delete all rows from the `trade` table where the side was sell, or the exchange was N."
   ]
  },
  {
   "cell_type": "code",
   "execution_count": null,
   "metadata": {
    "hidden": true,
    "reveal": "5uhfikaaj3f"
   },
   "outputs": [],
   "source": [
    "//this one is tricky, so lets start with our qSQL! \n",
    "delete from trade where (side =`S) or exchange =`N //alternative: delete from trade where (side =`S)|exchange =`N"
   ]
  },
  {
   "cell_type": "code",
   "execution_count": null,
   "metadata": {
    "hidden": true,
    "reveal": "5uhfikaaj3f"
   },
   "outputs": [],
   "source": [
    "//now that we have that, lets parse it\n",
    "parse\"delete from trade where (side =`S) or exchange =`N\" //our \"or\" here makes this just one constraint"
   ]
  },
  {
   "cell_type": "code",
   "execution_count": null,
   "metadata": {
    "hidden": true,
    "reveal": "5uhfikaaj3f"
   },
   "outputs": [],
   "source": [
    "c: enlist (or;(=;`side;enlist `S);(=;`exchange;enlist `N)) //our constraint \n",
    "![trade;c;0b;`$()]  //delete is straightforward once we have our constraint"
   ]
  },
  {
   "cell_type": "code",
   "execution_count": 179,
   "metadata": {
    "hidden": true
   },
   "outputs": [
    {
     "name": "stdout",
     "output_type": "stream",
     "text": [
      "!\n",
      "`trade\n",
      ",,(|;(=;`side;,`S);(=;`exchange;,`N))\n",
      "0b\n",
      "`symbol$()\n",
      "time                 sym  size price     side exchange\n",
      "------------------------------------------------------\n",
      "0D00:00:00.182020766 JPM  101  7.154379  B    T       \n",
      "0D00:00:00.262837919 GE   879  6.18538   B    L       \n",
      "0D00:00:00.277730277 JPM  676  2.215053  B    L       \n",
      "0D00:00:00.341562921 GE   757  6.345187  B    T       \n",
      "0D00:00:00.487194983 GE   73   10.43362  B    T       \n",
      "0D00:00:00.559789508 MSFT 169  6.31297   B    T       \n",
      "0D00:00:00.570159504 MSFT 625  0.4931005 B    L       \n",
      "0D00:00:00.679208768 GE   633  9.520934  B    L       \n",
      "0D00:00:00.696681865 JPM  584  9.595467  B    L       \n",
      "0D00:00:00.751196438 MSFT 18   4.34695   B    L       \n",
      "0D00:00:00.756182324 JPM  338  2.839943  B    L       \n",
      "0D00:00:00.806247032 MSFT 226  10.3794   B    L       \n",
      "0D00:00:00.968378051 GE   586  2.890916  B    L       \n",
      "0D00:00:01.145559297 MSFT 772  2.606172  B    L       \n",
      "0D00:00:01.189870016 GE   873  9.477372  B    T       \n",
      "0D00:00:01.254313089 MSFT 479  10.36694  B    T       \n",
      "0D00:00:01.271072028 JPM  816  1.111303  B    L       \n",
      "0D00:00:01.329882022 MSFT 998  7.251091  B    T       \n",
      "0D00:00:01.352051945 MSFT 829  3.172873  B    T       \n",
      "0D00:00:01.416421492 MSFT 405  2.458974  B    L       \n",
      "..\n"
     ]
    }
   ],
   "source": [
    "// Write your code here\n",
    "parse \"delete from trade where (side=`S) or exchange=`N\"\n",
    "![trade; enlist(|;(=;`side;enlist`S);(=;`exchange;enlist`N));0b;`symbol$()]"
   ]
  },
  {
   "cell_type": "markdown",
   "metadata": {
    "hidden": true
   },
   "source": [
    "##### Quiz Time!\n",
    "Try the Exercises to test your functional statements knowledge!"
   ]
  }
 ],
 "metadata": {
  "jupytext": {
   "text_representation": {
    "extension": ".q",
    "format_name": "light",
    "format_version": "1.5",
    "jupytext_version": "1.4.1"
   }
  },
  "kernelspec": {
   "display_name": "Python 3 (ipykernel)",
   "language": "python",
   "name": "python3"
  },
  "language_info": {
   "codemirror_mode": {
    "name": "ipython",
    "version": 3
   },
   "file_extension": ".py",
   "mimetype": "text/x-python",
   "name": "python",
   "nbconvert_exporter": "python",
   "pygments_lexer": "ipython3",
   "version": "3.11.10"
  },
  "toc": {
   "base_numbering": 1,
   "nav_menu": {},
   "number_sections": true,
   "sideBar": true,
   "skip_h1_title": false,
   "title_cell": "Table of Contents",
   "title_sidebar": "Contents",
   "toc_cell": false,
   "toc_position": {
    "height": "calc(100% - 180px)",
    "left": "10px",
    "top": "150px",
    "width": "384px"
   },
   "toc_section_display": true,
   "toc_window_display": true
  }
 },
 "nbformat": 4,
 "nbformat_minor": 4
}
