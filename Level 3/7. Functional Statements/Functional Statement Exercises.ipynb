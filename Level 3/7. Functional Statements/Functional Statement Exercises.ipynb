{
 "cells": [
  {
   "cell_type": "code",
   "execution_count": 1,
   "metadata": {
    "autorun": true,
    "editable": false,
    "jupyter": {
     "source_hidden": true
    },
    "tags": [
     "remove-cell"
    ]
   },
   "outputs": [],
   "source": [
    "#;.pykx.disableJupyter()"
   ]
  },
  {
   "cell_type": "code",
   "execution_count": 2,
   "metadata": {
    "autorun": true,
    "editable": false,
    "jupyter": {
     "source_hidden": true
    },
    "tags": [
     "remove-cell"
    ]
   },
   "outputs": [
    {
     "name": "stdout",
     "output_type": "stream",
     "text": [
      "PyKX now running in 'jupyter_qfirst' mode. All cells by default will be run as q code. \n",
      "Include '%%py' at the beginning of each cell to run as python code. \n"
     ]
    }
   ],
   "source": [
    "# https://code.kx.com/pykx/3.0/examples/jupyter-integration.html#q-first-mode\n",
    "import pykx as kx\n",
    "kx.util.jupyter_qfirst_enable()"
   ]
  },
  {
   "cell_type": "code",
   "execution_count": 3,
   "metadata": {},
   "outputs": [],
   "source": [
    "trade:([]time: 10000?.z.n; sym:10000?`JPM`GE`MSFT;size:10000?1000;price:10000?12.0;side:10000?`B`S;exchange:10000?`N`T`L);\n",
    "trade:update asc time from trade;\n",
    "\n",
    "quote: delete price, side, exchange from update sym: 10000?`JPM`GE`MSFT, time:asc 10000?.z.n, ask:price+10000?0.5, bid: price - 10000?0.55 from trade;\n"
   ]
  },
  {
   "cell_type": "markdown",
   "metadata": {},
   "source": [
    "## KX Training Exercises - Functional Queries \n",
    " "
   ]
  },
  {
   "cell_type": "markdown",
   "metadata": {},
   "source": [
    "### Getting started"
   ]
  },
  {
   "cell_type": "markdown",
   "metadata": {
    "reveal": "t46qm5dwcud",
    "reveal-hidden": true,
    "tags": []
   },
   "source": [
    "* Use qSQL to select all trades from the trade table where the sym is GE."
   ]
  },
  {
   "cell_type": "code",
   "execution_count": null,
   "metadata": {
    "reveal": "t46qm5dwcud"
   },
   "outputs": [],
   "source": [
    "select from trade where sym =`GE"
   ]
  },
  {
   "cell_type": "code",
   "execution_count": 6,
   "metadata": {},
   "outputs": [
    {
     "name": "stdout",
     "output_type": "stream",
     "text": [
      "time                 sym size price     side exchange\n",
      "-----------------------------------------------------\n",
      "0D00:00:02.728127870 GE  836  7.902781  B    N       \n",
      "0D00:00:09.459668482 GE  629  0.8670789 S    L       \n",
      "0D00:00:13.284543507 GE  887  0.1945694 S    N       \n",
      "0D00:00:24.989021263 GE  886  9.099495  S    N       \n",
      "0D00:00:32.307062063 GE  651  1.317616  S    L       \n",
      "0D00:00:38.086324184 GE  316  6.716545  B    L       \n",
      "0D00:00:38.483768970 GE  279  0.1117252 S    L       \n",
      "0D00:00:43.565919907 GE  193  3.319038  S    N       \n",
      "0D00:00:51.570652165 GE  371  4.902494  S    N       \n",
      "0D00:00:53.538480245 GE  30   4.286536  S    L       \n",
      "0D00:00:55.737594298 GE  657  10.34786  S    T       \n",
      "0D00:00:57.464113668 GE  900  3.691099  B    T       \n",
      "0D00:00:58.826566439 GE  500  7.896539  S    T       \n",
      "0D00:01:08.299175799 GE  170  9.388716  S    N       \n",
      "0D00:01:13.940965580 GE  187  10.55421  B    L       \n",
      "0D00:01:21.765484509 GE  618  4.303683  S    L       \n",
      "0D00:01:22.925719302 GE  488  7.566707  B    L       \n",
      "0D00:01:32.443642359 GE  994  2.643496  B    T       \n",
      "0D00:01:35.586321722 GE  355  11.5811   S    N       \n",
      "0D00:01:35.793767608 GE  389  4.152322  S    L       \n",
      "..\n"
     ]
    }
   ],
   "source": [
    "//your answer here\n",
    "select from trade where sym = `GE"
   ]
  },
  {
   "cell_type": "markdown",
   "metadata": {
    "reveal": "estmpu2743d",
    "reveal-hidden": true,
    "tags": []
   },
   "source": [
    "* Write the same query in its functional form. "
   ]
  },
  {
   "cell_type": "code",
   "execution_count": null,
   "metadata": {
    "reveal": "estmpu2743d"
   },
   "outputs": [],
   "source": [
    "parse\"select from trade where sym =`GE\"\n",
    "?[trade;enlist(=;`sym;enlist `GE);0b;()]"
   ]
  },
  {
   "cell_type": "code",
   "execution_count": 7,
   "metadata": {},
   "outputs": [
    {
     "name": "stdout",
     "output_type": "stream",
     "text": [
      "?\n",
      "`trade\n",
      ",,(=;`sym;,`GE)\n",
      "0b\n",
      "()\n"
     ]
    }
   ],
   "source": [
    "//your answer here\n",
    "parse \"select from trade where sym = `GE\""
   ]
  },
  {
   "cell_type": "code",
   "execution_count": 9,
   "metadata": {},
   "outputs": [
    {
     "name": "stdout",
     "output_type": "stream",
     "text": [
      "time                 sym size price     side exchange\n",
      "-----------------------------------------------------\n",
      "0D00:00:02.728127870 GE  836  7.902781  B    N       \n",
      "0D00:00:09.459668482 GE  629  0.8670789 S    L       \n",
      "0D00:00:13.284543507 GE  887  0.1945694 S    N       \n",
      "0D00:00:24.989021263 GE  886  9.099495  S    N       \n",
      "0D00:00:32.307062063 GE  651  1.317616  S    L       \n",
      "0D00:00:38.086324184 GE  316  6.716545  B    L       \n",
      "0D00:00:38.483768970 GE  279  0.1117252 S    L       \n",
      "0D00:00:43.565919907 GE  193  3.319038  S    N       \n",
      "0D00:00:51.570652165 GE  371  4.902494  S    N       \n",
      "0D00:00:53.538480245 GE  30   4.286536  S    L       \n",
      "0D00:00:55.737594298 GE  657  10.34786  S    T       \n",
      "0D00:00:57.464113668 GE  900  3.691099  B    T       \n",
      "0D00:00:58.826566439 GE  500  7.896539  S    T       \n",
      "0D00:01:08.299175799 GE  170  9.388716  S    N       \n",
      "0D00:01:13.940965580 GE  187  10.55421  B    L       \n",
      "0D00:01:21.765484509 GE  618  4.303683  S    L       \n",
      "0D00:01:22.925719302 GE  488  7.566707  B    L       \n",
      "0D00:01:32.443642359 GE  994  2.643496  B    T       \n",
      "0D00:01:35.586321722 GE  355  11.5811   S    N       \n",
      "0D00:01:35.793767608 GE  389  4.152322  S    L       \n",
      "..\n"
     ]
    }
   ],
   "source": [
    "?[`trade;enlist(=;`sym;enlist `GE);0b;()]"
   ]
  },
  {
   "cell_type": "markdown",
   "metadata": {
    "reveal": "p2akx9w2fdi",
    "reveal-hidden": true,
    "tags": []
   },
   "source": [
    "*  Use a functional exec statements to return all trades where the sym is GE. "
   ]
  },
  {
   "cell_type": "code",
   "execution_count": null,
   "metadata": {
    "reveal": "p2akx9w2fdi"
   },
   "outputs": [],
   "source": [
    "//if we don't specify any columns to return from our exec we'll just get the last record!\n",
    "?[trade;enlist(=;`sym;enlist `GE);();`$()]   //exec aggregation is an empty list"
   ]
  },
  {
   "cell_type": "code",
   "execution_count": null,
   "metadata": {
    "reveal": "p2akx9w2fdi"
   },
   "outputs": [],
   "source": [
    "//we really need to pass all the columns to get all the trade values back \n",
    "a:x!x:cols[trade]\n",
    "a\n",
    "?[trade;enlist(=;`sym;enlist `GE);();a]"
   ]
  },
  {
   "cell_type": "code",
   "execution_count": 10,
   "metadata": {},
   "outputs": [
    {
     "name": "stdout",
     "output_type": "stream",
     "text": [
      "?\n",
      "`trade\n",
      ",,(=;`sym;,`GE)\n",
      "()\n",
      "()\n"
     ]
    }
   ],
   "source": [
    "//your answer here\n",
    "parse \"exec from trade where sym = `GE\""
   ]
  },
  {
   "cell_type": "code",
   "execution_count": 13,
   "metadata": {},
   "outputs": [
    {
     "name": "stdout",
     "output_type": "stream",
     "text": [
      "time    | time\n",
      "sym     | sym\n",
      "size    | size\n",
      "price   | price\n",
      "side    | side\n",
      "exchange| exchange\n",
      "time    | 0D00:00:02.728127870 0D00:00:09.459668482 0D00:00:13.284543507 0D00..\n",
      "sym     | GE                   GE                   GE                   GE  ..\n",
      "size    | 836                  629                  887                  886 ..\n",
      "price   | 7.902781             0.8670789            0.1945694            9.09..\n",
      "side    | B                    S                    S                    S   ..\n",
      "exchange| N                    L                    N                    N   ..\n"
     ]
    }
   ],
   "source": [
    "allCols:x!x:cols[trade]\n",
    "allCols\n",
    "\n",
    "?[`trade;enlist(=;`sym;enlist `GE);();allCols]"
   ]
  },
  {
   "cell_type": "markdown",
   "metadata": {
    "reveal": "ro4w3ryrhi",
    "reveal-hidden": true,
    "tags": []
   },
   "source": [
    "* What is the difference between the functional form of a select statement and an exec statement? "
   ]
  },
  {
   "cell_type": "markdown",
   "metadata": {
    "reveal": "ro4w3ryrhi"
   },
   "source": [
    "An `exec` statement is a special form of a select statement. \n",
    "\n",
    "In order to specify an `exec` that results in a dictionary (not a keyed table), or a single list we need to specify the group-by constraint as an empty list, not a boolean value.\n",
    "\n",
    "In order to return a single list, we would provide the name of the column to `exec`, as the last aggregation argument. "
   ]
  },
  {
   "cell_type": "code",
   "execution_count": null,
   "metadata": {
    "reveal": "ro4w3ryrhi"
   },
   "outputs": [],
   "source": [
    "?[trade;();();`sym]   //exec sym from trade"
   ]
  },
  {
   "cell_type": "markdown",
   "metadata": {
    "reveal": "ro4w3ryrhi"
   },
   "source": [
    "If we wanted to return more than only column as a dictionary, we would provide that a dictionary of our required values as the last argument. "
   ]
  },
  {
   "cell_type": "code",
   "execution_count": null,
   "metadata": {
    "reveal": "ro4w3ryrhi"
   },
   "outputs": [],
   "source": [
    "?[trade;();();`sym`size!`sym`size]   //exec sym, size from trade"
   ]
  },
  {
   "cell_type": "code",
   "execution_count": 14,
   "metadata": {},
   "outputs": [],
   "source": [
    "//your answer here\n",
    "/\n",
    "the third argument(groupby) in the brackets is usually () instead of 0b or 1b. This constraint is\n",
    "given as an empty list, not a boolean value as is the case with \"select\"\n",
    "\\"
   ]
  },
  {
   "cell_type": "markdown",
   "metadata": {
    "reveal": "zumw2cpwer",
    "reveal-hidden": true,
    "tags": []
   },
   "source": [
    "* Write an update statement that returns a table with all GE syms as GOOGL. "
   ]
  },
  {
   "cell_type": "code",
   "execution_count": 19,
   "metadata": {
    "reveal": "zumw2cpwer"
   },
   "outputs": [
    {
     "name": "stdout",
     "output_type": "stream",
     "text": [
      "time                 sym   size price     side exchange\n",
      "-------------------------------------------------------\n",
      "0D00:00:01.950602791 JPM   50   4.023332  B    L       \n",
      "0D00:00:02.454503056 JPM   416  8.303743  B    T       \n",
      "0D00:00:02.728127870 GOOGL 836  7.902781  B    N       \n",
      "0D00:00:04.588046556 JPM   701  5.712206  B    T       \n",
      "0D00:00:05.866734208 MSFT  971  1.234537  B    N       \n",
      "0D00:00:07.776400516 MSFT  99   5.344637  S    T       \n",
      "0D00:00:09.459668482 GOOGL 629  0.8670789 S    L       \n",
      "0D00:00:11.483889918 MSFT  647  3.300439  B    N       \n",
      "0D00:00:12.586957996 MSFT  4    5.01986   B    N       \n",
      "0D00:00:13.284543507 GOOGL 887  0.1945694 S    N       \n",
      "0D00:00:15.289039127 MSFT  644  3.749992  B    L       \n",
      "0D00:00:17.988166025 JPM   110  3.090464  S    T       \n",
      "0D00:00:20.896651584 JPM   424  1.113022  S    L       \n",
      "0D00:00:24.989021263 GOOGL 886  9.099495  S    N       \n",
      "0D00:00:32.307062063 GOOGL 651  1.317616  S    L       \n",
      "0D00:00:34.720690505 JPM   936  1.714663  B    T       \n",
      "0D00:00:36.422751101 MSFT  631  3.776316  S    N       \n",
      "0D00:00:38.086324184 GOOGL 316  6.716545  B    L       \n",
      "0D00:00:38.483768970 GOOGL 279  0.1117252 S    L       \n",
      "0D00:00:39.083153324 MSFT  513  5.016888  B    L       \n",
      "..\n"
     ]
    }
   ],
   "source": [
    "//constraint - where sym = `GE\n",
    "//update columns - sym -> GOOGL\n",
    "![trade;enlist (=;`sym;enlist `GE);0b;enlist[`sym]!enlist(enlist `GOOGL)]"
   ]
  },
  {
   "cell_type": "code",
   "execution_count": 17,
   "metadata": {},
   "outputs": [
    {
     "name": "stdout",
     "output_type": "stream",
     "text": [
      "!\n",
      "`trade\n",
      ",,(=;`sym;,`GE)\n",
      "0b\n",
      "(,`sym)!,,`GOOGL\n"
     ]
    }
   ],
   "source": [
    "//your answer here\n",
    "parse\"update sym:`GOOGL from trade where sym = `GE\""
   ]
  },
  {
   "cell_type": "code",
   "execution_count": 20,
   "metadata": {},
   "outputs": [
    {
     "name": "stdout",
     "output_type": "stream",
     "text": [
      "time                 sym   size price     side exchange\n",
      "-------------------------------------------------------\n",
      "0D00:00:01.950602791 JPM   50   4.023332  B    L       \n",
      "0D00:00:02.454503056 JPM   416  8.303743  B    T       \n",
      "0D00:00:02.728127870 GOOGL 836  7.902781  B    N       \n",
      "0D00:00:04.588046556 JPM   701  5.712206  B    T       \n",
      "0D00:00:05.866734208 MSFT  971  1.234537  B    N       \n",
      "0D00:00:07.776400516 MSFT  99   5.344637  S    T       \n",
      "0D00:00:09.459668482 GOOGL 629  0.8670789 S    L       \n",
      "0D00:00:11.483889918 MSFT  647  3.300439  B    N       \n",
      "0D00:00:12.586957996 MSFT  4    5.01986   B    N       \n",
      "0D00:00:13.284543507 GOOGL 887  0.1945694 S    N       \n",
      "0D00:00:15.289039127 MSFT  644  3.749992  B    L       \n",
      "0D00:00:17.988166025 JPM   110  3.090464  S    T       \n",
      "0D00:00:20.896651584 JPM   424  1.113022  S    L       \n",
      "0D00:00:24.989021263 GOOGL 886  9.099495  S    N       \n",
      "0D00:00:32.307062063 GOOGL 651  1.317616  S    L       \n",
      "0D00:00:34.720690505 JPM   936  1.714663  B    T       \n",
      "0D00:00:36.422751101 MSFT  631  3.776316  S    N       \n",
      "0D00:00:38.086324184 GOOGL 316  6.716545  B    L       \n",
      "0D00:00:38.483768970 GOOGL 279  0.1117252 S    L       \n",
      "0D00:00:39.083153324 MSFT  513  5.016888  B    L       \n",
      "..\n"
     ]
    }
   ],
   "source": [
    "![trade; enlist(=;`sym; enlist `GE);0b;(enlist`sym)!enlist (enlist `GOOGL)]"
   ]
  },
  {
   "cell_type": "markdown",
   "metadata": {
    "reveal": "2anw2c33fkx",
    "reveal-hidden": false,
    "tags": []
   },
   "source": [
    "* How does this differ from functional select and exec statements?"
   ]
  },
  {
   "cell_type": "markdown",
   "metadata": {
    "reveal": "2anw2c33fkx"
   },
   "source": [
    "If differs primarily by using the `!` operator rather than the `?` operation in functional format. The other differences with functional `select` and `exec` are the differences arising in the syntax for `exec`. Other than that, the syntax for `update` and `select` are equivalent. \n",
    "\n",
    "A major difference is the return values - an `update` will return the table with the updates added, while a `select` will only return the columns specific and where the constraint is met,"
   ]
  },
  {
   "cell_type": "code",
   "execution_count": 21,
   "metadata": {},
   "outputs": [],
   "source": [
    "//your answer here\n",
    "/\n",
    "1. The use of the ! instead of the ?\n",
    "\n",
    "2. Update return all rows, with those that do not meet the update criteria too. Select return only thoose that meet the specified criteria\n",
    "\\"
   ]
  },
  {
   "cell_type": "markdown",
   "metadata": {
    "reveal": "qt0auca47lb",
    "reveal-hidden": true,
    "tags": []
   },
   "source": [
    "* Return the trade table filtered for only `JPM` and `MSFT`"
   ]
  },
  {
   "cell_type": "code",
   "execution_count": null,
   "metadata": {
    "reveal": "qt0auca47lb"
   },
   "outputs": [],
   "source": [
    "whereClause:enlist (in;`sym;enlist `JPM`MSFT);\n",
    "byClause:0b; \n",
    "returnClause:()\n",
    "\n",
    "?[trade;whereClause;byClause;returnClause]"
   ]
  },
  {
   "cell_type": "code",
   "execution_count": 22,
   "metadata": {},
   "outputs": [
    {
     "name": "stdout",
     "output_type": "stream",
     "text": [
      "time                 sym  size price     side exchange\n",
      "------------------------------------------------------\n",
      "0D00:00:01.950602791 JPM  50   4.023332  B    L       \n",
      "0D00:00:02.454503056 JPM  416  8.303743  B    T       \n",
      "0D00:00:04.588046556 JPM  701  5.712206  B    T       \n",
      "0D00:00:05.866734208 MSFT 971  1.234537  B    N       \n",
      "0D00:00:07.776400516 MSFT 99   5.344637  S    T       \n",
      "0D00:00:11.483889918 MSFT 647  3.300439  B    N       \n",
      "0D00:00:12.586957996 MSFT 4    5.01986   B    N       \n",
      "0D00:00:15.289039127 MSFT 644  3.749992  B    L       \n",
      "0D00:00:17.988166025 JPM  110  3.090464  S    T       \n",
      "0D00:00:20.896651584 JPM  424  1.113022  S    L       \n",
      "0D00:00:34.720690505 JPM  936  1.714663  B    T       \n",
      "0D00:00:36.422751101 MSFT 631  3.776316  S    N       \n",
      "0D00:00:39.083153324 MSFT 513  5.016888  B    L       \n",
      "0D00:00:48.923515631 MSFT 12   1.821893  B    L       \n",
      "0D00:00:58.936017395 MSFT 657  0.9566334 S    T       \n",
      "0D00:01:00.993235493 JPM  48   2.891547  S    T       \n",
      "0D00:01:10.809479303 MSFT 784  10.92874  S    T       \n",
      "0D00:01:17.371051019 JPM  976  4.355798  S    T       \n",
      "0D00:01:22.546273164 MSFT 780  3.577579  B    L       \n",
      "0D00:01:23.021708652 JPM  443  1.516432  S    N       \n",
      "..\n"
     ]
    }
   ],
   "source": [
    "//your answer here\n",
    "select from trade where sym in `JPM`MSFT"
   ]
  },
  {
   "cell_type": "code",
   "execution_count": 23,
   "metadata": {},
   "outputs": [
    {
     "name": "stdout",
     "output_type": "stream",
     "text": [
      "?\n",
      "`trade\n",
      ",,(in;`sym;,`JPM`MSFT)\n",
      "0b\n",
      "()\n"
     ]
    }
   ],
   "source": [
    "parse \"select from trade where sym in `JPM`MSFT\""
   ]
  },
  {
   "cell_type": "code",
   "execution_count": 24,
   "metadata": {},
   "outputs": [
    {
     "name": "stdout",
     "output_type": "stream",
     "text": [
      "time                 sym  size price     side exchange\n",
      "------------------------------------------------------\n",
      "0D00:00:01.950602791 JPM  50   4.023332  B    L       \n",
      "0D00:00:02.454503056 JPM  416  8.303743  B    T       \n",
      "0D00:00:04.588046556 JPM  701  5.712206  B    T       \n",
      "0D00:00:05.866734208 MSFT 971  1.234537  B    N       \n",
      "0D00:00:07.776400516 MSFT 99   5.344637  S    T       \n",
      "0D00:00:11.483889918 MSFT 647  3.300439  B    N       \n",
      "0D00:00:12.586957996 MSFT 4    5.01986   B    N       \n",
      "0D00:00:15.289039127 MSFT 644  3.749992  B    L       \n",
      "0D00:00:17.988166025 JPM  110  3.090464  S    T       \n",
      "0D00:00:20.896651584 JPM  424  1.113022  S    L       \n",
      "0D00:00:34.720690505 JPM  936  1.714663  B    T       \n",
      "0D00:00:36.422751101 MSFT 631  3.776316  S    N       \n",
      "0D00:00:39.083153324 MSFT 513  5.016888  B    L       \n",
      "0D00:00:48.923515631 MSFT 12   1.821893  B    L       \n",
      "0D00:00:58.936017395 MSFT 657  0.9566334 S    T       \n",
      "0D00:01:00.993235493 JPM  48   2.891547  S    T       \n",
      "0D00:01:10.809479303 MSFT 784  10.92874  S    T       \n",
      "0D00:01:17.371051019 JPM  976  4.355798  S    T       \n",
      "0D00:01:22.546273164 MSFT 780  3.577579  B    L       \n",
      "0D00:01:23.021708652 JPM  443  1.516432  S    N       \n",
      "..\n"
     ]
    }
   ],
   "source": [
    "?[`trade;enlist(in;`sym;enlist `JPM`MSFT);0b;()]"
   ]
  },
  {
   "cell_type": "markdown",
   "metadata": {
    "reveal": "xq7ihsiq3r",
    "reveal-hidden": true,
    "tags": []
   },
   "source": [
    "* Return the trade table with a new column `vol` which is the `size` multiplied by the `price`. "
   ]
  },
  {
   "cell_type": "code",
   "execution_count": null,
   "metadata": {
    "reveal": "xq7ihsiq3r"
   },
   "outputs": [],
   "source": [
    "//qSQL\n",
    "update vol:size*price from trade"
   ]
  },
  {
   "cell_type": "code",
   "execution_count": null,
   "metadata": {
    "reveal": "xq7ihsiq3r"
   },
   "outputs": [],
   "source": [
    "whereClause:()\n",
    "byClause:0b\n",
    "returnClause:enlist [`vol]! enlist (*;`size;`price)   //update only needs the new columns\n",
    " \n",
    "![trade;whereClause;byClause;returnClause]"
   ]
  },
  {
   "cell_type": "code",
   "execution_count": null,
   "metadata": {
    "reveal": "xq7ihsiq3r"
   },
   "outputs": [],
   "source": [
    "//alternatively as a select statement \n",
    "whereClause:()\n",
    "byClause:0b\n",
    "returnClause: (cols[trade],`vol)!cols[trade],enlist (*;`size;`price) //need to explictly return all the columns\n",
    "\n",
    "?[trade;whereClause;byClause;returnClause]"
   ]
  },
  {
   "cell_type": "code",
   "execution_count": 27,
   "metadata": {},
   "outputs": [
    {
     "name": "stdout",
     "output_type": "stream",
     "text": [
      "!\n",
      "`trade\n",
      "()\n",
      "0b\n",
      "(,`vol)!,(*;`size;`price)\n",
      "time                 sym   size price     side exchange vol     \n",
      "----------------------------------------------------------------\n",
      "0D00:00:01.950602791 JPM   50   4.023332  B    L        201.1666\n",
      "0D00:00:02.454503056 JPM   416  8.303743  B    T        3454.357\n",
      "0D00:00:02.728127870 GOOGL 836  7.902781  B    N        6606.725\n",
      "0D00:00:04.588046556 JPM   701  5.712206  B    T        4004.256\n",
      "0D00:00:05.866734208 MSFT  971  1.234537  B    N        1198.736\n",
      "0D00:00:07.776400516 MSFT  99   5.344637  S    T        529.1191\n",
      "0D00:00:09.459668482 GOOGL 629  0.8670789 S    L        545.3926\n",
      "0D00:00:11.483889918 MSFT  647  3.300439  B    N        2135.384\n",
      "0D00:00:12.586957996 MSFT  4    5.01986   B    N        20.07944\n",
      "0D00:00:13.284543507 GOOGL 887  0.1945694 S    N        172.5831\n",
      "0D00:00:15.289039127 MSFT  644  3.749992  B    L        2414.995\n",
      "0D00:00:17.988166025 JPM   110  3.090464  S    T        339.951 \n",
      "0D00:00:20.896651584 JPM   424  1.113022  S    L        471.9214\n",
      "0D00:00:24.989021263 GOOGL 886  9.099495  S    N        8062.152\n",
      "0D00:00:32.307062063 GOOGL 651  1.317616  S    L        857.7683\n",
      "0D00:00:34.720690505 JPM   936  1.714663  B    T        1604.924\n",
      "0D00:00:36.422751101 MSFT  631  3.776316  S    N        2382.855\n",
      "0D00:00:38.086324184 GOOGL 316  6.716545  B    L        2122.428\n",
      "0D00:00:38.483768970 GOOGL 279  0.1117252 S    L        31.17134\n",
      "0D00:00:39.083153324 MSFT  513  5.016888  B    L        2573.664\n",
      "..\n"
     ]
    }
   ],
   "source": [
    "//your answer here\n",
    "parse \"update vol:size*price from trade\"\n",
    "![trade;();0b;(enlist `vol)!enlist(*;`size;`price)]"
   ]
  },
  {
   "cell_type": "markdown",
   "metadata": {
    "reveal": "of0n2zf8dd",
    "reveal-hidden": true,
    "tags": []
   },
   "source": [
    "* Remove the `exchange` column from the `trade` table."
   ]
  },
  {
   "cell_type": "code",
   "execution_count": null,
   "metadata": {
    "reveal": "of0n2zf8dd"
   },
   "outputs": [],
   "source": [
    "//qSQL \n",
    "delete exchange from trade \n",
    "parse\"delete exchange from trade\""
   ]
  },
  {
   "cell_type": "code",
   "execution_count": null,
   "metadata": {
    "reveal": "of0n2zf8dd"
   },
   "outputs": [],
   "source": [
    "whereClause:()\n",
    "byClause:0b\n",
    "returnClause:enlist `exchange\n",
    "\n",
    "![trade;whereClause;byClause;returnClause]"
   ]
  },
  {
   "cell_type": "code",
   "execution_count": 30,
   "metadata": {},
   "outputs": [
    {
     "name": "stdout",
     "output_type": "stream",
     "text": [
      "!\n",
      "`trade\n",
      "()\n",
      "0b\n",
      ",,`exchange\n",
      "time                 sym   size price     side\n",
      "----------------------------------------------\n",
      "0D00:00:01.950602791 JPM   50   4.023332  B   \n",
      "0D00:00:02.454503056 JPM   416  8.303743  B   \n",
      "0D00:00:02.728127870 GOOGL 836  7.902781  B   \n",
      "0D00:00:04.588046556 JPM   701  5.712206  B   \n",
      "0D00:00:05.866734208 MSFT  971  1.234537  B   \n",
      "0D00:00:07.776400516 MSFT  99   5.344637  S   \n",
      "0D00:00:09.459668482 GOOGL 629  0.8670789 S   \n",
      "0D00:00:11.483889918 MSFT  647  3.300439  B   \n",
      "0D00:00:12.586957996 MSFT  4    5.01986   B   \n",
      "0D00:00:13.284543507 GOOGL 887  0.1945694 S   \n",
      "0D00:00:15.289039127 MSFT  644  3.749992  B   \n",
      "0D00:00:17.988166025 JPM   110  3.090464  S   \n",
      "0D00:00:20.896651584 JPM   424  1.113022  S   \n",
      "0D00:00:24.989021263 GOOGL 886  9.099495  S   \n",
      "0D00:00:32.307062063 GOOGL 651  1.317616  S   \n",
      "0D00:00:34.720690505 JPM   936  1.714663  B   \n",
      "0D00:00:36.422751101 MSFT  631  3.776316  S   \n",
      "0D00:00:38.086324184 GOOGL 316  6.716545  B   \n",
      "0D00:00:38.483768970 GOOGL 279  0.1117252 S   \n",
      "0D00:00:39.083153324 MSFT  513  5.016888  B   \n",
      "..\n"
     ]
    }
   ],
   "source": [
    "//your answer here\n",
    "parse \"delete exchange from trade\"\n",
    "![trade;();0b;enlist`exchange]"
   ]
  },
  {
   "cell_type": "markdown",
   "metadata": {
    "reveal": "cgh1d7sudho",
    "reveal-hidden": true,
    "tags": []
   },
   "source": [
    "* Return the VWAP for each 15 minutes of the day for all stocks from the trade table"
   ]
  },
  {
   "cell_type": "code",
   "execution_count": 34,
   "metadata": {
    "reveal": "cgh1d7sudho"
   },
   "outputs": [
    {
     "name": "stdout",
     "output_type": "stream",
     "text": [
      "minute sym  | VWAP    \n",
      "------------| --------\n",
      "00:00  GOOGL| 5.199817\n",
      "00:00  JPM  | 5.867571\n",
      "00:00  MSFT | 6.17178 \n",
      "00:15  GOOGL| 5.515229\n",
      "00:15  JPM  | 6.05027 \n",
      "00:15  MSFT | 6.427343\n",
      "00:30  GOOGL| 5.6042  \n",
      "00:30  JPM  | 5.372532\n",
      "00:30  MSFT | 5.925803\n",
      "00:45  GOOGL| 5.699392\n",
      "00:45  JPM  | 5.981638\n",
      "00:45  MSFT | 6.901365\n",
      "01:00  GOOGL| 6.038383\n",
      "01:00  JPM  | 5.943835\n",
      "01:00  MSFT | 5.618254\n",
      "01:15  GOOGL| 6.298213\n",
      "01:15  JPM  | 6.116462\n",
      "01:15  MSFT | 6.252055\n",
      "01:30  GOOGL| 5.847539\n",
      "01:30  JPM  | 6.143822\n",
      "..\n"
     ]
    }
   ],
   "source": [
    "select VWAP:size wavg price by 15 xbar time.minute, sym from trade"
   ]
  },
  {
   "cell_type": "code",
   "execution_count": null,
   "metadata": {
    "reveal": "cgh1d7sudho"
   },
   "outputs": [],
   "source": [
    "whereClause: () //no constraint \n",
    "byClause: `minute`sym!((xbar;15;`time.minute);`sym)\n",
    "returnClause: enlist[`VWAP]!enlist (wavg;`size;`price)\n",
    "\n",
    "?[trade;whereClause;byClause;returnClause]"
   ]
  },
  {
   "cell_type": "code",
   "execution_count": 41,
   "metadata": {
    "scrolled": true
   },
   "outputs": [
    {
     "name": "stdout",
     "output_type": "stream",
     "text": [
      "?\n",
      "`trade\n",
      "()\n",
      "`minute`sym!((k){x*y div x:$[16h=abs[@x];\"j\"$x;x]};15;`time.minute);`sym)\n",
      "(,`VWAP)!,(wavg;`size;`price)\n",
      "minute sym  | VWAP    \n",
      "------------| --------\n",
      "00:00  GOOGL| 5.199817\n",
      "00:00  JPM  | 5.867571\n",
      "00:00  MSFT | 6.17178 \n",
      "00:15  GOOGL| 5.515229\n",
      "00:15  JPM  | 6.05027 \n",
      "00:15  MSFT | 6.427343\n",
      "00:30  GOOGL| 5.6042  \n",
      "00:30  JPM  | 5.372532\n",
      "00:30  MSFT | 5.925803\n",
      "00:45  GOOGL| 5.699392\n",
      "00:45  JPM  | 5.981638\n",
      "00:45  MSFT | 6.901365\n",
      "01:00  GOOGL| 6.038383\n",
      "01:00  JPM  | 5.943835\n",
      "01:00  MSFT | 5.618254\n",
      "01:15  GOOGL| 6.298213\n",
      "01:15  JPM  | 6.116462\n",
      "01:15  MSFT | 6.252055\n",
      "01:30  GOOGL| 5.847539\n",
      "01:30  JPM  | 6.143822\n",
      "..\n"
     ]
    }
   ],
   "source": [
    "//your answer here\n",
    "parse \"select VWAP: size wavg price by 15 xbar time.minute, sym from trade\"\n",
    "?[`trade;();`minute`sym!((xbar;15;`time.minute);`sym);(enlist`VWAP)!enlist(wavg;`size;`price)]"
   ]
  },
  {
   "cell_type": "markdown",
   "metadata": {},
   "source": [
    "### Writing Functions with Functional Forms\n"
   ]
  },
  {
   "cell_type": "markdown",
   "metadata": {
    "reveal": "hqgd5m35ei8",
    "reveal-hidden": false,
    "tags": []
   },
   "source": [
    "* Write the qSQL and corresponding functional form to calculate the 5 shift moving average price for the `JPM` stock series in the trade table. Call the moving average column `price_5`."
   ]
  },
  {
   "cell_type": "code",
   "execution_count": 43,
   "metadata": {
    "reveal": "hqgd5m35ei8"
   },
   "outputs": [
    {
     "name": "stdout",
     "output_type": "stream",
     "text": [
      "price_5 \n",
      "--------\n",
      "4.023332\n",
      "6.163537\n",
      "6.013093\n",
      "5.282436\n",
      "4.448553\n",
      "3.986819\n",
      "2.90438 \n",
      "2.633099\n",
      "2.318293\n",
      "3.741623\n",
      "3.589088\n",
      "3.380535\n",
      "2.581333\n",
      "3.932581\n",
      "2.618905\n",
      "3.050058\n",
      "4.726241\n",
      "4.78112 \n",
      "4.977283\n",
      "6.99792 \n",
      "..\n"
     ]
    }
   ],
   "source": [
    "//qSQL \n",
    "select price_5: 5 mavg price from trade where sym = `JPM"
   ]
  },
  {
   "cell_type": "code",
   "execution_count": null,
   "metadata": {
    "reveal": "hqgd5m35ei8"
   },
   "outputs": [],
   "source": [
    "whereClause: enlist (=;`sym;enlist `JPM)  //enlisting JPM to keep as a symbol and not interpreted as a variable\n",
    "byClause:0b\n",
    "returnClause:enlist[`price_5]!enlist (mavg;5;`price)\n",
    "\n",
    "?[trade;whereClause;byClause;returnClause]"
   ]
  },
  {
   "cell_type": "code",
   "execution_count": 50,
   "metadata": {},
   "outputs": [
    {
     "name": "stdout",
     "output_type": "stream",
     "text": [
      "price_5 \n",
      "--------\n",
      "4.023332\n",
      "6.163537\n",
      "6.013093\n",
      "5.282436\n",
      "4.448553\n",
      "?\n",
      "`trade\n",
      ",,(=;`sym;,`JPM)\n",
      "0b\n",
      "(,`price_5)!,(k){msum[x;0.0^y]%mcount[x;y]};5;`price)\n",
      "price_5 \n",
      "--------\n",
      "4.023332\n",
      "6.163537\n",
      "6.013093\n",
      "5.282436\n",
      "4.448553\n",
      "3.986819\n",
      "2.90438 \n",
      "2.633099\n",
      "2.318293\n",
      "3.741623\n",
      "3.589088\n",
      "3.380535\n",
      "2.581333\n",
      "3.932581\n",
      "2.618905\n",
      "3.050058\n",
      "4.726241\n",
      "4.78112 \n",
      "4.977283\n",
      "6.99792 \n",
      "..\n"
     ]
    }
   ],
   "source": [
    "//your answer here\n",
    "//qSQL\n",
    "5#select price_5: 5 mavg price from trade where sym=`JPM\n",
    "\n",
    "//Functional\n",
    "parse \"select price_5: 5 mavg price from trade where sym=`JPM\"\n",
    "?[trade;enlist(=;`sym;enlist`JPM);0b;enlist[`price_5]!enlist (mavg;5;`price)]"
   ]
  },
  {
   "cell_type": "markdown",
   "metadata": {
    "reveal": "v7swhobp0j",
    "reveal-hidden": false,
    "tags": []
   },
   "source": [
    "* Write the qSQL and corresponding functional form to calculate the 5 shift moving average price for **each** stock series in the trade table. Call the moving average column `price_5`."
   ]
  },
  {
   "cell_type": "code",
   "execution_count": 53,
   "metadata": {
    "reveal": "v7swhobp0j"
   },
   "outputs": [],
   "source": [
    "//qSQL \n",
    "select price_5: 5 mavg price by sym from trade"
   ]
  },
  {
   "cell_type": "code",
   "execution_count": null,
   "metadata": {
    "reveal": "v7swhobp0j"
   },
   "outputs": [],
   "source": [
    "whereClause: ()  //enlisting JPM to keep as a symbol and not interpreted as a variable\n",
    "byClause:enlist [`sym]!enlist `sym\n",
    "returnClause:enlist[`price_5]!enlist (mavg;5;`price)\n",
    "\n",
    "?[trade;whereClause;byClause;returnClause]"
   ]
  },
  {
   "cell_type": "code",
   "execution_count": 58,
   "metadata": {
    "scrolled": true
   },
   "outputs": [
    {
     "name": "stdout",
     "output_type": "stream",
     "text": [
      "?\n",
      "`trade\n",
      "()\n",
      "(,`sym)!,`sym\n",
      "(,`price_5)!,(k){msum[x;0.0^y]%mcount[x;y]};5;`price)\n",
      "sym  | price_5                                                               ..\n",
      "-----| ----------------------------------------------------------------------..\n",
      "GOOGL| 7.902781 4.38493 2.988143 4.515981 3.876308 3.639061 3.48799 4.112884 ..\n",
      "JPM  | 4.023332 6.163537 6.013093 5.282436 4.448553 3.986819 2.90438 2.633099..\n",
      "MSFT | 1.234537 3.289587 3.293204 3.724868 3.729893 4.238249 4.172699 3.87699..\n"
     ]
    }
   ],
   "source": [
    "//your answer here\n",
    "parse \"select price_5: 5 mavg price by sym from trade\" \n",
    "?[`trade;();(enlist`sym)!enlist`sym;(enlist`price_5)!(enlist(mavg;5;`price))]"
   ]
  },
  {
   "cell_type": "markdown",
   "metadata": {
    "reveal": "op8wnbizju8",
    "reveal-hidden": true,
    "tags": []
   },
   "source": [
    "* Write a function `Xmavg_price` that takes a single input `X` which is an atomic value and calculates the 'X' shifted moving average price for **each** stock series in the trade table. Call the moving average column `price_X`.\n",
    "\n",
    "Test your function with a value of 5"
   ]
  },
  {
   "cell_type": "code",
   "execution_count": 60,
   "metadata": {
    "reveal": "op8wnbizju8"
   },
   "outputs": [
    {
     "name": "stdout",
     "output_type": "stream",
     "text": [
      "sym  | price                                                                 ..\n",
      "-----| ----------------------------------------------------------------------..\n",
      "GOOGL| 7.902781 4.38493 2.988143 4.515981 3.876308 3.639061 3.48799 4.112884 ..\n",
      "JPM  | 4.023332 6.163537 6.013093 5.282436 4.448553 3.986819 2.90438 2.633099..\n",
      "MSFT | 1.234537 3.289587 3.293204 3.724868 3.729893 4.238249 4.172699 3.87699..\n"
     ]
    }
   ],
   "source": [
    "Xmavg_price: {[X] \n",
    "\n",
    "    whereClause: () ; //enlisting JPM to keep as a symbol and not interpreted as a variable\n",
    "    byClause:enlist [`sym]!enlist `sym;\n",
    "    returnClause:enlist[`price]!enlist (mavg;X;`price);\n",
    "\n",
    "    ?[trade;whereClause;byClause;returnClause]\n",
    " }\n",
    "Xmavg_price 5"
   ]
  },
  {
   "cell_type": "code",
   "execution_count": 61,
   "metadata": {},
   "outputs": [
    {
     "name": "stdout",
     "output_type": "stream",
     "text": [
      "sym  | price_x                                                               ..\n",
      "-----| ----------------------------------------------------------------------..\n",
      "GOOGL| 7.902781 4.38493 2.988143 4.515981 3.876308 3.639061 3.48799 4.112884 ..\n",
      "JPM  | 4.023332 6.163537 6.013093 5.282436 4.448553 3.986819 2.90438 2.633099..\n",
      "MSFT | 1.234537 3.289587 3.293204 3.724868 3.729893 4.238249 4.172699 3.87699..\n"
     ]
    }
   ],
   "source": [
    "//your answer here\n",
    "Xmavg_price:{select price_x: x mavg price by sym from trade}\n",
    "Xmavg_price 5"
   ]
  },
  {
   "cell_type": "markdown",
   "metadata": {
    "reveal": "dcpc3cvimt8",
    "reveal-hidden": false,
    "tags": []
   },
   "source": [
    "* Write a function `Xmavg_price` that takes a single input `shiftList` to calculate the 'X' shifted moving average price for shift within the `shiftList` variable for **each** stock series in the trade table. Call the moving average column `price_X`."
   ]
  },
  {
   "cell_type": "code",
   "execution_count": null,
   "metadata": {
    "reveal": "dcpc3cvimt8"
   },
   "outputs": [],
   "source": [
    "Xmavg_price: {[shiftList] \n",
    "\n",
    "    whereClause: () ; //enlisting JPM to keep as a symbol and not interpreted as a variable\n",
    "    byClause:enlist [`sym]!enlist `sym;\n",
    "    returnClause:(`$\"price\",/:string shiftList)!{(mavg;x;`price)} each shiftList;\n",
    "\n",
    "    ?[trade;whereClause;byClause;returnClause]\n",
    " }\n",
    "\n",
    "Xmavg_price 5 7 \n",
    "\n",
    "meta Xmavg_price 5 7 "
   ]
  },
  {
   "cell_type": "code",
   "execution_count": null,
   "metadata": {},
   "outputs": [],
   "source": [
    "//your answer here\n"
   ]
  },
  {
   "cell_type": "markdown",
   "metadata": {},
   "source": [
    "## Additional Questions\n",
    " "
   ]
  },
  {
   "cell_type": "markdown",
   "metadata": {
    "reveal": "bnt2670kw5j",
    "reveal-hidden": true,
    "tags": []
   },
   "source": [
    "* Write a function `getCols` that accepts column names from the trade table and returns these columns selected from the trade table. The function should be able to accept single items or lists."
   ]
  },
  {
   "cell_type": "code",
   "execution_count": null,
   "metadata": {
    "reveal": "bnt2670kw5j"
   },
   "outputs": [],
   "source": [
    "getCols:{?[trade;();0b;c!c:$[1=count x;enlist x;x]]}\n",
    "getCols[`sym`size`price]\n",
    "getCols[`sym]"
   ]
  },
  {
   "cell_type": "code",
   "execution_count": 65,
   "metadata": {},
   "outputs": [
    {
     "name": "stdout",
     "output_type": "stream",
     "text": [
      "sym   size price    \n",
      "--------------------\n",
      "JPM   50   4.023332 \n",
      "JPM   416  8.303743 \n",
      "GOOGL 836  7.902781 \n",
      "JPM   701  5.712206 \n",
      "MSFT  971  1.234537 \n",
      "MSFT  99   5.344637 \n",
      "GOOGL 629  0.8670789\n",
      "MSFT  647  3.300439 \n",
      "MSFT  4    5.01986  \n",
      "GOOGL 887  0.1945694\n",
      "MSFT  644  3.749992 \n",
      "JPM   110  3.090464 \n",
      "JPM   424  1.113022 \n",
      "GOOGL 886  9.099495 \n",
      "GOOGL 651  1.317616 \n",
      "JPM   936  1.714663 \n",
      "MSFT  631  3.776316 \n",
      "GOOGL 316  6.716545 \n",
      "GOOGL 279  0.1117252\n",
      "MSFT  513  5.016888 \n",
      "..\n",
      "sym  \n",
      "-----\n",
      "JPM  \n",
      "JPM  \n",
      "GOOGL\n",
      "JPM  \n",
      "MSFT \n",
      "MSFT \n",
      "GOOGL\n",
      "MSFT \n",
      "MSFT \n",
      "GOOGL\n",
      "MSFT \n",
      "JPM  \n",
      "JPM  \n",
      "GOOGL\n",
      "GOOGL\n",
      "JPM  \n",
      "MSFT \n",
      "GOOGL\n",
      "GOOGL\n",
      "MSFT \n",
      "..\n"
     ]
    }
   ],
   "source": [
    "//your answer here\n",
    "\n",
    "getCols:{[columnList]?[trade;();0b;c!c:$[1=count columnList;enlist columnList;columnList]]}\n",
    "getCols[`sym`size`price]\n",
    "getCols[`sym]"
   ]
  },
  {
   "cell_type": "markdown",
   "metadata": {
    "reveal": "ichid2fogei",
    "reveal-hidden": true,
    "tags": []
   },
   "source": [
    "* First let's add an additional column to the trade table of type string."
   ]
  },
  {
   "cell_type": "code",
   "execution_count": null,
   "metadata": {
    "reveal": "ichid2fogei"
   },
   "outputs": [],
   "source": [
    "trade:update newCol:count[trade]#(\"ABC\";\"DEF\";\"GHI\")from trade"
   ]
  },
  {
   "cell_type": "code",
   "execution_count": 76,
   "metadata": {},
   "outputs": [
    {
     "name": "stdout",
     "output_type": "stream",
     "text": [
      "10000\n",
      "\"ABC\"\n",
      "\"DEF\"\n",
      "\"GHI\"\n",
      "time                 sym   size price     side exchange newCol\n",
      "--------------------------------------------------------------\n",
      "0D00:00:01.950602791 JPM   50   4.023332  B    L        \"DEF\" \n",
      "0D00:00:02.454503056 JPM   416  8.303743  B    T        \"DEF\" \n",
      "0D00:00:02.728127870 GOOGL 836  7.902781  B    N        \"GHI\" \n",
      "0D00:00:04.588046556 JPM   701  5.712206  B    T        \"GHI\" \n",
      "0D00:00:05.866734208 MSFT  971  1.234537  B    N        \"ABC\" \n",
      "0D00:00:07.776400516 MSFT  99   5.344637  S    T        \"DEF\" \n",
      "0D00:00:09.459668482 GOOGL 629  0.8670789 S    L        \"GHI\" \n",
      "0D00:00:11.483889918 MSFT  647  3.300439  B    N        \"GHI\" \n",
      "0D00:00:12.586957996 MSFT  4    5.01986   B    N        \"GHI\" \n",
      "0D00:00:13.284543507 GOOGL 887  0.1945694 S    N        \"DEF\" \n",
      "0D00:00:15.289039127 MSFT  644  3.749992  B    L        \"DEF\" \n",
      "0D00:00:17.988166025 JPM   110  3.090464  S    T        \"ABC\" \n",
      "0D00:00:20.896651584 JPM   424  1.113022  S    L        \"ABC\" \n",
      "0D00:00:24.989021263 GOOGL 886  9.099495  S    N        \"DEF\" \n",
      "0D00:00:32.307062063 GOOGL 651  1.317616  S    L        \"DEF\" \n",
      "0D00:00:34.720690505 JPM   936  1.714663  B    T        \"ABC\" \n",
      "0D00:00:36.422751101 MSFT  631  3.776316  S    N        \"GHI\" \n",
      "0D00:00:38.086324184 GOOGL 316  6.716545  B    L        \"DEF\" \n",
      "0D00:00:38.483768970 GOOGL 279  0.1117252 S    L        \"ABC\" \n",
      "0D00:00:39.083153324 MSFT  513  5.016888  B    L        \"GHI\" \n",
      "..\n"
     ]
    }
   ],
   "source": [
    "//your answer here\n",
    "show n:count trade\n",
    "show stringList:(\"ABC\";\"DEF\";\"GHI\")\n",
    "show trade:update newCol:n?stringList from trade"
   ]
  },
  {
   "cell_type": "markdown",
   "metadata": {
    "reveal": "bbj6ehagoub",
    "reveal-hidden": false,
    "tags": []
   },
   "source": [
    "* Create a functional select query which returns all instances of the trade where `newCol` is equal to `\"ABC\"`."
   ]
  },
  {
   "cell_type": "code",
   "execution_count": null,
   "metadata": {
    "reveal": "bbj6ehagoub"
   },
   "outputs": [],
   "source": [
    "?[trade;enlist(like;`newCol;($:;enlist`ABC));0b;()]"
   ]
  },
  {
   "cell_type": "code",
   "execution_count": 87,
   "metadata": {},
   "outputs": [
    {
     "name": "stdout",
     "output_type": "stream",
     "text": [
      "time                 sym   size price     side exchange newCol\n",
      "--------------------------------------------------------------\n",
      "0D00:00:05.866734208 MSFT  971  1.234537  B    N        \"ABC\" \n",
      "0D00:00:17.988166025 JPM   110  3.090464  S    T        \"ABC\" \n",
      "0D00:00:20.896651584 JPM   424  1.113022  S    L        \"ABC\" \n",
      "0D00:00:34.720690505 JPM   936  1.714663  B    T        \"ABC\" \n",
      "0D00:00:38.483768970 GOOGL 279  0.1117252 S    L        \"ABC\" \n",
      "0D00:00:51.570652165 GOOGL 371  4.902494  S    N        \"ABC\" \n",
      "0D00:00:57.464113668 GOOGL 900  3.691099  B    T        \"ABC\" \n",
      "0D00:01:10.809479303 MSFT  784  10.92874  S    T        \"ABC\" \n",
      "0D00:01:22.925719302 GOOGL 488  7.566707  B    L        \"ABC\" \n",
      "0D00:01:56.009264988 MSFT  654  11.61283  B    N        \"ABC\" \n",
      "0D00:02:13.816583531 GOOGL 178  3.319224  S    N        \"ABC\" \n",
      "0D00:02:13.924920850 GOOGL 131  11.81892  B    T        \"ABC\" \n",
      "0D00:02:14.154691039 JPM   664  3.107754  B    L        \"ABC\" \n",
      "0D00:02:17.713824359 MSFT  168  4.06164   S    T        \"ABC\" \n",
      "0D00:02:20.235269391 GOOGL 686  7.572337  S    L        \"ABC\" \n",
      "0D00:02:24.741917309 GOOGL 402  7.63538   B    T        \"ABC\" \n",
      "0D00:02:31.341069129 GOOGL 480  0.6602376 B    N        \"ABC\" \n",
      "0D00:02:31.681836993 MSFT  204  0.8306125 B    N        \"ABC\" \n",
      "0D00:02:41.847510291 JPM   393  9.253486  S    N        \"ABC\" \n",
      "0D00:02:44.451292305 JPM   425  11.76448  S    N        \"ABC\" \n",
      "..\n"
     ]
    }
   ],
   "source": [
    "//your answer here\n",
    "select from trade where newCol like \"ABC\""
   ]
  },
  {
   "cell_type": "code",
   "execution_count": 88,
   "metadata": {},
   "outputs": [
    {
     "name": "stdout",
     "output_type": "stream",
     "text": [
      "time                 sym   size price     side exchange newCol\n",
      "--------------------------------------------------------------\n",
      "0D00:00:05.866734208 MSFT  971  1.234537  B    N        \"ABC\" \n",
      "0D00:00:17.988166025 JPM   110  3.090464  S    T        \"ABC\" \n",
      "0D00:00:20.896651584 JPM   424  1.113022  S    L        \"ABC\" \n",
      "0D00:00:34.720690505 JPM   936  1.714663  B    T        \"ABC\" \n",
      "0D00:00:38.483768970 GOOGL 279  0.1117252 S    L        \"ABC\" \n",
      "0D00:00:51.570652165 GOOGL 371  4.902494  S    N        \"ABC\" \n",
      "0D00:00:57.464113668 GOOGL 900  3.691099  B    T        \"ABC\" \n",
      "0D00:01:10.809479303 MSFT  784  10.92874  S    T        \"ABC\" \n",
      "0D00:01:22.925719302 GOOGL 488  7.566707  B    L        \"ABC\" \n",
      "0D00:01:56.009264988 MSFT  654  11.61283  B    N        \"ABC\" \n",
      "0D00:02:13.816583531 GOOGL 178  3.319224  S    N        \"ABC\" \n",
      "0D00:02:13.924920850 GOOGL 131  11.81892  B    T        \"ABC\" \n",
      "0D00:02:14.154691039 JPM   664  3.107754  B    L        \"ABC\" \n",
      "0D00:02:17.713824359 MSFT  168  4.06164   S    T        \"ABC\" \n",
      "0D00:02:20.235269391 GOOGL 686  7.572337  S    L        \"ABC\" \n",
      "0D00:02:24.741917309 GOOGL 402  7.63538   B    T        \"ABC\" \n",
      "0D00:02:31.341069129 GOOGL 480  0.6602376 B    N        \"ABC\" \n",
      "0D00:02:31.681836993 MSFT  204  0.8306125 B    N        \"ABC\" \n",
      "0D00:02:41.847510291 JPM   393  9.253486  S    N        \"ABC\" \n",
      "0D00:02:44.451292305 JPM   425  11.76448  S    N        \"ABC\" \n",
      "..\n"
     ]
    }
   ],
   "source": [
    "?[trade;enlist(like;`newCol;($:;enlist`ABC));0b;()] //couldn't figure it out on my own"
   ]
  },
  {
   "cell_type": "code",
   "execution_count": null,
   "metadata": {},
   "outputs": [],
   "source": []
  }
 ],
 "metadata": {
  "kernelspec": {
   "display_name": "Python 3 (ipykernel)",
   "language": "python",
   "name": "python3"
  },
  "language_info": {
   "codemirror_mode": {
    "name": "ipython",
    "version": 3
   },
   "file_extension": ".py",
   "mimetype": "text/x-python",
   "name": "python",
   "nbconvert_exporter": "python",
   "pygments_lexer": "ipython3",
   "version": "3.11.10"
  },
  "toc": {
   "base_numbering": 1,
   "nav_menu": {},
   "number_sections": true,
   "sideBar": true,
   "skip_h1_title": false,
   "title_cell": "Table of Contents",
   "title_sidebar": "Contents",
   "toc_cell": false,
   "toc_position": {},
   "toc_section_display": true,
   "toc_window_display": false
  }
 },
 "nbformat": 4,
 "nbformat_minor": 4
}
