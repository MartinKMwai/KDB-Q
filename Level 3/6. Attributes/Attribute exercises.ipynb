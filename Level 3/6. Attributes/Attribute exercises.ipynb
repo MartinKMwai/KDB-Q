{
 "cells": [
  {
   "cell_type": "code",
   "execution_count": 1,
   "metadata": {
    "autorun": true,
    "editable": false,
    "jupyter": {
     "source_hidden": true
    },
    "tags": [
     "remove-cell"
    ]
   },
   "outputs": [],
   "source": [
    "#;.pykx.disableJupyter()"
   ]
  },
  {
   "cell_type": "code",
   "execution_count": 2,
   "metadata": {
    "autorun": true,
    "editable": false,
    "jupyter": {
     "source_hidden": true
    },
    "tags": [
     "remove-cell"
    ]
   },
   "outputs": [
    {
     "name": "stdout",
     "output_type": "stream",
     "text": [
      "PyKX now running in 'jupyter_qfirst' mode. All cells by default will be run as q code. \n",
      "Include '%%py' at the beginning of each cell to run as python code. \n"
     ]
    }
   ],
   "source": [
    "# https://code.kx.com/pykx/3.0/examples/jupyter-integration.html#q-first-mode\n",
    "import pykx as kx\n",
    "kx.util.jupyter_qfirst_enable()"
   ]
  },
  {
   "cell_type": "markdown",
   "metadata": {},
   "source": [
    "## KX Training Attributes: Exercises"
   ]
  },
  {
   "cell_type": "markdown",
   "metadata": {
    "reveal": "2z33q90k6y",
    "reveal-hidden": true,
    "tags": []
   },
   "source": [
    "* * Create a list of 200000 distinct numbers. Measure the time to search for items at the front, middle and back of the list repeating the seach 1000 times."
   ]
  },
  {
   "cell_type": "code",
   "execution_count": 13,
   "metadata": {
    "reveal": "2z33q90k6y"
   },
   "outputs": [
    {
     "name": "stdout",
     "output_type": "stream",
     "text": [
      "0\n",
      "37\n",
      "83\n"
     ]
    }
   ],
   "source": [
    "x:til 200000\n",
    "front:x[0]     //getting first value \n",
    "middle:x[`int$count[x]%2]  //getting middle value\n",
    "back:x[-1+count[x]]   //getting last value\n",
    "\n",
    "\\t:1000 x?front\n",
    "\\t:1000 x?middle\n",
    "\\t:1000 x?back"
   ]
  },
  {
   "cell_type": "code",
   "execution_count": 4,
   "metadata": {},
   "outputs": [
    {
     "name": "stdout",
     "output_type": "stream",
     "text": [
      "0 704\n",
      "38 704\n",
      "78 704\n"
     ]
    }
   ],
   "source": [
    "//write your code here\n",
    "intlist:til 200000\n",
    "\n",
    "front:intlist[0]\n",
    "middle:intlist[`int$count[intlist]%2]\n",
    "end:intlist[-1+count[intlist]]\n",
    "\n",
    "\\ts:1000 intlist?front\n",
    "\\ts:1000 intlist?middle\n",
    "\\ts:1000 intlist?end"
   ]
  },
  {
   "cell_type": "markdown",
   "metadata": {
    "reveal": "jusnnvu8wln",
    "reveal-hidden": true,
    "tags": []
   },
   "source": [
    "* Repeat the above question however apply the sorted attribute to the list"
   ]
  },
  {
   "cell_type": "code",
   "execution_count": 14,
   "metadata": {
    "reveal": "jusnnvu8wln"
   },
   "outputs": [
    {
     "name": "stdout",
     "output_type": "stream",
     "text": [
      "0\n",
      "0\n",
      "0\n"
     ]
    }
   ],
   "source": [
    "sx:`s#x\n",
    "\n",
    "\\t:1000 sx?front\n",
    "\\t:1000 sx?middle\n",
    "\\t:1000 sx?back"
   ]
  },
  {
   "cell_type": "code",
   "execution_count": 5,
   "metadata": {},
   "outputs": [
    {
     "name": "stdout",
     "output_type": "stream",
     "text": [
      "0 704\n",
      "0 704\n",
      "0 704\n"
     ]
    }
   ],
   "source": [
    "//write your code here\n",
    "new:`s#intlist\n",
    "\\ts:1000 new?front\n",
    "\\ts:1000 new?middle\n",
    "\\ts:1000 new?end"
   ]
  },
  {
   "cell_type": "markdown",
   "metadata": {
    "reveal": "1zkty1wj9fe",
    "reveal-hidden": true,
    "tags": []
   },
   "source": [
    "* Repeat again and apply the unique attribute to the list:"
   ]
  },
  {
   "cell_type": "code",
   "execution_count": null,
   "metadata": {
    "reveal": "1zkty1wj9fe"
   },
   "outputs": [],
   "source": [
    "ux:`u#x\n",
    "\n",
    "\\t:1000 ux?front\n",
    "\\t:1000 ux?middle\n",
    "\\t:1000 ux?back"
   ]
  },
  {
   "cell_type": "code",
   "execution_count": 6,
   "metadata": {},
   "outputs": [
    {
     "name": "stdout",
     "output_type": "stream",
     "text": [
      "0\n",
      "0\n",
      "0\n"
     ]
    }
   ],
   "source": [
    "//write your code here\n",
    "newUnique:`u#intlist\n",
    "\n",
    "\\t:1000 newUnique?front\n",
    "\\t:1000 newUnique?middle\n",
    "\\t:1000 newUnique?end"
   ]
  },
  {
   "cell_type": "markdown",
   "metadata": {
    "reveal": "ujaur0wxjj",
    "reveal-hidden": true,
    "tags": []
   },
   "source": [
    "* Show the memory overhead using [hcount](https://code.kx.com/q/ref/hcount/) on the below lists with a grouped attribute:\n",
    "     1. List of longs\n",
    "     2. List of ints"
   ]
  },
  {
   "cell_type": "code",
   "execution_count": null,
   "metadata": {
    "reveal": "ujaur0wxjj"
   },
   "outputs": [],
   "source": [
    "`:listOfLong set til 100000       //saving it down as a file on disk\n",
    "`:listOfGroupLong set `g#til 100000\n",
    "\n",
    "hcount `:listOfLong\n",
    "hcount `:listOfGroupLong\n",
    "hcount[`:listOfGroupLong] - hcount `:listOfLong //finding the difference in bytes"
   ]
  },
  {
   "cell_type": "code",
   "execution_count": null,
   "metadata": {
    "reveal": "ujaur0wxjj"
   },
   "outputs": [],
   "source": [
    "`:listOfInt set `int$til 100000        //saving it down as a file on disk\n",
    "`:listOfGroupInt set `g#`int$til 100000\n",
    "\n",
    "hcount `:listOfInt\n",
    "hcount `:listOfGroupInt\n",
    "hcount[`:listOfGroupInt]- hcount `:listOfInt //finding the difference in bytes"
   ]
  },
  {
   "cell_type": "code",
   "execution_count": 7,
   "metadata": {},
   "outputs": [
    {
     "name": "stdout",
     "output_type": "stream",
     "text": [
      ":longList\n",
      ":GroupedLongList\n",
      "4745784\n",
      "800016\n",
      "5545800\n"
     ]
    }
   ],
   "source": [
    "//write your code here\n",
    "`:longList set til 100000\n",
    "`:GroupedLongList set `g#til 100000\n",
    "\n",
    "show a:hcount `:longList\n",
    "show b:hcount `:GroupedLongList\n",
    "\n",
    "abs a-b\n",
    "\n",
    "//GROUPED HAS A LOT OF OVERHEAD"
   ]
  },
  {
   "cell_type": "code",
   "execution_count": 24,
   "metadata": {},
   "outputs": [
    {
     "name": "stdout",
     "output_type": "stream",
     "text": [
      "400016\n",
      "4621512\n",
      ":integerList\n",
      ":GroupedintegerList\n",
      "4221496\n"
     ]
    }
   ],
   "source": [
    "`:integerList set `int$til 100000\n",
    "`:GroupedintegerList set `g#`int$til 100000\n",
    "\n",
    "show c:hcount `:integerList\n",
    "show d:hcount `:GroupedintegerList\n",
    "\n",
    "abs c-d\n",
    "\n",
    "//GROUPED HAS A LOT OF OVERHEAD"
   ]
  },
  {
   "cell_type": "markdown",
   "metadata": {
    "reveal": "zylb691w8i",
    "reveal-hidden": true,
    "tags": []
   },
   "source": [
    "* What would be the conditions required for a table to be a good candidate to have the sorted attribute applied to a column of a table?"
   ]
  },
  {
   "cell_type": "markdown",
   "metadata": {
    "reveal": "zylb691w8i"
   },
   "source": [
    "Static table or guaranteed that all inserts preserve the sort. If this condition is met there is no point not having it – no downside, even if the sort is preserved infrequently. For example, the time column of the trade table in the standard tick configuration, provided all the timestamps come from a single ticker plant (time monotonicity is preserved)"
   ]
  },
  {
   "cell_type": "code",
   "execution_count": 8,
   "metadata": {},
   "outputs": [],
   "source": [
    "//no coding is required for this question\n",
    "\n",
    "//The condition is that whatever the new entries are, they should preserve the sorted attribute"
   ]
  },
  {
   "cell_type": "markdown",
   "metadata": {},
   "source": [
    "Let's define a small trades table for the next question."
   ]
  },
  {
   "cell_type": "code",
   "execution_count": 9,
   "metadata": {},
   "outputs": [
    {
     "name": "stdout",
     "output_type": "stream",
     "text": [
      "date       time         sym  price   \n",
      "-------------------------------------\n",
      "2025.03.13 11:30:39.000 AIG  45.25059\n",
      "2025.03.13 14:43:30.000 DELL 50.60316\n",
      "2025.03.13 15:53:32.000 DOW  57.56219\n",
      "2025.03.13 09:44:38.000 GOOG 91.1725 \n",
      "2025.03.13 13:59:04.000 AAPL 42.95208\n"
     ]
    }
   ],
   "source": [
    "n:100000\n",
    "show 5#smalltrade:([]date:n#.z.d;time:09:30:00.000+n?08:00:00;sym:n?`AIG`AAPL`DELL`DOW`GOOG`IBM;price:n?100.)"
   ]
  },
  {
   "cell_type": "markdown",
   "metadata": {
    "reveal": "pxtkx1ilr",
    "reveal-hidden": true,
    "tags": []
   },
   "source": [
    "* Using tables that has the sorted attribute and no attribute applied to the time column, which table retrieves the below query the fastest repeating 100 times :\n",
    "\n",
    "```select from smalltrade where time within 12:00 13:00```"
   ]
  },
  {
   "cell_type": "code",
   "execution_count": null,
   "metadata": {
    "reveal": "pxtkx1ilr"
   },
   "outputs": [],
   "source": [
    "sortedtrade:`time xasc smalltrade\n",
    "\n",
    "\\t:100 select from smalltrade where time within 12:00 13:00\n",
    "\\t:100 select from sortedtrade where time within 12:00 13:00 //using table with sorted attribute"
   ]
  },
  {
   "cell_type": "code",
   "execution_count": 10,
   "metadata": {},
   "outputs": [
    {
     "name": "stdout",
     "output_type": "stream",
     "text": [
      "27\n"
     ]
    }
   ],
   "source": [
    "\\t:100 select from smalltrade where time within 12:00 13:00"
   ]
  },
  {
   "cell_type": "code",
   "execution_count": 11,
   "metadata": {},
   "outputs": [
    {
     "name": "stdout",
     "output_type": "stream",
     "text": [
      "4\n"
     ]
    }
   ],
   "source": [
    "//write your code here\n",
    "sortedTable:`time xasc smalltrade\n",
    "\\t:100 select from sortedTable where time within 12:00 13:00\n"
   ]
  },
  {
   "cell_type": "markdown",
   "metadata": {
    "reveal": "icbjkaqvzva",
    "reveal-hidden": true,
    "tags": []
   },
   "source": [
    "* What would be the conditions required for a table to be a good candidate to have the unique attribute applied to a column of a table?"
   ]
  },
  {
   "cell_type": "markdown",
   "metadata": {
    "reveal": "icbjkaqvzva"
   },
   "source": [
    "Either a static table where the uniqueness of the column is preserved, or a single keyed table where uniqueness is automatically enforced. No real down side to applying the unique attribute to any column of a table with length > 100 (approx). For example, a keyed table containing instrument information on a per stock basis."
   ]
  },
  {
   "cell_type": "code",
   "execution_count": 12,
   "metadata": {},
   "outputs": [],
   "source": [
    "//no coding is required for this question\n",
    "/\n",
    "Whatever the new entries are in the column, they must have not been in the column before. They must be unique. It can also be a keyed column where uniqueness is \n",
    "autoimatically enforced.\n",
    "\\"
   ]
  },
  {
   "cell_type": "markdown",
   "metadata": {
    "reveal": "5yl7hf32lq2",
    "reveal-hidden": true,
    "tags": []
   },
   "source": [
    "* What would be the conditions required for a table to be a good candidate to have the grouped attribute applied to a column of a table?"
   ]
  },
  {
   "cell_type": "markdown",
   "metadata": {
    "reveal": "5yl7hf32lq2"
   },
   "source": [
    "Any column with a large number of entries but a much smaller number of distinct items which is regularly searched. The downside is extra memory usage. For example, the sym column of the trade table in the RTD of a standard tick db.\n"
   ]
  },
  {
   "cell_type": "code",
   "execution_count": null,
   "metadata": {},
   "outputs": [],
   "source": [
    "//no coding is required for this question\n",
    "//If a column has a large number of entries, but has a smaller number of unique items that are searched frequently"
   ]
  },
  {
   "cell_type": "markdown",
   "metadata": {
    "reveal": "ylh5me08li",
    "reveal-hidden": true,
    "tags": []
   },
   "source": [
    "* Demonstrate using a table the difference made to search times by having the grouped attribute on sym using the query below:\n",
    "\n",
    "``` select from smalltrade where sym=`IBM ```"
   ]
  },
  {
   "cell_type": "code",
   "execution_count": null,
   "metadata": {
    "reveal": "ylh5me08li"
   },
   "outputs": [],
   "source": [
    "groupedtrade: update `g#sym from smalltrade\n",
    "\n",
    "\\t:100 select from smalltrade where sym=`IBM\n",
    "\\t:100 select from groupedtrade where sym=`IBM"
   ]
  },
  {
   "cell_type": "code",
   "execution_count": 14,
   "metadata": {},
   "outputs": [
    {
     "name": "stdout",
     "output_type": "stream",
     "text": [
      "220\n",
      "108\n"
     ]
    }
   ],
   "source": [
    "//write your code here\n",
    "groupTrade: update `g#sym from smalltrade\n",
    "\\t:1000 select from smalltrade where sym = `IBM\n",
    "\\t:1000 select from groupTrade where sym = `IBM "
   ]
  },
  {
   "cell_type": "markdown",
   "metadata": {
    "reveal": "my2azaz5nrl",
    "reveal-hidden": true,
    "tags": []
   },
   "source": [
    "Given the table below, implement three ways to speed up queries on the data.\n",
    "\n",
    "* **Query**- select avg price from t where sym=`JPM,time.time>09:00,ID within 500 600"
   ]
  },
  {
   "cell_type": "code",
   "execution_count": 15,
   "metadata": {},
   "outputs": [
    {
     "name": "stdout",
     "output_type": "stream",
     "text": [
      "time                          sym  ID     price   \n",
      "--------------------------------------------------\n",
      "2025.03.13D22:35:09.792000000 JPM  491599 33.7496 \n",
      "2025.03.13D11:08:16.049000000 JPM  508615 28.70688\n",
      "2025.03.13D15:50:11.639000000 JPM  9503   64.45635\n",
      "2025.03.13D18:18:19.684000000 GOOG 769170 96.59235\n",
      "2025.03.13D19:54:59.594000000 AMZN 463077 15.93356\n",
      "2025.03.13D17:28:21.697000000 AMZN 31     89.97697\n",
      "2025.03.13D10:46:42.881000000 JPM  403657 50.27151\n",
      "2025.03.13D03:50:14.483000000 JPM  659198 85.36489\n",
      "2025.03.13D01:12:12.009000000 GOOG 868970 41.5535 \n",
      "2025.03.13D01:09:55.973000000 AMZN 36549  11.1922 \n",
      "2025.03.13D18:08:05.162000000 AAPL 595205 35.97477\n",
      "2025.03.13D14:27:42.086000000 AMZN 284591 33.59551\n",
      "2025.03.13D16:32:54.785000000 JPM  737551 4.047001\n",
      "2025.03.13D20:09:41.823000000 AMZN 539407 18.84824\n",
      "2025.03.13D01:10:00.559000000 JPM  200329 81.28662\n",
      "2025.03.13D11:20:37.273000000 GOOG 800948 95.72724\n",
      "2025.03.13D22:02:17.172000000 AMZN 775578 40.83471\n",
      "2025.03.13D15:02:20.336000000 AMZN 689855 47.825  \n",
      "2025.03.13D13:57:17.549000000 AMZN 910616 32.06523\n",
      "2025.03.13D19:30:38.938000000 AMZN 350960 31.28427\n",
      "..\n"
     ]
    }
   ],
   "source": [
    "n:1000000\n",
    "show t:([]time:\"P\"$(string[.z.d],\"D\"),/:string[n?00:00:00.000];sym:n?`AAPL`JPM`GOOG`AMZN;ID:\"i\"$neg[n]?n;price:n?100f)"
   ]
  },
  {
   "cell_type": "code",
   "execution_count": 21,
   "metadata": {
    "reveal": "my2azaz5nrl"
   },
   "outputs": [],
   "source": [
    "newTab:`time xasc t //speeding up the time lookup using the sorted attribute on time column\n",
    "newTab:update `u#ID, `g#sym from newTab //applying grouped and unique to improve performance on sym and ID lookup"
   ]
  },
  {
   "cell_type": "code",
   "execution_count": 22,
   "metadata": {
    "reveal": "my2azaz5nrl"
   },
   "outputs": [
    {
     "name": "stdout",
     "output_type": "stream",
     "text": [
      "7610\n",
      "6814\n"
     ]
    }
   ],
   "source": [
    "\\t:1000 select avg price from t where sym=`JPM,time.time>09:00,ID within 500 600\n",
    "\\t:1000 select avg price from newTab where sym=`JPM,time.time>09:00,ID within 500 600"
   ]
  },
  {
   "cell_type": "code",
   "execution_count": 19,
   "metadata": {},
   "outputs": [
    {
     "name": "stdout",
     "output_type": "stream",
     "text": [
      "c    | t f a\n",
      "-----| -----\n",
      "time | p   s\n",
      "sym  | s    \n",
      "ID   | i    \n",
      "price| f    \n",
      "c    | t f a\n",
      "-----| -----\n",
      "time | p   s\n",
      "sym  | s    \n",
      "ID   | i   u\n",
      "price| f    \n",
      "c    | t f a\n",
      "-----| -----\n",
      "time | p   s\n",
      "sym  | s   g\n",
      "ID   | i   u\n",
      "price| f    \n"
     ]
    }
   ],
   "source": [
    "//write your code here\n",
    "sortedt:`time xasc t\n",
    "uniquet : update `u#ID from sortedt\n",
    "uniquePart: update `g#sym from uniquet\n",
    "meta t\n",
    "meta uniquet\n",
    "meta uniquePart\n"
   ]
  },
  {
   "cell_type": "code",
   "execution_count": 20,
   "metadata": {},
   "outputs": [
    {
     "name": "stdout",
     "output_type": "stream",
     "text": [
      "7718\n",
      "6742\n"
     ]
    }
   ],
   "source": [
    "\\t:1000 select avg price from t where sym=`JPM,time.time>09:00,ID within 500 600\n",
    "\\t:1000 select avg price from uniquePart where sym=`JPM,time.time>09:00,ID within 500 600"
   ]
  },
  {
   "cell_type": "code",
   "execution_count": null,
   "metadata": {},
   "outputs": [],
   "source": []
  }
 ],
 "metadata": {
  "kernelspec": {
   "display_name": "Python 3 (ipykernel)",
   "language": "python",
   "name": "python3"
  },
  "language_info": {
   "codemirror_mode": {
    "name": "ipython",
    "version": 3
   },
   "file_extension": ".py",
   "mimetype": "text/x-python",
   "name": "python",
   "nbconvert_exporter": "python",
   "pygments_lexer": "ipython3",
   "version": "3.11.10"
  },
  "toc": {
   "base_numbering": 1,
   "nav_menu": {},
   "number_sections": true,
   "sideBar": true,
   "skip_h1_title": false,
   "title_cell": "Table of Contents",
   "title_sidebar": "Contents",
   "toc_cell": false,
   "toc_position": {},
   "toc_section_display": true,
   "toc_window_display": false
  }
 },
 "nbformat": 4,
 "nbformat_minor": 4
}
