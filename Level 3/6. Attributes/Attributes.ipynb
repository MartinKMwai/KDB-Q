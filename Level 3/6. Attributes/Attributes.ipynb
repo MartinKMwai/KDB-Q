{
 "cells": [
  {
   "cell_type": "code",
   "execution_count": 1,
   "metadata": {
    "autorun": true,
    "editable": false,
    "jupyter": {
     "source_hidden": true
    },
    "tags": [
     "remove-cell"
    ]
   },
   "outputs": [],
   "source": [
    "#;.pykx.disableJupyter()"
   ]
  },
  {
   "cell_type": "code",
   "execution_count": 2,
   "metadata": {
    "autorun": true,
    "editable": false,
    "jupyter": {
     "source_hidden": true
    },
    "tags": [
     "remove-cell"
    ]
   },
   "outputs": [
    {
     "name": "stdout",
     "output_type": "stream",
     "text": [
      "PyKX now running in 'jupyter_qfirst' mode. All cells by default will be run as q code. \n",
      "Include '%%py' at the beginning of each cell to run as python code. \n"
     ]
    }
   ],
   "source": [
    "# https://code.kx.com/pykx/3.0/examples/jupyter-integration.html#q-first-mode\n",
    "import pykx as kx\n",
    "kx.util.jupyter_qfirst_enable()"
   ]
  },
  {
   "cell_type": "markdown",
   "metadata": {},
   "source": [
    "##### Initialization Code"
   ]
  },
  {
   "cell_type": "code",
   "execution_count": 8,
   "metadata": {},
   "outputs": [],
   "source": [
    "system\"l init.q\"\n",
    "\n",
    "//subsequent calls to this init will throw an error because we have changed directory \n",
    "    //this error can be safely ignored \n",
    "\n",
    "//if you need to do a hard reset, please restart the kernel. "
   ]
  },
  {
   "cell_type": "markdown",
   "metadata": {},
   "source": [
    "**Learning objectives**\n",
    "\n",
    "* What are attributes ?\n",
    "* How to identify an attribute?\n",
    "* How to apply an attribute ?\n",
    "* Performance\n",
    "\n",
    "\n",
    "# Attributes\n",
    "\n",
    "Lists (and by extension, dictionaries and columns of tables) can have attributes applied to them. Attributes are simply a way of tagging your data so that kdb+/q knows how it is arranged/ordered before attempting any lookup!\n",
    "\n",
    "**Some features of attributes:**\n",
    "\n",
    "* Attributes imply or enforce certain properties on the list which will aid searching in different situations.\n",
    "* A list can only have one attribute set - applying another attribute to a list will overwrite the previous one.\n",
    "* Some attributes will also be lost upon modification of the list.\n",
    "* You will see improved performance only on lists with more than a million items.\n",
    " \n",
    "\n",
    "Below is a description of the four [attributes](https://code.kx.com/q4m3/8_Tables/#88-attributes) used in kdb+/q to improve efficiency.\n",
    "\n",
    "| Attribute | Purpose | Requirement | Space |Example - good | Example - fail|\n",
    "|-----------|--------|------------|---------|-----------|---------|\n",
    "|Sorted | Allows q to perform a binary search | Must be in ascending order | None| ```s#1 2 3 4 5``|```s#5 2 3 4 1``| \n",
    "|Unique | Allows q to perform a hashing algorithm to find the exact index for the element | Must be unique |Large|`u#2 1 3 5 4| `u#2 1 3 5 5| \n",
    "|Parted |It generates a dictionary mapping each element in the list to its first occurrence. | Identical items are stored contiguously | Small |```p#2 2 3 3 5`` | ```p#2 2 3 5 3``|\n",
    "|Grouped | An internal dictionary is built and maintained which maps each unique item to each of its indices of occurrence | None | Largest| `g#2 2 3 3 5|\n",
    "\n",
    "The application of attributes to kdb+/q data is very important to ensure best Query and Join performance. "
   ]
  },
  {
   "cell_type": "markdown",
   "metadata": {},
   "source": [
    "<img src=\"../images/qbies.png\" style=\"width: 50px;padding-right:5px;padding-top:12px;padding-left:5px;\" align=\"left\"/>\n",
    "\n",
    "<p style='color:#273a6e'><i> Setting or unsetting attributes other than sorted causes a copy of the object being created. </i></p>"
   ]
  },
  {
   "cell_type": "markdown",
   "metadata": {
    "jp-MarkdownHeadingCollapsed": true
   },
   "source": [
    "## Identifying Attributes\n",
    "\n",
    "Attribute flags are descriptive, not prescriptive; amends and appends preserve flags if the attribute is preserved. In other words, a sorted list remains sorted until an element is inserted in such a manner that disrupts the sort. Furthermore, applying an attribute to a list will result in a fail if the list does not fulfill the attribute's requirements. "
   ]
  },
  {
   "cell_type": "markdown",
   "metadata": {},
   "source": [
    "If we want to check if an attribute is applied to a list we can check use the [`attr`](https://code.kx.com/q/ref/attr/) keyword: "
   ]
  },
  {
   "cell_type": "code",
   "execution_count": 9,
   "metadata": {},
   "outputs": [
    {
     "name": "stdout",
     "output_type": "stream",
     "text": [
      "\n",
      "s\n"
     ]
    }
   ],
   "source": [
    "attr 1 2 3 4\n",
    "attr asc 1 2 3 4   //ascending a list automatically applies the sorted attribute"
   ]
  },
  {
   "cell_type": "markdown",
   "metadata": {},
   "source": [
    "We can also see by the console output is an attribute is applied to a list, as it will be prefaced by <code>\\`s#,\\`u#,\\`p#,\\`g#</code>, depending on the applied attribute. "
   ]
  },
  {
   "cell_type": "code",
   "execution_count": 10,
   "metadata": {},
   "outputs": [
    {
     "name": "stdout",
     "output_type": "stream",
     "text": [
      "1 2 3 4\n",
      "`s#1 2 3 4\n"
     ]
    }
   ],
   "source": [
    "1 2 3 4\n",
    "asc 1 2 3 4 "
   ]
  },
  {
   "cell_type": "markdown",
   "metadata": {
    "reveal": "kfyejktrb0j",
    "reveal-hidden": false
   },
   "source": [
    "<img src=\"../images/qbies.png\" style=\"width: 50px;padding-right:5px;padding-top:2px;padding-left:5px;\" align=\"left\"/>\n",
    "\n",
    "<p style='color:#273a6e'><i> Note, the match operator <code>~</code> doesn't check for applied attributes! </i></p>"
   ]
  },
  {
   "cell_type": "code",
   "execution_count": 7,
   "metadata": {
    "reveal": "kfyejktrb0j"
   },
   "outputs": [
    {
     "name": "stdout",
     "output_type": "stream",
     "text": [
      "1b\n"
     ]
    }
   ],
   "source": [
    "asc[1 2 3 4]~1 2 3 4"
   ]
  },
  {
   "cell_type": "markdown",
   "metadata": {
    "jp-MarkdownHeadingCollapsed": true
   },
   "source": [
    "## Applying attributes "
   ]
  },
  {
   "cell_type": "markdown",
   "metadata": {},
   "source": [
    "Attributes can be explicitly applied by specifying <code>\\`s#,\\`u#,\\`p#,\\`g#</code> before the list: "
   ]
  },
  {
   "cell_type": "code",
   "execution_count": 11,
   "metadata": {},
   "outputs": [
    {
     "name": "stdout",
     "output_type": "stream",
     "text": [
      "`s#1 2 3 4\n",
      "s\n"
     ]
    }
   ],
   "source": [
    "`s#1 2 3 4 \n",
    "attr asc 10 20 30 40"
   ]
  },
  {
   "cell_type": "markdown",
   "metadata": {},
   "source": [
    "For sorting, the `asc` and `xasc` keywords will sort the data and then automatically apply the attribute: "
   ]
  },
  {
   "cell_type": "code",
   "execution_count": 12,
   "metadata": {},
   "outputs": [
    {
     "name": "stdout",
     "output_type": "stream",
     "text": [
      "`s#1 2 3 4\n"
     ]
    }
   ],
   "source": [
    "asc 1 2 3 4"
   ]
  },
  {
   "cell_type": "markdown",
   "metadata": {},
   "source": [
    "We can also apply attributes using:\n",
    "\n",
    "* [@](https://code.kx.com/q/ref/amend/) - The amend at function \n",
    "* [update](https://code.kx.com/q/ref/update/) - The update function "
   ]
  },
  {
   "cell_type": "code",
   "execution_count": 13,
   "metadata": {},
   "outputs": [
    {
     "name": "stdout",
     "output_type": "stream",
     "text": [
      "`s#1 3 5 7 9 11\n",
      "1 3 5 7 9 11\n"
     ]
    }
   ],
   "source": [
    "show l:1 3 5 7 9 11\n",
    "@[`s#;l];  //we can use the amend function if we want to apply an attribute to a list\n",
    "l"
   ]
  },
  {
   "cell_type": "markdown",
   "metadata": {},
   "source": [
    "Using the update function, we can apply an attribute to a column in a table:"
   ]
  },
  {
   "cell_type": "code",
   "execution_count": 14,
   "metadata": {},
   "outputs": [
    {
     "name": "stdout",
     "output_type": "stream",
     "text": [
      "c       | t f a\n",
      "--------| -----\n",
      "time    | u    \n",
      "name    | s    \n",
      "activity| s    \n",
      "t\n",
      "c       | t f a\n",
      "--------| -----\n",
      "time    | u   s\n",
      "name    | s    \n",
      "activity| s    \n"
     ]
    }
   ],
   "source": [
    "t:([]time:07:00 08:00 09:00; name: `John`Ann`Mary;activity:`breakfast`walk`dinner) //defining table\n",
    "meta t\n",
    "update `s#time from `t //updating time column to have the sorted attribute\n",
    "meta t"
   ]
  },
  {
   "cell_type": "markdown",
   "metadata": {},
   "source": [
    "All other attributes need to be explicitly applied. Note, you can only have one attribute applied to a list at any given time: "
   ]
  },
  {
   "cell_type": "code",
   "execution_count": 15,
   "metadata": {},
   "outputs": [
    {
     "name": "stdout",
     "output_type": "stream",
     "text": [
      "`g#1 2 3 4\n"
     ]
    }
   ],
   "source": [
    "`g#`s# 1 2 3 4"
   ]
  },
  {
   "cell_type": "markdown",
   "metadata": {},
   "source": [
    "If an attribute application fails, you'll receive an `evaluation error: attribute-fail` message - try not to take it personally!"
   ]
  },
  {
   "cell_type": "code",
   "execution_count": null,
   "metadata": {},
   "outputs": [],
   "source": [
    "`u#1 2 2 3 "
   ]
  },
  {
   "cell_type": "markdown",
   "metadata": {},
   "source": [
    "We can remove attributes by using ```#``"
   ]
  },
  {
   "cell_type": "code",
   "execution_count": 18,
   "metadata": {},
   "outputs": [
    {
     "name": "stdout",
     "output_type": "stream",
     "text": [
      "1 3 5 7 9 11\n"
     ]
    }
   ],
   "source": [
    "`#l"
   ]
  },
  {
   "cell_type": "markdown",
   "metadata": {
    "jp-MarkdownHeadingCollapsed": true
   },
   "source": [
    "## Sorted\n",
    "A preceding <code>\\`s#</code> indicates that a list is sorted in ascending order. If a list is explicitly sorted by [asc](https://code.kx.com/q/ref/asc/) (or [xasc](https://code.kx.com/q/ref/asc/#xasc) for tables) then the list will automatically have the sorted attribute set to it."
   ]
  },
  {
   "cell_type": "code",
   "execution_count": 19,
   "metadata": {},
   "outputs": [
    {
     "name": "stdout",
     "output_type": "stream",
     "text": [
      "c| t f a\n",
      "-| -----\n",
      "a| j   s\n",
      "b| s    \n"
     ]
    }
   ],
   "source": [
    "example:([]a:1 2 3;b: `mini`example`table)\n",
    "meta `a xasc example"
   ]
  },
  {
   "cell_type": "markdown",
   "metadata": {},
   "source": [
    "<img src=\"../images/qbies.png\" style=\"width: 50px;padding-right:5px;padding-top:12px;padding-left:5px;\" align=\"left\"/>\n",
    "\n",
    "<p style='color:#273a6e'><i> The sorted attribute is used in Real time database (RDB) processes in kdb+/q. This process stores data that is received intraday in in-memory tables - since messages are arriving in time order, the sorted attribute is usually applied to the time column to improve query performance. </i></p>"
   ]
  },
  {
   "cell_type": "markdown",
   "metadata": {},
   "source": [
    "If the list that we would like to apply the sorting attribute to **is not** sorted, we will receive a ``evaluation error: s-fail`` error: "
   ]
  },
  {
   "cell_type": "code",
   "execution_count": null,
   "metadata": {},
   "outputs": [],
   "source": [
    "`s#4 5 1 //will throw an error"
   ]
  },
  {
   "cell_type": "markdown",
   "metadata": {},
   "source": [
    "We can also apply the sorted attribute to dictionaries and keyed tables:"
   ]
  },
  {
   "cell_type": "code",
   "execution_count": 20,
   "metadata": {},
   "outputs": [
    {
     "name": "stdout",
     "output_type": "stream",
     "text": [
      "c| t f a\n",
      "-| -----\n",
      "a| j   s\n",
      "b| s    \n"
     ]
    }
   ],
   "source": [
    "dict:`s#10 20 30 40 50!`apple`pear`orange`apple`orange //creating a dictionary\n",
    "kt: `a xkey example                                    //creating a keyed table\n",
    "meta `s#kt                                             //it applies the attribute to the keyed column"
   ]
  },
  {
   "cell_type": "markdown",
   "metadata": {},
   "source": [
    "Using a list with the sorted attribute applied to, kdb+/q can perform [binary search](https://en.wikipedia.org/wiki/Binary_search_algorithm) to find elements rather than scanning the entire list. Let's look at what binary search is:"
   ]
  },
  {
   "cell_type": "markdown",
   "metadata": {},
   "source": [
    "<img src=\"../images/binarySearch.png\" width=\"400\" height=\"400\">"
   ]
  },
  {
   "cell_type": "code",
   "execution_count": 35,
   "metadata": {},
   "outputs": [
    {
     "name": "stdout",
     "output_type": "stream",
     "text": [
      "3 0 1 2 3 4 5 6 7 8 9 10 11 12 13 14 15 16 17 18 19 20 21 22 23 24 25 26 27 2..\n",
      "0 1 2 3 4 5 6 7 8 9 10 11 12 13 14 15 16 17 18 19 20 21 22 23 24 25 26 27 28 ..\n"
     ]
    }
   ],
   "source": [
    "N:10000000\n",
    "sL:`s#til N   //generating our sorted list and applying the attribute\n",
    "L:1_3,sL  \n",
    "show d:3,sL\n",
    "show e:1_d //removing the sorted attribute by joining a bigger value at the start, then removing"
   ]
  },
  {
   "cell_type": "markdown",
   "metadata": {},
   "source": [
    "We can now see that we have two lists, only one of which has the attribute applied - other than that the lists are exactly the same: "
   ]
  },
  {
   "cell_type": "code",
   "execution_count": 22,
   "metadata": {},
   "outputs": [
    {
     "name": "stdout",
     "output_type": "stream",
     "text": [
      "0 1 2 3 4 5 6 7 8 9 10 11 12 13 14 15 16 17 18 19 20 21 22 23 24 25 26 27 28 ..\n",
      "`s#0 1 2 3 4 5 6 7 8 9 10 11 12 13 14 15 16 17 18 19 20 21 22 23 24 25 26 27 ..\n",
      "1b\n"
     ]
    }
   ],
   "source": [
    "//reducing console size \n",
    "\\c 20 20   \n",
    "L\n",
    "sL\n",
    "//changing console size back to default\n",
    "\\c 25 80 \n",
    "L~sL"
   ]
  },
  {
   "cell_type": "markdown",
   "metadata": {},
   "source": [
    "To demonstrate the performance improvement we can time some function executions:"
   ]
  },
  {
   "cell_type": "code",
   "execution_count": 36,
   "metadata": {},
   "outputs": [
    {
     "name": "stdout",
     "output_type": "stream",
     "text": [
      "786\n",
      "655\n"
     ]
    }
   ],
   "source": [
    "\\t:100 L within (20; 2391002)\n",
    "\\t:100 (N-1) in L"
   ]
  },
  {
   "cell_type": "code",
   "execution_count": 37,
   "metadata": {},
   "outputs": [
    {
     "name": "stdout",
     "output_type": "stream",
     "text": [
      "483\n",
      "0\n"
     ]
    }
   ],
   "source": [
    "\\t:100 sL within (20; 2391002)\n",
    "\\t:100 (N-1) in sL"
   ]
  },
  {
   "cell_type": "markdown",
   "metadata": {},
   "source": [
    "<img src=\"../images/qbies.png\" style=\"width: 50px;padding-right:5px;padding-top:2px;padding-left:5px;\" align=\"left\"/>\n",
    "\n",
    "<p style='color:#273a6e'><i> When a list has a sorted attributed applied to it, linear search is replaced with binary search which is a faster searching mechanism. </i></p>"
   ]
  },
  {
   "cell_type": "markdown",
   "metadata": {},
   "source": [
    " ##### Preservation of attribute\n",
    "\n",
    "The sorted attribute is only preserved if we supply input that complies with the attribute and when we use the modify-in-place assignment: "
   ]
  },
  {
   "cell_type": "code",
   "execution_count": 38,
   "metadata": {},
   "outputs": [
    {
     "name": "stdout",
     "output_type": "stream",
     "text": [
      "0 1 2 3 4 5 6 7 8 9 10 11 12 13 14 15 16 17 18 19 20 21 22 23 24 25 26 27 28 ..\n"
     ]
    }
   ],
   "source": [
    "sL,N+1   //sorted attribute lost"
   ]
  },
  {
   "cell_type": "code",
   "execution_count": 39,
   "metadata": {},
   "outputs": [
    {
     "name": "stdout",
     "output_type": "stream",
     "text": [
      "`s#0 1 2 3 4 5 6 7 8 9 10 11 12 13 14 15 16 17 18 19 20 21 22 23 24 25 26 27 ..\n"
     ]
    }
   ],
   "source": [
    "sL,:N+1  //sorted attribute retained\n",
    "sL"
   ]
  },
  {
   "cell_type": "markdown",
   "metadata": {},
   "source": [
    "However, because of it's importance to query performance in tables it is preserved on table `insert` and `upsert`: "
   ]
  },
  {
   "cell_type": "code",
   "execution_count": 40,
   "metadata": {},
   "outputs": [
    {
     "name": "stdout",
     "output_type": "stream",
     "text": [
      "c| t f a\n",
      "-| -----\n",
      "a| j   s\n",
      "c| J    \n",
      "d| s    \n",
      ",3\n",
      "c| t f a\n",
      "-| -----\n",
      "a| j   s\n",
      "c| J    \n",
      "d| s    \n",
      "a c   d        \n",
      "---------------\n",
      "1 1 2 sneaky   \n",
      "2 3 4 namespace\n",
      "3 5 6 table    \n",
      "4 7 8 new      \n",
      "a c   d        \n",
      "---------------\n",
      "1 1 2 sneaky   \n",
      "2 3 4 namespace\n",
      "3 5 6 table    \n"
     ]
    }
   ],
   "source": [
    ".tbl.nsExample:([]a:1 2 3;c:(1 2;3 4;5 6);d: `sneaky`namespace`table)\n",
    "show sExample:`a xasc .tbl.nsExample      //sorting by column `a\n",
    "meta sExample                             //sorted attribute applied\n",
    "`sExample insert (4;7 8;`new)             //append by reference using insert \n",
    "                                          //(if you're getting an insert error, run all cells above)\n",
    "meta sExample                             //preserved \n",
    "sExample"
   ]
  },
  {
   "cell_type": "code",
   "execution_count": 41,
   "metadata": {},
   "outputs": [
    {
     "name": "stdout",
     "output_type": "stream",
     "text": [
      "c| t f a\n",
      "-| -----\n",
      "a| j   s\n",
      "b| s    \n",
      "c| t f a\n",
      "-| -----\n",
      "a| j   s\n",
      "b| s    \n",
      "a b      \n",
      "---------\n",
      "1 mini   \n",
      "2 example\n",
      "3 table  \n",
      "4 new    \n"
     ]
    }
   ],
   "source": [
    "sExample:`a xasc example              //sorting by column `a              \n",
    "meta sExample                         //sorted attribute applied\n",
    "show sExample upsert (4;`new)         //appending by value - sExample hasn't been modified, new table returned\n",
    "meta sExample upsert (4;`new)         //new table has sorted attribute applied"
   ]
  },
  {
   "cell_type": "markdown",
   "metadata": {},
   "source": [
    "<img src=\"../images/qbies.png\" style=\"width: 50px;padding-right:5px;padding-top:22px;padding-left:5px;\" align=\"left\"/>\n",
    "\n",
    "<p style='color:#273a6e'><i> Only the sorted attribute is preserved when appending to disk. </i></p>"
   ]
  },
  {
   "cell_type": "markdown",
   "metadata": {
    "jp-MarkdownHeadingCollapsed": true
   },
   "source": [
    "## Unique\n",
    "\\`u# can be applied to a list of unique elements. When a list is flagged as unique, an internal hash map is created to each item in the list which uses storage and adds overhead. By applying the ``\\`u`` to a list, it allows kdb+/q to use a hashing algorithm to find the exact index for the element we are searching.       "
   ]
  },
  {
   "cell_type": "code",
   "execution_count": 42,
   "metadata": {},
   "outputs": [
    {
     "name": "stdout",
     "output_type": "stream",
     "text": [
      "`u#10 20 30 45\n"
     ]
    }
   ],
   "source": [
    "`u#10 20 30 45 "
   ]
  },
  {
   "cell_type": "markdown",
   "metadata": {},
   "source": [
    "<img src=\"../images/qbies.png\" style=\"width: 50px;padding-right:5px;padding-top:22px;padding-left:5px;\" align=\"left\"/>\n",
    "\n",
    "<p style='color:#273a6e'><i> No linear searches are performed when we apply the unique attribute. </i></p>"
   ]
  },
  {
   "cell_type": "markdown",
   "metadata": {},
   "source": [
    "If the list is not unique, a `evaluation error: u-fail` error will occur:"
   ]
  },
  {
   "cell_type": "code",
   "execution_count": null,
   "metadata": {},
   "outputs": [],
   "source": [
    "`u#10 20 10 30 45 //this will throw an error because the list is not unique"
   ]
  },
  {
   "cell_type": "markdown",
   "metadata": {},
   "source": [
    "<img src=\"../images/qbies.png\" style=\"width: 50px;padding-right:5px;padding-top:22px;padding-left:5px;\" align=\"left\"/>\n",
    "\n",
    "<p style='color:#273a6e'><i> The unique attribute is usually applied to keyed tables and ensures what we lookup from these tables is consistent. In many real time subscriber (RTS) processes, tables are created which store the last known price of a trade, or meter reading etc. These tables are typically keyed by the stock or sensor etc. and are good candidates for the unique attribute. </i></p>"
   ]
  },
  {
   "cell_type": "code",
   "execution_count": 47,
   "metadata": {},
   "outputs": [
    {
     "name": "stdout",
     "output_type": "stream",
     "text": [
      "a b      \n",
      "---------\n",
      "1 mini   \n",
      "2 example\n",
      "3 table  \n",
      "b      | a\n",
      "-------| -\n",
      "mini   | 1\n",
      "example| 2\n",
      "table  | 3\n",
      "c| t f a\n",
      "-| -----\n",
      "b| s   u\n",
      "a| j   s\n",
      "`u#`mini`example`table\n"
     ]
    }
   ],
   "source": [
    "example\n",
    "show example[`b]: `u#example[`b]\n",
    "`b xkey example\n",
    "meta `b xkey example"
   ]
  },
  {
   "cell_type": "markdown",
   "metadata": {},
   "source": [
    "We can test the performance ourselves: "
   ]
  },
  {
   "cell_type": "code",
   "execution_count": 49,
   "metadata": {},
   "outputs": [
    {
     "name": "stdout",
     "output_type": "stream",
     "text": [
      "`dckamm`eciokj`klpboe`fejhpp`kfjpfc`cdajfa`bjakdg`abffek`apedol`eopamb`cafoho..\n",
      "`u#`dckamm`eciokj`klpboe`fejhpp`kfjpfc`cdajfa`bjakdg`abffek`apedol`eopamb`caf..\n"
     ]
    }
   ],
   "source": [
    "// creating a list\n",
    "N:10000000\n",
    "show L:neg[N]?`6   //creates a symbol with random letters\n",
    "show uL:`u#L"
   ]
  },
  {
   "cell_type": "markdown",
   "metadata": {},
   "source": [
    "Let's try finding the last symbol in both lists:"
   ]
  },
  {
   "cell_type": "code",
   "execution_count": 50,
   "metadata": {},
   "outputs": [
    {
     "name": "stdout",
     "output_type": "stream",
     "text": [
      "724\n",
      "0\n"
     ]
    }
   ],
   "source": [
    "\\t:100 L?last L\n",
    "\\t:100 uL?last L"
   ]
  },
  {
   "cell_type": "markdown",
   "metadata": {},
   "source": [
    "##### Preservation of attribute\n",
    "An amend that does not preserve uniqueness causes the attribute to be lost:"
   ]
  },
  {
   "cell_type": "code",
   "execution_count": 51,
   "metadata": {},
   "outputs": [
    {
     "name": "stdout",
     "output_type": "stream",
     "text": [
      "`u#`dckamm`eciokj`klpboe`fejhpp`kfjpfc`cdajfa`bjakdg`abffek`apedol`eopamb`caf..\n",
      "`u#`dckamm`eciokj`klpboe`fejhpp`kfjpfc`cdajfa`bjakdg`abffek`apedol`eopamb`caf..\n"
     ]
    }
   ],
   "source": [
    "uL       \n",
    "uL,:`3   //amending the list doesn't preserve uniqueness\n",
    "uL"
   ]
  },
  {
   "cell_type": "markdown",
   "metadata": {},
   "source": [
    "<img src=\"../images/qbies.png\" style=\"width: 50px;padding-right:5px;padding-top:22px;padding-left:5px;\" align=\"left\"/>\n",
    "\n",
    "<p style='color:#273a6e'><i> If you have a column that will always have unique values and your large table does not change often, you can get a significant performance speedup with `u#. It's important to remember that applying the unique attribute will consume memory as we use the hash table to perform lookups.  </i></p>"
   ]
  },
  {
   "cell_type": "markdown",
   "metadata": {
    "jp-MarkdownHeadingCollapsed": true
   },
   "source": [
    "## Parted\n",
    "The parted attribute \\`p# means identical items are stored contiguously in memory, or on disk. The attribute can only be set by explicitly applying it. This will internally generate a dictionary mapping each element in the list to its first occurrence.\n",
    "\n",
    "Here is a simple example of a parted list:"
   ]
  },
  {
   "cell_type": "code",
   "execution_count": 52,
   "metadata": {},
   "outputs": [
    {
     "name": "stdout",
     "output_type": "stream",
     "text": [
      "`p#1 1 1 1 3 3 3 2 2 2 2\n"
     ]
    }
   ],
   "source": [
    "`p#1 1 1 1 3 3 3 2 2 2 2 //list is not sorted or unique"
   ]
  },
  {
   "cell_type": "markdown",
   "metadata": {},
   "source": [
    "<img src=\"../images/qbies.png\" style=\"width: 50px;padding-right:5px;padding-top:22px;padding-left:5px;\" align=\"left\"/>\n",
    "\n",
    "<p style='color:#273a6e'><i> In kdb+/q processes which loading in on-disk data called Historical Databases (HDBs), the symbol column will almost always have the parted attribute associated with it. This is because the symbol column is the most used query filter after date and so can benefit the most from improved search efficiency. </i></p>"
   ]
  },
  {
   "cell_type": "markdown",
   "metadata": {},
   "source": [
    "In practice, to apply the parted attribute we need to structure our data into contiguous chunks corresponding to blocks of the same value e.g. <code>\\`AAPL\\`AAPL\\`BAC`BAC`BAC...</code> and the easiest way to actually achieve that is via sorting: "
   ]
  },
  {
   "cell_type": "code",
   "execution_count": 53,
   "metadata": {},
   "outputs": [
    {
     "name": "stdout",
     "output_type": "stream",
     "text": [
      "`p#`A`A`B`D`D`F`G`G`L`N\n"
     ]
    }
   ],
   "source": [
    "`p#asc upper 10?`1  //generting 10 symbols with one character"
   ]
  },
  {
   "cell_type": "markdown",
   "metadata": {},
   "source": [
    "The parted attribute is **applied almost exclusively to historical data** - this is because with real-time data we don't control the grouping of the data that's arriving and the benefit of the attribute doesn't exceed the overhead that would be required to keep it in a parted format (resorting on each new data arrival). "
   ]
  },
  {
   "cell_type": "markdown",
   "metadata": {},
   "source": [
    "What happens if we have a list that doesn't take the format above?"
   ]
  },
  {
   "cell_type": "code",
   "execution_count": null,
   "metadata": {},
   "outputs": [],
   "source": [
    "`p#1 1 1 1 3 3 3 2 2 2 2 1 // this will throw a u-fail error"
   ]
  },
  {
   "cell_type": "markdown",
   "metadata": {},
   "source": [
    "Applying a sorted attribute to a table applies the parted attribute to the first column:"
   ]
  },
  {
   "cell_type": "code",
   "execution_count": 54,
   "metadata": {},
   "outputs": [
    {
     "name": "stdout",
     "output_type": "stream",
     "text": [
      "c| t f a\n",
      "-| -----\n",
      "a| j   p\n",
      "b| s    \n",
      "c| t f a\n",
      "-| -----\n",
      "a| j    \n",
      "b| s    \n"
     ]
    }
   ],
   "source": [
    "show meta example:([]a:1 2 3;b: `mini`example`table)\n",
    "meta `s#example"
   ]
  },
  {
   "cell_type": "markdown",
   "metadata": {},
   "source": [
    "To demonstrate the performance improvement with the parted attribute, let's again time some function. Firstly let's create a list that we will apply a function to it:"
   ]
  },
  {
   "cell_type": "code",
   "execution_count": 55,
   "metadata": {},
   "outputs": [
    {
     "name": "stdout",
     "output_type": "stream",
     "text": [
      "ABCDEFGHIJKLMNOPQRSTUVWXYZ\n",
      "FGHIJKLMNOPQRSTUVWXYZABCDE\n",
      "`F`G`H`I`J`K`L`M`N`O`P`Q`R`S`T`U`V`W`X`Y`Z`A`B`C`D`E\n"
     ]
    }
   ],
   "source": [
    ".Q.A    //returns alphabet in CAPS\n",
    "L:5 rotate .Q.A //using rotate to shuffle list \n",
    "`$L\n",
    "`$'L // creating a list of symbols"
   ]
  },
  {
   "cell_type": "markdown",
   "metadata": {},
   "source": [
    "Now we are going to create a list that contains 400,000 occurrences of each letter: "
   ]
  },
  {
   "cell_type": "code",
   "execution_count": 56,
   "metadata": {},
   "outputs": [
    {
     "name": "stdout",
     "output_type": "stream",
     "text": [
      "`F`F`F`F`F`F`F`F`F`F`F`F`F`F`F`F`F`F`F`F`F`F`F`F`F`F`F`F`F`F`F`F`F`F`F`F`F`F`..\n",
      "F F F F F F F F F F F F F F F F F F F F F F F F F F F F F F F F F F F F F F F..\n",
      "G G G G G G G G G G G G G G G G G G G G G G G G G G G G G G G G G G G G G G G..\n",
      "H H H H H H H H H H H H H H H H H H H H H H H H H H H H H H H H H H H H H H H..\n",
      "I I I I I I I I I I I I I I I I I I I I I I I I I I I I I I I I I I I I I I I..\n",
      "J J J J J J J J J J J J J J J J J J J J J J J J J J J J J J J J J J J J J J J..\n",
      "K K K K K K K K K K K K K K K K K K K K K K K K K K K K K K K K K K K K K K K..\n",
      "L L L L L L L L L L L L L L L L L L L L L L L L L L L L L L L L L L L L L L L..\n",
      "M M M M M M M M M M M M M M M M M M M M M M M M M M M M M M M M M M M M M M M..\n",
      "N N N N N N N N N N N N N N N N N N N N N N N N N N N N N N N N N N N N N N N..\n",
      "O O O O O O O O O O O O O O O O O O O O O O O O O O O O O O O O O O O O O O O..\n",
      "P P P P P P P P P P P P P P P P P P P P P P P P P P P P P P P P P P P P P P P..\n",
      "Q Q Q Q Q Q Q Q Q Q Q Q Q Q Q Q Q Q Q Q Q Q Q Q Q Q Q Q Q Q Q Q Q Q Q Q Q Q Q..\n",
      "R R R R R R R R R R R R R R R R R R R R R R R R R R R R R R R R R R R R R R R..\n",
      "S S S S S S S S S S S S S S S S S S S S S S S S S S S S S S S S S S S S S S S..\n",
      "T T T T T T T T T T T T T T T T T T T T T T T T T T T T T T T T T T T T T T T..\n",
      "U U U U U U U U U U U U U U U U U U U U U U U U U U U U U U U U U U U U U U U..\n",
      "V V V V V V V V V V V V V V V V V V V V V V V V V V V V V V V V V V V V V V V..\n",
      "W W W W W W W W W W W W W W W W W W W W W W W W W W W W W W W W W W W W W W W..\n",
      "X X X X X X X X X X X X X X X X X X X X X X X X X X X X X X X X X X X X X X X..\n",
      "Y Y Y Y Y Y Y Y Y Y Y Y Y Y Y Y Y Y Y Y Y Y Y Y Y Y Y Y Y Y Y Y Y Y Y Y Y Y Y..\n",
      "Z Z Z Z Z Z Z Z Z Z Z Z Z Z Z Z Z Z Z Z Z Z Z Z Z Z Z Z Z Z Z Z Z Z Z Z Z Z Z..\n",
      "A A A A A A A A A A A A A A A A A A A A A A A A A A A A A A A A A A A A A A A..\n",
      "..\n",
      "10400000\n"
     ]
    }
   ],
   "source": [
    "L:`$'L\n",
    "\n",
    "400000#'L\n",
    "\n",
    "L:raze 400000#'L //flatten the matrix \n",
    "show L\n",
    "count L"
   ]
  },
  {
   "cell_type": "markdown",
   "metadata": {},
   "source": [
    "Using the list above, let's create a parted list and check to see if we see any performance improvements:"
   ]
  },
  {
   "cell_type": "code",
   "execution_count": 57,
   "metadata": {},
   "outputs": [
    {
     "name": "stdout",
     "output_type": "stream",
     "text": [
      "654\n",
      "0\n"
     ]
    }
   ],
   "source": [
    "pL:`p#L\n",
    "\n",
    "\\t:100 (last L) in L\n",
    "\\t:100 (last L) in pL"
   ]
  },
  {
   "cell_type": "markdown",
   "metadata": {},
   "source": [
    "<img src=\"../images/qbies.png\" style=\"width: 50px;padding-right:5px;padding-top:22px;padding-left:5px;\" align=\"left\"/>\n",
    "\n",
    "<p style='color:#273a6e'><i> Using the parted attribute tables do not have to be scanned linearly! </i></p>"
   ]
  },
  {
   "cell_type": "markdown",
   "metadata": {},
   "source": [
    "##### Preservation of attribute\n",
    "\n",
    "The parted attribute is not preserved under any operation on the list, even if the operation preserves the property with one exception: \n",
    " "
   ]
  },
  {
   "cell_type": "code",
   "execution_count": 58,
   "metadata": {},
   "outputs": [
    {
     "name": "stdout",
     "output_type": "stream",
     "text": [
      "1 1 1 3 3 3\n"
     ]
    }
   ],
   "source": [
    "L:`p#1 1 1 3 3   //creating a parted list\n",
    "L,:3             //joining 3 to the end of the list\n",
    "L                //parted attribute isn't reserved"
   ]
  },
  {
   "cell_type": "markdown",
   "metadata": {},
   "source": [
    "If you try to join 2 parted lists, the attribute is preserved"
   ]
  },
  {
   "cell_type": "code",
   "execution_count": 59,
   "metadata": {},
   "outputs": [
    {
     "name": "stdout",
     "output_type": "stream",
     "text": [
      "`p#1 1 1 3 3 3 3 3 4 4\n"
     ]
    }
   ],
   "source": [
    "L:`p#1 1 1 3 3 //redefining L\n",
    "L1:`p#3 3 3 4 4 \n",
    "L,L1"
   ]
  },
  {
   "cell_type": "markdown",
   "metadata": {},
   "source": [
    "## Grouped\n",
    "The grouped attribute is similar to the parted attribute in the sense that it keeps track of the location of the data. One of the main differences is that the grouped attribute stores a map of **ALL** occurrences compared to just storing the first occurrence of each identical item.  Applying a \\`g# attribute means that the list is grouped. "
   ]
  },
  {
   "cell_type": "markdown",
   "metadata": {},
   "source": [
    "<img src=\"../images/qbies.png\" style=\"width: 50px;padding-right:5px;padding-top:22px;padding-left:5px;\" align=\"left\"/>\n",
    "\n",
    "<p style='color:#273a6e'><i> The grouped attribute is used with both real-time and on-disk historical tables in kdb+/q. It is often applied in real-time databases (RDBs) to the stock or sensor column to enable faster query time intraday (in conjunction with the sorted attribute on time we discussed previously). When used with on-disk historical data, this is typically applied to other highly queried secondary filter columns e.g. Broker, Exchange, Location, Machine etc </i></p>"
   ]
  },
  {
   "cell_type": "markdown",
   "metadata": {},
   "source": [
    "When a grouped list is searched, the indices of the element(s) to be found are retrieved from the internal mapping. All occurrences of the element can then be retrieved.  This greatly decreases retrieval time when data is stored in-memory."
   ]
  },
  {
   "cell_type": "code",
   "execution_count": 60,
   "metadata": {},
   "outputs": [
    {
     "name": "stdout",
     "output_type": "stream",
     "text": [
      "`g#9 3 3 7 5 7 5 6 8 8\n"
     ]
    }
   ],
   "source": [
    "show L:`g#10?10"
   ]
  },
  {
   "cell_type": "markdown",
   "metadata": {},
   "source": [
    "While we can't access the internal map when the grouped attribute is applied, it works the same way as the `group` function"
   ]
  },
  {
   "cell_type": "code",
   "execution_count": 61,
   "metadata": {},
   "outputs": [
    {
     "name": "stdout",
     "output_type": "stream",
     "text": [
      "m| ,0\n",
      "i| 1 4 7 10\n",
      "s| 2 3 5 6\n",
      "p| 8 9\n"
     ]
    }
   ],
   "source": [
    "group \"mississippi\""
   ]
  },
  {
   "cell_type": "markdown",
   "metadata": {},
   "source": [
    "<img src=\"../images/qbies.png\" style=\"width: 50px;padding-right:5px;padding-top:22px;padding-left:5px;\" align=\"left\"/>\n",
    "\n",
    "<p style='color:#273a6e'><i>Like unique and parted, linear search is not used when we apply the grouped attribute to a list!</i></p>"
   ]
  },
  {
   "cell_type": "markdown",
   "metadata": {},
   "source": [
    "This attribute can be applied to any list, as it doesn't assume anything about the lists structure.\n",
    "There is an overhead associated with the internal mapping so this is normally reserved for large lists."
   ]
  },
  {
   "cell_type": "markdown",
   "metadata": {},
   "source": [
    "<img src=\"../images/qbies.png\" style=\"width: 50px;padding-right:5px;padding-top:22px;padding-left:5px;\" align=\"left\"/>\n",
    "\n",
    "<p style='color:#273a6e'><i> If the data can be sorted such that the parted attribute can be set, you can see a better performance compared to the grouped attribute, both on disk and in memory.</i></p>"
   ]
  },
  {
   "cell_type": "markdown",
   "metadata": {},
   "source": [
    "# Performance"
   ]
  },
  {
   "cell_type": "markdown",
   "metadata": {},
   "source": [
    "When we are looking up a table in kdb+/q, we should be aware that we are performing a linear search on the first column to find all the matches. From what we discussed above, we know that we should apply an attribute to the first column and therefore it will perform the lookup much faster."
   ]
  },
  {
   "cell_type": "markdown",
   "metadata": {},
   "source": [
    "## Define table and test without attributes\n",
    "Let's create a table and test this theory:"
   ]
  },
  {
   "cell_type": "code",
   "execution_count": 62,
   "metadata": {},
   "outputs": [
    {
     "name": "stdout",
     "output_type": "stream",
     "text": [
      "c    | t f a\n",
      "-----| -----\n",
      "sym  | s    \n",
      "date | d    \n",
      "price| f    \n"
     ]
    }
   ],
   "source": [
    "n:100000\n",
    "t:([sym:n?`AAPL`MSFT`GS;date:n?.z.d+til 20];price:10+n?10.) //creating a table containing 100,000 records\n",
    "meta t"
   ]
  },
  {
   "cell_type": "code",
   "execution_count": 63,
   "metadata": {},
   "outputs": [
    {
     "name": "stdout",
     "output_type": "stream",
     "text": [
      "57\n"
     ]
    }
   ],
   "source": [
    "\\t:100 t`date`sym!(2021.02.20;`AAPL)  //lookup without attribute"
   ]
  },
  {
   "cell_type": "code",
   "execution_count": 64,
   "metadata": {},
   "outputs": [
    {
     "name": "stdout",
     "output_type": "stream",
     "text": [
      "t\n",
      "c    | t f a\n",
      "-----| -----\n",
      "sym  | s   s\n",
      "date | d    \n",
      "price| f    \n",
      "70\n"
     ]
    }
   ],
   "source": [
    "`sym`date xasc `t                //applying the sorted attribute, which gets applied to the first column in the list\n",
    "meta t\n",
    "\\t:100 t`date`sym!(2021.02.20;`AAPL) "
   ]
  },
  {
   "cell_type": "markdown",
   "metadata": {},
   "source": [
    "Let's look at how these attributes will speed up qSql queries:"
   ]
  },
  {
   "cell_type": "code",
   "execution_count": 65,
   "metadata": {},
   "outputs": [],
   "source": [
    "n:1000000\n",
    "t:([sym:n?`AAPL`MSFT`GS;date:n?.z.d+til 20];price:10+n?10.) //creating a bigger table "
   ]
  },
  {
   "cell_type": "markdown",
   "metadata": {},
   "source": [
    "In this small experiment, we will consider three different tables:\n",
    "* table that has no attributes \n",
    "* table that has a sorted attribute on date \n",
    "* table that has a grouped attribute on sym "
   ]
  },
  {
   "cell_type": "markdown",
   "metadata": {},
   "source": [
    "### Querying a table with no attributes \n",
    "#### Query 1: No attributes\n",
    "We will keep the queries constant in all three scenarios and therefore we can compare:"
   ]
  },
  {
   "cell_type": "code",
   "execution_count": 66,
   "metadata": {},
   "outputs": [
    {
     "name": "stdout",
     "output_type": "stream",
     "text": [
      "907\n",
      "x\n",
      "-\n",
      "0\n"
     ]
    }
   ],
   "source": [
    "//query 1\n",
    "//table with no attribute\n",
    "\\t:1000 res:select count i from t where date=2021.03.07\n",
    "res"
   ]
  },
  {
   "cell_type": "markdown",
   "metadata": {},
   "source": [
    "#### Query 2: No attributes"
   ]
  },
  {
   "cell_type": "code",
   "execution_count": 67,
   "metadata": {},
   "outputs": [
    {
     "name": "stdout",
     "output_type": "stream",
     "text": [
      "2413\n",
      "price  \n",
      "-------\n",
      "15.0067\n"
     ]
    }
   ],
   "source": [
    "//query 2\n",
    "//table with no attribute\n",
    "\\t:1000 res:select avg price from t where sym=`AAPL\n",
    "res"
   ]
  },
  {
   "cell_type": "markdown",
   "metadata": {},
   "source": [
    "### Querying a table with sorted attributes\n",
    "Let's apply the sorted attribute to the `date` column and run both queries again:"
   ]
  },
  {
   "cell_type": "code",
   "execution_count": 68,
   "metadata": {},
   "outputs": [
    {
     "name": "stdout",
     "output_type": "stream",
     "text": [
      "c    | t f a\n",
      "-----| -----\n",
      "sym  | s    \n",
      "date | d   s\n",
      "price| f    \n"
     ]
    }
   ],
   "source": [
    "//table with sorted attribute\n",
    "t:`date xasc t\n",
    "meta t"
   ]
  },
  {
   "cell_type": "markdown",
   "metadata": {},
   "source": [
    "#### Query 1: Sorted attribute"
   ]
  },
  {
   "cell_type": "code",
   "execution_count": 69,
   "metadata": {},
   "outputs": [
    {
     "name": "stdout",
     "output_type": "stream",
     "text": [
      "1\n",
      "x\n",
      "-\n",
      "0\n"
     ]
    }
   ],
   "source": [
    "//query 1\n",
    "//table with sorted attribute\n",
    "\\t:1000 res:select count i from t where date=2021.03.07\n",
    "res"
   ]
  },
  {
   "cell_type": "markdown",
   "metadata": {},
   "source": [
    "#### Query 2: Sorted attribute"
   ]
  },
  {
   "cell_type": "code",
   "execution_count": 70,
   "metadata": {},
   "outputs": [
    {
     "name": "stdout",
     "output_type": "stream",
     "text": [
      "2360\n",
      "price  \n",
      "-------\n",
      "15.0067\n"
     ]
    }
   ],
   "source": [
    "//query 2\n",
    "//table with sorted attribute\n",
    "\\t:1000 res:select avg price from t where sym=`AAPL\n",
    "res"
   ]
  },
  {
   "cell_type": "markdown",
   "metadata": {},
   "source": [
    "### Querying a table with grouped and sorted attribute\n",
    "Let's apply the grouped attribute to the `sym` column and sorted attribute on the `date` column:"
   ]
  },
  {
   "cell_type": "code",
   "execution_count": 71,
   "metadata": {},
   "outputs": [
    {
     "name": "stdout",
     "output_type": "stream",
     "text": [
      "c    | t f a\n",
      "-----| -----\n",
      "sym  | s   g\n",
      "date | d   s\n",
      "price| f    \n"
     ]
    }
   ],
   "source": [
    "//table with sorted attribute\n",
    "t:update `g#sym from t\n",
    "meta t"
   ]
  },
  {
   "cell_type": "markdown",
   "metadata": {},
   "source": [
    "#### Query 1: Sorted and grouped attribute"
   ]
  },
  {
   "cell_type": "code",
   "execution_count": 72,
   "metadata": {},
   "outputs": [
    {
     "name": "stdout",
     "output_type": "stream",
     "text": [
      "1\n",
      "x\n",
      "-\n",
      "0\n"
     ]
    }
   ],
   "source": [
    "//query 1\n",
    "//table with sorted and grouped attribute\n",
    "\\t:1000 res:select count i from t where date=2021.03.07\n",
    "res"
   ]
  },
  {
   "cell_type": "markdown",
   "metadata": {},
   "source": [
    "#### Query 2: Sorted and grouped attribute"
   ]
  },
  {
   "cell_type": "code",
   "execution_count": 73,
   "metadata": {},
   "outputs": [
    {
     "name": "stdout",
     "output_type": "stream",
     "text": [
      "1001\n",
      "price  \n",
      "-------\n",
      "15.0067\n"
     ]
    }
   ],
   "source": [
    "//query 2\n",
    "//table with sorted and grouped attribute\n",
    "\\t:1000 res:select avg price from t where sym=`AAPL\n",
    "res"
   ]
  },
  {
   "cell_type": "markdown",
   "metadata": {},
   "source": [
    "With this small experiment, we can see that attributes improve the performance on table lookups. "
   ]
  },
  {
   "cell_type": "markdown",
   "metadata": {},
   "source": [
    "Here is a list of functions that use attributes to improve the performance:\n",
    "\n",
    "* **qSQL** - When we are querying tables, we will see our code running faster with `where =, where in and where within`\n",
    "* **Searching**: [bin](https://code.kx.com/q/ref/bin/), [distinct](https://code.kx.com/q/ref/distinct/), [Find](https://code.kx.com/q/ref/find/) and [in](https://code.kx.com/q/ref/in/) \n",
    "* **Sorting**: [iasc](https://code.kx.com/q/ref/asc/#iasc) and [idesc](https://code.kx.com/q/ref/asc/##idesc)\n",
    "* **Dictionaries**: [group](https://code.kx.com/q/ref/group/)"
   ]
  },
  {
   "cell_type": "markdown",
   "metadata": {},
   "source": [
    "## Partitioned Database- Applying attributes\n",
    "\n",
    "Attributes that require a particular data structure (<code>\\`p#</code> and <code>\\`s#</code>) are usually applied at the time of structuring. Other attributes e.g. grouping (<code>\\`g#</code>) however, may be applied after data has already been written to disk - this section details how we can use amend (`@`) to apply these directly to on-disk data."
   ]
  },
  {
   "cell_type": "markdown",
   "metadata": {},
   "source": [
    "Let's begin by creating a table: "
   ]
  },
  {
   "cell_type": "code",
   "execution_count": 74,
   "metadata": {},
   "outputs": [
    {
     "name": "stdout",
     "output_type": "stream",
     "text": [
      "c        | t f a\n",
      "---------| -----\n",
      "timestamp| p   s\n",
      "sym      | s    \n",
      "price    | f    \n",
      "size     | j    \n",
      "ex       | s    \n"
     ]
    }
   ],
   "source": [
    "n:100000\n",
    "trade:([]timestamp:asc n?.z.P;sym:n?`BAC`BTU`DIS`GE`T;price:n?500f; size:n?100 200 500 1000;ex:n?`NYSE`NASDAQ`LSE`JPX)\n",
    "meta trade"
   ]
  },
  {
   "cell_type": "code",
   "execution_count": 75,
   "metadata": {},
   "outputs": [
    {
     "name": "stdout",
     "output_type": "stream",
     "text": [
      "trade\n"
     ]
    }
   ],
   "source": [
    ".Q.dpft[`:db;.z.d;`sym;`trade] //create a hdb for the trade table "
   ]
  },
  {
   "cell_type": "code",
   "execution_count": 76,
   "metadata": {},
   "outputs": [
    {
     "name": "stdout",
     "output_type": "stream",
     "text": [
      "c        | t f a\n",
      "---------| -----\n",
      "date     | d    \n",
      "sym      | s   p\n",
      "timestamp| p    \n",
      "price    | f    \n",
      "size     | j    \n",
      "ex       | s    \n"
     ]
    }
   ],
   "source": [
    "\\l db\n",
    "meta trade"
   ]
  },
  {
   "cell_type": "markdown",
   "metadata": {},
   "source": [
    "Suppose we wanted to apply a grouped attribute to `ex`, we can use the dbmaint functions that we have seen earlier in the course :  "
   ]
  },
  {
   "cell_type": "code",
   "execution_count": null,
   "metadata": {},
   "outputs": [],
   "source": [
    "setattrcol[`:.;`trade;`ex;`g]"
   ]
  },
  {
   "cell_type": "markdown",
   "metadata": {},
   "source": [
    "Reloading our database, we will see the attribute has now been applied. "
   ]
  },
  {
   "cell_type": "code",
   "execution_count": null,
   "metadata": {},
   "outputs": [],
   "source": [
    "\\l . \n",
    "meta trade    //g attribute on `ex column now "
   ]
  },
  {
   "cell_type": "markdown",
   "metadata": {},
   "source": [
    "##### Quiz Time!\n",
    "Try the Exercises to test your attributes knowledge!"
   ]
  }
 ],
 "metadata": {
  "kernelspec": {
   "display_name": "Python 3 (ipykernel)",
   "language": "python",
   "name": "python3"
  },
  "language_info": {
   "codemirror_mode": {
    "name": "ipython",
    "version": 3
   },
   "file_extension": ".py",
   "mimetype": "text/x-python",
   "name": "python",
   "nbconvert_exporter": "python",
   "pygments_lexer": "ipython3",
   "version": "3.11.10"
  },
  "toc": {
   "base_numbering": 1,
   "nav_menu": {},
   "number_sections": true,
   "sideBar": true,
   "skip_h1_title": false,
   "title_cell": "Table of Contents",
   "title_sidebar": "Contents",
   "toc_cell": false,
   "toc_position": {
    "height": "calc(100% - 180px)",
    "left": "10px",
    "top": "150px",
    "width": "384px"
   },
   "toc_section_display": true,
   "toc_window_display": true
  }
 },
 "nbformat": 4,
 "nbformat_minor": 4
}
