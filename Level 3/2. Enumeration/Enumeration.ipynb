{
 "cells": [
  {
   "cell_type": "code",
   "execution_count": 1,
   "metadata": {
    "autorun": true,
    "editable": false,
    "jupyter": {
     "source_hidden": true
    },
    "tags": [
     "remove-cell"
    ]
   },
   "outputs": [],
   "source": [
    "#;.pykx.disableJupyter()"
   ]
  },
  {
   "cell_type": "code",
   "execution_count": 2,
   "metadata": {
    "autorun": true,
    "editable": false,
    "jupyter": {
     "source_hidden": true
    },
    "tags": [
     "remove-cell"
    ]
   },
   "outputs": [
    {
     "name": "stdout",
     "output_type": "stream",
     "text": [
      "PyKX now running in 'jupyter_qfirst' mode. All cells by default will be run as q code. \n",
      "Include '%%py' at the beginning of each cell to run as python code. \n"
     ]
    }
   ],
   "source": [
    "# https://code.kx.com/pykx/3.0/examples/jupyter-integration.html#q-first-mode\n",
    "import pykx as kx\n",
    "kx.util.jupyter_qfirst_enable()"
   ]
  },
  {
   "cell_type": "markdown",
   "metadata": {},
   "source": [
    "**Learning Outcomes**\n",
    "\n",
    "To understand: \n",
    "* What is an enumeration?\n",
    "* How to create enumeration?\n",
    "* Operations on enumerations\n",
    "* The sym file\n",
    "* Foreign keys in tables"
   ]
  },
  {
   "cell_type": "markdown",
   "metadata": {
    "jp-MarkdownHeadingCollapsed": true
   },
   "source": [
    "# Introduction"
   ]
  },
  {
   "cell_type": "markdown",
   "metadata": {},
   "source": [
    "Let's revise what we've previously learned about textual data in kdb+/q. We have two data types, symbols and strings which we can use to store textual data. Here we'll recap and discuss what to consider when planning to persist data to disk."
   ]
  },
  {
   "cell_type": "markdown",
   "metadata": {},
   "source": [
    "## Recap on textual datatypes "
   ]
  },
  {
   "cell_type": "markdown",
   "metadata": {},
   "source": [
    "Behaviour: \n",
    "* Symbols are more performant with queries (as they're atomic) but can be more expensive in storage \n",
    "* Strings are easier to manipulate and parse but introduce extra complexity when querying as they are treated as lists in kdb+\n",
    "\n",
    "Data usage: \n",
    "* Symbols should be used for highly repetitive data e.g. sym \n",
    "* Strings should be used for variable data e.g. orderIDs"
   ]
  },
  {
   "cell_type": "markdown",
   "metadata": {},
   "source": [
    "## Considerations\n",
    "\n",
    "We need to determine which of these types is best to use for data we want to store on disk. "
   ]
  },
  {
   "cell_type": "markdown",
   "metadata": {},
   "source": [
    "When making this choice, we have to think of both: \n",
    "1. **Storage**: What disk resources do we have available to us when storing these massive tables \n",
    "2. **Performance**: What time/memory performance requirements do we have when we query these tables\n",
    "\n",
    "At first this seems like a trade off: Strings are less expensive to store, but symbols are much more efficient to query. Luckily, this is where [enumerations](https://en.wikipedia.org/wiki/Enumerated_type) come in to save the day!"
   ]
  },
  {
   "cell_type": "markdown",
   "metadata": {},
   "source": [
    "## Enumeration as a concept \n",
    "\n",
    "[Enumeration](https://code.kx.com/q/basics/enumerations/) is a method of associating a data set with a set of distinct values, commonly referred to as an enumeration domain. It is a method of data normalization as well as a technique to improve performance and save space when storing data on disk."
   ]
  },
  {
   "cell_type": "markdown",
   "metadata": {},
   "source": [
    "As an example, let's look at the below list of fruit listed with their indices:\n",
    "\n",
    "| apple | peach| banana| peach| banana| banana| apple|\n",
    "|--|--|---|--|--|--|--|\n",
    "|0|1|2|3|4|5|6|\n",
    "\n",
    "Another way to store this would to be to store a distinct list of the fruit and then map the indices to each one.\n",
    "\n",
    "| apple| peach| banana|\n",
    "|----|----|---|\n",
    "| 0| 1| 2|\n",
    "\n",
    "|0|1|2|1|2|2|0|\n",
    "|-|-|-|-|-|-|-|\n",
    "|0|1|2|3|4|5|6|\n",
    "\n",
    "With this second method we only need to store the name of each fruit once!"
   ]
  },
  {
   "cell_type": "markdown",
   "metadata": {},
   "source": [
    "Fortunately kdb+/q already provides a method to achieve this enumeration without us having to go through all these steps! "
   ]
  },
  {
   "cell_type": "markdown",
   "metadata": {
    "jp-MarkdownHeadingCollapsed": true
   },
   "source": [
    "# Creating an Enumeration\n",
    "\n",
    "Within kdb+/q there is the ability to create enumerations as either direct and strict mappings, or as an extensible mappings. Enumeration is only possible when working with symbols. "
   ]
  },
  {
   "cell_type": "markdown",
   "metadata": {},
   "source": [
    "The two methods differ in the kdb+/q operator that is used: \n",
    "\n",
    "* [Enumerate - `$`](https://code.kx.com/q/ref/enumerate/) - all items in list to be enumerated must be in the enumeration domain, if not the enumeration will fail.\n",
    "* [Enum extend - `?`](https://code.kx.com/q/ref/enum-extend/) - any items not in the enumeration domain will be added to the enumeration domain \n",
    "\n",
    "Syntax: \n",
    "    \n",
    "    <enumeration domain list as a symbol>$<list to enumerate> \n",
    "    <enumeration domain list as a symbol>?<list to enumerate> \n",
    "        \n",
    "We will look at each individually. "
   ]
  },
  {
   "cell_type": "markdown",
   "metadata": {},
   "source": [
    "## Enumerate - $\n",
    "Let's work with the fruit example from above, we have a list of repetitive symbols and a small list of the unique symbol values: "
   ]
  },
  {
   "cell_type": "code",
   "execution_count": 3,
   "metadata": {},
   "outputs": [
    {
     "name": "stdout",
     "output_type": "stream",
     "text": [
      "`apple`peach`banana`peach`apple`banana`peach`apple`banana`apple\n",
      "`apple`peach`banana\n",
      "0 1 2 1 0 2 1 0 2 0\n"
     ]
    }
   ],
   "source": [
    "show fruitbowl:`apple`peach`banana`peach`apple`banana`peach`apple`banana`apple    //creation a items list of symbols \n",
    "show s:distinct fruitbowl       //getting our distinct values\n",
    "show ref:s?fruitbowl            //getting our references from the list to the unique values"
   ]
  },
  {
   "cell_type": "markdown",
   "metadata": {},
   "source": [
    "We can form an enumeration between these two lists by doing the following: "
   ]
  },
  {
   "cell_type": "code",
   "execution_count": 4,
   "metadata": {},
   "outputs": [
    {
     "name": "stdout",
     "output_type": "stream",
     "text": [
      "`apple`peach`banana`peach`apple`banana`peach`apple`banana`apple\n",
      "`s$`apple`peach`banana`peach`apple`banana`peach`apple`banana`apple\n"
     ]
    }
   ],
   "source": [
    "show enumFruitbowl:`s$fruitbowl    //notice how the output starts with `s$\n",
    "fruitbowl                          //we haven't directly modified fruitbowl itself "
   ]
  },
  {
   "cell_type": "markdown",
   "metadata": {},
   "source": [
    "Let's see what happens to our lists when we modify our enumeration domain (`s`): "
   ]
  },
  {
   "cell_type": "code",
   "execution_count": 5,
   "metadata": {},
   "outputs": [
    {
     "name": "stdout",
     "output_type": "stream",
     "text": [
      "`orange`peach`banana\n"
     ]
    }
   ],
   "source": [
    "//s\n",
    "s[0]:`orange  //changing our first item in the list \n",
    "s "
   ]
  },
  {
   "cell_type": "code",
   "execution_count": 6,
   "metadata": {},
   "outputs": [
    {
     "name": "stdout",
     "output_type": "stream",
     "text": [
      "`s$`orange`peach`banana`peach`orange`banana`peach`orange`banana`orange\n",
      "`apple`peach`banana`peach`apple`banana`peach`apple`banana`apple\n"
     ]
    }
   ],
   "source": [
    "enumFruitbowl  //updated the first item with the new enumeration domain value \n",
    "fruitbowl      //unchanged "
   ]
  },
  {
   "cell_type": "markdown",
   "metadata": {},
   "source": [
    "<img src=\"../images/qbies.png\" style=\"width: 50px;padding-right:5px;padding-top:10px;padding-left:5px;\" align=\"left\"/>\n",
    "\n",
    "<p style='color:#273a6e'><i>Since changing our enumeration domain changes all the values in our data, it can be very  useful to leverage this to make any changes required to keep our data in-sync if values change.</i></p>"
   ]
  },
  {
   "cell_type": "markdown",
   "metadata": {},
   "source": [
    "Now let's see what happens when we try to add a fruit to the fruitbowl that does not exist in our enumeration domain `s`"
   ]
  },
  {
   "cell_type": "code",
   "execution_count": null,
   "metadata": {},
   "outputs": [],
   "source": [
    "`s$`mango,fruitbowl //returns a cast error"
   ]
  },
  {
   "cell_type": "markdown",
   "metadata": {},
   "source": [
    "<img src=\"../images/qbies.png\" style=\"width: 50px;padding-right:5px;padding-top:10px;padding-left:5px;\" align=\"left\"/>\n",
    "\n",
    "<p style='color:#273a6e'><i>Enumerating using <code>$</code> won't deal with unforeseen values - namely new items not already in your enumeration domain will throw an error. This is good for instances where we don't want to extend that domain or if we want to be alerted to inconsistencies. </i></p>"
   ]
  },
  {
   "cell_type": "markdown",
   "metadata": {},
   "source": [
    "As you can see, `$` Enumeration only allows you to add symbols to the list that already exist in the enumeration domain. For more flexibility, we use `?` Enum Extend "
   ]
  },
  {
   "cell_type": "markdown",
   "metadata": {
    "jp-MarkdownHeadingCollapsed": true
   },
   "source": [
    "## Enum extend - ?\n",
    "This method will let you expand the domain and dynamically add new unique values. Let's look at an example below:"
   ]
  },
  {
   "cell_type": "code",
   "execution_count": 7,
   "metadata": {},
   "outputs": [
    {
     "name": "stdout",
     "output_type": "stream",
     "text": [
      "`apple`peach`banana`peach`apple`banana`peach`apple`banana`apple\n",
      "`s$`mango`apple`peach`banana`peach`apple`banana`peach`apple`banana`apple\n",
      "`orange`peach`banana`mango`apple\n"
     ]
    }
   ],
   "source": [
    "fruitbowl                   //our original enumeration domain\n",
    "`s?`mango,fruitbowl         //adding our new fruit to the bowl \n",
    "s                           //our new value has now been added to the enumeration domain"
   ]
  },
  {
   "cell_type": "markdown",
   "metadata": {},
   "source": [
    "Another useful feature of this extended enumeration is that we don't have to already have a enumeration domain defined - we can create one while performing the enumeration:"
   ]
  },
  {
   "cell_type": "code",
   "execution_count": 10,
   "metadata": {},
   "outputs": [
    {
     "name": "stdout",
     "output_type": "stream",
     "text": [
      "1b\n",
      "`ourNewEnum$`mango`apple`peach`banana`peach`apple`banana`peach`apple`banana`a..\n",
      "`mango`apple`peach`banana\n"
     ]
    }
   ],
   "source": [
    "`ourNewEnum in key `.           //check if this variable already exists in our workspace\n",
    "`ourNewEnum?`mango,fruitbowl    //enumerating against a new variable creates it \n",
    "ourNewEnum                      //here it is! unique items in order of appearance"
   ]
  },
  {
   "cell_type": "markdown",
   "metadata": {},
   "source": [
    "<img src=\"../images/qbies.png\" style=\"width: 50px;padding-right:5px;padding-top:2px;padding-left:5px;\" align=\"left\"/>\n",
    "\n",
    "<p style='color:#273a6e'><i>Enumeration extend <code>?</code> is frequently used with market data as new companies are constantly beginning to trade on exchanges.</i></p>"
   ]
  },
  {
   "cell_type": "markdown",
   "metadata": {},
   "source": [
    "If we specify a file handle rather than a variable (i.e. <code>\\`:ourNewEnum</code> rather than <code>\\`ourNewEnum</code>) this enumeration is not only created, but it is written to disk: "
   ]
  },
  {
   "cell_type": "code",
   "execution_count": 12,
   "metadata": {},
   "outputs": [
    {
     "name": "stdout",
     "output_type": "stream",
     "text": [
      "1b\n",
      "`ourNewEnum2$`mango`apple`peach`banana`peach`apple`banana`peach`apple`banana`..\n",
      "`mango`apple`peach`banana\n",
      "`mango`apple`peach`banana\n"
     ]
    }
   ],
   "source": [
    "`ourNewEnum2 in key `.           //check if this variable already exists in our workspace\n",
    "`:ourNewEnum2?`mango,fruitbowl  //enumerating against a file handle creates this on disk and also as a variable \n",
    "ourNewEnum\n",
    "ourNewEnum2"
   ]
  },
  {
   "cell_type": "markdown",
   "metadata": {},
   "source": [
    "If we look now at our local directory in Jupyter you will now see this value stored there! Or we can use key to list the contents of the current directory as follows: "
   ]
  },
  {
   "cell_type": "code",
   "execution_count": 14,
   "metadata": {},
   "outputs": [
    {
     "name": "stdout",
     "output_type": "stream",
     "text": [
      "ourNewEnum2\n"
     ]
    }
   ],
   "source": [
    "last key `:.   //subsetting to last so the contents aren't dropped from displaying"
   ]
  },
  {
   "cell_type": "markdown",
   "metadata": {},
   "source": [
    "<img src=\"../images/qbies.png\" style=\"width: 50px;padding-right:5px;padding-top:2px;padding-left:5px;\" align=\"left\"/>\n",
    "\n",
    "<p style='color:#273a6e'><i>Enumeration extend <code>?</code> preserves the attributes of the list however <code>$</code> doesn't. </i></p>"
   ]
  },
  {
   "cell_type": "code",
   "execution_count": 15,
   "metadata": {},
   "outputs": [
    {
     "name": "stdout",
     "output_type": "stream",
     "text": [
      "`g#`ourNewEnum2$`g#`mango`apple`peach`banana`peach`apple`banana`peach`apple`b..\n",
      "`ourNewEnum2$`mango`apple`peach`banana`peach`apple`banana`peach`apple`banana`..\n"
     ]
    }
   ],
   "source": [
    "`ourNewEnum2?`g#`mango,fruitbowl  //preserves the group attribute\n",
    "`ourNewEnum2$`g#`mango,fruitbowl"
   ]
  },
  {
   "cell_type": "markdown",
   "metadata": {
    "jp-MarkdownHeadingCollapsed": true
   },
   "source": [
    "## $ Enumeration versus ? Enumeration"
   ]
  },
  {
   "cell_type": "markdown",
   "metadata": {},
   "source": [
    "Now that we have gone through both methods of enumeration, what are the main differences between them?\n",
    "\n",
    "* `$` is used for fixed enumerated lists. `?` is used when we expect the enumerated list to grow/change\n",
    "* `?` preserves the attribute of the list, `$` does not\n",
    "* `?` will create an enumeration domain if it does not already exist\n",
    "\n",
    "When should we use `$` versus `?`\n",
    "\n",
    "* Use `$` when the list of symbols in the database will be fixed and unchanging. This will provide the added benefit of preventing any unwanted symbols being added to the database. \n",
    "* Use `?` for lists/databases containing data which will have new symbols added all the time, for example market data."
   ]
  },
  {
   "cell_type": "markdown",
   "metadata": {
    "reveal": "xnz73m6phu",
    "reveal-hidden": false,
    "tags": []
   },
   "source": [
    "##### Exercise \n",
    "\n",
    "Create a 1000 item list called `quarantineActivities` drawn from the following list: <code>\\`books\\`music\\`books\\`netflix\\`news\\`internet\\`music\\`hulu\\`eat\\`eat\\`eat\\`snack</code> (repetition intended). \n",
    "\n",
    "Create an enumeration domain called `activities` with the unique activities and a new list called `qActivities` which is the enumeration of `quarantineActivities` using the `activities` domain.\n",
    "\n",
    "*(ASIDE: what happens if we use the original list as our enumeration domain so -\n",
    "<code>\\`books\\`music\\`books\\`netflix\\`news\\`internet\\`music\\`hulu\\`eat\\`eat\\`eat\\`snack</code>*"
   ]
  },
  {
   "cell_type": "code",
   "execution_count": 20,
   "metadata": {
    "reveal": "xnz73m6phu"
   },
   "outputs": [
    {
     "name": "stdout",
     "output_type": "stream",
     "text": [
      "`hulu`music`snack`music`news`eat`hulu`eat`books`eat`books`eat`hulu`internet`b..\n",
      "`hulu`music`snack`news`eat`books`internet`netflix\n"
     ]
    }
   ],
   "source": [
    "show quarantineActivities: 1000?`books`music`books`netflix`news`internet`music`hulu`eat`eat`eat`snack \n",
    "//getting the unique items - from our original list, or from quarantineActivies\n",
    "show activities: distinct quarantineActivities"
   ]
  },
  {
   "cell_type": "code",
   "execution_count": 21,
   "metadata": {
    "reveal": "xnz73m6phu"
   },
   "outputs": [
    {
     "name": "stdout",
     "output_type": "stream",
     "text": [
      "`activities$`hulu`music`snack`music`news`eat`hulu`eat`books`eat`books`eat`hul..\n"
     ]
    }
   ],
   "source": [
    "//enumerating using the activities domain\n",
    "show qActivities: `activities$quarantineActivities"
   ]
  },
  {
   "cell_type": "code",
   "execution_count": null,
   "metadata": {
    "reveal": "xnz73m6phu"
   },
   "outputs": [],
   "source": [
    "//ASIDE\n",
    "//what if you used the original list as activities? \n",
    "activities: `books`music`books`netflix`news`internet`music`hulu`eat`eat`eat`snack \n",
    "show qA:`activities$quarantineActivities     //this still works, but it's bad practice since we have repetition in  \n",
    "                                                //our list, and some indexes will never be used (recall 1 3 2 3 1?3)\n",
    "/delete activities from `.                    //removing activities from our current namespace \n",
    "distinct qA                                  //you see we are missing some indexes from our list!"
   ]
  },
  {
   "cell_type": "code",
   "execution_count": 19,
   "metadata": {},
   "outputs": [
    {
     "name": "stdout",
     "output_type": "stream",
     "text": [
      "`activities$`snack`eat`news`eat`hulu`music`music`music`snack`hulu`eat`eat`eat..\n"
     ]
    }
   ],
   "source": [
    "//your answer here \n",
    "quarantineActivities: 1000?`books`music`books`netflix`news`internet`music`hulu`eat`eat`eat`snack\n",
    "activities:distinct quarantineActivities\n",
    "show qActivities: `activities$quarantineActivities"
   ]
  },
  {
   "cell_type": "markdown",
   "metadata": {
    "reveal": "vl65gjzmu1p",
    "reveal-hidden": true,
    "tags": []
   },
   "source": [
    "Oh no! We forgot to exercise! Quick - let's pretend that all that time we spent snacking, we were instead exercising before someone finds our activity log and judges us. \n",
    "\n",
    "Update the values in `qActivities` by modifying `activities`  - as a refresher (and to cover our trail), modify the values in `quarantineActivites` too."
   ]
  },
  {
   "cell_type": "code",
   "execution_count": null,
   "metadata": {
    "reveal": "vl65gjzmu1p"
   },
   "outputs": [],
   "source": [
    "activities                             //lets look at our domain first \n",
    "activities[activities?`snack]:`exercise  //now lets update the list\n",
    "activities                             //updated activities "
   ]
  },
  {
   "cell_type": "code",
   "execution_count": null,
   "metadata": {
    "reveal": "vl65gjzmu1p"
   },
   "outputs": [],
   "source": [
    "qActivities                            //phew!"
   ]
  },
  {
   "cell_type": "code",
   "execution_count": null,
   "metadata": {
    "reveal": "vl65gjzmu1p"
   },
   "outputs": [],
   "source": [
    "//refresher - modifying quarantineActivities \n",
    "quarantineActivities[where quarantineActivities = `snack]: `exercise \n",
    "quarantineActivities                   //judgement adverted!"
   ]
  },
  {
   "cell_type": "code",
   "execution_count": 25,
   "metadata": {},
   "outputs": [
    {
     "name": "stdout",
     "output_type": "stream",
     "text": [
      "`activities$`hulu`music`exercise`music`news`eat`hulu`eat`books`eat`books`eat`..\n",
      "`hulu`music`exercise`music`news`eat`hulu`eat`books`eat`books`eat`hulu`interne..\n"
     ]
    }
   ],
   "source": [
    "//your answer here\n",
    "activities[2]:`exercise\n",
    "qActivities\n",
    "quarantineActivities[where quarantineActivities = `snack]:`exercise\n",
    "quarantineActivities"
   ]
  },
  {
   "cell_type": "markdown",
   "metadata": {
    "reveal": "s65ckd5hb7",
    "reveal-hidden": true,
    "tags": []
   },
   "source": [
    "Add a new activity `zooming` to our `activities` list using the enum Extend method:"
   ]
  },
  {
   "cell_type": "code",
   "execution_count": null,
   "metadata": {
    "reveal": "s65ckd5hb7"
   },
   "outputs": [],
   "source": [
    "activities\n",
    "`activities?`zooming   //the act of enumerating this symbol adds it \n",
    "activities"
   ]
  },
  {
   "cell_type": "code",
   "execution_count": 26,
   "metadata": {},
   "outputs": [
    {
     "name": "stdout",
     "output_type": "stream",
     "text": [
      "`activities$`zooming\n",
      "`hulu`music`exercise`news`eat`books`internet`netflix`zooming\n"
     ]
    }
   ],
   "source": [
    "//your answer here\n",
    "`activities?`zooming\n",
    "activities"
   ]
  },
  {
   "cell_type": "markdown",
   "metadata": {
    "reveal": "sj9yz5nac3o",
    "reveal-hidden": true,
    "tags": []
   },
   "source": [
    "Apply the new `activities` enumeration to the following index listing: `0 8 0 2 3 3 1 5`"
   ]
  },
  {
   "cell_type": "code",
   "execution_count": 28,
   "metadata": {
    "reveal": "sj9yz5nac3o"
   },
   "outputs": [
    {
     "name": "stdout",
     "output_type": "stream",
     "text": [
      "`activities$`hulu`zooming`hulu`exercise`news`news`music`books\n"
     ]
    }
   ],
   "source": [
    "`activities!0 8 0 2 3 3 1 5   //using ! we can apply an enumeration to an index listing"
   ]
  },
  {
   "cell_type": "code",
   "execution_count": 27,
   "metadata": {},
   "outputs": [
    {
     "name": "stdout",
     "output_type": "stream",
     "text": [
      "`activities$`hulu`zooming`hulu`exercise`news`news`music`books\n"
     ]
    }
   ],
   "source": [
    "//your answer here\n",
    "indexListing: 0 8 0 2 3 3 1 5 \n",
    "`activities!indexListing"
   ]
  },
  {
   "cell_type": "markdown",
   "metadata": {
    "jp-MarkdownHeadingCollapsed": true
   },
   "source": [
    "# Enumeration as a Datatype \n",
    "All enumerations have a datatype value 20 (kdb+ v3.6+, previously 20-76)."
   ]
  },
  {
   "cell_type": "code",
   "execution_count": 29,
   "metadata": {},
   "outputs": [
    {
     "name": "stdout",
     "output_type": "stream",
     "text": [
      "11h\n",
      "20h\n",
      "20h\n"
     ]
    }
   ],
   "source": [
    "type s               //our Enumeration domain is a symbol list  \n",
    "type enumFruitbowl     //our Enumeration itself is type 20\n",
    "type `newS?fruitbowl   //a new Enumeration - also type 20"
   ]
  },
  {
   "cell_type": "markdown",
   "metadata": {},
   "source": [
    "There was a [change in kdb+ v3.6](https://code.kx.com/q/releases/ChangesIn3.6/#64-bit-enumerations) so that all 64-bit enums are type 20h regardless of their domain and there is no practical limit to the number of enumerations that can be in operation (in older versions the type was between 20-76 so users were limited to a max of 57 enumerations). "
   ]
  },
  {
   "cell_type": "markdown",
   "metadata": {
    "jp-MarkdownHeadingCollapsed": true
   },
   "source": [
    "# Operations on Enumerations\n",
    "\n",
    "An enumerated list acts the same as a symbol list when we perform operations it, and therefore does not require any special code modification"
   ]
  },
  {
   "cell_type": "code",
   "execution_count": 33,
   "metadata": {},
   "outputs": [
    {
     "name": "stdout",
     "output_type": "stream",
     "text": [
      "`s$`orange`peach`banana`peach`orange`banana`peach`orange`banana`orange\n",
      "0101001000b\n",
      "1000100101b\n"
     ]
    }
   ],
   "source": [
    "enumFruitbowl                 //our enumerated list \n",
    "//operations on enumerations work the same as if they were operating on the actual symbol list\n",
    "//where enumFruitbowl= `peach   \n",
    "enumFruitbowl =/: `peach`orange"
   ]
  },
  {
   "cell_type": "markdown",
   "metadata": {},
   "source": [
    "## Un-enumerating\n",
    "\n",
    "There are some situations in where we only need to extract the non-enumerated values. For example, converting from one enumeration domain to another, which happens when copying from one kdb+ database to another or when merging two databases. "
   ]
  },
  {
   "cell_type": "markdown",
   "metadata": {},
   "source": [
    "We can use `value` or `get` to unenumerate our data:"
   ]
  },
  {
   "cell_type": "code",
   "execution_count": 34,
   "metadata": {},
   "outputs": [
    {
     "name": "stdout",
     "output_type": "stream",
     "text": [
      "`AAPL`IBM`JPM\n",
      "`AAPL`JPM`AAPL`JPM`AAPL`IBM`JPM`JPM`JPM`JPM`AAPL`AAPL`JPM`JPM`JPM`IBM`JPM`IBM..\n"
     ]
    }
   ],
   "source": [
    "show sym:`AAPL`IBM`JPM    //our enumeration domain\n",
    "show L:100000?sym         //creating our to unenumerated list"
   ]
  },
  {
   "cell_type": "code",
   "execution_count": 35,
   "metadata": {},
   "outputs": [
    {
     "name": "stdout",
     "output_type": "stream",
     "text": [
      "`sym$`AAPL`JPM`AAPL`JPM`AAPL`IBM`JPM`JPM`JPM`JPM`AAPL`AAPL`JPM`JPM`JPM`IBM`JP..\n",
      "`AAPL`JPM`AAPL`JPM`AAPL`IBM`JPM`JPM`JPM`JPM`AAPL`AAPL`JPM`JPM`JPM`IBM`JPM`IBM..\n"
     ]
    }
   ],
   "source": [
    "show enumL:`sym$L        //making our new enumerated list \n",
    "show value enumL         //unenumerating our list - notice the leading enumeration domain is gone "
   ]
  },
  {
   "cell_type": "code",
   "execution_count": null,
   "metadata": {},
   "outputs": [],
   "source": [
    "L~value enumL            //unenumerating our enumerated list is the same as our original list\n",
    "get[enumL]~value enumL   //value or get both work to unenumerate"
   ]
  },
  {
   "cell_type": "markdown",
   "metadata": {
    "reveal": "9g5nv9yg12w",
    "reveal-hidden": true,
    "tags": []
   },
   "source": [
    "<img src=\"../images/qbies.png\" style=\"width: 50px;padding-right:5px;padding-top:2px;padding-left:5px;\" align=\"left\"/>\n",
    "\n",
    "<p style='color:#273a6e'><i> Actually value and get are the same \"under the hood\"!</i></p>"
   ]
  },
  {
   "cell_type": "code",
   "execution_count": null,
   "metadata": {
    "reveal": "9g5nv9yg12w"
   },
   "outputs": [],
   "source": [
    "value \n",
    "get "
   ]
  },
  {
   "cell_type": "markdown",
   "metadata": {},
   "source": [
    "# The `sym` file \n",
    "The default name for the enumeration used within kdb+/q tick capture systems is `sym`."
   ]
  },
  {
   "cell_type": "markdown",
   "metadata": {},
   "source": [
    "<img src=\"../images/qbies.png\" style=\"width: 50px;padding-right:5px;padding-top:10px;padding-left:5px;\" align=\"left\"/>\n",
    "\n",
    "<p style='color:#273a6e'><i> In real-world applications, the ticker symbol in the trade and quote tables (aka TAQ data) is always enumerated, generally this will be enumerated using a file called `sym.</i></p>"
   ]
  },
  {
   "cell_type": "markdown",
   "metadata": {
    "tags": []
   },
   "source": [
    "1. The ticker symbol list is a finite list that only rarely changes\n",
    "2. Instead of searching in a variable length of list which is time-consuming, we can speed it up by searching a list of integers.\n",
    "3. Reading and writing the index list is a fast operation."
   ]
  },
  {
   "cell_type": "markdown",
   "metadata": {},
   "source": [
    "The sym file is central to all kdb+/q systems in which we will discuss in both the practical guidance and also later in the course. Firstly, let's look at how we save enumeration down to disk using [?](https://code.kx.com/q/ref/enum-extend/#filepath):"
   ]
  },
  {
   "cell_type": "code",
   "execution_count": 36,
   "metadata": {},
   "outputs": [
    {
     "name": "stdout",
     "output_type": "stream",
     "text": [
      "`seasons$`autumn`summer`winter`summer`autumn`winter`winter\n"
     ]
    }
   ],
   "source": [
    "seasons:`summer`winter \n",
    "`:seasons?`autumn`summer`winter`summer`autumn`winter`winter"
   ]
  },
  {
   "cell_type": "markdown",
   "metadata": {},
   "source": [
    "Let's check what seasons look like now:"
   ]
  },
  {
   "cell_type": "code",
   "execution_count": 37,
   "metadata": {},
   "outputs": [
    {
     "name": "stdout",
     "output_type": "stream",
     "text": [
      "`autumn`summer`winter\n"
     ]
    }
   ],
   "source": [
    "seasons //autumn is added to the sym variable"
   ]
  },
  {
   "cell_type": "markdown",
   "metadata": {},
   "source": [
    "# Foreign Keys in tables"
   ]
  },
  {
   "cell_type": "markdown",
   "metadata": {},
   "source": [
    "A [foreign key](https://code.kx.com/q4m3/8_Tables/#85-foreign-keys-and-virtual-columns) defines a mapping from the rows of the table in which it is defined to the rows of the\n",
    "table with the corresponding primary key. This foreign key relationship is achieved via the application of an enumeration, specifically `$` - this is how Foreign keys provide referential integrity. \n",
    "\n",
    "\n",
    "Since this utilizes `$`, the enumeration enforces the values be within the enumeration domain so any attempt to insert a foreign key value that is not in the primary key will fail. The foreign key relationship is established by enumerating a column in one table, against the (unique) key of a second table.\n",
    "\n",
    "This will be shown using two examples."
   ]
  },
  {
   "cell_type": "markdown",
   "metadata": {},
   "source": [
    "## Explicit Foreign key \n",
    "This method enforces referential integrity. "
   ]
  },
  {
   "cell_type": "markdown",
   "metadata": {},
   "source": [
    "In the first example we will define a foreign key explicitly on initialization:"
   ]
  },
  {
   "cell_type": "code",
   "execution_count": 38,
   "metadata": {},
   "outputs": [
    {
     "name": "stdout",
     "output_type": "stream",
     "text": [
      "symb| ex  MC  \n",
      "----| --------\n",
      "IBM | N   1000\n",
      "MSFT| CME 250 \n",
      "FDP | N   5000\n",
      "sym  price    \n",
      "--------------\n",
      "IBM  0.4331538\n",
      "FDP  0.2017667\n",
      "FDP  0.8032723\n",
      "FDP  0.1444925\n",
      "IBM  0.9366088\n",
      "MSFT 0.2369792\n"
     ]
    }
   ],
   "source": [
    "//Example 1\n",
    "show sector:([symb:`IBM`MSFT`FDP]ex:`N`CME`N;MC:1000 250 5000) \n",
    "show t:([]sym:`sector$`IBM`FDP`FDP`FDP`IBM`MSFT;price:6?1f)"
   ]
  },
  {
   "cell_type": "markdown",
   "metadata": {},
   "source": [
    "This relationship can be shown via the tables meta information, specifically the `f` column which indicates foreign key relationships:"
   ]
  },
  {
   "cell_type": "code",
   "execution_count": 39,
   "metadata": {},
   "outputs": [
    {
     "name": "stdout",
     "output_type": "stream",
     "text": [
      "c    | t f      a\n",
      "-----| ----------\n",
      "sym  | s sector  \n",
      "price| f         \n",
      "c   | t f a\n",
      "----| -----\n",
      "symb| s    \n",
      "ex  | s    \n",
      "MC  | j    \n"
     ]
    }
   ],
   "source": [
    "meta t         //here t has an foreign key relations to sector applied to the sym column\n",
    "meta sector"
   ]
  },
  {
   "cell_type": "markdown",
   "metadata": {},
   "source": [
    "[fkeys]() returns the column in which has a foreign key associated with it and also the names of the column that is it's associated with. "
   ]
  },
  {
   "cell_type": "code",
   "execution_count": 40,
   "metadata": {},
   "outputs": [
    {
     "name": "stdout",
     "output_type": "stream",
     "text": [
      "sym| sector\n"
     ]
    }
   ],
   "source": [
    "fkeys t "
   ]
  },
  {
   "cell_type": "markdown",
   "metadata": {},
   "source": [
    "The neat thing is we can now use this foreign key relationship within `t` to use back data from sector: "
   ]
  },
  {
   "cell_type": "code",
   "execution_count": 41,
   "metadata": {},
   "outputs": [
    {
     "name": "stdout",
     "output_type": "stream",
     "text": [
      "sym price    \n",
      "-------------\n",
      "IBM 0.4331538\n",
      "FDP 0.2017667\n",
      "FDP 0.8032723\n",
      "FDP 0.1444925\n",
      "IBM 0.9366088\n",
      "sym  price     MC  \n",
      "-------------------\n",
      "IBM  0.4331538 1000\n",
      "FDP  0.2017667 5000\n",
      "FDP  0.8032723 5000\n",
      "FDP  0.1444925 5000\n",
      "IBM  0.9366088 1000\n",
      "MSFT 0.2369792 250 \n",
      "ex | x\n",
      "---| -\n",
      "CME| 1\n",
      "N  | 5\n"
     ]
    }
   ],
   "source": [
    "select from t where sym.ex=`N        //notice we only return `IBM`FDP which correspond to ex `N in sector\n",
    "select sym, price, sym.MC from t     //we can use these values in any part of our qSQL statement\n",
    "select count i by sym.ex from t "
   ]
  },
  {
   "cell_type": "markdown",
   "metadata": {},
   "source": [
    "It is important to note that the sym column is now an enumeration over the keyed table domain of sector.\n",
    "The general notation for a predefined foreign key is:\n",
    "    \n",
    "    select a.b from c where\n",
    "        a is the foreign key (sym)\n",
    "        b is a field in the primary key table (ind)\n",
    "        c is the foreign key table (trade)\n",
    "\n",
    "We also cannot insert data into our table that would violate our foreign key relationship: "
   ]
  },
  {
   "cell_type": "code",
   "execution_count": 43,
   "metadata": {},
   "outputs": [
    {
     "name": "stdout",
     "output_type": "stream",
     "text": [
      ",7\n",
      "sym  price    \n",
      "--------------\n",
      "IBM  0.4331538\n",
      "FDP  0.2017667\n",
      "FDP  0.8032723\n",
      "FDP  0.1444925\n",
      "IBM  0.9366088\n",
      "MSFT 0.2369792\n",
      "IBM  0.4      \n",
      "IBM  0.4      \n"
     ]
    }
   ],
   "source": [
    "`t insert (`IBM;0.4)   //this works because `IBM is in sector \n",
    "t\n",
    "//`t insert (`NEW;1f)    //this returns a cast error"
   ]
  },
  {
   "cell_type": "code",
   "execution_count": 44,
   "metadata": {},
   "outputs": [
    {
     "name": "stdout",
     "output_type": "stream",
     "text": [
      "sector\n",
      ",8\n",
      "sym  price    \n",
      "--------------\n",
      "IBM  0.4331538\n",
      "FDP  0.2017667\n",
      "FDP  0.8032723\n",
      "FDP  0.1444925\n",
      "IBM  0.9366088\n",
      "MSFT 0.2369792\n",
      "IBM  0.4      \n",
      "IBM  0.4      \n",
      "NEW  1        \n"
     ]
    }
   ],
   "source": [
    "`sector upsert (`NEW;`CME;200)\n",
    "`t insert (`NEW;1f)    //this now works, because we have defined the sym within sector\n",
    "t"
   ]
  },
  {
   "cell_type": "markdown",
   "metadata": {},
   "source": [
    "This is how foreign keys ensure referential integrity. "
   ]
  },
  {
   "cell_type": "markdown",
   "metadata": {},
   "source": [
    "Like enumerations, we can resolve a foreign key by applying `value` to column and we will retrieve the actual values:"
   ]
  },
  {
   "cell_type": "code",
   "execution_count": 45,
   "metadata": {},
   "outputs": [
    {
     "name": "stdout",
     "output_type": "stream",
     "text": [
      "c    | t f a\n",
      "-----| -----\n",
      "sym  | s    \n",
      "price| f    \n",
      "c    | t f a\n",
      "-----| -----\n",
      "sym  | s    \n",
      "price| f    \n"
     ]
    }
   ],
   "source": [
    "meta update value sym from t //applying value to the enumerated column\n",
    "meta update get sym from t   //can also use get "
   ]
  },
  {
   "cell_type": "code",
   "execution_count": null,
   "metadata": {},
   "outputs": [],
   "source": []
  }
 ],
 "metadata": {
  "kernelspec": {
   "display_name": "Python 3 (ipykernel)",
   "language": "python",
   "name": "python3"
  },
  "language_info": {
   "codemirror_mode": {
    "name": "ipython",
    "version": 3
   },
   "file_extension": ".py",
   "mimetype": "text/x-python",
   "name": "python",
   "nbconvert_exporter": "python",
   "pygments_lexer": "ipython3",
   "version": "3.11.10"
  },
  "toc": {
   "base_numbering": 1,
   "nav_menu": {},
   "number_sections": true,
   "sideBar": true,
   "skip_h1_title": false,
   "title_cell": "Table of Contents",
   "title_sidebar": "Contents",
   "toc_cell": false,
   "toc_position": {
    "height": "calc(100% - 180px)",
    "left": "10px",
    "top": "150px",
    "width": "384px"
   },
   "toc_section_display": true,
   "toc_window_display": true
  }
 },
 "nbformat": 4,
 "nbformat_minor": 4
}
