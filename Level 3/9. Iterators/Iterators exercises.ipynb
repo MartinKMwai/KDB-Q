{
 "cells": [
  {
   "cell_type": "code",
   "execution_count": null,
   "metadata": {
    "autorun": true,
    "editable": false,
    "jupyter": {
     "source_hidden": true
    },
    "tags": [
     "remove-cell"
    ]
   },
   "outputs": [],
   "source": [
    "#;.pykx.disableJupyter()"
   ]
  },
  {
   "cell_type": "code",
   "execution_count": null,
   "metadata": {
    "autorun": true,
    "editable": false,
    "jupyter": {
     "source_hidden": true
    },
    "tags": [
     "remove-cell"
    ]
   },
   "outputs": [],
   "source": [
    "# https://code.kx.com/pykx/3.0/examples/jupyter-integration.html#q-first-mode\n",
    "import pykx as kx\n",
    "kx.util.jupyter_qfirst_enable()"
   ]
  },
  {
   "cell_type": "markdown",
   "metadata": {},
   "source": [
    "## KX Training: Exercises - Iterators"
   ]
  },
  {
   "cell_type": "markdown",
   "metadata": {
    "heading_collapsed": true,
    "reveal": "0bu7eupe88x",
    "reveal-hidden": true
   },
   "source": [
    "### Mapping iterators \n",
    "\n",
    "* Using a mapping iterator, find out which, if any, of the following lists contains Apple.\n",
    "\n",
    "```\n",
    "x:(\"An\";\"Apple\";\"a\";\"day\")\n",
    "y:(\"keeps\";\"the\";\"doctor\";\"away\")\n",
    "z:(\"Apple\";\"stocks\";\"are\";\"rising\")\n",
    "```"
   ]
  },
  {
   "cell_type": "code",
   "execution_count": null,
   "metadata": {
    "hidden": true,
    "reveal": "0bu7eupe88x"
   },
   "outputs": [],
   "source": [
    "x:(\"An\";\"Apple\";\"a\";\"day\")\n",
    "y:(\"keeps\";\"the\";\"doctor\";\"away\")\n",
    "z:(\"Apple\";\"stocks\";\"are\";\"rising\")\n",
    "\n",
    "\"Apple\" in/: (x;y;z) //using each right"
   ]
  },
  {
   "cell_type": "code",
   "execution_count": 5,
   "metadata": {
    "hidden": true
   },
   "outputs": [
    {
     "name": "stdout",
     "output_type": "stream",
     "text": [
      "in[\"Apple\"]\n"
     ]
    }
   ],
   "source": [
    "// write your code here\n",
    "x:(\"An\";\"Apple\";\"a\";\"day\")\n",
    "y:(\"keeps\";\"the\";\"doctor\";\"away\")\n",
    "z:(\"Apple\";\"stocks\";\"are\";\"rising\")\n",
    "\n",
    "\"Apple\" in /: (x;y;z) //each right, starts from the right"
   ]
  },
  {
   "cell_type": "markdown",
   "metadata": {
    "heading_collapsed": true
   },
   "source": [
    "### Accumulating iterators\n",
    "\n",
    "#### Scan"
   ]
  },
  {
   "cell_type": "markdown",
   "metadata": {
    "hidden": true,
    "reveal": "0imv63l0jz3r",
    "reveal-hidden": true
   },
   "source": [
    "* Create the list (\"ab\";\"abc\";\"abcd\";\"abcde\";\"abcdef\") using scan. "
   ]
  },
  {
   "cell_type": "code",
   "execution_count": null,
   "metadata": {
    "hidden": true,
    "reveal": "0imv63l0jz3r"
   },
   "outputs": [],
   "source": [
    "\"a\",\\\"bcdef\" "
   ]
  },
  {
   "cell_type": "code",
   "execution_count": 22,
   "metadata": {
    "hidden": true
   },
   "outputs": [
    {
     "name": "stdout",
     "output_type": "stream",
     "text": [
      "\"ab\"\n",
      "\"abc\"\n",
      "\"abcd\"\n",
      "\"abcde\"\n",
      "\"abcdef\"\n",
      ",\"a\"\n",
      "\"ab\"\n",
      "\"abc\"\n",
      "\"abcd\"\n",
      "\"abcde\"\n",
      "\"abcdef\"\n",
      "\"abcdefg\"\n",
      "\"abcdefgh\"\n",
      "\"abcdefghi\"\n",
      "\"abcdefghij\"\n",
      "\"abcdefghijk\"\n",
      "\"abcdefghijkl\"\n",
      "\"abcdefghijklm\"\n",
      "\"abcdefghijklmn\"\n",
      "\"abcdefghijklmno\"\n",
      "\"abcdefghijklmnop\"\n",
      "\"abcdefghijklmnopq\"\n",
      "\"abcdefghijklmnopqr\"\n",
      "\"abcdefghijklmnopqrs\"\n",
      "\"abcdefghijklmnopqrst\"\n",
      "\"abcdefghijklmnopqrstu\"\n",
      "\"abcdefghijklmnopqrstuv\"\n",
      "..\n"
     ]
    }
   ],
   "source": [
    "// write your code here \n",
    "show List: {\"\", \\ .Q.a}/[]\n",
    "\"a\",\\\"bcdef\""
   ]
  },
  {
   "cell_type": "markdown",
   "metadata": {
    "hidden": true,
    "reveal": "t69kd4i1ic9",
    "reveal-hidden": false
   },
   "source": [
    "* Use scan to fill any empty items in the list `str:15?(\"\";\"abc\";\"mn\";\"wxyz\")` with the previous non-empty item."
   ]
  },
  {
   "cell_type": "code",
   "execution_count": null,
   "metadata": {
    "hidden": true,
    "reveal": "t69kd4i1ic9"
   },
   "outputs": [],
   "source": [
    "str:15?(\"\";\"abc\";\"mn\";\"wxyz\")\n",
    "f:{$[count y;y;x]}  \n",
    "(f\\)str  \n",
    "\n",
    "{x maxs(til count x)*0<count each x}str  //performs better on longer lists. "
   ]
  },
  {
   "cell_type": "code",
   "execution_count": 25,
   "metadata": {
    "hidden": true
   },
   "outputs": [
    {
     "name": "stdout",
     "output_type": "stream",
     "text": [
      "\"wxyz\"\n",
      "\"wxyz\"\n",
      "\"abc\"\n",
      "\"mn\"\n",
      "\"mn\"\n",
      "\"mn\"\n",
      "\"mn\"\n",
      "\"mn\"\n",
      "\"mn\"\n",
      "\"mn\"\n",
      "\"mn\"\n",
      "\"mn\"\n",
      "\"abc\"\n",
      "\"mn\"\n",
      "\"wxyz\"\n"
     ]
    }
   ],
   "source": [
    "// write your code here\n",
    "str:15?(\"\";\"abc\";\"mn\";\"wxyz\")\n",
    "f:{$[count y;y;x]}  \n",
    "(f\\)str  //not freaking clue what is going on here"
   ]
  },
  {
   "cell_type": "markdown",
   "metadata": {
    "hidden": true,
    "reveal": "hhvvgjddw1h",
    "reveal-hidden": false
   },
   "source": [
    "* Given strings x and y, is x a rotation of the characters in y?\n",
    "\n",
    "Example of code:\n",
    "```\n",
    "f[foobar;barfoo]\n",
    "1b\n",
    "f[\"fboaro\";\"foobar\"]\n",
    "0b\n",
    "f[\"abcde\";\"deabc\"]\n",
    "1b\n",
    "```"
   ]
  },
  {
   "cell_type": "code",
   "execution_count": null,
   "metadata": {
    "hidden": true,
    "reveal": "hhvvgjddw1h"
   },
   "outputs": [],
   "source": [
    "{x in (1 rotate)scan y}"
   ]
  },
  {
   "cell_type": "code",
   "execution_count": 27,
   "metadata": {
    "hidden": true
   },
   "outputs": [
    {
     "name": "stdout",
     "output_type": "stream",
     "text": [
      "{x in (1 rotate)scan y}\n"
     ]
    }
   ],
   "source": [
    "// write your code here\n",
    "\n",
    "{x in (1 rotate)scan y} //no clue what is going on"
   ]
  },
  {
   "cell_type": "markdown",
   "metadata": {
    "hidden": true
   },
   "source": [
    "#### Over"
   ]
  },
  {
   "cell_type": "markdown",
   "metadata": {
    "hidden": true,
    "reveal": "c56bm01hn3",
    "reveal-hidden": true
   },
   "source": [
    "* Find the total product of the list 2 4 8 16 32 64"
   ]
  },
  {
   "cell_type": "code",
   "execution_count": null,
   "metadata": {
    "hidden": true,
    "reveal": "c56bm01hn3"
   },
   "outputs": [],
   "source": [
    "(*/)2 4 8 16 32 642) "
   ]
  },
  {
   "cell_type": "code",
   "execution_count": 28,
   "metadata": {
    "hidden": true
   },
   "outputs": [
    {
     "name": "stdout",
     "output_type": "stream",
     "text": [
      "2097152\n"
     ]
    }
   ],
   "source": [
    "// write your code here \n",
    "(*/)2 4 8 16 32 64"
   ]
  },
  {
   "cell_type": "markdown",
   "metadata": {
    "hidden": true
   },
   "source": [
    "* Write your own version of the following native q functions in the space provide below:\n",
    "\n",
    "    max -->  myMax\n",
    "    \n",
    "    min -->  myMin \n",
    "    \n",
    "Obviously you cannot use the underlying q function in your implementation i.e. myMax cannot use `max` (but it can use `|`) nor can you use the underlying k implementation that supports the native function."
   ]
  },
  {
   "cell_type": "markdown",
   "metadata": {
    "hidden": true,
    "reveal": "90rg73w1eeg",
    "reveal-hidden": true
   },
   "source": [
    "**myMax**"
   ]
  },
  {
   "cell_type": "code",
   "execution_count": null,
   "metadata": {
    "hidden": true,
    "reveal": "90rg73w1eeg"
   },
   "outputs": [],
   "source": [
    "myMax:|/"
   ]
  },
  {
   "cell_type": "code",
   "execution_count": 29,
   "metadata": {
    "hidden": true
   },
   "outputs": [
    {
     "name": "stdout",
     "output_type": "stream",
     "text": [
      "64\n",
      "64\n"
     ]
    }
   ],
   "source": [
    "// write your code here\n",
    "myMax:{(|/) x}\n",
    "myMax[2 4 8 16 32 64]\n",
    "max 2 4 8 16 32 64"
   ]
  },
  {
   "cell_type": "markdown",
   "metadata": {
    "hidden": true,
    "reveal": "0k9atrcjpjp",
    "reveal-hidden": true
   },
   "source": [
    "**myMin**"
   ]
  },
  {
   "cell_type": "code",
   "execution_count": null,
   "metadata": {
    "hidden": true,
    "reveal": "0k9atrcjpjp"
   },
   "outputs": [],
   "source": [
    "myMin:&/"
   ]
  },
  {
   "cell_type": "code",
   "execution_count": 30,
   "metadata": {
    "hidden": true
   },
   "outputs": [
    {
     "name": "stdout",
     "output_type": "stream",
     "text": [
      "2\n",
      "2\n"
     ]
    }
   ],
   "source": [
    "// write your code here\n",
    "myMin:{(&/)x}\n",
    "myMin[2 4 8 16 32 64]\n",
    "min 2 4 8 16 32 64"
   ]
  },
  {
   "cell_type": "markdown",
   "metadata": {
    "reveal": "2lrcpvwyczp",
    "reveal-hidden": false
   },
   "source": [
    "### Overloaded iterators\n",
    "\n",
    "* Create a function `discount` that discounts it's input by a provided rate of `1.2`. Use iterators to start with an initial value of `100` and discount `5` times."
   ]
  },
  {
   "cell_type": "code",
   "execution_count": 34,
   "metadata": {
    "reveal": "2lrcpvwyczp"
   },
   "outputs": [
    {
     "name": "stdout",
     "output_type": "stream",
     "text": [
      "100 98.8 97.6144 96.44303 95.28571 94.14228\n",
      "94.14228\n"
     ]
    }
   ],
   "source": [
    "discount:{x*1-0.01*1.2}\n",
    "(discount\\)[5;100f]\n",
    "(discount/)[5;100f]"
   ]
  },
  {
   "cell_type": "code",
   "execution_count": 35,
   "metadata": {},
   "outputs": [
    {
     "name": "stdout",
     "output_type": "stream",
     "text": [
      "100\n",
      "98.8\n",
      "97.6144\n",
      "96.44303\n",
      "95.28571\n",
      "94.14228\n"
     ]
    }
   ],
   "source": [
    "// write your code here \n",
    "{x*1-0.01*1.2}\\[5;100]"
   ]
  },
  {
   "cell_type": "markdown",
   "metadata": {
    "reveal": "viu57suxsm",
    "reveal-hidden": false
   },
   "source": [
    "* Using our `discount` function, find out how many times we need to discount to drop below a value of `80`?"
   ]
  },
  {
   "cell_type": "code",
   "execution_count": 42,
   "metadata": {
    "reveal": "viu57suxsm"
   },
   "outputs": [
    {
     "name": "stdout",
     "output_type": "stream",
     "text": [
      "20\n"
     ]
    }
   ],
   "source": [
    "count (discount\\)[{x>80};100f]"
   ]
  },
  {
   "cell_type": "code",
   "execution_count": 41,
   "metadata": {},
   "outputs": [
    {
     "name": "stdout",
     "output_type": "stream",
     "text": [
      "20\n"
     ]
    }
   ],
   "source": [
    "// write your code here \n",
    "count z:{x*1-0.01*1.2}\\[{x>=80};100]"
   ]
  },
  {
   "cell_type": "markdown",
   "metadata": {
    "reveal": "da6jb1dfr0u",
    "reveal-hidden": true
   },
   "source": [
    "* Using the Fibonacci sequence that we have seen in the notebook, modify the function to only compute the sequence up until 21 "
   ]
  },
  {
   "cell_type": "code",
   "execution_count": null,
   "metadata": {
    "reveal": "da6jb1dfr0u"
   },
   "outputs": [],
   "source": [
    "{x,sum -2#x}/[{21>last x};0 1]"
   ]
  },
  {
   "cell_type": "code",
   "execution_count": 48,
   "metadata": {},
   "outputs": [
    {
     "name": "stdout",
     "output_type": "stream",
     "text": [
      "0 1 1 2 3 5 8 13 21\n"
     ]
    }
   ],
   "source": [
    "// write your code here \n",
    "fib:{x,sum -2#x}\n",
    "(fib/)[{last x<21};0 1]"
   ]
  },
  {
   "cell_type": "markdown",
   "metadata": {},
   "source": [
    "## Extra Practice \n",
    "\n",
    "For some extra practice why not attempt to edit the Fibonacci Sequence and Pascal's Triangle functions further by adding conditions for when you want the iterations to terminate.  "
   ]
  },
  {
   "cell_type": "code",
   "execution_count": null,
   "metadata": {},
   "outputs": [],
   "source": [
    "* Change the Pascal's Triangle solution to terminate when a value of greater than 100 is reached in the triangle:"
   ]
  },
  {
   "cell_type": "code",
   "execution_count": null,
   "metadata": {
    "reveal": "dzuf22wahv",
    "reveal-hidden": true
   },
   "outputs": [],
   "source": [
    "{10 > count x}{(+)prior x,0}\\ 1 //pascals triangle until there are 10 elements on the list"
   ]
  },
  {
   "cell_type": "markdown",
   "metadata": {
    "reveal": "ynvbltjrfb",
    "reveal-hidden": false
   },
   "source": [
    "* Change the Pascal's Triangle solution to terminate when a value of greater than 100 is reached in the triangle:"
   ]
  },
  {
   "cell_type": "code",
   "execution_count": null,
   "metadata": {},
   "outputs": [],
   "source": [
    "// write your code here \n",
    "pascals:{(+) prior x,0}\n",
    "pascals\\[{x<100};1]"
   ]
  },
  {
   "cell_type": "code",
   "execution_count": null,
   "metadata": {
    "reveal": "ynvbltjrfb"
   },
   "outputs": [],
   "source": [
    "{x,sum -2#x}\\[{100>max x};0 1] //fibonnaci until the number reached is greater than 100"
   ]
  },
  {
   "cell_type": "code",
   "execution_count": null,
   "metadata": {},
   "outputs": [],
   "source": []
  },
  {
   "cell_type": "markdown",
   "metadata": {
    "reveal": "6drk761cv8h",
    "reveal-hidden": false
   },
   "source": [
    "* Find the first number which can be divided evenly by every number up to 10:"
   ]
  },
  {
   "cell_type": "code",
   "execution_count": null,
   "metadata": {
    "reveal": "6drk761cv8h"
   },
   "outputs": [],
   "source": [
    "{x+1}/[{not all 0=(x%1+til 10)mod 1};1]"
   ]
  },
  {
   "cell_type": "code",
   "execution_count": null,
   "metadata": {},
   "outputs": [],
   "source": [
    "{x+1}/[{not all 0=(x%1+til 10)mod 1};1]"
   ]
  },
  {
   "cell_type": "markdown",
   "metadata": {
    "reveal": "8v9muziiqqn",
    "reveal-hidden": false
   },
   "source": [
    "* Find the all factors of 625:"
   ]
  },
  {
   "cell_type": "code",
   "execution_count": null,
   "metadata": {
    "reveal": "8v9muziiqqn"
   },
   "outputs": [],
   "source": [
    "raze x1 where each 625=x1*/:x1:1+ til 625"
   ]
  },
  {
   "cell_type": "code",
   "execution_count": null,
   "metadata": {},
   "outputs": [],
   "source": [
    "raze x1 where each 625=x1*/:x1:1+ til 625"
   ]
  },
  {
   "cell_type": "code",
   "execution_count": null,
   "metadata": {},
   "outputs": [],
   "source": []
  }
 ],
 "metadata": {
  "kernelspec": {
   "display_name": "Python 3 (ipykernel)",
   "language": "python",
   "name": "python3"
  },
  "language_info": {
   "codemirror_mode": {
    "name": "ipython",
    "version": 3
   },
   "file_extension": ".py",
   "mimetype": "text/x-python",
   "name": "python",
   "nbconvert_exporter": "python",
   "pygments_lexer": "ipython3",
   "version": "3.11.10"
  },
  "toc": {
   "base_numbering": 1,
   "nav_menu": {},
   "number_sections": true,
   "sideBar": true,
   "skip_h1_title": false,
   "title_cell": "Table of Contents",
   "title_sidebar": "Contents",
   "toc_cell": false,
   "toc_position": {},
   "toc_section_display": true,
   "toc_window_display": false
  }
 },
 "nbformat": 4,
 "nbformat_minor": 4
}
