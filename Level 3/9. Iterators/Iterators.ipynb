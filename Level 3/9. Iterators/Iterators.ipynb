{
 "cells": [
  {
   "cell_type": "code",
   "execution_count": 1,
   "metadata": {
    "autorun": true,
    "editable": false,
    "jupyter": {
     "source_hidden": true
    },
    "tags": [
     "remove-cell"
    ]
   },
   "outputs": [],
   "source": [
    "#;.pykx.disableJupyter()"
   ]
  },
  {
   "cell_type": "code",
   "execution_count": 2,
   "metadata": {
    "autorun": true,
    "editable": false,
    "jupyter": {
     "source_hidden": true
    },
    "tags": [
     "remove-cell"
    ]
   },
   "outputs": [
    {
     "name": "stdout",
     "output_type": "stream",
     "text": [
      "PyKX now running in 'jupyter_qfirst' mode. All cells by default will be run as q code. \n",
      "Include '%%py' at the beginning of each cell to run as python code. \n"
     ]
    }
   ],
   "source": [
    "# https://code.kx.com/pykx/3.0/examples/jupyter-integration.html#q-first-mode\n",
    "import pykx as kx\n",
    "kx.util.jupyter_qfirst_enable()"
   ]
  },
  {
   "cell_type": "markdown",
   "metadata": {},
   "source": [
    "**Learning outcomes**\n",
    "\n",
    "To understand:\n",
    "* Mapping iterators (recap)\n",
    "* Accumulating iterators\n",
    "* Iterators versus loops (do and while)\n",
    "* Combining Iterators"
   ]
  },
  {
   "cell_type": "markdown",
   "metadata": {
    "heading_collapsed": true,
    "jp-MarkdownHeadingCollapsed": true
   },
   "source": [
    "# Introduction\n",
    "An iterator (previously known as adverbs) modifies a function's behaviour - specifically it changes the function's application so that it is applied **iteratively**. There are very few explicit loops in kdb+/q (you may have noticed theres no such thing as a \"for\" loop!) and this is because we use iterators instead! \n",
    "\n",
    "The primary methods of Iteration in q:\n",
    "1. [Atomic](https://code.kx.com/q/basics/atomic/) Functions\n",
    "2. [Mapping](https://code.kx.com/q/basics/iteration/#maps) iterators - each and its variants\n",
    "3. [Accumulating](https://code.kx.com/q/basics/iteration/#accumulators) iterators - scan / over\n",
    "\n",
    "1 and 2 have been covered in our KX Fundamentals course but we will do a quick recap before diving into Accumulators."
   ]
  },
  {
   "cell_type": "markdown",
   "metadata": {
    "heading_collapsed": true,
    "jp-MarkdownHeadingCollapsed": true
   },
   "source": [
    "# Atomic Functions\n",
    "Many q functions natively iterate recursively through list or dictionary arguments down to items of some depth. \n",
    "\n",
    "These atomic functions **do not** require iterators, applying them is redundant."
   ]
  },
  {
   "cell_type": "code",
   "execution_count": 3,
   "metadata": {
    "hidden": true
   },
   "outputs": [
    {
     "name": "stdout",
     "output_type": "stream",
     "text": [
      "-1 -2 -3\n"
     ]
    }
   ],
   "source": [
    "neg 1 2 3 // neg natively performs iteration over a list"
   ]
  },
  {
   "cell_type": "code",
   "execution_count": 4,
   "metadata": {
    "hidden": true
   },
   "outputs": [
    {
     "name": "stdout",
     "output_type": "stream",
     "text": [
      "-1 -2 -3\n"
     ]
    }
   ],
   "source": [
    "neg each 1 2 3 // each is redundent here"
   ]
  },
  {
   "cell_type": "markdown",
   "metadata": {
    "hidden": true
   },
   "source": [
    "Note for this to work the arguments of an atomic function must be conformable i.e. of same length."
   ]
  },
  {
   "cell_type": "code",
   "execution_count": null,
   "metadata": {
    "hidden": true
   },
   "outputs": [],
   "source": [
    "1 2 3 + 100 1000  // get a 'length error"
   ]
  },
  {
   "cell_type": "code",
   "execution_count": 5,
   "metadata": {
    "hidden": true
   },
   "outputs": [
    {
     "name": "stdout",
     "output_type": "stream",
     "text": [
      "101 1002 10003\n"
     ]
    }
   ],
   "source": [
    "1 2 3 + 100 1000 10000 // this works as lists of same length"
   ]
  },
  {
   "cell_type": "markdown",
   "metadata": {
    "hidden": true
   },
   "source": [
    "A useful way to know if you require an iterator or not is to ask yourself is my input shape the same as my output shape?"
   ]
  },
  {
   "cell_type": "code",
   "execution_count": 6,
   "metadata": {
    "hidden": true
   },
   "outputs": [
    {
     "name": "stdout",
     "output_type": "stream",
     "text": [
      "-1 -2\n",
      "-77 -88 -99\n"
     ]
    }
   ],
   "source": [
    "neg(1 2;77 88 99) // input shape = output shape"
   ]
  },
  {
   "cell_type": "markdown",
   "metadata": {
    "hidden": true
   },
   "source": [
    "For functions that do an aggregation (list into an atom) we know this can not be atomic as the input shape is different to output shape."
   ]
  },
  {
   "cell_type": "code",
   "execution_count": 10,
   "metadata": {
    "hidden": true
   },
   "outputs": [
    {
     "name": "stdout",
     "output_type": "stream",
     "text": [
      "2\n"
     ]
    }
   ],
   "source": [
    "count (1 2; 10 100 1000) // count operates at top level - input shape = list and output shape = atom"
   ]
  },
  {
   "cell_type": "code",
   "execution_count": 12,
   "metadata": {
    "hidden": true
   },
   "outputs": [
    {
     "name": "stdout",
     "output_type": "stream",
     "text": [
      "2 3\n"
     ]
    }
   ],
   "source": [
    "count each (1 2; 10 100 1000) // to count at the nested level we will use the map iterator each"
   ]
  },
  {
   "cell_type": "markdown",
   "metadata": {
    "hidden": true,
    "reveal": "ko7q6gma0w9",
    "reveal-hidden": true
   },
   "source": [
    "##### Exercise \n",
    "\n",
    "Calculate the total price of sym using ```dict:`aapl`msft`kx!(10.5 12.4 13.0 15.1;9.3 10.2 14.5 15.6;3.2 4.6 6.1 8.6)```"
   ]
  },
  {
   "cell_type": "code",
   "execution_count": null,
   "metadata": {
    "hidden": true,
    "reveal": "ko7q6gma0w9"
   },
   "outputs": [],
   "source": [
    "dict:`aapl`msft`kx!(10.5 12.4 13.0 15.1;9.3 10.2 14.5 15.6;3.2 4.6 6.1 8.6)\n",
    "sum each dict"
   ]
  },
  {
   "cell_type": "markdown",
   "metadata": {
    "hidden": true
   },
   "source": [
    "//write your code here\n",
    "dict:`aapl`msft`kx!(10.5 12.4 13.0 15.1;9.3 10.2 14.5 15.6;3.2 4.6 6.1 8.6)\n",
    "sum each dict"
   ]
  },
  {
   "cell_type": "markdown",
   "metadata": {
    "heading_collapsed": true,
    "jp-MarkdownHeadingCollapsed": true
   },
   "source": [
    "# Mapping iterators\n",
    "These are the most straight forward iterators in kdb+/q - mapping iterators modify a functions application to iterate across every item in a list and are potentially the closest we come in kdb+ to \"for\" loops. \n",
    "\n",
    "| Maps      |  |\n",
    "|:----------- | :----------- |\n",
    "| Each | each       |\n",
    "| Each - Both | ' |\n",
    "| Each - Left   | \\:        |\n",
    "| Each - Right   | /:        |\n",
    "| Each - Prior   | ':        |"
   ]
  },
  {
   "cell_type": "markdown",
   "metadata": {
    "hidden": true
   },
   "source": [
    "This iteration is explicit in our naming of these operators, all of which are known as some variant of \"each\": \n",
    "\n",
    "* each - (`each`) - used to apply a function to each item in a list - similar to \"for x in list; do function(x)\" in other languages "
   ]
  },
  {
   "cell_type": "code",
   "execution_count": 3,
   "metadata": {
    "hidden": true
   },
   "outputs": [
    {
     "name": "stdout",
     "output_type": "stream",
     "text": [
      "4\n",
      "3 2 3 1\n",
      "1 2 3\n",
      "10 20\n",
      "30 40 50\n",
      "60\n"
     ]
    }
   ],
   "source": [
    "show L:(1 2 3;10 20;30 40 50;60)\n",
    "count L\n",
    "count each L //count is a function that only takes one argument"
   ]
  },
  {
   "cell_type": "markdown",
   "metadata": {
    "hidden": true
   },
   "source": [
    "What happens if we apply ```each``` to a function with more that one argument?"
   ]
  },
  {
   "cell_type": "code",
   "execution_count": null,
   "metadata": {
    "hidden": true
   },
   "outputs": [],
   "source": [
    "3 in each L  //returns error as each only works on monadic functions"
   ]
  },
  {
   "cell_type": "markdown",
   "metadata": {
    "hidden": true
   },
   "source": [
    "* each-both - (`'`) - the dyadic iterator modifies a functions operation to use the items from two lists of the same length in a pairwise fashion (or using a list and an atom)."
   ]
  },
  {
   "cell_type": "code",
   "execution_count": 28,
   "metadata": {
    "hidden": true
   },
   "outputs": [
    {
     "name": "stdout",
     "output_type": "stream",
     "text": [
      "1 2 3\n"
     ]
    }
   ],
   "source": [
    "L where 3 in'(1 2 3;10 20;30 40 50;60) //This dyadic iterator can be applied to a dyadic function."
   ]
  },
  {
   "cell_type": "code",
   "execution_count": 11,
   "metadata": {},
   "outputs": [
    {
     "name": "stdout",
     "output_type": "stream",
     "text": [
      "00010b\n"
     ]
    }
   ],
   "source": [
    "1 2 3 4 5 in '(3 4 6 4 9)"
   ]
  },
  {
   "cell_type": "markdown",
   "metadata": {
    "hidden": true
   },
   "source": [
    "* each left - (`\\:` note leaning left at top) - apply the provided function to each item in the left-hand-side list\n",
    "* each right - (`/:` note leaning right at top) - apply the provided function to each item in the right-hand-side list"
   ]
  },
  {
   "cell_type": "code",
   "execution_count": 27,
   "metadata": {
    "hidden": true
   },
   "outputs": [
    {
     "name": "stdout",
     "output_type": "stream",
     "text": [
      "10b\n",
      "00b\n",
      "01b\n",
      "00b\n"
     ]
    }
   ],
   "source": [
    "3 4 in/: (3;10 20;30 4 50;60) //checking for both 3 and 4 in L\n",
    "//3 4 ,\\: L  "
   ]
  },
  {
   "cell_type": "markdown",
   "metadata": {
    "hidden": true
   },
   "source": [
    "* each prior - (`':` or `prior`) - apply a function using subsequent pairs within a list"
   ]
  },
  {
   "cell_type": "code",
   "execution_count": 30,
   "metadata": {
    "hidden": true
   },
   "outputs": [
    {
     "name": "stdout",
     "output_type": "stream",
     "text": [
      "200 100 -200 400 -100 -200 -100 -300 600 -500\n",
      "200 100 -200 400 -100 -200 -100 -300 600 -500\n",
      "200 100 -200 400 -100 -200 -100 -300 600 -500\n"
     ]
    }
   ],
   "source": [
    "-':[200 300 100 500 400 200 100 -200 400 -100]\n",
    "prior[-;200 300 100 500 400 200 100 -200 400 -100]\n",
    "deltas 200 300 100 500 400 200 100 -200 400 -100"
   ]
  },
  {
   "cell_type": "markdown",
   "metadata": {
    "hidden": true,
    "reveal": "8n6mu5k3uki",
    "reveal-hidden": false
   },
   "source": [
    "##### Exercise \n",
    "\n",
    "Using mapping iterators,  create a file path for each of the files contained in the ipynb_checkpoints folder. \n",
    "\n",
    "The file path should look like: \n",
    "````:.ipynb_checkpoints/Iterators exercises.ipynb. ``` "
   ]
  },
  {
   "cell_type": "code",
   "execution_count": null,
   "metadata": {
    "hidden": true,
    "reveal": "8n6mu5k3uki"
   },
   "outputs": [],
   "source": [
    "cp:hsym[first key `:.] //checkpoint directory\n",
    "cp,/: key cp           //joining directory with each file\n",
    "` sv'cp,/: key cp      //making our full file paths for each file within that directory "
   ]
  },
  {
   "cell_type": "code",
   "execution_count": 35,
   "metadata": {
    "hidden": true
   },
   "outputs": [
    {
     "name": "stdout",
     "output_type": "stream",
     "text": [
      ".ipynb_checkpoints\n",
      "`s#,`Iterators-checkpoint.ipynb\n",
      ":.ipynb_checkpoints Iterators-checkpoint.ipynb\n",
      ",`:.ipynb_checkpoints/Iterators-checkpoint.ipynb\n",
      "`:.ipynb_checkpoints\n"
     ]
    }
   ],
   "source": [
    "//write your code here\n",
    "first key `:.\n",
    "show cp:hsym[first key `:.] //checkpoint directory\n",
    "key cp\n",
    "cp,/: key cp           //joining directory with each file\n",
    "` sv'cp,/: key cp      //making our full file paths for each file within that directory "
   ]
  },
  {
   "cell_type": "markdown",
   "metadata": {
    "heading_collapsed": true
   },
   "source": [
    "# Accumulating iterators\n",
    "\n",
    "[Accumulation](https://code.kx.com/q/ref/accumulators/) iterators execute repeatedly over the values returned from calling the modified function. The function is first applied to the entire(first) argument of the derived function next to the result of the evaluation then to **that** result and so on.\n"
   ]
  },
  {
   "cell_type": "markdown",
   "metadata": {
    "hidden": true
   },
   "source": [
    "There are two accumulator iterations in kdb+/q, both of which operate in the exact same fashion, excepting their return value. These functions are: \n",
    "\n",
    "| Accumulators      |  |\n",
    "|:----------- | :----------- |\n",
    "| [scan](https://code.kx.com/q/ref/accumulators/#unary-application) | /       |\n",
    "| [over](https://code.kx.com/q/ref/accumulators/#binary-application) | \\ | "
   ]
  },
  {
   "cell_type": "markdown",
   "metadata": {
    "hidden": true
   },
   "source": [
    "Using the image below let's look at how scan works:"
   ]
  },
  {
   "cell_type": "markdown",
   "metadata": {
    "hidden": true
   },
   "source": [
    " <img src=\"../images/scanIteration.png\" width=\"500\" height=\"500\">"
   ]
  },
  {
   "cell_type": "markdown",
   "metadata": {
    "heading_collapsed": true,
    "hidden": true
   },
   "source": [
    "## Scan\n",
    "\n",
    "The iterator [scan](https://code.kx.com/q/ref/accumulators/#unary-application), denoted by `\\` (backslash) or the reserved word `scan`, has many behaviours, one of which is to  modify a dyadic or monadic function.\n",
    "\n",
    "In mathematical notation, the output of a scan function is as follows:\n",
    "\\begin{align}\n",
    "y_0=x_0 \n",
    ",y_n=f(y_{n-1};x_n)\n",
    "\\end{align}\n",
    "\n",
    "Where $x_n$ is the $n^{th}$ element of the input list, $y_n$ is the $n^{th}$ element of the returned output list, and $f$ is our function. "
   ]
  },
  {
   "cell_type": "markdown",
   "metadata": {
    "hidden": true
   },
   "source": [
    "Examples are perhaps the most illustrative:"
   ]
  },
  {
   "cell_type": "code",
   "execution_count": 38,
   "metadata": {
    "hidden": true
   },
   "outputs": [
    {
     "name": "stdout",
     "output_type": "stream",
     "text": [
      "22\n"
     ]
    }
   ],
   "source": [
    "(+/)1 4 7 10                       //solution is (1) (1)+4 (1+4)+7 (1+4+7)+10 "
   ]
  },
  {
   "cell_type": "markdown",
   "metadata": {
    "hidden": true
   },
   "source": [
    "If we wanted to use the keyword `scan` instead we use the below syntax."
   ]
  },
  {
   "cell_type": "code",
   "execution_count": 37,
   "metadata": {
    "hidden": true
   },
   "outputs": [
    {
     "name": "stdout",
     "output_type": "stream",
     "text": [
      "1 3 6 10 15\n"
     ]
    }
   ],
   "source": [
    "(+) scan 1 2 3 4 5                  //note that this is the same as sums"
   ]
  },
  {
   "cell_type": "markdown",
   "metadata": {
    "hidden": true
   },
   "source": [
    "Again, this consecutive summing is such a popular operation that there is a keyword dedicated to it - [`sums`](https://code.kx.com/q/ref/sum/). "
   ]
  },
  {
   "cell_type": "code",
   "execution_count": 39,
   "metadata": {
    "hidden": true
   },
   "outputs": [
    {
     "name": "stdout",
     "output_type": "stream",
     "text": [
      "1 3 6 10 15\n",
      "+\\\n"
     ]
    }
   ],
   "source": [
    "sums 1 2 3 4 5 \n",
    "sums                                //we can see the definition of sums"
   ]
  },
  {
   "cell_type": "markdown",
   "metadata": {
    "hidden": true
   },
   "source": [
    "If we wanted to append one element of a list to the next to a list in each iteration, we can do so using scan: "
   ]
  },
  {
   "cell_type": "code",
   "execution_count": 40,
   "metadata": {
    "hidden": true
   },
   "outputs": [
    {
     "name": "stdout",
     "output_type": "stream",
     "text": [
      ",1\n",
      "1 2\n",
      "1 2 3\n",
      "1 2 3 4\n",
      "1 2 3 4 5\n"
     ]
    }
   ],
   "source": [
    "(,\\)(1 +til 5)"
   ]
  },
  {
   "cell_type": "markdown",
   "metadata": {
    "hidden": true
   },
   "source": [
    "Does scan work for all data types? Let's look at we can manipulate strings with scan: "
   ]
  },
  {
   "cell_type": "code",
   "execution_count": 41,
   "metadata": {
    "hidden": true
   },
   "outputs": [
    {
     "name": "stdout",
     "output_type": "stream",
     "text": [
      "\"Hello word.\"\n",
      "\"Hello word!\"\n",
      "\"Hello world!\"\n"
     ]
    }
   ],
   "source": [
    "ssr\\[\"hello word.\"; (\"h\";\".\";\"rd\"); (\"H\";\"!\";\"rld\")]"
   ]
  },
  {
   "cell_type": "markdown",
   "metadata": {
    "hidden": true
   },
   "source": [
    "##### Worked Example \n",
    "\n",
    "This iterator isn't solely reserved for use with inbuilt function, it can also be applied to our functions. \n",
    "\n",
    "Lets work through an example of compounding interest on money in a savings account:\n",
    "\n",
    "**Given**: savings account balance, interest rate\n",
    "\n",
    "**Find**: a function that will tell us our yearly return "
   ]
  },
  {
   "cell_type": "code",
   "execution_count": 42,
   "metadata": {
    "hidden": true
   },
   "outputs": [
    {
     "name": "stdout",
     "output_type": "stream",
     "text": [
      "10120f\n"
     ]
    }
   ],
   "source": [
    "yearlyReturn:{[savingsBalance;interest] rate: 1+0.01*interest;  //multiplying is a \"cheaper\" operation than division\n",
    "                        savingsBalance*rate}  \n",
    "yearlyReturn[10000;1.2]   //account balance at the end of one year with the at 1.2% savings interest rate "
   ]
  },
  {
   "cell_type": "markdown",
   "metadata": {
    "hidden": true
   },
   "source": [
    "Let's start with an estimation of the next few years interest rates, and for comparison purposes lets have a look at the S&P annual change over the last five years: "
   ]
  },
  {
   "cell_type": "code",
   "execution_count": 43,
   "metadata": {
    "hidden": true
   },
   "outputs": [],
   "source": [
    "interestRates: 1 1 1.25 2 1.6 1.5            //2016, 2017, 2018, 2019, 2020 YTD per Ally bank - https://www.consumerismcommentary.com/rates/\n",
    "last5yearsSnP: 9.54 19.42 -6.24 28.88 -5.77  //2016, 2017, 2018, 2019, 2020 YTD - https://www.macrotrends.net/2526/sp-500-historical-annual-returns"
   ]
  },
  {
   "cell_type": "markdown",
   "metadata": {
    "hidden": true
   },
   "source": [
    "We can calculate the compounding interest on this by providing a starting account balance and then supplying the subsequent rates:"
   ]
  },
  {
   "cell_type": "code",
   "execution_count": 44,
   "metadata": {
    "hidden": true
   },
   "outputs": [
    {
     "name": "stdout",
     "output_type": "stream",
     "text": [
      "10000 10100 10201 10328.51 10535.08 10703.64 10864.2\n",
      "10000 10954 13081.27 12265 15807.13 14895.06\n"
     ]
    }
   ],
   "source": [
    "(yearlyReturn\\) 10000f,interestRates   //compounding at saving rate over last 5 years\n",
    "(yearlyReturn\\) 10000f,last5yearsSnP   //compounding at S&P return over last 5 years"
   ]
  },
  {
   "cell_type": "code",
   "execution_count": 45,
   "metadata": {
    "hidden": true
   },
   "outputs": [
    {
     "name": "stdout",
     "output_type": "stream",
     "text": [
      "10954 13081.27 12265 15807.13 14895.06\n"
     ]
    }
   ],
   "source": [
    "//providing a \"seed\" or \"initial\" value is common and can be done using the below syntax either: \n",
    "(yearlyReturn\\)[10000f;last5yearsSnP]"
   ]
  },
  {
   "cell_type": "markdown",
   "metadata": {
    "hidden": true
   },
   "source": [
    "Compounding is important because we see at the end we have quite a big difference!"
   ]
  },
  {
   "cell_type": "markdown",
   "metadata": {
    "hidden": true,
    "reveal": "7za01fr5ihr",
    "reveal-hidden": false
   },
   "source": [
    "##### Exercise \n",
    "\n",
    "Using the table below for a US tour, find the route in where you start in New York and finish in Austin."
   ]
  },
  {
   "cell_type": "code",
   "execution_count": 47,
   "metadata": {
    "hidden": true,
    "reveal": "7za01fr5ihr"
   },
   "outputs": [
    {
     "name": "stdout",
     "output_type": "stream",
     "text": [
      "`NewYork`Washington`Miami`Austin\n"
     ]
    }
   ],
   "source": [
    "(`Austin<>)route\\`NewYork  //New York to Austin"
   ]
  },
  {
   "cell_type": "code",
   "execution_count": 46,
   "metadata": {
    "hidden": true
   },
   "outputs": [
    {
     "name": "stdout",
     "output_type": "stream",
     "text": [
      "StartCity  EndCity    wp\n",
      "------------------------\n",
      "Boston     NewYork    0 \n",
      "NewYork    Washington 1 \n",
      "Washington Miami      1 \n",
      "Miami      Austin     1 \n",
      "Austin     Chicago    1 \n",
      "Chicago    Boston     0 \n",
      "Boston    | NewYork\n",
      "NewYork   | Washington\n",
      "Washington| Miami\n",
      "Miami     | Austin\n",
      "Austin    | Chicago\n",
      "Chicago   | Boston\n"
     ]
    }
   ],
   "source": [
    "show USTour:([]StartCity:`Boston`NewYork`Washington`Miami`Austin`Chicago;EndCity:`NewYork`Washington`Miami`Austin`Chicago`Boston;wp:0 1 1 1 1 0)\n",
    "show route:USTour[`StartCity]!USTour[`EndCity]"
   ]
  },
  {
   "cell_type": "code",
   "execution_count": 48,
   "metadata": {
    "hidden": true
   },
   "outputs": [
    {
     "name": "stdout",
     "output_type": "stream",
     "text": [
      "`NewYork`Washington`Miami`Austin\n"
     ]
    }
   ],
   "source": [
    "//write your code here\n",
    "\n",
    "(`Austin<>)route\\`NewYork"
   ]
  },
  {
   "cell_type": "markdown",
   "metadata": {
    "heading_collapsed": true,
    "hidden": true
   },
   "source": [
    "## Over\n",
    "\n",
    "The adverb [`over`](https://code.kx.com/q/ref/accumulators/#binary-application), denoted by `/` (forward slash) or the reserved word `over`, can also be used to modify a dyadic or monadic function. It operates in the same way as scan, but `over` only returns the **last item** that `scan` produces. "
   ]
  },
  {
   "cell_type": "code",
   "execution_count": 49,
   "metadata": {
    "hidden": true
   },
   "outputs": [
    {
     "name": "stdout",
     "output_type": "stream",
     "text": [
      "15\n",
      "15\n"
     ]
    }
   ],
   "source": [
    "(+/)1 2 3 4 5\n",
    "(+) over 1 2 3 4 5"
   ]
  },
  {
   "cell_type": "code",
   "execution_count": 53,
   "metadata": {},
   "outputs": [
    {
     "name": "stdout",
     "output_type": "stream",
     "text": [
      "0 1 2 3 4\n"
     ]
    }
   ],
   "source": [
    "til 5"
   ]
  },
  {
   "cell_type": "code",
   "execution_count": 56,
   "metadata": {
    "hidden": true
   },
   "outputs": [
    {
     "name": "stdout",
     "output_type": "stream",
     "text": [
      "15\n",
      ",1\n",
      "1 2\n",
      "1 2 3\n",
      "1 2 3 4\n",
      "1 2 3 4 5\n"
     ]
    }
   ],
   "source": [
    "sum 1 2 3 4 5\n",
    "(,) scan (1 +til 5)"
   ]
  },
  {
   "cell_type": "code",
   "execution_count": 55,
   "metadata": {
    "hidden": true
   },
   "outputs": [
    {
     "name": "stdout",
     "output_type": "stream",
     "text": [
      "10864.2\n",
      "14895.06\n"
     ]
    }
   ],
   "source": [
    "(yearlyReturn/)[10000f;interestRates]\n",
    "(yearlyReturn/)[10000f;last5yearsSnP]"
   ]
  },
  {
   "cell_type": "markdown",
   "metadata": {
    "hidden": true
   },
   "source": [
    "<img src=\"../images/qbies.png\" style=\"width: 50px;padding-right:5px;padding-top:5px;padding-left:5px;\" align=\"left\"/>\n",
    "\n",
    "<p style='color:#273a6e'><i> If puzzled by the result of using <code>over</code>, try replacing it with <code>scan</code> and examining the intermediate results - they are usually illuminating!</i></p>"
   ]
  },
  {
   "cell_type": "markdown",
   "metadata": {
    "hidden": true,
    "reveal": "38wwwtgxq1e",
    "reveal-hidden": false
   },
   "source": [
    "##### Exercise\n",
    "\n",
    "Using over, create a dyadic function that will take ``1 2 3 4 5 6 7 8 9`` as an input and will return `45`. The function should print out the following values after each iteration.  \n",
    "\n",
    "```\n",
    "    0 1\n",
    "    1 2\n",
    "    3 3\n",
    "    6 4\n",
    "    10 5\n",
    "    15 6\n",
    "    21 7\n",
    "    28 8\n",
    "    36 9\n",
    "```"
   ]
  },
  {
   "cell_type": "code",
   "execution_count": null,
   "metadata": {
    "hidden": true,
    "reveal": "38wwwtgxq1e"
   },
   "outputs": [],
   "source": [
    "//write your code here\n",
    "addList:{[x;y]0N!(x;y);x+y}\n",
    "0 addList/ 1 2 3 4 5 6 7 8 9"
   ]
  },
  {
   "cell_type": "code",
   "execution_count": 57,
   "metadata": {
    "hidden": true
   },
   "outputs": [
    {
     "name": "stdout",
     "output_type": "stream",
     "text": [
      "45\n",
      "0 1\n",
      "1 2\n",
      "3 3\n",
      "6 4\n",
      "10 5\n",
      "15 6\n",
      "21 7\n",
      "28 8\n",
      "36 9\n"
     ]
    }
   ],
   "source": [
    "//write your code here\n",
    "addList:{[x;y]0N!(x;y);x+y}\n",
    "0 addList/ 1 2 3 4 5 6 7 8 9"
   ]
  },
  {
   "cell_type": "markdown",
   "metadata": {
    "hidden": true
   },
   "source": [
    "<img src=\"../images/qbies.png\" style=\"width: 50px;padding-right:5px;padding-top:5px;padding-left:5px;\" align=\"left\"/>\n",
    "\n",
    "<p style='color:#273a6e'><i> While <code>scan</code> and <code>over</code> perform the same computation, in general, <code>over</code> requires less memory, because it does not store intermediate results."
   ]
  },
  {
   "cell_type": "markdown",
   "metadata": {
    "hidden": true
   },
   "source": [
    "##### Quiz Time!\n",
    "Try Execrises 1.1 and 1.2 to have a quick `scan` `over` your iterator knowledge!"
   ]
  },
  {
   "cell_type": "markdown",
   "metadata": {
    "heading_collapsed": true,
    "hidden": true
   },
   "source": [
    "## Overloaded iterators\n",
    "\n",
    "The accumulating iterators can used to create three different applications in which we will discuss further in this section: \n",
    "\n",
    "| Application | Functional notation      |\n",
    "|:----------- | :----------- |\n",
    "| [Converge](https://code.kx.com/q/ref/accumulators/#converge)       | v1\\\\[x]| \n",
    "| [Do](https://code.kx.com/q/ref/accumulators/#do) |v1\\\\[i;x] | \n",
    "| [While](https://code.kx.com/q/ref/accumulators/#while) |v1\\\\[t;x] | "
   ]
  },
  {
   "cell_type": "markdown",
   "metadata": {
    "hidden": true
   },
   "source": [
    "### Converge \n",
    "\n",
    "Using scan, we can let the function iterator over until the result is either the previous result or the input to the function:  "
   ]
  },
  {
   "cell_type": "code",
   "execution_count": 60,
   "metadata": {
    "hidden": true
   },
   "outputs": [
    {
     "name": "stdout",
     "output_type": "stream",
     "text": [
      "0.1 0.01 0.0001 1e-08 1e-16 1e-32 1e-64 1e-128 1e-256 0\n",
      "\"hello\"\n",
      "\"elloh\"\n",
      "\"llohe\"\n",
      "\"lohel\"\n",
      "\"ohell\"\n"
     ]
    }
   ],
   "source": [
    "{x*x}\\[0.1]            //one input to the function\n",
    "(rotate[1]\\)\"hello\"    //also works on strings"
   ]
  },
  {
   "cell_type": "markdown",
   "metadata": {
    "hidden": true
   },
   "source": [
    "<img src=\"../images/qbies.png\" style=\"width: 50px;padding-right:5px;padding-top:5px;padding-left:5px;\" align=\"left\"/>\n",
    "\n",
    "<p style='color:#273a6e'><i> Remember not all sequences converge- we could create an infinite loop quite quickly! To prohibit an infinite loop from locking a kdb+ session,we can use <code>\\T </code> command. </i></p>"
   ]
  },
  {
   "cell_type": "markdown",
   "metadata": {
    "hidden": true
   },
   "source": [
    "### Do and While\n",
    "\n",
    "As mentioned in the next section, [do](https://code.kx.com/q/ref/do/) and [while](https://code.kx.com/q/ref/while/) are keywords in kdb+/q however we can achieve the same results and better performance using `scan` and `over`. \n",
    "\n",
    "Using the left argument, we can define how many times we want to iterate:  "
   ]
  },
  {
   "cell_type": "code",
   "execution_count": 61,
   "metadata": {
    "hidden": true
   },
   "outputs": [
    {
     "name": "stdout",
     "output_type": "stream",
     "text": [
      "2  7 \n",
      "4  14\n",
      "8  28\n",
      "16 56\n"
     ]
    }
   ],
   "source": [
    "dbl:2*         //user defined function\n",
    "3 dbl\\2 7      //iterating over 3 times "
   ]
  },
  {
   "cell_type": "markdown",
   "metadata": {
    "hidden": true
   },
   "source": [
    "Given a criteria on the left-hand side of the function, we can define that we want to iterate until it doesn't fulfill that criteria:"
   ]
  },
  {
   "cell_type": "code",
   "execution_count": 62,
   "metadata": {
    "hidden": true
   },
   "outputs": [
    {
     "name": "stdout",
     "output_type": "stream",
     "text": [
      "2 7 \n",
      "4 14\n",
      "8 28\n"
     ]
    }
   ],
   "source": [
    "{last[x]<20} dbl\\2 7"
   ]
  },
  {
   "cell_type": "markdown",
   "metadata": {
    "hidden": true
   },
   "source": [
    "##### Fibonacci sequence\n",
    "\n",
    "Let's work towards generating the first 10 numbers of the Fibonacci sequence \n",
    "\n",
    "> The Fibonacci sequence is defined such that each number is the sum of the two preceding ones, starting from 0 and 1. e.g. the first four numbers in the Fibonacci sequence is: 0 1 1 2"
   ]
  },
  {
   "cell_type": "code",
   "execution_count": null,
   "metadata": {
    "hidden": true
   },
   "outputs": [],
   "source": [
    "//recap concepts \n",
    "2#til 10\n",
    "-2#til 10\n",
    "1 2,10 20 30"
   ]
  },
  {
   "cell_type": "markdown",
   "metadata": {
    "hidden": true
   },
   "source": [
    "Let's look at how we can create a function to calculate the Fibonacci sequence using the keywords above:"
   ]
  },
  {
   "cell_type": "code",
   "execution_count": null,
   "metadata": {
    "hidden": true
   },
   "outputs": [],
   "source": [
    "{-2#x}0 1             // retrieving the last two items in the list\n",
    "{sum -2#x}0 1         // summing them\n",
    "{x,sum -2#x}0 1       // joining the list to the summation of the last two items "
   ]
  },
  {
   "cell_type": "code",
   "execution_count": 67,
   "metadata": {
    "hidden": true
   },
   "outputs": [
    {
     "name": "stdout",
     "output_type": "stream",
     "text": [
      "0 1\n",
      "0 1 1\n",
      "0 1 1 2\n",
      "0 1 1 2 3\n",
      "0 1 1 2 3 5\n",
      "0 1 1 2 3 5 8\n",
      "0 1 1 2 3 5 8 13\n",
      "0 1 1 2 3 5 8 13 21\n",
      "0 1 1 2 3 5 8 13 21 34\n",
      "0 1 1 2 3 5 8 13 21 34 55\n",
      "0 1 1 2 3 5 8 13 21 34 55 89\n",
      "0 1 1 2 3 5 8 13 21 34 55 89\n"
     ]
    }
   ],
   "source": [
    "{x,sum -2#x}\\[10;0 1]  // using scan in \"do\" mode\n",
    "{x,sum -2#x}/[10;0 1]  // using over in \"do\" mode "
   ]
  },
  {
   "cell_type": "markdown",
   "metadata": {
    "hidden": true,
    "reveal": "0hh2dl1krnzi",
    "reveal-hidden": true
   },
   "source": [
    "##### Exercise\n",
    "\n",
    "Create a sequence of prime numbers from 0 to 20. "
   ]
  },
  {
   "cell_type": "code",
   "execution_count": 63,
   "metadata": {},
   "outputs": [
    {
     "name": "stdout",
     "output_type": "stream",
     "text": [
      "2 3 5 7 11 13 17 19\n"
     ]
    }
   ],
   "source": [
    "{$[min y mod x;x,y;x]}/[2;3+til 20]"
   ]
  },
  {
   "cell_type": "code",
   "execution_count": null,
   "metadata": {
    "hidden": true,
    "reveal": "0hh2dl1krnzi"
   },
   "outputs": [],
   "source": [
    "{$[min y mod x;x,y;x]}/[2;3+til 20]"
   ]
  },
  {
   "cell_type": "markdown",
   "metadata": {
    "hidden": true
   },
   "source": [
    "##### Quiz Time!\n",
    "`do` Exercise 1.3 `while` the overloaded iterators are still fresh in your memory!"
   ]
  },
  {
   "cell_type": "markdown",
   "metadata": {
    "heading_collapsed": true
   },
   "source": [
    "# Iterators versus Loops (do and while)\n",
    "\n",
    "The control words [`do`](https://code.kx.com/q/ref/do/) and [`while`](https://code.kx.com/q/ref/while/) allow q programmers to write explicit loops. However loops/iteration can almost always be defined using iterators, yielding code that is shorter, faster and less prone to error."
   ]
  },
  {
   "cell_type": "markdown",
   "metadata": {
    "hidden": true
   },
   "source": [
    "Suppose we wanted to check if either of the integers 2 or 3 are present in some lists. This can be achieved with a while loop."
   ]
  },
  {
   "cell_type": "code",
   "execution_count": 64,
   "metadata": {
    "hidden": true
   },
   "outputs": [
    {
     "name": "stdout",
     "output_type": "stream",
     "text": [
      "1 2 3\n",
      "3 4 5\n",
      "4 5 6\n",
      "110b\n",
      "377\n"
     ]
    }
   ],
   "source": [
    "show m:(1 2 3;3 4 5;4 5 6)   / three lists\n",
    "{\n",
    "    i:0;\n",
    "    a:();\n",
    "    while[i<count x;\n",
    "            a,:enlist any 2 3 in x[i];\n",
    "            i+:1];\n",
    "    a} m\n",
    "\n",
    "\n",
    "\\t:100000 {\n",
    "            i:0;\n",
    "            a:();\n",
    "            while[i<count x;\n",
    "                  a,:enlist any 2 3 in x[i];\n",
    "                  i+:1];\n",
    "            a} m"
   ]
  },
  {
   "cell_type": "markdown",
   "metadata": {
    "hidden": true
   },
   "source": [
    "However, iterators allow neater, more efficient code; easier to read and cheaper to maintain."
   ]
  },
  {
   "cell_type": "code",
   "execution_count": 65,
   "metadata": {
    "hidden": true
   },
   "outputs": [
    {
     "name": "stdout",
     "output_type": "stream",
     "text": [
      "110b\n",
      "193\n"
     ]
    }
   ],
   "source": [
    "any each 2 3 in/: m\n",
    "\n",
    "\\t:100000 any each 2 3 in/: m"
   ]
  },
  {
   "cell_type": "markdown",
   "metadata": {
    "hidden": true
   },
   "source": [
    "Similarly we can use the Over iterator to deal easily with situations which would be handled by loops in C-like languages.\n",
    "\n",
    "Suppose you wanted to join several tables."
   ]
  },
  {
   "cell_type": "code",
   "execution_count": 66,
   "metadata": {
    "hidden": true
   },
   "outputs": [
    {
     "name": "stdout",
     "output_type": "stream",
     "text": [
      "sym| pr0      vol0\n",
      "---| -------------\n",
      "a  | 36.24292 54  \n",
      "b  | 18.38882 45  \n",
      "c  | 19.97371 28  \n",
      "sym pr0      vol0 pr1      vol1 pr2      vol2 pr3      vol3\n",
      "-----------------------------------------------------------\n",
      "a   36.24292 54   24.22538 91   28.19467 65   32.5097  61  \n",
      "b   18.38882 45   29.35804 34   44.02434 38   25.01427 5   \n",
      "c   19.97371 28   46.24605 93   35.28828 24   1.031484 21  \n",
      "sym pr0      vol0 pr1      vol1 pr2      vol2 pr3      vol3\n",
      "-----------------------------------------------------------\n",
      "a   36.24292 54   24.22538 91   28.19467 65   32.5097  61  \n",
      "b   18.38882 45   29.35804 34   44.02434 38   25.01427 5   \n",
      "c   19.97371 28   46.24605 93   35.28828 24   1.031484 21  \n",
      "(+(,`sym)!,`a`b`c)!+`pr0`vol0!(36.24292 18.38882 19.97371;54 45 28)\n",
      "(+(,`sym)!,`a`b`c)!+`pr1`vol1!(24.22538 29.35804 46.24605;91 34 93)\n",
      "(+(,`sym)!,`a`b`c)!+`pr2`vol2!(28.19467 44.02434 35.28828;65 38 24)\n",
      "(+(,`sym)!,`a`b`c)!+`pr3`vol3!(32.5097 25.01427 1.031484;61 5 21)\n"
     ]
    }
   ],
   "source": [
    "//Create a list of tables, of random length\n",
    "show tt:{1!flip(`sym;`$\"pr\",x;`$\"vol\",x)!(`a`b`c;3?50.0;3?100)}each string til 2+rand 10\n",
    "\n",
    "//one table \n",
    "tt[0] \n",
    "\n",
    "//Join the tables using a while loop\n",
    "{a:([]sym:`a`b`c);i:0;while[i<count[x];a:a lj x[i];i+:1];a}tt\n",
    "\n",
    "//Join the tables using Over\n",
    "0!(lj/)tt\n",
    "\\c 200 100 "
   ]
  },
  {
   "cell_type": "markdown",
   "metadata": {
    "hidden": true
   },
   "source": [
    "<img src=\"../images/qbies.png\" style=\"width: 50px;padding-right:5px;padding-top:5px;padding-left:5px;\" align=\"left\"/>\n",
    "\n",
    "<p style='color:#273a6e'><i> Write loops only when you can find no solution using iterators.</i></p>"
   ]
  },
  {
   "cell_type": "markdown",
   "metadata": {
    "heading_collapsed": true
   },
   "source": [
    "# Combining iterators\n",
    "\n",
    "We can calculate [Pascal’s Triangle](https://en.wikipedia.org/wiki/Pascal%27s_triangle) using Scan and Each Prior.\n",
    "\n",
    "We already have a sufficient grasp of the accumulators to see the Triangle immediately as successive results from some use of Scan."
   ]
  },
  {
   "cell_type": "code",
   "execution_count": 50,
   "metadata": {
    "hidden": true
   },
   "outputs": [
    {
     "name": "stdout",
     "output_type": "stream",
     "text": [
      "1 4 6 4\n"
     ]
    }
   ],
   "source": [
    "(+) prior 1 3 3 1       / nearly..."
   ]
  },
  {
   "cell_type": "code",
   "execution_count": 51,
   "metadata": {
    "hidden": true
   },
   "outputs": [
    {
     "name": "stdout",
     "output_type": "stream",
     "text": [
      "1 4 6 4 1\n"
     ]
    }
   ],
   "source": [
    "(+) prior 1 3 3 1,0     / ...there!"
   ]
  },
  {
   "cell_type": "code",
   "execution_count": 59,
   "metadata": {
    "hidden": true
   },
   "outputs": [
    {
     "name": "stdout",
     "output_type": "stream",
     "text": [
      "1\n",
      "1 1\n",
      "1 2 1\n",
      "1 3 3 1\n",
      "1 4 6 4 1\n",
      "1 5 10 10 5 1\n",
      "1 6 15 20 15 6 1\n",
      "1 7 21 35 35 21 7 1\n"
     ]
    }
   ],
   "source": [
    "{(+) prior x,0}\\ [7;1]"
   ]
  },
  {
   "cell_type": "markdown",
   "metadata": {
    "hidden": true
   },
   "source": [
    "Notice that the last expression gave us eight rows of the Triangle, not seven. The first item of the result was the original argument, followed by the results of seven successive evaluations."
   ]
  },
  {
   "cell_type": "markdown",
   "metadata": {
    "hidden": true
   },
   "source": [
    "##### Quiz Time!\n",
    "Try the Extra Practice Exercises to test all your `prior` knowledge!"
   ]
  },
  {
   "cell_type": "code",
   "execution_count": 5,
   "metadata": {},
   "outputs": [
    {
     "name": "stdout",
     "output_type": "stream",
     "text": [
      "1 0 0\n",
      "0 1 0\n",
      "0 0 1\n"
     ]
    }
   ],
   "source": [
    "{(2#x)#1,x#0} [3]"
   ]
  },
  {
   "cell_type": "code",
   "execution_count": null,
   "metadata": {},
   "outputs": [],
   "source": []
  }
 ],
 "metadata": {
  "kernelspec": {
   "display_name": "Python 3 (ipykernel)",
   "language": "python",
   "name": "python3"
  },
  "language_info": {
   "codemirror_mode": {
    "name": "ipython",
    "version": 3
   },
   "file_extension": ".py",
   "mimetype": "text/x-python",
   "name": "python",
   "nbconvert_exporter": "python",
   "pygments_lexer": "ipython3",
   "version": "3.11.10"
  },
  "toc": {
   "base_numbering": 1,
   "nav_menu": {},
   "number_sections": true,
   "sideBar": true,
   "skip_h1_title": false,
   "title_cell": "Table of Contents",
   "title_sidebar": "Contents",
   "toc_cell": false,
   "toc_position": {
    "height": "calc(100% - 180px)",
    "left": "10px",
    "top": "150px",
    "width": "384px"
   },
   "toc_section_display": true,
   "toc_window_display": true
  }
 },
 "nbformat": 4,
 "nbformat_minor": 4
}
