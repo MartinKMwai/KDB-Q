{
 "cells": [
  {
   "cell_type": "code",
   "execution_count": 2,
   "metadata": {
    "autorun": true,
    "editable": false,
    "jupyter": {
     "source_hidden": true
    },
    "tags": [
     "remove-cell"
    ]
   },
   "outputs": [],
   "source": [
    "#;.pykx.disableJupyter()"
   ]
  },
  {
   "cell_type": "code",
   "execution_count": 3,
   "metadata": {
    "autorun": true,
    "editable": false,
    "jupyter": {
     "source_hidden": true
    },
    "tags": [
     "remove-cell"
    ]
   },
   "outputs": [
    {
     "name": "stdout",
     "output_type": "stream",
     "text": [
      "PyKX now running in 'jupyter_qfirst' mode. All cells by default will be run as q code. \n",
      "Include '%%py' at the beginning of each cell to run as python code. \n"
     ]
    }
   ],
   "source": [
    "# https://code.kx.com/pykx/3.0/examples/jupyter-integration.html#q-first-mode\n",
    "import pykx as kx\n",
    "kx.util.jupyter_qfirst_enable()"
   ]
  },
  {
   "cell_type": "markdown",
   "metadata": {},
   "source": [
    "## KX Training Introduction to data on disk: Exercises \n"
   ]
  },
  {
   "cell_type": "markdown",
   "metadata": {},
   "source": [
    "### Get and set "
   ]
  },
  {
   "cell_type": "markdown",
   "metadata": {},
   "source": [
    "Create the functions below:"
   ]
  },
  {
   "cell_type": "markdown",
   "metadata": {
    "reveal": "yansctvbd3s",
    "reveal-hidden": true
   },
   "source": [
    "* **readBinaryAndCreateVariable** - accepts a symbol (not a hsym) as its sole argument, which represents the name of a binary file in the current directory (\\\\pwd). <br> The function should read in this binary file and create a global variable in the root namespace of the process with this name, and the variable should contain whatever is in the file. <br> Finally the function should return the argument that was passed in, indicating successful creation of the variable"
   ]
  },
  {
   "cell_type": "code",
   "execution_count": 1,
   "metadata": {
    "reveal": "yansctvbd3s"
   },
   "outputs": [
    {
     "data": {
      "text/plain": [
       "`:myList\n"
      ]
     },
     "execution_count": 1,
     "metadata": {},
     "output_type": "execute_result"
    },
    {
     "data": {
      "text/plain": [
       "`myList\n"
      ]
     },
     "execution_count": 1,
     "metadata": {},
     "output_type": "execute_result"
    },
    {
     "data": {
      "text/plain": [
       "0 1 2 3 4 5 6 7 8 9\n"
      ]
     },
     "execution_count": 1,
     "metadata": {},
     "output_type": "execute_result"
    }
   ],
   "source": [
    "readBinaryAndCreateVariable:{[filenameOnDisk] \n",
    "            fileHandle: hsym filenameOnDisk;  //getting the hsym of the filename\n",
    "            v: get fileHandle;                //retreive the kdb+/q value \n",
    "            filenameOnDisk set v              //setting the value as a variable locally\n",
    "    };\n",
    "`:myList set til 10                           //making a variable in the local directory for testing \n",
    "\n",
    "readBinaryAndCreateVariable[`myList]\n",
    "myList"
   ]
  },
  {
   "cell_type": "code",
   "execution_count": 4,
   "metadata": {},
   "outputs": [
    {
     "name": "stdout",
     "output_type": "stream",
     "text": [
      ":testList\n",
      "testList\n"
     ]
    }
   ],
   "source": [
    "//getting the hsym of the filename\n",
    "//retreive the kdb+/q value \n",
    "//setting the value as a variable locally\n",
    "//making a variable in the local directory for testing \n",
    "readBinaryAndCreate:{[binaryFile]\n",
    "                     binaryFileHandle: hsym[binaryFile];\n",
    "                     fileCopy: get binaryFileHandle;\n",
    "                     binaryFile set fileCopy};\n",
    "\n",
    "`:testList set til 20\n",
    "\n",
    "readBinaryAndCreate[`testList]\n",
    "                     \n"
   ]
  },
  {
   "cell_type": "markdown",
   "metadata": {
    "reveal": "mjl1uqqorg",
    "reveal-hidden": true
   },
   "source": [
    "* **saveBinaryFromVariable** - accepts a symbol as its sole argument, which represents the name of a variable in the q process - the function should save the variable in the current working directory and return the name of the variable indicating a successful write"
   ]
  },
  {
   "cell_type": "code",
   "execution_count": 3,
   "metadata": {
    "reveal": "mjl1uqqorg"
   },
   "outputs": [
    {
     "data": {
      "text/plain": [
       "`newTable\n"
      ]
     },
     "execution_count": 3,
     "metadata": {},
     "output_type": "execute_result"
    },
    {
     "data": {
      "text/plain": [
       "1b\n"
      ]
     },
     "execution_count": 3,
     "metadata": {},
     "output_type": "execute_result"
    }
   ],
   "source": [
    "saveBinaryFromVariable:{[variableName] \n",
    "                hsym[variableName] set variableName;\n",
    "                variableName}\n",
    "\n",
    "newTable: ([]c1:`a`b`c;c2:til 3)\n",
    "saveBinaryFromVariable `newTable\n",
    "`newTable in key `:."
   ]
  },
  {
   "cell_type": "code",
   "execution_count": 5,
   "metadata": {},
   "outputs": [
    {
     "name": "stdout",
     "output_type": "stream",
     "text": [
      "testTable\n",
      "\"Introduction to data on disk Exercises.ipynb\"\n",
      "\"Introduction to data on disk.ipynb\"\n",
      "\"data\"\n",
      "\"flatT\"\n",
      "\"flatsector\"\n",
      ",\"t\"\n",
      "\"t.csv\"\n",
      "\"t.json\"\n",
      "\"t.txt\"\n",
      "\"testList\"\n",
      "\"testTable\"\n"
     ]
    }
   ],
   "source": [
    "//your answer here\n",
    "saveBinaryFromVariable:{[subjectSymbol]\n",
    "                            hsym[subjectSymbol] set subjectSymbol;\n",
    "                             subjectSymbol}\n",
    "testTable: ([]symbols:`a`b`c; values:1 2 3)\n",
    "saveBinaryFromVariable[`testTable]\n",
    "\n",
    "\\ls\n"
   ]
  },
  {
   "cell_type": "markdown",
   "metadata": {},
   "source": [
    "### Flat files "
   ]
  },
  {
   "cell_type": "markdown",
   "metadata": {
    "reveal": "m193vr9vpt",
    "reveal-hidden": true
   },
   "source": [
    "* Create a table `t2` that contains 20 random records from the table below: \n",
    "  - time: time between 4PM and 5PM (sorted in ascending order)\n",
    "  - sym:\\`IBM\\`VOD\\`VED\\`DELL\\`AAPL\\`KX\\`AMZN\n",
    "  - price: floats ranging from 20 to 200\n",
    "  - size: longs ranging from 40 to 2000 "
   ]
  },
  {
   "cell_type": "code",
   "execution_count": 40,
   "metadata": {
    "reveal": "m193vr9vpt"
   },
   "outputs": [],
   "source": [
    "t2:([]time:asc 20?`time$16:00+til 61;sym:20?`IBM`VOD`VED`DELL`AAPL`KX`AMZN;price:20+20?180f;size:40+20?1600)"
   ]
  },
  {
   "cell_type": "code",
   "execution_count": 13,
   "metadata": {},
   "outputs": [
    {
     "name": "stdout",
     "output_type": "stream",
     "text": [
      "c    | t f a\n",
      "-----| -----\n",
      "time | t   s\n",
      "sym  | s    \n",
      "price| f    \n",
      "size | j    \n",
      "time         sym  price    size\n",
      "-------------------------------\n",
      "16:02:00.000 DELL 185.3335 1592\n",
      "16:10:00.000 DELL 189.3602 776 \n",
      "16:18:00.000 IBM  53.53674 1122\n",
      "16:19:00.000 VOD  59.29431 613 \n",
      "16:22:00.000 AAPL 47.14274 1821\n",
      "16:26:00.000 IBM  124.5476 1494\n",
      "16:28:00.000 VOD  32.62883 1596\n",
      "16:29:00.000 IBM  32.49764 597 \n",
      "16:33:00.000 VED  146.8053 627 \n",
      "16:38:00.000 VOD  111.4892 1614\n",
      "16:38:00.000 AAPL 135.3391 616 \n",
      "16:41:00.000 KX   133.2669 501 \n",
      "16:42:00.000 AAPL 86.77267 755 \n",
      "16:42:00.000 KX   63.72276 1588\n",
      "16:43:00.000 IBM  125.7773 1802\n",
      "16:44:00.000 AMZN 171.1806 99  \n",
      "16:51:00.000 VOD  57.32885 386 \n",
      "16:54:00.000 AMZN 53.55626 1031\n",
      "16:56:00.000 DELL 155.5838 546 \n",
      "17:00:00.000 AMZN 100.0665 495 \n"
     ]
    }
   ],
   "source": [
    "//your answer here\n",
    "time:asc 20?`time$16:00 + til 61\n",
    "sym: 20?`IBM`VOD`VED`DELL`AAPL`KX`AMZN\n",
    "price: 20 +20?`float$180\n",
    "size: 40 + 20?1960\n",
    "show t2:([]time;sym;price;size)\n",
    "meta t2"
   ]
  },
  {
   "cell_type": "markdown",
   "metadata": {
    "reveal": "fvjfp1bz7ks",
    "reveal-hidden": true
   },
   "source": [
    "* Save `t2` to disk as a flat table in the data directory"
   ]
  },
  {
   "cell_type": "code",
   "execution_count": 42,
   "metadata": {
    "reveal": "fvjfp1bz7ks"
   },
   "outputs": [
    {
     "data": {
      "text/plain": [
       "`:data/t2\n"
      ]
     },
     "execution_count": 42,
     "metadata": {},
     "output_type": "execute_result"
    }
   ],
   "source": [
    "`:data/t2 set t2"
   ]
  },
  {
   "cell_type": "code",
   "execution_count": 14,
   "metadata": {},
   "outputs": [
    {
     "name": "stdout",
     "output_type": "stream",
     "text": [
      ":data/t2\n"
     ]
    }
   ],
   "source": [
    "//your answer here\n",
    "`:data/t2 set t2"
   ]
  },
  {
   "cell_type": "markdown",
   "metadata": {
    "reveal": "vbgtov9sko",
    "reveal-hidden": true
   },
   "source": [
    "* Add two rows to the table on disk. \n",
    "\n",
    "```([]time:17:02:00 17:04:00;sym:`AAPL`MSFT;price:100.55 135.68;size:80 1400)```"
   ]
  },
  {
   "cell_type": "code",
   "execution_count": 44,
   "metadata": {
    "reveal": "vbgtov9sko"
   },
   "outputs": [
    {
     "data": {
      "text/plain": [
       "`:data/t2\n"
      ]
     },
     "execution_count": 44,
     "metadata": {},
     "output_type": "execute_result"
    }
   ],
   "source": [
    "`:data/t2 upsert ([]time:17:02:00.00 17:04:00.00;sym:`AAPL`MSFT;price:100.55 135.68;size:80 1400)"
   ]
  },
  {
   "cell_type": "code",
   "execution_count": 15,
   "metadata": {},
   "outputs": [
    {
     "name": "stdout",
     "output_type": "stream",
     "text": [
      "c    | t f a\n",
      "-----| -----\n",
      "time | t    \n",
      "sym  | s    \n",
      "price| f    \n",
      "size | j    \n"
     ]
    }
   ],
   "source": [
    "newData:([]time:17:02:00.00 17:04:00.00;sym:`AAPL`MSFT;price:100.55 135.68;size:80 1400)\n",
    "meta newData"
   ]
  },
  {
   "cell_type": "code",
   "execution_count": 16,
   "metadata": {},
   "outputs": [
    {
     "name": "stdout",
     "output_type": "stream",
     "text": [
      ":data/t2\n"
     ]
    }
   ],
   "source": [
    "`:data/t2 upsert newData"
   ]
  },
  {
   "cell_type": "code",
   "execution_count": 17,
   "metadata": {},
   "outputs": [
    {
     "name": "stdout",
     "output_type": "stream",
     "text": [
      "time         sym  price    size\n",
      "-------------------------------\n",
      "16:02:00.000 DELL 185.3335 1592\n",
      "16:10:00.000 DELL 189.3602 776 \n",
      "16:18:00.000 IBM  53.53674 1122\n",
      "16:19:00.000 VOD  59.29431 613 \n",
      "16:22:00.000 AAPL 47.14274 1821\n",
      "16:26:00.000 IBM  124.5476 1494\n",
      "16:28:00.000 VOD  32.62883 1596\n",
      "16:29:00.000 IBM  32.49764 597 \n",
      "16:33:00.000 VED  146.8053 627 \n",
      "16:38:00.000 VOD  111.4892 1614\n",
      "16:38:00.000 AAPL 135.3391 616 \n",
      "16:41:00.000 KX   133.2669 501 \n",
      "16:42:00.000 AAPL 86.77267 755 \n",
      "16:42:00.000 KX   63.72276 1588\n",
      "16:43:00.000 IBM  125.7773 1802\n",
      "16:44:00.000 AMZN 171.1806 99  \n",
      "16:51:00.000 VOD  57.32885 386 \n",
      "16:54:00.000 AMZN 53.55626 1031\n",
      "16:56:00.000 DELL 155.5838 546 \n",
      "17:00:00.000 AMZN 100.0665 495 \n",
      "..\n"
     ]
    }
   ],
   "source": [
    "get `:data/t2"
   ]
  },
  {
   "cell_type": "code",
   "execution_count": null,
   "metadata": {},
   "outputs": [],
   "source": []
  }
 ],
 "metadata": {
  "kernelspec": {
   "display_name": "Python 3 (ipykernel)",
   "language": "python",
   "name": "python3"
  },
  "language_info": {
   "codemirror_mode": {
    "name": "ipython",
    "version": 3
   },
   "file_extension": ".py",
   "mimetype": "text/x-python",
   "name": "python",
   "nbconvert_exporter": "python",
   "pygments_lexer": "ipython3",
   "version": "3.11.10"
  },
  "toc": {
   "base_numbering": 1,
   "nav_menu": {},
   "number_sections": true,
   "sideBar": true,
   "skip_h1_title": false,
   "title_cell": "Table of Contents",
   "title_sidebar": "Contents",
   "toc_cell": false,
   "toc_position": {},
   "toc_section_display": true,
   "toc_window_display": false
  }
 },
 "nbformat": 4,
 "nbformat_minor": 4
}
