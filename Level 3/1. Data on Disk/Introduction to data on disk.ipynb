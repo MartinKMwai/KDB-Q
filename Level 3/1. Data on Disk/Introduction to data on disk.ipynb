{
 "cells": [
  {
   "cell_type": "code",
   "execution_count": 8,
   "metadata": {
    "autorun": true,
    "editable": false,
    "jupyter": {
     "source_hidden": true
    },
    "tags": [
     "remove-cell"
    ]
   },
   "outputs": [
    {
     "name": "stdout",
     "output_type": "stream",
     "text": [
      "PyKX now running in 'python' mode (default). All cells by default will be run as python code. \n",
      "Include '%%q' at the beginning of each cell to run as q code. \n"
     ]
    }
   ],
   "source": [
    "#;.pykx.disableJupyter()"
   ]
  },
  {
   "cell_type": "code",
   "execution_count": 9,
   "metadata": {
    "autorun": true,
    "editable": false,
    "jupyter": {
     "source_hidden": true
    },
    "tags": [
     "remove-cell"
    ]
   },
   "outputs": [
    {
     "name": "stdout",
     "output_type": "stream",
     "text": [
      "PyKX now running in 'jupyter_qfirst' mode. All cells by default will be run as q code. \n",
      "Include '%%py' at the beginning of each cell to run as python code. \n"
     ]
    }
   ],
   "source": [
    "# https://code.kx.com/pykx/3.0/examples/jupyter-integration.html#q-first-mode\n",
    "import pykx as kx\n",
    "kx.util.jupyter_qfirst_enable()"
   ]
  },
  {
   "cell_type": "markdown",
   "metadata": {},
   "source": [
    "##### Learning objectives\n",
    "\n",
    "To understand: \n",
    "* The structure of kdb+ tables on disk\n",
    "* Saving and loading flat tables"
   ]
  },
  {
   "cell_type": "markdown",
   "metadata": {},
   "source": [
    "# Introduction\n",
    "\n",
    "In the real world, tables can get very large in size. For example, the daily average number of trades executed on the New York Stock Exchange is roughly 2 billion. Manufacturing and IOT have much larger volumes - an IOT sensor could have as many as 100,000 events per second. Luckily, kdb+/q offers a number of different methods to store tables which will allow for efficient storage and querying of these massive tables, even over many days or years of this data volume!"
   ]
  },
  {
   "cell_type": "markdown",
   "metadata": {},
   "source": [
    "## How can we save tables in kdb+ ?\n",
    "Tables in kdb+ can be stored to disk in four different formats: \n",
    "\n",
    "| Table format on disk |Representation | Number of rows | Useful functions |\n",
    "| --------------------|-----------|-----------------|--------|\n",
    "|Flat file | single binary file |few million | [set](https://code.kx.com/q/ref/get/#set), [save](https://code.kx.com/q/ref/save/)\n",
    "|Splayed | directory of column files |up to 100 million |  [.Q.en](https://code.kx.com/q/kb/splayed-tables/#enumerating-symbol-columns)\n",
    "| Partitioned | table partitioned by e.g. date, with a splayed table for each date | more than 100 million; or growing steadily| [.Q.dpft](https://code.kx.com/q/ref/dotq/#qdpft-save-table) |\n",
    "| Segmented | partitioned tables distributed across disks | tables larger than disks; or you need to parallelize access |[.Q.par](https://code.kx.com/q/ref/dotq/#qpar-locate-partition) |\n",
    "\n",
    "These tables are listed in order of their performance with increasingly large data sets."
   ]
  },
  {
   "cell_type": "markdown",
   "metadata": {},
   "source": [
    " <img src=\"../images/introToData.png\" width=\"500\" height=\"500\">"
   ]
  },
  {
   "cell_type": "markdown",
   "metadata": {},
   "source": [
    "## Guidance on choosing which format for saving \n",
    "\n",
    "A general rule of thumb around which format to choose depends on three things: \n",
    "\n",
    "* **Will the table continue to grow at a fast rate?** - if not, then flat or splayed  depending on the size, if yes then partitioned or segmented depending on data volumes\n",
    "* **Am I working in a RAM constrained environment?** - if yes, then you may prefer to store your reference tables as splayed rather than flat format. Flat table require all the data be read into memory before use, while splayed table only retrieve table rows after applying the qSQL constraints. \n",
    "* **What level of performance do I want?** - if high performance is central to the system and there are additional disk mounts available, a well structured segmented database can avoid some of the I/O competition that a partitioned table on one disk mount would face for the same query. "
   ]
  },
  {
   "cell_type": "markdown",
   "metadata": {},
   "source": [
    "# Flat file tables\n",
    "\n",
    "[Flat file tables](https://code.kx.com/q/database/#object) are when we save a kdb+ table on disk entirely in one file. They are fully loaded into memory, which is why their size (memory footprint) should be small. Small size/configuration/keyed tables are suited for this type of table. "
   ]
  },
  {
   "cell_type": "markdown",
   "metadata": {},
   "source": [
    "<img src=\"../images/qbies.png\" style=\"width: 50px;padding-right:5px;padding-top:10px;padding-left:5px;\" align=\"left\"/>\n",
    "\n",
    "<p style='color:#273a6e'><i> Small tables in this context are roughly any table up to a few million rows. The size of a flat file is limited by the length of a vector in kdb+. In practice, if we know that the table will grow to an order of millions of rows, then we would choose instead to splay the table. </i></p>"
   ]
  },
  {
   "cell_type": "markdown",
   "metadata": {},
   "source": [
    "## Recap `set` and `get`\n",
    "\n",
    "When we work with tables in memory if our process dies, then the table and (any modifications we have made to it) is lost. We can [serialize](https://code.kx.com/q/database/object/#set-and-get) our table to persistent storage using [set](https://code.kx.com/q/ref/get/#set). This function allows us to save the table to disk and easily reload it at another time. "
   ]
  },
  {
   "cell_type": "markdown",
   "metadata": {},
   "source": [
    "Syntax: ``` `:filepath set tablename```"
   ]
  },
  {
   "cell_type": "markdown",
   "metadata": {
    "reveal": "i2r2estfg5p",
    "reveal-hidden": false
   },
   "source": [
    "<img src=\"../images/qbies.png\" style=\"width: 50px;padding-right:5px;padding-top:2px;padding-left:5px;\" align=\"left\"/>\n",
    "\n",
    "<p style='color:#273a6e'><i> Reminder: We can use <code>hsym</code> to create a filepath from a symbol. </i></p>\n",
    "\n",
    "[Reference to code.kx.com](https://code.kx.com/q/ref/hsym/)"
   ]
  },
  {
   "cell_type": "code",
   "execution_count": 10,
   "metadata": {
    "reveal": "i2r2estfg5p"
   },
   "outputs": [
    {
     "name": "stdout",
     "output_type": "stream",
     "text": [
      ":filepath\n"
     ]
    }
   ],
   "source": [
    "hsym `filepath "
   ]
  },
  {
   "cell_type": "markdown",
   "metadata": {},
   "source": [
    "Let's look at a simple example:"
   ]
  },
  {
   "cell_type": "code",
   "execution_count": 11,
   "metadata": {},
   "outputs": [
    {
     "name": "stdout",
     "output_type": "stream",
     "text": [
      ":flatsector\n",
      ".\n",
      "sym | sector\n",
      "----| ------\n",
      "TSLA| Auto  \n",
      "IBM | Comp  \n",
      "MS  | Bank  \n",
      "GM  | Auto  \n"
     ]
    }
   ],
   "source": [
    "show sector:([sym:`TSLA`IBM`MS`GM]sector:`Auto`Comp`Bank`Auto) //creating a keyed table\n",
    "\n",
    "`:flatsector set sector   //saves sector to flatsector in the current directory\n",
    "\n",
    "delete sector from `.  //deletes sector table from memory"
   ]
  },
  {
   "cell_type": "code",
   "execution_count": 12,
   "metadata": {},
   "outputs": [],
   "source": [
    "//sector  //sector is no longer in memory"
   ]
  },
  {
   "cell_type": "markdown",
   "metadata": {},
   "source": [
    "When we executed the `set` operator on the kdb+ table, it was serialized and saved down to disk."
   ]
  },
  {
   "cell_type": "code",
   "execution_count": 14,
   "metadata": {},
   "outputs": [
    {
     "name": "stdout",
     "output_type": "stream",
     "text": [
      "\"Introduction to data on disk Exercises.ipynb\"\n",
      "\"Introduction to data on disk.ipynb\"\n",
      "\"flatsector\"\n"
     ]
    }
   ],
   "source": [
    "//system\"ls \" //looking at the files in the current directory\n",
    "//system\"cat flatsector\"  //Looking at the flatsector file\n",
    "\\ls"
   ]
  },
  {
   "cell_type": "markdown",
   "metadata": {},
   "source": [
    "This has created a new file called `flatsector` on disk, we can also overwrite a file using set if it exists:  "
   ]
  },
  {
   "cell_type": "code",
   "execution_count": 17,
   "metadata": {},
   "outputs": [
    {
     "name": "stdout",
     "output_type": "stream",
     "text": [
      ":flatsector\n",
      "sym | sector\n",
      "----| ------\n",
      "IBM | Comp  \n",
      "TSLA| Auto  \n",
      "MS  | Bank  \n",
      "GM  | Auto  \n",
      "TSLA| Auto  \n"
     ]
    }
   ],
   "source": [
    "show newSector:([sym:`IBM`TSLA`MS`GM`TSLA]sector:`Comp`Auto`Bank`Auto`Auto) //creating a keyed table\n",
    "\n",
    "`:flatsector set newSector //overwriting flatsector file\n"
   ]
  },
  {
   "cell_type": "markdown",
   "metadata": {
    "reveal": "hj1bvxd1k8",
    "reveal-hidden": true
   },
   "source": [
    "<img src=\"../images/qbies.png\" style=\"width: 50px;padding-right:5px;padding-top:2px;padding-left:5px;\" align=\"left\"/>\n",
    "\n",
    "<p style='color:#273a6e'><i> Can we save other kdb+/q data structures down to disk ?</i></p>"
   ]
  },
  {
   "cell_type": "code",
   "execution_count": 19,
   "metadata": {},
   "outputs": [
    {
     "name": "stdout",
     "output_type": "stream",
     "text": [
      ":flatsector\n"
     ]
    }
   ],
   "source": [
    "key `:flatsector"
   ]
  },
  {
   "cell_type": "code",
   "execution_count": 20,
   "metadata": {},
   "outputs": [
    {
     "name": "stdout",
     "output_type": "stream",
     "text": [
      "\"/home/jovyan/course-advanced/01 Introduction to data on disk\"\n"
     ]
    }
   ],
   "source": [
    "\\pwd"
   ]
  },
  {
   "cell_type": "markdown",
   "metadata": {
    "reveal": "hj1bvxd1k8"
   },
   "source": [
    "Absolutely ! We will see later in the course that vectors can be saved down as flat files. Other q entities can be serialized but it's most often tables.  "
   ]
  },
  {
   "cell_type": "code",
   "execution_count": null,
   "metadata": {
    "reveal": "hj1bvxd1k8"
   },
   "outputs": [],
   "source": [
    "`:qlist set til 10         //saving a list\n",
    "`:qdict set `a`b`c!1 2 3   //saving a dictionary "
   ]
  },
  {
   "cell_type": "markdown",
   "metadata": {},
   "source": [
    "Now that we have the flat file saved to disk, we can use the [get](https://code.kx.com/q/ref/get/) keyword to read this back into memory:\n",
    "\n",
    "``` tablename: get `:path_to_file/filename```\n",
    "\n",
    "The `get` function deserializes the table when it takes it into memory so it will look like a kdb+ table:   "
   ]
  },
  {
   "cell_type": "code",
   "execution_count": 22,
   "metadata": {},
   "outputs": [
    {
     "name": "stdout",
     "output_type": "stream",
     "text": [
      "sym | sector\n",
      "----| ------\n",
      "IBM | Comp  \n",
      "TSLA| Auto  \n",
      "MS  | Bank  \n",
      "GM  | Auto  \n",
      "TSLA| Auto  \n",
      "sym | sector\n",
      "----| ------\n",
      "IBM | Comp  \n",
      "TSLA| Auto  \n",
      "MS  | Bank  \n",
      "GM  | Auto  \n",
      "TSLA| Auto  \n"
     ]
    }
   ],
   "source": [
    "get `:flatsector  //load in flatsector from disk\n",
    "value `:flatsector //value and get are the same function"
   ]
  },
  {
   "cell_type": "markdown",
   "metadata": {
    "reveal": "kmlvz708d6p",
    "reveal-hidden": false
   },
   "source": [
    "##### Exercise\n",
    "\n",
    "Save down a flat table called flatT which is the table:\n",
    "\n",
    "```t:([]sym:`AAPL`IBM`MSFT;price:10 20 30)``` \n",
    "\n",
    "with the price values multiplied by 10. Do this without creating a new table variable in memory."
   ]
  },
  {
   "cell_type": "code",
   "execution_count": 28,
   "metadata": {
    "reveal": "kmlvz708d6p"
   },
   "outputs": [
    {
     "name": "stdout",
     "output_type": "stream",
     "text": [
      ":flatT\n"
     ]
    }
   ],
   "source": [
    "`:flatT set update price*10 from t:([]sym:`AAPL`IBM`MSFT;price:10 20 30) "
   ]
  },
  {
   "cell_type": "code",
   "execution_count": 29,
   "metadata": {
    "reveal": "kmlvz708d6p"
   },
   "outputs": [
    {
     "name": "stdout",
     "output_type": "stream",
     "text": [
      "sym  price\n",
      "----------\n",
      "AAPL 100  \n",
      "IBM  200  \n",
      "MSFT 300  \n"
     ]
    }
   ],
   "source": [
    "get `:flatT"
   ]
  },
  {
   "cell_type": "code",
   "execution_count": 30,
   "metadata": {
    "reveal": "kmlvz708d6p"
   },
   "outputs": [
    {
     "name": "stdout",
     "output_type": "stream",
     "text": [
      ":t\n",
      "sym  price\n",
      "----------\n",
      "AAPL 100  \n",
      "IBM  200  \n",
      "MSFT 300  \n",
      "sym  price\n",
      "----------\n",
      "AAPL 10   \n",
      "IBM  20   \n",
      "MSFT 30   \n"
     ]
    }
   ],
   "source": [
    "`:t set update price:10*price from t\n",
    "\n",
    "get `:t //can use get to check if the solution is correct\n",
    "t //The table hasn't changed in memory"
   ]
  },
  {
   "cell_type": "code",
   "execution_count": 34,
   "metadata": {},
   "outputs": [
    {
     "name": "stdout",
     "output_type": "stream",
     "text": [
      ":flatT\n",
      "sym  price\n",
      "----------\n",
      "AAPL 10   \n",
      "IBM  20   \n",
      "MSFT 30   \n",
      "sym  price\n",
      "----------\n",
      "AAPL 100  \n",
      "IBM  200  \n",
      "MSFT 300  \n"
     ]
    }
   ],
   "source": [
    "//your answer here\n",
    "`:flatT set update price*10 from t:([]sym:`AAPL`IBM`MSFT;price:10 20 30) \n",
    "t\n",
    "get `:flatT"
   ]
  },
  {
   "cell_type": "markdown",
   "metadata": {},
   "source": [
    "<img src=\"../images/qbies.png\" style=\"width: 50px;padding-right:5px;padding-top:2px;padding-left:5px;\" align=\"left\"/>\n",
    "\n",
    "<p style='color:#273a6e'><i> Since flat file tables load entirely into memory, we need to make sure that there is a enough memory allocated to the process to fit these tables in.</i></p>"
   ]
  },
  {
   "cell_type": "markdown",
   "metadata": {},
   "source": [
    "##### Quiz Time! \n",
    "<i>Try the Get and Set Exercises to test what you've learned so far and have a go of saving files yourself!</i>"
   ]
  },
  {
   "cell_type": "markdown",
   "metadata": {},
   "source": [
    "##  `load` and `save` \n",
    "There are also some other in-built functions defined for [saving tables](https://code.kx.com/q/database/object/#save-and-load) on disk to flat files and loading the tables into memory. They both take one argument: a file path. The table name is extracted from the path, and will save down to this file path the global table of the same name.\n",
    "- [save](https://code.kx.com/q/ref/save/) \n",
    "- [load](https://code.kx.com/q/ref/load/#load)"
   ]
  },
  {
   "cell_type": "code",
   "execution_count": 35,
   "metadata": {},
   "outputs": [
    {
     "name": "stdout",
     "output_type": "stream",
     "text": [
      ":t\n",
      "t\n"
     ]
    }
   ],
   "source": [
    "t:([]sym:`TSLA`IBM`MS`GM;size:20 30 40 50;price:1.1 2.2 3.3 4.4) //creating small table\n",
    "save `t //works the same as set \n",
    "load `:t //works the same as tabname: get `:<path>/tabname"
   ]
  },
  {
   "cell_type": "markdown",
   "metadata": {
    "reveal": "wukx0nk61pe",
    "reveal-hidden": false
   },
   "source": [
    "##### Exercise\n",
    "\n",
    "Using `load` bring this new tables into memory - verify it exists in the current process. "
   ]
  },
  {
   "cell_type": "code",
   "execution_count": null,
   "metadata": {
    "reveal": "wukx0nk61pe"
   },
   "outputs": [],
   "source": [
    "load `:flatT"
   ]
  },
  {
   "cell_type": "code",
   "execution_count": null,
   "metadata": {
    "reveal": "wukx0nk61pe"
   },
   "outputs": [],
   "source": [
    "`flatT in key `.      //does the variable exist in the root context\n",
    "flatT"
   ]
  },
  {
   "cell_type": "code",
   "execution_count": 38,
   "metadata": {},
   "outputs": [
    {
     "name": "stdout",
     "output_type": "stream",
     "text": [
      "flatT\n",
      "`newSector`t`flatT`price\n"
     ]
    }
   ],
   "source": [
    "//your answer here\n",
    "load `:flatT\n",
    "key `."
   ]
  },
  {
   "cell_type": "markdown",
   "metadata": {},
   "source": [
    "<img src=\"../images/qbies.png\" style=\"width: 50px;padding-right:5px;padding-top:2px;padding-left:5px;\" align=\"left\"/>\n",
    "\n",
    "<p style='color:#273a6e'><i> Reminder: We can also use <code>\\l /path/to/file</code> to load binary files and scripts. </i></p>\n",
    "\n",
    "[Load File or Directory](https://code.kx.com/q/basics/syscmds/#l-load-file-or-directory)"
   ]
  },
  {
   "cell_type": "markdown",
   "metadata": {},
   "source": [
    "`save` can also be used to save a file in a specific format. This is done by adding the extension to the end of the table name. File extensions supported are .csv, .txt, .xls and .xml. In kdb+ 4.0, .json is also supported."
   ]
  },
  {
   "cell_type": "code",
   "execution_count": 40,
   "metadata": {},
   "outputs": [
    {
     "name": "stdout",
     "output_type": "stream",
     "text": [
      ":t.csv\n",
      ":t.txt\n",
      ":t.json\n",
      "\"sym,size,price\"\n",
      "\"TSLA,20,1.1\"\n",
      "\"IBM,30,2.2\"\n",
      "\"MS,40,3.3\"\n",
      "\"GM,50,4.4\"\n",
      "\"{\\\"sym\\\":\\\"TSLA\\\",\\\"size\\\":20,\\\"price\\\":1.1}\"\n",
      "\"{\\\"sym\\\":\\\"IBM\\\",\\\"size\\\":30,\\\"price\\\":2.2}\"\n",
      "\"{\\\"sym\\\":\\\"MS\\\",\\\"size\\\":40,\\\"price\\\":3.3}\"\n",
      "\"{\\\"sym\\\":\\\"GM\\\",\\\"size\\\":50,\\\"price\\\":4.4}\"\n"
     ]
    }
   ],
   "source": [
    "save `t.csv\n",
    "save `t.txt\n",
    "\n",
    "// In kdb+ 4.0\n",
    "save `t.json\n",
    "\n",
    "system\"cat t.csv\" //Looking at the t.csv file. \n",
    "\\cat t.json"
   ]
  },
  {
   "cell_type": "markdown",
   "metadata": {},
   "source": [
    "`load` does not have the equivalent functionality to load in these file types. Below are examples of how to load each type of file"
   ]
  },
  {
   "cell_type": "code",
   "execution_count": 47,
   "metadata": {},
   "outputs": [
    {
     "name": "stdout",
     "output_type": "stream",
     "text": [
      "sym  size price\n",
      "---------------\n",
      "TSLA 20   1.1  \n",
      "IBM  30   2.2  \n",
      "MS   40   3.3  \n",
      "GM   50   4.4  \n"
     ]
    }
   ],
   "source": [
    "// Loading a CSV, you must specify the column types and delimeter\n",
    "(\"SJF\";enlist csv) 0: `:t.csv\n",
    "\n",
    "// Loading a text file\n",
    "//read0 `:t.txt\n",
    "\n",
    "// Loading a json file (kdb+ 4.0 only)\n",
    "//load `:t.json"
   ]
  },
  {
   "cell_type": "markdown",
   "metadata": {},
   "source": [
    "## `set/get` versus `save/load`\n",
    "\n",
    "Now that we have these functions to save our date, when should we use `set/get` versus `save/load`?\n",
    "\n",
    "* `load/save` are perfect for casual use.\n",
    "* For more organized writing and reading, we need the keywords `set` and `get`\n",
    "* Use `set` to save a variable to a file of a different name\n",
    "* If we want to save and **compress** our tables, use [`set`](https://code.kx.com/q/ref/get/#compression)\n",
    "\n",
    "What are the main differences between these functions?\n",
    "\n",
    "* `save` takes one argument, `set` takes two\n",
    "* `get` returns the table value but does not save it in memory. `load` saves the table in memory and returns the name of the table\n",
    "* `set` always saves files in binary format. `save` can save binary files as well as in alternative formats such as .csv"
   ]
  },
  {
   "cell_type": "markdown",
   "metadata": {},
   "source": [
    "## Operating on  flat tables\n",
    "\n",
    "We know how to save and load these files into memory but is there a difference on how we operator on them? The quick answer is **NO** however there are a few techniques that we can use to optimize our code. \n",
    "\n",
    "Let's create a new table `t`:"
   ]
  },
  {
   "cell_type": "code",
   "execution_count": 48,
   "metadata": {},
   "outputs": [
    {
     "name": "stdout",
     "output_type": "stream",
     "text": [
      ":data/t\n"
     ]
    }
   ],
   "source": [
    "`:data/t set ([]sym:`AAPL`MSFT`KX;price:10 20 30) //setting a flat table in directory data"
   ]
  },
  {
   "cell_type": "code",
   "execution_count": 49,
   "metadata": {},
   "outputs": [],
   "source": [
    "t:get `:data/t"
   ]
  },
  {
   "cell_type": "markdown",
   "metadata": {},
   "source": [
    "As we used defined a table as `t`, we can operate on it as an in-memory table:"
   ]
  },
  {
   "cell_type": "code",
   "execution_count": null,
   "metadata": {},
   "outputs": [],
   "source": [
    "select from t\n",
    "select from t where sym=`AAPL"
   ]
  },
  {
   "cell_type": "markdown",
   "metadata": {},
   "source": [
    "We can also operate on the on-disk table by specifying it's file handle as the table name:"
   ]
  },
  {
   "cell_type": "code",
   "execution_count": 50,
   "metadata": {},
   "outputs": [
    {
     "name": "stdout",
     "output_type": "stream",
     "text": [
      ":data/t1\n",
      "sym  price\n",
      "----------\n",
      "JPM  100  \n",
      "AMZN 200  \n"
     ]
    }
   ],
   "source": [
    "`:data/t1 set ([]sym:`JPM`AMZN`FB;price:100 200 300)\n",
    "select from `:data/t1 where sym in `JPM`AMZN"
   ]
  },
  {
   "cell_type": "markdown",
   "metadata": {},
   "source": [
    "We can update the flat table using it's file handle. Let's say we want to append a new row to the table:"
   ]
  },
  {
   "cell_type": "code",
   "execution_count": 53,
   "metadata": {},
   "outputs": [
    {
     "name": "stdout",
     "output_type": "stream",
     "text": [
      ":data/t1\n",
      ":data/t1\n"
     ]
    }
   ],
   "source": [
    "`:data/t1 upsert (`KX;240) //Appending 1 row\n",
    "`:data/t1 upsert ([]sym:`AAPL`JPM;price:260 140) //appending multiple rows"
   ]
  },
  {
   "cell_type": "markdown",
   "metadata": {
    "reveal": "e02o1e7qz7",
    "reveal-hidden": false
   },
   "source": [
    "##### Exercise \n",
    "\n",
    "Using the table that we created above `t1`, drop the first two rows and save it to disk"
   ]
  },
  {
   "cell_type": "code",
   "execution_count": null,
   "metadata": {
    "reveal": "e02o1e7qz7"
   },
   "outputs": [],
   "source": [
    "`:data/t1 set 2_ get `:data/t1"
   ]
  },
  {
   "cell_type": "code",
   "execution_count": 58,
   "metadata": {},
   "outputs": [
    {
     "name": "stdout",
     "output_type": "stream",
     "text": [
      ":data/t1\n",
      "sym  price\n",
      "----------\n",
      "AAPL 260  \n",
      "JPM  140  \n",
      "KX   240  \n",
      "AAPL 260  \n",
      "JPM  140  \n"
     ]
    }
   ],
   "source": [
    "//your answer here\n",
    "`:data/t1 set 2_get`:data/t1\n",
    "get `:data/t1"
   ]
  },
  {
   "cell_type": "markdown",
   "metadata": {},
   "source": [
    "##### Quiz Time!\n",
    "Try the Flat Files Exercises to test your understanding of saving and loading flat files!"
   ]
  }
 ],
 "metadata": {
  "celltoolbar": "Raw Cell Format",
  "kernelspec": {
   "display_name": "Python 3 (ipykernel)",
   "language": "python",
   "name": "python3"
  },
  "language_info": {
   "codemirror_mode": {
    "name": "ipython",
    "version": 3
   },
   "file_extension": ".py",
   "mimetype": "text/x-python",
   "name": "python",
   "nbconvert_exporter": "python",
   "pygments_lexer": "ipython3",
   "version": "3.11.10"
  },
  "toc": {
   "base_numbering": 1,
   "nav_menu": {
    "height": "430px",
    "width": "160px"
   },
   "number_sections": true,
   "sideBar": true,
   "skip_h1_title": false,
   "title_cell": "Table of Contents",
   "title_sidebar": "Contents",
   "toc_cell": false,
   "toc_position": {},
   "toc_section_display": true,
   "toc_window_display": true
  },
  "widgets": {
   "application/vnd.jupyter.widget-state+json": {
    "state": {},
    "version_major": 2,
    "version_minor": 0
   }
  }
 },
 "nbformat": 4,
 "nbformat_minor": 4
}
