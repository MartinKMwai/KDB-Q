{
 "cells": [
  {
   "cell_type": "code",
   "execution_count": 33,
   "metadata": {
    "autorun": true,
    "editable": false,
    "jupyter": {
     "source_hidden": true
    },
    "tags": [
     "remove-cell"
    ]
   },
   "outputs": [
    {
     "name": "stdout",
     "output_type": "stream",
     "text": [
      "PyKX now running in 'python' mode (default). All cells by default will be run as python code. \n",
      "Include '%%q' at the beginning of each cell to run as q code. \n"
     ]
    }
   ],
   "source": [
    "#;.pykx.disableJupyter()"
   ]
  },
  {
   "cell_type": "code",
   "execution_count": 34,
   "metadata": {
    "autorun": true,
    "editable": false,
    "jupyter": {
     "source_hidden": true
    },
    "tags": [
     "remove-cell"
    ]
   },
   "outputs": [
    {
     "name": "stdout",
     "output_type": "stream",
     "text": [
      "PyKX now running in 'jupyter_qfirst' mode. All cells by default will be run as q code. \n",
      "Include '%%py' at the beginning of each cell to run as python code. \n"
     ]
    }
   ],
   "source": [
    "# https://code.kx.com/pykx/3.0/examples/jupyter-integration.html#q-first-mode\n",
    "import pykx as kx\n",
    "kx.util.jupyter_qfirst_enable()"
   ]
  },
  {
   "cell_type": "markdown",
   "metadata": {},
   "source": [
    "**Learning Outcomes**\n",
    "\n",
    "* What is a namespace?\n",
    "* How to identify a namespace\n",
    "* How to create a namespace\n",
    "* The difference between fully-qualified method and `\\d` method\n",
    "* Practical usage \n",
    "* What are internal functions?"
   ]
  },
  {
   "cell_type": "markdown",
   "metadata": {
    "heading_collapsed": true,
    "jp-MarkdownHeadingCollapsed": true
   },
   "source": [
    "# Introduction\n",
    "[Namespaces](https://code.kx.com/q4m3/12_Workspace_Organization/#121-namespaces), also called contexts or directories, can be used to arrange code into logical groupings to make it easier to read and guard against name clashes between libraries - e.g.  multiple scripts that have a `saveTable` function defined."
   ]
  },
  {
   "cell_type": "markdown",
   "metadata": {
    "hidden": true
   },
   "source": [
    "<img src=\"../images/qbies.png\" style=\"width: 50px;padding-right:5px;padding-top:15px;padding-left:5px;\" align=\"left\"/>\n",
    "\n",
    "<p style='color:#273a6e'><i>If you assign to a namespace within a function, this is another way of setting a variable globally outside function scope - e.g. <code>{.debug.catch:(x;y);x*y}</code> and can often be helpful when debugging! </i></p>"
   ]
  },
  {
   "cell_type": "markdown",
   "metadata": {
    "hidden": true
   },
   "source": [
    "## What <i>is</i> a namespace? \n",
    "A namespace is really a dictionary! That's a simplification, but in terms of viewing (and accessing) a namespace they are structured like dictionaries with nulls for the first key/value pair.\n",
    "\n",
    "For example, the [.Q](https://code.kx.com/q/ref/dotq/) namespace in kdb+/q is a built-in namespace that functions to perform commonly utilised tasks: "
   ]
  },
  {
   "cell_type": "code",
   "execution_count": 5,
   "metadata": {
    "hidden": true
   },
   "outputs": [
    {
     "name": "stdout",
     "output_type": "stream",
     "text": [
      "         | ::\n",
      "ajf0     | k){[f;g;x;y;z]x,:();z:0!z;d:$[g;x_z;z];g:(:;^)f;f:(,;^)f;$[&/j:-1<..\n",
      "k        | 4f\n",
      "K        | 0Nd\n",
      "host     | ![-12]\n",
      "addr     | ![-13]\n",
      "gc       | ![-20]\n",
      "ts       | k){-34!(x;y)}\n",
      "gz       | ![-35]\n",
      "w        | k){`used`heap`peak`wmax`mmap`mphy`syms`symw!(.\"\\\\w\"),.\"\\\\w 0\"}\n",
      "res      | `abs`acos`asin`atan`avg`bin`binr`cor`cos`cov`delete`dev`div`do`enl..\n",
      "addmonths| k){(\"d\"$m+y)+x-\"d\"$m:\"m\"$x}\n",
      "Xf       | k){y 1:0xfe20,(\"x\"$77+@x$()),13#0x00;(`$($y),\"#\")1:0x}\n",
      "Cf       | k){y 1:0xfe20,(\"x\"$77+@x$()),13#0x00;(`$($y),\"#\")1:0x}[`char]\n",
      "f        | k){$[^y;\"\";y<0;\"-\",f[x;-y];y<1;1_f[x;10+y];9e15>j:\"j\"$y*prd x#10f;..\n",
      "fmt      | k){$[x<#y:f[y;z];x#\"*\";(-x)$y]}\n",
      "pykxld   | k){x:(\"#!\"~2#*x)_x:-1!'x;+(1+*:'i;)@\"\\n\"/:'x i:(&|1^\\|0N 0 1@\"/ \"?..\n",
      "ff       | k){$[&/(!+y)in f:!+x;x;x,'(f_y)(#x)#0N]}\n",
      "fl       | k){$[98h=t:@x;+fl[+x;+y];99h=t;@[x,y;f;:;x[f]fl'y f@:&(f:!x)in!y];..\n",
      "opt      | k){[o]x::$[#i:&o like\"-[^0-9]*\";i[0]#o;o];((`$1_*:)'o)!1_'o:i_o}\n",
      "def      | k){x,((!y)#x){$[0h>@x;*:;::](@*x)$y}'y}\n",
      "ld       | ![-39]\n",
      "..\n"
     ]
    }
   ],
   "source": [
    ".Q    //by calling .Q you can see the namespace dictionary"
   ]
  },
  {
   "cell_type": "markdown",
   "metadata": {
    "hidden": true
   },
   "source": [
    "Standard practice when using namespaces is to use dot (`.`) notation when accessing them, though standard dictionary accessing can be used too:"
   ]
  },
  {
   "cell_type": "code",
   "execution_count": 6,
   "metadata": {
    "hidden": true
   },
   "outputs": [
    {
     "name": "stdout",
     "output_type": "stream",
     "text": [
      "0\n",
      "0\n"
     ]
    }
   ],
   "source": [
    ".Q.gc[]        //convention for using namespaces\n",
    ".Q[`gc][]      //people don't use this syntax with namespaces, though it will work \n",
    "                    //we'll see later that we use this for setting context"
   ]
  },
  {
   "cell_type": "markdown",
   "metadata": {
    "hidden": true
   },
   "source": [
    "[`.Q.gc[]`](https://code.kx.com/q/ref/dotq/#qgc-garbage-collect) returns the amount of memory that was returned to the OS. We will discuss this function more in detail when we are looking at the memory management module.  "
   ]
  },
  {
   "cell_type": "markdown",
   "metadata": {
    "hidden": true
   },
   "source": [
    "<img src=\"../images/qbies.png\" style=\"width: 50px;padding-right:5px;padding-top:25px;padding-left:5px;\" align=\"left\"/>\n",
    "\n",
    "<p style='color:#273a6e'><i>Namespaces are often created on initialization of processes to hold values which may be used within code. <br>  </i></p>"
   ]
  },
  {
   "cell_type": "markdown",
   "metadata": {
    "hidden": true
   },
   "source": [
    "## Navigating Namespaces\n",
    "The way in which a namespace is more than just a standard dictionary, is that we can \"step into\" our namespace view. This process of \"stepping into\" a namespace is referred to as changing the working context, and is best illustrated by an example:"
   ]
  },
  {
   "cell_type": "code",
   "execution_count": null,
   "metadata": {
    "hidden": true
   },
   "outputs": [],
   "source": [
    "f: 1;          //defining f in our global view \n",
    "-1 \"Value of f in global (`.) namespace:\", string f; \n",
    "\n",
    "//changing into our namespace view \n",
    "\\d .namespace  // \\d lets us specify the namespace we want to work in \n",
    "f: 2;          //defining f within the .namespace view\n",
    "\n",
    "-1 \"Value of f in .namespace:\", string f;              \n",
    "\\d .           //changing back to global view \n",
    "\n",
    "//in global view \n",
    "-1 \"Value of f in global (`.) namespace:\", string f;      \n"
   ]
  },
  {
   "cell_type": "markdown",
   "metadata": {
    "hidden": true
   },
   "source": [
    "It's clearer to see this concept if viewing it from a terminal:\n",
    "\n",
    "```\n",
    "KDB+ 4.0 2020.03.17 Copyright (C) 1993-2020 Kx Systems\n",
    "m64/ 12(16)core 32768MB fionnualacarr fionnualamacbook.local 192.168.1.6 EXPIRE 2021.03.30 fcarr@kx.com KOD #4169981\n",
    "\n",
    "q)f: 1\n",
    "q)\\d .namespace       //stepping into .namespace\n",
    "q.namespace)f:2       //defining f in .namespace\n",
    "q.namespace)f\n",
    "2\n",
    "q.namespace)\\d .      //stepping out of .namespace \n",
    "q)f\n",
    "1\n",
    "```\n",
    "\n",
    "And similarly within functions the view namespace is what is referenced as the \"global\" namespace: "
   ]
  },
  {
   "cell_type": "code",
   "execution_count": null,
   "metadata": {
    "hidden": true
   },
   "outputs": [],
   "source": [
    "f: 1;          //defining f in our global view \n",
    "-1 \"Value of 'function global {f}[]' f in global (`.) namespace:\", string {f}[]; //a niladaic function referencing 'global'f\n",
    " \n",
    "//changing into our namespace view \n",
    "\\d .namespace  // \\d lets us specify the namespace we want to work in \n",
    "f: 2;          //defining f within the .namespace view\n",
    "\n",
    "-1 \"Value of 'function global {f}[]' in .namespace:\", string {f}[];              \n",
    "\\d .           //changing back to global view \n",
    "\n",
    "//in global view \n",
    "-1 \"Value of 'function global {f}[]' f in global (`.) namespace:\", string {f}[];      \n"
   ]
  },
  {
   "cell_type": "markdown",
   "metadata": {
    "heading_collapsed": true,
    "jp-MarkdownHeadingCollapsed": true
   },
   "source": [
    "# How to identify a namespace\n",
    "Namespaces are identified by a leading dot in their names - e.g. `.space` references a namespace called space.\n",
    "\n",
    "The following namespaces are already preloaded in your kdb+/q session by default:\n",
    "\n",
    "|namespaces|contents|\n",
    "|:----------|:--------|\n",
    "|[.h](https://code.kx.com/q/ref/doth/)|Functions for converting files into various formats and for web-console display|\n",
    "|[.j](https://code.kx.com/q/ref/dotj/) | Functions for converting between JSON and q dictionaries|\n",
    "|[.Q](https://code.kx.com/q/ref/dotq/) | Utility functions|\n",
    "|[.m](https://code.kx.com/q/ref/dotm/) (v 4.0+) | Used to allow explicit allocation to optane memory|\n",
    "|[.z](https://code.kx.com/q/ref/dotz/) | System variables and functions, and hooks for callbacks|"
   ]
  },
  {
   "cell_type": "markdown",
   "metadata": {
    "hidden": true
   },
   "source": [
    "<img src=\"../images/qbies.png\" style=\"width: 50px;padding-right:5px;padding-top:25px;padding-left:5px;\" align=\"left\"/>\n",
    "\n",
    "<p style='color:#273a6e'><i> One character namespaces (like <code>.h</code>) are reserved exclusively for use by the KX software itself.<br>  </i></p>\n"
   ]
  },
  {
   "cell_type": "markdown",
   "metadata": {
    "hidden": true
   },
   "source": [
    "We can find the list of namespaces that are present in the process by using the `key` function: "
   ]
  },
  {
   "cell_type": "code",
   "execution_count": 7,
   "metadata": {
    "hidden": true
   },
   "outputs": [
    {
     "name": "stdout",
     "output_type": "stream",
     "text": [
      "`q`Q`h`j`o`pykx`comkxic`kurl`com_kx_log`s`p\n"
     ]
    }
   ],
   "source": [
    "key `       "
   ]
  },
  {
   "cell_type": "markdown",
   "metadata": {
    "hidden": true,
    "reveal": "c7bd0cr8r5i",
    "reveal-hidden": false
   },
   "source": [
    "##### Exercise \n",
    "\n",
    "Let's use what we know about namespaces to investigate and return all the variable names of the contents of the `.q` namespace. (i.e. the names of all functions and variable defined with that namespace)"
   ]
  },
  {
   "cell_type": "code",
   "execution_count": 8,
   "metadata": {
    "hidden": true,
    "reveal": "c7bd0cr8r5i"
   },
   "outputs": [
    {
     "name": "stdout",
     "output_type": "stream",
     "text": [
      "``neg`not`null`string`reciprocal`floor`ceiling`signum`mod`xbar`xlog`and`or`ea..\n"
     ]
    }
   ],
   "source": [
    "key `.q   //key returns the list of all keys in a dictionary\n",
    "                //for our namespace that is the list of all the variables defined within it!"
   ]
  },
  {
   "cell_type": "markdown",
   "metadata": {
    "hidden": true
   },
   "source": [
    "Some of these should look familiar! \n",
    "\n",
    "Some functions in q are defined as expressions of a lower level language called `k` - when we start a `q` process our command prompt is prefaced by `q)` to indicate the namespace we are working in!"
   ]
  },
  {
   "cell_type": "code",
   "execution_count": null,
   "metadata": {
    "hidden": true
   },
   "outputs": [],
   "source": [
    "//your answer here "
   ]
  },
  {
   "cell_type": "markdown",
   "metadata": {
    "hidden": true
   },
   "source": [
    "<img src=\"../images/qbies.png\" style=\"width: 50px;padding-right:5px;padding-top:10px;padding-left:5px;\" align=\"left\"/>\n",
    "\n",
    "<p style='color:#273a6e'><i> In general, functions, variables and constants should only reside in the root namespace if they are accessed by external processes. If not, they should reside in a logical namespace. </i></p>"
   ]
  },
  {
   "cell_type": "markdown",
   "metadata": {
    "heading_collapsed": true
   },
   "source": [
    "# How to create a namespace\n",
    "There are two options for defining a namespace:\n",
    "\n",
    "   1) The fully-qualified method (dot \".\" prefix)\n",
    "   \n",
    "   2) The `\\d` (backslash d) method\n",
    "   \n",
    "   "
   ]
  },
  {
   "cell_type": "markdown",
   "metadata": {
    "hidden": true
   },
   "source": [
    "## Fully Qualified Method (dot \".\" prefix)\n",
    "When using this method, \"globals\" will be drawn from the context in which you are defining your function/variable. In order to have this recognised as a namespace we preface our functions/variable with a `.` (dot). "
   ]
  },
  {
   "cell_type": "code",
   "execution_count": 37,
   "metadata": {
    "hidden": true
   },
   "outputs": [
    {
     "name": "stdout",
     "output_type": "stream",
     "text": [
      "15\n"
     ]
    }
   ],
   "source": [
    "//specifying the variable in the global context\n",
    "f:15\n",
    ".ns.f:10           //specifying a variable f of the same name in the namespace ns\n",
    ".ns.function:{f}   //in ns also creating a function to return \"f\" from the creating context \n",
    ".ns.function[]     //what do you think this will return? "
   ]
  },
  {
   "cell_type": "markdown",
   "metadata": {
    "hidden": true
   },
   "source": [
    "Let's suppose we wanted to write some lambdas that we can use when working with cylinders. We can place all of these in a `.cylinder` namespace (notice the dot at the start):"
   ]
  },
  {
   "cell_type": "code",
   "execution_count": 38,
   "metadata": {
    "hidden": true
   },
   "outputs": [
    {
     "name": "stdout",
     "output_type": "stream",
     "text": [
      "                | ::\n",
      "getArea         | {PI*x*x*y}\n",
      "totalSurfaceArea| {2*PI*x*x+y}\n",
      "dim             | ``rad`len!(::;3;10)\n"
     ]
    }
   ],
   "source": [
    "PI:3.14159                     //defining pi as a global \n",
    ".cylinder.getArea:{PI*x*x*y}   //creating a function that will calculate the volume of our cylinder \n",
    ".cylinder.totalSurfaceArea:{2*PI*x*x+y} //creating a function that will calculate total surface area of our cylinder\n",
    ".cylinder.dim.rad:3            //creating a nested namespace to store our dimensions\n",
    ".cylinder.dim.len:10\n",
    ".cylinder"
   ]
  },
  {
   "cell_type": "markdown",
   "metadata": {
    "hidden": true
   },
   "source": [
    "Looking at the `dim` entry in `.cylinder` we can see that it has created a general dictionary which has our cylinder dimensions stored within it. As a result of us using the fully defined method to describe the `.cylinder.getArea` function it has access to the root global `PI` and we can run it successfully: "
   ]
  },
  {
   "cell_type": "code",
   "execution_count": 39,
   "metadata": {
    "hidden": true
   },
   "outputs": [
    {
     "name": "stdout",
     "output_type": "stream",
     "text": [
      "282.7431\n"
     ]
    }
   ],
   "source": [
    ".cylinder.getArea[.cylinder.dim.rad;.cylinder.dim.len]"
   ]
  },
  {
   "cell_type": "markdown",
   "metadata": {
    "hidden": true
   },
   "source": [
    "<img src=\"../images/qbies.png\" style=\"width: 50px;padding-right:5px;padding-top:5px;padding-left:5px;\" align=\"left\"/>\n",
    "\n",
    "<p style='color:#273a6e'><i>Global Constants that are visible by all functions generally use the ALL_CAPS_UNDERSCORE convention e.g. TICK_PERIOD, LOG_LEVEL etc</i></p>\n"
   ]
  },
  {
   "cell_type": "markdown",
   "metadata": {
    "hidden": true
   },
   "source": [
    "##### Functional notation \n",
    "As always, in kdb+/q we can perform updates functionally. To add new items to our namespace we can use the `@`(amend/apply) operator to directly update the namespace with new values we want to add: "
   ]
  },
  {
   "cell_type": "code",
   "execution_count": 42,
   "metadata": {
    "hidden": true
   },
   "outputs": [
    {
     "name": "stdout",
     "output_type": "stream",
     "text": [
      ".cylinder\n",
      "                | ::\n",
      "getArea         | {PI*x*x*y}\n",
      "totalSurfaceArea| {2*PI*x*x+y}\n",
      "dim             | ``rad`len!(::;3;10)\n",
      "material        | `steel\n"
     ]
    }
   ],
   "source": [
    "@[`.cylinder;`material;:;`steel]\n",
    ".cylinder"
   ]
  },
  {
   "cell_type": "markdown",
   "metadata": {
    "hidden": true
   },
   "source": [
    "**Be careful though! We can only functionally amend namespaces which have already been created.**"
   ]
  },
  {
   "cell_type": "code",
   "execution_count": null,
   "metadata": {
    "hidden": true
   },
   "outputs": [],
   "source": [
    "@[`.myNewNamespace;`a;:;1] //this will throw an error"
   ]
  },
  {
   "cell_type": "code",
   "execution_count": 43,
   "metadata": {
    "hidden": true
   },
   "outputs": [
    {
     "name": "stdout",
     "output_type": "stream",
     "text": [
      " | ::\n",
      "a| 1\n"
     ]
    }
   ],
   "source": [
    ".myNewNamespace.a: 1  //direct assignment will create the namespace if it doesn't exist\n",
    ".myNewNamespace"
   ]
  },
  {
   "cell_type": "markdown",
   "metadata": {
    "hidden": true
   },
   "source": [
    "##### Deleting from a namespace \n",
    "\n",
    "If we want to delete a function or a variable from a namespace:"
   ]
  },
  {
   "cell_type": "code",
   "execution_count": 44,
   "metadata": {
    "hidden": true
   },
   "outputs": [
    {
     "name": "stdout",
     "output_type": "stream",
     "text": [
      ".cylinder\n",
      "        | ::\n",
      "getArea | {PI*x*x*y}\n",
      "dim     | ``rad`len!(::;3;10)\n",
      "material| `steel\n"
     ]
    }
   ],
   "source": [
    "delete totalSurfaceArea from `.cylinder //deleting function as we don't use it\n",
    ".cylinder"
   ]
  },
  {
   "cell_type": "markdown",
   "metadata": {
    "hidden": true
   },
   "source": [
    "## The `\\d` method\n",
    "The second method involves using `\\d` to first move into the namespace specified."
   ]
  },
  {
   "cell_type": "code",
   "execution_count": 45,
   "metadata": {
    "hidden": true
   },
   "outputs": [
    {
     "name": "stdout",
     "output_type": "stream",
     "text": [
      "{2*PI*x}\n",
      "                | ::\n",
      "getArea         | {PI*x*x*y}\n",
      "dim             | ``rad`len!(::;3;10)\n",
      "material        | `steel\n",
      "getCircumference| {2*PI*x}\n"
     ]
    }
   ],
   "source": [
    "\\d .cylinder\n",
    "getCircumference:{2*PI*x}           // and define new ones\n",
    "getCircumference\n",
    "\\d .                                // move back to root, . is the root namespace\n",
    ".cylinder                             // now we see .circle has changed"
   ]
  },
  {
   "cell_type": "markdown",
   "metadata": {
    "hidden": true
   },
   "source": [
    "<img src=\"../images/qbies.png\" style=\"width: 50px;padding-right:5px;padding-top:10px;padding-left:5px;\" align=\"left\"/>\n",
    "\n",
    "<p style='color:#273a6e'><i> In jupyter notebooks, we need to move in and out of the namespace in the same cell. In the terminal enviroment, it is much easier to see what is going on as our context is indicated on the right hand side prompt e.g. <code>q.ns)</code>. Try it out!</i></p>"
   ]
  },
  {
   "cell_type": "markdown",
   "metadata": {
    "hidden": true
   },
   "source": [
    "What do you think will be returned by the below command? Why?"
   ]
  },
  {
   "cell_type": "code",
   "execution_count": 48,
   "metadata": {
    "hidden": true
   },
   "outputs": [],
   "source": [
    "//.cylinder.getCircumference[.cylinder.dim.rad]   //calling our circumference example with the radius value"
   ]
  },
  {
   "cell_type": "markdown",
   "metadata": {
    "hidden": true
   },
   "source": [
    "So what if we *want* to use the `\\d` method, but still reference a root level global variable?  "
   ]
  },
  {
   "cell_type": "code",
   "execution_count": 49,
   "metadata": {
    "hidden": true
   },
   "outputs": [
    {
     "name": "stdout",
     "output_type": "stream",
     "text": [
      "                | ::\n",
      "getArea         | {PI*x*x*y}\n",
      "dim             | ``rad`len!(::;3;10)\n",
      "material        | `steel\n",
      "getCircumference| {2*(`.[`PI])*x}\n"
     ]
    }
   ],
   "source": [
    "\\d .cylinder\n",
    "getCircumference:{2*(`. `PI)*x}      //this change is a dicitonary lookup! \n",
    "getCircumference:{2*(`.[`PI])*x}     //restating more explicitly\n",
    "\\d .                                // move back to root, `. is the root namespace\n",
    "\n",
    ".cylinder   "
   ]
  },
  {
   "cell_type": "code",
   "execution_count": 50,
   "metadata": {
    "hidden": true
   },
   "outputs": [
    {
     "name": "stdout",
     "output_type": "stream",
     "text": [
      "18.84954\n"
     ]
    }
   ],
   "source": [
    ".cylinder.getCircumference[.cylinder.dim.rad]  "
   ]
  },
  {
   "cell_type": "markdown",
   "metadata": {
    "hidden": true
   },
   "source": [
    "The `\\d` method is used when writing scripts and cannot be called within a function. "
   ]
  },
  {
   "cell_type": "markdown",
   "metadata": {
    "hidden": true,
    "reveal": "6yy47510ekg",
    "reveal-hidden": true
   },
   "source": [
    "##### Exercise\n",
    "\n",
    "Create a global variable called `INT_RATE` with a value of 0.03 - this will be our interest rate. \n",
    "\n",
    "Create a namespace called `interest` that contains the values \n",
    "* `p`, value 300  (principal amount)\n",
    "* `investTime`, value  5 (years)\n",
    "* `simpleInterest`, a  function that will calculate the simple interest (interestRate x investTime x principal amount )"
   ]
  },
  {
   "cell_type": "code",
   "execution_count": null,
   "metadata": {
    "hidden": true,
    "reveal": "6yy47510ekg"
   },
   "outputs": [],
   "source": [
    "//assuming simpleInterest function is niladic: \n",
    "INT_RATE:0.03      //Global so kept in the root context\n",
    "\n",
    "\\d .interest       //change to namespace we want to use\n",
    "p: 300;            //principle amount - in namespace interest so don't use the leading .\n",
    "investTime: 5      //investTime\n",
    "\\d .               //back to root \n",
    ".interest\n",
    "\n",
    "//defining the simple interest function - since it needs to use INT_RATE which is in the root context \n",
    "   //we use the fully qualified method\n",
    ".interest.simpleInterest:{INT_RATE*.interest.investTime*.interest.p}\n",
    "\n",
    "//calling this \n",
    ".interest.simpleInterest[]\n",
    "\n",
    "//changing our value of Interest will cause our function value to change since it's evaluated at run time\n",
    "INT_RATE:0.04 \n",
    ".interest.simpleInterest[]"
   ]
  },
  {
   "cell_type": "code",
   "execution_count": 52,
   "metadata": {
    "hidden": true,
    "reveal": "6yy47510ekg"
   },
   "outputs": [
    {
     "name": "stdout",
     "output_type": "stream",
     "text": [
      "              | ::\n",
      "principal     | 300\n",
      "investmentTime| 5\n",
      "simpleInterest| {[p;r;investTime]p*r*investTime}\n",
      "p             | 300\n",
      "investTime    | 5\n",
      "45f\n"
     ]
    }
   ],
   "source": [
    "//assuming simpleInterest function takes arguments\n",
    "INT_RATE:0.03      //Global so kept in the root context\n",
    "\n",
    "\\d .interest       //change to namespace we want to use\n",
    "p: 300;            //principle amount - in namespace interest so don't use the leading .\n",
    "investTime: 5      //investTime\n",
    "simpleInterest:{[p;r;investTime]p*r*investTime}   //defining the function in our namespace\n",
    "\\d .               //back to root \n",
    "\n",
    ".interest\n",
    "\n",
    "//calling our function: \n",
    ".interest.simpleInterest[.interest.p;INT_RATE;.interest.investTime]"
   ]
  },
  {
   "cell_type": "code",
   "execution_count": 51,
   "metadata": {
    "hidden": true
   },
   "outputs": [
    {
     "name": "stdout",
     "output_type": "stream",
     "text": [
      "45f\n"
     ]
    }
   ],
   "source": [
    "/write your code here\n",
    "INT_RATE:0.03\n",
    "\n",
    ".interest.principal:300\n",
    ".interest.investmentTime:5\n",
    ".interest.simpleInterest:{INT_RATE * x*y}\n",
    ".interest.simpleInterest [.interest.principal;.interest.investmentTime]"
   ]
  },
  {
   "cell_type": "markdown",
   "metadata": {
    "heading_collapsed": true
   },
   "source": [
    "# Method differences and appropriate usage \n",
    "The main distinction between the two methods is the context available for functions at runtime - a simple rule-of-thumb to decide which to use is to ask the question \"What context variables do I need (i.e. reference) in my code?\"."
   ]
  },
  {
   "cell_type": "markdown",
   "metadata": {
    "hidden": true
   },
   "source": [
    " A secondary distinction is that we cannot use the `\\d` method within a function:"
   ]
  },
  {
   "cell_type": "code",
   "execution_count": null,
   "metadata": {
    "hidden": true
   },
   "outputs": [],
   "source": [
    "{system\"\\d myNewNameSpace\";} []     //will throw an error!"
   ]
  },
  {
   "cell_type": "markdown",
   "metadata": {
    "hidden": true
   },
   "source": [
    "## Which method to use\n"
   ]
  },
  {
   "cell_type": "markdown",
   "metadata": {
    "hidden": true
   },
   "source": [
    "This is a matter of preference. If our namespace functions will frequently be accessing variables and functions in the root namespace, the fully-qualified method is best. On the contrary, if we want our code to be logically separated akin to other languages where sub-namespaces cannot naturally \"see\" above them, we may prefer the \\d . method. \n",
    "\n",
    "There is no discernible performance impact one way or the other. "
   ]
  },
  {
   "cell_type": "markdown",
   "metadata": {
    "heading_collapsed": true,
    "hidden": true
   },
   "source": [
    "## Worked Example \n"
   ]
  },
  {
   "cell_type": "markdown",
   "metadata": {
    "hidden": true
   },
   "source": [
    "### Simple\n",
    "The following code is an example of using the `.log` namespace to store functions related to logging out messages. It is reproduced using the `\\d` and fully defined method, to allow you to compare and contrast!"
   ]
  },
  {
   "cell_type": "markdown",
   "metadata": {
    "hidden": true,
    "reveal": "7g30phd2a35",
    "reveal-hidden": true
   },
   "source": [
    "<img src=\"../images/qbies.png\" style=\"width: 50px;padding-right:5px;padding-top:5px;padding-left:5px;\" align=\"left\"/>\n",
    "\n",
    "<p style='color:#273a6e'><i>Quick Recap- Do you remember what -1 and -2 are? </i></p>"
   ]
  },
  {
   "cell_type": "markdown",
   "metadata": {
    "hidden": true,
    "reveal": "7g30phd2a35"
   },
   "source": [
    "If you previously attended the KX fundamentals course, we covered this when we were looking at string manipulation.\n",
    "When displaying output, we can use:\n",
    "* [Stdout](https://code.kx.com/q/basics/handles/) - 1&-1\n",
    "* [Stderr](https://code.kx.com/q/basics/handles/#file-stdout-stderr) - 2&-2"
   ]
  },
  {
   "cell_type": "code",
   "execution_count": 53,
   "metadata": {
    "hidden": true,
    "reveal": "7g30phd2a35"
   },
   "outputs": [
    {
     "name": "stdout",
     "output_type": "stream",
     "text": [
      "Hello World\n"
     ]
    }
   ],
   "source": [
    "-1\"Hello World\"; a:`other`stuff;"
   ]
  },
  {
   "cell_type": "code",
   "execution_count": 10,
   "metadata": {
    "hidden": true,
    "reveal": "7g30phd2a35"
   },
   "outputs": [
    {
     "name": "stdout",
     "output_type": "stream",
     "text": [
      "4\n"
     ]
    },
    {
     "name": "stderr",
     "output_type": "stream",
     "text": [
      "Errors in Jupyter are indicated by a red band\n"
     ]
    }
   ],
   "source": [
    "-2 \"Errors in Jupyter are indicated by a red band\";2+2  //NB execution isn't stopped by writing to stderr"
   ]
  },
  {
   "cell_type": "code",
   "execution_count": 54,
   "metadata": {
    "hidden": true
   },
   "outputs": [
    {
     "name": "stderr",
     "output_type": "stream",
     "text": [
      "2025.03.09D01:00:52.254406346|That's it?\n"
     ]
    }
   ],
   "source": [
    "//\\d method\n",
    "\\d .log \n",
    "info:{ -1 string[.z.p],\"|\",x;}   //information message \n",
    "err:{-2 string[.z.p],\"|\",x;}     //error message \n",
    "\\d . \n",
    "\n",
    ".log.err[\"That's it?\"]"
   ]
  },
  {
   "cell_type": "code",
   "execution_count": 55,
   "metadata": {
    "hidden": true
   },
   "outputs": [
    {
     "name": "stderr",
     "output_type": "stream",
     "text": [
      "2025.03.09D01:00:59.392307844|That's it?\n"
     ]
    }
   ],
   "source": [
    "//fully defined method\n",
    " \n",
    ".log.info:{ -1 string[.z.p],\"|\",x;}   //information message \n",
    ".log.err:{-2 string[.z.p],\"|\",x;}     //error message \n",
    "\n",
    ".log.err[\"That's it?\"]"
   ]
  },
  {
   "cell_type": "markdown",
   "metadata": {
    "hidden": true
   },
   "source": [
    "There really isn't anything in what we're doing above to make this anything other than a preference choice!"
   ]
  },
  {
   "cell_type": "markdown",
   "metadata": {
    "hidden": true
   },
   "source": [
    "### More complicated\n",
    "Lets consider the potentially more realistic case where we might have a global variable setting our debug level (`DEBUG_LEVEL`) which can either be set to `DEBUG` or `NONE`. If we are set to `DEBUG` we want to print our information logs, otherwise we don't. \n"
   ]
  },
  {
   "cell_type": "code",
   "execution_count": 56,
   "metadata": {
    "hidden": true
   },
   "outputs": [
    {
     "name": "stdout",
     "output_type": "stream",
     "text": [
      "2025.03.09D01:01:18.654837044|Now we're moving on to the next step ...\n"
     ]
    }
   ],
   "source": [
    "//\\d method\n",
    "DEBUG_LEVEL:`DEBUG\n",
    "\n",
    "\n",
    "\\d .log \n",
    "info:{ if[`DEBUG~ `.[`DEBUG_LEVEL];-1 string[.z.p],\"|\",x];}   //information message \n",
    "                                                                //checking the root context explicitly for our setting\n",
    "err:{-2 string[.z.p],\"|\",x;}                                  //error message \n",
    "\\d . \n",
    "\n",
    ".log.info[\"Now we're moving on to the next step ...\"]"
   ]
  },
  {
   "cell_type": "code",
   "execution_count": 57,
   "metadata": {
    "hidden": true
   },
   "outputs": [],
   "source": [
    "DEBUG_LEVEL:`NONE\n",
    ".log.info[\"And the one after \"]                               //note no output!"
   ]
  },
  {
   "cell_type": "markdown",
   "metadata": {
    "hidden": true
   },
   "source": [
    "Fully defined method: "
   ]
  },
  {
   "cell_type": "code",
   "execution_count": 58,
   "metadata": {
    "hidden": true
   },
   "outputs": [
    {
     "name": "stdout",
     "output_type": "stream",
     "text": [
      "2025.03.09D01:01:32.887349136|Now we're moving on to the next step ...\n"
     ]
    }
   ],
   "source": [
    "//fully defined method\n",
    "DEBUG_LEVEL:`DEBUG\n",
    "\n",
    "\n",
    ".log.info:{ if[`DEBUG~DEBUG_LEVEL; -1 string[.z.p],\"|\",x];}   //information message \n",
    "                                                                //checking the root context already\n",
    ".log.err:{-2 string[.z.p],\"|\",x;}                             //error message \n",
    "\n",
    "\n",
    ".log.info[\"Now we're moving on to the next step ...\"]"
   ]
  },
  {
   "cell_type": "code",
   "execution_count": 59,
   "metadata": {
    "hidden": true
   },
   "outputs": [],
   "source": [
    "DEBUG_LEVEL:`NONE\n",
    ".log.info[\"And the one after \"]                               //note no output!"
   ]
  },
  {
   "cell_type": "markdown",
   "metadata": {
    "heading_collapsed": true
   },
   "source": [
    "# Namespaces and Internal functions \n",
    "\n",
    "## What is an internal function?\n",
    "\n",
    "An internal function is classified as the operator `!` with a negative integer as it's left argument. They are exposed infrastructure mainly for use by language implementers and may be redefined in subsequent releases. They also allow new language features to be tried on a provisional basis.\n",
    "A list of all internal functions can be found [here](https://code.kx.com/q/basics/internal/)."
   ]
  },
  {
   "cell_type": "markdown",
   "metadata": {
    "hidden": true,
    "jp-MarkdownHeadingCollapsed": true
   },
   "source": [
    "## What do they have to do with Namespaces?\n",
    "\n",
    "Generally the most important internal functions are added into namespaces over time. Once the internal functions are brought into namespaces, they become an integral part of the language and are guaranteed to be supported in later versions of kdb+. We would recommend using the namespace equivalent of any internal function if it exists. Below are the examples of the currently mapped internal functions:\n",
    "\n",
    "|Internal Functions|Namespace Mapping|Description|\n",
    "|:----------|:--------|:--------|\n",
    "|-3!|[.Q.s1](https://code.kx.com/q/ref/dotq/#qs1-string-representation)|String Representation|\n",
    "|-12!|[.Q.host](https://code.kx.com/q/ref/dotq/#qhost-hostname)|Hostname|\n",
    "|-13!|[.Q.addr](https://code.kx.com/q/ref/dotq/#qaddr-ip-address)|IP address|\n",
    "|-20!|[.Q.gc](https://code.kx.com/q/ref/dotq/#qgc-garbage-collect)|Garbage Collect|\n",
    "|-29!|[.j.k](https://code.kx.com/q/ref/dotj/#jk-deserialize)|Deserialize|\n",
    "|-31!|[.j.jd](https://code.kx.com/q/ref/dotj/#jjd-serialize-infinity)|Serialize Infinity|\n",
    "|-32!|[.Q.btoa](https://code.kx.com/q/ref/dotq/#qbtoa-b64-encode)|b64 encode|\n",
    "|-34!|[.Q.ts](https://code.kx.com/q/ref/dotq/#qts-time-and-space)|Time and Space|\n",
    "|-35!|[.Q.gz](https://code.kx.com/q/ref/dotq/#qgz-gzip)|GZip|\n",
    "|-37!|[.Q.prf0](https://code.kx.com/q/ref/dotq/#qprf0-code-profiler)|Code Profiler|\n",
    " "
   ]
  },
  {
   "cell_type": "markdown",
   "metadata": {
    "hidden": true
   },
   "source": [
    "## Commonly used internal functions\n",
    "\n",
    "The most popular internal function is the identity function ``ON!x``. "
   ]
  },
  {
   "cell_type": "code",
   "execution_count": 60,
   "metadata": {
    "hidden": true
   },
   "outputs": [
    {
     "name": "stdout",
     "output_type": "stream",
     "text": [
      "hello\n",
      "\"hello\"\n"
     ]
    }
   ],
   "source": [
    "0N!\"hello\" //printing "
   ]
  },
  {
   "cell_type": "markdown",
   "metadata": {
    "hidden": true
   },
   "source": [
    "It's widely used for debugging in which we'll discuss in depth later in the course. Here is an example that illustrates how useful it is when debugging:"
   ]
  },
  {
   "cell_type": "code",
   "execution_count": 61,
   "metadata": {
    "hidden": true
   },
   "outputs": [
    {
     "name": "stdout",
     "output_type": "stream",
     "text": [
      "101b\n"
     ]
    }
   ],
   "source": [
    "fnShow:{sum show x<5} //using show to display the output\n",
    "fnShow[3 6 2]"
   ]
  },
  {
   "cell_type": "markdown",
   "metadata": {
    "hidden": true
   },
   "source": [
    "The function doesn't calculate the summation of `101b` however if we use `0N!`:"
   ]
  },
  {
   "cell_type": "code",
   "execution_count": 62,
   "metadata": {
    "hidden": true
   },
   "outputs": [
    {
     "name": "stdout",
     "output_type": "stream",
     "text": [
      "2i\n",
      "101b\n"
     ]
    }
   ],
   "source": [
    "fnDisplay:{sum 0N!x<5} //replacing show with 0N!\n",
    "fnDisplay[3 6 2]"
   ]
  },
  {
   "cell_type": "markdown",
   "metadata": {
    "hidden": true
   },
   "source": [
    "`0N!` can be added at any point in a function to print out a variable to the screen (equivalent to STDOUT)."
   ]
  },
  {
   "cell_type": "markdown",
   "metadata": {
    "hidden": true
   },
   "source": [
    "Many are replaced by keywords or utilities, use the replacements where they are available!"
   ]
  },
  {
   "cell_type": "code",
   "execution_count": 63,
   "metadata": {
    "hidden": true
   },
   "outputs": [
    {
     "name": "stdout",
     "output_type": "stream",
     "text": [
      "1b\n",
      "0x5d41402abc4b2a76b9719d911017c592\n",
      "0x5d41402abc4b2a76b9719d911017c592\n"
     ]
    }
   ],
   "source": [
    "show x:-15!\"hello\" \n",
    "show y:md5\"hello\"  //-15! was replaced by the keyword md5\n",
    "\n",
    "x~y"
   ]
  },
  {
   "cell_type": "markdown",
   "metadata": {
    "hidden": true
   },
   "source": [
    "<img src=\"../images/qbies.png\" style=\"width: 50px;padding-right:5px;padding-top:5px;padding-left:5px;\" align=\"left\"/>\n",
    "\n",
    "<p style='color:#273a6e'><i>It is recommended to use replacement keyword (<a href=\"https://code.kx.com/q/ref/md5/\">md5</a> in the above case) as the internal function might be redefined in future releases. </i></p>"
   ]
  },
  {
   "cell_type": "markdown",
   "metadata": {
    "hidden": true
   },
   "source": [
    "Log files are replayed when a process shuts down or if we lost data. We can use an internal function ``-11!x`` in where x is a file handle. A simple example is found [here](https://code.kx.com/q/kb/replay-log/).\n",
    "\n",
    "Later in the course, we discuss memory management that we can apply `-21!x` to a compressed file to see some compression stats. "
   ]
  },
  {
   "cell_type": "markdown",
   "metadata": {
    "hidden": true
   },
   "source": [
    "##### Quiz Time!\n",
    "Try the Exercises to have a go at creating and using your own namespaces!"
   ]
  },
  {
   "cell_type": "code",
   "execution_count": 26,
   "metadata": {},
   "outputs": [
    {
     "name": "stdout",
     "output_type": "stream",
     "text": [
      "1 0 0 0 0\n",
      "0 1 0 0 0\n",
      "0 0 1 0 0\n",
      "0 0 0 1 0\n",
      "0 0 0 0 1\n"
     ]
    }
   ],
   "source": [
    "id:{(2#x)#1,x#0}\n",
    "id 5"
   ]
  },
  {
   "cell_type": "code",
   "execution_count": 31,
   "metadata": {},
   "outputs": [
    {
     "name": "stdout",
     "output_type": "stream",
     "text": [
      "1 0 0 0 0\n",
      "0 1 0 0 0\n",
      "0 0 1 0 0\n",
      "0 0 0 1 0\n",
      "0 0 0 0 1\n"
     ]
    }
   ],
   "source": [
    "show id:[(2#5)#1,5#0]"
   ]
  },
  {
   "cell_type": "code",
   "execution_count": 28,
   "metadata": {},
   "outputs": [
    {
     "name": "stdout",
     "output_type": "stream",
     "text": [
      "1 0 0 0 0\n",
      "0 1 0 0 0\n",
      "0 0 1 0 0\n",
      "0 0 0 1 0\n",
      "0 0 0 0 1\n"
     ]
    }
   ],
   "source": [
    "{(2#x)#1,x#0}[5]"
   ]
  },
  {
   "cell_type": "code",
   "execution_count": 29,
   "metadata": {},
   "outputs": [
    {
     "name": "stdout",
     "output_type": "stream",
     "text": [
      "{(2#5)#1,5#0}\n"
     ]
    }
   ],
   "source": [
    "{(2#5)#1,5#0}"
   ]
  },
  {
   "cell_type": "code",
   "execution_count": 30,
   "metadata": {},
   "outputs": [
    {
     "name": "stdout",
     "output_type": "stream",
     "text": [
      "1 0 0 0 0\n",
      "0 1 0 0 0\n",
      "0 0 1 0 0\n",
      "0 0 0 1 0\n",
      "0 0 0 0 1\n"
     ]
    }
   ],
   "source": [
    "[(2#5)#1,5#0]"
   ]
  },
  {
   "cell_type": "code",
   "execution_count": 32,
   "metadata": {},
   "outputs": [
    {
     "name": "stdout",
     "output_type": "stream",
     "text": [
      "1 0 0 0 0\n",
      "0 1 0 0 0\n",
      "0 0 1 0 0\n",
      "0 0 0 1 0\n",
      "0 0 0 0 1\n"
     ]
    }
   ],
   "source": [
    "5 5#1,5#0"
   ]
  },
  {
   "cell_type": "code",
   "execution_count": null,
   "metadata": {},
   "outputs": [],
   "source": []
  }
 ],
 "metadata": {
  "jupytext": {
   "text_representation": {
    "extension": ".q",
    "format_name": "light",
    "format_version": "1.5",
    "jupytext_version": "1.4.1"
   }
  },
  "kernelspec": {
   "display_name": "Python 3 (ipykernel)",
   "language": "python",
   "name": "python3"
  },
  "language_info": {
   "codemirror_mode": {
    "name": "ipython",
    "version": 3
   },
   "file_extension": ".py",
   "mimetype": "text/x-python",
   "name": "python",
   "nbconvert_exporter": "python",
   "pygments_lexer": "ipython3",
   "version": "3.11.10"
  },
  "toc": {
   "base_numbering": 1,
   "nav_menu": {},
   "number_sections": true,
   "sideBar": true,
   "skip_h1_title": false,
   "title_cell": "Table of Contents",
   "title_sidebar": "Contents",
   "toc_cell": false,
   "toc_position": {
    "height": "calc(100% - 180px)",
    "left": "10px",
    "top": "150px",
    "width": "384px"
   },
   "toc_section_display": true,
   "toc_window_display": true
  }
 },
 "nbformat": 4,
 "nbformat_minor": 4
}
