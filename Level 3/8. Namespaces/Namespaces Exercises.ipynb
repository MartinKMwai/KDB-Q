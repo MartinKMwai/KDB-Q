{
 "cells": [
  {
   "cell_type": "code",
   "execution_count": 1,
   "metadata": {
    "autorun": true,
    "editable": false,
    "jupyter": {
     "source_hidden": true
    },
    "tags": [
     "remove-cell"
    ]
   },
   "outputs": [],
   "source": [
    "#;.pykx.disableJupyter()"
   ]
  },
  {
   "cell_type": "code",
   "execution_count": 2,
   "metadata": {
    "autorun": true,
    "editable": false,
    "jupyter": {
     "source_hidden": true
    },
    "tags": [
     "remove-cell"
    ]
   },
   "outputs": [
    {
     "name": "stdout",
     "output_type": "stream",
     "text": [
      "PyKX now running in 'jupyter_qfirst' mode. All cells by default will be run as q code. \n",
      "Include '%%py' at the beginning of each cell to run as python code. \n"
     ]
    }
   ],
   "source": [
    "# https://code.kx.com/pykx/3.0/examples/jupyter-integration.html#q-first-mode\n",
    "import pykx as kx\n",
    "kx.util.jupyter_qfirst_enable()"
   ]
  },
  {
   "cell_type": "markdown",
   "metadata": {},
   "source": [
    "#  KX Training: Exercises - Namespaces\n"
   ]
  },
  {
   "cell_type": "markdown",
   "metadata": {
    "reveal": "sgm62q5bz4",
    "reveal-hidden": true
   },
   "source": [
    "* Using the namespace `.util`, define a function `now` that takes no input, and when called will return the current time in UTC.\n"
   ]
  },
  {
   "cell_type": "code",
   "execution_count": null,
   "metadata": {
    "reveal": "sgm62q5bz4"
   },
   "outputs": [],
   "source": [
    ".util.now:{.z.P}\n",
    ".util.now[]"
   ]
  },
  {
   "cell_type": "code",
   "execution_count": 7,
   "metadata": {},
   "outputs": [
    {
     "name": "stdout",
     "output_type": "stream",
     "text": [
      "2025.03.13D10:34:40.493387407\n"
     ]
    }
   ],
   "source": [
    "//your answer here\n",
    ".util.now:{.z.p}\n",
    ".util.now[]"
   ]
  },
  {
   "cell_type": "markdown",
   "metadata": {
    "reveal": "s991ti1q3lf",
    "reveal-hidden": true
   },
   "source": [
    "* Create a similar function `date` in the `.util` namespace that will return today's UTC date"
   ]
  },
  {
   "cell_type": "code",
   "execution_count": null,
   "metadata": {
    "reveal": "s991ti1q3lf"
   },
   "outputs": [],
   "source": [
    ".util.date:{.z.D} \n",
    ".util.date[]"
   ]
  },
  {
   "cell_type": "code",
   "execution_count": 8,
   "metadata": {},
   "outputs": [
    {
     "name": "stdout",
     "output_type": "stream",
     "text": [
      "2025.03.13\n"
     ]
    }
   ],
   "source": [
    "//your answer here\n",
    ".util.date:{.z.d}\n",
    ".util.date[]"
   ]
  },
  {
   "cell_type": "markdown",
   "metadata": {
    "reveal": "32debmoyvrb",
    "reveal-hidden": true
   },
   "source": [
    "* Create a function `user` in the `.util` namespace that returns the user of the process"
   ]
  },
  {
   "cell_type": "code",
   "execution_count": null,
   "metadata": {
    "reveal": "32debmoyvrb"
   },
   "outputs": [],
   "source": [
    ".util.user:{.z.u};\n",
    ".util.user 1"
   ]
  },
  {
   "cell_type": "code",
   "execution_count": 13,
   "metadata": {},
   "outputs": [
    {
     "name": "stdout",
     "output_type": "stream",
     "text": [
      "jovyan\n"
     ]
    }
   ],
   "source": [
    "//your answer here\n",
    ".util.user:{.z.u}\n",
    ".util.user[]"
   ]
  },
  {
   "cell_type": "markdown",
   "metadata": {
    "reveal": "usv0uy16h99",
    "reveal-hidden": true
   },
   "source": [
    "* Create a new namespace `.log`  and make a function `.log.print` that will print a passed massage to the console prefaced by the current time. Use our previously created `.util.now` function."
   ]
  },
  {
   "cell_type": "code",
   "execution_count": null,
   "metadata": {
    "reveal": "usv0uy16h99"
   },
   "outputs": [],
   "source": [
    ".log.print:{0N!string[.util.now[]],\"|\",x}  //using a pipe to separate for readability, but other delimiters\n",
    "                                                //are also fine. We can repress the return with a ; if required\n",
    ".log.print[\"Logging all day, every day\"]   //print our message!"
   ]
  },
  {
   "cell_type": "code",
   "execution_count": 18,
   "metadata": {},
   "outputs": [
    {
     "name": "stdout",
     "output_type": "stream",
     "text": [
      "\"2025.03.13D10:53:44.798875101: Logging all day, every day\"\n"
     ]
    }
   ],
   "source": [
    "//your answer here\n",
    ".log.print:{0N!string[.util.now[]],\": \",x;}  \n",
    "                                          \n",
    ".log.print[\"Logging all day, every day\"] "
   ]
  },
  {
   "cell_type": "markdown",
   "metadata": {
    "reveal": "eq0anowyej",
    "reveal-hidden": true
   },
   "source": [
    "* Using both functions above, create a new function called `.log.printUser` that will print out the following message:\n",
    "\n",
    "        \"CURRENT TIME|USER is enjoying coding in kdb+ on TODAY's DATE\""
   ]
  },
  {
   "cell_type": "code",
   "execution_count": null,
   "metadata": {
    "reveal": "eq0anowyej"
   },
   "outputs": [],
   "source": [
    ".log.printUser:{.log.print[string[.util.user[]],\" is enjoying coding in kdb+ on \",string[.util.date[]]];};\n",
    ".log.printUser[]"
   ]
  },
  {
   "cell_type": "code",
   "execution_count": 20,
   "metadata": {},
   "outputs": [
    {
     "name": "stdout",
     "output_type": "stream",
     "text": [
      "\"2025.03.13D10:56:20.763579347|jovyanis enjoying coding in kdb+ on 2025.03.13\"\n"
     ]
    }
   ],
   "source": [
    "//your answer here\n",
    ".log.printUser:{0N!string[.util.now[]],\"|\",string[.util.user[1]], \"is enjoying coding in kdb+ on \",string[.util.date[]];}\n",
    ".log.printUser[]"
   ]
  },
  {
   "cell_type": "markdown",
   "metadata": {
    "reveal": "bizpzdmz41",
    "reveal-hidden": false
   },
   "source": [
    "* Create a global variable called CAPS_ON with a value of `1b`. Using the `\\d` method, redefine our `.log.print` function to use this setting to determine whether to print in upper or lower case. "
   ]
  },
  {
   "cell_type": "code",
   "execution_count": null,
   "metadata": {
    "reveal": "bizpzdmz41"
   },
   "outputs": [],
   "source": [
    "//our previous definition of .log.print \n",
    ".log.print:{0N!string[.util.now[]],\"|\",x} \n",
    "//our .log namespace currently\n",
    ".log "
   ]
  },
  {
   "cell_type": "code",
   "execution_count": null,
   "metadata": {
    "reveal": "bizpzdmz41"
   },
   "outputs": [],
   "source": [
    "//setting our root context setting \n",
    "CAPS_ON:1b;\n",
    "\n",
    "\\d .log  //using the \\d method to \"move into\" the .log namespace\n",
    "print:{ msg:$[`.[`CAPS_ON]; upper x; x];\n",
    "        0N!string[.util.now[]],\"|\",msg;}  //repressing output for clarity\n",
    "\\d . \n",
    "\n",
    ".log.print[\"testing\"]"
   ]
  },
  {
   "cell_type": "code",
   "execution_count": null,
   "metadata": {
    "reveal": "bizpzdmz41"
   },
   "outputs": [],
   "source": [
    "CAPS_ON:0b\n",
    ".log.print[\"testing\"]"
   ]
  },
  {
   "cell_type": "code",
   "execution_count": 22,
   "metadata": {},
   "outputs": [],
   "source": [
    "/\n",
    "\\d .log  //using the \\d method to \"move into\" the .log namespace\n",
    "print:{ msg:$[`.[`CAPS_ON]; upper x; x];\n",
    "        0N!string[.util.now[]],\"|\",msg;}  //repressing output for clarity\n",
    "\\d . \n",
    "\n",
    ".log.print[\"testing\"] //got a little confused\n",
    "\\"
   ]
  },
  {
   "cell_type": "code",
   "execution_count": 23,
   "metadata": {},
   "outputs": [
    {
     "name": "stdout",
     "output_type": "stream",
     "text": [
      "1 0 0 0 0\n",
      "0 1 0 0 0\n",
      "0 0 1 0 0\n",
      "0 0 0 1 0\n",
      "0 0 0 0 1\n"
     ]
    }
   ],
   "source": [
    "id:{(2#x)#1,x#0} // identity matrix x\n",
    "id 5"
   ]
  },
  {
   "cell_type": "code",
   "execution_count": null,
   "metadata": {},
   "outputs": [],
   "source": []
  },
  {
   "cell_type": "code",
   "execution_count": null,
   "metadata": {},
   "outputs": [],
   "source": []
  }
 ],
 "metadata": {
  "kernelspec": {
   "display_name": "Python 3 (ipykernel)",
   "language": "python",
   "name": "python3"
  },
  "language_info": {
   "codemirror_mode": {
    "name": "ipython",
    "version": 3
   },
   "file_extension": ".py",
   "mimetype": "text/x-python",
   "name": "python",
   "nbconvert_exporter": "python",
   "pygments_lexer": "ipython3",
   "version": "3.11.10"
  },
  "toc": {
   "base_numbering": 1,
   "nav_menu": {},
   "number_sections": true,
   "sideBar": true,
   "skip_h1_title": false,
   "title_cell": "Table of Contents",
   "title_sidebar": "Contents",
   "toc_cell": false,
   "toc_position": {},
   "toc_section_display": true,
   "toc_window_display": false
  }
 },
 "nbformat": 4,
 "nbformat_minor": 4
}
