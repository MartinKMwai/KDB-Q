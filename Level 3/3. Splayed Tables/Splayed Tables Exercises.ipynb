{
 "cells": [
  {
   "cell_type": "code",
   "execution_count": 58,
   "metadata": {
    "autorun": true,
    "editable": false,
    "jupyter": {
     "source_hidden": true
    },
    "tags": [
     "remove-cell"
    ]
   },
   "outputs": [
    {
     "name": "stdout",
     "output_type": "stream",
     "text": [
      "PyKX now running in 'python' mode (default). All cells by default will be run as python code. \n",
      "Include '%%q' at the beginning of each cell to run as q code. \n"
     ]
    }
   ],
   "source": [
    "#;.pykx.disableJupyter()"
   ]
  },
  {
   "cell_type": "code",
   "execution_count": 59,
   "metadata": {
    "autorun": true,
    "editable": false,
    "jupyter": {
     "source_hidden": true
    },
    "tags": [
     "remove-cell"
    ]
   },
   "outputs": [
    {
     "name": "stdout",
     "output_type": "stream",
     "text": [
      "PyKX now running in 'jupyter_qfirst' mode. All cells by default will be run as q code. \n",
      "Include '%%py' at the beginning of each cell to run as python code. \n"
     ]
    }
   ],
   "source": [
    "# https://code.kx.com/pykx/3.0/examples/jupyter-integration.html#q-first-mode\n",
    "import pykx as kx\n",
    "kx.util.jupyter_qfirst_enable()"
   ]
  },
  {
   "cell_type": "markdown",
   "metadata": {},
   "source": [
    "# KX training Splayed Tables - Exercises\n",
    "\n",
    "Before starting this section, let's create two tables trade and quote."
   ]
  },
  {
   "cell_type": "code",
   "execution_count": 66,
   "metadata": {},
   "outputs": [
    {
     "name": "stdout",
     "output_type": "stream",
     "text": [
      "datetime                      sym  price    size\n",
      "------------------------------------------------\n",
      "2000.05.13D14:13:25.426032850 IBM  288.8349 500 \n",
      "2000.07.26D00:52:03.643237554 IBM  439.6759 1000\n",
      "2000.07.29D04:28:41.810471184 AAPL 484.9887 500 \n",
      "2000.10.06D20:05:22.833844484 MSFT 171.4818 100 \n",
      "2000.11.03D19:38:18.198157324 MSFT 153.8032 200 \n",
      "datetime                      sym  bid      ask      bsize asize\n",
      "----------------------------------------------------------------\n",
      "2000.01.29D07:34:32.050435499 IBM  179.5724 206.0433 40    91   \n",
      "2001.03.09D20:52:06.460100864 AAPL 370.3689 111.1566 37    180  \n",
      "2001.05.08D16:44:39.241005888 IBM  489.2316 318.5076 104   19   \n",
      "2001.05.21D01:07:14.489090232 AAPL 452.7869 349.4081 150   155  \n",
      "2001.07.28D06:42:43.341575888 MSFT 161.8007 273.2744 175   159  \n"
     ]
    }
   ],
   "source": [
    "n:100\n",
    "5 sublist trade:([]datetime:asc n?.z.P;sym:n?`AAPL`JPM`IBM`MSFT;price:n?500f;size:n?100 200 500 1000)\n",
    "5 sublist quote:([]datetime:asc n?.z.P;sym:n?`AAPL`JPM`IBM`MSFT;bid:n?500f;ask:n?500f;bsize:n?200;asize:n?200)"
   ]
  },
  {
   "cell_type": "markdown",
   "metadata": {
    "reveal": "x331x15lecr",
    "reveal-hidden": true
   },
   "source": [
    "* Save the `trade` table as a flat table called `tradeFlat`"
   ]
  },
  {
   "cell_type": "code",
   "execution_count": 61,
   "metadata": {
    "reveal": "x331x15lecr"
   },
   "outputs": [
    {
     "name": "stdout",
     "output_type": "stream",
     "text": [
      ":tradeFlat\n"
     ]
    }
   ],
   "source": [
    "`:tradeFlat set trade"
   ]
  },
  {
   "cell_type": "code",
   "execution_count": 67,
   "metadata": {},
   "outputs": [
    {
     "name": "stdout",
     "output_type": "stream",
     "text": [
      ":tradeFlat\n"
     ]
    }
   ],
   "source": [
    "//your answer here \n",
    "`:tradeFlat set trade"
   ]
  },
  {
   "cell_type": "markdown",
   "metadata": {
    "reveal": "hfplkqh119h",
    "reveal-hidden": true
   },
   "source": [
    "* Save the `trade` table as a splayed table called `tradeSplay`"
   ]
  },
  {
   "cell_type": "code",
   "execution_count": null,
   "metadata": {
    "reveal": "hfplkqh119h"
   },
   "outputs": [],
   "source": [
    "`:tradeSplay/ set .Q.en[`:.;trade]"
   ]
  },
  {
   "cell_type": "code",
   "execution_count": 68,
   "metadata": {},
   "outputs": [
    {
     "name": "stdout",
     "output_type": "stream",
     "text": [
      ":tradeSplay/\n"
     ]
    }
   ],
   "source": [
    "//your answer here \n",
    "`:tradeSplay/ set .Q.en[`:.;trade]"
   ]
  },
  {
   "cell_type": "markdown",
   "metadata": {
    "reveal": "pewe1mkdz3",
    "reveal-hidden": true
   },
   "source": [
    "* Load the splayed table and save it into memory as `tradeSplay`"
   ]
  },
  {
   "cell_type": "code",
   "execution_count": null,
   "metadata": {
    "reveal": "pewe1mkdz3"
   },
   "outputs": [],
   "source": [
    "tradeSplay:get `:tradeSplay/\n",
    "tradeSplay"
   ]
  },
  {
   "cell_type": "code",
   "execution_count": 69,
   "metadata": {},
   "outputs": [],
   "source": [
    "//your answer here \n",
    "tradeSplay: get `:tradeSplay/"
   ]
  },
  {
   "cell_type": "markdown",
   "metadata": {
    "reveal": "0k9zlk988he",
    "reveal-hidden": true
   },
   "source": [
    "* Save the `quote` table as a splayed table called `quoteSplay`."
   ]
  },
  {
   "cell_type": "code",
   "execution_count": 9,
   "metadata": {
    "reveal": "0k9zlk988he"
   },
   "outputs": [],
   "source": [
    "//`:quoteSplay/ set .Q.en[`:quoteSplay;quote]   //remember, the table needs to be enumerated before saving!"
   ]
  },
  {
   "cell_type": "code",
   "execution_count": 113,
   "metadata": {},
   "outputs": [],
   "source": [
    "//your answer here \n",
    "`:quoteSplay/ set .Q.en[`:quoteSplay;quote]"
   ]
  },
  {
   "cell_type": "markdown",
   "metadata": {
    "reveal": "bf63slnl4bs",
    "reveal-hidden": true
   },
   "source": [
    "* Change the `.d` file for the `quoteSplay` table to omit the bsize and asize columns. Reload the splayed column. What happens?"
   ]
  },
  {
   "cell_type": "code",
   "execution_count": null,
   "metadata": {
    "reveal": "bf63slnl4bs"
   },
   "outputs": [],
   "source": [
    "get `:quoteSplay/.d   //this is our quoteSplay .d file"
   ]
  },
  {
   "cell_type": "code",
   "execution_count": null,
   "metadata": {
    "reveal": "bf63slnl4bs"
   },
   "outputs": [],
   "source": [
    ".[`:quoteSplay/.d;();:;`datetime`sym`bid`ask] //modifying .d to delete columns\n",
    "get `:quoteSplay/.d"
   ]
  },
  {
   "cell_type": "code",
   "execution_count": null,
   "metadata": {
    "reveal": "bf63slnl4bs"
   },
   "outputs": [],
   "source": [
    "10#get `:quoteSplay //resulting table will no longer have bsize and asize columns"
   ]
  },
  {
   "cell_type": "code",
   "execution_count": 71,
   "metadata": {},
   "outputs": [
    {
     "name": "stdout",
     "output_type": "stream",
     "text": [
      ":quoteSplay/.d\n",
      "datetime                      sym  bid      ask     \n",
      "----------------------------------------------------\n",
      "2000.01.07D14:06:22.329209620 JPM  10.15223 58.97547\n",
      "2000.03.14D11:31:04.689905477 JPM  295.1004 448.8419\n",
      "2000.03.26D06:38:41.646640655 IBM  459.6977 98.68083\n",
      "2000.04.18D01:48:10.394621040 AAPL 90.56856 301.9479\n",
      "2000.06.05D09:56:28.043869322 IBM  487.7681 9.465119\n",
      "2000.12.23D22:42:48.263539368 IBM  141.1506 413.6739\n",
      "2001.03.14D23:30:05.094122544 JPM  220.2457 97.29415\n",
      "2001.05.05D21:02:29.233400080 IBM  330.3901 448.807 \n",
      "2001.05.27D05:26:23.006045792 IBM  64.4854  492.0889\n",
      "2001.08.18D12:37:11.814917304 AAPL 82.15359 266.1971\n",
      "2001.11.19D21:59:16.486078880 AAPL 162.4827 39.99594\n",
      "2001.11.23D08:52:46.323227240 AAPL 106.2833 161.9588\n",
      "2002.03.25D23:33:03.385845240 IBM  63.28638 403.0263\n",
      "2002.07.05D13:23:51.018558016 MSFT 173.7155 439.9955\n",
      "2002.07.27D00:09:25.727562976 IBM  56.88531 395.5481\n",
      "2002.08.16D13:18:08.444806240 IBM  70.89396 186.7794\n",
      "2002.09.10D11:39:56.803614992 IBM  350.7918 115.7833\n",
      "2002.09.15D14:14:53.380879136 JPM  184.841  230.6046\n",
      "2003.01.16D18:16:06.288752640 AAPL 449.5528 59.39489\n",
      "2003.03.10D23:34:28.134570672 AAPL 400.4345 397.7945\n",
      "..\n"
     ]
    }
   ],
   "source": [
    "//your answer here \n",
    "`:quoteSplay/.d set get [`:quoteSplay/.d] except `bsize, `asize\n",
    "get `:quoteSplay"
   ]
  },
  {
   "cell_type": "markdown",
   "metadata": {},
   "source": [
    "Write the following functions:"
   ]
  },
  {
   "cell_type": "markdown",
   "metadata": {
    "reveal": "ypw5bydjnw",
    "reveal-hidden": true
   },
   "source": [
    "##### writeSplay\n",
    "\n",
    "* arguments:\n",
    "    * directory\n",
    "    * table name as a symbol\n",
    "* function should save a sub-directory t under dir that contains a file for each column, as well as a .d file\n",
    "* If the table has column(s) of type symbol, a binary file sym should be stored under dir with a distinct list of the symbols across all these columns\n",
    "* function should return the path to the splayed directory that was written to"
   ]
  },
  {
   "cell_type": "code",
   "execution_count": 72,
   "metadata": {
    "reveal": "ypw5bydjnw"
   },
   "outputs": [],
   "source": [
    "writeSplay:{[dir;t]\n",
    "    (` sv (dir,t,`)) set .Q.en[dir;get t]\n",
    " }"
   ]
  },
  {
   "cell_type": "code",
   "execution_count": 73,
   "metadata": {},
   "outputs": [],
   "source": [
    "//writeSplay:   // write your code here\n",
    "writeSplay:{[dir;table]\n",
    "            (` sv (dir,table,`)) set .Q.en[dir;get table];\n",
    "            }\n",
    "\n",
    "\n",
    "            //enumerate and set to the directory as a splayed table\n",
    "            //return path (not sure how)"
   ]
  },
  {
   "cell_type": "markdown",
   "metadata": {},
   "source": [
    "Example of Code:\n",
    "\n",
    "    trade:([]time:3#.z.P;sym:`JPM`GE`GE;size:100 200 300;price:375 412 231;exchange:`N`N`T)\t// define some random trade table trade\n",
    "    time                          sym size price exchange\n",
    "    -----------------------------------------------------\n",
    "    2016.03.21D09:35:27.171584000 JPM 100  375   N\n",
    "    2016.03.21D09:35:27.171584000 GE  200  412   N\n",
    "    2016.03.21D09:35:27.171584000 GE  300  231   T\n",
    "\n",
    "\n",
    "    writeSplay[`:db1;`trade]\t\t\t\t\t\t\t\t\t// write down the splayed table to some directory (using db in this case (short for database))\n",
    "    `:db1/trade/\n",
    "\n",
    "    get `:db1/trade/\n",
    "    time                          sym size price exchange\n",
    "    -----------------------------------------------------\n",
    "    2016.03.21D09:35:27.171584000 JPM 100  375   N\n",
    "    2016.03.21D09:35:27.171584000 GE  200  412   N\n",
    "    2016.03.21D09:35:27.171584000 GE  300  231   T\n",
    "    \n",
    "    key `:db1\t\t\t\t\t\t\t\t\t\t\t\t\t// list the contents of the db directory\n",
    "    `s#`sym`trade\t\t\t\t\t\t\t\t\t\t\t\t// note the enumerated symbols in a file called sym\n",
    "    \n",
    "    key `:db1/trade/\t\t\t\t\t\t\t\t\t\t\t// list the contents of the splayed directory\n",
    "    `.d`exchange`price`size`sym`time\n"
   ]
  },
  {
   "cell_type": "code",
   "execution_count": 74,
   "metadata": {},
   "outputs": [
    {
     "name": "stdout",
     "output_type": "stream",
     "text": [
      "time                          sym size price exchange\n",
      "-----------------------------------------------------\n",
      "2025.03.12D23:00:01.054986350 JPM 100  375   N       \n",
      "2025.03.12D23:00:01.054986350 GE  200  412   N       \n",
      "2025.03.12D23:00:01.054986350 GE  300  231   T       \n"
     ]
    }
   ],
   "source": [
    "trade:([]time:3#.z.P;sym:`JPM`GE`GE;size:100 200 300;price:375 412 231;exchange:`N`N`T);\n",
    "trade "
   ]
  },
  {
   "cell_type": "code",
   "execution_count": 75,
   "metadata": {},
   "outputs": [],
   "source": [
    "writeSplay[`:db1;`trade]      // test output"
   ]
  },
  {
   "cell_type": "code",
   "execution_count": 76,
   "metadata": {},
   "outputs": [
    {
     "name": "stdout",
     "output_type": "stream",
     "text": [
      "time                          sym size price exchange\n",
      "-----------------------------------------------------\n",
      "2025.03.12D23:00:01.054986350 JPM 100  375   N       \n",
      "2025.03.12D23:00:01.054986350 GE  200  412   N       \n",
      "2025.03.12D23:00:01.054986350 GE  300  231   T       \n",
      "`s#`sym`trade\n",
      "`s#`.d`d`exchange`price`size`sym`time\n"
     ]
    }
   ],
   "source": [
    "get `:db1/trade/\n",
    "key `:db1             \n",
    "key `:db1/trade/    "
   ]
  },
  {
   "cell_type": "code",
   "execution_count": 77,
   "metadata": {},
   "outputs": [
    {
     "name": "stdout",
     "output_type": "stream",
     "text": [
      "`JPM`GE`N`T\n"
     ]
    }
   ],
   "source": [
    "//checking enumeration \n",
    "//`JPM`GE`N`T~\n",
    "get `:db1/sym"
   ]
  },
  {
   "cell_type": "markdown",
   "metadata": {
    "reveal": "4qoe6tck9j2",
    "reveal-hidden": true
   },
   "source": [
    "##### softDelete1Col\n",
    "\n",
    "- arguments:\n",
    "    * directory\n",
    "    * table name\n",
    "    * column name\n",
    "- function should soft delete the column i.e. the column can be reinstated at a later stage with no loss of data. When the dir directory is loaded in by a q process, the column c should not be present in the table\n",
    "- function should return the path to the .d file"
   ]
  },
  {
   "cell_type": "code",
   "execution_count": null,
   "metadata": {
    "reveal": "4qoe6tck9j2"
   },
   "outputs": [],
   "source": [
    "softDelete1Col:{[dir;t;c]\n",
    "        p set get[p:` sv dir,t,`.d]except c\n",
    " }"
   ]
  },
  {
   "cell_type": "code",
   "execution_count": 78,
   "metadata": {
    "scrolled": true
   },
   "outputs": [],
   "source": [
    "//softDelete1Col:  // write your code here\n",
    "\n",
    "softDelete1Col:{[dirName;tableName;columnName]\n",
    "             tablePath: ` sv dirName,tableName, `.d;\n",
    "             tablePath set get[tablePath] except columnName }"
   ]
  },
  {
   "cell_type": "markdown",
   "metadata": {},
   "source": [
    "Example of Code\n",
    "\n",
    "    softDelete1Col[`:db1;`trade;`size]\n",
    "    `:db1/trade/.d             // returns path to .d file\n",
    "\t\t\n",
    "        \n",
    "    get `:db1/trade\n",
    "    time                          sym price exchange\n",
    "    ------------------------------------------------\n",
    "    2016.03.21D09:35:27.171584000 JPM 375   N\n",
    "    2016.03.21D09:35:27.171584000 GE  412   N\n",
    "    2016.03.21D09:35:27.171584000 GE  231   T"
   ]
  },
  {
   "cell_type": "code",
   "execution_count": 79,
   "metadata": {
    "scrolled": true
   },
   "outputs": [
    {
     "name": "stdout",
     "output_type": "stream",
     "text": [
      ":db1/trade/.d\n",
      "time                          sym price exchange\n",
      "------------------------------------------------\n",
      "2025.03.12D23:00:01.054986350 JPM 375   N       \n",
      "2025.03.12D23:00:01.054986350 GE  412   N       \n",
      "2025.03.12D23:00:01.054986350 GE  231   T       \n"
     ]
    }
   ],
   "source": [
    "softDelete1Col[`:db1;`trade;`size]    // test output \n",
    "get `:db1/trade"
   ]
  },
  {
   "cell_type": "code",
   "execution_count": 80,
   "metadata": {},
   "outputs": [
    {
     "name": "stdout",
     "output_type": "stream",
     "text": [
      "`s#`.d`d`exchange`price`size`sym`time\n"
     ]
    }
   ],
   "source": [
    "//logical checks not saved flat \n",
    "key `:db1/trade       //should be a list of column files and a .d file - size should still be here"
   ]
  },
  {
   "cell_type": "markdown",
   "metadata": {
    "reveal": "hwmq0917gn",
    "reveal-hidden": true
   },
   "source": [
    "##### order1Cols\n",
    "\n",
    "- arguments:\n",
    "    * directory\n",
    "    * table name\n",
    "    * column names\n",
    "- function edits the column list of a table. It can also be used to remove or restore soft deleted column(s)\n",
    "- function should return the path to the .d file"
   ]
  },
  {
   "cell_type": "code",
   "execution_count": null,
   "metadata": {
    "reveal": "hwmq0917gn"
   },
   "outputs": [],
   "source": [
    "order1Cols:{[dir;t;c]\n",
    "        sv[`;dir,t,`.d]set c\n",
    " }"
   ]
  },
  {
   "cell_type": "code",
   "execution_count": 81,
   "metadata": {
    "scrolled": true
   },
   "outputs": [],
   "source": [
    "//order1Cols:   // write your code here\n",
    "order1Cols:{[dirName;table;columnNames]\n",
    "            (` sv (dirName;table;`.d)) set columnNames}"
   ]
  },
  {
   "cell_type": "markdown",
   "metadata": {},
   "source": [
    " Example of Code\n",
    "\n",
    "    order1Cols[`:db1;`trade;`time`sym`price`size`exchange]\n",
    "    `:db1/trade/.d\n",
    "\n",
    "    get `:db1/trade\n",
    "    time                          sym price size exchange\t\t\t\t\t// price and size are now in reverse order\n",
    "    -----------------------------------------------------\n",
    "    2016.03.21D09:35:27.171584000 JPM 375   100  N\n",
    "    2016.03.21D09:35:27.171584000 GE  412   200  N\n",
    "    2016.03.21D09:35:27.171584000 GE  231   300  T"
   ]
  },
  {
   "cell_type": "code",
   "execution_count": 82,
   "metadata": {
    "scrolled": true
   },
   "outputs": [
    {
     "name": "stdout",
     "output_type": "stream",
     "text": [
      ":db1/trade/.d\n",
      "time                          sym price size exchange\n",
      "-----------------------------------------------------\n",
      "2025.03.12D23:00:01.054986350 JPM 375   100  N       \n",
      "2025.03.12D23:00:01.054986350 GE  412   200  N       \n",
      "2025.03.12D23:00:01.054986350 GE  231   300  T       \n"
     ]
    }
   ],
   "source": [
    "order1Cols[`:db1;`trade;`time`sym`price`size`exchange]    // test output before submitting\n",
    "get `:db1/trade"
   ]
  },
  {
   "cell_type": "code",
   "execution_count": 83,
   "metadata": {},
   "outputs": [
    {
     "name": "stdout",
     "output_type": "stream",
     "text": [
      "`s#`.d`d`exchange`price`size`sym`time\n"
     ]
    }
   ],
   "source": [
    "//logical checks not saved flat \n",
    "key `:db1/trade       //should be a list of column files and a .d file - size should still be here"
   ]
  },
  {
   "cell_type": "markdown",
   "metadata": {
    "reveal": "pvgh4btbb99",
    "reveal-hidden": true
   },
   "source": [
    "##### delete1Col\n",
    "\n",
    "- arguments:\n",
    "    * directory\n",
    "    * table name\n",
    "    * column name\n",
    "\n",
    "- function should remove the column c entirely i.e. a hard delete\n",
    "- function should not complain if the column to be deleted doesn't exist\n",
    "- function should return the path to the .d file"
   ]
  },
  {
   "cell_type": "code",
   "execution_count": null,
   "metadata": {
    "reveal": "pvgh4btbb99"
   },
   "outputs": [],
   "source": [
    "delete1Col:{[dir;t;c]\n",
    "        if[not()~key p:` sv dir,t,c;\n",
    "                hdel p];\n",
    "        softDelete1Col[dir;t;c]                         / can just re-use this function here\n",
    " }"
   ]
  },
  {
   "cell_type": "code",
   "execution_count": 84,
   "metadata": {
    "scrolled": true
   },
   "outputs": [],
   "source": [
    "delete1Col:{[dirName;table;columnName]\n",
    "        if[not()~key path:` sv dirName,table,columnName;\n",
    "                hdel path];\n",
    "        softDelete1Col[dirName;table;columnName]                         / can just re-use this function here\n",
    " }"
   ]
  },
  {
   "cell_type": "markdown",
   "metadata": {},
   "source": [
    "Example of Code\n",
    "\n",
    "    delete1Col[`:db1;`trade;`asdf]\n",
    "    `:db1/trade/.d\t\t\t\t\t\t\t// asdf column does not exist but the function runs regardless\n",
    "    delete1Col[`:db1;`trade;`size]\n",
    "    `:db1/trade/.d\n",
    "\n",
    "    get `:db1/trade\n",
    "    time                          sym price exchange\n",
    "    ------------------------------------------------\n",
    "    2016.03.21D09:35:27.171584000 JPM 375   N\n",
    "    2016.03.21D09:35:27.171584000 GE  412   N\n",
    "    2016.03.21D09:35:27.171584000 GE  231   T"
   ]
  },
  {
   "cell_type": "code",
   "execution_count": 85,
   "metadata": {
    "scrolled": true
   },
   "outputs": [
    {
     "name": "stdout",
     "output_type": "stream",
     "text": [
      ":db1/trade/.d\n"
     ]
    }
   ],
   "source": [
    "delete1Col[`:db1;`trade;`asdf]"
   ]
  },
  {
   "cell_type": "code",
   "execution_count": 103,
   "metadata": {
    "scrolled": true
   },
   "outputs": [
    {
     "name": "stdout",
     "output_type": "stream",
     "text": [
      ":db1/trade/.d\n",
      "3\n"
     ]
    }
   ],
   "source": [
    "delete1Col[`:db1;`trade;`size]    // test output before submitting\n",
    "count get `:db1/trade"
   ]
  },
  {
   "cell_type": "code",
   "execution_count": 98,
   "metadata": {},
   "outputs": [
    {
     "name": "stdout",
     "output_type": "stream",
     "text": [
      "`s#`.d`d`exchange`price`sym`time\n"
     ]
    }
   ],
   "source": [
    "//logical checks not saved flat \n",
    "key `:db1/trade       //should be a list of column files and a .d file - size should not be here"
   ]
  },
  {
   "cell_type": "markdown",
   "metadata": {
    "reveal": "d3ka0ii8cj8",
    "reveal-hidden": true
   },
   "source": [
    "##### add1Col\n",
    "\n",
    "- arguments:\n",
    "     * directory\n",
    "     * table name\n",
    "     * column name\n",
    "     * default value - you can assume that this value is either a non-symbol type or has already been enumerated i.e. you do not need to enumerate this value\n",
    "- function should add a new column to the splayed directory and assign it the default value specified. When adding the new column, ensure that it is the same length as the number of rows in the table currently\n",
    "- function should return the path to the added column file\n",
    "- if the column already exists the function should signal an error 'exists"
   ]
  },
  {
   "cell_type": "code",
   "execution_count": null,
   "metadata": {
    "reveal": "d3ka0ii8cj8"
   },
   "outputs": [],
   "source": [
    "add1Col:{[dir;t;c;v]\n",
    "        if[c in files:key` sv dir,t;            // check if a column file already exists\n",
    "                'exists];                       // throw an error if it does\n",
    "        n:count get` sv dir,t,last files;       // count the number of records in the table by counting one of the columns (I use last because .d will be the first)\n",
    "        sv[`;dir,t,`.d]?c;                      // use ? to join the column name to the .d file if it's not already there\n",
    "        sv[`;dir,t,c]set n#v                    // save down the column file\n",
    " }"
   ]
  },
  {
   "cell_type": "code",
   "execution_count": 107,
   "metadata": {
    "scrolled": true
   },
   "outputs": [],
   "source": [
    "add1Col:{[dirName;table;columnName;defValue]\n",
    "         if[columnName in key (` sv (dirName, table)); `exists];\n",
    "         n:count get (` sv (dirName, table));\n",
    "         sv[`;dirName,table,`.d]?columnName; \n",
    "         (` sv (dirName, table, columnName)) set n#defValue }\n",
    "         \n"
   ]
  },
  {
   "cell_type": "markdown",
   "metadata": {},
   "source": [
    "Example of Code\n",
    "\n",
    "    add1Col[`:db1;`trade;`price;500]\n",
    "    {[dir;t;c;v]\n",
    "    // Implementation Hidden\n",
    "    }\n",
    "    'exists\t\t\t\t\t\t\t\t// throws an error and puts us into debug mode as the column exists\n",
    "        \n",
    "    add1Col[`:db1;`trade;`size;500]\t\t// add a column that doesn't exists (size was removed previously)\n",
    "    `:db1/trade/size\n",
    "\n",
    "   \n",
    "    get `:db1/trade\n",
    "    time                          sym price exchange size\n",
    "    -----------------------------------------------------\n",
    "    2016.03.21D09:35:27.171584000 JPM 375   N        500\n",
    "    2016.03.21D09:35:27.171584000 GE  412   N        500\n",
    "    2016.03.21D09:35:27.171584000 GE  231   T        500"
   ]
  },
  {
   "cell_type": "code",
   "execution_count": 108,
   "metadata": {
    "scrolled": true
   },
   "outputs": [
    {
     "name": "stdout",
     "output_type": "stream",
     "text": [
      ":db1/trade/price\n"
     ]
    }
   ],
   "source": [
    "add1Col[`:db1;`trade;`price;500] // test output before submitting"
   ]
  },
  {
   "cell_type": "code",
   "execution_count": 109,
   "metadata": {
    "scrolled": true
   },
   "outputs": [
    {
     "name": "stdout",
     "output_type": "stream",
     "text": [
      ":db1/trade/size\n",
      "time                          sym price exchange size\n",
      "-----------------------------------------------------\n",
      "2025.03.12D23:00:01.054986350 JPM 500   N        500 \n",
      "2025.03.12D23:00:01.054986350 GE  500   N        500 \n",
      "2025.03.12D23:00:01.054986350 GE  500   T        500 \n"
     ]
    }
   ],
   "source": [
    "add1Col[`:db1;`trade;`size;500]      // test output before submitting\n",
    "get `:db1/trade"
   ]
  },
  {
   "cell_type": "code",
   "execution_count": 110,
   "metadata": {},
   "outputs": [
    {
     "name": "stdout",
     "output_type": "stream",
     "text": [
      "`s#`.d`d`exchange`price`size`sym`time\n"
     ]
    }
   ],
   "source": [
    "//logical checks not saved flat \n",
    "key `:db1/trade       //should be a list of column files and a .d file - size should now be here"
   ]
  },
  {
   "cell_type": "code",
   "execution_count": null,
   "metadata": {},
   "outputs": [],
   "source": []
  },
  {
   "cell_type": "code",
   "execution_count": 112,
   "metadata": {},
   "outputs": [
    {
     "name": "stdout",
     "output_type": "stream",
     "text": [
      "2023.01.03 2023.01.10 2023.01.17 2023.01.24 2023.01.31 2023.02.07 2023.02.14 ..\n"
     ]
    }
   ],
   "source": [
    "//RETURNING EVERY TUESDAY IN A RANGE OF DATES\n",
    "\n",
    "foo:{[earlierDate;laterDate]\n",
    "     drange:laterDate-earlierDate;\n",
    "     daylist:earlierDate + til drange;\n",
    "     //last daylist}\n",
    "     daylist where 3= daylist mod 7 }\n",
    "foo[2023.01.01;.z.d]"
   ]
  },
  {
   "cell_type": "code",
   "execution_count": null,
   "metadata": {},
   "outputs": [],
   "source": []
  },
  {
   "cell_type": "code",
   "execution_count": null,
   "metadata": {},
   "outputs": [],
   "source": []
  }
 ],
 "metadata": {
  "kernelspec": {
   "display_name": "Python 3 (ipykernel)",
   "language": "python",
   "name": "python3"
  },
  "language_info": {
   "codemirror_mode": {
    "name": "ipython",
    "version": 3
   },
   "file_extension": ".py",
   "mimetype": "text/x-python",
   "name": "python",
   "nbconvert_exporter": "python",
   "pygments_lexer": "ipython3",
   "version": "3.11.10"
  },
  "toc": {
   "base_numbering": 1,
   "nav_menu": {},
   "number_sections": true,
   "sideBar": true,
   "skip_h1_title": false,
   "title_cell": "Table of Contents",
   "title_sidebar": "Contents",
   "toc_cell": false,
   "toc_position": {
    "height": "calc(100% - 180px)",
    "left": "10px",
    "top": "150px",
    "width": "384px"
   },
   "toc_section_display": true,
   "toc_window_display": true
  }
 },
 "nbformat": 4,
 "nbformat_minor": 4
}
