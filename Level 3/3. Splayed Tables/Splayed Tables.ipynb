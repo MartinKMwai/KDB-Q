{
 "cells": [
  {
   "cell_type": "code",
   "execution_count": 26,
   "metadata": {
    "autorun": true,
    "editable": false,
    "jupyter": {
     "source_hidden": true
    },
    "tags": [
     "remove-cell"
    ]
   },
   "outputs": [
    {
     "name": "stdout",
     "output_type": "stream",
     "text": [
      "PyKX now running in 'python' mode (default). All cells by default will be run as python code. \n",
      "Include '%%q' at the beginning of each cell to run as q code. \n"
     ]
    }
   ],
   "source": [
    "#;.pykx.disableJupyter()"
   ]
  },
  {
   "cell_type": "code",
   "execution_count": 27,
   "metadata": {
    "autorun": true,
    "editable": false,
    "jupyter": {
     "source_hidden": true
    },
    "tags": [
     "remove-cell"
    ]
   },
   "outputs": [
    {
     "name": "stdout",
     "output_type": "stream",
     "text": [
      "PyKX now running in 'jupyter_qfirst' mode. All cells by default will be run as q code. \n",
      "Include '%%py' at the beginning of each cell to run as python code. \n"
     ]
    }
   ],
   "source": [
    "# https://code.kx.com/pykx/3.0/examples/jupyter-integration.html#q-first-mode\n",
    "import pykx as kx\n",
    "kx.util.jupyter_qfirst_enable()"
   ]
  },
  {
   "cell_type": "markdown",
   "metadata": {},
   "source": [
    "##### Learning outcomes\n",
    "\n",
    "To understand: \n",
    "* Structure of a splayed database\n",
    "* Saving splayed tables using .Q.en\n",
    "* Loading splayed tables into memory\n",
    "* Operating on splayed tables\n",
    "* Guidance on the sym file\n",
    "* Considerations on splayed tables"
   ]
  },
  {
   "cell_type": "markdown",
   "metadata": {},
   "source": [
    "# Introduction\n",
    "When a table is too large to fit into memory, we can break it into pieces and save each column individually under a directory with the table name - this is what we call splaying a table. This resolves two main issues that we will encounter if we save our table as a flat file:\n",
    "\n",
    "* A flat file table must fit into memory. By splaying a table, the table is mapped into memory\n",
    "* Operations on flat files might be slow due to reloading the entire table into memory each time. By splaying a table, columns are loaded on demand which increases the performance of queries. "
   ]
  },
  {
   "cell_type": "markdown",
   "metadata": {
    "jp-MarkdownHeadingCollapsed": true
   },
   "source": [
    "# Structure of a splayed database\n",
    "\n",
    "Splay tables are particular in their on-disk structure and certain files (.e.g the `.d` file) will determine the way in which the table is structured in memory. "
   ]
  },
  {
   "cell_type": "markdown",
   "metadata": {},
   "source": [
    "Inside the directory each column is saved in a separate file under the same name as the column name. Each column is saved as a list of corresponding type in a kdb+ binary flat file. The order of the columns is saved in a separate file, called `.d`, in the same directory. `.d` is a kdb+ binary file containing a symbol list. Let's look at how the directory structure would look:"
   ]
  },
  {
   "cell_type": "markdown",
   "metadata": {},
   "source": [
    "<img src=\"../images/splayedTable.png\" width=\"500\" height=\"500\">"
   ]
  },
  {
   "cell_type": "markdown",
   "metadata": {},
   "source": [
    "##### The .d file\n",
    "\n",
    "The `.d` file present within a splayed table stores the information on the order in which the columns appear in the table. For a table `flatT`, we have the following meta: "
   ]
  },
  {
   "cell_type": "code",
   "execution_count": 13,
   "metadata": {},
   "outputs": [
    {
     "name": "stdout",
     "output_type": "stream",
     "text": [
      "c    | t f a\n",
      "-----| -----\n",
      "sym  | s    \n",
      "size | j    \n",
      "price| f    \n",
      "\"Practical Guidance- Splayed Tables.ipynb\"\n",
      "\"Splayed Tables Exercises.ipynb\"\n",
      "\"Splayed Tables.ipynb\"\n"
     ]
    }
   ],
   "source": [
    "t:([]sym:`TSLA`IBM`MS`GM;size:20 30 40 50;price:1.1 2.2 3.3 4.4)\n",
    "meta t\n",
    "\\ls"
   ]
  },
  {
   "cell_type": "markdown",
   "metadata": {},
   "source": [
    "If this were saved splayed on disk, the .d file would consist of the following symbol list: <code>\\`sym\\`size\\`price</code>. If we modified this file to reorder the columns that would be the new table structure. "
   ]
  },
  {
   "cell_type": "markdown",
   "metadata": {},
   "source": [
    "<img src=\"../images/qbies.png\" style=\"width: 50px;padding-right:5px;padding-top:2px;padding-left:5px;\" align=\"left\"/>\n",
    "\n",
    "<p style='color:#273a6e'><i> Removing columns from the .d files is a sort-of \"safe\" deletion to do before clearing off the actual data!</i></p>"
   ]
  },
  {
   "cell_type": "markdown",
   "metadata": {},
   "source": [
    "##### Sym file \n",
    "\n",
    "There is a difference between the `sym` file located in the db directory and the `sym` files located in the trade and quote directory.\n",
    "\n",
    "1. The sym file located in the db directory consists of all the distinct symbols in both the trade and quote table. For example, ``` `BAC`BTU`DIS`GE`T`NYSE`NASDAQ`LSE`JPX ```\n",
    "2. The sym file located in the trade and quote directory consists of a numeric index list that corresponds to the sym file located in the db directory. These values allow kdb+ to map the correct symbols to each of the rows for the different tables."
   ]
  },
  {
   "cell_type": "markdown",
   "metadata": {
    "jp-MarkdownHeadingCollapsed": true
   },
   "source": [
    "# Creating a splayed table\n",
    "A table can be saved as splayed using `set`, as for flat files, but for the table to be saved\n",
    "as splayed the file path should end with a forward slash:\n",
    "\n",
    "``` `:path_to_file/filename/ set tablename```"
   ]
  },
  {
   "cell_type": "markdown",
   "metadata": {},
   "source": [
    "<img src=\"../images/qbies.png\" style=\"width: 50px;padding-right:5px;padding-top:2px;padding-left:5px;\" align=\"left\"/>\n",
    "\n",
    "<p style='color:#273a6e'><i> If we want to save a table in a splayed format our filepath has to end with a forward slash <code>/</code></i></p>"
   ]
  },
  {
   "cell_type": "markdown",
   "metadata": {},
   "source": [
    "The underlying kdb+ table must be un-keyed and any symbol columns must be enumerated in order to successfully save a splayed table. "
   ]
  },
  {
   "cell_type": "markdown",
   "metadata": {
    "jp-MarkdownHeadingCollapsed": true
   },
   "source": [
    "## Creating a splayed table without symbol columns\n",
    "\n",
    "Let's consider a table that is un-keyed and has no symbol column. "
   ]
  },
  {
   "cell_type": "code",
   "execution_count": 15,
   "metadata": {},
   "outputs": [
    {
     "name": "stdout",
     "output_type": "stream",
     "text": [
      "timestamp                     price    size\n",
      "-------------------------------------------\n",
      "2000.01.01D01:56:54.531680879 311.5894 500 \n",
      "2000.01.01D13:34:24.561852264 198.4798 200 \n",
      "2000.01.02D14:39:07.012254348 234.7829 1000\n",
      "2000.01.03D01:04:40.990981917 170.0476 500 \n",
      "2000.01.03D17:17:57.272462255 487.053  1000\n",
      "2000.01.04D05:54:30.271955657 455.2298 100 \n",
      "2000.01.06D04:51:06.319768444 416.9192 100 \n",
      "2000.01.06D13:18:43.794450740 220.4627 500 \n",
      "2000.01.07D08:25:31.248157151 383.3816 200 \n",
      "2000.01.07D12:35:34.665080890 191.4548 200 \n"
     ]
    }
   ],
   "source": [
    "n:10000\n",
    "10#tab:([]timestamp:asc n?.z.P;price:n?500f; size:n?100 200 500 1000) //creating a trade table"
   ]
  },
  {
   "cell_type": "code",
   "execution_count": 16,
   "metadata": {},
   "outputs": [
    {
     "name": "stdout",
     "output_type": "stream",
     "text": [
      ":tab/\n"
     ]
    }
   ],
   "source": [
    "`:tab/ set tab   //we have created our table!"
   ]
  },
  {
   "cell_type": "code",
   "execution_count": 17,
   "metadata": {},
   "outputs": [
    {
     "name": "stdout",
     "output_type": "stream",
     "text": [
      "`s#`.d`price`size`timestamp\n",
      "\"price\"\n",
      "\"size\"\n",
      "\"timestamp\"\n"
     ]
    }
   ],
   "source": [
    "key `:tab      //the files in our new trade folder\n",
    "\\ls tab"
   ]
  },
  {
   "cell_type": "code",
   "execution_count": 18,
   "metadata": {},
   "outputs": [
    {
     "name": "stdout",
     "output_type": "stream",
     "text": [
      "timestamp                     price    size\n",
      "-------------------------------------------\n",
      "2000.01.01D01:56:54.531680879 311.5894 500 \n",
      "2000.01.01D13:34:24.561852264 198.4798 200 \n",
      "2000.01.02D14:39:07.012254348 234.7829 1000\n",
      "2000.01.03D01:04:40.990981917 170.0476 500 \n",
      "2000.01.03D17:17:57.272462255 487.053  1000\n",
      "2000.01.04D05:54:30.271955657 455.2298 100 \n",
      "2000.01.06D04:51:06.319768444 416.9192 100 \n",
      "2000.01.06D13:18:43.794450740 220.4627 500 \n",
      "2000.01.07D08:25:31.248157151 383.3816 200 \n",
      "2000.01.07D12:35:34.665080890 191.4548 200 \n",
      "2000.01.08D03:54:07.521201137 6.230592 100 \n",
      "2000.01.13D17:37:56.226649925 261.6942 100 \n",
      "2000.01.14D03:01:43.148033934 355.778  500 \n",
      "2000.01.15D16:30:39.739352136 253.8772 1000\n",
      "2000.01.16D21:05:45.867885226 232.6473 500 \n",
      "2000.01.17D01:19:26.280580411 226.995  1000\n",
      "2000.01.17D15:05:03.288834384 215.1588 1000\n",
      "2000.01.17D18:41:00.692772457 250.7397 1000\n",
      "2000.01.18D10:05:49.082921719 448.2771 100 \n",
      "2000.01.18D22:10:01.884929254 335.0751 500 \n",
      "..\n"
     ]
    }
   ],
   "source": [
    "get `:tab"
   ]
  },
  {
   "cell_type": "markdown",
   "metadata": {},
   "source": [
    "We can retrieve these individual files by using [get](https://code.kx.com/q/ref/get/):"
   ]
  },
  {
   "cell_type": "code",
   "execution_count": 19,
   "metadata": {},
   "outputs": [
    {
     "name": "stdout",
     "output_type": "stream",
     "text": [
      "2000.01.01D01:56:54.531680879 2000.01.01D13:34:24.561852264 2000.01.02D14:39:..\n",
      "311.5894 198.4798 234.7829 170.0476 487.053 455.2298 416.9192 220.4627 383.38..\n",
      "`timestamp`price`size\n"
     ]
    }
   ],
   "source": [
    "10 sublist get `:tab/timestamp  //returns a vector containing in the column\n",
    "10 sublist get `:tab/price     \n",
    "get `:tab/.d                   //our column orderings!"
   ]
  },
  {
   "cell_type": "markdown",
   "metadata": {
    "reveal": "efyw1aca7ie",
    "reveal-hidden": true
   },
   "source": [
    "##### Exercise \n",
    "\n",
    "Create a table with `n:200` records, with the following columns: \n",
    "   * orderID: 10 characters of random alphanumeric values \n",
    "   * price: between 10-20.5 \n",
    "   * size: between 1000-5000\n",
    " \n",
    "Save this table down as a splayed table `exSplay`. \n",
    "\n",
    "Hints: *(Hightlight to see)*:<font color=\"white\">.Q.a and .Q.n store lowercase characters and numbers. 10 cut will split a list at every 10th index</font>"
   ]
  },
  {
   "cell_type": "code",
   "execution_count": null,
   "metadata": {
    "reveal": "efyw1aca7ie"
   },
   "outputs": [],
   "source": [
    "n:200 \n",
    ".Q.a,.Q.n                                              //.Q.a and .Q.n store lowercase characters and numbers\n",
    "`:exSplay/ set ([]orderID: 10 cut (10*200)?.Q.a,.Q.n;  //10 cut splits on every 10th index\n",
    "                    price: 10+n?10.5; size: 1000 + n?4001)"
   ]
  },
  {
   "cell_type": "code",
   "execution_count": null,
   "metadata": {
    "reveal": "efyw1aca7ie"
   },
   "outputs": [],
   "source": [
    "key `:exSplay  //notice that our string column is a nested column - orderID, orderID# "
   ]
  },
  {
   "cell_type": "code",
   "execution_count": 23,
   "metadata": {},
   "outputs": [
    {
     "name": "stdout",
     "output_type": "stream",
     "text": [
      ":exSplay/\n",
      "\"orderID\"\n",
      "\"orderID#\"\n",
      "\"price\"\n",
      "\"size\"\n"
     ]
    }
   ],
   "source": [
    "//your answer here \n",
    "n:200\n",
    "exSplay:([]orderID: 10 cut (10*200)?.Q.a,.Q.n; price: 10+n?10.5; size: 1000 + n?4001)\n",
    "`:exSplay/ set exSplay\n",
    "\\ls exSplay"
   ]
  },
  {
   "cell_type": "markdown",
   "metadata": {},
   "source": [
    "## Creating a splayed table with symbol columns \n",
    "kdb+ requires enumeration to be applied to symbol columns if we want to persist splay tables on disk. "
   ]
  },
  {
   "cell_type": "markdown",
   "metadata": {},
   "source": [
    "<img src=\"../images/qbies.png\" style=\"width: 50px;padding-right:5px;padding-top:2px;padding-left:5px;\" align=\"left\"/>\n",
    "\n",
    "<p style='color:#273a6e'><i> Remember for a table to be saved as splayed, it should be un-keyed and enumerated if a symbol column exists in the table!</i></p>"
   ]
  },
  {
   "cell_type": "markdown",
   "metadata": {},
   "source": [
    "Let's use that now to enumerate symbol data in our `trade` table  then save to disk splayed. "
   ]
  },
  {
   "cell_type": "code",
   "execution_count": 56,
   "metadata": {},
   "outputs": [
    {
     "name": "stdout",
     "output_type": "stream",
     "text": [
      "timestamp                     sym price    size ex    \n",
      "------------------------------------------------------\n",
      "2000.01.09D07:49:49.465930215 BTU 211.8357 100  NASDAQ\n",
      "2000.03.20D12:16:30.294932286 BTU 368.0263 200  LSE   \n",
      "2000.06.21D13:11:18.317291198 T   417.7496 1000 JPX   \n",
      "2000.06.22D12:26:36.408815218 BTU 414.8397 200  JPX   \n",
      "2000.12.02D08:35:15.578195632 BAC 199.3758 100  LSE   \n",
      "2001.08.26D03:12:59.109603248 DIS 293.0002 1000 LSE   \n",
      "2001.08.27D19:22:03.784540368 DIS 2.390399 100  LSE   \n",
      "2001.11.25D14:29:09.966349560 BTU 447.2774 500  NASDAQ\n",
      "2002.01.30D05:00:51.975209712 DIS 246.2874 200  LSE   \n",
      "2002.02.21D21:28:18.946308008 T   143.4259 500  NYSE  \n",
      "c        | t f a\n",
      "---------| -----\n",
      "timestamp| p   s\n",
      "sym      | s    \n",
      "price    | f    \n",
      "size     | j    \n",
      "ex       | s    \n"
     ]
    }
   ],
   "source": [
    "trade:([]timestamp:asc n?.z.P;sym:n?`BAC`BTU`DIS`GE`T;price:n?500f; size:n?100 200 500 1000;ex:n?`NYSE`NASDAQ`LSE`JPX)\n",
    "colsToEnum:`sym`ex\n",
    "10#trade\n",
    "meta trade "
   ]
  },
  {
   "cell_type": "code",
   "execution_count": 55,
   "metadata": {
    "reveal": "7znyq63be4p",
    "reveal-hidden": true
   },
   "outputs": [
    {
     "name": "stdout",
     "output_type": "stream",
     "text": [
      "sym| ? ,`:manualSym `sym\n",
      "ex | ? ,`:manualSym `ex \n"
     ]
    }
   ],
   "source": [
    "//the below is common way to dynamically apply updates to a specified column list\n",
    "show updClause:colsToEnum!{(?;enlist `:manualSym;x)} each colsToEnum; //the update clause "
   ]
  },
  {
   "cell_type": "code",
   "execution_count": null,
   "metadata": {
    "reveal": "7znyq63be4p"
   },
   "outputs": [],
   "source": [
    "show t: ![trade;();0b;updClause]   //functional update"
   ]
  },
  {
   "cell_type": "code",
   "execution_count": null,
   "metadata": {
    "reveal": "7znyq63be4p"
   },
   "outputs": [],
   "source": [
    "type each first t  //we can see the enumeration was successful!\n",
    "t[`sym]            //or can inspect directly"
   ]
  },
  {
   "cell_type": "code",
   "execution_count": null,
   "metadata": {
    "reveal": "7znyq63be4p"
   },
   "outputs": [],
   "source": [
    "enumTab:{[t]\n",
    "        colsToEnum:exec c from meta[t] where t in\"sS\";\n",
    "        //lets build up our enumeration for each, remember `:manualSym?<symList> will  \n",
    "        //enumearate symList aginst the manualSym file \n",
    "        updClause:colsToEnum!{(?;enlist `:manualSym;x)} each colsToEnum;\n",
    "        //now we'll do a functional update \n",
    "        ![t;();0b;updClause]\n",
    " }\n"
   ]
  },
  {
   "cell_type": "code",
   "execution_count": null,
   "metadata": {
    "reveal": "7znyq63be4p"
   },
   "outputs": [],
   "source": [
    "`:trade/ set enumTab[trade] \n"
   ]
  },
  {
   "cell_type": "markdown",
   "metadata": {},
   "source": [
    "Unfortunately, we can't use the above method as we need to enumerate the symbol columns:"
   ]
  },
  {
   "cell_type": "code",
   "execution_count": null,
   "metadata": {},
   "outputs": [],
   "source": [
    "`:trade/ set trade   //will return type error as sym columns are not enumerated"
   ]
  },
  {
   "cell_type": "markdown",
   "metadata": {},
   "source": [
    "Let's check if our `trade` table is enumerated using `first`. We should see ``` `sym$`DIS``` in the `sym` column and ``` `sym$`NASDAQ ``` in the `ex` column"
   ]
  },
  {
   "cell_type": "code",
   "execution_count": 57,
   "metadata": {},
   "outputs": [
    {
     "name": "stdout",
     "output_type": "stream",
     "text": [
      "timestamp| 2000.01.09D07:49:49.465930215\n",
      "sym      | `BTU\n",
      "price    | 211.8357\n",
      "size     | 100\n",
      "ex       | `NASDAQ\n"
     ]
    }
   ],
   "source": [
    "first trade"
   ]
  },
  {
   "cell_type": "markdown",
   "metadata": {},
   "source": [
    "##### `.Q.en` \n",
    "Luckily, there is already exists a function within the .Q namespace which can help us to enumerate a table! \n",
    "\n",
    "The  function [`.Q.en.`](https://code.kx.com/q/ref/dotq/#qen-enumerate-varchar-cols) enumerates all columns of Symbols  against a file called `sym` in a specified directory passed as an input. The sym file will contain the enumeration of all symbol columns.\n",
    "\n",
    "Syntax: ```.Q.en[`:directoryToSaveEnumerationSymFile;tableToEnumerate]```\n",
    "\n",
    "Once this function has been executed, it automatically creates a sym file, if not already there. The table returned from the function is enumerated, but we haven't updated the original table to be enumerated."
   ]
  },
  {
   "cell_type": "markdown",
   "metadata": {},
   "source": [
    "For example, the following code shows how a table containing a symbol column can be saved to disk as a splayed table:"
   ]
  },
  {
   "cell_type": "code",
   "execution_count": 58,
   "metadata": {},
   "outputs": [
    {
     "name": "stdout",
     "output_type": "stream",
     "text": [
      ":tradesplay/trade/\n"
     ]
    }
   ],
   "source": [
    "`:tradesplay/trade/ set .Q.en[`:tradesplay/] trade"
   ]
  },
  {
   "cell_type": "markdown",
   "metadata": {},
   "source": [
    "<img src=\"../images/qbies.png\" style=\"width: 50px;padding-right:5px;padding-top:2px;padding-left:5px;\" align=\"left\"/>\n",
    "\n",
    "<p style='color:#273a6e'><i>A limitation of <code>.Q.en</code> is that we cannot change the enumeration filename from `sym`.If we want to change the enumeration filename, we can use <a href=\"https://code.kx.com/q/ref/dotq/#qens-enumerate-against-domain\">.Q.ens</a></i></p>"
   ]
  },
  {
   "cell_type": "code",
   "execution_count": 59,
   "metadata": {},
   "outputs": [
    {
     "name": "stdout",
     "output_type": "stream",
     "text": [
      ":tradesplay/newtrade/\n",
      "\"mysym\"\n",
      "\"newtrade\"\n",
      "\"sym\"\n",
      "\"trade\"\n"
     ]
    }
   ],
   "source": [
    "`:tradesplay/newtrade/ set .Q.ens[`:tradesplay/;trade;`mysym] \n",
    "system\"ls tradesplay/\"\n",
    "//system\"ls tradesplay/\""
   ]
  },
  {
   "cell_type": "markdown",
   "metadata": {
    "reveal": "vnljqe6u1b",
    "reveal-hidden": false
   },
   "source": [
    "##### Exercise \n",
    "Use `.Q.en` to enumerate the table <code>([]s:10?\\`1;s2:10?\\`2;s3:10?\\`3)</code> in the enumDB directory - don't save the table splayed. "
   ]
  },
  {
   "cell_type": "code",
   "execution_count": 60,
   "metadata": {
    "reveal": "vnljqe6u1b"
   },
   "outputs": [
    {
     "name": "stdout",
     "output_type": "stream",
     "text": [
      "s s2 s3 \n",
      "--------\n",
      "e lo aib\n",
      "k mh ekk\n",
      "d ff dhe\n",
      "e dg pjh\n",
      "b ge hbk\n",
      "d ia cdf\n",
      "p ce lol\n",
      "l dp edn\n",
      "l lf oko\n",
      "k eh kmg\n",
      "`o`m`h`k`e`c`d`eg`ap`bd`mh`ge`ol`en`cn`pd`ab`emn`bon`boi`kac`gbp`mpc`bhc`ikh`..\n"
     ]
    }
   ],
   "source": [
    ".Q.en[`:enumDB;([]s:10?`1;s2:10?`2;s3:10?`3)]\n",
    "get `:enumDB/sym"
   ]
  },
  {
   "cell_type": "code",
   "execution_count": 61,
   "metadata": {},
   "outputs": [
    {
     "name": "stdout",
     "output_type": "stream",
     "text": [
      "s s2 s3 \n",
      "--------\n",
      "d of mip\n",
      "l gm jch\n",
      "h kl pnp\n",
      "l dn bhk\n",
      "n hn ogm\n",
      "f kf jcl\n",
      "a pg omh\n",
      "n nh pje\n",
      "d di ajc\n",
      "j jg ggh\n",
      "`o`m`h`k`e`c`d`eg`ap`bd`mh`ge`ol`en`cn`pd`ab`emn`bon`boi`kac`gbp`mpc`bhc`ikh`..\n",
      "\"ex\"\n",
      "\"price\"\n",
      "\"size\"\n",
      "\"sym\"\n",
      "\"timestamp\"\n"
     ]
    }
   ],
   "source": [
    "// your answer here\n",
    "//show table1:([]s:10?`1;s2:10?`2;s3:10?`3)\n",
    ".Q.en[`:enumDB;table1]\n",
    "//\\ls enumDB\n",
    "get `:enumDB/sym\n",
    "\\ls tradesplay/newtrade"
   ]
  },
  {
   "cell_type": "markdown",
   "metadata": {
    "jp-MarkdownHeadingCollapsed": true
   },
   "source": [
    "# Operating on a splayed table\n",
    "\n",
    "We can manipulate a splayed table using the same qSQL methods as we did with tables in memory, with the exception of `update` and `delete` command which cannot modify the table. When referring to the splayed table, we can use it's file handle. "
   ]
  },
  {
   "cell_type": "markdown",
   "metadata": {},
   "source": [
    "Let's look at some examples:"
   ]
  },
  {
   "cell_type": "code",
   "execution_count": 62,
   "metadata": {},
   "outputs": [
    {
     "name": "stdout",
     "output_type": "stream",
     "text": [
      "price   \n",
      "--------\n",
      "499.9135\n",
      ":tradesplay/trade/\n",
      "timestamp                     sym price    size ex\n",
      "--------------------------------------------------\n",
      "2000.06.21D13:11:18.317291198 m   417.7496 1000 eg\n",
      "2001.08.26D03:12:59.109603248 k   293.0002 1000 d \n",
      "2002.05.26D22:25:52.785482080 m   455.1672 1000 c \n",
      "2003.06.27D15:29:10.113891728 e   202.301  1000 c \n",
      "2004.03.04D04:48:57.639236784 k   217.4016 1000 eg\n",
      "2004.06.28D18:37:01.571758832 o   335.4528 1000 eg\n",
      "2005.07.11D21:42:47.655702880 h   360.6626 1000 ap\n",
      "2006.04.20D07:07:57.066013056 k   406.3522 1000 c \n",
      "2007.01.29D10:14:09.000577152 o   129.8229 1000 ap\n",
      "2007.04.18D04:04:53.197767648 h   445.286  1000 c \n",
      "2008.03.04D11:30:44.301784864 k   109.458  1000 eg\n",
      "2008.03.11D18:03:08.143979520 o   430.8923 1000 ap\n",
      "2008.11.02D05:35:23.838847872 h   283.8631 1000 d \n",
      "2009.09.07D07:59:25.421223744 o   294.4023 1000 d \n",
      "2010.11.04D18:46:16.330805248 k   129.6993 1000 c \n",
      "2011.09.25D12:46:20.337865152 e   43.54202 1000 d \n",
      "2013.08.06D19:26:41.240546624 m   41.1192  1000 c \n",
      "2014.01.04D19:22:55.429620416 k   125.672  1000 ap\n",
      "2014.03.22D09:53:25.159935808 e   46.59443 1000 eg\n",
      "2015.04.24D15:16:49.520396544 k   110.2722 1000 d \n",
      "..\n"
     ]
    }
   ],
   "source": [
    "select max price from `:tradesplay/trade/ //using select to calculate the max price\n",
    "`size xdesc `:tradesplay/trade/           //ordering the table in descending order wrt size\n",
    "get `:tradesplay/trade                    //now ordered on disk!"
   ]
  },
  {
   "cell_type": "markdown",
   "metadata": {},
   "source": [
    "However, we cannot delete or update these tables using the file handle:"
   ]
  },
  {
   "cell_type": "code",
   "execution_count": 64,
   "metadata": {},
   "outputs": [],
   "source": [
    "//delete size from `:tradesplay/trade"
   ]
  },
  {
   "cell_type": "code",
   "execution_count": null,
   "metadata": {},
   "outputs": [],
   "source": [
    "update newCol:size from `:tradesplay/trade"
   ]
  },
  {
   "cell_type": "markdown",
   "metadata": {
    "reveal": "apy7o6lozbp",
    "reveal-hidden": false
   },
   "source": [
    "##### Exercise \n",
    "Using the filehandle, calculate the average price broken down by sym from the on disk splayed trade table. "
   ]
  },
  {
   "cell_type": "code",
   "execution_count": null,
   "metadata": {
    "reveal": "apy7o6lozbp"
   },
   "outputs": [],
   "source": [
    "select avg price by sym from `:tradesplay/trade"
   ]
  },
  {
   "cell_type": "code",
   "execution_count": 65,
   "metadata": {},
   "outputs": [
    {
     "name": "stdout",
     "output_type": "stream",
     "text": [
      "sym| price   \n",
      "---| --------\n",
      "e  | 268.3158\n",
      "h  | 262.4072\n",
      "k  | 206.5913\n",
      "m  | 234.0842\n",
      "o  | 252.7041\n"
     ]
    }
   ],
   "source": [
    "//your answer here\n",
    "select avg price by sym from `:tradesplay/trade"
   ]
  },
  {
   "cell_type": "markdown",
   "metadata": {},
   "source": [
    "## Updating Splayed tables\n",
    "\n",
    "It is not possible to use qSQL to update data in persisted splayed tables on disk. "
   ]
  },
  {
   "cell_type": "markdown",
   "metadata": {},
   "source": [
    "### Adding more rows \n",
    "If we wanted to append a record to a splayed table we can use `upsert`. Let's look at a smaller table so we can see if we have added new records to the splayed table."
   ]
  },
  {
   "cell_type": "code",
   "execution_count": 66,
   "metadata": {},
   "outputs": [
    {
     "name": "stdout",
     "output_type": "stream",
     "text": [
      ":tradesplay/tnew/\n",
      "s    price size\n",
      "---------------\n",
      "JPM  10    100 \n",
      "IBM  20    200 \n",
      "MSFT 30    300 \n"
     ]
    }
   ],
   "source": [
    "`:tradesplay/tnew/ set .Q.en[`:tradesplay/tnew;] ([]s:`JPM`IBM`MSFT;price:10 20 30;size:100 200 300) //creating a splayed table\n",
    "get `:tradesplay/tnew"
   ]
  },
  {
   "cell_type": "code",
   "execution_count": 67,
   "metadata": {},
   "outputs": [
    {
     "name": "stdout",
     "output_type": "stream",
     "text": [
      ":tradesplay/tnew/\n",
      "s    price size\n",
      "---------------\n",
      "JPM  10    100 \n",
      "IBM  20    200 \n",
      "MSFT 30    300 \n",
      "KX   40    400 \n",
      "GS   50    500 \n"
     ]
    }
   ],
   "source": [
    "`:tradesplay/tnew/ upsert .Q.en[`:tradesplay/tnew;]([]s:`KX`GS;price:40 50;size:400 500)\n",
    "get `:tradesplay/tnew"
   ]
  },
  {
   "cell_type": "markdown",
   "metadata": {},
   "source": [
    "\n",
    "We can also use [`upsert`](https://code.kx.com/q/ref/upsert/) to create a splayed table. If the file doesn't exist, it will act as `set`. The right hand argument is the file handle that we will write to. In the example below we will create a new splayed table using `upsert`."
   ]
  },
  {
   "cell_type": "code",
   "execution_count": 68,
   "metadata": {},
   "outputs": [
    {
     "name": "stdout",
     "output_type": "stream",
     "text": [
      ":tmp/\n"
     ]
    }
   ],
   "source": [
    "`:tmp/ upsert ([] a:10 20 30; b:1.1 2.2 3.3)"
   ]
  },
  {
   "cell_type": "code",
   "execution_count": 69,
   "metadata": {},
   "outputs": [
    {
     "name": "stdout",
     "output_type": "stream",
     "text": [
      "a  b  \n",
      "------\n",
      "10 1.1\n",
      "20 2.2\n",
      "30 3.3\n"
     ]
    }
   ],
   "source": [
    "get `:tmp"
   ]
  },
  {
   "cell_type": "markdown",
   "metadata": {},
   "source": [
    "The keyword `insert` can be used to insert data into a table but unlike `upsert` it will not create a non existant table:"
   ]
  },
  {
   "cell_type": "code",
   "execution_count": 71,
   "metadata": {},
   "outputs": [
    {
     "name": "stdout",
     "output_type": "stream",
     "text": [
      "6 7 8\n"
     ]
    }
   ],
   "source": [
    "`:tmp/ insert ([]a: 10 20 30;b: 1.1 2.2 3.3)      //inserting into an existing table\n",
    "//`:newTmp/ insert ([]a: 10 20 30;b: 1.1 2.2 3.3)   //can't insert and create a table"
   ]
  },
  {
   "cell_type": "markdown",
   "metadata": {},
   "source": [
    "### Adding more columns\n",
    "To add a new column to a splayed table, we will first have to get the row count from any column file. We will then have to modify the `.d` file so it contains the new columns."
   ]
  },
  {
   "cell_type": "code",
   "execution_count": 72,
   "metadata": {},
   "outputs": [
    {
     "name": "stdout",
     "output_type": "stream",
     "text": [
      ":tradesplay/tnew/ex\n",
      "s    price size\n",
      "---------------\n",
      "JPM  10    100 \n",
      "IBM  20    200 \n",
      "MSFT 30    300 \n",
      "KX   40    400 \n",
      "GS   50    500 \n",
      "5\n"
     ]
    }
   ],
   "source": [
    "show n:count get `:tradesplay/tnew/s          //getting the number of rows\n",
    "`:tradesplay/tnew/ex set n?(\"N\";\"O\")          //creating a new column called exchange\n",
    "get `:tradesplay/tnew                         //we have made the column but it's not shown in our table yet"
   ]
  },
  {
   "cell_type": "code",
   "execution_count": 74,
   "metadata": {},
   "outputs": [
    {
     "name": "stdout",
     "output_type": "stream",
     "text": [
      ":tradesplay/tnew/.d\n",
      "s    price size ex ex\n",
      "---------------------\n",
      "JPM  10    100  N  N \n",
      "IBM  20    200  N  N \n",
      "MSFT 30    300  N  N \n",
      "KX   40    400  O  O \n",
      "GS   50    500  O  O \n"
     ]
    }
   ],
   "source": [
    "`:tradesplay/tnew/.d set get[`:tradesplay/tnew/.d],`ex   //new column added to .d file\n",
    "get `:tradesplay/tnew                         //new column availble in  table"
   ]
  },
  {
   "cell_type": "markdown",
   "metadata": {},
   "source": [
    "What happens when you re-run the above code cell a few times?"
   ]
  },
  {
   "cell_type": "markdown",
   "metadata": {},
   "source": [
    "### Deleting from splayed tables\n",
    "We can also \"delete\" a column by removing the file and modify the `.d` file to reflect that it doesn't exist anymore."
   ]
  },
  {
   "cell_type": "code",
   "execution_count": null,
   "metadata": {},
   "outputs": [],
   "source": [
    "system\"rm tradesplay/tnew/ex\" //removing file \n",
    "`:tradesplay/tnew/.d set get[`:tradesplay/tnew/.d] except `ex  //changing .d file to remove column \n",
    "get `:tradesplay/tnew //returning new table"
   ]
  },
  {
   "cell_type": "markdown",
   "metadata": {},
   "source": [
    "<img src=\"../images/qbies.png\" style=\"width: 50px;padding-right:5px;padding-top:12px;padding-left:5px;\" align=\"left\"/>\n",
    "\n",
    "<p style='color:#273a6e'><i> Removing columns from the .d files is a sort-of \"safe\" or soft-deletion to do before clearing off the actual data! We can test the impact on users before actually removing the data from the disk, just in case!</i></p>"
   ]
  },
  {
   "cell_type": "markdown",
   "metadata": {
    "reveal": "rqu4b53753",
    "reveal-hidden": true
   },
   "source": [
    "##### Exercise\n",
    "Add a new column `timestamp` that contains randomly generated timestamps to the `tnew` splayed table. "
   ]
  },
  {
   "cell_type": "code",
   "execution_count": null,
   "metadata": {
    "reveal": "rqu4b53753"
   },
   "outputs": [],
   "source": [
    "n:count get `:tradesplay/tnew/                                //getting the number of rows\n",
    "`:tradesplay/tnew/timestamp set n?.z.p                         //creating a new column\n",
    "`:tradesplay/tnew/.d set distinct get[`:tradesplay/tnew/.d],`timestamp    //using distinct to avoide column duplication\n",
    "get `:tradesplay/tnew                                         //new column is added to the table"
   ]
  },
  {
   "cell_type": "code",
   "execution_count": 82,
   "metadata": {},
   "outputs": [
    {
     "name": "stdout",
     "output_type": "stream",
     "text": [
      ":tradesplay/tnew/timestamp\n",
      ":tradesplay/tnew/.d\n",
      "5\n",
      "2017.07.14D19:57:55.435412032 2022.10.24D20:27:39.771329792 2008.08.29D10:12:..\n"
     ]
    }
   ],
   "source": [
    "// your answer here\n",
    "//\\ls tradesplay/tnew\n",
    "show total:count get `:tradesplay/tnew/size\n",
    "show timestamp:total?.z.p\n",
    "\n",
    "`:tradesplay/tnew/timestamp set timestamp\n",
    "`:tradesplay/tnew/.d set get[`:tradesplay/tnew/.d],`timestamp\n"
   ]
  },
  {
   "cell_type": "code",
   "execution_count": 83,
   "metadata": {},
   "outputs": [
    {
     "name": "stdout",
     "output_type": "stream",
     "text": [
      "\"ex\"\n",
      "\"price\"\n",
      ",\"s\"\n",
      "\"size\"\n",
      "\"sym\"\n",
      "\"timestamp\"\n"
     ]
    }
   ],
   "source": [
    "\\ls tradesplay/tnew"
   ]
  },
  {
   "cell_type": "markdown",
   "metadata": {
    "reveal": "7zaqw31nu0j",
    "reveal-hidden": false
   },
   "source": [
    "Modify the type of the `price` column in the splayed table to be a `float` rather than a long. \n"
   ]
  },
  {
   "cell_type": "code",
   "execution_count": null,
   "metadata": {
    "reveal": "7zaqw31nu0j"
   },
   "outputs": [],
   "source": [
    "meta get `:tradesplay/tnew"
   ]
  },
  {
   "cell_type": "code",
   "execution_count": null,
   "metadata": {
    "reveal": "7zaqw31nu0j"
   },
   "outputs": [],
   "source": [
    "@[`:tradesplay/tnew;`price;`float$]      //modifying the table directly on disk"
   ]
  },
  {
   "cell_type": "code",
   "execution_count": null,
   "metadata": {
    "reveal": "7zaqw31nu0j"
   },
   "outputs": [],
   "source": [
    "meta get `:tradesplay/tnew"
   ]
  },
  {
   "cell_type": "code",
   "execution_count": 89,
   "metadata": {},
   "outputs": [
    {
     "name": "stdout",
     "output_type": "stream",
     "text": [
      ":tradesplay/tnew\n"
     ]
    }
   ],
   "source": [
    "//your answer here \n",
    "@[`:tradesplay/tnew;`price;`float$] "
   ]
  },
  {
   "cell_type": "markdown",
   "metadata": {
    "jp-MarkdownHeadingCollapsed": true
   },
   "source": [
    "# Loading splayed tables\n",
    "They can be loaded into a q process that is started with a directory as argument or during start-up it\n",
    "loads a directory using `\\l` command. In this case the directory argument is considered as the home\n",
    "directory of the database."
   ]
  },
  {
   "cell_type": "code",
   "execution_count": null,
   "metadata": {},
   "outputs": [],
   "source": [
    "\\l tradesplay\n",
    "trade"
   ]
  },
  {
   "cell_type": "markdown",
   "metadata": {
    "reveal": "hb2fnsfqn4j",
    "reveal-hidden": true
   },
   "source": [
    "<img src=\"../images/qbies.png\" style=\"width: 50px;padding-right:5px;padding-top:10px;padding-left:5px;\" align=\"left\"/>\n",
    "\n",
    "<p style='color:#273a6e'><i> Loading a historical database (HDB) always changes the current directory to the HDB directory! Ensure you move back to the original directory or restart the kernel before doing this task</i></p>"
   ]
  },
  {
   "cell_type": "code",
   "execution_count": null,
   "metadata": {
    "reveal": "hb2fnsfqn4j"
   },
   "outputs": [],
   "source": [
    "\\pwd\n",
    "system\"cd ../\" //can also run this to return to original directory\n",
    "\\pwd"
   ]
  },
  {
   "cell_type": "markdown",
   "metadata": {},
   "source": [
    "We can only have one directory loaded into a kdb+/q process at a given time. In some cases to work around this limitation, people will use [symbolic links](https://en.wikipedia.org/wiki/Symbolic_link) (aka symlinks) to link databases. "
   ]
  },
  {
   "cell_type": "markdown",
   "metadata": {},
   "source": [
    "# Guidance on the  sym file\n",
    "\n",
    "The sym file is a kdb+ binary file containing the list of symbols from all splayed and partitioned tables. During the enumeration process, all columns of symbol type are converted to enumerations against the sym file, after new symbols are added to the sym file. Therefore, the sym file contains a list of unique values. Since the sym file is a kdb+ binary file, it can be read with the [get](https://code.kx.com/q/ref/get/#get) function."
   ]
  },
  {
   "cell_type": "markdown",
   "metadata": {},
   "source": [
    "The sym file is located at the same level in our HDB directory as the folder for the splayed table itself. We will look at the `tradesplay` table that we saved down earlier with `.Q.en`: "
   ]
  },
  {
   "cell_type": "code",
   "execution_count": 90,
   "metadata": {},
   "outputs": [
    {
     "name": "stdout",
     "output_type": "stream",
     "text": [
      "`s#`mysym`newtrade`sym`tnew`trade\n"
     ]
    }
   ],
   "source": [
    "key `:tradesplay"
   ]
  },
  {
   "cell_type": "markdown",
   "metadata": {},
   "source": [
    "Looking at the data stored in this:"
   ]
  },
  {
   "cell_type": "code",
   "execution_count": 91,
   "metadata": {},
   "outputs": [
    {
     "name": "stdout",
     "output_type": "stream",
     "text": [
      "`BTU`T`BAC`DIS`GE`NASDAQ`LSE`JPX`NYSE\n"
     ]
    }
   ],
   "source": [
    "get `:tradesplay/sym"
   ]
  },
  {
   "cell_type": "code",
   "execution_count": 92,
   "metadata": {},
   "outputs": [
    {
     "name": "stdout",
     "output_type": "stream",
     "text": [
      "timestamp                     sym  price    size ex\n",
      "---------------------------------------------------\n",
      "2000.06.21D13:11:18.317291198 IBM  417.7496 1000   \n",
      "2001.08.26D03:12:59.109603248 KX   293.0002 1000   \n",
      "2002.05.26D22:25:52.785482080 IBM  455.1672 1000   \n",
      "2003.06.27D15:29:10.113891728 GS   202.301  1000   \n",
      "2004.03.04D04:48:57.639236784 KX   217.4016 1000   \n",
      "2004.06.28D18:37:01.571758832 JPM  335.4528 1000   \n",
      "2005.07.11D21:42:47.655702880 MSFT 360.6626 1000   \n",
      "2006.04.20D07:07:57.066013056 KX   406.3522 1000   \n",
      "2007.01.29D10:14:09.000577152 JPM  129.8229 1000   \n",
      "2007.04.18D04:04:53.197767648 MSFT 445.286  1000   \n",
      "2008.03.04D11:30:44.301784864 KX   109.458  1000   \n",
      "2008.03.11D18:03:08.143979520 JPM  430.8923 1000   \n",
      "2008.11.02D05:35:23.838847872 MSFT 283.8631 1000   \n",
      "2009.09.07D07:59:25.421223744 JPM  294.4023 1000   \n",
      "2010.11.04D18:46:16.330805248 KX   129.6993 1000   \n",
      "2011.09.25D12:46:20.337865152 GS   43.54202 1000   \n",
      "2013.08.06D19:26:41.240546624 IBM  41.1192  1000   \n",
      "2014.01.04D19:22:55.429620416 KX   125.672  1000   \n",
      "2014.03.22D09:53:25.159935808 GS   46.59443 1000   \n",
      "2015.04.24D15:16:49.520396544 KX   110.2722 1000   \n",
      "..\n"
     ]
    }
   ],
   "source": [
    "get `:tradesplay/trade"
   ]
  },
  {
   "cell_type": "markdown",
   "metadata": {},
   "source": [
    "If our sym file becomes damamged or corrupted this is reflected in our table: "
   ]
  },
  {
   "cell_type": "code",
   "execution_count": null,
   "metadata": {},
   "outputs": [],
   "source": [
    "//NEVER DO THIS IN REAL LIFE\n",
    "`:tradesplay/sym set neg[count s]?s:get `:tradesplay/sym  //randomly resampling our symbol enumeration \n",
    "sym: get `:tradesplay/sym\n",
    "get `:tradesplay/trade                        //our trade table symbol columns are how misordered"
   ]
  },
  {
   "cell_type": "markdown",
   "metadata": {},
   "source": [
    "Thus the validity of the data is highly dependent on the sym file - this is why it should be backed up regularly. \n",
    "\n",
    "**A great resource for further reading on the sym file is the [Working with sym files](https://code.kx.com/q/wp/symfiles/) whitepaper.**"
   ]
  },
  {
   "cell_type": "markdown",
   "metadata": {},
   "source": [
    "# Considerations on splayed tables "
   ]
  },
  {
   "cell_type": "markdown",
   "metadata": {},
   "source": [
    "##### Limitations"
   ]
  },
  {
   "cell_type": "markdown",
   "metadata": {},
   "source": [
    "There are some **limitations** with splayed tables:\n",
    "1. Keyed tables cannot be splayed. \n",
    "2. All symbol columns must be enumerated"
   ]
  },
  {
   "cell_type": "markdown",
   "metadata": {},
   "source": [
    "##### Nested Columns\n",
    "\n",
    "In cases where we are saving simple lists of lists down to disk, two files are created on disk - `nestedCol` and `nestedCol#`. The first file has the entire column stored as a single continuous list, and the second file (`#`) has a list of indexes at which to cut to reproduce the nested list."
   ]
  },
  {
   "cell_type": "markdown",
   "metadata": {},
   "source": [
    "<img src=\"../images/qbies.png\" style=\"width: 50px;padding-right:5px;padding-top:2px;padding-left:5px;\" align=\"left\"/>\n",
    "\n",
    "<p style='color:#273a6e'><i>A common example of where this occurs are any string columns, since they're really just list of characters!  </i></p>"
   ]
  },
  {
   "cell_type": "markdown",
   "metadata": {},
   "source": [
    "##### Anymap columns \n",
    "\n",
    "Since version 3.6 the [anymap](https://code.kx.com/q/releases/ChangesIn3.6/#anymap) type was introduced as a means to allow the storage and efficient retrieval of nested on disk structures that are not uniform (i.e. all of the same type). Similar to the nested columns, saving an anymap column produces many files, the first two `name` and `name#` are similar to what we saw with *Nested Columns*. "
   ]
  },
  {
   "cell_type": "code",
   "execution_count": 93,
   "metadata": {},
   "outputs": [
    {
     "name": "stdout",
     "output_type": "stream",
     "text": [
      ":simpleAnyMap\n"
     ]
    }
   ],
   "source": [
    "`:simpleAnyMap set (1 2; 2 3;2 3f;2 4e)  //anything with a type that resolves to 0h saves as anyMap"
   ]
  },
  {
   "cell_type": "code",
   "execution_count": 94,
   "metadata": {},
   "outputs": [
    {
     "name": "stdout",
     "output_type": "stream",
     "text": [
      "1 2\n",
      "2 3\n",
      "2 3\n",
      "2 4\n",
      "77h\n",
      "7 7 9 8h\n"
     ]
    }
   ],
   "source": [
    "get `:simpleAnyMap                       //retrieving the saved data \n",
    "type get `:simpleAnyMap                  //77h is the type for anymap\n",
    "type each get `:simpleAnyMap             //each item still has it's own type "
   ]
  },
  {
   "cell_type": "code",
   "execution_count": 95,
   "metadata": {},
   "outputs": [
    {
     "name": "stdout",
     "output_type": "stream",
     "text": [
      "`simpleAnyMap`simpleAnyMap#\n"
     ]
    }
   ],
   "source": [
    "f where (f:key `:.) like \"simpleAnyMap*\"  //the files that were saved for simpleAnyMap"
   ]
  },
  {
   "cell_type": "markdown",
   "metadata": {},
   "source": [
    "There is a third column created when the data we are saving has symbols within it - `name##`. This is a custom enumeration for the symbols present in our nested list. This is denumerated (therefore always copied) on access. "
   ]
  },
  {
   "cell_type": "code",
   "execution_count": 96,
   "metadata": {},
   "outputs": [
    {
     "name": "stdout",
     "output_type": "stream",
     "text": [
      ":symbolAnyMap\n"
     ]
    }
   ],
   "source": [
    "`:symbolAnyMap set (`a`b!1 2; `d`e!2 3;`e`c!2 3f;2 4e)"
   ]
  },
  {
   "cell_type": "code",
   "execution_count": 97,
   "metadata": {},
   "outputs": [
    {
     "name": "stdout",
     "output_type": "stream",
     "text": [
      "`a`b!1 2\n",
      "`d`e!2 3\n",
      "`e`c!2 3f\n",
      "2 4e\n",
      "77h\n",
      "99 99 99 8h\n"
     ]
    }
   ],
   "source": [
    "get `:symbolAnyMap               \n",
    "type get `:symbolAnyMap\n",
    "type each get `:symbolAnyMap"
   ]
  },
  {
   "cell_type": "code",
   "execution_count": 98,
   "metadata": {},
   "outputs": [
    {
     "name": "stdout",
     "output_type": "stream",
     "text": [
      "`symbolAnyMap`symbolAnyMap#`symbolAnyMap##\n"
     ]
    }
   ],
   "source": [
    "f where (f:key `:.) like \"symbolAnyMap*\"  //extra ## file "
   ]
  },
  {
   "cell_type": "markdown",
   "metadata": {},
   "source": [
    "<img src=\"../images/qbies.png\" style=\"width: 50px;padding-right:5px;padding-top:12px;padding-left:5px;\" align=\"left\"/>\n",
    "\n",
    "<p style='color:#273a6e'><i>Memory considerations when using anymap - the <code>name#</code> stays mapped (therefore present in process memory) for as long as there is any ref to object mapped within the structure. </i></p>"
   ]
  },
  {
   "cell_type": "markdown",
   "metadata": {},
   "source": [
    "##### Quiz Time!\n",
    "Try the splayed table exercises to test your knowledge and to create and update splayed tables yourself!"
   ]
  }
 ],
 "metadata": {
  "celltoolbar": "Raw Cell Format",
  "kernelspec": {
   "display_name": "Python 3 (ipykernel)",
   "language": "python",
   "name": "python3"
  },
  "language_info": {
   "codemirror_mode": {
    "name": "ipython",
    "version": 3
   },
   "file_extension": ".py",
   "mimetype": "text/x-python",
   "name": "python",
   "nbconvert_exporter": "python",
   "pygments_lexer": "ipython3",
   "version": "3.11.10"
  },
  "toc": {
   "base_numbering": 1,
   "nav_menu": {
    "height": "430px",
    "width": "160px"
   },
   "number_sections": true,
   "sideBar": true,
   "skip_h1_title": false,
   "title_cell": "Table of Contents",
   "title_sidebar": "Contents",
   "toc_cell": false,
   "toc_position": {},
   "toc_section_display": true,
   "toc_window_display": true
  },
  "widgets": {
   "application/vnd.jupyter.widget-state+json": {
    "state": {},
    "version_major": 2,
    "version_minor": 0
   }
  }
 },
 "nbformat": 4,
 "nbformat_minor": 4
}
