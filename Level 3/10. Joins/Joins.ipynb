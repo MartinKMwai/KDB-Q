{
 "cells": [
  {
   "cell_type": "code",
   "execution_count": 1,
   "metadata": {
    "autorun": true,
    "editable": false,
    "jupyter": {
     "source_hidden": true
    },
    "tags": [
     "remove-cell"
    ]
   },
   "outputs": [],
   "source": [
    "#;.pykx.disableJupyter()"
   ]
  },
  {
   "cell_type": "code",
   "execution_count": 2,
   "metadata": {
    "autorun": true,
    "editable": false,
    "jupyter": {
     "source_hidden": true
    },
    "tags": [
     "remove-cell"
    ]
   },
   "outputs": [
    {
     "name": "stdout",
     "output_type": "stream",
     "text": [
      "PyKX now running in 'jupyter_qfirst' mode. All cells by default will be run as q code. \n",
      "Include '%%py' at the beginning of each cell to run as python code. \n"
     ]
    }
   ],
   "source": [
    "# https://code.kx.com/pykx/3.0/examples/jupyter-integration.html#q-first-mode\n",
    "import pykx as kx\n",
    "kx.util.jupyter_qfirst_enable()"
   ]
  },
  {
   "cell_type": "code",
   "execution_count": 4,
   "metadata": {},
   "outputs": [
    {
     "name": "stdout",
     "output_type": "stream",
     "text": [
      "Database present - loading local partitioned database /home/jovyan/course-advanced/.hidden/db/taq\n"
     ]
    }
   ],
   "source": [
    "system\"l init.q\"\n",
    "\n",
    "//subsequent calls to this init will throw an error because we have changed directory \n",
    "    //this error can be safely ignored \n",
    "\n",
    "//if you need to do a hard reset, please restart the kernel. "
   ]
  },
  {
   "cell_type": "markdown",
   "metadata": {},
   "source": [
    "**Learning Outcomes**\n",
    "\n",
    "To understand:\n",
    "* Keyed Joins - uj,ej, pj\n",
    "* Bitemporal (asof) joins \n",
    "* How to use aj \n",
    "* How to use wj "
   ]
  },
  {
   "cell_type": "markdown",
   "metadata": {
    "heading_collapsed": true,
    "jp-MarkdownHeadingCollapsed": true
   },
   "source": [
    "# Introduction \n",
    "\n",
    "In a conventional database [joins](https://code.kx.com/q/basics/joins/) are primarily associated with tables, in which a join is used to extract data from a lookup table based on a common column or key. In q, tables are first-class entities in the language. You can define tables and relations statically, but it is easy to create them dynamically. It is even possible to join tables that could have a relation but do not."
   ]
  },
  {
   "cell_type": "markdown",
   "metadata": {
    "hidden": true
   },
   "source": [
    "## Keyed Joins\n",
    "\n",
    "Keyed joins such as [```lj```](https://code.kx.com/q/ref/lj/) and [```ij```](https://code.kx.com/q/ref/ij/) can be used when tables need to be joined by specific field such as date or sym. Here is a list of keyed joins in q that were covered in KX Fundamental course:\n",
    "* [Left Join - lj](https://code.kx.com/q/ref/lj/)\n",
    "* [Inner Join - ij](https://code.kx.com/q/ref/ij/)\n",
    "\n",
    "The following joins will be discussed below:\n",
    "\n",
    "* [Plus Join - pj](https://code.kx.com/q/ref/pj/)\n",
    "* [Union join - uj](https://code.kx.com/q/ref/uj/)  \n",
    "* [Equi join - ej](https://code.kx.com/q/ref/ej/)"
   ]
  },
  {
   "cell_type": "markdown",
   "metadata": {
    "hidden": true
   },
   "source": [
    "###### Recap"
   ]
  },
  {
   "cell_type": "markdown",
   "metadata": {
    "hidden": true
   },
   "source": [
    "* **Left Join** -`lj` is most commonly used to supplement a time-series table with reference data - this appends new columns to our time-series LHS table. The `lj` is one of the most frequently used joins in kdb+/q. \n",
    "\n",
    "The syntax is:```<time-series table> lj <reference (keyed) table>```"
   ]
  },
  {
   "cell_type": "code",
   "execution_count": 5,
   "metadata": {
    "hidden": true
   },
   "outputs": [
    {
     "name": "stdout",
     "output_type": "stream",
     "text": [
      "date       time         sym  price size bid   ask  \n",
      "---------------------------------------------------\n",
      "2020.01.02 09:30:00.000 AAPL 83.88 17   83.19 84.19\n",
      "2020.01.02 09:30:00.000 AAPL 83.87 74   83.19 84.19\n",
      "2020.01.02 09:30:00.000 AAPL 83.84 57   83.19 84.19\n",
      "2020.01.02 09:30:00.000 AAPL 83.87 81   83.19 84.19\n",
      "2020.01.02 09:30:00.000 AAPL 83.87 52   83.19 84.19\n",
      "2020.01.02 09:30:00.000 AAPL 83.83 20   83.19 84.19\n",
      "2020.01.02 09:30:00.000 AAPL 83.98 67   83.19 84.19\n",
      "2020.01.02 09:30:00.000 AAPL 83.97 47   83.19 84.19\n",
      "2020.01.02 09:30:00.000 AAPL 83.95 70   83.19 84.19\n",
      "2020.01.02 09:30:00.000 AAPL 83.9  62   83.19 84.19\n",
      "2020.01.02 09:30:00.000 AAPL 83.94 18   83.19 84.19\n",
      "2020.01.02 09:30:00.000 AAPL 83.89 32   83.19 84.19\n",
      "2020.01.02 09:30:00.000 AAPL 83.85 72   83.19 84.19\n",
      "2020.01.02 09:30:00.000 AAPL 83.76 10   83.19 84.19\n",
      "2020.01.02 09:30:00.000 AAPL 83.77 25   83.19 84.19\n",
      "..\n"
     ]
    }
   ],
   "source": [
    "timeSeriesTable:select date,time,sym, price,size from trade where date=2020.01.02 \n",
    "refTable:`date xkey select date,time,bid, ask from quote where date=2020.01.02\n",
    "\n",
    "timeSeriesTable lj refTable"
   ]
  },
  {
   "cell_type": "markdown",
   "metadata": {
    "hidden": true
   },
   "source": [
    "* **Inner join** - `ij` operator acts in the same way as the left join, but only records for which the key matches between tables will remain in the result table. This appends new columns to our time-series LHS table, and removes non-common rows. \n",
    "\n",
    "The syntax is: ``LHSTable ij RHSTable``"
   ]
  },
  {
   "cell_type": "code",
   "execution_count": 6,
   "metadata": {
    "hidden": true
   },
   "outputs": [
    {
     "name": "stdout",
     "output_type": "stream",
     "text": [
      "date       time         sym  price size bid   ask  \n",
      "---------------------------------------------------\n",
      "2020.01.02 09:30:00.000 AAPL 83.88 17   83.19 84.19\n",
      "2020.01.02 09:30:00.000 AAPL 83.87 74   83.19 84.19\n",
      "2020.01.02 09:30:00.000 AAPL 83.84 57   83.19 84.19\n",
      "2020.01.02 09:30:00.000 AAPL 83.87 81   83.19 84.19\n",
      "2020.01.02 09:30:00.000 AAPL 83.87 52   83.19 84.19\n",
      "2020.01.02 09:30:00.000 AAPL 83.83 20   83.19 84.19\n",
      "2020.01.02 09:30:00.000 AAPL 83.98 67   83.19 84.19\n",
      "2020.01.02 09:30:00.000 AAPL 83.97 47   83.19 84.19\n",
      "2020.01.02 09:30:00.000 AAPL 83.95 70   83.19 84.19\n",
      "2020.01.02 09:30:00.000 AAPL 83.9  62   83.19 84.19\n",
      "2020.01.02 09:30:00.000 AAPL 83.94 18   83.19 84.19\n",
      "2020.01.02 09:30:00.000 AAPL 83.89 32   83.19 84.19\n",
      "2020.01.02 09:30:00.000 AAPL 83.85 72   83.19 84.19\n",
      "2020.01.02 09:30:00.000 AAPL 83.76 10   83.19 84.19\n",
      "2020.01.02 09:30:00.000 AAPL 83.77 25   83.19 84.19\n",
      "..\n"
     ]
    }
   ],
   "source": [
    "timeSeriesTable ij refTable"
   ]
  },
  {
   "cell_type": "markdown",
   "metadata": {
    "hidden": true
   },
   "source": [
    "### Plus Join `pj`\n",
    "\n",
    "The [plus join](https://code.kx.com/q/ref/pj/) is used to sum matching columns of two tables. The left table can be either keyed or unkeyed and the right table must be keyed. The resulting table is all of the rows of the left table summed with the corresponding rows of the right table.\n",
    "\n",
    "The Syntax: \n",
    "\n",
    "    pj[unkeyed or keyed;keyed]\n",
    "\n",
    "Similar to `lj` the match is determined based on the key column in the secondary, or RHS table. "
   ]
  },
  {
   "cell_type": "code",
   "execution_count": 10,
   "metadata": {
    "hidden": true
   },
   "outputs": [
    {
     "name": "stdout",
     "output_type": "stream",
     "text": [
      "sym  amount\n",
      "-----------\n",
      "IBM  460   \n",
      "AAPL 700   \n",
      "GOOG 1230  \n",
      "sym  amount\n",
      "-----------\n",
      "IBM  400   \n",
      "AAPL 700   \n",
      "GOOG 1200  \n",
      "sym | amount\n",
      "----| ------\n",
      "IBM | 60    \n",
      "GOOG| 30    \n"
     ]
    }
   ],
   "source": [
    "show stocks:([]sym:`IBM`AAPL`GOOG;amount:400 700 1200)\n",
    "show newpurchases:([sym:`IBM`GOOG]amount:60 30)\n",
    "pj[stocks;newpurchases]"
   ]
  },
  {
   "cell_type": "markdown",
   "metadata": {
    "hidden": true
   },
   "source": [
    "<img src=\"../images/qbies.png\" style=\"width: 50px;padding-right:5px;padding-top:2px;padding-left:5px;\" align=\"left\"/>\n",
    "\n",
    "<p style='color:#273a6e'><i>Missing and null values are treated as zero</i></p>"
   ]
  },
  {
   "cell_type": "code",
   "execution_count": 11,
   "metadata": {
    "hidden": true
   },
   "outputs": [
    {
     "name": "stdout",
     "output_type": "stream",
     "text": [
      "sym  amount\n",
      "-----------\n",
      "IBM  460   \n",
      "AAPL 700   \n",
      "GOOG 1230  \n"
     ]
    }
   ],
   "source": [
    "newpurchases:([sym:`IBM`AAPL`GOOG]amount:60 0 30)\n",
    "pj[stocks;newpurchases] //same result as above"
   ]
  },
  {
   "cell_type": "markdown",
   "metadata": {
    "hidden": true
   },
   "source": [
    "### Union Join `uj`\n",
    "[Union join](https://code.kx.com/q/ref/uj/) appends data as rows in contrast to `ij` and `lj` - columns will be added where they are not already present to create a combined schema between the two tables. \n",
    "\n",
    "The syntax: \n",
    "\n",
    "     LHSTable uj RHSTable\n",
    "\n",
    "This is the most flexible join and when both tables are unkeyed looks to create a combined schema between the two tables that will allow all records to be combined. This will not throw an error in the event of type conflicts between common columns."
   ]
  },
  {
   "cell_type": "code",
   "execution_count": 12,
   "metadata": {
    "hidden": true
   },
   "outputs": [
    {
     "name": "stdout",
     "output_type": "stream",
     "text": [
      "time  sym price    size\n",
      "-----------------------\n",
      "09:00 JPM 30.31721 0   \n",
      "09:10 GE  30.31348 13  \n",
      "09:20 JPM 30.09401 11  \n",
      "09:30 IBM 30.48213 16  \n",
      "09:40 GE  30.42529 11  \n",
      "sym| companyName                     sector \n",
      "---| ---------------------------------------\n",
      "JPM| JP Morgan                       Banking\n",
      "IBM| International Business Machines IT     \n"
     ]
    }
   ],
   "source": [
    "//creating tables\n",
    "show smallTrade:([]time:09:00+10*til 5;sym:`JPM`GE`JPM`IBM`GE;price:30+5?3.;size:5?20) \n",
    "//created a key table keyed on sym\n",
    "show reference:([sym:`JPM`IBM]companyName:`$(\"JP Morgan\";\"International Business Machines\");sector:`Banking`IT) "
   ]
  },
  {
   "cell_type": "markdown",
   "metadata": {
    "hidden": true
   },
   "source": [
    "<img src=\"../images/qbies.png\" style=\"width: 50px;padding-right:5px;padding-top:2px;padding-left:5px;\" align=\"left\"/>\n",
    "\n",
    "<p style='color:#273a6e'><i> Remember you can unkey a table using `0!`</i></p>"
   ]
  },
  {
   "cell_type": "code",
   "execution_count": 13,
   "metadata": {
    "hidden": true
   },
   "outputs": [
    {
     "name": "stdout",
     "output_type": "stream",
     "text": [
      "time  sym price    size companyName                     sector \n",
      "---------------------------------------------------------------\n",
      "09:00 JPM 30.31721 0                                           \n",
      "09:10 GE  30.31348 13                                          \n",
      "09:20 JPM 30.09401 11                                          \n",
      "09:30 IBM 30.48213 16                                          \n",
      "09:40 GE  30.42529 11                                          \n",
      "      JPM               JP Morgan                       Banking\n",
      "      IBM               International Business Machines IT     \n",
      "time  sym price    size companyName                     sector \n",
      "---------------------------------------------------------------\n",
      "09:00 JPM 30.31721 0                                           \n",
      "09:10 GE  30.31348 13                                          \n",
      "09:20 JPM 30.09401 11                                          \n",
      "09:30 IBM 30.48213 16                                          \n",
      "09:40 GE  30.42529 11                                          \n",
      "      JPM          2f   JP Morgan                       Banking\n",
      "      IBM          3f   International Business Machines IT     \n"
     ]
    }
   ],
   "source": [
    "smallTrade uj 0! reference                   //common schema used and data for each present as separate rows\n",
    "smallTrade uj ([]size: 2 3f),'0! reference   //adding a size column to reference with type float"
   ]
  },
  {
   "cell_type": "markdown",
   "metadata": {
    "hidden": true
   },
   "source": [
    "In the event of just one table being keyed, an error is thrown. If both tables are keyed on the same column we get the corresponding records in each table for the set of keys :"
   ]
  },
  {
   "cell_type": "code",
   "execution_count": 14,
   "metadata": {
    "hidden": true
   },
   "outputs": [
    {
     "name": "stdout",
     "output_type": "stream",
     "text": [
      "sym| time  price    size companyName                     sector \n",
      "---| -----------------------------------------------------------\n",
      "JPM| 09:00 30.31721 0    JP Morgan                       Banking\n",
      "GE | 09:10 30.31348 13                                          \n",
      "IBM| 09:30 30.48213 16   International Business Machines IT     \n",
      "sym| companyName                     sector  time  price    size\n",
      "---| -----------------------------------------------------------\n",
      "JPM| JP Morgan                       Banking 09:00 30.31721 0   \n",
      "IBM| International Business Machines IT      09:30 30.48213 16  \n",
      "GE |                                         09:10 30.31348 13  \n"
     ]
    }
   ],
   "source": [
    "(`sym xkey smallTrade) uj reference \n",
    "reference uj (`sym xkey smallTrade)"
   ]
  },
  {
   "cell_type": "markdown",
   "metadata": {
    "hidden": true
   },
   "source": [
    "###### Example\n",
    "One use of `uj` could be to time order data from two different tables in order to ascertain the sequence of updates across multiple tables. For example, trade and order tables could be joined as below:"
   ]
  },
  {
   "cell_type": "code",
   "execution_count": 19,
   "metadata": {},
   "outputs": [
    {
     "name": "stdout",
     "output_type": "stream",
     "text": [
      "\"64578\"\n",
      "\"04629\"\n",
      "\"59722\"\n",
      "\"95169\"\n",
      "\"89269\"\n",
      "\"6457804629597229516989269\"\n"
     ]
    }
   ],
   "source": [
    "show nums: 25?.Q.n\n",
    "5 cut nums"
   ]
  },
  {
   "cell_type": "code",
   "execution_count": 20,
   "metadata": {
    "hidden": true
   },
   "outputs": [
    {
     "name": "stdout",
     "output_type": "stream",
     "text": [
      "time  sym price    size\n",
      "-----------------------\n",
      "09:00 JPM 30.31721 0   \n",
      "09:10 GE  30.31348 13  \n",
      "09:20 JPM 30.09401 11  \n",
      "09:30 IBM 30.48213 16  \n",
      "09:40 GE  30.42529 11  \n",
      "time  sym orderID      price   \n",
      "-------------------------------\n",
      "08:13 JPM \"82270kmhjm\" 38.72898\n",
      "08:15 GE  \"42232fhmoo\" 40.5766 \n",
      "08:37 JPM \"68303aemab\" 36.70438\n",
      "08:40 JPM \"71190cpejg\" 39.89686\n",
      "09:00 GE  \"61242npklc\" 30.45133\n"
     ]
    }
   ],
   "source": [
    "smallTrade // Using the trade table defined above\n",
    "/creating an order table\n",
    "show order:([]time:asc `minute$08:00+5?0D02:00:00;\n",
    "             sym:5?`JPM`GE`IBM;\n",
    "             orderID:(5 cut 25?.Q.n),'string 5?`5;\n",
    "             price:30+5?20.)"
   ]
  },
  {
   "cell_type": "markdown",
   "metadata": {
    "hidden": true
   },
   "source": [
    "It is now easy to see the sequence in which trades and orders happened."
   ]
  },
  {
   "cell_type": "code",
   "execution_count": 21,
   "metadata": {
    "hidden": true
   },
   "outputs": [
    {
     "name": "stdout",
     "output_type": "stream",
     "text": [
      "time  sym price    size orderID     \n",
      "------------------------------------\n",
      "08:13 JPM 38.72898      \"82270kmhjm\"\n",
      "08:15 GE  40.5766       \"42232fhmoo\"\n",
      "08:37 JPM 36.70438      \"68303aemab\"\n",
      "08:40 JPM 39.89686      \"71190cpejg\"\n",
      "09:00 JPM 30.31721 0    \"\"          \n",
      "09:00 GE  30.45133      \"61242npklc\"\n",
      "09:10 GE  30.31348 13   \"\"          \n",
      "09:20 JPM 30.09401 11   \"\"          \n",
      "09:30 IBM 30.48213 16   \"\"          \n",
      "09:40 GE  30.42529 11   \"\"          \n"
     ]
    }
   ],
   "source": [
    "`time xasc uj[smallTrade;order]"
   ]
  },
  {
   "cell_type": "markdown",
   "metadata": {
    "hidden": true
   },
   "source": [
    "### Equi Join `ej`\n",
    "[Equi join](https://code.kx.com/q/ref/ej/) joins two tables on specified column(s). The result is a table with all of the rows in the first table that match the second table on the specified columns.\n",
    "\n",
    "The Syntax: \n",
    "    \n",
    "    ej[matchingColumns;table1;table2]"
   ]
  },
  {
   "cell_type": "markdown",
   "metadata": {
    "hidden": true
   },
   "source": [
    "Using the trade and reference tables that were defined above, we can see that `ej` returns both `JPM` rows: "
   ]
  },
  {
   "cell_type": "code",
   "execution_count": 22,
   "metadata": {},
   "outputs": [
    {
     "name": "stdout",
     "output_type": "stream",
     "text": [
      "time  sym price    size\n",
      "-----------------------\n",
      "09:00 JPM 30.31721 0   \n",
      "09:10 GE  30.31348 13  \n",
      "09:20 JPM 30.09401 11  \n",
      "09:30 IBM 30.48213 16  \n",
      "09:40 GE  30.42529 11  \n"
     ]
    }
   ],
   "source": [
    "smallTrade"
   ]
  },
  {
   "cell_type": "code",
   "execution_count": 23,
   "metadata": {},
   "outputs": [
    {
     "name": "stdout",
     "output_type": "stream",
     "text": [
      "sym| companyName                     sector \n",
      "---| ---------------------------------------\n",
      "JPM| JP Morgan                       Banking\n",
      "IBM| International Business Machines IT     \n"
     ]
    }
   ],
   "source": [
    "reference"
   ]
  },
  {
   "cell_type": "code",
   "execution_count": 24,
   "metadata": {
    "hidden": true
   },
   "outputs": [
    {
     "name": "stdout",
     "output_type": "stream",
     "text": [
      "time  sym price    size companyName                     sector \n",
      "---------------------------------------------------------------\n",
      "09:00 JPM 30.31721 0    JP Morgan                       Banking\n",
      "09:20 JPM 30.09401 11   JP Morgan                       Banking\n",
      "09:30 IBM 30.48213 16   International Business Machines IT     \n"
     ]
    }
   ],
   "source": [
    "ej[`sym;smallTrade;0!reference]"
   ]
  },
  {
   "cell_type": "code",
   "execution_count": 25,
   "metadata": {
    "hidden": true
   },
   "outputs": [
    {
     "name": "stdout",
     "output_type": "stream",
     "text": [
      "sym| time  price    size companyName                     sector \n",
      "---| -----------------------------------------------------------\n",
      "JPM| 09:00 30.31721 0    JP Morgan                       Banking\n",
      "GE | 09:10 30.31348 13                                          \n",
      "IBM| 09:30 30.48213 16   International Business Machines IT     \n"
     ]
    }
   ],
   "source": [
    "(`sym xkey smallTrade) uj reference  //comparing to union join above"
   ]
  },
  {
   "cell_type": "markdown",
   "metadata": {
    "hidden": true
   },
   "source": [
    "##### Example \n",
    "\n",
    "Let's say we want to find all the trades that occurred at the full quote size, we can join the trade and quote tables with `ej`.  "
   ]
  },
  {
   "cell_type": "code",
   "execution_count": 26,
   "metadata": {
    "hidden": true
   },
   "outputs": [],
   "source": [
    "dts:2020.01.02\n",
    "t:select tradetime:time,sym, tprice:price,tsize:size from trade where date=dts \n",
    "q:select qtime:time,tprice:bid,tsize:bsize,sym from quote where date=dts"
   ]
  },
  {
   "cell_type": "markdown",
   "metadata": {
    "hidden": true
   },
   "source": [
    "Looking at the bid side, we can find all the trade and quote times for all possible occurrence of a trade occurring at the bid price:"
   ]
  },
  {
   "cell_type": "code",
   "execution_count": 27,
   "metadata": {
    "hidden": true
   },
   "outputs": [
    {
     "name": "stdout",
     "output_type": "stream",
     "text": [
      "tradetime    sym  tprice tsize qtime       \n",
      "-------------------------------------------\n",
      "09:30:00.025 AAPL 83.87  74    15:10:00.637\n",
      "09:30:00.028 AAPL 83.84  57    15:17:16.229\n",
      "09:30:00.031 AAPL 83.87  81    09:30:00.356\n",
      "09:30:00.031 AAPL 83.87  81    15:07:07.381\n",
      "09:30:00.041 AAPL 83.87  52    14:25:24.482\n",
      "09:30:00.147 AAPL 83.83  20    14:31:43.196\n",
      "09:30:00.216 AAPL 83.98  67    15:35:26.500\n",
      "09:30:00.441 AAPL 83.9   62    09:35:09.790\n",
      "09:30:00.441 AAPL 83.9   62    12:22:08.045\n",
      "09:30:00.536 AAPL 83.94  18    09:31:33.810\n",
      "09:30:00.536 AAPL 83.94  18    12:24:25.832\n",
      "09:30:00.575 AAPL 83.89  32    14:28:50.318\n",
      "09:30:00.594 AAPL 83.85  72    09:31:03.923\n",
      "09:30:00.594 AAPL 83.85  72    09:50:10.329\n",
      "09:30:00.796 AAPL 83.77  25    12:39:17.476\n",
      "..\n"
     ]
    }
   ],
   "source": [
    "ej[`sym`tsize`tprice;t;q]"
   ]
  },
  {
   "cell_type": "markdown",
   "metadata": {
    "hidden": true
   },
   "source": [
    "<img src=\"../images/qbies.png\" style=\"width: 50px;padding-right:5px;padding-top:2px;padding-left:5px;\" align=\"left\"/>\n",
    "\n",
    "<p style='color:#273a6e'><i> <code>lj</code> and <code>ij</code> are much faster than the equivalent <code>ej</code> joins</i></p>"
   ]
  },
  {
   "cell_type": "markdown",
   "metadata": {
    "hidden": true
   },
   "source": [
    "##### Quiz Time!\n",
    "Try Exercise 1.1 to test your keyed joins knowledge"
   ]
  },
  {
   "cell_type": "markdown",
   "metadata": {
    "hidden": true
   },
   "source": [
    "##### Exercise 1.1"
   ]
  },
  {
   "cell_type": "markdown",
   "metadata": {
    "hidden": true,
    "reveal": "i0yb4qasmlp",
    "reveal-hidden": true
   },
   "source": [
    "Create a table journey with the fields Start, End, and Price, filled with 10 entries. Start should be populated with a random selection from Waterloo, Paddington and Euston. End and Price should be appropriately set."
   ]
  },
  {
   "cell_type": "code",
   "execution_count": null,
   "metadata": {
    "hidden": true,
    "reveal": "i0yb4qasmlp"
   },
   "outputs": [],
   "source": [
    "Journeys:([]Start:10?`Waterloo`Paddington`Euston;End:10?`Bristol`Cardiff`Glasgow`Birmingham;Price:10?30.0)"
   ]
  },
  {
   "cell_type": "code",
   "execution_count": 34,
   "metadata": {
    "hidden": true
   },
   "outputs": [
    {
     "name": "stdout",
     "output_type": "stream",
     "text": [
      "start      end       price\n",
      "--------------------------\n",
      "Euston     Cambidge  42   \n",
      "Waterloo   London    14   \n",
      "Paddington Cambidge  23   \n",
      "Waterloo   Cambidge  19   \n",
      "Paddington London    45   \n",
      "Euston     Cambidge  29   \n",
      "Euston     Cambidge  28   \n",
      "Waterloo   Liverpool 45   \n",
      "Euston     Liverpool 41   \n",
      "Euston     London    46   \n"
     ]
    }
   ],
   "source": [
    "//Your answers here\n",
    "start:10?`Waterloo`Paddington`Euston\n",
    "end:10?`Cambidge`London`Liverpool\n",
    "price:10?10+til 40\n",
    "show table1:([]start;end;price)"
   ]
  },
  {
   "cell_type": "markdown",
   "metadata": {
    "hidden": true,
    "reveal": "guxcgasylal",
    "reveal-hidden": false
   },
   "source": [
    "Define a table:\n",
    "\n",
    "```\n",
    "Transport:([]Station:`Waterloo`Paddington`Euston;Direction:`South`West`North;Company:`Southwest`GNER`Virgin;TrainColour:`Blue`Green`Red)```\n",
    "\n",
    "Using a suitable type of join, link transport to journey so that we have Start, End, Price, Company "
   ]
  },
  {
   "cell_type": "code",
   "execution_count": null,
   "metadata": {
    "hidden": true,
    "reveal": "guxcgasylal"
   },
   "outputs": [],
   "source": [
    "Transport:([]Station:`Waterloo`Paddington`Euston;Direction:`South`West`North;Company:`Southwest`GNER`Virgin;TrainColour:`Blue`Green`Red)\n",
    "Journeys lj (`Start xkey select Start:Station, Company from Transport)"
   ]
  },
  {
   "cell_type": "code",
   "execution_count": 41,
   "metadata": {
    "hidden": true
   },
   "outputs": [
    {
     "name": "stdout",
     "output_type": "stream",
     "text": [
      "start      end       price Company  \n",
      "------------------------------------\n",
      "Euston     Cambidge  42    Virgin   \n",
      "Waterloo   London    14    Southwest\n",
      "Paddington Cambidge  23    GNER     \n",
      "Waterloo   Cambidge  19    Southwest\n",
      "Paddington London    45    GNER     \n",
      "Euston     Cambidge  29    Virgin   \n",
      "Euston     Cambidge  28    Virgin   \n",
      "Waterloo   Liverpool 45    Southwest\n",
      "Euston     Liverpool 41    Virgin   \n",
      "Euston     London    46    Virgin   \n"
     ]
    }
   ],
   "source": [
    "//Your answers here\n",
    "//show Transport:([]Station:`Waterloo`Paddington`Euston;Direction:`South`West`North;Company:`Southwest`GNER`Virgin;TrainColour:`Blue`Green`Red)\n",
    "show compTable:table1 lj (`start xkey select start:Station, Company from Transport)"
   ]
  },
  {
   "cell_type": "markdown",
   "metadata": {
    "hidden": true,
    "reveal": "39bs4d6bftc",
    "reveal-hidden": true
   },
   "source": [
    "Southwest decides to start 2 new services from Euston to Glasgow and Bristol priced at 21.1 and 3.14 respectively. Make a table NewJourneys with the same schema as the table above (i.e. Start, End, Price, Company) to reflect this. Then join this table to the table created above."
   ]
  },
  {
   "cell_type": "code",
   "execution_count": null,
   "metadata": {
    "hidden": true,
    "reveal": "39bs4d6bftc"
   },
   "outputs": [],
   "source": [
    "NewJourneys:([]Start:`Euston`Euston;End:`Glasgow`Bristol;Price:21.1 3.14;Company:`Southwest`Southwest)\n",
    "NewJourneys uj Journeys lj (`Start xkey select Start:Station, Company from Transport)"
   ]
  },
  {
   "cell_type": "code",
   "execution_count": 51,
   "metadata": {
    "hidden": true
   },
   "outputs": [
    {
     "name": "stdout",
     "output_type": "stream",
     "text": [
      "start      end       price Company  \n",
      "------------------------------------\n",
      "Euston     Cambidge  42    Virgin   \n",
      "Waterloo   London    14    Southwest\n",
      "Paddington Cambidge  23    GNER     \n",
      "Waterloo   Cambidge  19    Southwest\n",
      "Paddington London    45    GNER     \n",
      "Euston     Cambidge  29    Virgin   \n",
      "Euston     Cambidge  28    Virgin   \n",
      "Waterloo   Liverpool 45    Southwest\n",
      "Euston     Liverpool 41    Virgin   \n",
      "Euston     London    46    Virgin   \n",
      "Euston     Glasgow   21.1  SouthWest\n",
      "Euston     Bristol   3.14  SouthWest\n"
     ]
    }
   ],
   "source": [
    "//Your answers here\n",
    "newTable:([]start:`Euston`Euston;end:`Glasgow`Bristol;price: 21.1 3.14;Company:`SouthWest`SouthWest)\n",
    "compTable,newTable //or uj"
   ]
  },
  {
   "cell_type": "code",
   "execution_count": 44,
   "metadata": {},
   "outputs": [
    {
     "name": "stdout",
     "output_type": "stream",
     "text": [
      "c      | t f a\n",
      "-------| -----\n",
      "start  | s    \n",
      "end    | s    \n",
      "price  | f    \n",
      "company| s    \n"
     ]
    }
   ],
   "source": [
    "meta newTable"
   ]
  },
  {
   "cell_type": "code",
   "execution_count": 45,
   "metadata": {},
   "outputs": [
    {
     "name": "stdout",
     "output_type": "stream",
     "text": [
      "c      | t f a\n",
      "-------| -----\n",
      "start  | s    \n",
      "end    | s    \n",
      "price  | j    \n",
      "Company| s    \n"
     ]
    }
   ],
   "source": [
    "meta compTable"
   ]
  },
  {
   "cell_type": "markdown",
   "metadata": {
    "heading_collapsed": true
   },
   "source": [
    "# Bitemporal joins (aka \"asof\" joins)\n",
    "Some joins are [bitemporal](https://en.wikipedia.org/wiki/Temporal_database), meaning they take into account the time in two dimensions, or for us, as per two different tables. "
   ]
  },
  {
   "cell_type": "markdown",
   "metadata": {
    "hidden": true
   },
   "source": [
    "Below is a list of bitemporal joins:\n",
    "* [asof](https://code.kx.com/q/ref/aj/) - combines data based as per the time in one table with the *prevailing* values in another table. \n",
    "* [window-join](https://code.kx.com/v2/ref/wj/) - combines data based as per the time in one table with the values within a specified window in another table. "
   ]
  },
  {
   "cell_type": "markdown",
   "metadata": {
    "hidden": true
   },
   "source": [
    "## Asof Join \n",
    "\n",
    "As the name may suggest [Asof join](https://code.kx.com/q/ref/aj/) is mainly used to join columns with reference to time.\n",
    " "
   ]
  },
  {
   "cell_type": "markdown",
   "metadata": {
    "hidden": true
   },
   "source": [
    "The Syntax \n",
    "\n",
    "    aj[col1,…,coln,timeCol;source table;reference table]\n",
    "\n",
    "Where `col1` to `coln` are exact match columns and `timeCol` is the common time column that should be used for the time lookup. An `aj` also assumes that the time in our reference table is sorted - if it is not we will get odd results. "
   ]
  },
  {
   "cell_type": "markdown",
   "metadata": {
    "hidden": true
   },
   "source": [
    "It might be useful to see an example to better understand this concept, below we will create a quote and trade table:"
   ]
  },
  {
   "cell_type": "markdown",
   "metadata": {
    "hidden": true
   },
   "source": [
    "Using the asof join, we will be able to determine the prevailing quote for each trade."
   ]
  },
  {
   "cell_type": "code",
   "execution_count": 52,
   "metadata": {
    "hidden": true
   },
   "outputs": [
    {
     "name": "stdout",
     "output_type": "stream",
     "text": [
      "time  sym  ask   bid  \n",
      "----------------------\n",
      "09:29 JPM  30.23 30.2 \n",
      "09:29 AAPL 40.2  40.19\n",
      "09:32 JPM  30.35 30.33\n",
      "09:33 AAPL 40.35 40.32\n",
      "time  sym  price size\n",
      "---------------------\n",
      "09:30 JPM  30.43 100 \n",
      "09:31 AAPL 30.45 200 \n",
      "09:32 AAPL 40.45 200 \n",
      "09:33 JPM  30.55 300 \n",
      "09:34 AAPL 41    300 \n",
      "09:35 JPM  31    600 \n"
     ]
    }
   ],
   "source": [
    "show q:([]time:09:29 09:29 09:32 09:33;sym:`JPM`AAPL`JPM`AAPL;ask:30.23 40.20 30.35 40.35;bid:30.20 40.19 30.33 40.32)\n",
    "\n",
    "show t:([]time:09:30 09:31 09:32 09:33 09:34 09:35;sym:`JPM`AAPL`AAPL`JPM`AAPL`JPM;price:30.43 30.45 40.45 30.55 41.00 31.00;size:100 200 200 300 300 600)"
   ]
  },
  {
   "cell_type": "code",
   "execution_count": 53,
   "metadata": {
    "hidden": true
   },
   "outputs": [
    {
     "name": "stdout",
     "output_type": "stream",
     "text": [
      "time  sym  price size ask   bid  \n",
      "---------------------------------\n",
      "09:30 JPM  30.43 100  30.23 30.2 \n",
      "09:31 AAPL 30.45 200  40.2  40.19\n",
      "09:32 AAPL 40.45 200  40.2  40.19\n",
      "09:33 JPM  30.55 300  30.35 30.33\n",
      "09:34 AAPL 41    300  40.35 40.32\n",
      "09:35 JPM  31    600  30.35 30.33\n"
     ]
    }
   ],
   "source": [
    "aj[`sym`time;t;q]"
   ]
  },
  {
   "cell_type": "markdown",
   "metadata": {
    "hidden": true
   },
   "source": [
    "We can see that only the trades quotes corresponding to the same `sym` where used, and the last previous value as per the quote table was used. "
   ]
  },
  {
   "cell_type": "markdown",
   "metadata": {
    "hidden": true
   },
   "source": [
    "<img src=\"../images/qbies.png\" style=\"width: 50px;padding-right:5px;padding-top:2px;padding-left:5px;\" align=\"left\"/>\n",
    "\n",
    "<p style='color:#273a6e'><i>Don't forget <code>aj</code> assumes the time column in our reference table is sorted in ascending order!</i></p>"
   ]
  },
  {
   "cell_type": "markdown",
   "metadata": {
    "hidden": true
   },
   "source": [
    "### How to use ```aj```? \n",
    "What happens if we switch the order of the matching columns around ?"
   ]
  },
  {
   "cell_type": "code",
   "execution_count": 56,
   "metadata": {
    "hidden": true
   },
   "outputs": [
    {
     "name": "stdout",
     "output_type": "stream",
     "text": [
      "time  sym  price size ask   bid  \n",
      "---------------------------------\n",
      "09:30 JPM  30.43 100             \n",
      "09:31 AAPL 30.45 200             \n",
      "09:32 AAPL 40.45 200             \n",
      "09:33 JPM  30.55 300  40.35 40.32\n",
      "09:34 AAPL 41    300             \n",
      "09:35 JPM  31    600             \n"
     ]
    }
   ],
   "source": [
    "aj[`time`sym;t;q]"
   ]
  },
  {
   "cell_type": "markdown",
   "metadata": {
    "hidden": true
   },
   "source": [
    "As we can see, it's giving us the wrong answer. The last specified join column must be a temporal column. Asof joins uses a binary search algorithm to find the matching rows. The non-temporal specified join column is used to find the exact matching rows before performing the binary search. "
   ]
  },
  {
   "cell_type": "markdown",
   "metadata": {
    "hidden": true
   },
   "source": [
    "As you can see from the above result, there is only time column associated with the trade table - is it possible to retrieve the time column from the quote table ?   "
   ]
  },
  {
   "cell_type": "code",
   "execution_count": 57,
   "metadata": {
    "hidden": true
   },
   "outputs": [
    {
     "name": "stdout",
     "output_type": "stream",
     "text": [
      "time  sym  price size ask   bid  \n",
      "---------------------------------\n",
      "09:29 JPM  30.43 100  30.23 30.2 \n",
      "09:29 AAPL 30.45 200  40.2  40.19\n",
      "09:29 AAPL 40.45 200  40.2  40.19\n",
      "09:32 JPM  30.55 300  30.35 30.33\n",
      "09:33 AAPL 41    300  40.35 40.32\n",
      "09:32 JPM  31    600  30.35 30.33\n"
     ]
    }
   ],
   "source": [
    "aj0[`sym`time;t;q] //using aj0 "
   ]
  },
  {
   "cell_type": "markdown",
   "metadata": {
    "hidden": true
   },
   "source": [
    "Is it possible to retrieve the time column from both trade and quote?"
   ]
  },
  {
   "cell_type": "code",
   "execution_count": 58,
   "metadata": {
    "hidden": true
   },
   "outputs": [
    {
     "name": "stdout",
     "output_type": "stream",
     "text": [
      "time  sym  price size qtime ask   bid  \n",
      "---------------------------------------\n",
      "09:30 JPM  30.43 100  09:29 30.23 30.2 \n",
      "09:31 AAPL 30.45 200  09:29 40.2  40.19\n",
      "09:32 AAPL 40.45 200  09:29 40.2  40.19\n",
      "09:33 JPM  30.55 300  09:32 30.35 30.33\n",
      "09:34 AAPL 41    300  09:33 40.35 40.32\n",
      "09:35 JPM  31    600  09:32 30.35 30.33\n"
     ]
    }
   ],
   "source": [
    "aj[`sym`time;t;select time,qtime:time,sym,ask, bid from q] //adding a copy of time column "
   ]
  },
  {
   "cell_type": "markdown",
   "metadata": {
    "hidden": true
   },
   "source": [
    "<img src=\"../images/qbies.png\" style=\"width: 50px;padding-right:5px;padding-top:2px;padding-left:5px;\" align=\"left\"/>\n",
    "\n",
    "<p style='color:#273a6e'><i>Using this method eliminates the confusion of what time is returned.</i></p>"
   ]
  },
  {
   "cell_type": "markdown",
   "metadata": {
    "hidden": true
   },
   "source": [
    "When joining two large tables, performance is always one thing to watch out for. The asof join is very sensitive to how fast the exact match can be found. Matching on more than two columns can impact the performance: "
   ]
  },
  {
   "cell_type": "code",
   "execution_count": 59,
   "metadata": {
    "hidden": true
   },
   "outputs": [
    {
     "name": "stdout",
     "output_type": "stream",
     "text": [
      "3414935\n",
      "16336312\n"
     ]
    }
   ],
   "source": [
    "count trade\n",
    "count quote\n",
    "multiDayTrade:select from trade where date within (2020.01.02;2020.01.04),time within (09:00;10:00)\n",
    "multiDayQuote:select from quote where date within (2020.01.02;2020.01.04),time within (09:00;10:00)"
   ]
  },
  {
   "cell_type": "markdown",
   "metadata": {
    "hidden": true
   },
   "source": [
    "<img src=\"../images/qbies.png\" style=\"width: 50px;padding-right:5px;padding-top:2px;padding-left:5px;\" align=\"left\"/>\n",
    "\n",
    "<p style='color:#273a6e'><i>In this instance, we are using on-disk tables so we will have to map them into memory using <code>select ... from trade </code> </i></p>"
   ]
  },
  {
   "cell_type": "markdown",
   "metadata": {
    "hidden": true
   },
   "source": [
    "When you need to perform an asof join with 3 or more columns, it is more efficient to join each date individually and merge the result. The two reasons are:\n",
    "* There is no need to load in quotes for multiple days into memory. \n",
    "* The attributes within each quote partition are preserved. \n"
   ]
  },
  {
   "cell_type": "code",
   "execution_count": 60,
   "metadata": {
    "hidden": true
   },
   "outputs": [
    {
     "name": "stdout",
     "output_type": "stream",
     "text": [
      "date       sym  time         price size stop cond ex bid   ask   bsize asize mode\n",
      "---------------------------------------------------------------------------------\n",
      "2020.01.02 AAPL 09:30:00.021 83.88 17   0    G    N  83.28 83.99 63    12    O   \n",
      "2020.01.02 AAPL 09:30:00.025 83.87 74   0    J    N  83.43 84.75 53    33    Z   \n",
      "2020.01.02 AAPL 09:30:00.028 83.84 57   0    N    N  83.08 84.51 88    62    Y   \n",
      "2020.01.02 AAPL 09:30:00.031 83.87 81   0    K    N  83.08 84.14 15    42    R   \n",
      "2020.01.02 AAPL 09:30:00.041 83.87 52   0    G    N  83.18 84.42 43    57    A   \n",
      "2020.01.02 AAPL 09:30:00.147 83.83 20   0    Z    N  83.48 84.54 14    21    H   \n",
      "2020.01.02 AAPL 09:30:00.216 83.98 67   0    8    N  83.91 84.67 50    63    O   \n",
      "2020.01.02 AAPL 09:30:00.413 83.97 47   0    P    N  83.54 84.66 83    63    Z   \n",
      "2020.01.02 AAPL 09:30:00.439 83.95 70   0    8    N  83.29 84.88 55    83    N   \n",
      "2020.01.02 AAPL 09:30:00.441 83.9  62   0    A    N  83.44 84.26 31    42    L   \n",
      "2020.01.02 AAPL 09:30:00.536 83.94 18   0    G    N  83.39 83.98 71    72        \n",
      "2020.01.02 AAPL 09:30:00.575 83.89 32   0    G    N  83.76 84.72 75    11    R   \n",
      "2020.01.02 AAPL 09:30:00.594 83.85 72   0    A    N  83.76 84.72 75    11    R   \n",
      "2020.01.02 AAPL 09:30:00.646 83.76 10   0    O    N  83.47 84.69 22    71    I   \n",
      "2020.01.02 AAPL 09:30:00.796 83.77 25   0    P    N  83.35 84.4  76    15    A   \n",
      "..\n"
     ]
    }
   ],
   "source": [
    "g:multiDayTrade group multiDayTrade[`date] \n",
    "raze {aj[`sym`time;y]select from multiDayQuote where date=x}'[key g;g]"
   ]
  },
  {
   "cell_type": "markdown",
   "metadata": {
    "hidden": true
   },
   "source": [
    "[```asof```]() performs the same match as `aj` however we match it against a single record. It removes the columns that we used to match it with. Below we will see that the result table only consists of price and size."
   ]
  },
  {
   "cell_type": "code",
   "execution_count": 61,
   "metadata": {
    "hidden": true
   },
   "outputs": [
    {
     "name": "stdout",
     "output_type": "stream",
     "text": [
      "price| 30.43\n",
      "size | 100\n",
      "price size\n",
      "----------\n",
      "30.43 100 \n",
      "41    300 \n"
     ]
    }
   ],
   "source": [
    "t asof `sym`time!(`JPM;09:32)\n",
    "t asof ([]sym:`JPM`AAPL;time:09:31 09:35)"
   ]
  },
  {
   "cell_type": "markdown",
   "metadata": {
    "hidden": true,
    "tags": []
   },
   "source": [
    "##### Quiz Time!\n",
    "Now that we've covered Bitemporal Joins, why not try Execrise 1.2 to test your knowledge! "
   ]
  },
  {
   "cell_type": "markdown",
   "metadata": {
    "hidden": true,
    "reveal": "8m3uv3tt55q",
    "reveal-hidden": false,
    "tags": []
   },
   "source": [
    "##### Exercise 1.2\n",
    "\n",
    "Using the covid table below, create a table that contains the number of cases as of 3rd,10th and 20th of April 2020 for the UK, Spain and Italy. \n",
    "\n",
    "```\n",
    "country date       noOfCases\n",
    "----------------------------\n",
    "Ireland 2020.04.01 3849     \n",
    "UK      2020.04.02 33718    \n",
    "Spain   2020.04.03 102316   \n",
    "Italy   2020.04.04 132527   \n",
    "China   2020.04.05 82300    \n",
    "US      2020.04.06 425800   \n",
    "Ireland 2020.04.07 7698     \n",
    "UK      2020.04.08 67436    \n",
    "Spain   2020.04.09 204632   \n",
    "Italy   2020.04.10 265054   \n",
    "China   2020.04.11 164600   \n",
    "US      2020.04.12 851600\n",
    "```\n",
    "\n",
    "The resulting table should look like:\n",
    "```\n",
    "date       country noOfCases\n",
    "----------------------------\n",
    "2020.04.03 UK      33718    \n",
    "2020.04.10 Spain   204632   \n",
    "2020.04.20 Italy   265054  \n",
    "```"
   ]
  },
  {
   "cell_type": "code",
   "execution_count": 62,
   "metadata": {},
   "outputs": [
    {
     "name": "stdout",
     "output_type": "stream",
     "text": [
      "country date       noOfCases\n",
      "----------------------------\n",
      "Ireland 2020.04.01 3849     \n",
      "UK      2020.04.02 33718    \n",
      "Spain   2020.04.03 102316   \n",
      "Italy   2020.04.04 132527   \n",
      "China   2020.04.05 82300    \n",
      "US      2020.04.06 425800   \n",
      "Ireland 2020.04.07 7698     \n",
      "UK      2020.04.08 67436    \n",
      "Spain   2020.04.09 204632   \n",
      "Italy   2020.04.10 265054   \n",
      "China   2020.04.11 164600   \n",
      "US      2020.04.12 851600   \n"
     ]
    }
   ],
   "source": [
    "show covidtable:([]country:L,L:`Ireland`UK`Spain`Italy`China`US;date:2020.04.01+til 12;noOfCases:n,2*n:3849 33718 102316 132527 82300 425800)"
   ]
  },
  {
   "cell_type": "code",
   "execution_count": null,
   "metadata": {
    "hidden": true,
    "reveal": "8m3uv3tt55q"
   },
   "outputs": [],
   "source": [
    "events:([]date:2020.04.03 2020.04.10 2020.04.20;country:`UK`Spain`Italy)\n",
    "aj[`country`date;events;covidtable]"
   ]
  },
  {
   "cell_type": "code",
   "execution_count": 63,
   "metadata": {
    "hidden": true
   },
   "outputs": [
    {
     "name": "stdout",
     "output_type": "stream",
     "text": [
      "date       country noOfCases\n",
      "----------------------------\n",
      "2020.04.03 UK      33718    \n",
      "2020.04.10 Spain   204632   \n",
      "2020.04.20 Italy   265054   \n"
     ]
    }
   ],
   "source": [
    "//Your answers here\n",
    "datesOfInterest:([]date:2020.04.03 2020.04.10 2020.04.20;country:`UK`Spain`Italy)\n",
    "aj[`country`date;datesOfInterest;covidtable]"
   ]
  },
  {
   "cell_type": "markdown",
   "metadata": {
    "heading_collapsed": true,
    "hidden": true
   },
   "source": [
    "## Window join\n",
    "\n",
    "[Window join](https://code.kx.com/q/ref/wj/) is a generalization of as-of joins, and rather than retrieving just the last value are designed to aggregate values within certain intervals. "
   ]
  },
  {
   "cell_type": "markdown",
   "metadata": {
    "hidden": true
   },
   "source": [
    "The Syntax: \n",
    "\n",
    "    wj[windowS;columns;source table;(reference table;(function1;col1);(function2;col2)...)]\n",
    "\n",
    "Where `windowS` is a two item list of `(startTimes;endTimes)`, each of the same length as the source tables. These items correspond to the `startTimes` and `endTimes` for each window for every row in our source table. The `columns` input is the same as we saw for `aj`, a series of exact match columns and the final common time column. "
   ]
  },
  {
   "cell_type": "markdown",
   "metadata": {
    "hidden": true
   },
   "source": [
    "### How to use ```wj```?\n",
    "\n",
    "The syntax and explanations are more complicated that going through an example: "
   ]
  },
  {
   "cell_type": "code",
   "execution_count": 64,
   "metadata": {
    "hidden": true
   },
   "outputs": [
    {
     "name": "stdout",
     "output_type": "stream",
     "text": [
      "sym time     price\n",
      "------------------\n",
      "JPM 09:30:01 120  \n",
      "JPM 09:30:04 123  \n",
      "JPM 09:30:08 121  \n",
      "sym time     ask bid\n",
      "--------------------\n",
      "JPM 09:30:00 103 94 \n",
      "JPM 09:30:01 96  95 \n",
      "JPM 09:30:02 102 107\n",
      "JPM 09:30:02 95  91 \n",
      "JPM 09:30:02 106 106\n",
      "JPM 09:30:04 95  104\n",
      "JPM 09:30:04 109 103\n",
      "JPM 09:30:05 92  109\n",
      "JPM 09:30:05 101 102\n",
      "JPM 09:30:05 108 99 \n"
     ]
    }
   ],
   "source": [
    "show smalltrade:([]sym:3#`JPM;time:09:30:01 09:30:04 09:30:08;price:120 123 121)\n",
    "show smallquote:([]sym:10#`JPM;time:asc 09:30:00+10?8;ask:10?90+til 20;bid:10?90+til 20)"
   ]
  },
  {
   "cell_type": "markdown",
   "metadata": {
    "hidden": true
   },
   "source": [
    "Let's construct a 3 second set of windows (2 seconds before and 1 second after each trade time) for each of our trades:"
   ]
  },
  {
   "cell_type": "code",
   "execution_count": 70,
   "metadata": {
    "hidden": true
   },
   "outputs": [
    {
     "name": "stdout",
     "output_type": "stream",
     "text": [
      "09:30:01 09:30:04 09:30:08\n",
      "09:29:59 09:30:02 09:30:06\n",
      "09:30:02 09:30:05 09:30:09\n"
     ]
    }
   ],
   "source": [
    "smalltrade[`time]                         //our trade times \n",
    "show windows:(smalltrade[`time]-2;smalltrade[`time]+1)  //(window start time;window end time)\n",
    "//windows\n",
    "//or using iterators to add -2 and +1 to each time:\n",
    "//windows: -2 1+\\: smalltrade[`time] \n",
    "//windows"
   ]
  },
  {
   "cell_type": "code",
   "execution_count": 77,
   "metadata": {
    "hidden": true
   },
   "outputs": [
    {
     "name": "stdout",
     "output_type": "stream",
     "text": [
      "2\n",
      "3 3\n",
      "3\n",
      "0h\n"
     ]
    }
   ],
   "source": [
    "count windows        //start time and end time \n",
    "count each windows   //have a start time and end time for each of our trades (each row of trades)\n",
    "count smalltrade\n",
    "type windows"
   ]
  },
  {
   "cell_type": "markdown",
   "metadata": {
    "hidden": true
   },
   "source": [
    "Using these windows, we can join t and q calculating the highest ask and lowest bid within the window."
   ]
  },
  {
   "cell_type": "code",
   "execution_count": 71,
   "metadata": {
    "hidden": true
   },
   "outputs": [
    {
     "name": "stdout",
     "output_type": "stream",
     "text": [
      "sym time     price ask bid\n",
      "--------------------------\n",
      "JPM 09:30:01 120   106 91 \n",
      "JPM 09:30:04 123   109 99 \n",
      "JPM 09:30:08 121   108 99 \n"
     ]
    }
   ],
   "source": [
    "wj[windows;`sym`time;smalltrade;(smallquote;(max;`ask);(min;`bid))]"
   ]
  },
  {
   "cell_type": "markdown",
   "metadata": {
    "hidden": true
   },
   "source": [
    "In some cases we might want the intermediate values returned - to do that we can use the functional null:  "
   ]
  },
  {
   "cell_type": "code",
   "execution_count": 72,
   "metadata": {
    "hidden": true
   },
   "outputs": [
    {
     "name": "stdout",
     "output_type": "stream",
     "text": [
      "time  sym  price size\n",
      "---------------------\n",
      "09:30 JPM  30.43 100 \n",
      "09:31 AAPL 30.45 200 \n",
      "09:32 AAPL 40.45 200 \n",
      "09:33 JPM  30.55 300 \n",
      "09:34 AAPL 41    300 \n",
      "09:35 JPM  31    600 \n",
      "time  sym  ask   bid  \n",
      "----------------------\n",
      "09:29 JPM  30.23 30.2 \n",
      "09:29 AAPL 40.2  40.19\n",
      "09:32 JPM  30.35 30.33\n",
      "09:33 AAPL 40.35 40.32\n",
      "sym time     price ask                   bid                   \n",
      "---------------------------------------------------------------\n",
      "JPM 09:30:01 120   103 96 102 95 106     94 95 107 91 106      \n",
      "JPM 09:30:04 123   106 95 109 92 101 108 106 104 103 109 102 99\n",
      "JPM 09:30:08 121   ,108                  ,99                   \n"
     ]
    }
   ],
   "source": [
    "t\n",
    "q\n",
    "wj[windows;`sym`time;smalltrade;(smallquote;(::;`ask);(::;`bid))]"
   ]
  },
  {
   "cell_type": "markdown",
   "metadata": {
    "hidden": true
   },
   "source": [
    "It's important to notice that the number of records we have returned in each window is not necessarily the same - in fact usually these will differ. We can use our own lambdas in place of keywords also. "
   ]
  },
  {
   "cell_type": "markdown",
   "metadata": {
    "hidden": true
   },
   "source": [
    "<img src=\"../images/qbies.png\" style=\"width: 50px;padding-right:5px;padding-top:2px;padding-left:5px;\" align=\"left\"/>\n",
    "\n",
    "<p style='color:#273a6e'><i>When writing your own functions for use within a <code>wj</code> don't forget that this function should take as input a <b>list</b> of values.</i></p>"
   ]
  },
  {
   "cell_type": "markdown",
   "metadata": {
    "hidden": true
   },
   "source": [
    "``wj`` takes the initial value within the window to be the prevailing values that existed before the window started. To consider the values that only occurred during the window, we could use [``wj1``](https://code.kx.com/q/ref/wj/): "
   ]
  },
  {
   "cell_type": "code",
   "execution_count": 73,
   "metadata": {
    "hidden": true
   },
   "outputs": [
    {
     "name": "stdout",
     "output_type": "stream",
     "text": [
      "sym time     price ask                          bid                          \n",
      "-----------------------------------------------------------------------------\n",
      "JPM 09:30:01 120   103 96 102 95 106            94 95 107 91 106             \n",
      "JPM 09:30:04 123   102 95 106 95 109 92 101 108 107 91 106 104 103 109 102 99\n",
      "JPM 09:30:08 121   `long$()                     `long$()                     \n"
     ]
    }
   ],
   "source": [
    "wj1[windows;`sym`time;smalltrade;(smallquote;(::;`ask);(::;`bid))]"
   ]
  },
  {
   "cell_type": "markdown",
   "metadata": {
    "hidden": true
   },
   "source": [
    "<img src=\"../images/qbies.png\" style=\"width: 50px;padding-right:5px;padding-top:2px;padding-left:5px;\" align=\"left\"/>\n",
    "\n",
    "<p style='color:#273a6e'><i> <code>wj</code> can only work with integer temporal values. Datetime and any float values can't be use with <code>wj</code> or <code>wj1</code>. </i></p>"
   ]
  },
  {
   "cell_type": "markdown",
   "metadata": {
    "hidden": true
   },
   "source": [
    "##### Example \n",
    "\n",
    "Window joins are widely used when investigating the relationship between trades and quotes in finance. For example, if we wanted to see how well a trade was executed, we would need to check the range of bid and ask prices that were prevalent around the trade time.\n",
    "\n",
    "Let's look at the 2nd of January 2020 for Apple in the database:"
   ]
  },
  {
   "cell_type": "code",
   "execution_count": 74,
   "metadata": {
    "hidden": true
   },
   "outputs": [],
   "source": [
    "janTrade:select from trade where date=2020.01.02,sym=`AAPL\n",
    "janQuote:select from quote where date=2020.01.02,sym=`AAPL"
   ]
  },
  {
   "cell_type": "markdown",
   "metadata": {
    "hidden": true
   },
   "source": [
    "Let's create a fixed-width windows of 2 seconds before and one second after each trade time."
   ]
  },
  {
   "cell_type": "code",
   "execution_count": 75,
   "metadata": {
    "hidden": true
   },
   "outputs": [
    {
     "name": "stdout",
     "output_type": "stream",
     "text": [
      "09:30:00.019 09:30:00.023 09:30:00.026 09:30:00.029 09:30:00.039 09:30:00.145 09:30:00.214 09:30:00.411 09:30:00.437 09:30:00.439 09:30:00.534 09:30:00.573 09:30:00.592 09:30:00.644 09:30:00.794 09..\n",
      "09:30:00.022 09:30:00.026 09:30:00.029 09:30:00.032 09:30:00.042 09:30:00.148 09:30:00.217 09:30:00.414 09:30:00.440 09:30:00.442 09:30:00.537 09:30:00.576 09:30:00.595 09:30:00.647 09:30:00.797 09..\n"
     ]
    }
   ],
   "source": [
    "w:-2 1+\\: janTrade[`time]\n",
    "w"
   ]
  },
  {
   "cell_type": "markdown",
   "metadata": {
    "hidden": true
   },
   "source": [
    "Now we apply `wj` to find the maximum ask and minimum bid over each window"
   ]
  },
  {
   "cell_type": "code",
   "execution_count": 76,
   "metadata": {
    "hidden": true
   },
   "outputs": [
    {
     "name": "stdout",
     "output_type": "stream",
     "text": [
      "date       sym  time         price size stop cond ex ask   bid  \n",
      "----------------------------------------------------------------\n",
      "2020.01.02 AAPL 09:30:00.021 83.88 17   0    G    N  84.45 82.99\n",
      "2020.01.02 AAPL 09:30:00.025 83.87 74   0    J    N  84.75 82.93\n",
      "2020.01.02 AAPL 09:30:00.028 83.84 57   0    N    N  84.75 82.97\n",
      "2020.01.02 AAPL 09:30:00.031 83.87 81   0    K    N  84.14 83.08\n",
      "2020.01.02 AAPL 09:30:00.041 83.87 52   0    G    N  84.69 83.18\n",
      "2020.01.02 AAPL 09:30:00.147 83.83 20   0    Z    N  84.54 82.87\n",
      "2020.01.02 AAPL 09:30:00.216 83.98 67   0    8    N  84.67 83.91\n",
      "2020.01.02 AAPL 09:30:00.413 83.97 47   0    P    N  84.85 83.12\n",
      "2020.01.02 AAPL 09:30:00.439 83.95 70   0    8    N  84.88 83.19\n",
      "2020.01.02 AAPL 09:30:00.441 83.9  62   0    A    N  84.88 83.29\n",
      "2020.01.02 AAPL 09:30:00.536 83.94 18   0    G    N  83.98 83.39\n",
      "2020.01.02 AAPL 09:30:00.575 83.89 32   0    G    N  84.72 82.99\n",
      "2020.01.02 AAPL 09:30:00.594 83.85 72   0    A    N  84.72 83.76\n",
      "2020.01.02 AAPL 09:30:00.646 83.76 10   0    O    N  84.69 83.47\n",
      "2020.01.02 AAPL 09:30:00.796 83.77 25   0    P    N  84.4  83.35\n",
      "..\n"
     ]
    }
   ],
   "source": [
    "wj[w;`sym`time;janTrade;(janQuote;(max;`ask);(min;`bid))]"
   ]
  },
  {
   "cell_type": "markdown",
   "metadata": {
    "heading_collapsed": true
   },
   "source": [
    "# Summary of all joins in kdb+\n",
    "\n",
    "Now that we have all joins in kdb+ covered, we can see how they behave differently below:\n",
    "<img src=\"../images/summaryJoins.png\" width=\"2000\" height=\"600\">"
   ]
  }
 ],
 "metadata": {
  "kernelspec": {
   "display_name": "Python 3 (ipykernel)",
   "language": "python",
   "name": "python3"
  },
  "language_info": {
   "codemirror_mode": {
    "name": "ipython",
    "version": 3
   },
   "file_extension": ".py",
   "mimetype": "text/x-python",
   "name": "python",
   "nbconvert_exporter": "python",
   "pygments_lexer": "ipython3",
   "version": "3.11.10"
  },
  "toc": {
   "base_numbering": 1,
   "nav_menu": {},
   "number_sections": true,
   "sideBar": true,
   "skip_h1_title": false,
   "title_cell": "Table of Contents",
   "title_sidebar": "Contents",
   "toc_cell": false,
   "toc_position": {},
   "toc_section_display": true,
   "toc_window_display": true
  }
 },
 "nbformat": 4,
 "nbformat_minor": 4
}
