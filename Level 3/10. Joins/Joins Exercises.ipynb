{
 "cells": [
  {
   "cell_type": "code",
   "execution_count": 1,
   "metadata": {
    "autorun": true,
    "editable": false,
    "jupyter": {
     "source_hidden": true
    },
    "tags": [
     "remove-cell"
    ]
   },
   "outputs": [],
   "source": [
    "#;.pykx.disableJupyter()"
   ]
  },
  {
   "cell_type": "code",
   "execution_count": 2,
   "metadata": {
    "autorun": true,
    "editable": false,
    "jupyter": {
     "source_hidden": true
    },
    "tags": [
     "remove-cell"
    ]
   },
   "outputs": [
    {
     "name": "stdout",
     "output_type": "stream",
     "text": [
      "PyKX now running in 'jupyter_qfirst' mode. All cells by default will be run as q code. \n",
      "Include '%%py' at the beginning of each cell to run as python code. \n"
     ]
    }
   ],
   "source": [
    "# https://code.kx.com/pykx/3.0/examples/jupyter-integration.html#q-first-mode\n",
    "import pykx as kx\n",
    "kx.util.jupyter_qfirst_enable()"
   ]
  },
  {
   "cell_type": "markdown",
   "metadata": {},
   "source": [
    "## KX Training: Exercises - Joins"
   ]
  },
  {
   "cell_type": "code",
   "execution_count": 5,
   "metadata": {},
   "outputs": [],
   "source": [
    "trade:([]time:09:00+10*til 5;sym:`JPM`GE`JPM`IBM`GE;price:30+5?3.;size:5?20) \n",
    "order:([]time:asc `minute$08:00+5?0D02:00:00;sym:5?`JPM`GE`IBM;orderID:(5 cut 25?.Q.n),'string 5?`5; price:30+5?20.)"
   ]
  },
  {
   "cell_type": "code",
   "execution_count": 6,
   "metadata": {},
   "outputs": [
    {
     "name": "stdout",
     "output_type": "stream",
     "text": [
      "time  sym price    size\n",
      "-----------------------\n",
      "09:00 JPM 31.34507 11  \n",
      "09:10 GE  30.07203 11  \n",
      "09:20 JPM 31.7569  16  \n",
      "09:30 IBM 30.76479 7   \n",
      "09:40 GE  32.3561  15  \n"
     ]
    }
   ],
   "source": [
    "show trade:([]time:09:00+10*til 5;sym:`JPM`GE`JPM`IBM`GE;price:30+5?3.;size:5?20) "
   ]
  },
  {
   "cell_type": "code",
   "execution_count": 7,
   "metadata": {},
   "outputs": [
    {
     "name": "stdout",
     "output_type": "stream",
     "text": [
      "12\n"
     ]
    }
   ],
   "source": [
    "show a:12 "
   ]
  },
  {
   "cell_type": "markdown",
   "metadata": {},
   "source": [
    "### Keyed Joins"
   ]
  },
  {
   "cell_type": "markdown",
   "metadata": {
    "reveal": "ykhi6yuwsii",
    "reveal-hidden": true,
    "tags": []
   },
   "source": [
    "* Join the trade and order table below to see the sequence in which trades and orders happened. Matching rows should be updated and the time column should be sorted in the resulting table. \n",
    "\n",
    "Resulting table:\n",
    "\n",
    "|sym| time |  px |orderID  |    price   \n",
    "|---|-------|----|---------|----------\n",
    "|BP | 00:05 |5  |\"\"        |       0N    \n",
    "|JPM| 00:12 |4  |\"\"         |      0N    \n",
    "|IBM| 08:30 |11 |\"58528bofbc\"| 46.35509\n",
    "|GE | 08:58 | 0N   |\"95239ceoom\" |32.17365"
   ]
  },
  {
   "cell_type": "code",
   "execution_count": null,
   "metadata": {
    "reveal": "ykhi6yuwsii",
    "scrolled": true
   },
   "outputs": [],
   "source": [
    "`time xasc uj[`sym xkey trade;`sym xkey order]"
   ]
  },
  {
   "cell_type": "code",
   "execution_count": 8,
   "metadata": {},
   "outputs": [
    {
     "name": "stdout",
     "output_type": "stream",
     "text": [
      "sym| time  price    size orderID     \n",
      "---| --------------------------------\n",
      "GE | 08:35 48.13668 11   \"63691cdnjd\"\n",
      "IBM| 09:08 31.03334 7    \"88874kamao\"\n",
      "JPM| 09:55 38.50021 11   \"60219ofjei\"\n"
     ]
    }
   ],
   "source": [
    "//your answer here \n",
    "`time xasc uj[`sym xkey trade; `sym xkey order]"
   ]
  },
  {
   "cell_type": "markdown",
   "metadata": {
    "reveal": "g5abn83fe",
    "reveal-hidden": false,
    "tags": []
   },
   "source": [
    "* Using both tables below find the total ask and total bid for each sym. "
   ]
  },
  {
   "cell_type": "code",
   "execution_count": null,
   "metadata": {},
   "outputs": [],
   "source": [
    "quote:([]sym:`IBM`IBM`JPM`JPM;time:\"u\"$4 6 6.5 10;bid:.5+1 2 3 4;ask:.5+1 2 3 4)\n",
    "quote2:([]sym:`IBM`IBM`JPM`JPM`IBM`JPM;time:\"u\"$3 4 6 6.5 8 10;bid:6?5f;ask:6?5f)"
   ]
  },
  {
   "cell_type": "code",
   "execution_count": null,
   "metadata": {
    "reveal": "g5abn83fe"
   },
   "outputs": [],
   "source": [
    "quote pj `sym xkey quote2 //left table has to be keyed"
   ]
  },
  {
   "cell_type": "markdown",
   "metadata": {
    "reveal": "g5abn83fe"
   },
   "source": [
    "Why doesn't `+` work in this example?"
   ]
  },
  {
   "cell_type": "code",
   "execution_count": null,
   "metadata": {
    "reveal": "g5abn83fe"
   },
   "outputs": [],
   "source": [
    "//quote + quote2"
   ]
  },
  {
   "cell_type": "code",
   "execution_count": null,
   "metadata": {},
   "outputs": [],
   "source": [
    "//your answer here \n",
    "sumQuote:select sum ask, sum bid by sym from quote\n",
    "sumQuote2:select sum ask, sum bid by sym from quote2\n",
    "\n",
    "pj[sumQuote;sumQuote2]"
   ]
  },
  {
   "cell_type": "markdown",
   "metadata": {
    "reveal": "n6puk4juer",
    "reveal-hidden": true,
    "tags": []
   },
   "source": [
    "* Using `quote` and `quote2` defined above:\n",
    "     * Find the matching records using ij\n",
    "     * Find the matching records using ej\n",
    "\n",
    "What do you notice ?"
   ]
  },
  {
   "cell_type": "code",
   "execution_count": null,
   "metadata": {
    "reveal": "n6puk4juer"
   },
   "outputs": [],
   "source": [
    "quote ij `sym xkey quote2 //matches on records that are present in both tables\n",
    "ej[`sym;quote;quote2]    //matches on all records that appear in the right hand table"
   ]
  },
  {
   "cell_type": "code",
   "execution_count": null,
   "metadata": {},
   "outputs": [],
   "source": [
    "//your answer here\n",
    "show matchingRecordsIJ:ij[quote;`sym xkey quote2]\n",
    "show matchingRecordsEJ:ej[`sym;quote;quote2:`sym xkey quote2]"
   ]
  },
  {
   "cell_type": "markdown",
   "metadata": {},
   "source": [
    "* Given the following tables regarding race times, take today's race times and integrate them with the fastest time from each of the last ten races for each participant so all information can be accessed from one table.               "
   ]
  },
  {
   "cell_type": "markdown",
   "metadata": {
    "reveal": "3nmyz8dcqlm",
    "reveal-hidden": false,
    "tags": []
   },
   "source": [
    "Resulting table:\n",
    "\n",
    "|name|  time |    bestTime|\n",
    "|------|--------|---------|\n",
    "|tom|   11.19638| 11.08389|\n",
    "|dick|  11.25855| 11.19599|\n",
    "|harry| 11.25799| 11.08124|"
   ]
  },
  {
   "cell_type": "code",
   "execution_count": null,
   "metadata": {
    "reveal": "3nmyz8dcqlm"
   },
   "outputs": [],
   "source": [
    "race lj select bestTime:min time by name from(uj/)(tom;dick;harry)"
   ]
  },
  {
   "cell_type": "code",
   "execution_count": 11,
   "metadata": {},
   "outputs": [
    {
     "name": "stdout",
     "output_type": "stream",
     "text": [
      "name  time     bestTime\n",
      "-----------------------\n",
      "tom   11.17798 11.46237\n",
      "dick  11.38813 11.04623\n",
      "harry 11.10327 11.33882\n",
      "name time    \n",
      "-------------\n",
      "tom  11.5608 \n",
      "tom  11.99956\n",
      "tom  11.95737\n",
      "tom  11.46237\n",
      "tom  11.9641 \n",
      "tom  11.92842\n",
      "tom  11.77645\n",
      "tom  11.86279\n",
      "tom  11.46715\n",
      "tom  11.47473\n",
      "dick 11.04623\n",
      "dick 11.93329\n",
      "dick 11.20727\n",
      "dick 11.72628\n",
      "dick 11.68804\n",
      "dick 11.34077\n",
      "dick 11.91786\n",
      "dick 11.06613\n",
      "dick 11.77249\n",
      "dick 11.7098 \n",
      "..\n"
     ]
    }
   ],
   "source": [
    "race:([]name:`tom`dick`harry;time:11+3?0.5)\n",
    "tom:([]name:`tom;time:11+10?1f)\n",
    "dick:([]name:`dick;time:11+10?1f)\n",
    "harry:([]name:`harry;time:11+10?1f)\n",
    "show unionTable:(uj/)(tom;dick;harry)\n",
    "race lj select bestTime:min time by name from unionTable\n"
   ]
  },
  {
   "cell_type": "markdown",
   "metadata": {
    "reveal": "o66olajusld",
    "reveal-hidden": true
   },
   "source": [
    "* Use iterators with joins to combine a series of tables with one common column \n",
    "                    "
   ]
  },
  {
   "cell_type": "code",
   "execution_count": null,
   "metadata": {
    "reveal": "o66olajusld"
   },
   "outputs": [],
   "source": [
    "(lj/)[t;1!/:(t1;t2;t3)] "
   ]
  },
  {
   "cell_type": "code",
   "execution_count": 12,
   "metadata": {},
   "outputs": [
    {
     "name": "stdout",
     "output_type": "stream",
     "text": [
      "a| b c d  e \n",
      "-| ---------\n",
      "1| 4 7 10 13\n",
      "2| 5 8 11 14\n",
      "3| 6 9 12 15\n"
     ]
    }
   ],
   "source": [
    "t:`a xkey t:([]a:1 2 3;b:4 5 6)\n",
    "t1:`a xkey t1:([]a:1 2 3;c:7 8 9)\n",
    "t2:`a xkey t2:([]a:1 2 3;d:10 11 12)\n",
    "t3:`a xkey t3:([]a:1 2 3;e:13 14 15)\n",
    "\n",
    "(lj/)(t;t1;t2;t3)"
   ]
  },
  {
   "cell_type": "code",
   "execution_count": null,
   "metadata": {},
   "outputs": [],
   "source": [
    "//your answer here "
   ]
  },
  {
   "cell_type": "markdown",
   "metadata": {},
   "source": [
    "### Bitemporal joins "
   ]
  },
  {
   "cell_type": "markdown",
   "metadata": {
    "reveal": "pk0x13vpybd",
    "reveal-hidden": false
   },
   "source": [
    "* Below is table containing a record of changes in the telephone numbers of Tom and Bob during the last year:\n",
    "\n",
    "```phoneNum:([Name:`Tom`Bob`Tom`Bob;Date:2014.06.01 2014.06.01 2015.01.01 2015.06.01] phNum:336699 123456 999999 778899)```\n",
    "\n",
    "Using phoneNum produce a table that shows Bob’s telephone number as at the current dates: `2013.06.02`,`2015.01.01`, `2015.01.02` and today."
   ]
  },
  {
   "cell_type": "code",
   "execution_count": null,
   "metadata": {
    "reveal": "pk0x13vpybd"
   },
   "outputs": [],
   "source": [
    "phoneNum:([Name:`Tom`Bob`Tom`Bob;\n",
    "                    Date:2014.06.01 2014.06.01 2015.01.01 2015.06.01]\n",
    "                    phNum:336699 123456 999999 778899)\n",
    "show p:([]Name:4#`Bob;Date:(2013.06.02;2015.01.01;2015.01.02;.z.d))  //built our rack of times \n",
    "aj[`Name`Date;p;0!phoneNum] //need the name to be the same, otherwise we'll get Toms results "
   ]
  },
  {
   "cell_type": "code",
   "execution_count": 13,
   "metadata": {},
   "outputs": [
    {
     "name": "stdout",
     "output_type": "stream",
     "text": [
      "Name Date      | phNum \n",
      "---------------| ------\n",
      "Tom  2014.06.01| 336699\n",
      "Bob  2014.06.01| 123456\n",
      "Tom  2015.01.01| 999999\n",
      "Bob  2015.06.01| 778899\n"
     ]
    }
   ],
   "source": [
    "//your answer here \n",
    "show phoneNum:([Name:`Tom`Bob`Tom`Bob;Date:2014.06.01 2014.06.01 2015.01.01 2015.06.01] phNum:336699 123456 999999 778899)"
   ]
  },
  {
   "cell_type": "code",
   "execution_count": 14,
   "metadata": {},
   "outputs": [
    {
     "name": "stdout",
     "output_type": "stream",
     "text": [
      "Name Date      \n",
      "---------------\n",
      "Bob  2013.06.02\n",
      "Bob  2015.01.01\n",
      "Bob  2015.01.02\n",
      "Bob  2025.03.15\n"
     ]
    }
   ],
   "source": [
    "show p:([]Name:4#`Bob;Date:(2013.06.02;2015.01.01;2015.01.02;.z.d))"
   ]
  },
  {
   "cell_type": "code",
   "execution_count": 16,
   "metadata": {},
   "outputs": [
    {
     "name": "stdout",
     "output_type": "stream",
     "text": [
      "Name Date       phNum \n",
      "----------------------\n",
      "Bob  2013.06.02       \n",
      "Bob  2015.01.01 123456\n",
      "Bob  2015.01.02 123456\n",
      "Bob  2025.03.15 778899\n"
     ]
    }
   ],
   "source": [
    "aj[`Name`Date;p;phoneNum]"
   ]
  },
  {
   "cell_type": "markdown",
   "metadata": {
    "reveal": "6l3uf93h5gp",
    "reveal-hidden": true
   },
   "source": [
    "* Use a series of joins to merge the three tables to be able to access data regarding each sym from one table. \n",
    "\n",
    "Resulting table:\n",
    "\n",
    "|sym|  time|  price| bid|      ask|      location|   \n",
    "|----|-------|--------|-----|-----------|-----------|\n",
    "|AAPL| 09:00| 50|    78.33686| 27.82122| \"Cupertino\"|\n",
    "|JPM | 09:02| 100|   61.08817| 15.08133| \"New York\"| \n",
    "|TSLA| 09:05| 150|   1.392076| 94.41671| \"Palo Alto\"|"
   ]
  },
  {
   "cell_type": "code",
   "execution_count": null,
   "metadata": {
    "reveal": "6l3uf93h5gp"
   },
   "outputs": [],
   "source": [
    "aj[`sym`time;stockPrice;stockTrades]lj 1!select sym:company,location from stocks"
   ]
  },
  {
   "cell_type": "code",
   "execution_count": 17,
   "metadata": {},
   "outputs": [
    {
     "name": "stdout",
     "output_type": "stream",
     "text": [
      "company location   \n",
      "-------------------\n",
      "AAPL    \"Cupertino\"\n",
      "TSLA    \"Palo Alto\"\n",
      "JPM     \"New York\" \n"
     ]
    }
   ],
   "source": [
    "show stocks:([]company:`AAPL`TSLA`JPM;location:(\"Cupertino\";\"Palo Alto\";\"New York\"))\n"
   ]
  },
  {
   "cell_type": "code",
   "execution_count": 19,
   "metadata": {},
   "outputs": [
    {
     "name": "stdout",
     "output_type": "stream",
     "text": [
      "sym  time  price\n",
      "----------------\n",
      "AAPL 09:00 50   \n",
      "JPM  09:02 100  \n",
      "TSLA 09:05 150  \n"
     ]
    }
   ],
   "source": [
    "show stockPrice:([]sym:`AAPL`JPM`TSLA;time:09:00 09:02 09:05;price:50 100 150)"
   ]
  },
  {
   "cell_type": "code",
   "execution_count": 20,
   "metadata": {},
   "outputs": [
    {
     "name": "stdout",
     "output_type": "stream",
     "text": [
      "sym  time  bid      ask     \n",
      "----------------------------\n",
      "AAPL 09:00 76.7256  95.11239\n",
      "AAPL 09:01 26.70152 87.13601\n",
      "JPM  09:02 65.6726  59.11021\n",
      "AAPL 09:03 54.40371 68.15041\n",
      "JPM  09:04 86.93354 82.8788 \n",
      "JPM  09:04 33.58802 59.3962 \n",
      "TSLA 09:05 50.74213 14.46023\n"
     ]
    }
   ],
   "source": [
    "show stockTrades:([]sym:`AAPL`AAPL`JPM`AAPL`JPM`JPM`TSLA;time:09:00 09:01 09:02 09:03 09:04 09:04 09:05;bid:7?100f;ask:7?100f)"
   ]
  },
  {
   "cell_type": "code",
   "execution_count": 28,
   "metadata": {},
   "outputs": [
    {
     "name": "stdout",
     "output_type": "stream",
     "text": [
      "sym  time  bid      ask      location   \n",
      "----------------------------------------\n",
      "AAPL 09:00 76.7256  95.11239 \"Cupertino\"\n",
      "AAPL 09:01 26.70152 87.13601 \"Cupertino\"\n",
      "JPM  09:02 65.6726  59.11021 \"New York\" \n",
      "AAPL 09:03 54.40371 68.15041 \"Cupertino\"\n",
      "JPM  09:04 86.93354 82.8788  \"New York\" \n",
      "JPM  09:04 33.58802 59.3962  \"New York\" \n",
      "TSLA 09:05 50.74213 14.46023 \"Palo Alto\"\n"
     ]
    }
   ],
   "source": [
    "//your answer here \n",
    "stocks:`sym xcol stocks\n",
    "lj[stockTrades;`sym xkey stocks]"
   ]
  },
  {
   "cell_type": "code",
   "execution_count": 30,
   "metadata": {},
   "outputs": [
    {
     "name": "stdout",
     "output_type": "stream",
     "text": [
      "sym  time  price bid      ask      location   \n",
      "----------------------------------------------\n",
      "AAPL 09:00 50    76.7256  95.11239 \"Cupertino\"\n",
      "JPM  09:02 100   65.6726  59.11021 \"New York\" \n",
      "TSLA 09:05 150   50.74213 14.46023 \"Palo Alto\"\n"
     ]
    }
   ],
   "source": [
    "//Final Answer\n",
    "aj[`time;stockPrice;lj[stockTrades;`sym xkey stocks]]"
   ]
  },
  {
   "cell_type": "markdown",
   "metadata": {
    "reveal": "4vdrwne8z2q",
    "reveal-hidden": true
   },
   "source": [
    "* Write a function: **getPrevailingQuote**\n",
    "    - Returns a join of the trade and quote table, which shows each trade record with the prevailing quote (on any exchange) at the time of each trade\n",
    "    - Quotes should be specific to the sym\n",
    "    - Assumes global table trade and quote "
   ]
  },
  {
   "cell_type": "code",
   "execution_count": null,
   "metadata": {
    "reveal": "4vdrwne8z2q"
   },
   "outputs": [],
   "source": [
    "getPrevailingQuote:{aj[`sym`time;get `trade;get `quote]}"
   ]
  },
  {
   "cell_type": "code",
   "execution_count": 34,
   "metadata": {},
   "outputs": [],
   "source": [
    "getPrevailingQuote:{aj[`sym`time;trade;quote]}"
   ]
  },
  {
   "cell_type": "markdown",
   "metadata": {},
   "source": [
    "Example of Code:\n",
    "\n",
    "    trade:([]sym:`BP`IBM`IBM`JPM;time:\"u\"$4.5 6.2 9.8 12;px:5 11 8 4f)                                         \n",
    "    \n",
    "    quote:([]sym:`IBM`IBM`JPM`JPM;time:\"u\"$4 6 6.5 10;bid:.5+1 2 3 4;ask:.5+1 2 3 4) \n",
    "    \n",
    "    getPrevailingQuote[]\n",
    "    \n",
    "    sym time  px bid ask     \n",
    "    --------------------     \n",
    "    BP  00:05 5              \n",
    "    IBM 00:06 11 2.5 2.5     \n",
    "    IBM 00:10 8  2.5 2.5     \n",
    "    JPM 00:12 4  4.5 4.5"
   ]
  },
  {
   "cell_type": "code",
   "execution_count": 35,
   "metadata": {},
   "outputs": [],
   "source": [
    "trade:([]sym:`BP`IBM`IBM`JPM;time:\"u\"$4.5 6.2 9.8 12;px:5 11 8 4f)                                         \n",
    "quote:([]sym:`IBM`IBM`JPM`JPM;time:\"u\"$4 6 6.5 10;bid:.5+1 2 3 4;ask:.5+1 2 3 4) "
   ]
  },
  {
   "cell_type": "code",
   "execution_count": 36,
   "metadata": {},
   "outputs": [
    {
     "name": "stdout",
     "output_type": "stream",
     "text": [
      "sym time  px bid ask\n",
      "--------------------\n",
      "BP  00:05 5         \n",
      "IBM 00:06 11 2.5 2.5\n",
      "IBM 00:10 8  2.5 2.5\n",
      "JPM 00:12 4  4.5 4.5\n"
     ]
    }
   ],
   "source": [
    "getPrevailingQuote[]      //test output"
   ]
  },
  {
   "cell_type": "markdown",
   "metadata": {
    "reveal": "j937t8cbacs",
    "reveal-hidden": true
   },
   "source": [
    "\n",
    "\n",
    "* Write a function: **getPrevailingLocalQuote**\n",
    "    - Returns a join of the trade and quote table, which shows each trade record with the prevailing quote at the time of each trade on that exchange."
   ]
  },
  {
   "cell_type": "code",
   "execution_count": null,
   "metadata": {
    "reveal": "j937t8cbacs"
   },
   "outputs": [],
   "source": [
    "getPrevailingLocalQuote:{select from aj[`sym`ex`time;get `trade;get `quote]}"
   ]
  },
  {
   "cell_type": "code",
   "execution_count": 37,
   "metadata": {},
   "outputs": [],
   "source": [
    "getPrevailingLocalQuote:{aj[`ex`sym`time;trade;quote]}"
   ]
  },
  {
   "cell_type": "markdown",
   "metadata": {},
   "source": [
    "Example of Code:\n",
    "\n",
    "    trade:([]sym:`BP`IBM`IBM`JPM;time:\"u\"$4.5 6.2 9.8 12;px:5 11 8 4f';ex:`A`A`A`B)                                         \n",
    "    \n",
    "    quote:([]sym:`IBM`IBM`JPM`JPM;time:\"u\"$4 6 6.5 10;bid:.5+1 2 3 4;ask:.5+1 2 3 4;ex:`A`A`A`A) \n",
    "    \n",
    "    getPrevailingLocalQuote[]\n",
    "    \n",
    "    sym time  px ex bid ask\n",
    "    -----------------------\n",
    "    BP  00:05 5  A        \n",
    "    IBM 00:06 11 A  2.5 2.5\n",
    "    IBM 00:10 8  A  2.5 2.5\n",
    "    JPM 00:12 4  B"
   ]
  },
  {
   "cell_type": "code",
   "execution_count": 38,
   "metadata": {},
   "outputs": [
    {
     "name": "stdout",
     "output_type": "stream",
     "text": [
      "sym time  px ex\n",
      "---------------\n",
      "BP  00:05 5  A \n",
      "IBM 00:06 11 A \n",
      "IBM 00:10 8  A \n",
      "JPM 00:12 4  B \n",
      "sym time  bid ask ex\n",
      "--------------------\n",
      "IBM 00:04 1.5 1.5 A \n",
      "IBM 00:06 2.5 2.5 A \n",
      "JPM 00:07 3.5 3.5 A \n",
      "JPM 00:10 4.5 4.5 A \n"
     ]
    }
   ],
   "source": [
    "show trade:([]sym:`BP`IBM`IBM`JPM;time:\"u\"$4.5 6.2 9.8 12;px:5 11 8 4f;ex:`A`A`A`B)                                         \n",
    "show quote:([]sym:`IBM`IBM`JPM`JPM;time:\"u\"$4 6 6.5 10;bid:.5+1 2 3 4;ask:.5+1 2 3 4;ex:`A`A`A`A) "
   ]
  },
  {
   "cell_type": "code",
   "execution_count": 39,
   "metadata": {},
   "outputs": [
    {
     "name": "stdout",
     "output_type": "stream",
     "text": [
      "sym time  px ex bid ask\n",
      "-----------------------\n",
      "BP  00:05 5  A         \n",
      "IBM 00:06 11 A  2.5 2.5\n",
      "IBM 00:10 8  A  2.5 2.5\n",
      "JPM 00:12 4  B         \n"
     ]
    }
   ],
   "source": [
    "getPrevailingLocalQuote[]  //test output "
   ]
  },
  {
   "cell_type": "markdown",
   "metadata": {
    "reveal": "qwrl385l3x9",
    "reveal-hidden": false
   },
   "source": [
    "* Use an asof join to return the prevailing quote for every sym at the beginning of every hour"
   ]
  },
  {
   "cell_type": "code",
   "execution_count": null,
   "metadata": {
    "reveal": "qwrl385l3x9"
   },
   "outputs": [],
   "source": [
    "/z will contain the price for each traded symbol as of the start of each hour \n",
    "z:([]sym:`symbol$();time:`time$())\n",
    "\n",
    "/the function f will be used to initially populate z\n",
    "f:{`z insert (x;y)}\n",
    "\n",
    "/initially populate z\n",
    "(exec distinct sym from select sym from trade)f/:\\:(exec distinct `time$60*60*1000*time.hh from select time from trade)\n",
    "\n",
    "/use asof join to insert the prevailing quote as of the start of each hour\n",
    "aj[`sym`time;z;update qtime:time from select from quote]"
   ]
  },
  {
   "cell_type": "code",
   "execution_count": 40,
   "metadata": {},
   "outputs": [
    {
     "name": "stdout",
     "output_type": "stream",
     "text": [
      "sym time\n",
      "--------\n"
     ]
    }
   ],
   "source": [
    "//your answer here\n",
    "show z:([]sym:`symbol$();time:`time$())"
   ]
  },
  {
   "cell_type": "code",
   "execution_count": 41,
   "metadata": {},
   "outputs": [],
   "source": [
    "f:{`z insert (x;y)}"
   ]
  },
  {
   "cell_type": "code",
   "execution_count": 46,
   "metadata": {},
   "outputs": [
    {
     "name": "stdout",
     "output_type": "stream",
     "text": [
      "3\n",
      "4\n",
      "5\n"
     ]
    }
   ],
   "source": [
    "(exec distinct sym from select sym from trade)f/:\\:(exec distinct `time$60*60*1000*time.hh from select time from trade) \n",
    "// need to figure out what is going on"
   ]
  },
  {
   "cell_type": "code",
   "execution_count": 45,
   "metadata": {},
   "outputs": [],
   "source": [
    "//aj[`sym`time;z;update qtime:time from select from quote]  has an error, no idea why"
   ]
  },
  {
   "cell_type": "code",
   "execution_count": 47,
   "metadata": {},
   "outputs": [
    {
     "name": "stdout",
     "output_type": "stream",
     "text": [
      "sym time        \n",
      "----------------\n",
      "BP  00:00:00.000\n",
      "IBM 00:00:00.000\n",
      "JPM 00:00:00.000\n",
      "BP  00:00:00.000\n",
      "IBM 00:00:00.000\n",
      "JPM 00:00:00.000\n"
     ]
    }
   ],
   "source": [
    "z"
   ]
  },
  {
   "cell_type": "markdown",
   "metadata": {
    "reveal": "abkjhqhdbcn",
    "reveal-hidden": true
   },
   "source": [
    "* Construct a 1 second window join between trade and quote. This window join should calculate the max ask and  min bid for that window while joining the trade and quote table."
   ]
  },
  {
   "cell_type": "code",
   "execution_count": null,
   "metadata": {
    "reveal": "abkjhqhdbcn"
   },
   "outputs": [],
   "source": [
    "w:trade[`time]+/: -1 1 //specifing one second before and after the trade"
   ]
  },
  {
   "cell_type": "code",
   "execution_count": null,
   "metadata": {
    "reveal": "abkjhqhdbcn"
   },
   "outputs": [],
   "source": [
    "wj[w;`sym`time;trade;(quote;(max;`ask);(min;`bid))]"
   ]
  },
  {
   "cell_type": "code",
   "execution_count": 51,
   "metadata": {},
   "outputs": [
    {
     "name": "stdout",
     "output_type": "stream",
     "text": [
      "sym time  bid ask ex\n",
      "--------------------\n",
      "IBM 00:04 1.5 1.5 A \n",
      "IBM 00:06 2.5 2.5 A \n",
      "JPM 00:07 3.5 3.5 A \n",
      "JPM 00:10 4.5 4.5 A \n",
      "00:04 00:05 00:09 00:11\n",
      "00:06 00:07 00:11 00:13\n"
     ]
    }
   ],
   "source": [
    "//your answer here\n",
    "show windows:(trade[`time]-1;trade[`time]+1)\n",
    "quote"
   ]
  },
  {
   "cell_type": "code",
   "execution_count": 52,
   "metadata": {},
   "outputs": [
    {
     "name": "stdout",
     "output_type": "stream",
     "text": [
      "sym time  px ex ask bid\n",
      "-----------------------\n",
      "BP  00:05 5  A  -0w 0w \n",
      "IBM 00:06 11 A  2.5 1.5\n",
      "IBM 00:10 8  A  2.5 2.5\n",
      "JPM 00:12 4  B  4.5 4.5\n"
     ]
    }
   ],
   "source": [
    "wj[windows;`sym`time;trade;(quote;(max;`ask);(min;`bid))]"
   ]
  },
  {
   "cell_type": "code",
   "execution_count": null,
   "metadata": {},
   "outputs": [],
   "source": []
  },
  {
   "cell_type": "code",
   "execution_count": null,
   "metadata": {},
   "outputs": [],
   "source": []
  },
  {
   "cell_type": "markdown",
   "metadata": {
    "reveal": "rvcppgfvc4p",
    "reveal-hidden": false,
    "tags": []
   },
   "source": [
    "* Find the average trade price for the two seconds before each trade using a window join"
   ]
  },
  {
   "cell_type": "code",
   "execution_count": 59,
   "metadata": {
    "reveal": "rvcppgfvc4p"
   },
   "outputs": [
    {
     "name": "stdout",
     "output_type": "stream",
     "text": [
      "sym time  px ex\n",
      "---------------\n",
      "BP  00:05 5  A \n",
      "IBM 00:06 11 A \n",
      "IBM 00:10 8  A \n",
      "JPM 00:12 4  B \n",
      "00:04 00:05 00:09 00:11\n",
      "00:05 00:06 00:10 00:12\n"
     ]
    }
   ],
   "source": [
    "show window:trade[`time]+/:-1 0 //specifing 1 second window\n",
    "wj1[window;`sym`time;trade;(trade;(avg;`px))] //price column has been overwritten "
   ]
  },
  {
   "cell_type": "code",
   "execution_count": null,
   "metadata": {
    "reveal": "rvcppgfvc4p"
   },
   "outputs": [],
   "source": [
    "wj1[window;`sym`time;trade;(`sym`time`avgPx`ex xcol trade;(avg;`avgPx))] //renaming px column so we can easily compare"
   ]
  },
  {
   "cell_type": "code",
   "execution_count": 53,
   "metadata": {},
   "outputs": [
    {
     "name": "stdout",
     "output_type": "stream",
     "text": [
      "sym time  px ex\n",
      "---------------\n",
      "BP  00:05 5  A \n",
      "IBM 00:06 11 A \n",
      "IBM 00:10 8  A \n",
      "JPM 00:12 4  B \n"
     ]
    }
   ],
   "source": [
    "//your answer here\n",
    "trade"
   ]
  },
  {
   "cell_type": "code",
   "execution_count": 54,
   "metadata": {},
   "outputs": [
    {
     "name": "stdout",
     "output_type": "stream",
     "text": [
      "sym time  bid ask ex\n",
      "--------------------\n",
      "IBM 00:04 1.5 1.5 A \n",
      "IBM 00:06 2.5 2.5 A \n",
      "JPM 00:07 3.5 3.5 A \n",
      "JPM 00:10 4.5 4.5 A \n"
     ]
    }
   ],
   "source": [
    "quote"
   ]
  },
  {
   "cell_type": "code",
   "execution_count": 62,
   "metadata": {},
   "outputs": [
    {
     "name": "stdout",
     "output_type": "stream",
     "text": [
      "00:03 00:04 00:08 00:10\n",
      "00:05 00:06 00:10 00:12\n"
     ]
    }
   ],
   "source": [
    "show newwindows:(trade[`time]-2;trade[`time])\n"
   ]
  },
  {
   "cell_type": "code",
   "execution_count": 63,
   "metadata": {},
   "outputs": [
    {
     "name": "stdout",
     "output_type": "stream",
     "text": [
      "sym time  px  ex\n",
      "----------------\n",
      "BP  00:05 5   A \n",
      "IBM 00:06 11  A \n",
      "IBM 00:10 9.5 A \n",
      "JPM 00:12 4   B \n"
     ]
    }
   ],
   "source": [
    "wj[newwindows;`sym`time;trade;(trade;(avg;`px))]"
   ]
  },
  {
   "cell_type": "code",
   "execution_count": null,
   "metadata": {},
   "outputs": [],
   "source": []
  }
 ],
 "metadata": {
  "kernelspec": {
   "display_name": "Python 3 (ipykernel)",
   "language": "python",
   "name": "python3"
  },
  "language_info": {
   "codemirror_mode": {
    "name": "ipython",
    "version": 3
   },
   "file_extension": ".py",
   "mimetype": "text/x-python",
   "name": "python",
   "nbconvert_exporter": "python",
   "pygments_lexer": "ipython3",
   "version": "3.11.10"
  },
  "toc": {
   "base_numbering": 1,
   "nav_menu": {},
   "number_sections": true,
   "sideBar": true,
   "skip_h1_title": false,
   "title_cell": "Table of Contents",
   "title_sidebar": "Contents",
   "toc_cell": false,
   "toc_position": {},
   "toc_section_display": true,
   "toc_window_display": false
  }
 },
 "nbformat": 4,
 "nbformat_minor": 4
}
